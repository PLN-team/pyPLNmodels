{
 "cells": [
  {
   "cell_type": "markdown",
   "id": "a7607bf0",
   "metadata": {},
   "source": [
    "This notebook implements many differents solutions for the PLN model. This is more a test of the  differents methods since we are building ourselves the data, and we know the true parameter Sigma and beta. This is just to check the method. The best solution is implemented in the fastPLN.py file for any data. An example is done at the end of the notebook. "
   ]
  },
  {
   "cell_type": "code",
   "execution_count": 1,
   "id": "50bb7f30",
   "metadata": {
    "id": "republican-separation"
   },
   "outputs": [],
   "source": [
    "%load_ext autoreload\n",
    "\n",
    "%autoreload 2"
   ]
  },
  {
   "cell_type": "code",
   "execution_count": 2,
   "id": "344dd127",
   "metadata": {
    "id": "backed-terminology"
   },
   "outputs": [],
   "source": [
    "from utils import Poisson_reg, sample_PLN\n",
    "\n",
    "import matplotlib.pyplot as plt\n",
    "from pandas import read_csv\n",
    "import math \n",
    "import time \n",
    "plt.style.use('ggplot')\n",
    "\n",
    "import threading\n",
    "\n",
    "import numpy as np\n",
    "import seaborn as sns \n",
    "import torch\n",
    "import scipy.linalg as SLA \n",
    "from scipy.linalg import toeplitz \n",
    "from sklearn.linear_model import LinearRegression\n",
    "torch.set_default_dtype(torch.float64)"
   ]
  },
  {
   "cell_type": "code",
   "execution_count": 3,
   "id": "efdde7e1",
   "metadata": {
    "colab": {
     "base_uri": "https://localhost:8080/"
    },
    "id": "Xr3xI2ODaj-L",
    "outputId": "02d2e7ae-c734-4c1a-9ce9-5b3967e58aba"
   },
   "outputs": [
    {
     "name": "stdout",
     "output_type": "stream",
     "text": [
      "device :  cpu\n"
     ]
    }
   ],
   "source": [
    "#get the device. can be used with GPU\n",
    "if torch.cuda.is_available(): \n",
    "    device = torch.device('cuda') \n",
    "else : \n",
    "    device = torch.device('cpu')\n",
    "print('device : ', device)"
   ]
  },
  {
   "cell_type": "code",
   "execution_count": 4,
   "id": "1ef540c8",
   "metadata": {
    "id": "magnetic-scout"
   },
   "outputs": [],
   "source": [
    "class PLN_full():\n",
    "    def __init__(self, class_optimizer = torch.optim.Rprop): \n",
    "        '''\n",
    "            Initialization. We only define some useful stuff. The intialization of the\n",
    "            parameters is done int the init_data() function. \n",
    "        '''\n",
    "        self.old_loss = 1\n",
    "        \n",
    "        self.class_optimizer = class_optimizer\n",
    "        \n",
    "        # some lists to store some stats\n",
    "        self.t0 = time.time()\n",
    "        self.MSE_Sigma_list = list()\n",
    "        self.MSE_beta_list = list()\n",
    "        self.ELBO_list = list()\n",
    "        self.running_times = list()\n",
    "\n",
    "        \n",
    "    def init_data(self,data): \n",
    "        '''\n",
    "        function to extract the data. This function is just here to have a code more compact. We \n",
    "        also intialize the parameters.\n",
    "        \n",
    "        args : \n",
    "              'data': list with 3 elements : Y, O and covariates in this order. \n",
    "        '''\n",
    "        #known variables\n",
    "        self.Y = data[0].to(device);self.O = data[1].to(device);self.covariates = data[2].to(device)\n",
    "        self.n, self.p = self.Y.shape\n",
    "        self.d = self.covariates.shape[1]\n",
    "\n",
    "        #model parameter \n",
    "        noise = torch.randn(self.p)\n",
    "        self.Sigma =  (torch.diag(noise**2)+ 1e-1).to(device) \n",
    "        self.Sigma.requires_grad_(False)#we won't use gradients on Sigma\n",
    "        self.beta = torch.rand((self.d, self.p)).to(device)\n",
    "        self.beta.requires_grad_(True)\n",
    "        #variational parameter\n",
    "        self.M = torch.randn((self.n,self.p)).to(device)\n",
    "        self.M.requires_grad_(True)\n",
    "        self.S = torch.randn((self.n,self.p)).to(device)\n",
    "        self.S.requires_grad_(True)\n",
    "        \n",
    "        # C is a matrix in the model but it is a vector here of size p(p+1)/2 here. It \n",
    "        # is simpler to use this way. It allows us to have only p(p+1)/2 parameters instead of p^2\n",
    "        self.C = torch.clone(mat2vec_lower_tridiag(torch.cholesky(self.Sigma))).to(device)\n",
    "        self.C.requires_grad_(True)\n",
    "        self.requires_tridiag = True \n",
    "        self.params = {'S' : self.S,'M': self.M, 'beta' : self.beta, 'Sigma' : self.Sigma, 'C' : self.C}\n",
    "        \n",
    "        \n",
    "        \n",
    "    ###################### parametrisation centered in X@\\beta, variance CC.T ##############\n",
    "    \n",
    "    \n",
    "    def compute_ELBO(self): \n",
    "        '''\n",
    "        compute the ELBO with the parameter of the model we have extract. \n",
    "        This ELBO uses the parametrization for Z ~ N(XB,Sigma)\n",
    "        '''\n",
    "        return ELBO(self.Y,self.O , self.covariates,self.M ,self.S ,self.C ,self.beta)\n",
    "    \n",
    "    def compute_ELBO_tridiag(self): \n",
    "        '''\n",
    "        same function as above, but the parameter C is a vector here. \n",
    "        it does the same thing but changes C from a vector to a lower tridiagonal Matrix. \n",
    "        '''\n",
    "        return ELBO_tridiag(self.Y,self.O , self.covariates,self.M ,self.S ,self.C ,self.beta)\n",
    "    \n",
    "    def compute_ELBO_Sigma(self): \n",
    "        '''\n",
    "        Computes the ELBO when Sigma is the parameter, (in opposition to C)\n",
    "        '''\n",
    "        return ELBO_Sigma(self.Y,self.O , self.covariates,self.M ,self.S ,self.Sigma ,self.beta)\n",
    "    \n",
    "    \n",
    "    \n",
    "    \n",
    "    ####################### parametrisation centered in 0, variance Sigma  ################\n",
    "    \n",
    "    \n",
    "    \n",
    "    \n",
    "    \n",
    "    def compute_first_ELBO(self):\n",
    "        '''\n",
    "        compute the ELBO with the parametrisation centered in 0 and variance Sigma. \n",
    "        '''\n",
    "        return first_ELBO(self.Y,self.O , self.covariates,self.M ,self.S ,self.Sigma ,self.beta)\n",
    "    def compute_profile_ELBO(self): \n",
    "        '''\n",
    "        compute the ELBO from the profiled formula, \n",
    "        i.e. we replace Sigma with its closed form in the formula. does not \n",
    "        work well in practice.\n",
    "        '''\n",
    "        self.Sigma = first_closed_Sigma(self.M,self.S) # we update Sigma \n",
    "        gain = profile_ELBO(self.Y,self.O,self.covariates,self.M,self.S, self.Sigma,self.beta)\n",
    "        return gain\n",
    "    \n",
    "    \n",
    "    ##################### parametrisation centered in 0 and unit variance ##################\n",
    "    \n",
    "    \n",
    "    \n",
    "    \n",
    "    def compute_ELBO_PCA(self): \n",
    "        '''\n",
    "        compute the ELBO from the PCA parametrization.\n",
    "        '''\n",
    "        return ELBO_PCA(self.Y,self.O , self.covariates,self.M ,self.S ,self.C ,self.beta)\n",
    "    \n",
    "    def compute_ELBO_PCA_tridiag(self): \n",
    "        '''\n",
    "        compute the ELBO when C is a vector that encodes a tridiagonal Matrix \n",
    "        from the PCA parametrisation\n",
    "        '''\n",
    "        matC = vec2mat_lower_tridiag(self.C)\n",
    "        return ELBO_PCA(self.Y,self.O , self.covariates,self.M ,self.S ,matC ,self.beta)\n",
    "    \n",
    "    \n",
    "    ####### parametrisation centered in 0 and unit variance #########\n",
    "    \n",
    "    \n",
    "    \n",
    "    def full_grad_ascent_PCA(self,data, N_epoch = 1000, lr = 0.01,  verbose = True ): \n",
    "        '''\n",
    "        Gradient ascent for all the parameters (M,S,C,beta) with the loss from the PCA\n",
    "        \n",
    "        args : \n",
    "              'data' : list containing in this order Y,O,covariates. \n",
    "              'lr' : float, beginning learning rate for the optimizer \n",
    "              'N_epoch' : int, the number of iteration required. \n",
    "              'verbose' : bool, will pint some stats if True\n",
    "              \n",
    "        returns : None but the parameters are optimized. \n",
    "        '''\n",
    "        self.init_data(data)\n",
    "        self.take_C = True \n",
    "        self.optimizer = self.class_optimizer([self.S,self.M,self.C,self.beta], lr = lr)\n",
    "        \n",
    "        #gradient ascent. no tolerance, we only want to do the number of epochs required \n",
    "        #we don't want a closed form for Sigma since we optimize in C. \n",
    "        self.torch_gradient_ascent(self.optimizer, self.compute_ELBO_PCA_tridiag,self.params,tolerance = 0,  \n",
    "                            N_epoch = N_epoch,verbose = verbose)\n",
    "        \n",
    "        \n",
    "        \n",
    "        \n",
    "    ########## parametrisation centered in X@\\beta, variance C.C.T ###########\n",
    "    \n",
    "\n",
    "    \n",
    "    def full_grad_ascent(self,data, N_epoch = 1000, lr = 0.01,  verbose = True ): \n",
    "        '''\n",
    "        Gradient ascent for all the parameters (M,S,C,beta)\n",
    "        \n",
    "        args : \n",
    "              'data' : list containing in this order Y,O,covariates. \n",
    "              'lr' : float, beginning learning rate for the optimizer \n",
    "              'N_epoch' : int, the number of iteration required. \n",
    "              'verbose' : bool, will pint some stats if True\n",
    "              \n",
    "        returns : None but the parameters are optimized. \n",
    "        '''\n",
    "        self.init_data(data)\n",
    "        self.take_C = True \n",
    "        self.optimizer = self.class_optimizer([self.S,self.M,self.C, self.beta], lr = lr)\n",
    "        \n",
    "        \n",
    "        #gradient ascent. no tolerance, we only want to do the number of epochs required \n",
    "        #we don't want a closed form for Sigma. \n",
    "        self.torch_gradient_ascent(self.optimizer, self.compute_ELBO_tridiag,self.params,tolerance = 0,  \n",
    "                            N_epoch = N_epoch,verbose = verbose)\n",
    "        \n",
    "    def VEM_beta_closed(self, data, Number_VEM_step,N_epoch_max = 20,  lr = 0.03, tolerance = 0.1, verbose = True  ):\n",
    "        '''\n",
    "        VEM where we update beta with its closed form \n",
    "        each N_epoch_max iteration. This is not really a VEM since \n",
    "        we are supposed to do VE and M step alternatively. Here we update (M,S,C)\n",
    "        for N_epoch_max iteration and then update beta.\n",
    "        args : same as above. \n",
    "        '''\n",
    "        self.init_data(data)\n",
    "        self.take_C = True \n",
    "        self.optimizer = self.class_optimizer([self.S,self.M,self.C], lr = lr)\n",
    "        self.beta.requires_grad_(False) # beta won't be optimize here but set to its closed form \n",
    "\n",
    "        for i in range(Number_VEM_step): \n",
    "            #gradient ascent for N_epoch_max iteration maximum. \n",
    "            self.torch_gradient_ascent(self.optimizer, self.compute_ELBO_tridiag ,self.params, \n",
    "                tolerance = tolerance/(i+1), N_epoch = N_epoch_max, verbose = verbose)\n",
    "            if verbose : \n",
    "                print(' i : ', i )\n",
    "            #update beta\n",
    "            with torch.no_grad():\n",
    "                self.beta = closed_beta(self.covariates,self.M)\n",
    "            if verbose and i %50 == 0 : \n",
    "                print('beta closed')\n",
    "                sns.heatmap(self.Sigma)\n",
    "                plt.show()\n",
    "            \n",
    "        \n",
    "    ########## parametrisation centered in X@\\beta and variance Sigma ###############\n",
    "    \n",
    "    \n",
    "    \n",
    "    def profile_grad_ascent(self,data, N_epoch = 1000, lr = 0.01,  verbose = True):\n",
    "        \n",
    "        '''\n",
    "        gradient ascent with the profiled formula. We replace Sigma by the argmax in some part \n",
    "        to avoid computing the inverse of Sigma. does not work well. \n",
    "        args : same as above     \n",
    "        '''\n",
    "        self.extract_data(data)\n",
    "        self.optimizer = self.class_optimizer([self.S,self.M,self.beta], lr = lr)\n",
    "        # we first do one simple gradient ascent to avoid computing the log of zero. (does not work very well yet)\n",
    "        self.torch_gradient_ascent(self.optimizer, self.compute_first_ELBO,self.params,\n",
    "                tolerance = 0 , N_epoch = 20 ,\n",
    "                requires_closed_Sigma= True, verbose = verbose)\n",
    "        \n",
    "        self.torch_gradient_ascent(self.optimizer, self.compute_profile_ELBO,self.params,tolerance = 0,  \n",
    "                            N_epoch = N_epoch,verbose = verbose)\n",
    "    \n",
    "    def VEM_both_closed(self,data,Number_VEM_step,N_epoch_max = 20,  lr = 0.5, tolerance = 0, verbose = True ): \n",
    "        '''\n",
    "        VEM where we use the closed form both of Sigma and beta. As a result, \n",
    "        the M-step is straightforward as we only update beta and sigma with their closed form. \n",
    "        The VE-step uses optimization.\n",
    "        \n",
    "        args : same as above except : \n",
    "              -'tolerance' : float. Threshold \n",
    "              that tells when to stop. If the gain have not improved \n",
    "              of more than tolerance, then we stop the VE step. \n",
    "              The tolerance of the first step will start at tolerance, \n",
    "              but will be decreased at each iteration at a factor of 1/i. \n",
    "              -'Number_VEM_step' int. The number of times we will do a VE and a M step.   \n",
    "        '''\n",
    "        self.take_C = False\n",
    "        self.init_data(data)\n",
    "        self.optimizer = self.class_optimizer([self.S,self.M], lr = lr)\n",
    "        self.beta.requires_grad_(False) # beta won't be optimize here but set to its closed form \n",
    "        for i in range(Number_VEM_step): \n",
    "            # VE step. We choose the gain that uses Sigma and not C. \n",
    "            self.torch_gradient_ascent(self.optimizer, self.compute_ELBO_Sigma,self.params, \n",
    "                            tolerance = tolerance/(i+1),N_epoch = N_epoch_max, verbose = verbose)\n",
    "            #M_step \n",
    "            with torch.no_grad():\n",
    "                self.beta = closed_beta(self.covariates,self.M)\n",
    "                self.Sigma = closed_Sigma(self.M,self.S,self.covariates,self.beta)\n",
    "                \n",
    "            \n",
    "    def VEM_Sigma_closed(self, data, Number_VEM_step,N_epoch_max = 20,  lr = 0.01, tolerance = 0.1, verbose = True  ):\n",
    "        '''\n",
    "        VEM where we update Sigma with its closed form \n",
    "        each N_epoch_max iteration. This is not really a VEM since \n",
    "        we are supposed to do VE and M step alternatively. Here we update (M,S,beta)\n",
    "        for N_epoch_max iteration and then update Sigma.\n",
    "        args : same as above. \n",
    "        '''\n",
    "        self.init_data(data)\n",
    "        self.take_C = False\n",
    "        \n",
    "        self.optimizer = self.class_optimizer([self.S,self.M,self.beta], lr = lr)\n",
    "        for i in range(Number_VEM_step): \n",
    "            self.torch_gradient_ascent(self.optimizer, self.compute_ELBO_Sigma,self.params,\n",
    "                tolerance = tolerance/(i+1), N_epoch = N_epoch_max, verbose = verbose)\n",
    "            with torch.no_grad():\n",
    "                self.Sigma = closed_Sigma(self.M,self.S,self.covariates,self.beta)\n",
    "            if verbose and i %50 == 0: \n",
    "                print('Sigma closed')\n",
    "                sns.heatmap(self.Sigma)\n",
    "                plt.show()\n",
    "                \n",
    "                \n",
    "           \n",
    "    ########## parametrisation centered 0 and variance Sigma ###############\n",
    "                \n",
    "    \n",
    "                \n",
    "    def first_VEM(self, data, Number_VEM_step,N_epoch_max = 20,  lr = 0.01, tolerance = 0.1, verbose = True  ): \n",
    "        '''\n",
    "        VEM where we update Sigma with its closed form.\n",
    "        each N_epoch_max iteration.  We use another parametrisation, the one in PLN_test.ipynb. \n",
    "        This is not really a VEM since \n",
    "        we are supposed to do VE and M step alternatively. Here we update (M,S,beta)\n",
    "        for N_epoch_max iteration and then update Sigma.\n",
    "        args : same as above. \n",
    "        '''\n",
    "        self.init_data(data)\n",
    "        self.take_C = False\n",
    "        self.optimizer = self.class_optimizer([self.S,self.M,self.beta], lr = lr)\n",
    "        for i in range(Number_VEM_step): \n",
    "            self.torch_gradient_ascent(self.optimizer, self.compute_first_ELBO,self.params,\n",
    "                tolerance = tolerance/(i+1), N_epoch = N_epoch_max, verbose = verbose)\n",
    "            with torch.no_grad():\n",
    "                self.Sigma = 1/self.n*(torch.mm(self.M.T,self.M) + torch.diag(torch.sum(torch.multiply(self.S,self.S), dim = 0)))\n",
    "                \n",
    "                \n",
    "    def get_Sigma(self): \n",
    "        '''\n",
    "        simple fucntion to get Sigma. We do this since we are taking either C or Sigma as parameter. \n",
    "        (either Sigma or C will be changed from its initialization value, we take the one \n",
    "        that is being optmized)\n",
    "        '''\n",
    "        if self.take_C : \n",
    "            return vec2mat_lower_tridiag(self.C)\n",
    "        else : \n",
    "            return self.Sigma.detach()\n",
    "        \n",
    "\n",
    "    \n",
    "\n",
    "    # gradient ascent function, core function of the class. \n",
    "    def torch_gradient_ascent(self, optimizer, compute_gain,params, tolerance , N_epoch ,  verbose): \n",
    "        '''\n",
    "        gradient ascent function. We compute the gradients thanks to the autodifferentiation of pytorch. \n",
    "\n",
    "        args : \n",
    "                'optimizer' : torch.optim.optimizer. the optimizer for the parameters. \n",
    "\n",
    "                'compute_gain' : function. It should call the parameters by itself. i.e. we will\n",
    "                                call compute_gain() without any parameter in argument. \n",
    "\n",
    "                       \n",
    "                'tolerance': float. the threshold we set to stop the algorithm. It will \n",
    "                              stop  if we are not improving the loss more than tolerance. \n",
    "                              \n",
    "                'N_epoch': int. the Maximum number of epoch we are ready to do. \n",
    "                \n",
    "\n",
    "                'Verbose' : bool. if True, will print some messages useful to \n",
    "                            interpret the gradient ascent. If False, nothing will be printed. \n",
    " \n",
    "        returns : None \n",
    "        '''\n",
    "        #scheduler = torch.optim.lr_scheduler.ReduceLROnPlateau(optimizer, factor = 0.5,patience = 3)\n",
    "        # we set the gradient to zero just to make sure the gradients are properly calculated\n",
    "        optimizer.zero_grad()\n",
    "\n",
    "        stop_condition = False \n",
    "        i = 0\n",
    "\n",
    "        while i < N_epoch and stop_condition == False: \n",
    "            optimizer.zero_grad()\n",
    "            loss = -compute_gain()\n",
    "            loss.backward()\n",
    "            if torch.isnan(loss).item() == True : \n",
    "                #print('NAN')\n",
    "                pass\n",
    "            optimizer.step()\n",
    "            \n",
    "            delta = self.old_loss - loss.item() \n",
    "            # condition to see if we have reach the tolerance threshold\n",
    "            if  abs(delta) < tolerance :\n",
    "                stop_condition = True \n",
    "            \n",
    "            self.old_loss = loss.item()\n",
    "            \n",
    "            # keep track of the error with Sigma. \n",
    "            \n",
    "            self.MSE_Sigma_list.append(torch.mean((self.get_Sigma()-true_Sigma)**2).item())\n",
    "            self.MSE_beta_list.append(torch.mean((self.beta-true_beta)**2).item())\n",
    "            self.ELBO_list.append(-loss.item())\n",
    "            # print some stats if we want to\n",
    "            if i%100 == 0 and verbose : \n",
    "                print('iteration number: ', i)\n",
    "                print('-------UPDATE-------')\n",
    "                print(' MSE with Sigma : ', np.round(self.MSE_Sigma_list[-1],5))\n",
    "                print(' MSE with beta : ', np.round(self.MSE_beta_list[-1],5))\n",
    "                print('ELBO : ', np.round(-loss.item(),5))\n",
    "                print('Delta : ', delta)\n",
    "                if i % 500 == 21 : \n",
    "                    sns.heatmap(self.Sigma)\n",
    "                    plt.show()\n",
    "            i += 1\n",
    "            #keep track of the time \n",
    "            self.running_times.append(time.time()-self.t0)\n",
    "\n",
    "        # print some stats if we want to \n",
    "        if verbose : \n",
    "            if stop_condition : \n",
    "                print('---------------------------------Tolerance {} reached in {} iterations'.format(tolerance, i))\n",
    "            else : \n",
    "                print('---------------------------------Maximum number of iterations reached : ', N_epoch, 'last delta = ', delta)\n",
    " \n",
    "            print(' MSE with Sigma : ', np.round(self.MSE_Sigma_list[-1],5))\n",
    "            print(' MSE with beta : ', np.round(self.MSE_beta_list[-1],5))\n",
    "        \n",
    "    \n",
    "    ### we will build all the algorithms based on the previous function. The function will \n",
    "    ### basically be the same, we will change the gain considered (depends on the parametrisation we take \n",
    "    ### mainly). We will also update the parameters if we have closed form. \n",
    "    \n",
    "    # we compute here the gradients with respect to all \n",
    "    #the parameters when taking the PCA parametrisation\n",
    "    def gradPCA_S(self):\n",
    "        try : \n",
    "            matC = vec2mat_lower_tridiag(self.C)\n",
    "        except : matC  = self.C \n",
    "        CrondC = torch.multiply(matC,matC)\n",
    "        SrondS = torch.multiply(self.S,self.S)\n",
    "        A = self.O +torch.mm(self.covariates,self.beta) + torch.mm(self.M,matC.T)\n",
    "        first = -1/2*torch.multiply(self.S,torch.mm(torch.exp(A+1/2*torch.mm(SrondS,CrondC.T)),CrondC))\n",
    "        second = torch.div(1,self.S)\n",
    "        third = -self.S\n",
    "        return first + second +third\n",
    "    \n",
    "    def gradPCA_C(self):\n",
    "        try : \n",
    "            matC = vec2mat_lower_tridiag(self.C)\n",
    "        except : matC  = self.C \n",
    "        CrondC = torch.multiply(matC,matC)\n",
    "        SrondS = torch.multiply(self.S,self.S)\n",
    "        first = torch.mm(self.Y.T,self.M) \n",
    "        A = self.O +torch.mm(self.covariates,self.beta) + torch.mm(self.M,matC.T)\n",
    "        exp = torch.exp(A + 1/2*torch.mm(SrondS,CrondC.T))\n",
    "        second = -1/2*torch.mm(exp.T,self.M)-1/2*torch.multiply(matC,torch.mm(exp.T,SrondS))\n",
    "        return first + second\n",
    "    \n",
    "    def gradPCA_beta(self):\n",
    "        try : \n",
    "            matC = vec2mat_lower_tridiag(self.C)\n",
    "        except : matC  = self.C \n",
    "        CrondC = torch.multiply(matC,matC)\n",
    "        SrondS = torch.multiply(self.S,self.S)\n",
    "        first_term = torch.mm(self.covariates.T,self.Y)\n",
    "        second_term = -1/2*torch.mm(\n",
    "                             self.covariates.T,\n",
    "                             torch.exp(self.O+torch.mm(self.covariates,self.beta)+torch.mm(self.M,matC.T)+1/2*torch.mm(SrondS,CrondC.T))\n",
    "                             )\n",
    "        return first_term+second_term\n",
    "    def gradPCA_M(self):\n",
    "        try : \n",
    "            matC = vec2mat_lower_tridiag(self.C)\n",
    "        except : matC  = self.C \n",
    "        CrondC = torch.multiply(matC,matC)\n",
    "        SrondS = torch.multiply(self.S,self.S)\n",
    "        A = self.O +torch.mm(self.covariates,self.beta) + torch.mm(self.M,matC.T)\n",
    "        first = torch.mm(self.Y,matC)\n",
    "        second = -1/2*torch.mm(torch.exp(A+1/2*torch.mm(SrondS,CrondC.T)),matC)\n",
    "        third = -self.M\n",
    "        return first + second+third\n",
    "    \n"
   ]
  },
  {
   "cell_type": "code",
   "execution_count": 5,
   "id": "23363463",
   "metadata": {},
   "outputs": [],
   "source": [
    "# Here are the gradients with the parametrisation centered in X\\beta and variance C@C.T above. \n",
    "# we compute it just as a sanity check since it is computed with pytorch\n",
    "def grad_beta(Y, O, covariates ,M ,S ,C ,beta) : \n",
    "    grad = torch.mm(torch.mm(covariates.T, M-torch.mm(covariates, beta) ), torch.inverse(torch.mm(C,C.T)))\n",
    "    return grad \n",
    "\n",
    "def grad_M(Y, O, covariates ,M ,S ,C ,beta):\n",
    "    grad = Y - torch.exp(O+M+torch.multiply(S,S)/2)-torch.mm(M-torch.mm(covariates,beta), torch.inverse(torch.mm(C,C.T)))\n",
    "    return grad \n",
    "\n",
    "def grad_S(Y, O, covariates ,M ,S ,C ,beta): \n",
    "    return torch.div(1,S)-torch.multiply(S, torch.exp(O+M+torch.multiply(S,S)/2))-torch.mm(S, torch.diag(torch.diag(torch.inverse(torch.mm(C,C.T)))))\n",
    "\n",
    "def grad_C(Y, O, covariates ,M ,S ,C ,beta): \n",
    "    n = Y.shape[0]\n",
    "    CCT = torch.mm(C,C.T)\n",
    "    MmoinsXB = M-torch.mm(covariates, beta) \n",
    "    big_mat = torch.diag(torch.sum(torch.multiply(S,S), dim = 0))+ torch.mm(MmoinsXB.T, MmoinsXB)\n",
    "    return torch.mm(torch.mm(torch.inverse(C),(big_mat +big_mat.T)/2.),torch.inverse(CCT)).T - Y.shape[0]*torch.inverse(C).T\n",
    "\n",
    "def grad_Sigma(Y, O, covariates ,M ,S ,Sigma ,beta): \n",
    "    n = Y.shape[0]\n",
    "    inv_Sigma = torch.inverse(Sigma)\n",
    "    MmoinsXB = M-torch.mm(covariates,beta)\n",
    "    grad = -n/2*(inv_Sigma)\n",
    "    grad += 1/2*torch.mm(torch.mm(inv_Sigma,torch.mm(MmoinsXB.T,MmoinsXB) + torch.diag(torch.sum(torch.multiply(S,S), dim = 0))), inv_Sigma)\n",
    "    return grad\n",
    "    \n",
    "    grad += 1/2*(sum([inv_Sigma@(torch.outer(MmoinsXB[i,:],MmoinsXB[i,:])+ torch.diag(torch.multiply(S,S)[i,:]))@inv_Sigma \n",
    "                      for i in range(n)]))\n",
    "    return grad"
   ]
  },
  {
   "cell_type": "code",
   "execution_count": 6,
   "id": "1a431dfc",
   "metadata": {},
   "outputs": [],
   "source": [
    "#we define some closed forms for the update\n",
    "def closed_Sigma(M,S,covariates,beta):\n",
    "    '''\n",
    "    closed form for Sigma with the first parametrisation centered in X\\beta and variance Sigma \n",
    "    '''\n",
    "    n,p = M.shape\n",
    "    MmoinsXB = M-torch.mm(covariates,beta)\n",
    "    return 1/(n)*(torch.mm(MmoinsXB.T,MmoinsXB) + torch.diag(torch.sum(torch.multiply(S,S), dim = 0)))\n",
    "\n",
    "    \n",
    "def first_closed_Sigma(M,S): \n",
    "    '''\n",
    "    closed form for Sigma with the parametrisation of the first notebook\n",
    "    '''\n",
    "    n = M.shape[0]\n",
    "    return 1/n*(torch.mm(M.T,M) + torch.diag(torch.sum(torch.multiply(S,S), dim = 0))) \n",
    "                          \n",
    "def closed_beta(X,M): # the X is the covariates. \n",
    "    '''\n",
    "    closed form for beta with the first parametrisation above\n",
    "    '''\n",
    "    return torch.mm(torch.mm(torch.inverse(torch.mm(X.T,X)), X.T),M)"
   ]
  },
  {
   "cell_type": "code",
   "execution_count": 7,
   "id": "58289c40",
   "metadata": {
    "id": "celtic-print"
   },
   "outputs": [],
   "source": [
    "#Here we compute the ELBO for all the different parametrization\n",
    "\n",
    "\n",
    "######## Parametrisation centered in 0 and unit variance #########\n",
    "def ELBO_PCA(Y, O,covariates ,M ,S ,C ,beta): \n",
    "    '''\n",
    "    compute the ELBO from the PCA parametrisation. \n",
    "    '''\n",
    "    A = O + torch.mm(covariates,beta)+torch.mm(M,C.T)\n",
    "    SrondS = torch.multiply(S,S)\n",
    "    first = torch.sum(torch.multiply(Y,A))\n",
    "    second = torch.sum(-1/2*torch.exp(A + 1/2*torch.mm(SrondS,torch.multiply(C,C).T)))\n",
    "    third = torch.sum(+1/2*torch.log(SrondS))\n",
    "    fourth = torch.sum(-1/2*(torch.multiply(M,M)+torch.multiply(S,S)))\n",
    "    return first +second + third + fourth\n",
    "\n",
    "\n",
    "###### parametrisation centered in X@beta and variance C@C.T ######\n",
    "\n",
    "\n",
    "\n",
    "def ELBO(Y, O,covariates ,M ,S ,C ,beta): \n",
    "    '''\n",
    "    compute the ELBO of the parameters. We use the formula below. (J_{\\theta,q})\n",
    "    '''\n",
    "\n",
    "    n = Y.shape[0]\n",
    "    #store some matrices to avoid compute it many times. \n",
    "    SrondS = torch.multiply(S,S)\n",
    "    OplusM = O+M\n",
    "    MmoinsXB = M-torch.mm(covariates, beta) \n",
    "    #formula below \n",
    "    tmp = torch.sum(  torch.multiply(Y, OplusM)  -torch.exp(OplusM+SrondS/2) +1/2*torch.log(SrondS))\n",
    "    \n",
    "    tmp -= 1/2*torch.trace(  \n",
    "                            torch.mm(  \n",
    "                                        torch.inverse(torch.mm(C,C.T)), \n",
    "                                        torch.diag(torch.sum(SrondS, dim = 0))+ torch.mm(MmoinsXB.T, MmoinsXB)\n",
    "                                    )\n",
    "                          )\n",
    "    tmp-= n*torch.log(torch.det(C))\n",
    "    \n",
    "    return tmp \n",
    "\n",
    "def ELBO_tridiag(Y, O,covariates ,M ,S ,vectC ,beta):\n",
    "    '''\n",
    "    Same as ELBO, but the parameter C in argument is a vector. \n",
    "    We only need to covert it to a matrix and then compute the ELBO with this matrix.\n",
    "    '''\n",
    "    matC = vec2mat_lower_tridiag(vectC)\n",
    "    return ELBO(Y, O,covariates ,M ,S ,matC ,beta)\n",
    "\n",
    "\n",
    "####### parametrisation centered in 0 and Variance Sigma ##########\n",
    "\n",
    "\n",
    "\n",
    "\n",
    "def first_ELBO(Y, O, covariates,M,S,Sigma,beta): \n",
    "    ''' \n",
    "    computes the ELBO. We simply apply the formula given above. \n",
    "    '''\n",
    "    n = Y.shape[0]\n",
    "    inv_Sigma = torch.inverse(Sigma)\n",
    "    Gram_matrix = torch.mm(covariates,beta) \n",
    "    help_calculus = O + Gram_matrix + M \n",
    "    SrondS = torch.multiply(S,S)\n",
    "    tmp = -n/2*torch.log(torch.det(Sigma)) #-1/2*( torch.sum(torch.mm(torch.mm(M,inv_Sigma),M.T).diagonal()))\n",
    "    tmp += torch.sum(-torch.exp(help_calculus+ SrondS/2) + torch.multiply(Y, help_calculus))\n",
    "    tmp -= 1/2*torch.trace(torch.mm(torch.mm(M.T, M) + torch.diag(torch.sum(SrondS, dim = 0)), inv_Sigma))\n",
    "    tmp += 1/2*torch.sum(torch.log(SrondS))\n",
    "    return tmp\n",
    "\n",
    "def profile_ELBO(Y, O, covariates,M,S,Sigma,beta): \n",
    "    '''\n",
    "    computes the profiled ELBO. We replaced Sigma with its closed form to \n",
    "    avoid computing the inverse of Sigma. Should be faster, but does not work very well in practice. \n",
    "    Indeed, we have some nan values that appears for large values of p. \n",
    "    '''\n",
    "    n = Y.shape[0]\n",
    "    Gram_matrix = torch.mm(covariates,beta) \n",
    "    help_calculus = O + Gram_matrix + M \n",
    "    SrondS = torch.multiply(S,S)\n",
    "    J = -n/2*torch.log(torch.det(Sigma))\n",
    "    J  += torch.sum(-torch.exp(help_calculus+ SrondS/2) + torch.multiply(Y, help_calculus))\n",
    "    J-= n*p/2\n",
    "    J += 1/2*torch.sum(torch.log(SrondS))\n",
    "    return J \n",
    "\n",
    "\n",
    "########## parametrisation centered in X@beta and variance Sigma #########\n",
    "\n",
    "\n",
    "\n",
    "def ELBO_Sigma(Y, O,covariates ,M ,S ,Sigma ,beta):\n",
    "    '''\n",
    "    Same as ELBO but the parameter is not C but Sigma. basically, we will replace \n",
    "    CC.T by Sigma \n",
    "    '''\n",
    "    n = Y.shape[0]\n",
    "    SrondS = torch.multiply(S,S)\n",
    "    OplusM = O+M\n",
    "    MmoinsXB = M-torch.mm(covariates, beta) \n",
    "    tmp = torch.sum(  torch.multiply(Y, OplusM)  -torch.exp(OplusM+SrondS/2) +1/2*torch.log(SrondS))\n",
    "    tmp -= 1/2*torch.trace(  \n",
    "                            torch.mm(  \n",
    "                                        torch.inverse(Sigma), \n",
    "                                        torch.diag(torch.sum(SrondS, dim = 0))+ torch.mm(MmoinsXB.T, MmoinsXB)\n",
    "                                    )\n",
    "                          )\n",
    "    tmp-= n/2*torch.log(torch.det(Sigma))\n",
    "    return tmp"
   ]
  },
  {
   "cell_type": "markdown",
   "id": "8dfc20d5",
   "metadata": {
    "id": "diverse-knife"
   },
   "source": [
    "Parametrisation centered in $X\\beta$ and variance $C$ \n",
    "$$\\boxed{\\begin{align} J_{\\theta, q}(Y) &=\\mathbb{1}_n^{\\top}\\left(Y \\odot(O+M)-\\frac{1}{2} \\exp \\left(O+M+\\frac{S\\odot S}{2}\\right) + \\frac 12 \\log (S \\odot S) \\right)\\mathbb{1}_p \\\\\n",
    "& \\quad  - \\frac 12\\operatorname{tr}\\left((CC^{\\top})^{-1}\\left(\\operatorname{diag}(\\mathbb{1}_n^{\\top} (S\\odot S))+(M-X \\beta)^{\\top}(M-X \\beta)\\right)\\right) \\\\\n",
    "& \\quad  - n \\log |C|+ cst \n",
    "\\end{align}}$$\n",
    "\n",
    "--------------\n",
    "Parametrisation centered in $X\\beta$ and variance $\\Sigma$ \n",
    "$$\\boxed{\\begin{align} J_{\\theta, q}(Y) &=\\mathbb{1}_n^{\\top}\\left(Y \\odot(O+M)-\\frac{1}{2} \\exp \\left(O+M+\\frac{S\\odot S}{2}\\right) + \\frac 12 \\log (S \\odot S) \\right)\\mathbb{1}_p \\\\\n",
    "& \\quad  - \\frac 12\\operatorname{tr}\\left(\\Sigma^{-1}\\left(\\operatorname{diag}(\\mathbb{1}_n^{\\top} (S\\odot S))+(M-X \\beta)^{\\top}(M-X \\beta)\\right)\\right) \\\\\n",
    "& \\quad  - \\frac n2 \\log |\\Sigma|+ cst \n",
    "\\end{align}}$$"
   ]
  },
  {
   "cell_type": "markdown",
   "id": "788e1c23",
   "metadata": {
    "id": "architectural-catch"
   },
   "source": [
    "Parametrisation centered in 0 and unit variance. \n",
    "$$ \n",
    "\\boxed{\\begin{align}\\tilde J_{\\sigma, q}(Y) & = 1_{n}^{\\top}\\left(Y \\odot (O+X \\beta+MC^{\\top}) - \\frac{1}{2} \\operatorname{exp}\\left(O+X\\beta+MC^{\\top}+\\frac{ (S \\odot S)(C\\odot C)^{\\top}}{2}\\right)+ \\frac 12 \n",
    "\\log S\\odot S \\right)1_{p} \\\\\n",
    "                                            &  - \\frac 12 \\operatorname{tr}\\left(\\operatorname{diag}(\\mathbb{1}_n^{\\top} (S\\odot S))+M^{\\top}M\\right) \\\\ \n",
    "                    \\end{align} }\n",
    "$$"
   ]
  },
  {
   "cell_type": "code",
   "execution_count": 160,
   "id": "acc29f7d",
   "metadata": {
    "id": "unlikely-benchmark",
    "scrolled": true
   },
   "outputs": [],
   "source": [
    "def launch_optimizers(dict_optimizers,N_iter, lr):\n",
    "    '''\n",
    "    launch some optimizers to compare them after. \n",
    "    args : \n",
    "         dict_optimizer : dictionnarie. dict that contains the optimizer. example: {'Rprop': torch.optim.Rprop}\n",
    "         \n",
    "         N_iter : int. the number of iteration you want the models to do for each optimizer. \n",
    "         \n",
    "         lr : float. the learning rate of each optimizer.\n",
    "    '''\n",
    "    ts = list()\n",
    "    models = list()\n",
    "    Nb_each_iter = 20 \n",
    "    for name, optimizer in dict_optimizers.items(): \n",
    "        model = PLN_full(class_optimizer = optimizer)\n",
    "        t = threading.Thread(target =model.full_grad_ascent_PCA,\n",
    "              args = [data, N_iter          ,lr     , False] )\n",
    "        #t = threading.Thread(target =model.VEM_both_closed,\n",
    "        #      args = [data, N_iter           ,Nb_each_iter      , lr,  0.01 , False] )\n",
    "        t.start()\n",
    "        ts.append(t)\n",
    "        models.append(model)\n",
    "    for t in ts : \n",
    "        t.join()\n",
    "    return dict(zip(dict_optimizers.keys(), models))\n",
    "\n",
    "def launch_lr(dict_lr,N_iter, optimizer = torch.optim.Rprop): \n",
    "    '''\n",
    "    launch some optimizers to compare them after. \n",
    "    args : \n",
    "         dict_lr : dictionnarie. dict that contains the optimizer. example: {'Rprop': torch.optim.Rprop}\n",
    "         \n",
    "         N_iter : int. the number of iteration you want the models to do for each optimizer. \n",
    "         \n",
    "         optimizer : the optimizer we want to use for the model\n",
    "    '''\n",
    "    ts = list()\n",
    "    models = list()\n",
    "    Nb_each_iter = 1\n",
    "    for name, lr in dict_lr.items(): \n",
    "        model = PLN_full(class_optimizer = optimizer)\n",
    "        #t = threading.Thread(target =model.full_grad_ascent_PCA, ## uncomment this if you want to use the PCA\n",
    "        #      args = [data, N_iter          ,lr     , False] )   ## parametrization.\n",
    "        t = threading.Thread(target =model.VEM_both_closed,\n",
    "              args = [data, N_iter, Nb_each_iter,       lr,  0 , False] )\n",
    "        t.start()\n",
    "        ts.append(t)\n",
    "        models.append(model)\n",
    "    for t in ts : \n",
    "        t.join()\n",
    "        \n",
    "    return dict(zip(dict_lr.keys(), models))\n",
    "\n",
    "\n",
    "\n",
    "\n",
    "    \n",
    "def show_Sigma(dict_model): \n",
    "    for name,model in dict_model.items():\n",
    "        print('model : ', name)\n",
    "        try : \n",
    "            sns.heatmap(model.get_Sigma())\n",
    "            plt.show()\n",
    "            print(' MSE : ', np.mean((model.get_Sigma()- true_Sigma.numpy())**2))\n",
    "        except : pass \n",
    "    print('true Sigma : ', sns.heatmap(true_Sigma.numpy()))\n",
    "    \n",
    "\n",
    "\n",
    "def launch_models(class_optim,N_iter, lr,Nb_each_iter = 8): \n",
    "    ''' \n",
    "    launch all the models. we use parallelization to go faster. \n",
    "    args : \n",
    "        class_optim : class of optimizer. should be torch.optim.Rprop for instance. \n",
    "        lr : float. learing rate of the optimizer. \n",
    "        Nb_each_iter : int. the number of iteration for each VEM step. \n",
    "    '''\n",
    "    model_VEM_beta = PLN_full( class_optimizer = class_optim)\n",
    "    model_VEM_Sigma = PLN_full( class_optimizer = class_optim)\n",
    "    model_VEM_both = PLN_full(class_optimizer = class_optim)\n",
    "    model_full = PLN_full( class_optimizer = class_optim)\n",
    "    model_PCA = PLN_full(class_optimizer = class_optim)\n",
    "    model_first = PLN_full(class_optimizer = class_optim)\n",
    "    model_profile = PLN_full(class_optimizer = class_optim)\n",
    "    \n",
    "    t_beta = threading.Thread(target =model_VEM_beta.VEM_beta_closed, \n",
    "              args = [data, N_iter           ,Nb_each_iter            ,1/3*lr            , 0.1, False] )\n",
    "                     #data, Number_VEM_step,N_epoch_max = 20, lr = 0.01, tolerance = 0.1, verbose = True\n",
    "\n",
    "    t_Sigma = threading.Thread(target =model_VEM_Sigma.VEM_Sigma_closed,\n",
    "              args = [data, N_iter           ,Nb_each_iter     ,lr, 0.1             , False] )\n",
    "                     #data, Number_VEM_step,N_epoch_max = 20, lr = 0.01, tolerance = 0.1, verbose = True\n",
    "\n",
    "    t_both = threading.Thread(target =model_VEM_both.VEM_both_closed,\n",
    "              args = [data, N_iter           ,Nb_each_iter      , lr,  0.1 , True] )\n",
    "                     #data, Number_VEM_step,N_epoch_max = 20, lr = 0.01, tolerance = 0.1, verbose = True\n",
    "\n",
    "    t_full = threading.Thread(target =model_full.full_grad_ascent,\n",
    "              args = [data, N_iter*8           ,lr     , False] )\n",
    "                     #data, N_epoch = 1000, lr = 0.03,  verbose = True ): \n",
    "\n",
    "    t_PCA = threading.Thread(target =model_PCA.full_grad_ascent_PCA, \n",
    "             args = [data,  N_iter*8,   lr,              False])\n",
    "    t_first =  threading.Thread(target =model_first.first_VEM,\n",
    "              args = [data, N_iter           ,Nb_each_iter              ,lr     , 0.1             , False] )\n",
    "\n",
    "    t_profile = threading.Thread(target = model_profile.profile_grad_ascent, \n",
    "                        args =[data, N_iter*13, 3*lr, False ] )\n",
    "\n",
    "    t0 = time.time()\n",
    "    \n",
    "    \n",
    "    #we launch all the models\n",
    "    t_beta.start()\n",
    "    t_Sigma.start()\n",
    "    t_both.start()\n",
    "    t_full.start()\n",
    "    t_PCA.start()\n",
    "    t_first.start()\n",
    "    #t_profile.start()\n",
    "\n",
    "    \n",
    "    #we wait for the models to finish\n",
    "    t_beta.join()\n",
    "    t_Sigma.join()\n",
    "    t_both.join()\n",
    "    t_full.join()\n",
    "    t_PCA.join()\n",
    "    #t_profile.join()\n",
    "    t_first.join()\n",
    "    print('Execution time : ', time.time()-t0)\n",
    "\n",
    "    dict_models = {'1' :model_VEM_both,'2' : model_full,'3' : model_first, \n",
    "                   '4' : model_VEM_Sigma,'5': model_PCA , '6' : model_VEM_beta\n",
    "                  }\n",
    "    return dict_models\n",
    "\n",
    "def compare_models(dict_models,name_doss, percentage_kept = 1, save = False):\n",
    "    '''\n",
    "    function to compare models. It will plot the MSE of Sigma and beta according to the true parameters and \n",
    "    the ELBO in the y axis with the runtime in the x-axis.\n",
    "    \n",
    "    args : \n",
    "        'dict_models' dict with key the name of the model and values the model.\n",
    "        'name_doss' : str. the name of the file you want to save the graphic. \n",
    "        'percentage_kept' float . should be positive and lower than 1\n",
    "        'save' : bool. If True, the graphic will be saved. If false, won't be saved. \n",
    "        \n",
    "    returns : \n",
    "            None but displays the figure. you can save the figure if you uncomment the last line. \n",
    "    '''\n",
    "    \n",
    "    fig,ax = plt.subplots(3,1,figsize = (15,12))\n",
    "    plt.subplots_adjust(hspace = 0.4)\n",
    "    for name,model in dict_models.items() : \n",
    "        \n",
    "        d = model.beta.shape[0]\n",
    "\n",
    "        abscisse = model.running_times\n",
    "        ax[0].plot(abscisse, model.MSE_Sigma_list, label = name)\n",
    "        \n",
    "        ax[1].plot(abscisse, model.MSE_beta_list, label = name)\n",
    "        \n",
    "        length = len(abscisse)\n",
    "        ax[2].plot(abscisse[-int(length*percentage_kept):], model.ELBO_list[-int(length*percentage_kept):], label = name )\n",
    "\n",
    "        \n",
    "    \n",
    "    \n",
    "    ax[0].axhline(best_MSE_Sigma, label = 'MLE latent layer ', c = 'red', linestyle = '--')\n",
    "    ax[0].legend()\n",
    "    ax[0].set_title(r'MSE $(\\Sigma-\\hat \\Sigma)$')\n",
    "    ax[0].set_xlabel('Seconds')\n",
    "    ax[0].set_ylabel('MSE')\n",
    "    ax[0].set_yscale('log')\n",
    "    \n",
    "    \n",
    "    ax[1].axhline(best_MSE_beta, label = 'MLE latent layer', c = 'red', linestyle = '--')\n",
    "    ax[1].legend()\n",
    "    ax[1].set_xlabel('Seconds')\n",
    "    ax[1].set_ylabel('MSE')\n",
    "    ax[1].set_yscale('log')\n",
    "    ax[1].set_title(r'MSE $(\\beta- \\hat {\\beta})$') \n",
    "\n",
    "    ax[2].legend()\n",
    "    ax[2].set_title('ELBO')\n",
    "    ax[2].set_ylabel('ELBO')\n",
    "    ax[2].set_xlabel('Seconds')\n",
    "    ax[2].set_yscale('symlog')\n",
    "    \n",
    "    if save : \n",
    "        plt.savefig(name_doss)\n",
    "    plt.show()"
   ]
  },
  {
   "cell_type": "markdown",
   "id": "4f25b716",
   "metadata": {},
   "source": [
    "both closed : 1 \n",
    "full param : 2\n",
    "first_vem : 3\n",
    "sigma_closed: 4\n",
    "PCA : 5\n",
    "beta clossed : 6\n",
    "        "
   ]
  },
  {
   "cell_type": "code",
   "execution_count": 161,
   "id": "03b411bd",
   "metadata": {
    "id": "silent-protocol"
   },
   "outputs": [],
   "source": [
    "def vec2mat_lower_tridiag(vectC):\n",
    "    '''\n",
    "    transform a vector of size (n(n+1)/2) into a lower tridiagonal matrix of size (n,n). \n",
    "    \n",
    "    args : 'vectC' vector of size (n*(n+1)/2)\n",
    "    \n",
    "    returns 'matC' : matrice of size(n,n). Its lower tridiagonal will be computed from \n",
    "            vectC as follows : \n",
    "            for all i < n : - matC[i,i] = out[i*(i+1)/2]\n",
    "                            - matC[i+1, 0] = out[i*(i+1)/2 + 1]\n",
    "            matC[n,n] = out[n*(n+1)/2] \n",
    "            \n",
    "            see torch.tril_indices for more \n",
    "            \n",
    "    Note that if x is an array of size (n*(n+1)/2) for any integer n, \n",
    "    then mat2vec_lower_tridiag(vec2mac_lower_trig(x)) = x \n",
    "    '''\n",
    "    somme_entiers = vectC.shape[0]\n",
    "    n = int((-1+math.sqrt(1+8*somme_entiers))/2)\n",
    "    mask = torch.tril_indices(n,n).unbind()\n",
    "    matC = torch.zeros((n,n)).to(device)\n",
    "    matC[mask] = vectC\n",
    "    return matC\n",
    "\n",
    "def mat2vec_lower_tridiag(matC): \n",
    "    '''\n",
    "    extract the lower tridiagonal of a matrice. returns a vector. \n",
    "    \n",
    "    args : 'matC' : A squared matrices of float. \n",
    "    \n",
    "    returns : a vector of size(n*(n+1)/2) where n is the first (or second) size of matC. \n",
    "              It is computed as the following : \n",
    "              for all i < n : -out[i*(i+1)/2] = matC[i,i]\n",
    "                              -out[i*(i+1)/2 + 1] = matC[i+1, 0]\n",
    "              out[n*(n+1)/2] = matC[n,n]\n",
    "              \n",
    "    Note that if x is an array of size (n*(n+1)/2) for any integer n, \n",
    "    then mat2vec_lower_tridiag(vec2mac_lower_trig(x)) = x \n",
    "    \n",
    "    see torch.tril_indices for more \n",
    "    '''\n",
    "    n = matC.shape[0]\n",
    "    mask = torch.tril_indices(n,n).unbind()\n",
    "    return matC[mask]\n",
    "\n",
    "def build_block_Sigma(p,k): \n",
    "    '''\n",
    "    build a matrix per block of size (p,p). There will be k+1 blocks of size p//k.\n",
    "    The first k ones will be the same size. The last one will be smaller (size (0,0) if k%p = 0)\n",
    "    '''\n",
    "    torch.manual_seed(0)\n",
    "    alea = torch.randn(k+1)**2+2# will multiply each block by some random quantities \n",
    "    Sigma = torch.zeros(p,p)\n",
    "    block_size,last_block_size = p//k, p%k\n",
    "    coef_toep = 0.9\n",
    "    for i in range(k): \n",
    "        Sigma[i*block_size : (i+1)*block_size ,i*block_size : (i+1)*block_size] = alea[i]*torch.from_numpy(toeplitz(coef_toep**np.arange(block_size)))\n",
    "    if last_block_size >0 :\n",
    "        Sigma[-last_block_size:,-last_block_size:] = alea[k]*torch.from_numpy(toeplitz(coef_toep**np.arange(last_block_size)))\n",
    "    return Sigma+0.1*torch.from_numpy(toeplitz(0.95**np.arange(p)))"
   ]
  },
  {
   "cell_type": "markdown",
   "id": "187f20dd",
   "metadata": {
    "id": "extraordinary-tunnel"
   },
   "source": [
    "# Data generation"
   ]
  },
  {
   "cell_type": "code",
   "execution_count": 162,
   "id": "74096e5e",
   "metadata": {
    "id": "earlier-samba"
   },
   "outputs": [],
   "source": [
    "d = 4 # nb of cavariates\n",
    "n = 4000; p = 200"
   ]
  },
  {
   "cell_type": "markdown",
   "id": "4d2528f7",
   "metadata": {
    "id": "upset-employment"
   },
   "source": [
    "## Generate the true parameters and some data according to the true parameters. "
   ]
  },
  {
   "cell_type": "code",
   "execution_count": 163,
   "id": "ed268c48",
   "metadata": {
    "id": "remarkable-amino"
   },
   "outputs": [],
   "source": [
    "#torch.manual_seed(0)\n",
    "#true_Sigma = torch.from_numpy(toeplitz(0.6**np.arange(p)))\n",
    "true_Sigma = build_block_Sigma(p,4).to(device)\n",
    "true_C = torch.cholesky(true_Sigma)\n",
    "true_beta = torch.randn(d, p).to(device)\n",
    "\n",
    "covariates = torch.rand((n,d))/1\n",
    "O =  0+torch.zeros((n,p))\n",
    "\n",
    "sample_model = sample_PLN()\n",
    "Y_sampled, Z_sampled  = sample_model.sample(true_Sigma.to(torch.device('cpu')),true_beta.to(torch.device('cpu')), O, covariates)\n",
    "Y_sampled = torch.from_numpy(Y_sampled)\n",
    "data = [Y_sampled.double(), O, covariates]"
   ]
  },
  {
   "cell_type": "code",
   "execution_count": null,
   "id": "9c5376be",
   "metadata": {},
   "outputs": [
    {
     "name": "stdout",
     "output_type": "stream",
     "text": [
      "iteration number:  0\n",
      "-------UPDATE-------\n",
      " MSE with Sigma :  0.77114\n",
      " MSE with beta :  1.42367\n",
      "ELBO :  -109288716.04225\n",
      "Delta :  -109288715.04224865\n"
     ]
    }
   ],
   "source": [
    "dict_models_Rprop = launch_models(torch.optim.Rprop,N_iter = 5, lr = 0.5)"
   ]
  },
  {
   "cell_type": "code",
   "execution_count": 159,
   "id": "0101310b",
   "metadata": {
    "scrolled": true
   },
   "outputs": [
    {
     "data": {
      "image/png": "[encoded data removed]",
      "text/plain": [
       "<Figure size 1080x864 with 3 Axes>"
      ]
     },
     "metadata": {},
     "output_type": "display_data"
    }
   ],
   "source": [
    "compare_models(dict_models_Rprop,'',percentage_kept = 0.2)"
   ]
  },
  {
   "cell_type": "markdown",
   "id": "48bb21d0",
   "metadata": {},
   "source": [
    "### Here we print the MLE for $\\beta$ and $\\Sigma$ in the latent layer \n",
    "Note that in practice we don't have access to the latent layer, but here we do since we generate the data ourselves. \n",
    "\n",
    "## $\\Sigma$ MLE"
   ]
  },
  {
   "cell_type": "code",
   "execution_count": 105,
   "id": "0bfc6296",
   "metadata": {
    "colab": {
     "base_uri": "https://localhost:8080/",
     "height": 591
    },
    "id": "contemporary-graham",
    "outputId": "a9ff2e0e-b2f3-4500-b352-2c8112882239"
   },
   "outputs": [
    {
     "name": "stdout",
     "output_type": "stream",
     "text": [
      "MLE :\n"
     ]
    },
    {
     "data": {
      "image/png": "[encoded data removed]",
      "text/plain": [
       "<Figure size 432x288 with 2 Axes>"
      ]
     },
     "metadata": {},
     "output_type": "display_data"
    },
    {
     "name": "stdout",
     "output_type": "stream",
     "text": [
      "true Sigma\n"
     ]
    },
    {
     "data": {
      "image/png": "[encoded data removed]",
      "text/plain": [
       "<Figure size 432x288 with 2 Axes>"
      ]
     },
     "metadata": {},
     "output_type": "display_data"
    },
    {
     "name": "stdout",
     "output_type": "stream",
     "text": [
      "Best MSE we can have (in our dream):  tensor(0.0756)\n"
     ]
    }
   ],
   "source": [
    "## Here we plot the MLE for Z the latent variables. They are unknown in practice\n",
    "## this is just to see the difference between our result and the best result possible \n",
    "mu_MLE = torch.mean(Z_sampled, dim = 0)\n",
    "m = mu_MLE.shape[0]\n",
    "Sigma_MLE = 1/Z_sampled.shape[0]*((Z_sampled-mu_MLE).T)@(Z_sampled-mu_MLE)\n",
    "print('MLE :')\n",
    "sns.heatmap(Sigma_MLE.to(torch.device('cpu')))\n",
    "plt.show()\n",
    "print('true Sigma')\n",
    "sns.heatmap(true_Sigma.to(torch.device('cpu')))\n",
    "plt.show()\n",
    "best_MSE_Sigma = torch.mean((Sigma_MLE.to(device)-true_Sigma)**2)\n",
    "print('Best MSE we can have (in our dream): ', best_MSE_Sigma)"
   ]
  },
  {
   "cell_type": "markdown",
   "id": "572bb0e7",
   "metadata": {},
   "source": [
    "### $\\beta$ MLE"
   ]
  },
  {
   "cell_type": "code",
   "execution_count": 142,
   "id": "98112214",
   "metadata": {},
   "outputs": [
    {
     "name": "stdout",
     "output_type": "stream",
     "text": [
      "MSE beta in the latent layer:  tensor(9.9291)\n"
     ]
    }
   ],
   "source": [
    "target = Z_sampled+ torch.mm(covariates,true_beta)\n",
    "\n",
    "clf = LinearRegression()\n",
    "clf.fit(covariates,target)\n",
    "beta_dream = torch.from_numpy(clf.coef_.T)\n",
    "best_MSE_beta = torch.mean((beta_dream-true_beta)**2)\n",
    "print('MSE beta in the latent layer: ', best_MSE_beta)"
   ]
  },
  {
   "cell_type": "markdown",
   "id": "48b6de50",
   "metadata": {},
   "source": [
    "## best model : closed form for $\\beta$ and $\\Sigma$"
   ]
  },
  {
   "cell_type": "code",
   "execution_count": null,
   "id": "88a64d28",
   "metadata": {},
   "outputs": [],
   "source": [
    "best_model = PLN_full()\n",
    "%time best_model.VEM_both_closed(data,Number_VEM_step =30,verbose=True, lr = 1)"
   ]
  },
  {
   "cell_type": "markdown",
   "id": "14a9c07b",
   "metadata": {
    "id": "billion-bidding"
   },
   "source": [
    "## Comparison \n",
    "\n",
    "### We have many hyperparameters for the model, such as the learning rate, the optimizer, the parametrization  and the choice of the closed form update. We use threadings to go faster.  Allows to launch all the models at the same time. "
   ]
  },
  {
   "cell_type": "markdown",
   "id": "bb57cdd7",
   "metadata": {},
   "source": [
    "# Comparison of optimizer  "
   ]
  },
  {
   "cell_type": "code",
   "execution_count": 16,
   "id": "a016b720",
   "metadata": {
    "id": "impossible-jewel"
   },
   "outputs": [],
   "source": [
    "dict_optimizers = {'Adadelta': torch.optim.Adadelta, \n",
    "                   'Adam': torch.optim.Adam, \n",
    "                   'Adagrad' : torch.optim.Adagrad,\n",
    "                   'Adamax' : torch.optim.Adamax,\n",
    "                  'Rprop' : torch.optim.Rprop, \n",
    "                   'RMSprop' : torch.optim.RMSprop}"
   ]
  },
  {
   "cell_type": "code",
   "execution_count": 17,
   "id": "bedbd361",
   "metadata": {
    "id": "encouraging-skiing"
   },
   "outputs": [
    {
     "ename": "NameError",
     "evalue": "name 'data' is not defined",
     "output_type": "error",
     "traceback": [
      "\u001b[0;31m---------------------------------------------------------------------------\u001b[0m",
      "\u001b[0;31mNameError\u001b[0m                                 Traceback (most recent call last)",
      "\u001b[0;32m<ipython-input-17-1a4704451cf7>\u001b[0m in \u001b[0;36m<module>\u001b[0;34m\u001b[0m\n\u001b[0;32m----> 1\u001b[0;31m \u001b[0mdict_model_optim\u001b[0m \u001b[0;34m=\u001b[0m \u001b[0mlaunch_optimizers\u001b[0m\u001b[0;34m(\u001b[0m\u001b[0mdict_optimizers\u001b[0m\u001b[0;34m,\u001b[0m\u001b[0;36m10000\u001b[0m\u001b[0;34m,\u001b[0m\u001b[0;36m0.1\u001b[0m\u001b[0;34m)\u001b[0m\u001b[0;34m\u001b[0m\u001b[0;34m\u001b[0m\u001b[0m\n\u001b[0m",
      "\u001b[0;32m<ipython-input-8-f3a112da7e40>\u001b[0m in \u001b[0;36mlaunch_optimizers\u001b[0;34m(dict_optimizers, N_iter, lr)\u001b[0m\n\u001b[1;32m     15\u001b[0m         \u001b[0mmodel\u001b[0m \u001b[0;34m=\u001b[0m \u001b[0mPLN_full\u001b[0m\u001b[0;34m(\u001b[0m\u001b[0mclass_optimizer\u001b[0m \u001b[0;34m=\u001b[0m \u001b[0moptimizer\u001b[0m\u001b[0;34m)\u001b[0m\u001b[0;34m\u001b[0m\u001b[0;34m\u001b[0m\u001b[0m\n\u001b[1;32m     16\u001b[0m         t = threading.Thread(target =model.full_grad_ascent_PCA,\n\u001b[0;32m---> 17\u001b[0;31m               args = [data, N_iter          ,lr     , False] )\n\u001b[0m\u001b[1;32m     18\u001b[0m         \u001b[0;31m#t = threading.Thread(target =model.VEM_both_closed,\u001b[0m\u001b[0;34m\u001b[0m\u001b[0;34m\u001b[0m\u001b[0;34m\u001b[0m\u001b[0m\n\u001b[1;32m     19\u001b[0m         \u001b[0;31m#      args = [data, N_iter           ,Nb_each_iter      , lr,  0.01 , False] )\u001b[0m\u001b[0;34m\u001b[0m\u001b[0;34m\u001b[0m\u001b[0;34m\u001b[0m\u001b[0m\n",
      "\u001b[0;31mNameError\u001b[0m: name 'data' is not defined"
     ]
    }
   ],
   "source": [
    "dict_model_optim = launch_optimizers(dict_optimizers,10000,0.1)"
   ]
  },
  {
   "cell_type": "code",
   "execution_count": 18,
   "id": "da72e58c",
   "metadata": {
    "colab": {
     "base_uri": "https://localhost:8080/",
     "height": 614
    },
    "id": "hawaiian-hospital",
    "jupyter": {
     "outputs_hidden": true
    },
    "outputId": "3734650a-a447-412d-c755-7b9e9f2cc9b5"
   },
   "outputs": [
    {
     "ename": "NameError",
     "evalue": "name 'dict_model_optim' is not defined",
     "output_type": "error",
     "traceback": [
      "\u001b[0;31m---------------------------------------------------------------------------\u001b[0m",
      "\u001b[0;31mNameError\u001b[0m                                 Traceback (most recent call last)",
      "\u001b[0;32m<ipython-input-18-191a315ab89a>\u001b[0m in \u001b[0;36m<module>\u001b[0;34m\u001b[0m\n\u001b[0;32m----> 1\u001b[0;31m \u001b[0mcompare_models\u001b[0m\u001b[0;34m(\u001b[0m\u001b[0mdict_model_optim\u001b[0m\u001b[0;34m,\u001b[0m\u001b[0;34m''\u001b[0m\u001b[0;34m,\u001b[0m \u001b[0mpercentage_kept\u001b[0m\u001b[0;34m=\u001b[0m\u001b[0;36m0.1\u001b[0m\u001b[0;34m)\u001b[0m\u001b[0;34m\u001b[0m\u001b[0;34m\u001b[0m\u001b[0m\n\u001b[0m",
      "\u001b[0;31mNameError\u001b[0m: name 'dict_model_optim' is not defined"
     ]
    }
   ],
   "source": [
    "compare_models(dict_model_optim,'', percentage_kept=0.1)"
   ]
  },
  {
   "cell_type": "markdown",
   "id": "fde3a580",
   "metadata": {},
   "source": [
    "### Comparison of parametrization"
   ]
  },
  {
   "cell_type": "code",
   "execution_count": 122,
   "id": "d1e94d28",
   "metadata": {
    "colab": {
     "base_uri": "https://localhost:8080/"
    },
    "id": "looking-beads",
    "outputId": "2cb6965e-550a-4db1-fb86-c11b9d8a263b"
   },
   "outputs": [
    {
     "name": "stdout",
     "output_type": "stream",
     "text": [
      "iteration number:  0\n",
      "-------UPDATE-------\n",
      " MSE with Sigma :  3.11121\n",
      " MSE with beta :  0.95566\n",
      "ELBO :  -359749.69064\n",
      "Delta :  -359748.6906408663\n",
      "---------------------------------Maximum number of iterations reached :  8 last delta =  49091.320146861355\n",
      " MSE with Sigma :  3.11121\n",
      " MSE with beta :  0.95566\n",
      "iteration number:  0\n",
      "-------UPDATE-------\n",
      " MSE with Sigma :  2.77316\n",
      " MSE with beta :  0.42546\n",
      "ELBO :  139892.47483\n",
      "Delta :  58514.52021552206\n",
      "---------------------------------Maximum number of iterations reached :  8 last delta =  55790.89406920661\n",
      " MSE with Sigma :  2.77316\n",
      " MSE with beta :  0.42546\n",
      "iteration number:  0\n",
      "-------UPDATE-------\n",
      " MSE with Sigma :  1.08201\n",
      " MSE with beta :  0.25582\n",
      "ELBO :  576520.9884\n",
      "Delta :  19231.976440686034\n",
      "---------------------------------Maximum number of iterations reached :  8 last delta =  -1128.0329141359543\n",
      " MSE with Sigma :  1.08201\n",
      " MSE with beta :  0.25582\n",
      "iteration number:  0\n",
      "-------UPDATE-------\n",
      " MSE with Sigma :  0.70847\n",
      " MSE with beta :  0.18545\n",
      "ELBO :  621210.25118\n",
      "Delta :  1278.4215254526353\n",
      "---------------------------------Maximum number of iterations reached :  8 last delta =  158.94564302347135\n",
      " MSE with Sigma :  0.70847\n",
      " MSE with beta :  0.18545\n",
      "iteration number:  0\n",
      "-------UPDATE-------\n",
      " MSE with Sigma :  0.50053\n",
      " MSE with beta :  0.14832\n",
      "ELBO :  625165.02414\n",
      "Delta :  169.96528787363786\n",
      "---------------------------------Maximum number of iterations reached :  8 last delta =  5.66721931414213\n",
      " MSE with Sigma :  0.50053\n",
      " MSE with beta :  0.14832\n",
      "Execution time :  0.2923271656036377\n"
     ]
    }
   ],
   "source": [
    "#dict_models_adadelta = launch_models(torch.optim.Adadelta)\n",
    "dict_models_Rprop = launch_models(torch.optim.Rprop,N_iter = 5, lr = 0.1)"
   ]
  },
  {
   "cell_type": "code",
   "execution_count": 115,
   "id": "2f943216",
   "metadata": {
    "colab": {
     "base_uri": "https://localhost:8080/",
     "height": 614
    },
    "id": "incorporated-scope",
    "jupyter": {
     "outputs_hidden": true
    },
    "outputId": "31247115-3fd6-4b87-aad0-d3a256bd2924"
   },
   "outputs": [
    {
     "data": {
      "image/png": "[encoded data removed]",
      "text/plain": [
       "<Figure size 1080x864 with 3 Axes>"
      ]
     },
     "metadata": {},
     "output_type": "display_data"
    }
   ],
   "source": [
    "compare_models(dict_models_Rprop,'',percentage_kept = 0.2)"
   ]
  },
  {
   "cell_type": "markdown",
   "id": "9551bd1a",
   "metadata": {},
   "source": [
    "### comparison of learning rates"
   ]
  },
  {
   "cell_type": "code",
   "execution_count": 21,
   "id": "a008c257",
   "metadata": {},
   "outputs": [],
   "source": [
    "dict_lr = dict()\n",
    "\n",
    "for i in range(6): \n",
    "    dict_lr['lr = '+ str(10**(-i))] = 10**(-i)"
   ]
  },
  {
   "cell_type": "code",
   "execution_count": 22,
   "id": "d27301d8",
   "metadata": {},
   "outputs": [
    {
     "ename": "NameError",
     "evalue": "name 'data' is not defined",
     "output_type": "error",
     "traceback": [
      "\u001b[0;31m---------------------------------------------------------------------------\u001b[0m",
      "\u001b[0;31mNameError\u001b[0m                                 Traceback (most recent call last)",
      "\u001b[0;32m<ipython-input-22-5524427d5c8a>\u001b[0m in \u001b[0;36m<module>\u001b[0;34m\u001b[0m\n\u001b[0;32m----> 1\u001b[0;31m \u001b[0mresult_lr\u001b[0m \u001b[0;34m=\u001b[0m \u001b[0mlaunch_lr\u001b[0m\u001b[0;34m(\u001b[0m\u001b[0mdict_lr\u001b[0m\u001b[0;34m,\u001b[0m\u001b[0;36m10\u001b[0m\u001b[0;34m,\u001b[0m \u001b[0moptimizer\u001b[0m \u001b[0;34m=\u001b[0m \u001b[0mtorch\u001b[0m\u001b[0;34m.\u001b[0m\u001b[0moptim\u001b[0m\u001b[0;34m.\u001b[0m\u001b[0mRprop\u001b[0m\u001b[0;34m)\u001b[0m\u001b[0;34m\u001b[0m\u001b[0;34m\u001b[0m\u001b[0m\n\u001b[0m",
      "\u001b[0;32m<ipython-input-8-f3a112da7e40>\u001b[0m in \u001b[0;36mlaunch_lr\u001b[0;34m(dict_lr, N_iter, optimizer)\u001b[0m\n\u001b[1;32m     43\u001b[0m         \u001b[0;31m#      args = [data, N_iter          ,lr     , False] )   ## parametrization.\u001b[0m\u001b[0;34m\u001b[0m\u001b[0;34m\u001b[0m\u001b[0;34m\u001b[0m\u001b[0m\n\u001b[1;32m     44\u001b[0m         t = threading.Thread(target =model.VEM_both_closed,\n\u001b[0;32m---> 45\u001b[0;31m               args = [data, N_iter, Nb_each_iter,       lr,  0 , False] )\n\u001b[0m\u001b[1;32m     46\u001b[0m         \u001b[0mt\u001b[0m\u001b[0;34m.\u001b[0m\u001b[0mstart\u001b[0m\u001b[0;34m(\u001b[0m\u001b[0;34m)\u001b[0m\u001b[0;34m\u001b[0m\u001b[0;34m\u001b[0m\u001b[0m\n\u001b[1;32m     47\u001b[0m         \u001b[0mts\u001b[0m\u001b[0;34m.\u001b[0m\u001b[0mappend\u001b[0m\u001b[0;34m(\u001b[0m\u001b[0mt\u001b[0m\u001b[0;34m)\u001b[0m\u001b[0;34m\u001b[0m\u001b[0;34m\u001b[0m\u001b[0m\n",
      "\u001b[0;31mNameError\u001b[0m: name 'data' is not defined"
     ]
    }
   ],
   "source": [
    "result_lr = launch_lr(dict_lr,10, optimizer = torch.optim.Rprop)"
   ]
  },
  {
   "cell_type": "code",
   "execution_count": 23,
   "id": "3d4c50a1",
   "metadata": {
    "scrolled": true
   },
   "outputs": [
    {
     "ename": "NameError",
     "evalue": "name 'result_lr' is not defined",
     "output_type": "error",
     "traceback": [
      "\u001b[0;31m---------------------------------------------------------------------------\u001b[0m",
      "\u001b[0;31mNameError\u001b[0m                                 Traceback (most recent call last)",
      "\u001b[0;32m<ipython-input-23-ee68553d3c3e>\u001b[0m in \u001b[0;36m<module>\u001b[0;34m\u001b[0m\n\u001b[0;32m----> 1\u001b[0;31m \u001b[0mcompare_models\u001b[0m\u001b[0;34m(\u001b[0m\u001b[0mresult_lr\u001b[0m\u001b[0;34m,\u001b[0m\u001b[0;34m'comparison_lr_Rprop_both_closed'\u001b[0m\u001b[0;34m,\u001b[0m\u001b[0mpercentage_kept\u001b[0m \u001b[0;34m=\u001b[0m \u001b[0;36m0.9\u001b[0m\u001b[0;34m,\u001b[0m \u001b[0msave\u001b[0m \u001b[0;34m=\u001b[0m \u001b[0;32mFalse\u001b[0m\u001b[0;34m)\u001b[0m\u001b[0;34m\u001b[0m\u001b[0;34m\u001b[0m\u001b[0m\n\u001b[0m",
      "\u001b[0;31mNameError\u001b[0m: name 'result_lr' is not defined"
     ]
    }
   ],
   "source": [
    "compare_models(result_lr,'comparison_lr_Rprop_both_closed',percentage_kept = 0.9, save = False)"
   ]
  },
  {
   "cell_type": "markdown",
   "id": "a6bbc3f7",
   "metadata": {},
   "source": [
    "# All the different parametrisation"
   ]
  },
  {
   "cell_type": "markdown",
   "id": "4462e934",
   "metadata": {
    "id": "contrary-occasion"
   },
   "source": [
    "# Parametrisation centered in $X\\beta$ and variance $CC^{\\top}$\n",
    "\n",
    "### VEM were we use only the closed form for  $\\beta$ "
   ]
  },
  {
   "cell_type": "code",
   "execution_count": 24,
   "id": "9dbf863b",
   "metadata": {
    "id": "individual-cabinet",
    "jupyter": {
     "outputs_hidden": true
    },
    "outputId": "b7b15d31-f7fa-45dd-de59-8e7b18ac6653"
   },
   "outputs": [
    {
     "ename": "NameError",
     "evalue": "name 'data' is not defined",
     "output_type": "error",
     "traceback": [
      "\u001b[0;31m---------------------------------------------------------------------------\u001b[0m",
      "\u001b[0;31mNameError\u001b[0m                                 Traceback (most recent call last)",
      "\u001b[0;32m<timed eval>\u001b[0m in \u001b[0;36m<module>\u001b[0;34m\u001b[0m\n",
      "\u001b[0;31mNameError\u001b[0m: name 'data' is not defined"
     ]
    }
   ],
   "source": [
    "model_VEM_beta = PLN_full()\n",
    "%time model_VEM_beta.VEM_beta_closed(data,Number_VEM_step =10,verbose=True, lr = 0.05)"
   ]
  },
  {
   "cell_type": "markdown",
   "id": "ae8a8016",
   "metadata": {
    "id": "victorian-opera"
   },
   "source": [
    "### Gradient descent on all the parameters"
   ]
  },
  {
   "cell_type": "code",
   "execution_count": 25,
   "id": "ca06d016",
   "metadata": {
    "id": "palestinian-shareware",
    "jupyter": {
     "outputs_hidden": true
    },
    "outputId": "96f20df8-051f-4bcb-b0b3-6207ddeee685"
   },
   "outputs": [
    {
     "ename": "NameError",
     "evalue": "name 'data' is not defined",
     "output_type": "error",
     "traceback": [
      "\u001b[0;31m---------------------------------------------------------------------------\u001b[0m",
      "\u001b[0;31mNameError\u001b[0m                                 Traceback (most recent call last)",
      "\u001b[0;32m<timed eval>\u001b[0m in \u001b[0;36m<module>\u001b[0;34m\u001b[0m\n",
      "\u001b[0;31mNameError\u001b[0m: name 'data' is not defined"
     ]
    }
   ],
   "source": [
    "model = PLN_full()\n",
    "%time model.full_grad_ascent(data, N_epoch = 10,verbose=True, lr = 0.003)"
   ]
  },
  {
   "cell_type": "markdown",
   "id": "d6946e98",
   "metadata": {
    "id": "continental-executive"
   },
   "source": [
    "# Parametrisation centered in $X\\beta$ and variance $\\Sigma$\n",
    "\n",
    "### VEM were we use only the closed form for  $\\Sigma$ "
   ]
  },
  {
   "cell_type": "code",
   "execution_count": 26,
   "id": "02611c74",
   "metadata": {
    "id": "printable-lending",
    "jupyter": {
     "outputs_hidden": true
    },
    "outputId": "5259dd4b-8a1f-4e8b-821f-0ca85514ab77"
   },
   "outputs": [
    {
     "ename": "NameError",
     "evalue": "name 'data' is not defined",
     "output_type": "error",
     "traceback": [
      "\u001b[0;31m---------------------------------------------------------------------------\u001b[0m",
      "\u001b[0;31mNameError\u001b[0m                                 Traceback (most recent call last)",
      "\u001b[0;32m<timed eval>\u001b[0m in \u001b[0;36m<module>\u001b[0;34m\u001b[0m\n",
      "\u001b[0;31mNameError\u001b[0m: name 'data' is not defined"
     ]
    }
   ],
   "source": [
    "model_VEM_Sigma = PLN_full()\n",
    "%time model_VEM_Sigma.VEM_Sigma_closed(data,Number_VEM_step =10,verbose=True, lr = 1)"
   ]
  },
  {
   "cell_type": "markdown",
   "id": "ed79def0",
   "metadata": {
    "id": "cooked-phrase"
   },
   "source": [
    "### VEM were we use the closed form for  $\\beta$ and $\\Sigma$. It is roughly a VEM algorithm. "
   ]
  },
  {
   "cell_type": "code",
   "execution_count": 27,
   "id": "83a588ae",
   "metadata": {
    "id": "gentle-attraction",
    "jupyter": {
     "outputs_hidden": true
    },
    "outputId": "f361f53d-2871-4765-8d23-d1dd231f9d35"
   },
   "outputs": [
    {
     "ename": "NameError",
     "evalue": "name 'data' is not defined",
     "output_type": "error",
     "traceback": [
      "\u001b[0;31m---------------------------------------------------------------------------\u001b[0m",
      "\u001b[0;31mNameError\u001b[0m                                 Traceback (most recent call last)",
      "\u001b[0;32m<timed eval>\u001b[0m in \u001b[0;36m<module>\u001b[0;34m\u001b[0m\n",
      "\u001b[0;31mNameError\u001b[0m: name 'data' is not defined"
     ]
    }
   ],
   "source": [
    "model_VEM = PLN_full()\n",
    "%time model_VEM.VEM_both_closed(data,Number_VEM_step =10, N_epoch_max = 1,verbose=True, lr = 1)"
   ]
  },
  {
   "cell_type": "markdown",
   "id": "107ad67b",
   "metadata": {
    "id": "known-mumbai"
   },
   "source": [
    "# Parametrisation centered in $0$ and variance $I$\n",
    "\n",
    "\n",
    "## Gradient descent with the PCA formula"
   ]
  },
  {
   "cell_type": "code",
   "execution_count": 28,
   "id": "c056c9fb",
   "metadata": {
    "id": "operating-moldova",
    "outputId": "95d22a24-3e15-46f4-f3fb-1d4f0ec4aa2c"
   },
   "outputs": [
    {
     "ename": "NameError",
     "evalue": "name 'data' is not defined",
     "output_type": "error",
     "traceback": [
      "\u001b[0;31m---------------------------------------------------------------------------\u001b[0m",
      "\u001b[0;31mNameError\u001b[0m                                 Traceback (most recent call last)",
      "\u001b[0;32m<timed eval>\u001b[0m in \u001b[0;36m<module>\u001b[0;34m\u001b[0m\n",
      "\u001b[0;31mNameError\u001b[0m: name 'data' is not defined"
     ]
    }
   ],
   "source": [
    "model_PCA = PLN_full()\n",
    "%time model_PCA.full_grad_ascent_PCA(data, N_epoch = 10,verbose=True, lr = 0.7)"
   ]
  },
  {
   "cell_type": "markdown",
   "id": "760191e1",
   "metadata": {
    "id": "communist-turning"
   },
   "source": [
    "# Parametrisation centered in 0 and variance Sigma\n",
    "\n",
    "## VEM of the first notebook  "
   ]
  },
  {
   "cell_type": "code",
   "execution_count": 29,
   "id": "dc1e030d",
   "metadata": {
    "id": "centered-applicant",
    "jupyter": {
     "outputs_hidden": true
    },
    "outputId": "f01226ae-f879-4d1e-f3b0-278f9ecdfd18"
   },
   "outputs": [
    {
     "ename": "NameError",
     "evalue": "name 'data' is not defined",
     "output_type": "error",
     "traceback": [
      "\u001b[0;31m---------------------------------------------------------------------------\u001b[0m",
      "\u001b[0;31mNameError\u001b[0m                                 Traceback (most recent call last)",
      "\u001b[0;32m<timed eval>\u001b[0m in \u001b[0;36m<module>\u001b[0;34m\u001b[0m\n",
      "\u001b[0;31mNameError\u001b[0m: name 'data' is not defined"
     ]
    }
   ],
   "source": [
    "model_first_VEM = PLN_full()\n",
    "%time model_first_VEM.first_VEM(data,Number_VEM_step =1000, N_epoch_max = 20,verbose=True, lr = 1)"
   ]
  },
  {
   "cell_type": "markdown",
   "id": "86e247ba",
   "metadata": {
    "id": "threaded-celebration"
   },
   "source": [
    "Here we have a PLN model described as the following : \n",
    "\n",
    "- Consider $n$ sites $(i=1 \\ldots n)$\n",
    "\n",
    "- Measure $x_{i}=\\left(x_{i h}\\right)_{1 \\leq h \\leq d}$ :\n",
    "$x_{i h}=$ given environmental descriptor (covariate) for site $i$\n",
    "(altitude, temperature, latitude, ...)\n",
    "\n",
    "- Consider $p$ species $(j=1 \\ldots p)$ Measure $Y=\\left(Y_{i j}\\right)_{1 \\leq i \\leq n, 1 \\leq j \\leq p}$ :\n",
    "\n",
    "- Measure $Y = Y_{i j}=$ number of observed individuals from species $j$ in site $i$ (abundance). \n",
    "\n",
    "- Associate a random vector $Z_{i}$ with each site Assume that the unknown $\\left(Z_{i}\\right)_{1 \\leq i \\leq n}$ are independant such that:\n",
    "$$\n",
    "Z_{i} \\sim \\mathcal{N}_{p}(x_i \\beta, \\Sigma) \\quad \\Sigma = CC^{\\top}\n",
    "$$\n",
    "\n",
    "and $C$ is a lower triangular matrix. \n",
    "- Assume that the observed abundances $\\left(Y_{i j}\\right)_{1 \\leq i \\leq n, 1 \\leq j \\leq p}$ are independent conditionally on the $Z=\\left(Z_{i}\\right)_{i}$\n",
    "\n",
    "\n",
    "$$\n",
    "\\left(Y_{i j} \\mid Z_{i j}\\right) \\sim \\mathcal{P}\\left(\\exp \\left(o_{i j}+Z_{i j}\\right)\\right)\n",
    "$$\n",
    "\n",
    "Where $O = (o_{ij})_{1\\leq i\\leq n, 1\\leq j\\leq p}$ are known offsets. \n",
    "\n",
    "The unknown parameter is $\\theta = (C,\\beta)$."
   ]
  },
  {
   "cell_type": "markdown",
   "id": "5d1ea5d0",
   "metadata": {
    "id": "streaming-charles"
   },
   "source": [
    "$Z$ being a latent variable, we want to use the EM algorithm to derive the maximum likelihood estimator. However, it requires to compute \n",
    "\n",
    "$$\n",
    "\\mathbb{E}_{\\theta}\\left[p_{\\theta}\\left(Z_{i} \\mid Y\\right)\\right]=\\mathbb{E}_{\\theta}\\left[p_{\\theta}\\left(Z_{i} \\mid Y_{i}\\right)\\right] \\propto \\int_{\\mathbb{R}^{p}} p_{\\theta}\\left(Z_{i}\\right) \\prod_{j} p_{\\theta}\\left(Y_{i j} \\mid Z_{i j}\\right) \\mathrm{d} Z_{i}\n",
    "$$ which is intractable in practice. \n",
    "\n",
    "We thus choose the variationnal approximation. We set\n",
    "\n",
    "$$ \n",
    "q^{\\star} = \\underset{q \\in \\mathcal{Q_{gauss}}}{\\operatorname{argmax}} J_{\\theta,q}(Y) \n",
    "$$\n",
    "<br>\n",
    "$$\n",
    "\\begin{align} J_{\\theta, q}(Y)& =\\log p_{\\theta}(Y)-K L\\left[q(Z) \\| p_{\\theta}(Z \\mid Y)\\right]                                    \\\\ \n",
    "                              & = \\mathbb{E}_{q}\\left[\\log p_{\\theta}(Y, Z)\\right] \\underbrace{-\\mathbb{E}_{q}[\\log q(Z)]}_{\\text {entropy } \\mathcal{H}(q)}    \\end{align}\n",
    "$$\n",
    "\n",
    "where \n",
    "\n",
    "$$\n",
    "\\mathcal{Q}_{\\text {Gauss }}=\\{\n",
    "q=\\left(q_{1}, \\ldots q_{n}\\right), q_{i} \\sim \\mathcal{N}\\left(M_{i}, \\operatorname{diag} (S_{i}\\odot S_i ), M_i \\in \\mathbb{S} ^p, S_i \\in \\mathbb{R} ^p\\right)\\}\n",
    "$$\n",
    "\n",
    "\n",
    "The Variational EM (VEM) consists in alternate between two steps : \n",
    "- VE step: update $q$\n",
    "$$\n",
    "q^{h+1}=\\underset{q \\in \\mathcal{Q_{gauss}}}{\\arg \\max } J_{\\theta^{h}, q}(Y)=\\underset{q \\in \\mathcal{Q_{gauss}}}{\\arg \\min } K L\\left[q(Z) \\| p_{\\theta^{h}}(Z \\mid Y)\\right]\n",
    "$$\n",
    "- M step: update $\\theta$\n",
    "$$\n",
    "\\theta^{h+1}=\\underset{\\theta}{\\arg \\max } J_{\\theta, q^{h+1}}(Y)=\\underset{\\theta}{\\arg \\max } \\mathbb{E}_{q^{h+1}}\\left[\\log p_{\\theta}(Y, Z)\\right]\n",
    "$$"
   ]
  },
  {
   "cell_type": "markdown",
   "id": "e60f8fff",
   "metadata": {
    "id": "unlikely-customs"
   },
   "source": [
    "Let's compute the ELBO $J_{\\theta, q}(Y)$\n",
    "\n",
    "\n",
    "$$\n",
    "J_{\\sigma, q}(Y)=\\underbrace{\\mathbb{E}_{q}\\left[\\log p_{\\theta}(Y \\mid Z)\\right]}_{(1)}+\\underbrace{E_{q}\\left[\\log p_{\\theta}(Z)\\right]}_{(2)}+\\underbrace{H(q)}_{(3)}\n",
    "$$\n",
    "$$\n",
    "\\begin{align}\n",
    "(1)& =\\sum_{i} \\mathbb{E}_{q}\\left[\\log p_{\\theta}\\left(Y_{i} \\mid Z\\right)\\right] \\\\\n",
    "&=\\sum_{i} \\mathbb{E}_{q}\\left[\\log p_{\\theta}\\left(Y_{i} \\mid Z_{i}\\right)\\right] \\\\\n",
    "&=\\sum_{i, j} \\mathbb{E}_{q}\\left[\\log p_{\\theta}\\left(Y_{i j} \\mid Z_{i j}\\right)\\right] \\\\\n",
    "& =\\sum_{i, j} \\mathbb{E}_{q}\\left[Y_{i j}\\left(o_{i j}+Z_{i j}\\right)-\\exp \\left(o_{i j}+Z_{i j}\\right)\\right] + cst\n",
    "\\end{align}\n",
    "$$\n",
    "\n",
    "We need to compute some moments of $Z$ under $q$. \n",
    "\n",
    "$$\n",
    "\\mathbb{E}_{q}\\left[Z_{i j}\\right]=M_{i j} \\quad \\quad E_{q}\\left[\\operatorname{exp}\\left(Z_{i j}\\right)\\right]=\\frac{1}{2} \\operatorname{exp}\\left(M_{i j}+\\frac{(S_{ij})^2}{2}\\right)\n",
    "$$\n",
    "\n",
    "So that \n",
    "\n",
    "$$\n",
    "\\begin{aligned}\n",
    "(1) &=\\sum_{i, j} Y_{i j}\\left(o_{i j}+M_{i j}\\right)-\\frac{1}{2} \\exp \\left(o_{i j}+M_{i j}+\\frac{(S_{i_{jj}})^2}{2}\\right) + cst \\\\\n",
    "&=\\mathbb{1}_n^{\\top}\\left(Y \\odot(O+M)-\\frac{1}{2} \\exp \\left(O+M+\\frac{S \\odot S}{2}\\right)\\right)\\mathbb{1}_p + cst \n",
    "\\end{aligned}\n",
    "$$\n",
    "\n"
   ]
  },
  {
   "cell_type": "markdown",
   "id": "71567732",
   "metadata": {
    "id": "mounted-journal"
   },
   "source": [
    "Where we have denoted $M = (M_{ij})_{1\\leq i\\leq n, 1\\leq j\\leq p}$ and $ S = (S_{ij})_{1\\leq i\\leq n, 1\\leq j\\leq p}$. The exponential is applied pointwise on the last equation. \n",
    "\n",
    "$$\n",
    "\\begin{aligned}\n",
    "(3)=H(q) &=\\sum_{i} H\\left(q_{i}\\right) \\\\\n",
    "&=\\sum_{i} \\log \\left(\\sqrt{(2 \\pi e)^{p}\\left|S_{i}\\right|}\\right) \\\\\n",
    "&=\\frac 12\\sum_{i} \\log (S_{i} \\odot S_i)^2 +cst \\\\\n",
    "&= \\frac 12 \\sum_{i j} \\log S_{i j}^2+cst \\\\\n",
    "& = \\frac 12 \\mathbb{1}_n ^{\\top}(\\log S\\odot S  )\\mathbb{1}_p+cst\\\\\n",
    "\\end{aligned}\n",
    "$$\n",
    "\n",
    "Where the log is applied pointwise at the last equation. \n",
    "\n",
    "$$\n",
    "\\begin{aligned}\n",
    "(2)=\\mathbb{E}_{q}\\left[\\log p_{\\theta}(Z)\\right] &=\\sum_{1} E_{q}\\left[\\log p_{\\theta}\\left(Z_{i}\\right)\\right] \\\\\n",
    "&=-\\frac{n}{2} \\log |\\Sigma|+\\sum_{i} \\mathbb{E}_{q}\\left[-\\frac{1}{2}\\left(Z_{i}-X_{i} \\beta\\right)^{\\top} \\Sigma^{-1}\\left(Z_{i} - X_{i} \\beta\\right)\\right] +cst\n",
    "\\end{aligned}\n",
    "$$\n",
    "\n",
    "$\n",
    "\\text { Let } V \\sim \\mathcal{N} \\left(\\mu, \\Lambda), \\mu \\in \\mathbb{R}^{p}, \\Lambda \\in \\mathcal S _p ^{++}\\right.  \\\\\n",
    "\\text { Let's compute } \\; \\mathbb{E}\\left[V^{\\top} \\Sigma^{-1} V\\right]\n",
    "$\n",
    "\n",
    "We denote $\\Sigma ^{-1 / 2}$ the square root Matrix of $\\Sigma^{-1}$. It exists since $\\Sigma ^{-1} \\in \\mathcal{S}_p^{++}$. \n",
    "\n",
    "$$\n",
    "\\begin{aligned}\n",
    "\\mathbb{E}\\left[V^{\\top} \\Sigma^{-1} V\\right] &=\\mathbb{E}\\left[V^{\\top}\\Sigma ^{-1 / 2} \\Sigma^{-1 / 2} V\\right]\\\\\n",
    "&=\\mathbb{E}\\left[\\left(\\Sigma^{-1 / 2} V\\right)^{\\top}\\left(\\Sigma^{-1 / 2} V\\right)\\right] \\\\\n",
    "&=\\mathbb{E} \\|\\Sigma^{-1 / 2} V \\|_{2}^{2}\n",
    "\\end{aligned}\n",
    "$$\n",
    "\n",
    "$\n",
    "\\text {Let } \\tilde{V}=\\Sigma^{-1 / 2} V, \\quad \\tilde{V} \\sim \\mathcal{N}\\left(\\Sigma^{-1 / 2} \\mu,  \\Sigma^{-1 / 2} \\Lambda \\Sigma^{-\\frac{1}{2}}\\right)\n",
    "$\n",
    "\n",
    "$$\n",
    "\\begin{aligned}\n",
    "\\mathbb{E}\\left[V^{\\top} \\Sigma^{-1} V\\right] &=\\mathbb{E}\\|\\widetilde{V}\\|_{2}^{2} \\\\\n",
    "&=\\sum \\mathbb E \\widetilde{V}_{j}^{2} \\\\\n",
    "&=\\sum \\operatorname{var}\\left(\\widetilde{V}_{j}\\right)^{2}+\\mathbb{E}\\left[\\widetilde{V}_{j}\\right]^{2}\\\\\n",
    "&=\\sum_{j}\\left(\\Sigma^{-1 / 2} \\Lambda \\Sigma^{-1 / 2}\\right)_{j j}+\\left(\\Sigma^{-1 / 2} \\mu\\right)^{2}_j\\\\\n",
    "&= \\operatorname{tr}\\left(\\Sigma^{-1 / 2} \\Lambda \\Sigma^{-1 / 2}\\right)+\\sum_{j}\\left(\\left(\\Sigma_{j,.}^{-1 / 2}\\right)^{\\top} \\mu\\right)^{2}\\\\\n",
    "&=\\operatorname{tr}\\left(\\Sigma^{-1} \\Lambda\\right)+\\sum_{j}\\left(\\left(\\Sigma_{j,.}^{-1/2}\\right)^{\\top} \\mu\\right)^2\n",
    "\\end{aligned}\n",
    "$$\n",
    "\n",
    "Since under $q$, $Z_{i}-X_{i} \\beta \\sim \\mathcal N (M_i - X_i \\beta, S_i \\odot S_i ) $\n",
    "$$\n",
    "\\begin{equation}\n",
    "\\begin{aligned}\n",
    "(2) &=- \\frac 12 \\sum_{i} \\operatorname{tr}\\left(\\Sigma^{-1} (S_{i} \\odot S_i) \\right) - \\frac 12 \\sum_{i, j}\\left(\\left(\\Sigma_{j,.}^{-1 / 2} \\right) ^{\\top}\\left(M_{i}-X_{i} \\beta\\right)\\right)^2  - \\frac n2 \\log |\\Sigma|+ cst  \\\\\n",
    "&= - \\frac 12 \\operatorname{tr}\\left(\\Sigma^{-1}\\left(\\sum_{i} S_{i}\\odot S_i \\right)\\right) - \\frac 12 \\sum_{i, j}\\left(\\Sigma^{-1 / 2}(M-X \\beta)\\right)_{j, i}^{\\top}\\left(\\Sigma\n",
    "^{-1 / 2}(M-X \\beta)\\right)_{i, j}  - \\frac n2 \\log |\\Sigma|+ cst  \\\\\n",
    "&=- \\frac 12 \\operatorname{tr}\\left(\\Sigma^{-1}\\left(\\sum_{i} S_{i} \\odot S_i  \\right)\\right)- \\frac 12 \\operatorname{tr}\\left(\\Sigma^{-1 / 2}(M-X \\beta)^{\\top}(M-X \\beta) \\Sigma^{-1 / 2}\\right)  - \\frac n2 \\log |\\Sigma|+ cst  \\\\\n",
    "&=- \\frac 12 \\operatorname{tr}\\left(\\Sigma^{-1}\\left(\\operatorname{diag}(\\mathbb{1}_n^{\\top} (S\\odot S))+(M-X \\beta)^{\\top}(M-X \\beta)\\right)\\right)  - \\frac n2 \\log |\\Sigma|+ cst \n",
    "\\end{aligned}\n",
    "\\end{equation}\n",
    "$$\n",
    "We then have : \n",
    "\n",
    "PARAMETRISATION CENTERED IN $X\\beta$ and variance $\\Sigma$\n",
    "\n",
    "\n",
    "$$\\boxed{\\begin{align} J_{\\theta, q}(Y) &=\\mathbb{1}_n^{\\top}\\left(Y \\odot(O+M)-\\frac{1}{2} \\exp \\left(O+M+\\frac{S\\odot S}{2}\\right) + \\frac 12 \\log (S \\odot S) \\right)\\mathbb{1}_p \\\\\n",
    "& \\quad  - \\frac 12\\operatorname{tr}\\left(\\Sigma^{-1}\\left(\\operatorname{diag}(\\mathbb{1}_n^{\\top} (S\\odot S))+(M-X \\beta)^{\\top}(M-X \\beta)\\right)\\right) \\\\\n",
    "& \\quad  - \\frac n2 \\log |\\Sigma|+ cst \n",
    "\\end{align}}$$\n",
    "\n",
    "\n",
    "\n",
    "If we use $C$ instead of $\\Sigma$ : \n",
    "\n",
    "\n",
    "PARAMETRISATION CENTERED IN $X\\beta$ and variance $CC^{\\top}$\n",
    "\n",
    "$$\\boxed{\\begin{align} J_{\\theta, q}(Y) &=\\mathbb{1}_n^{\\top}\\left(Y \\odot(O+M)-\\frac{1}{2} \\exp \\left(O+M+\\frac{S\\odot S}{2}\\right) + \\frac 12 \\log (S \\odot S) \\right)\\mathbb{1}_p \\\\\n",
    "& \\quad  - \\frac 12\\operatorname{tr}\\left((CC^{\\top})^{-1}\\left(\\operatorname{diag}(\\mathbb{1}_n^{\\top} (S\\odot S))+(M-X \\beta)^{\\top}(M-X \\beta)\\right)\\right) \\\\\n",
    "& \\quad  - n \\log |C|+ cst \n",
    "\\end{align}}$$"
   ]
  },
  {
   "cell_type": "markdown",
   "id": "62bbd938",
   "metadata": {
    "id": "celtic-ownership"
   },
   "source": [
    "We consider the same setting but another parametrization of the model : \n",
    "\n",
    "$$\n",
    "\\begin{array}{l}\n",
    "Z_{i} \\sim \\mathcal N_{p}\\left(0, I_{p}\\right) \\\\\n",
    "Y_{i j} \\mid Z_{i} \\sim \\mathcal P \\left(\\exp \\left(o_{i j}+x_{i}^{\\top} \\beta_{j}+C_{j}^{\\top} Z_i\\right)\\right)\n",
    "\\end{array}\n",
    "$$\n",
    "Writing in Matrix form : \n",
    "\n",
    "$$\n",
    "Y \\mid Z \\sim \\mathcal P\\left(\\exp \\left(O+X \\beta+ ZC\\right)\\right)\n",
    "$$\n",
    "\n",
    "This parametrization asks less things to the Variational part. \n",
    "\n",
    "Let's compute the ELBO $\\tilde J_{\\theta, q}(Y)$ of this new parametrisation. \n",
    "\n",
    "\n",
    "$$\n",
    "\\tilde J_{\\sigma, q}(Y)=\\underbrace{\\mathbb{E}_{q}\\left[\\log p_{\\theta}(Y \\mid Z)\\right]}_{(1)}+\\underbrace{E_{q}\\left[\\log p_{\\theta}(Z)\\right]}_{(2)}+\\underbrace{H(q)}_{(3)}\n",
    "$$\n",
    "$$\n",
    "\\begin{align}\n",
    "(1)& =\\sum_{i} \\mathbb{E}_{q}\\left[\\log p_{\\theta}\\left(Y_{i} \\mid Z\\right)\\right] \\\\\n",
    "&=\\sum_{i} \\mathbb{E}_{q}\\left[\\log p_{\\theta}\\left(Y_{i} \\mid Z_i \\right)\\right] \\\\\n",
    "&=\\sum_{i, j} \\mathbb{E}_{q}\\left[\\log p_{\\theta}\\left(Y_{i j} \\mid Z_{i}\\right)\\right] \\\\\n",
    "& =\\sum_{i, j} \\mathbb{E}_{q}\\left[Y_{i j}\\left(o_{i j}+x_{i}^{\\top} \\beta_{j}+ C_{j}^{\\top} Z_i\\right)-\\exp \\left(o_{i j}+x_{i}^{\\top} \\beta_{j}+C_{j}^{\\top} Z_i\\right)\\right] + cst\n",
    "\\end{align}\n",
    "$$\n",
    "\n",
    "Let $1\\leq i \\leq n, 1 \\leq j \\leq p$. Let's compute $\\mathbb{E}_{q}\\left[\\exp \\left(C_{j}^{\\top} Z_{i}\\right)\\right]$\n",
    "\n",
    "\n",
    "$$\n",
    "\\begin{aligned}\n",
    "\\mathbb{E}_{q}\\left[\\exp \\left(C_{j}^{\\top} Z_{i}\\right)\\right] &=\\mathbb{E}_{q}\\left[\\exp \\left(\\sum_{k=1}^{p} C_{j k}Z_{ik}\\right)\\right] \\\\\n",
    "&=\\mathbb{E}_{q}\\left[\\prod_{k=1}^{p} \\exp \\left(C_{j k} Z_{i k}\\right)\\right] \\\\\n",
    "&=\\prod_{k=1}^p\\mathbb{E}_{q} \\left[\\exp \\left(C_{j k} Z_{i k}\\right)\\right] \\\\ \n",
    "&=\\prod_{k=1}^{p} exp \\left(M_{i_{k}} C_{j k}+\\frac{C_{j k}^{2} S_{i k}^{2}}{2}\\right) \\\\\n",
    "&= \\exp \\left(\\sum_{k=1}^{p} M_{i k} C_{j k}+\\frac{C_{j k}^{2} S_{i k}^{2}}{2}\\right) \\\\\n",
    "&=\\exp \\left(M_{i}^{\\top} C_{j}+\\frac{\\left(S_{i}^{2}\\right)^{T} C_{j}^2}{2}\\right)\n",
    "\\end{aligned}\n",
    "$$\n",
    "\n",
    "Ainsi, \n",
    "\n",
    "$$\n",
    "(1)=1_{n}^{\\top}\\left(Y \\odot (O+X \\beta+MC^{\\top}) - \\frac{1}{2} \\operatorname{exp}\\left(O+X\\beta+MC^{\\top} +\\frac{  (S \\odot S)(C\\odot C)^{\\top}}{2}\\right)\\right)1_{p}\n",
    "$$\n",
    "\n",
    "For $(2)$, we take $X\\beta = 0, \\Sigma = I_p$ in $(2)$ from the previous parametrisation to get : \n",
    "$$\n",
    "(2) = - \\frac 12 \\operatorname{tr}\\left(\\operatorname{diag}(\\mathbb{1}_n^{\\top} (S\\odot S))+M^{\\top}M\\right)  - \\frac {n}2 \\log 1 + cst \n",
    "$$\n",
    "\n",
    "For $(3)$, we have a similar argument as in $(3)$ from previous parametrisation to get : \n",
    "\n",
    "$$(3) = \\frac 12 \\mathbb{1}_n ^{\\top}(\\log S\\odot S  )\\mathbb{1}_p+cst$$\n",
    "\n",
    "We then get : \n",
    "\n",
    "PARAMETRISATION CENTERED IN 0 AND UNIT VARIANCE \n",
    "\n",
    "$$ \n",
    "\\boxed{\\begin{align}\\tilde J_{\\sigma, q}(Y) & = 1_{n}^{\\top}\\left(Y \\odot (O+X \\beta+MC^{\\top}) - \\frac{1}{2} \\operatorname{exp}\\left(O+X\\beta+MC^{\\top}+\\frac{(S \\odot S)(C\\odot C)^{\\top}}{2}\\right)+ \\frac 12 \n",
    "\\log S\\odot S \\right)1_{p} \\\\\n",
    "                                            &  - \\frac 12 \\operatorname{tr}\\left(\\operatorname{diag}(\\mathbb{1}_n^{\\top} (S\\odot S))+M^{\\top}M\\right) \\\\ \n",
    "                    \\end{align} }\n",
    "$$\n",
    "\n",
    "We have for the gradients : \n",
    "\n",
    "$$\n",
    "\\nabla_{\\beta}=X^{\\top} Y-\\frac{1}{2} X^{\\top} \\exp \\left(0+X \\beta+M C^{\\top}+\\frac{\\left(S\\odot S\\right)\\left(C\\odot C\\right)^{\\top}}{2}\\right)\n",
    "$$"
   ]
  },
  {
   "cell_type": "markdown",
   "id": "ae2c1b22",
   "metadata": {
    "id": "objective-poison"
   },
   "source": [
    "We can have a last parametrization that is : \n",
    "\n",
    "$$\n",
    "Z_{i} \\sim \\mathcal{N}_{p}(0, \\Sigma)\n",
    "$$\n",
    "\n",
    "and \n",
    "\n",
    "\n",
    "$$\n",
    "\\left(Y_{i j} \\mid Z_{i j}\\right) \\sim \\mathcal{P}\\left(\\exp \\left(o_{i j}+x_{i}^{\\top} \\beta_{j}+Z_{i j}\\right)\\right)\n",
    "$$\n",
    "\n",
    "This model is equivalent to the other ones but the optimization is different.  \n",
    "\n",
    "PARAMETRISATION CENTERED IN 0 AND VARIANCE $\\Sigma$\n",
    "\n",
    "$$\n",
    "\\boxed{\n",
    "\\begin{aligned}\n",
    "J_{\\theta, q}(y) &=-\\frac{n}{2} \\log |\\Sigma|-\\frac{1}{2} \\sum_{i} m_{i}^{\\top} \\Sigma^{-1} m_{i}+tr\\left(\\Sigma^{-1} S_{i}\\right) \\\\\n",
    "&+ \\sum_{i, j}-\\frac 1 2\\exp \\left(o_{i j}+x_{i}^{T} \\beta_{j}+m_{i j}+\\left[S_{i}\\right]_{j j}^{2} / 2\\right)+Y_{i j}\\left(o_{i j}+x_{i}^{T} \\beta_{j}+m_{i j}\\right) \\\\\n",
    "&+\\frac{1}{2} \\sum_{i} \\log \\left|(S\\odot S)_{i}\\right|+c s t .\n",
    "\\end{aligned}}\n",
    "$$\n",
    "    "
   ]
  },
  {
   "cell_type": "markdown",
   "id": "a5fa2833",
   "metadata": {},
   "source": [
    "## test with the fastPLN file"
   ]
  },
  {
   "cell_type": "code",
   "execution_count": 30,
   "id": "e7a66523",
   "metadata": {
    "id": "conventional-australia",
    "jupyter": {
     "outputs_hidden": true
    },
    "outputId": "68f2bd46-9319-4867-8aba-35f6c3318007"
   },
   "outputs": [
    {
     "name": "stdout",
     "output_type": "stream",
     "text": [
      "device :  cpu\n"
     ]
    }
   ],
   "source": [
    "from fastPLN import fastPLN "
   ]
  },
  {
   "cell_type": "code",
   "execution_count": 31,
   "id": "937399f0",
   "metadata": {},
   "outputs": [
    {
     "ename": "NameError",
     "evalue": "name 'Y_sampled' is not defined",
     "output_type": "error",
     "traceback": [
      "\u001b[0;31m---------------------------------------------------------------------------\u001b[0m",
      "\u001b[0;31mNameError\u001b[0m                                 Traceback (most recent call last)",
      "\u001b[0;32m<ipython-input-31-cd6cee03dceb>\u001b[0m in \u001b[0;36m<module>\u001b[0;34m\u001b[0m\n\u001b[1;32m      1\u001b[0m \u001b[0mmodel\u001b[0m \u001b[0;34m=\u001b[0m \u001b[0mfastPLN\u001b[0m\u001b[0;34m(\u001b[0m\u001b[0;34m)\u001b[0m\u001b[0;34m\u001b[0m\u001b[0;34m\u001b[0m\u001b[0m\n\u001b[0;32m----> 2\u001b[0;31m \u001b[0mmodel\u001b[0m\u001b[0;34m.\u001b[0m\u001b[0mfit\u001b[0m\u001b[0;34m(\u001b[0m\u001b[0mY_sampled\u001b[0m\u001b[0;34m,\u001b[0m\u001b[0mO\u001b[0m\u001b[0;34m,\u001b[0m\u001b[0mcovariates\u001b[0m\u001b[0;34m,\u001b[0m \u001b[0;36m100\u001b[0m\u001b[0;34m)\u001b[0m\u001b[0;34m\u001b[0m\u001b[0;34m\u001b[0m\u001b[0m\n\u001b[0m",
      "\u001b[0;31mNameError\u001b[0m: name 'Y_sampled' is not defined"
     ]
    }
   ],
   "source": [
    "model = fastPLN()\n",
    "model.fit(Y_sampled,O,covariates, 100)"
   ]
  },
  {
   "cell_type": "code",
   "execution_count": 32,
   "id": "2e4c80dd",
   "metadata": {},
   "outputs": [
    {
     "ename": "AttributeError",
     "evalue": "'fastPLN' object has no attribute 'Sigma'",
     "output_type": "error",
     "traceback": [
      "\u001b[0;31m---------------------------------------------------------------------------\u001b[0m",
      "\u001b[0;31mAttributeError\u001b[0m                            Traceback (most recent call last)",
      "\u001b[0;32m<ipython-input-32-ef53c8263e20>\u001b[0m in \u001b[0;36m<module>\u001b[0;34m\u001b[0m\n\u001b[0;32m----> 1\u001b[0;31m \u001b[0msns\u001b[0m\u001b[0;34m.\u001b[0m\u001b[0mheatmap\u001b[0m\u001b[0;34m(\u001b[0m\u001b[0mmodel\u001b[0m\u001b[0;34m.\u001b[0m\u001b[0mSigma\u001b[0m\u001b[0;34m.\u001b[0m\u001b[0mdetach\u001b[0m\u001b[0;34m(\u001b[0m\u001b[0;34m)\u001b[0m\u001b[0;34m.\u001b[0m\u001b[0mnumpy\u001b[0m\u001b[0;34m(\u001b[0m\u001b[0;34m)\u001b[0m\u001b[0;34m)\u001b[0m\u001b[0;34m\u001b[0m\u001b[0;34m\u001b[0m\u001b[0m\n\u001b[0m",
      "\u001b[0;31mAttributeError\u001b[0m: 'fastPLN' object has no attribute 'Sigma'"
     ]
    }
   ],
   "source": [
    "sns.heatmap(model.Sigma.detach().numpy())"
   ]
  },
  {
   "cell_type": "markdown",
   "id": "abf493a1",
   "metadata": {},
   "source": [
    "## test with oaks data \n"
   ]
  },
  {
   "cell_type": "code",
   "execution_count": null,
   "id": "364a5dd9",
   "metadata": {},
   "outputs": [],
   "source": []
  },
  {
   "cell_type": "code",
   "execution_count": null,
   "id": "7c219444",
   "metadata": {},
   "outputs": [],
   "source": []
  },
  {
   "cell_type": "code",
   "execution_count": null,
   "id": "3ba39312",
   "metadata": {},
   "outputs": [],
   "source": []
  },
  {
   "cell_type": "code",
   "execution_count": null,
   "id": "bb6b2341",
   "metadata": {},
   "outputs": [],
   "source": []
  },
  {
   "cell_type": "code",
   "execution_count": null,
   "id": "f7c7b2cc",
   "metadata": {},
   "outputs": [],
   "source": []
  }
 ],
 "metadata": {
  "accelerator": "GPU",
  "colab": {
   "name": "PLN_full_param.ipynb",
   "provenance": []
  },
  "kernelspec": {
   "display_name": "Python 3",
   "language": "python",
   "name": "python3"
  },
  "language_info": {
   "codemirror_mode": {
    "name": "ipython",
    "version": 3
   },
   "file_extension": ".py",
   "mimetype": "text/x-python",
   "name": "python",
   "nbconvert_exporter": "python",
   "pygments_lexer": "ipython3",
   "version": "3.8.5"
  }
 },
 "nbformat": 4,
 "nbformat_minor": 5
}
