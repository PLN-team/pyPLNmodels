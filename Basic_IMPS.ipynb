{
 "cells": [
  {
   "cell_type": "code",
   "execution_count": 3,
   "metadata": {
    "id": "6g_Sa0wlxAlG"
   },
   "outputs": [],
   "source": [
    "import torch\n",
    "import numpy as np\n",
    "import matplotlib.pyplot as plt \n",
    "import scipy.linalg as SLA\n",
    "import torch.linalg as TLA\n",
    "import math\n",
    "import warnings\n",
    "import seaborn as sns\n",
    "from scipy.linalg import toeplitz\n",
    "from utils import sample_PLN, log_stirling\n",
    "warnings.filterwarnings(\"ignore\")\n",
    "torch.set_default_dtype(torch.float64)\n",
    "import scipy\n",
    "import time\n",
    "from tqdm import tqdm\n",
    "from sklearn.linear_model import LinearRegression\n",
    "#from sqrtm import sqrtm\n",
    "import threading\n",
    "from SVR_optimizers import SAGA, SAG, SVRG\n",
    "from VRA import SAGRAD, SAGARAD, SVRGRAD\n",
    "from utils import C_from_Sigma,build_block_Sigma, log_stirling, MSE, Poisson_reg"
   ]
  },
  {
   "cell_type": "code",
   "execution_count": 4,
   "metadata": {
    "id": "x0Pp1495xAlN"
   },
   "outputs": [],
   "source": [
    "%load_ext autoreload\n",
    "\n",
    "%autoreload 2"
   ]
  },
  {
   "cell_type": "code",
   "execution_count": 5,
   "metadata": {
    "id": "206s6oLjxAlP"
   },
   "outputs": [
    {
     "name": "stdout",
     "output_type": "stream",
     "text": [
      "device  cpu\n"
     ]
    }
   ],
   "source": [
    "if torch.cuda.is_available():\n",
    "    device = torch.device('cuda')\n",
    "else : \n",
    "    device = torch.device('cpu')\n",
    "print('device ', device)"
   ]
  },
  {
   "cell_type": "code",
   "execution_count": 6,
   "metadata": {
    "id": "7Kuwd5MixAlQ"
   },
   "outputs": [],
   "source": [
    "def compare_models(dict_models,name_doss , save = False):\n",
    "    '''\n",
    "    function to compare models. It will plot the MSE of Sigma and beta according to the\n",
    "    true parameters and the log_likelihood in the y axis with the runtime in the x-axis.\n",
    "    \n",
    "    args : \n",
    "        'dict_models' dict with key the name of the model and values the model (MC_PLNPCA object where you\n",
    "                      have called model.fit_IMPS()).\n",
    "        'name_doss' : str. the name of the file you want to save the graphic. \n",
    "        'save' : bool. If True, the figure will be saved. If false, won't be saved. \n",
    "        \n",
    "    returns : \n",
    "            None but displays the figure. you can save the figure if save = True\n",
    "    '''\n",
    "    \n",
    "    ax[0].axhline(best_MSE_Sigma, label = 'MLE latent layer ')\n",
    "    ax[1].axhline(best_MSE_beta, label = 'MLE latent layer')\n",
    "    for name,model in dict_models.items() : \n",
    "    \n",
    "        abscisse = model.running_times\n",
    "        plt.subplots_adjust(hspace = 0.4)\n",
    "        ax[0].plot(abscisse, model.MSE_Sigma_list, label = name)\n",
    "        ax[0].legend()\n",
    "        ax[0].set_title('MSE Sigma')\n",
    "        \n",
    "        ax[0].set_ylabel('MSE')\n",
    "        ax[0].set_yscale('log')\n",
    "        \n",
    "        ax[1].plot(abscisse, model.MSE_beta_list, label = name)\n",
    "        ax[1].legend()\n",
    "        ax[1].set_title('MSE beta') \n",
    "        \n",
    "\n",
    "        ax[1].set_ylabel('MSE')\n",
    "        ax[1].set_yscale('log')\n",
    "        \n",
    "        ax[2].plot(abscisse, np.array(model.log_likelihood_list), label = name )\n",
    "        ax[2].legend()\n",
    "        ax[2].set_title('log_likelihood')\n",
    "        ax[2].set_ylabel('log_likelihood')\n",
    "        ax[2].set_yscale('symlog')\n",
    "    \n",
    "    plt.suptitle(name_doss)\n",
    "    if save : \n",
    "        plt.savefig(name_doss)\n",
    "    plt.show()"
   ]
  },
  {
   "cell_type": "code",
   "execution_count": 7,
   "metadata": {
    "id": "66eLwVl3xAlR"
   },
   "outputs": [],
   "source": [
    "def find_best_lr(optimizer,N_iter, acc, lrs, q, batch_size,average = 300):\n",
    "    '''\n",
    "    function that is supposed to find the best lr within a grid of lr (lrs) for \n",
    "    an optimizer to fit the MC_PLNPCA method. the metric used\n",
    "    to discriminate each lr is the log likelihood. We parallelized the code to go faster. \n",
    "    \n",
    "    args: otpimizer : should be an object of torch.optim., for example torch.optim.Rprop. \n",
    "    \n",
    "        N_iter : int. The number of iterations you want to do when running the .fit_IMPS method.\n",
    "    \n",
    "        acc : float positive. the accuracy you want when running the .fit_IMPS method. \n",
    "        \n",
    "        lrs : list. the grid of lr.\n",
    "        \n",
    "        q : the dimension q you want for the model. should be small.  \n",
    "        \n",
    "        batch_size : int. The batch_size you want  when running the .fit_IMPS method.\n",
    "        \n",
    "        average : int. the average argument for the model. \n",
    "        \n",
    "        \n",
    "        \n",
    "    returns : the best lr according to the metric\n",
    "    '''\n",
    "    #initiate some lists.\n",
    "    metrics = list()\n",
    "    models = list()\n",
    "    ts = list()\n",
    "    # launch the models with the right lr. \n",
    "    #model = Basic_IMPS(q, average = average, true_value = False)\n",
    "        \n",
    "    #model.fit(Y,O,covariates,N_iter,0.001,0.01,        400, 0.1,          batch_size , optimizer)\n",
    "    for lr in lrs: \n",
    "        model = Basic_IMPS(q, average = average, true_value = False)\n",
    "        \n",
    "        t = threading.Thread(target =model.fit,\n",
    "                            args = [Y,O,covariates,N_iter,acc,lr,        300, 0.1,            batch_size, optimizer])\n",
    "                                                          # acc    #N_iter_mode  lr_mode        # batch_size #class optimizer\n",
    "        t.start()\n",
    "        ts.append(t)\n",
    "        models.append(model)\n",
    "        \n",
    "    # join each threading. \n",
    "    for t in ts: \n",
    "        t.join()\n",
    "    # get the metrics for each model. \n",
    "    for i, model in enumerate(models) :\n",
    "        metrics.append(np.mean(np.array(model.log_likelihood_list)))\n",
    "    metrics = np.nan_to_num(np.array(metrics),-100000)\n",
    "    argmax = np.argmax(metrics)#argmax of the metrics \n",
    "    best_lr = lrs[argmax]\n",
    "    return best_lr, dict(zip(lrs,models)), models[argmax]  #the best lr, the dict in case \n",
    "                                                           # we need it to comopare, and the best model. \n",
    "    \n",
    "#lrs =[0.0001, 0.001, 0.002,0.003, 0.0002, 0.0005, 0.0008] \n",
    "#best_lr, models, best_model = find_best_lr(torch.optim.Rprop,60, acc = 0.1, lrs = lrs, q = q, batch_size = 10,average = 300)"
   ]
  },
  {
   "cell_type": "code",
   "execution_count": 8,
   "metadata": {
    "id": "i8arO5_pxAlT"
   },
   "outputs": [],
   "source": [
    "dict_optimizers = {'Adamax' : torch.optim.Adamax,\n",
    "                   'Adadelta': torch.optim.Adadelta, \n",
    "                   'Adam': torch.optim.Adam, \n",
    "                   'Adagrad' : torch.optim.Adagrad,\n",
    "                  'Rprop' : torch.optim.Rprop, \n",
    "                   'RMSprop' : torch.optim.RMSprop,\n",
    "                  'SGD' : torch.optim.SGD}"
   ]
  },
  {
   "cell_type": "code",
   "execution_count": 9,
   "metadata": {
    "id": "GZhi9lwUxAlU"
   },
   "outputs": [],
   "source": [
    "def launch_optimizers(dict_optimizers,N_iter,best_lrs, acc, q,batch_size,average = 300):\n",
    "    '''\n",
    "    launch some optimizers to fit the .fit_IMPS method of the Basic_IMPS object to compare them after. \n",
    "    args : \n",
    "         dict_optimizer : dictionnarie. dict that contains the optimizer. example: {'Rprop': torch.optim.Rprop}\n",
    "         \n",
    "         N_iter : int. the number of iteration you want the models to do for each optimizer. \n",
    "         \n",
    "         best_lrs : list of float. the (best)learning rate of each optimizer.\n",
    "    \n",
    "         acc : positive float. the accuracy you want when running the .fit_IMPS method. \n",
    "         \n",
    "         q : int. the dimension you want for the Basic_IMPS object. \n",
    "         \n",
    "         batch_size : int. the batch_size you want. \n",
    "         \n",
    "    return : a dict of model. The key are the name of the optimizer, the values are the models trained with \n",
    "            the corresponding optimizer. \n",
    "    '''\n",
    "    print('best_lrs ', best_lrs)\n",
    "    ts = list()  \n",
    "    models = list()\n",
    "    # lauch all the model with the right optimizer in a parallelized fashion. \n",
    "    \n",
    "    with concurrent.futures.ThreadPoolExecutor() as executor:\n",
    "        params = []\n",
    "        for i,(name,optimizer)  in enumerate(dict_optimizers.items()): \n",
    "            \n",
    "            params.append([Y,O,covariates,N_iter,acc,lr,        300, 0.1,            batch_size, optimizer])\n",
    "        #did not have the choice to do this since I need to get the returned value back. \n",
    "        futures = [executor.submit(Basic_IMPS(q, average = average, true_value = False).fit, param[0],param[1],param[2],param[3],param[4],param[5],param[6]) for param in params]\n",
    "        models =  [f.result() for f in futures]\n",
    "    # return the dict with the corresponding values and keys. \n",
    "    return dict(zip(dict_optimizers.keys(), models))\n",
    "# all_models = launch_optimizers()"
   ]
  },
  {
   "cell_type": "code",
   "execution_count": 10,
   "metadata": {
    "id": "H7AkGDjlxAlV"
   },
   "outputs": [],
   "source": [
    "def sample_gaussians(N_samples, mean,sqrt_Sigma):\n",
    "    '''\n",
    "    samples some gaussians with the right mean and variance. Be careful, we ask \n",
    "    for the square root of Sigma, not Sigma. will detect automatically if we are using batches or not.  \n",
    "    '''\n",
    "    q = mean.shape[0]\n",
    "    if len(mean.shape)> 1 : \n",
    "        q = mean.shape[1]\n",
    "        W_orig = torch.randn(N_samples, 1,q,1).to(device)\n",
    "    elif len(mean.shape) == 1 : \n",
    "        W_orig = torch.randn(N_samples, q, 1).to(device)\n",
    "    W = torch.matmul(sqrt_Sigma.unsqueeze(0), W_orig).squeeze() + mean.unsqueeze(0)\n",
    "    return W\n",
    "\n",
    "def log_gaussian_density(W, mu_p,Sigma_p): \n",
    "    '''\n",
    "    computes the log density of a gaussian\n",
    "    '''\n",
    "    dim = W.shape[-1]\n",
    "    const = torch.sqrt((2*math.pi)**dim*torch.det(Sigma_p))\n",
    "    Wmoinsmu = W-mu_p.unsqueeze(0)\n",
    "    inv_Sig = torch.inverse(Sigma_p)\n",
    "    if len(mu_p.shape)>1 : \n",
    "        log_d = -1/2*torch.matmul(torch.matmul(inv_Sig.unsqueeze(0), Wmoinsmu.unsqueeze(3)).squeeze().unsqueeze(2), Wmoinsmu.unsqueeze(3))\n",
    "    elif len(mu_p.shape)== 1 :  \n",
    "        log_d = -1/2*torch.matmul(Wmoinsmu.unsqueeze(1),torch.matmul(inv_Sig.unsqueeze(0), Wmoinsmu.unsqueeze(2))).squeeze()\n",
    "    return log_d.squeeze() - torch.log(const)\n",
    "\n"
   ]
  },
  {
   "cell_type": "code",
   "execution_count": 11,
   "metadata": {
    "id": "kwnWMneDxAlW"
   },
   "outputs": [],
   "source": [
    "def sample_students(N_samples,mu,Sigma,nu):\n",
    "    '''\n",
    "    sample some variables from a student law with mean mu, variance sigma and nu degrees of freedom.\n",
    "    '''\n",
    "    sqrt_Sigma = torch.from_numpy(SLA.sqrtm(Sigma))\n",
    "    normale = torch.randn(N_samples,1,q)\n",
    "    num = torch.matmul(normale, sqrt_Sigma.unsqueeze(0)).squeeze()\n",
    "    denom = torch.sum(torch.randn(nu,N_samples)**2,axis = 0)\n",
    "    prod = torch.multiply(num, torch.sqrt(nu/denom).unsqueeze(1))\n",
    "    return mu + prod\n",
    "\n",
    "\n",
    "def student_density(W,mu,Sigma,nu):\n",
    "    '''\n",
    "    density of a student law. The student law has heavier tails than the gaussian, so we will\n",
    "    avoid infinite variance. This function takes W of size either (N_s, q) or q. Returns the density \n",
    "    along the last axis. \n",
    "    '''\n",
    "    q = W.shape[-1]\n",
    "    const = math.gamma((nu+q)/2)\n",
    "    const/= math.gamma(nu/2)\n",
    "    const/= (nu*math.pi)**(q/2)\n",
    "    const/= torch.sqrt(torch.det(Sigma))\n",
    "    Wmoinsmu = W-mu\n",
    "    if len(W.shape)>1:\n",
    "        W_term = torch.matmul(torch.matmul(torch.inverse(Sigma).unsqueeze(0), Wmoinsmu.unsqueeze(2)).squeeze().unsqueeze(1),Wmoinsmu.unsqueeze(2))\n",
    "    else : \n",
    "        W_term = Wmoinsmu@torch.inverse(Sigma)@Wmoinsmu\n",
    "    return const*(1+W_term/nu)**(-(nu+q)/2)\n",
    "\n",
    "def log_student_density(W,mu,Sigma,nu):\n",
    "    return torch.log(student_density(W,mu,Sigma,nu))"
   ]
  },
  {
   "cell_type": "code",
   "execution_count": 12,
   "metadata": {
    "id": "JIfb3p2QxAlX"
   },
   "outputs": [],
   "source": [
    "def log_P_WgivenY(Y_i,covariates_i, O_i, W,C,beta):\n",
    "    '''\n",
    "    computes the log of the density of (W,Y_i) given Y_i. \n",
    "    args : \n",
    "        Y_i : tensor of size p \n",
    "        covariates_i : tensor of size d \n",
    "        O_i : tensor of size p \n",
    "        W : torch of size q. or (N_samples, q) should be a gaussian or a student. \n",
    "            if the dimension is (N_samples, q), we will return a vector of dimension N_samples\n",
    "            in which each coordinate i will be the log posterior of W[i,:]. \n",
    "        Explanation of why we want two cases : we either want to compute the \n",
    "        log posterior of a lot of W, that is (N_samples,q), or we want to get the mode, \n",
    "        so that we only need one vector of size q. \n",
    "\n",
    "    return : the log of the probability of (W,Y_i) given Y_i. For the formula see MC_PLNPCA.ipynb\n",
    "    '''\n",
    "    length = len(W.shape)\n",
    "    if length == 1 : \n",
    "        CW = W.reshape(1,-1)@(C.T)\n",
    "    elif length == 2 : \n",
    "        CW = torch.matmul(C.unsqueeze(0),W.unsqueeze(2)).squeeze()\n",
    "    A_i = O_i +   CW +covariates_i@beta\n",
    "    return -q/2*math.log(2*math.pi)-1/2*torch.norm(W, dim = -1)**2 + torch.sum(-torch.exp(A_i)   + A_i*Y_i - log_stirling(Y_i) , axis = -1).squeeze()     \n",
    "\n",
    "def batch_log_P_WgivenY(Y_b, covariates_b, O_b, W, C, beta): \n",
    "    '''\n",
    "    does the same as log_P_W_givenY but add one more dimension for computing this for a batch instead of \n",
    "    only one element. \n",
    "    '''\n",
    "    length = len(W.shape)\n",
    "    if length == 2 : \n",
    "        CW = torch.matmul(C.unsqueeze(0),W.unsqueeze(2)).squeeze()\n",
    "    elif length == 3 : \n",
    "        CW = torch.matmul(C.unsqueeze(0).unsqueeze(1), W.unsqueeze(3)).squeeze()\n",
    "    A_b = O_b + CW + covariates_b@beta\n",
    "    return -q/2*math.log(2*math.pi)-1/2*torch.norm(W, dim = -1)**2 + torch.sum(-torch.exp(A_b)   + A_b*Y_b - log_stirling(Y_b) , axis = -1)\n"
   ]
  },
  {
   "cell_type": "code",
   "execution_count": 13,
   "metadata": {
    "id": "-4TWu_TNxAlY"
   },
   "outputs": [],
   "source": [
    "class Basic_IMPS():\n",
    "    def __init__(self, q,average = 50, true_value = False):\n",
    "        self.q = q\n",
    "        self.average = average \n",
    "        self.true_value = true_value\n",
    "        self.MSE_beta_list = list()\n",
    "        self.MSE_Sigma_list = list()\n",
    "        self.running_times = list()\n",
    "        self.log_likelihood_list = list()\n",
    "        self.last_likelihoods = list()\n",
    "        self.log_likelihoods = list()\n",
    "        self.cmpt = 0 \n",
    "        self.var_weights = np.array([])\n",
    "        self.norm_grad_log_beta_list = []\n",
    "        self.norm_grad_log_C_list = []\n",
    "    def init_data(self, Y,O,covariates): \n",
    "        '''\n",
    "        Initialise some usefuls variables given the data. \n",
    "        We also initialise C and beta. \n",
    "        '''\n",
    "#         torch.manual_seed(0)\n",
    "        self.Y = Y.float().to(device)\n",
    "        self.covariates = covariates.to(device)\n",
    "        self.O = O.to(device)\n",
    "        self.n = Y.shape[0] \n",
    "        self.p = Y.shape[1]\n",
    "        self.d = self.covariates.shape[1]\n",
    "        self.starting_point = torch.zeros(self.n, self.q)\n",
    "        noise = torch.randn(self.p) \n",
    "        self.Sigma =  (torch.diag(noise**2)+ 1e-1)\n",
    "        self.last_betas = torch.zeros(self.average,self.d,self.p) # init of the average of the last betas\n",
    "        self.last_Cs = torch.zeros(self.average, self.p, self.q) #init of the average of the last Sigmas\n",
    "        # init C with an array of size (p,q)\n",
    "        self.C = torch.clone(torch.from_numpy(C_from_Sigma(self.Sigma,self.q))).to(device)\n",
    "        # init beta \n",
    "        poiss_reg = Poisson_reg()\n",
    "        poiss_reg.fit_torch(O,covariates,Y)\n",
    "        self.beta = torch.clone(poiss_reg.beta.detach()).to(device)\n",
    "        self.C = init_C(O,covariates,Y,self.beta,self.q).to(device)\n",
    "        # if we want to take the true value of C and beta \n",
    "        if self.true_value : \n",
    "            self.C = torch.clone(true_C).to(device)\n",
    "            self.beta = torch.clone(true_beta).to(device)\n",
    "        #setting some gradients for optimization. \n",
    "        self.C.requires_grad_(True)\n",
    "        self.beta.requires_grad_(True)\n",
    "        self.C_mean = torch.clone(self.C)\n",
    "        self.beta_mean = torch.clone(self.beta)\n",
    "        \n",
    "    def get_batch(self,batch_size, save_batch_size = True): \n",
    "        '''\n",
    "        get the batches required to do a  minibatch gradient ascent.  \n",
    "        \n",
    "        args : \n",
    "                'batch_size' int.  the batch size you want. \n",
    "                \n",
    "        returns : a generator. Will generate n/batch_size samples of size batch_size (except the last one \n",
    "                    since the rest of the division is not always 0)\n",
    "        '''\n",
    "        #np.random.seed(0)\n",
    "        indices = np.arange(self.n)\n",
    "        np.random.shuffle(indices)\n",
    "        #if we want to set the batch size of the model to the given batch_size \n",
    "        if save_batch_size : \n",
    "            self.batch_size = batch_size\n",
    "        # get the number of batches and the size of the last one. \n",
    "        nb_full_batch, last_batch_size  = self.n//batch_size, self.n % batch_size  \n",
    "        for i in range(nb_full_batch): \n",
    "            yield   (self.Y[indices[i*batch_size: (i+1)*batch_size]], \n",
    "                    self.covariates[indices[i*batch_size: (i+1)*batch_size]],\n",
    "                    self.O[indices[i*batch_size: (i+1)*batch_size]], \n",
    "                    indices[i*batch_size: (i+1)*batch_size]\n",
    "                    ) \n",
    "        if last_batch_size != 0 : \n",
    "            if save_batch_size : \n",
    "                self.batch_size = last_batch_size\n",
    "            yield   (self.Y[indices[-last_batch_size:]], \n",
    "                    self.covariates[indices[-last_batch_size:]],\n",
    "                    self.O[indices[-last_batch_size:]],\n",
    "                    indices[-last_batch_size:]\n",
    "                    )\n",
    "            \n",
    "    def get_prior_batch(self,batch_size,  prior, save_batch_size = True,): \n",
    "        '''\n",
    "        get the batches required to do a  minibatch gradient ascent.  \n",
    "        \n",
    "        args : \n",
    "                'batch_size' int.  the batch size you want. \n",
    "                \n",
    "        returns : a generator. Will generate n/batch_size samples of size batch_size (except the last one \n",
    "                    since the rest of the division is not always 0)\n",
    "        '''\n",
    "        nb_full_batch, last_batch_size  = self.n//batch_size, self.n % batch_size  \n",
    "        indices = np.random.choice(np.arange(self.n), self.n,replace = False) \n",
    "        #if we want to set the batch size of the model to the given batch_size \n",
    "        if save_batch_size : \n",
    "            self.batch_size = batch_size\n",
    "        # get the number of batches and the size of the last one. \n",
    "        for i in range(nb_full_batch): \n",
    "            yield   (self.Y[indices[i*batch_size: (i+1)*batch_size]], \n",
    "                    self.covariates[indices[i*batch_size: (i+1)*batch_size]],\n",
    "                    self.O[indices[i*batch_size: (i+1)*batch_size]], \n",
    "                    indices[i*batch_size: (i+1)*batch_size]\n",
    "                    ) \n",
    "        if last_batch_size != 0 : \n",
    "            if save_batch_size : \n",
    "                self.batch_size = last_batch_size\n",
    "            yield   (self.Y[indices[-last_batch_size:]], \n",
    "                    self.covariates[indices[-last_batch_size:]],\n",
    "                    self.O[indices[-last_batch_size:]],\n",
    "                    indices[-last_batch_size:]\n",
    "                    )\n",
    "\n",
    "        \n",
    "\n",
    "    def keep_records(self,log_like = torch.zeros(1)): \n",
    "        '''\n",
    "        function that keep some records in order to plot the evolution after.\n",
    "        '''\n",
    "        average_log_like = self.average_params(log_like)\n",
    "        # keep the records of the norm of the gradients and the MSE wrt the true parameter\n",
    "        self.norm_grad_log_beta_list.append((torch.norm(self.beta.grad)/(self.d*self.p)).item())\n",
    "        self.norm_grad_log_C_list.append((torch.norm(self.C.grad)/(self.p*self.q)).item())\n",
    "        self.MSE_beta_list.append(torch.mean((self.beta_mean -true_beta)**2).item())\n",
    "        self.MSE_Sigma_list.append(torch.mean((self.C_mean@(self.C_mean.T) -true_Sigma_sampling)**2).item())\n",
    "        self.running_times.append(time.time()-self.t0)\n",
    "        #print('average log_like : ', average_log_like)\n",
    "        self.log_likelihood_list.append(average_log_like)\n",
    "        \n",
    "    \n",
    "    \n",
    "    def average_params(self,log_like): \n",
    "        '''\n",
    "        method that averages the parameters in order to smooth the variance. \n",
    "        We will take, for example, the last self.average betas computed to make \n",
    "        a better approximation of beta. We will do the same for C.\n",
    "        This function adds the last parameters computed to update the mean of the parameter. \n",
    "        If we have not enough betas or Sigmas (less than self.average), the mean will be on those parameters. \n",
    "        args : \n",
    "            log_like : the likelihood computed with the current parameters.\n",
    "        \n",
    "        returns : \n",
    "                None but update the mean of the last self.average parameters.  \n",
    "        '''\n",
    "        \n",
    "        self.cmpt +=1 # to keep track of the number of parameters we have for the mean\n",
    "        # remove the oldest parameters and add the more recent one.\n",
    "        self.last_betas[1:self.average] = torch.clone(self.last_betas[0: self.average-1].detach())\n",
    "        self.last_betas[0] = torch.clone(self.beta.detach())\n",
    "        self.last_Cs[1:self.average] = torch.clone(self.last_Cs[0: self.average-1].detach())\n",
    "        self.last_Cs[0] = torch.clone(self.C.detach())\n",
    "        self.last_likelihoods.append(log_like)\n",
    "        # update the mean of the parameter\n",
    "        \n",
    "        # if we have enough parameters \n",
    "        if self.cmpt > self.average : \n",
    "            del(self.last_likelihoods[0])\n",
    "            self.C_mean = torch.mean(self.last_Cs, axis = 0)\n",
    "            self.beta_mean = torch.mean(self.last_betas, axis = 0)\n",
    "            return np.mean(np.array(self.last_likelihoods))\n",
    "        \n",
    "        # if we don't have enough parameters. \n",
    "        else : \n",
    "            self.C_mean = torch.sum(self.last_Cs, axis = 0)/self.cmpt\n",
    "            self.beta_mean = torch.sum(self.last_betas, axis = 0)/self.cmpt\n",
    "            return np.mean(np.array(self.last_likelihoods))\n",
    "\n",
    "\n",
    "    def fit(self, Y, O, covariates,  N_epoch, acc,lr,N_iter_mode, lr_mode, SVRGRAD_bool, SVRG_freq, VR, batch_size = 10, class_optimizer = torch.optim.Rprop, combine = True):\n",
    "        '''\n",
    "        fit the data. We infer p_theta with importance sampling and then use pytorch autodifferentiation\n",
    "        '''\n",
    "        self.t0 = time.time()\n",
    "        self.batch_size = batch_size\n",
    "        self.acc = acc\n",
    "        N_samples = int(1/acc) # We will sample 1/acc gaussians\n",
    "        self.init_data(Y,O, covariates)# initialize the data. \n",
    "        self.optim = class_optimizer([self.beta,self.C], lr = lr) # optimizer on C and beta\n",
    "        self.optim.zero_grad() # We do this since it is possible that beta and C have gradients. \n",
    "        vr = VR([self.beta, self.C], self.n)\n",
    "        for j in tqdm(range(N_epoch)): \n",
    "            for i, (Y_b, covariates_b, O_b, selected_indices) in enumerate(self.get_batch(batch_size)): \n",
    "                self.Y_b, self.covariates_b, self.O_b = Y_b.to(device), covariates_b.to(device), O_b.to(device)\n",
    "                self.selected_indices = selected_indices\n",
    "                self.get_gradient_requirement(N_iter_mode, lr_mode, N_samples)\n",
    "                batch_grad_C = - self.get_batch_grad_C()\n",
    "                batch_grad_beta = - self.get_batch_grad_beta()\n",
    "                if combine : \n",
    "                    try: \n",
    "                        vr.update_new_grad([batch_grad_beta,batch_grad_C], selected_indices)\n",
    "                        self.optim.step()\n",
    "                    except :\n",
    "                        self.beta.grad = torch.mean(batch_grad_beta, axis =0)\n",
    "                        self.C.grad = torch.mean(batch_grad_C, axis = 0)\n",
    "                        vr.update_new_grad(selected_indices)\n",
    "                        self.optim.step()\n",
    "                else: \n",
    "                    self.beta.grad = torch.mean(batch_grad_beta, axis = 0)\n",
    "                    self.C.grad = torch.mean(batch_grad_C, axis = 0)\n",
    "                    self.optim.step()\n",
    "                self.optim.zero_grad()\n",
    "                self.keep_records()\n",
    "                \n",
    "            if SVRGRAD_bool : \n",
    "                self.Y_b, self.covariates_b, self.O_b = self.Y, self.covariates, self.O\n",
    "                self.selected_indices = np.arange(0,self.n)\n",
    "                self.get_gradient_requirement(N_iter_mode, lr_mode, N_samples)\n",
    "                full_grad_C = -self.get_batch_grad_C()\n",
    "                full_grad_beta = -self.get_batch_grad_beta()\n",
    "                vr.update_table([full_grad_beta,full_grad_C])\n",
    "            if j == 0 : \n",
    "                lr_mode/=10\n",
    "                \n",
    "            if j == 20 : \n",
    "                lr_mode/=3\n",
    "            if j == 40 : \n",
    "                lr_mode/= 2\n",
    "                \n",
    "                \n",
    "        \n",
    "\n",
    "    \n",
    "    def infer_batch_p_theta(self, N_iter_mode, lr_mode, N_s,take_mean = True): \n",
    "        self.get_gradient_requirement(N_iter_mode, lr_mode, N_s)\n",
    "        var =  torch.var(self.weights, axis = 0)\n",
    "        self.var_weights = np.concatenate((self.var_weights, var.detach().numpy()))\n",
    "        log = torch.log(torch.mean(self.weights,axis = 0))+self.const#*self.mask\n",
    "        if take_mean :\n",
    "            return torch.mean(log)#*torch.exp(self.missed_batch_log_constant*0)))\n",
    "        else: \n",
    "            return log \n",
    "    \n",
    "    def get_gradient_requirement(self, N_iter_mode, lr_mode, N_s):\n",
    "        '''\n",
    "        does all the operation that we need to compute the gradients. \n",
    "        We need the samples and the weights, that is what we compute here.\n",
    "        '''\n",
    "        #t = time.time()\n",
    "        self.find_batch_mode(N_iter_mode, lr_mode)\n",
    "        #print('time took mode ', time.time()- t)\n",
    "        self.get_batch_best_var()\n",
    "        self.samples = sample_gaussians(N_s, self.batch_mode, self.sqrt_Sigma_b)\n",
    "        self.weights = self.get_batch_weights()\n",
    "        \n",
    "    def get_batch_weights(self): \n",
    "        self.log_f = self.batch_un_log_posterior(self.samples)\n",
    "        self.log_g = log_gaussian_density(self.samples, self.batch_mode, self.Sigma_b)\n",
    "        diff_log = self.log_f-self.log_g \n",
    "        self.const = torch.max(diff_log, axis = 0)[0]\n",
    "        diff_log -= torch.max(diff_log, axis = 0)[0]\n",
    "        weights = torch.exp(diff_log)\n",
    "        return weights\n",
    "    def get_batch_best_var(self):\n",
    "        batch_matrix = torch.matmul(self.C.unsqueeze(2), self.C.unsqueeze(1)).unsqueeze(0)\n",
    "        CW = torch.matmul(self.C.unsqueeze(0),self.batch_mode.unsqueeze(2)).squeeze()\n",
    "        common = torch.exp(self.O_b  + self.covariates_b@self.beta + CW).unsqueeze(2).unsqueeze(3)\n",
    "        prod = batch_matrix*common\n",
    "        Hess_post = torch.sum(prod, axis = 1)+torch.eye(self.q).to(device) \n",
    "        self.Sigma_b = torch.inverse(Hess_post.detach())\n",
    "        eps = torch.diag(torch.full((self.q,1),1e-8).squeeze()).to(device)\n",
    "        self.sqrt_Sigma_b = TLA.cholesky(self.Sigma_b+ eps)\n",
    "    def show_Sigma(self):\n",
    "        sns.heatmap((self.C_mean@(self.C_mean.T)).detach().numpy())\n",
    "        plt.show()\n",
    "        \n",
    "    def get_batch_grad_beta(self): \n",
    "        first = torch.matmul(self.covariates_b.unsqueeze(2), self.Y_b.unsqueeze(1).double())\n",
    "        XB = torch.matmul(self.covariates_b.unsqueeze(1), self.beta.unsqueeze(0)).squeeze()\n",
    "        CV = torch.matmul(self.C.reshape(1,1,self.p,1,self.q), self.samples.unsqueeze(2).unsqueeze(4)).squeeze()\n",
    "        Xexp = torch.matmul(self.covariates_b.unsqueeze(0).unsqueeze(3), torch.exp(self.O_b + XB + CV).unsqueeze(2))\n",
    "        sec = torch.sum(torch.multiply(self.weights.unsqueeze(2).unsqueeze(3), Xexp), axis = 0)/(torch.sum(self.weights, axis = 0).unsqueeze(1).unsqueeze(2))\n",
    "        return first-sec\n",
    "    \n",
    "    def get_batch_grad_C(self): \n",
    "        XB = torch.matmul(self.covariates_b.unsqueeze(1), self.beta.unsqueeze(0)).squeeze()\n",
    "        CV = torch.matmul(self.C.reshape(1,1,self.p,1,self.q), self.samples.unsqueeze(2).unsqueeze(4)).squeeze()\n",
    "        Ymoinsexp = self.Y_b - torch.exp(self.O_b + XB + CV)\n",
    "        outer = torch.matmul(Ymoinsexp.unsqueeze(3), self.samples.unsqueeze(2))\n",
    "        denum = torch.sum(self.weights, axis = 0)\n",
    "        num = torch.multiply(self.weights.unsqueeze(2).unsqueeze(3), outer)\n",
    "        batch_grad = torch.sum(num/(denum.unsqueeze(0).unsqueeze(2).unsqueeze(3)), axis = 0)\n",
    "        return batch_grad\n",
    "    \n",
    "    \n",
    "    def find_batch_mode(self, N_iter, lr, eps = 7e-3):\n",
    "        def batch_un_log_posterior(W): \n",
    "            return batch_log_P_WgivenY(self.Y_b, self.covariates_b, self.O_b, W, self.C, self.beta) \n",
    "        self.batch_un_log_posterior = batch_un_log_posterior\n",
    "        W = torch.clone(self.starting_point[self.selected_indices].detach()).to(device)\n",
    "        W.requires_grad_(True)\n",
    "        optimizer = torch.optim.Rprop([W], lr = lr)\n",
    "        criterion = 2*eps\n",
    "        old_W = torch.clone(W)\n",
    "        i = 0\n",
    "        keep_condition = True\n",
    "        while  i < N_iter and keep_condition: \n",
    "            \n",
    "            loss = -torch.mean(self.batch_un_log_posterior(W))\n",
    "            loss.backward()\n",
    "            optimizer.step()\n",
    "            crit = torch.max(torch.abs(W-old_W))\n",
    "            optimizer.zero_grad()\n",
    "            if crit<eps and i > 2 : \n",
    "                keep_condition = False \n",
    "            old_W = torch.clone(W)\n",
    "            i+= 1\n",
    "        print('nb iteration : ', i)\n",
    "        self.batch_mode = torch.clone(W)\n",
    "        self.starting_point[self.selected_indices] = torch.clone(W)\n"
   ]
  },
  {
   "cell_type": "code",
   "execution_count": 14,
   "metadata": {
    "id": "IqcXYmLoxAlZ"
   },
   "outputs": [],
   "source": [
    "d = 3\n",
    "n = 600;  p = 20\n",
    "q = 3"
   ]
  },
  {
   "cell_type": "code",
   "execution_count": 15,
   "metadata": {
    "colab": {
     "base_uri": "https://localhost:8080/"
    },
    "id": "MbrQG5UzxAlZ",
    "outputId": "33ff5f71-164f-460a-8899-188f7261ce66"
   },
   "outputs": [],
   "source": [
    "# 0 est pas mal \n",
    "#torch.manual_seed(0)\n",
    "Sigma_sampling = 1*torch.from_numpy(build_block_Sigma(p,p//4))/1.5 #+ 0.5*torch.eye(p)\n",
    "true_C = torch.from_numpy(C_from_Sigma(Sigma_sampling, q))\n",
    "true_Sigma_sampling = true_C@(true_C.T)\n",
    "true_beta =torch.randn((d, p))/3\n",
    "\n",
    "covariates = torch.randn((n,d))\n",
    "O =  0+torch.zeros((n,p))\n",
    "sample_model = sample_PLN()\n",
    "Y, Z  = sample_model.sample(Sigma_sampling,true_beta, O, covariates)\n",
    "Y = torch.from_numpy(Y).to(device)\n",
    "covariates.to(device)\n",
    "O.to(device)\n",
    "None"
   ]
  },
  {
   "cell_type": "code",
   "execution_count": 18,
   "metadata": {},
   "outputs": [
    {
     "name": "stdout",
     "output_type": "stream",
     "text": [
      "beta tensor([[0.0721, 0.0173, 0.0111, 0.2472, 0.8276, 0.1167, 0.5771, 0.0185, 0.0176,\n",
      "         0.9563, 0.9506, 0.0810, 0.1193, 0.1644, 0.7470, 0.8701, 0.6330, 0.0342,\n",
      "         0.0820, 0.2957],\n",
      "        [0.3921, 0.9690, 0.7943, 0.2299, 0.9044, 0.1244, 0.0810, 0.5851, 0.1659,\n",
      "         0.2055, 0.1624, 0.0337, 0.5632, 0.7782, 0.2893, 0.0301, 0.7187, 0.1258,\n",
      "         0.5535, 0.8462],\n",
      "        [0.9978, 0.2461, 0.5394, 0.7584, 0.6431, 0.5969, 0.2667, 0.9336, 0.7192,\n",
      "         0.1054, 0.0445, 0.1851, 0.0816, 0.8329, 0.1944, 0.8481, 0.6620, 0.6229,\n",
      "         0.3470, 0.0442]], requires_grad=True)\n"
     ]
    },
    {
     "data": {
      "text/plain": [
       "tensor([[ 0.6440, -0.0529,  1.0828, -0.4562],\n",
       "        [ 0.6319, -1.0846, -0.8225, -0.5532],\n",
       "        [-0.3913, -0.9642,  0.5042, -0.8430],\n",
       "        [-0.3707, -0.9855,  0.8337, -0.6965],\n",
       "        [ 0.4892, -0.1944,  0.8675, -0.5066],\n",
       "        [-0.1754, -0.2775,  0.6091, -0.4194],\n",
       "        [ 0.1628, -0.2760,  0.0894, -0.2500],\n",
       "        [ 0.3276, -0.3143,  0.7233, -0.0911],\n",
       "        [-0.3250, -0.1479,  0.2841, -0.8321],\n",
       "        [ 0.5293,  0.0515,  0.3487, -0.1768],\n",
       "        [ 0.5585, -0.2963, -0.1919, -0.2240],\n",
       "        [-0.0452,  0.0225, -0.0475, -0.8488],\n",
       "        [ 0.6993,  0.0528,  0.3598, -0.0955],\n",
       "        [ 0.5912, -0.1705, -0.0144, -0.1311],\n",
       "        [ 0.6193,  0.1220,  0.3912, -0.2018],\n",
       "        [ 0.1352,  0.9153, -0.4643, -1.7843],\n",
       "        [ 0.5297,  0.8849, -0.0503, -1.4554],\n",
       "        [-0.8023, -0.1179, -0.1786, -1.8377],\n",
       "        [-0.2977,  0.4764,  0.5510, -1.6246],\n",
       "        [ 0.3932, -0.7487, -1.5330, -1.1868]])"
      ]
     },
     "execution_count": 18,
     "metadata": {},
     "output_type": "execute_result"
    }
   ],
   "source": [
    "\n",
    "    \n",
    "poisson_reg = Poisson_reg()\n",
    "poisson_reg.fit_torch(O,covariates,Y)\n",
    "beta_init = poisson_reg.beta\n",
    "init_C(O, covariates, Y,beta_init, 4)\n"
   ]
  },
  {
   "cell_type": "code",
   "execution_count": null,
   "metadata": {
    "colab": {
     "base_uri": "https://localhost:8080/"
    },
    "id": "GtQTovyIxAla",
    "outputId": "85a87879-e3a5-4a34-e91c-af78b3a07dbd",
    "scrolled": true
   },
   "outputs": [
    {
     "name": "stderr",
     "output_type": "stream",
     "text": [
      "\r",
      "  0%|          | 0/30 [00:00<?, ?it/s]"
     ]
    },
    {
     "name": "stdout",
     "output_type": "stream",
     "text": [
      "nb iteration :  61\n",
      "nb iteration :  35\n",
      "nb iteration :  30\n",
      "nb iteration :  31\n",
      "nb iteration :  32\n",
      "nb iteration :  29\n",
      "nb iteration :  35\n",
      "nb iteration :  26\n",
      "nb iteration :  43\n",
      "nb iteration :  40\n",
      "nb iteration :  36\n",
      "nb iteration :  29\n",
      "nb iteration :  38\n",
      "nb iteration :  38\n",
      "nb iteration :  36\n",
      "nb iteration :  32\n",
      "nb iteration :  41\n",
      "nb iteration :  36\n",
      "nb iteration :  30\n",
      "nb iteration :  31\n",
      "nb iteration :  36\n",
      "nb iteration :  32\n",
      "nb iteration :  26\n",
      "nb iteration :  37\n",
      "nb iteration :  31\n",
      "nb iteration :  41\n",
      "nb iteration :  30\n",
      "nb iteration :  32\n",
      "nb iteration :  50\n",
      "nb iteration :  45\n",
      "nb iteration :  30\n",
      "nb iteration :  29\n",
      "nb iteration :  37\n",
      "nb iteration :  50\n",
      "nb iteration :  36\n",
      "nb iteration :  38\n",
      "nb iteration :  38\n"
     ]
    },
    {
     "name": "stderr",
     "output_type": "stream",
     "text": [
      "\r",
      "  3%|▎         | 1/30 [00:01<00:42,  1.45s/it]"
     ]
    },
    {
     "name": "stdout",
     "output_type": "stream",
     "text": [
      "nb iteration :  43\n",
      "nb iteration :  30\n",
      "nb iteration :  29\n",
      "nb iteration :  20\n",
      "nb iteration :  98\n",
      "nb iteration :  31\n",
      "nb iteration :  18\n",
      "nb iteration :  28\n",
      "nb iteration :  27\n",
      "nb iteration :  19\n",
      "nb iteration :  16\n",
      "nb iteration :  26\n",
      "nb iteration :  16\n",
      "nb iteration :  22\n",
      "nb iteration :  20\n",
      "nb iteration :  17\n",
      "nb iteration :  16\n",
      "nb iteration :  20\n",
      "nb iteration :  15\n",
      "nb iteration :  27\n",
      "nb iteration :  29\n",
      "nb iteration :  22\n",
      "nb iteration :  16\n",
      "nb iteration :  31\n",
      "nb iteration :  27\n",
      "nb iteration :  15\n",
      "nb iteration :  40\n",
      "nb iteration :  35\n",
      "nb iteration :  21\n",
      "nb iteration :  16\n",
      "nb iteration :  27\n",
      "nb iteration :  19\n",
      "nb iteration :  22\n",
      "nb iteration :  27\n",
      "nb iteration :  30\n",
      "nb iteration :  25\n",
      "nb iteration :  21\n",
      "nb iteration :  32\n",
      "nb iteration :  21\n"
     ]
    },
    {
     "name": "stderr",
     "output_type": "stream",
     "text": [
      "\r",
      "  7%|▋         | 2/30 [00:02<00:37,  1.35s/it]"
     ]
    },
    {
     "name": "stdout",
     "output_type": "stream",
     "text": [
      "nb iteration :  20\n",
      "nb iteration :  26\n",
      "nb iteration :  20\n",
      "nb iteration :  19\n",
      "nb iteration :  10\n",
      "nb iteration :  16\n",
      "nb iteration :  15\n",
      "nb iteration :  16\n",
      "nb iteration :  10\n",
      "nb iteration :  9\n",
      "nb iteration :  15\n",
      "nb iteration :  10\n",
      "nb iteration :  9\n",
      "nb iteration :  9\n",
      "nb iteration :  16\n",
      "nb iteration :  17\n",
      "nb iteration :  14\n",
      "nb iteration :  20\n",
      "nb iteration :  19\n",
      "nb iteration :  14\n",
      "nb iteration :  26\n",
      "nb iteration :  20\n",
      "nb iteration :  16\n",
      "nb iteration :  22\n",
      "nb iteration :  16\n",
      "nb iteration :  23\n",
      "nb iteration :  15\n",
      "nb iteration :  16\n",
      "nb iteration :  15\n",
      "nb iteration :  19\n",
      "nb iteration :  20\n",
      "nb iteration :  15\n",
      "nb iteration :  15\n",
      "nb iteration :  15\n",
      "nb iteration :  22\n",
      "nb iteration :  16\n",
      "nb iteration :  25\n",
      "nb iteration :  33\n",
      "nb iteration :  15\n"
     ]
    },
    {
     "name": "stderr",
     "output_type": "stream",
     "text": [
      "\r",
      " 10%|█         | 3/30 [00:03<00:32,  1.20s/it]"
     ]
    },
    {
     "name": "stdout",
     "output_type": "stream",
     "text": [
      "nb iteration :  36\n",
      "nb iteration :  14\n",
      "nb iteration :  26\n",
      "nb iteration :  15\n",
      "nb iteration :  21\n",
      "nb iteration :  10\n",
      "nb iteration :  15\n",
      "nb iteration :  15\n",
      "nb iteration :  9\n",
      "nb iteration :  13\n",
      "nb iteration :  10\n",
      "nb iteration :  14\n",
      "nb iteration :  13\n",
      "nb iteration :  14\n",
      "nb iteration :  13\n",
      "nb iteration :  13\n",
      "nb iteration :  14\n",
      "nb iteration :  10\n",
      "nb iteration :  39\n",
      "nb iteration :  25\n",
      "nb iteration :  19\n",
      "nb iteration :  10\n",
      "nb iteration :  10\n",
      "nb iteration :  10\n",
      "nb iteration :  15\n",
      "nb iteration :  14\n",
      "nb iteration :  22\n",
      "nb iteration :  27\n",
      "nb iteration :  16\n",
      "nb iteration :  15\n",
      "nb iteration :  15\n",
      "nb iteration :  21\n",
      "nb iteration :  15\n",
      "nb iteration :  16\n",
      "nb iteration :  16\n",
      "nb iteration :  33\n",
      "nb iteration :  14\n",
      "nb iteration :  15\n",
      "nb iteration :  16\n",
      "nb iteration :  16\n",
      "nb iteration :  21\n"
     ]
    },
    {
     "name": "stderr",
     "output_type": "stream",
     "text": [
      "\r",
      " 13%|█▎        | 4/30 [00:04<00:28,  1.10s/it]"
     ]
    },
    {
     "name": "stdout",
     "output_type": "stream",
     "text": [
      "nb iteration :  15\n",
      "nb iteration :  24\n",
      "nb iteration :  21\n",
      "nb iteration :  15\n",
      "nb iteration :  14\n",
      "nb iteration :  20\n",
      "nb iteration :  20\n",
      "nb iteration :  31\n",
      "nb iteration :  16\n",
      "nb iteration :  14\n",
      "nb iteration :  10\n",
      "nb iteration :  9\n",
      "nb iteration :  16\n",
      "nb iteration :  14\n",
      "nb iteration :  10\n",
      "nb iteration :  22\n",
      "nb iteration :  15\n",
      "nb iteration :  16\n",
      "nb iteration :  19\n",
      "nb iteration :  16\n",
      "nb iteration :  15\n",
      "nb iteration :  14\n",
      "nb iteration :  15\n",
      "nb iteration :  14\n",
      "nb iteration :  18\n",
      "nb iteration :  28\n",
      "nb iteration :  22\n",
      "nb iteration :  21\n",
      "nb iteration :  27\n",
      "nb iteration :  22\n",
      "nb iteration :  15\n",
      "nb iteration :  19\n",
      "nb iteration :  33\n",
      "nb iteration :  15\n",
      "nb iteration :  16\n",
      "nb iteration :  22\n",
      "nb iteration :  20\n"
     ]
    },
    {
     "name": "stderr",
     "output_type": "stream",
     "text": [
      "\r",
      " 17%|█▋        | 5/30 [00:05<00:26,  1.05s/it]"
     ]
    },
    {
     "name": "stdout",
     "output_type": "stream",
     "text": [
      "nb iteration :  16\n",
      "nb iteration :  15\n",
      "nb iteration :  21\n",
      "nb iteration :  20\n",
      "nb iteration :  16\n",
      "nb iteration :  21\n",
      "nb iteration :  15\n",
      "nb iteration :  10\n",
      "nb iteration :  27\n",
      "nb iteration :  16\n",
      "nb iteration :  22\n",
      "nb iteration :  16\n",
      "nb iteration :  16\n",
      "nb iteration :  10\n",
      "nb iteration :  19\n",
      "nb iteration :  22\n",
      "nb iteration :  19\n",
      "nb iteration :  14\n",
      "nb iteration :  27\n",
      "nb iteration :  20\n",
      "nb iteration :  14\n",
      "nb iteration :  10\n",
      "nb iteration :  19\n",
      "nb iteration :  10\n",
      "nb iteration :  14\n",
      "nb iteration :  22\n",
      "nb iteration :  15\n",
      "nb iteration :  19\n",
      "nb iteration :  20\n",
      "nb iteration :  20\n",
      "nb iteration :  16\n",
      "nb iteration :  22\n",
      "nb iteration :  10\n",
      "nb iteration :  16\n",
      "nb iteration :  21\n",
      "nb iteration :  22\n",
      "nb iteration :  16\n",
      "nb iteration :  13\n",
      "nb iteration :  22\n",
      "nb iteration :  20\n"
     ]
    },
    {
     "name": "stderr",
     "output_type": "stream",
     "text": [
      "\r",
      " 20%|██        | 6/30 [00:06<00:23,  1.01it/s]"
     ]
    },
    {
     "name": "stdout",
     "output_type": "stream",
     "text": [
      "nb iteration :  15\n",
      "nb iteration :  13\n",
      "nb iteration :  25\n",
      "nb iteration :  16\n",
      "nb iteration :  22\n",
      "nb iteration :  14\n",
      "nb iteration :  32\n",
      "nb iteration :  14\n",
      "nb iteration :  26\n",
      "nb iteration :  14\n",
      "nb iteration :  10\n",
      "nb iteration :  21\n",
      "nb iteration :  15\n",
      "nb iteration :  13\n",
      "nb iteration :  15\n",
      "nb iteration :  10\n",
      "nb iteration :  15\n",
      "nb iteration :  16\n",
      "nb iteration :  10\n",
      "nb iteration :  16\n",
      "nb iteration :  14\n",
      "nb iteration :  21\n",
      "nb iteration :  20\n",
      "nb iteration :  10\n",
      "nb iteration :  10\n",
      "nb iteration :  14\n",
      "nb iteration :  16\n",
      "nb iteration :  26\n",
      "nb iteration :  15\n",
      "nb iteration :  15\n",
      "nb iteration :  16\n",
      "nb iteration :  14\n",
      "nb iteration :  39\n",
      "nb iteration :  14\n",
      "nb iteration :  26\n",
      "nb iteration :  21\n",
      "nb iteration :  16\n",
      "nb iteration :  14\n",
      "nb iteration :  22\n",
      "nb iteration :  22\n",
      "nb iteration :  22\n"
     ]
    },
    {
     "name": "stderr",
     "output_type": "stream",
     "text": [
      "\r",
      " 23%|██▎       | 7/30 [00:06<00:21,  1.05it/s]"
     ]
    },
    {
     "name": "stdout",
     "output_type": "stream",
     "text": [
      "nb iteration :  15\n",
      "nb iteration :  14\n",
      "nb iteration :  10\n",
      "nb iteration :  20\n",
      "nb iteration :  16\n",
      "nb iteration :  14\n",
      "nb iteration :  19\n",
      "nb iteration :  10\n",
      "nb iteration :  16\n",
      "nb iteration :  10\n",
      "nb iteration :  14\n",
      "nb iteration :  24\n",
      "nb iteration :  16\n",
      "nb iteration :  27\n",
      "nb iteration :  9\n",
      "nb iteration :  15\n",
      "nb iteration :  10\n",
      "nb iteration :  10\n",
      "nb iteration :  15\n",
      "nb iteration :  16\n",
      "nb iteration :  10\n",
      "nb iteration :  14\n",
      "nb iteration :  16\n",
      "nb iteration :  15\n",
      "nb iteration :  15\n",
      "nb iteration :  19\n",
      "nb iteration :  45\n",
      "nb iteration :  15\n",
      "nb iteration :  15\n",
      "nb iteration :  16\n",
      "nb iteration :  15\n",
      "nb iteration :  22\n",
      "nb iteration :  15\n",
      "nb iteration :  14\n",
      "nb iteration :  20\n",
      "nb iteration :  19\n",
      "nb iteration :  15\n",
      "nb iteration :  16\n",
      "nb iteration :  14\n",
      "nb iteration :  15\n",
      "nb iteration :  27\n",
      "nb iteration :  16\n",
      "nb iteration :  16\n"
     ]
    },
    {
     "name": "stderr",
     "output_type": "stream",
     "text": [
      "\r",
      " 27%|██▋       | 8/30 [00:07<00:20,  1.09it/s]"
     ]
    },
    {
     "name": "stdout",
     "output_type": "stream",
     "text": [
      "nb iteration :  26\n",
      "nb iteration :  15\n",
      "nb iteration :  15\n",
      "nb iteration :  14\n",
      "nb iteration :  16\n",
      "nb iteration :  12\n",
      "nb iteration :  21\n",
      "nb iteration :  15\n",
      "nb iteration :  15\n",
      "nb iteration :  10\n",
      "nb iteration :  14\n",
      "nb iteration :  13\n",
      "nb iteration :  16\n",
      "nb iteration :  16\n",
      "nb iteration :  13\n",
      "nb iteration :  16\n",
      "nb iteration :  16\n",
      "nb iteration :  13\n",
      "nb iteration :  10\n",
      "nb iteration :  14\n",
      "nb iteration :  18\n",
      "nb iteration :  17\n",
      "nb iteration :  19\n",
      "nb iteration :  14\n",
      "nb iteration :  15\n",
      "nb iteration :  19\n",
      "nb iteration :  18\n",
      "nb iteration :  16\n",
      "nb iteration :  22\n",
      "nb iteration :  22\n",
      "nb iteration :  17\n",
      "nb iteration :  22\n",
      "nb iteration :  13\n",
      "nb iteration :  15\n",
      "nb iteration :  14\n",
      "nb iteration :  13\n",
      "nb iteration :  16\n",
      "nb iteration :  15\n",
      "nb iteration :  22\n",
      "nb iteration :  15\n",
      "nb iteration :  15\n",
      "nb iteration :  16\n"
     ]
    },
    {
     "name": "stderr",
     "output_type": "stream",
     "text": [
      "\r",
      " 30%|███       | 9/30 [00:08<00:18,  1.13it/s]"
     ]
    },
    {
     "name": "stdout",
     "output_type": "stream",
     "text": [
      "nb iteration :  13\n",
      "nb iteration :  26\n",
      "nb iteration :  9\n",
      "nb iteration :  10\n",
      "nb iteration :  20\n",
      "nb iteration :  10\n",
      "nb iteration :  9\n",
      "nb iteration :  25\n",
      "nb iteration :  15\n",
      "nb iteration :  14\n",
      "nb iteration :  14\n",
      "nb iteration :  9\n",
      "nb iteration :  15\n",
      "nb iteration :  22\n",
      "nb iteration :  13\n",
      "nb iteration :  10\n",
      "nb iteration :  26\n",
      "nb iteration :  20\n",
      "nb iteration :  15\n",
      "nb iteration :  22\n",
      "nb iteration :  10\n",
      "nb iteration :  14\n",
      "nb iteration :  9\n",
      "nb iteration :  10\n",
      "nb iteration :  15\n",
      "nb iteration :  20\n",
      "nb iteration :  14\n",
      "nb iteration :  15\n",
      "nb iteration :  10\n",
      "nb iteration :  15\n",
      "nb iteration :  13\n",
      "nb iteration :  21\n"
     ]
    },
    {
     "name": "stderr",
     "output_type": "stream",
     "text": [
      "\r",
      " 33%|███▎      | 10/30 [00:09<00:16,  1.18it/s]"
     ]
    },
    {
     "name": "stdout",
     "output_type": "stream",
     "text": [
      "nb iteration :  20\n",
      "nb iteration :  15\n",
      "nb iteration :  21\n",
      "nb iteration :  15\n",
      "nb iteration :  16\n",
      "nb iteration :  14\n",
      "nb iteration :  14\n",
      "nb iteration :  16\n",
      "nb iteration :  15\n",
      "nb iteration :  8\n",
      "nb iteration :  10\n",
      "nb iteration :  14\n",
      "nb iteration :  13\n",
      "nb iteration :  10\n",
      "nb iteration :  25\n",
      "nb iteration :  10\n",
      "nb iteration :  13\n",
      "nb iteration :  16\n",
      "nb iteration :  14\n",
      "nb iteration :  20\n",
      "nb iteration :  10\n",
      "nb iteration :  14\n",
      "nb iteration :  19\n",
      "nb iteration :  14\n",
      "nb iteration :  17\n",
      "nb iteration :  16\n",
      "nb iteration :  17\n",
      "nb iteration :  14\n",
      "nb iteration :  19\n",
      "nb iteration :  15\n",
      "nb iteration :  14\n",
      "nb iteration :  21\n",
      "nb iteration :  20\n",
      "nb iteration :  16\n",
      "nb iteration :  13\n",
      "nb iteration :  16\n",
      "nb iteration :  16\n",
      "nb iteration :  15\n",
      "nb iteration :  22\n",
      "nb iteration :  23\n",
      "nb iteration :  15\n"
     ]
    },
    {
     "name": "stderr",
     "output_type": "stream",
     "text": [
      "\r",
      " 37%|███▋      | 11/30 [00:10<00:16,  1.19it/s]"
     ]
    },
    {
     "name": "stdout",
     "output_type": "stream",
     "text": [
      "nb iteration :  31\n",
      "nb iteration :  15\n",
      "nb iteration :  10\n",
      "nb iteration :  31\n",
      "nb iteration :  15\n",
      "nb iteration :  16\n",
      "nb iteration :  13\n",
      "nb iteration :  22\n",
      "nb iteration :  9\n",
      "nb iteration :  9\n",
      "nb iteration :  16\n",
      "nb iteration :  10\n",
      "nb iteration :  14\n",
      "nb iteration :  9\n",
      "nb iteration :  20\n",
      "nb iteration :  20\n",
      "nb iteration :  21\n",
      "nb iteration :  22\n",
      "nb iteration :  15\n",
      "nb iteration :  15\n",
      "nb iteration :  10\n",
      "nb iteration :  14\n",
      "nb iteration :  10\n",
      "nb iteration :  14\n",
      "nb iteration :  17\n",
      "nb iteration :  10\n",
      "nb iteration :  9\n",
      "nb iteration :  14\n",
      "nb iteration :  10\n",
      "nb iteration :  10\n",
      "nb iteration :  16\n",
      "nb iteration :  19\n",
      "nb iteration :  10\n",
      "nb iteration :  15\n",
      "nb iteration :  18\n",
      "nb iteration :  13\n",
      "nb iteration :  14\n",
      "nb iteration :  10\n",
      "nb iteration :  15\n",
      "nb iteration :  14\n",
      "nb iteration :  14\n",
      "nb iteration :  14\n"
     ]
    },
    {
     "name": "stderr",
     "output_type": "stream",
     "text": [
      "\r",
      " 40%|████      | 12/30 [00:10<00:15,  1.20it/s]"
     ]
    },
    {
     "name": "stdout",
     "output_type": "stream",
     "text": [
      "nb iteration :  15\n",
      "nb iteration :  14\n",
      "nb iteration :  15\n",
      "nb iteration :  20\n",
      "nb iteration :  13\n",
      "nb iteration :  14\n",
      "nb iteration :  19\n",
      "nb iteration :  10\n",
      "nb iteration :  10\n",
      "nb iteration :  10\n",
      "nb iteration :  10\n",
      "nb iteration :  15\n",
      "nb iteration :  22\n",
      "nb iteration :  10\n",
      "nb iteration :  10\n",
      "nb iteration :  10\n",
      "nb iteration :  10\n",
      "nb iteration :  10\n",
      "nb iteration :  14\n",
      "nb iteration :  10\n",
      "nb iteration :  14\n",
      "nb iteration :  14\n",
      "nb iteration :  16\n",
      "nb iteration :  10\n",
      "nb iteration :  10\n",
      "nb iteration :  13\n",
      "nb iteration :  10\n",
      "nb iteration :  9\n",
      "nb iteration :  16\n",
      "nb iteration :  10\n",
      "nb iteration :  14\n",
      "nb iteration :  14\n",
      "nb iteration :  10\n",
      "nb iteration :  20\n",
      "nb iteration :  10\n",
      "nb iteration :  21\n",
      "nb iteration :  10\n",
      "nb iteration :  14\n",
      "nb iteration :  31\n",
      "nb iteration :  13\n",
      "nb iteration :  15\n",
      "nb iteration :  15\n",
      "nb iteration :  20\n",
      "nb iteration :  13\n",
      "nb iteration :  14\n",
      "nb iteration :  10\n"
     ]
    },
    {
     "name": "stderr",
     "output_type": "stream",
     "text": [
      "\r",
      " 43%|████▎     | 13/30 [00:11<00:13,  1.25it/s]"
     ]
    },
    {
     "name": "stdout",
     "output_type": "stream",
     "text": [
      "nb iteration :  14\n",
      "nb iteration :  15\n",
      "nb iteration :  14\n",
      "nb iteration :  15\n",
      "nb iteration :  13\n",
      "nb iteration :  9\n",
      "nb iteration :  9\n",
      "nb iteration :  15\n",
      "nb iteration :  15\n",
      "nb iteration :  14\n",
      "nb iteration :  15\n",
      "nb iteration :  10\n",
      "nb iteration :  10\n",
      "nb iteration :  9\n",
      "nb iteration :  10\n",
      "nb iteration :  14\n",
      "nb iteration :  14\n",
      "nb iteration :  109\n",
      "nb iteration :  15\n",
      "nb iteration :  16\n",
      "nb iteration :  13\n",
      "nb iteration :  16\n",
      "nb iteration :  16\n",
      "nb iteration :  10\n",
      "nb iteration :  16\n",
      "nb iteration :  10\n",
      "nb iteration :  9\n",
      "nb iteration :  15\n",
      "nb iteration :  25\n",
      "nb iteration :  10\n",
      "nb iteration :  10\n",
      "nb iteration :  14\n"
     ]
    },
    {
     "name": "stderr",
     "output_type": "stream",
     "text": [
      "\r",
      " 47%|████▋     | 14/30 [00:12<00:12,  1.26it/s]"
     ]
    },
    {
     "name": "stdout",
     "output_type": "stream",
     "text": [
      "nb iteration :  10\n",
      "nb iteration :  14\n",
      "nb iteration :  14\n",
      "nb iteration :  10\n",
      "nb iteration :  15\n",
      "nb iteration :  20\n",
      "nb iteration :  9\n",
      "nb iteration :  10\n",
      "nb iteration :  10\n",
      "nb iteration :  10\n",
      "nb iteration :  10\n",
      "nb iteration :  10\n",
      "nb iteration :  10\n",
      "nb iteration :  9\n",
      "nb iteration :  10\n",
      "nb iteration :  10\n",
      "nb iteration :  9\n",
      "nb iteration :  10\n",
      "nb iteration :  10\n",
      "nb iteration :  10\n",
      "nb iteration :  14\n",
      "nb iteration :  10\n",
      "nb iteration :  15\n",
      "nb iteration :  16\n",
      "nb iteration :  10\n",
      "nb iteration :  14\n"
     ]
    }
   ],
   "source": [
    "model = Basic_IMPS(q, average = 30, true_value = False)\n",
    "%time model.fit(Y,O,covariates,30, acc = 0.01,lr = 0.005,N_iter_mode = 200, lr_mode = 0.3,  class_optimizer = torch.optim.RMSprop, batch_size = 15,  SVRGRAD_bool = False, SVRG_freq = 0, VR = SAGARAD, combine = True)"
   ]
  },
  {
   "cell_type": "code",
   "execution_count": 560,
   "metadata": {
    "scrolled": true
   },
   "outputs": [
    {
     "data": {
      "image/png": "[encoded data removed]",
      "text/plain": [
       "<Figure size 1080x1080 with 4 Axes>"
      ]
     },
     "metadata": {
      "needs_background": "light"
     },
     "output_type": "display_data"
    }
   ],
   "source": [
    "show(model, '', save = False)"
   ]
  },
  {
   "cell_type": "code",
   "execution_count": 596,
   "metadata": {
    "scrolled": true
   },
   "outputs": [
    {
     "data": {
      "image/png": "[encoded data removed]",
      "text/plain": [
       "<Figure size 1080x1080 with 4 Axes>"
      ]
     },
     "metadata": {
      "needs_background": "light"
     },
     "output_type": "display_data"
    }
   ],
   "source": [
    "show(model, '',)"
   ]
  },
  {
   "cell_type": "code",
   "execution_count": 561,
   "metadata": {},
   "outputs": [
    {
     "data": {
      "text/plain": [
       "tensor([[ 3.8066e-01,  5.6934e-01, -2.2959e-01,  2.4948e-01,  3.1078e-02,\n",
       "         -4.2914e-01,  1.8856e-01, -7.7959e-04,  1.4735e-01, -5.0361e-02,\n",
       "          8.3911e-01, -2.9084e-01,  5.9639e-01,  2.2589e-01,  3.4292e-01,\n",
       "          4.5164e-01,  3.7400e-01,  5.6612e-01,  4.5928e-01,  2.7799e-01],\n",
       "        [ 4.2679e-01, -5.9628e-01, -1.5515e-01, -4.8721e-01,  1.6252e-01,\n",
       "         -4.4481e-01, -1.8785e-01,  4.1929e-01, -3.8604e-01,  2.7077e-01,\n",
       "         -2.4428e-01, -4.8511e-01, -1.6276e-03,  5.0708e-01,  5.5617e-03,\n",
       "          2.7904e-01, -4.4608e-02, -6.8288e-02, -2.9152e-01,  3.2923e-01],\n",
       "        [-2.1191e-01, -3.6495e-01, -3.1066e-01,  1.8026e-01,  2.2554e-01,\n",
       "          2.7679e-01,  7.4552e-01,  5.8409e-02, -9.9010e-02,  8.4630e-01,\n",
       "          5.4788e-02, -3.3638e-01,  2.6052e-01,  8.0814e-02,  2.6924e-01,\n",
       "         -6.7949e-01, -2.2781e-01, -3.0197e-01,  3.8974e-01, -2.1597e-01]])"
      ]
     },
     "execution_count": 561,
     "metadata": {},
     "output_type": "execute_result"
    }
   ],
   "source": [
    "model.beta_mean"
   ]
  },
  {
   "cell_type": "code",
   "execution_count": 562,
   "metadata": {},
   "outputs": [
    {
     "data": {
      "text/plain": [
       "tensor([[ 0.1441,  0.5528, -0.2434,  0.2261,  0.1040, -0.3500,  0.1861, -0.0197,\n",
       "          0.1298, -0.0982,  0.7575, -0.1849,  0.5368,  0.0769,  0.1738,  0.2128,\n",
       "          0.3727,  0.5071,  0.4597,  0.2346],\n",
       "        [ 0.4522, -0.4429, -0.1350, -0.5220,  0.1589, -0.4262, -0.1894,  0.4025,\n",
       "         -0.2433,  0.2885, -0.2603, -0.4141, -0.0101,  0.2493, -0.0624,  0.1289,\n",
       "         -0.1384, -0.0349, -0.1610,  0.2674],\n",
       "        [-0.1006, -0.2482, -0.1892,  0.1128,  0.2037,  0.2168,  0.6070, -0.0047,\n",
       "         -0.2077,  0.7205, -0.0326, -0.2652,  0.2444,  0.2657,  0.2788, -0.6433,\n",
       "         -0.1417, -0.3837,  0.3875, -0.2128]])"
      ]
     },
     "execution_count": 562,
     "metadata": {},
     "output_type": "execute_result"
    }
   ],
   "source": [
    "true_beta"
   ]
  },
  {
   "cell_type": "code",
   "execution_count": 597,
   "metadata": {},
   "outputs": [
    {
     "data": {
      "image/png": "[encoded data removed]",
      "text/plain": [
       "<Figure size 432x288 with 2 Axes>"
      ]
     },
     "metadata": {
      "needs_background": "light"
     },
     "output_type": "display_data"
    }
   ],
   "source": [
    "model.show_Sigma()"
   ]
  },
  {
   "cell_type": "code",
   "execution_count": 565,
   "metadata": {
    "id": "9yrcBF_-xAlc",
    "outputId": "f5ac39a9-8a26-4e85-d189-c66792979609"
   },
   "outputs": [
    {
     "data": {
      "text/plain": [
       "<AxesSubplot:>"
      ]
     },
     "execution_count": 565,
     "metadata": {},
     "output_type": "execute_result"
    },
    {
     "data": {
      "image/png": "[encoded data removed]",
      "text/plain": [
       "<Figure size 432x288 with 2 Axes>"
      ]
     },
     "metadata": {
      "needs_background": "light"
     },
     "output_type": "display_data"
    }
   ],
   "source": [
    "sns.heatmap(Sigma_sampling)"
   ]
  },
  {
   "cell_type": "code",
   "execution_count": 80,
   "metadata": {
    "id": "7lqKghsVxAlc"
   },
   "outputs": [],
   "source": [
    "def show(model,name_doss , save = False):\n",
    "    '''\n",
    "    function to show one model. It will plot the MSE of Sigma and beta according to the true parameters and \n",
    "    the log_likelihood in the y axis with the runtime in the x-axis.Will also plot the norm of the gradients and \n",
    "    the variance of the weights used for the importance sampling. \n",
    "    \n",
    "    args : \n",
    "        'model' MC_PLNPCA object where you have called model.fit_IMPS()\n",
    "        'name_doss' : str. the name of the file you want to save the graphic. \n",
    "        'save' : bool. If True, the graphic will be saved. If false, won't be saved. \n",
    "        \n",
    "    returns : \n",
    "            None but displays the figure. It can also save the figure if save = True. \n",
    "    '''\n",
    "    best_model = Basic_IMPS(q, average = 100, true_value = True)\n",
    "    best_model.init_data(Y, O, covariates)\n",
    "    best_model.Y_b,best_model.O_b, best_model.covariates_b, best_model.batch_size = Y.to(device), O.to(device), covariates.to(device), n\n",
    "    #best_log_like = best_model.infer_batch_p_theta(1000, 0.1, 1000)\n",
    "    best_log_like = 0 \n",
    "    fig,ax = plt.subplots(4,1,figsize = (15,15))\n",
    "    #max_ = max(best_log_like,np.max(np.array(model.log_likelihood_list)))\n",
    "    max_ = 0 \n",
    "        \n",
    "    d = model.beta.shape[0]\n",
    "    #MSE of Sigma\n",
    "    abscisse = model.running_times\n",
    "    plt.subplots_adjust(hspace = 0.4)\n",
    "    ax[0].plot(abscisse, model.MSE_Sigma_list)\n",
    "    ax[0].set_title(r'MSE $(\\Sigma- \\hat \\Sigma)$')\n",
    "    #ax[0].axhline(best_MSE_Sigma, label = 'MLE latent layer ', c = 'red', linestyle = '--')\n",
    "    ax[0].set_xlabel('Seconds')\n",
    "    ax[0].set_ylim(ymin= 1e-4)\n",
    "    ax[0].set_ylabel('(a)')\n",
    "    ax[0].set_yscale('log')\n",
    "    \n",
    "    #MSE of beta. \n",
    "    ax[1].plot(abscisse, model.MSE_beta_list)\n",
    "    ax[1].set_title(r'MSE $(\\beta - \\hat \\beta)$') \n",
    "    ax[1].axhline(best_MSE_beta, label = 'MLE latent layer', c = 'red', linestyle = '--')\n",
    "    ax[1].set_yscale('log')\n",
    "    ax[1].set_ylim(ymin= 1e-4)\n",
    "    ax[1].set_ylabel('(b)')\n",
    "    ax[1].legend()\n",
    "    \n",
    "    #log likelihood of the model. will also plot the log likelihood of the model with the true parameters. \n",
    "    ax[2].plot(abscisse, np.array(model.log_likelihood_list)-max_)\n",
    "    ax[2].set_title('log likelihood')\n",
    "    ax[2].set_ylabel('loglikelihood')\n",
    "    ax[2].set_xlabel('Seconds')\n",
    "    #variational_log_like = variational_model.compute_mean_log_likelihood(0.0001)[0].item()\n",
    "    #ax[2].axhline(variational_log_like, c = 'black', label = 'variaitional likelihood')\n",
    "    ax[2].axhline(best_log_like-max_, c = 'red', label = 'log likelihood of the true parameters')\n",
    "    ax[2].set_yscale('symlog')\n",
    "    ax[2].set_ylabel('(c)')\n",
    "    ax[2].legend()\n",
    "    \n",
    "    ax[3].scatter(np.linspace(0,abscisse[-1], model.var_weights.shape[0]), \n",
    "                  torch.nan_to_num(torch.log(torch.from_numpy(model.var_weights)),neginf = -1000)\n",
    "                  ,s = 1, label = 'logarithm of the variance of the weights', c = 'black')\n",
    "    ax[3].set_title('logarithm of the variance of the weights')# '+ str(np.round(percentage_bad_beta,3)))\n",
    "    ax[3].set_yscale('symlog')\n",
    "    ax[3].set_ylabel('(d)')\n",
    "    ax[3].set_xlabel('Seconds')\n",
    "    ax[3].legend()\n",
    "    if save : \n",
    "        plt.savefig(name_doss)\n",
    "    plt.show()"
   ]
  },
  {
   "cell_type": "code",
   "execution_count": 558,
   "metadata": {
    "colab": {
     "base_uri": "https://localhost:8080/",
     "height": 573
    },
    "id": "7FoR0JHzxAld",
    "outputId": "9c0175d2-b4a5-4587-f415-bf509a6eda1e"
   },
   "outputs": [
    {
     "name": "stdout",
     "output_type": "stream",
     "text": [
      "MLE :\n"
     ]
    },
    {
     "data": {
      "image/png": "[encoded data removed]",
      "text/plain": [
       "<Figure size 432x288 with 2 Axes>"
      ]
     },
     "metadata": {
      "needs_background": "light"
     },
     "output_type": "display_data"
    },
    {
     "name": "stdout",
     "output_type": "stream",
     "text": [
      "true Sigma\n"
     ]
    },
    {
     "data": {
      "image/png": "[encoded data removed]",
      "text/plain": [
       "<Figure size 432x288 with 2 Axes>"
      ]
     },
     "metadata": {
      "needs_background": "light"
     },
     "output_type": "display_data"
    },
    {
     "name": "stdout",
     "output_type": "stream",
     "text": [
      "Best MSE we can have (in our dream):  tensor(0.0072)\n"
     ]
    }
   ],
   "source": [
    "## Here we plot the MLE for Z the latent variables. They are unknown in practice\n",
    "## this is just to see the difference between our result and the best result possible \n",
    "mu_MLE = torch.mean(Z, dim = 0)\n",
    "m = mu_MLE.shape[0]\n",
    "Sigma_MLE = 1/Z.shape[0]*((Z-mu_MLE).T)@(Z-mu_MLE)\n",
    "print('MLE :')\n",
    "sns.heatmap(Sigma_MLE.to(torch.device('cpu')))\n",
    "plt.show()\n",
    "print('true Sigma')\n",
    "sns.heatmap(Sigma_sampling.to(torch.device('cpu')))\n",
    "plt.show()\n",
    "best_MSE_Sigma = torch.mean((Sigma_MLE.to(device)-Sigma_sampling.to(device))**2)\n",
    "print('Best MSE we can have (in our dream): ', best_MSE_Sigma)"
   ]
  },
  {
   "cell_type": "code",
   "execution_count": 559,
   "metadata": {
    "colab": {
     "base_uri": "https://localhost:8080/"
    },
    "id": "wn1C_6AIxAle",
    "outputId": "3197710f-7d1e-4357-bfce-217d9b35db76"
   },
   "outputs": [
    {
     "name": "stdout",
     "output_type": "stream",
     "text": [
      "MSE beta in the latent layer:  tensor(0.0032)\n"
     ]
    }
   ],
   "source": [
    "target = Z+ torch.mm(covariates,true_beta)\n",
    "\n",
    "clf = LinearRegression()\n",
    "clf.fit(covariates,target)\n",
    "beta_dream = torch.from_numpy(clf.coef_.T)\n",
    "best_MSE_beta = torch.mean((beta_dream-true_beta)**2)\n",
    "print('MSE beta in the latent layer: ', best_MSE_beta)"
   ]
  },
  {
   "cell_type": "code",
   "execution_count": 53,
   "metadata": {
    "id": "SsWNNbHSxAle",
    "outputId": "f9c3124a-4830-4515-d9cb-4a29a81eca04"
   },
   "outputs": [
    {
     "name": "stdout",
     "output_type": "stream",
     "text": [
      "device :  cpu\n",
      "CPU times: user 41.6 s, sys: 124 ms, total: 41.8 s\n",
      "Wall time: 6.98 s\n",
      "MSE Sigma tensor(0.0954, grad_fn=<MeanBackward0>)\n",
      "MSE beta tensor(0.0225, grad_fn=<MeanBackward0>)\n"
     ]
    }
   ],
   "source": [
    "from fastPLN import fastPLN\n",
    "fastmodel = fastPLN()\n",
    "%time fastmodel.fit(Y,O,covariates, 250)\n",
    "print('MSE Sigma', torch.mean((fastmodel.Sigma-true_Sigma_sampling)**2))\n",
    "print('MSE beta', torch.mean((fastmodel.beta-true_beta)**2))"
   ]
  },
  {
   "cell_type": "code",
   "execution_count": null,
   "metadata": {
    "id": "Pkrk4vE4xAlf",
    "outputId": "a9c90990-6e68-4d60-a318-3063ffec1d43"
   },
   "outputs": [
    {
     "data": {
      "text/plain": [
       "<AxesSubplot:>"
      ]
     },
     "execution_count": 33,
     "metadata": {},
     "output_type": "execute_result"
    },
    {
     "data": {
      "image/png": "[encoded data removed]",
      "text/plain": [
       "<Figure size 432x288 with 2 Axes>"
      ]
     },
     "metadata": {
      "needs_background": "light"
     },
     "output_type": "display_data"
    }
   ],
   "source": [
    "sns.heatmap(fastmodel.Sigma[0:200,0:200].detach())"
   ]
  },
  {
   "cell_type": "markdown",
   "metadata": {
    "id": "Z4x2nW22xAlf"
   },
   "source": [
    "\n",
    "In this notebook, we try to infer the MLE of the PLN-PCA model, that is : \n",
    "\n",
    "$$\n",
    "\\begin{aligned}\n",
    "W_{i} & \\sim \\mathcal{N}\\left(0, I_{q}\\right), \\text { iid, } \\quad i=1, \\ldots, n \\\\\n",
    "Z_{i} &=\\beta^{\\top}\\mathbf{x}_{i} +\\mathbf{C}W_i , \\quad i \\in 1, \\ldots, n \\\\\n",
    "Y_{i j} \\mid Z_{i j} & \\sim \\mathcal{P}\\left(\\exp \\left(o_{i j}+Z_{i j}\\right)\\right)\n",
    "\\end{aligned}\n",
    "$$\n",
    "\n",
    "The parameters are $C$ and $\\beta$. We want to compute \n",
    "\n",
    "$$\\operatorname{argmax} _{\\theta} \\log P_{\\theta}(Y) = \\operatorname{argmax}_{\\theta} \\sum _i \\log p_{\\theta}(Y_i)$$\n",
    "\n",
    "Here we give the formulas for the derivation of the gradient of the log likelihood with respect to $\\beta$ and $C$.\n",
    "\n",
    "We can estimate each $ p_{\\theta} (Y_i)$ using importance sampling : \n",
    "\n",
    "\n",
    "$$p_{\\theta}(Y_i) = \\int p_{\\theta}(Y_i,W)dW \\approx  \\frac 1 K \\sum _k  \\frac{p_{\\theta} (Y_i|V_k) p(V_k)}{g(V_k)}$$ \n",
    "\n",
    "où $V_k \\sim g$. \n",
    "\n",
    "We estimate the gradients using \n",
    "\n",
    "$$\\begin{align*} \\nabla _{\\theta}\\log p_{\\theta} (Y_i) & \\approx \\nabla_{\\theta} \\log \\left(\\frac 1 K \\sum _k  \\frac{p_{\\theta} (Y_i|V_k) p(V_k)}{g(V_k)}\\right)\\\\ \n",
    "& \\approx \\frac {\\frac 1 K \\sum _k  \\nabla_{\\theta} \\frac{p_{\\theta} (Y_i|V_k) p(V_k)}{g(V_k)}}{\\frac 1 K \\sum _k  \\frac{p_{\\theta} (Y_i|V_k) p(V_k)}{g(V_k)}}\\\\ \\end{align*}$$\n",
    "\n",
    "\n",
    "setting $w(V_k) =  \\frac{p_{\\theta} (Y_i|V_k) p(V_k)}{g(V_k)}$ and using $$\n",
    "\\nabla_{\\theta} p_{\\theta}\\left(Y_{i} \\mid V_{k}\\right)=p_{\\theta}\\left(Y_{i}| V_{k}\\right) \\nabla_{\\theta} \\log p_{\\theta}\\left(Y_{i} \\mid V_{k}\\right)\n",
    "$$\n",
    "\n",
    "we get \n",
    "\n",
    "$$ \\begin{align*} \\nabla _{\\theta}\\log p_{\\theta} (Y_i) & = \\frac {\\sum_k w(V_k) \\nabla_{\\theta} \\log p_{\\theta}\\left(Y_{i} \\mid V_{k}\\right)}{\\sum_k w(V_k)}\n",
    "\\end{align*}$$ \n",
    "\n",
    "\n",
    "using that \n",
    "\n",
    "$$\\nabla_{\\beta} \\log p_{\\theta}\\left(Y_{i} \\mid W_{i}\\right)= X_{i} \\left[Y_i - \\exp \\left(O_i +  \\beta^{\\top} X_i+CW_{i}  \\right) \\right]^{\\top}$$\n",
    "\n",
    "$$\\nabla_{C} \\log p_{\\theta}\\left(Y_{i} \\mid V_{k}\\right)=\\left[Y_{i}- \\exp \\left(O_i +  \\beta^{\\top} X_{i}+CV_{k}{ }\\right)\\right]  V_{k}^{\\top}$$\n",
    "\n",
    "\n",
    "We get : \n",
    "\n",
    "$$ \\boxed{ \\nabla _{\\beta}\\log p_{\\theta} (Y_i) \\approx X_i Y_i^{\\top} - \\frac {\\sum_k w(V_k) X_{i} \\exp \\left(O_i +  \\beta^{\\top} X_i+CV_{k}  \\right)^{\\top}}{\\sum_k w(V_k)}}$$ \n",
    "\n",
    "$$ \\boxed{\\nabla _{C}\\log p_{\\theta} (Y_i) \\approx \\frac {\\sum_k w(V_k) \\left[Y_{i}- \\exp \\left(O_i +  \\beta^{\\top} X_{i}+CV_{k}{ }\\right)\\right]  V_{k}^{\\top}}{\\sum_k w(V_k)\n",
    "}}$$ \n",
    "\n",
    "\n",
    "Looking at the gradients, we see that the formula remains the same if we just multiply the weights $w(V_k)$ by a constant. This is important since it allows numerical stability for very low weights. \n"
   ]
  },
  {
   "cell_type": "code",
   "execution_count": null,
   "metadata": {
    "id": "wwiIpW3pxAlh"
   },
   "outputs": [],
   "source": []
  }
 ],
 "metadata": {
  "accelerator": "GPU",
  "colab": {
   "collapsed_sections": [],
   "name": "Basic IMPS.ipynb",
   "provenance": []
  },
  "kernelspec": {
   "display_name": "Python 3",
   "language": "python",
   "name": "python3"
  },
  "language_info": {
   "codemirror_mode": {
    "name": "ipython",
    "version": 3
   },
   "file_extension": ".py",
   "mimetype": "text/x-python",
   "name": "python",
   "nbconvert_exporter": "python",
   "pygments_lexer": "ipython3",
   "version": "3.8.5"
  }
 },
 "nbformat": 4,
 "nbformat_minor": 1
}
