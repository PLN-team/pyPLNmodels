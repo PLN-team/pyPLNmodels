{
 "cells": [
  {
   "cell_type": "code",
   "execution_count": 19,
   "id": "7d81fdb2",
   "metadata": {},
   "outputs": [],
   "source": [
    "from fastPLNmodels.utils import build_block_Sigma, C_from_Sigma, sample_PLN, MSE\n",
    "import torch\n",
    "from fastPLNmodels.models import IMPS_PLN, log_likelihood, fastPLN, fastPLNPCA, PLNmodel\n",
    "import numpy as np\n",
    "import matplotlib.pyplot as plt\n",
    "import seaborn as sns\n",
    "import pandas as pd"
   ]
  },
  {
   "cell_type": "code",
   "execution_count": 13,
   "id": "cae219cc",
   "metadata": {},
   "outputs": [
    {
     "name": "stdout",
     "output_type": "stream",
     "text": [
      "The autoreload extension is already loaded. To reload it, use:\n",
      "  %reload_ext autoreload\n"
     ]
    }
   ],
   "source": [
    "%load_ext autoreload\n",
    "\n",
    "%autoreload 2"
   ]
  },
  {
   "cell_type": "code",
   "execution_count": 14,
   "id": "4df15df8",
   "metadata": {},
   "outputs": [
    {
     "data": {
      "text/plain": [
       "True"
      ]
     },
     "execution_count": 14,
     "metadata": {},
     "output_type": "execute_result"
    }
   ],
   "source": [
    "if torch.cuda.is_available():\n",
    "    device = torch.device('cuda:0')\n",
    "else : \n",
    "    device = torch.device('cpu')\n",
    "    \n",
    "#device = torch.device('cpu') # think I can't use RTX A5000 right now, will check this later. \n",
    "torch.cuda.is_available()\n",
    "# print('device ', device)"
   ]
  },
  {
   "cell_type": "markdown",
   "id": "7385e99f",
   "metadata": {},
   "source": [
    "## Importation of the data"
   ]
  },
  {
   "cell_type": "code",
   "execution_count": 15,
   "id": "811cc28a",
   "metadata": {},
   "outputs": [],
   "source": [
    "Y = pd.read_csv('Y_test')\n",
    "O = pd.read_csv('O_test')\n",
    "cov = pd.read_csv('cov_test')\n",
    "true_Sigma = torch.from_numpy(pd.read_csv('true_Sigma_test').values)\n",
    "true_beta = torch.from_numpy(pd.read_csv('true_beta_test').values)"
   ]
  },
  {
   "cell_type": "markdown",
   "id": "d3ba7cd9",
   "metadata": {},
   "source": [
    "## Test aggregated class"
   ]
  },
  {
   "cell_type": "code",
   "execution_count": 144,
   "id": "a91c96f9",
   "metadata": {},
   "outputs": [
    {
     "name": "stdout",
     "output_type": "stream",
     "text": [
      "Fitting a PLNPCA model with importance sampling. Number of PCs:  50\n",
      "Intialization ...\n",
      "Initalization done\n"
     ]
    },
    {
     "name": "stderr",
     "output_type": "stream",
     "text": [
      "  1%|          | 9/1000 [00:04<07:30,  2.20it/s]\n"
     ]
    },
    {
     "ename": "KeyboardInterrupt",
     "evalue": "",
     "output_type": "error",
     "traceback": [
      "\u001b[0;31m---------------------------------------------------------------------------\u001b[0m",
      "\u001b[0;31mKeyboardInterrupt\u001b[0m                         Traceback (most recent call last)",
      "\u001b[0;32m<timed eval>\u001b[0m in \u001b[0;36m<module>\u001b[0;34m\u001b[0m\n",
      "\u001b[0;32m~/Documents/PLNpy/fastPLNmodels/models.py\u001b[0m in \u001b[0;36mfit\u001b[0;34m(self, Y, O, covariates, N_iter_max, lr, optimizer, tol, good_init, imps_optimizer, fast, VR, batch_size, acc, nb_plateau, nb_trigger, verbose)\u001b[0m\n\u001b[1;32m    171\u001b[0m              \u001b[0mVR\u001b[0m\u001b[0;34m=\u001b[0m\u001b[0mVR\u001b[0m\u001b[0;34m,\u001b[0m \u001b[0mbatch_size\u001b[0m\u001b[0;34m=\u001b[0m\u001b[0mbatch_size\u001b[0m\u001b[0;34m,\u001b[0m \u001b[0moptimizer\u001b[0m\u001b[0;34m=\u001b[0m\u001b[0mimps_optimizer\u001b[0m\u001b[0;34m,\u001b[0m\u001b[0;34m\u001b[0m\u001b[0;34m\u001b[0m\u001b[0m\n\u001b[1;32m    172\u001b[0m              \u001b[0mnb_plateau\u001b[0m\u001b[0;34m=\u001b[0m\u001b[0mnb_plateau\u001b[0m\u001b[0;34m,\u001b[0m \u001b[0mnb_trigger\u001b[0m\u001b[0;34m=\u001b[0m\u001b[0mnb_trigger\u001b[0m\u001b[0;34m,\u001b[0m\u001b[0;34m\u001b[0m\u001b[0;34m\u001b[0m\u001b[0m\n\u001b[0;32m--> 173\u001b[0;31m              good_init=good_init, verbose=verbose)\n\u001b[0m\u001b[1;32m    174\u001b[0m \u001b[0;34m\u001b[0m\u001b[0m\n\u001b[1;32m    175\u001b[0m \u001b[0;34m\u001b[0m\u001b[0m\n",
      "\u001b[0;32m~/Documents/PLNpy/fastPLNmodels/models.py\u001b[0m in \u001b[0;36mfit\u001b[0;34m(self, Y, O, covariates, N_iter_max, lr, optimizer, VR, batch_size, acc, nb_plateau, nb_trigger, good_init, verbose)\u001b[0m\n\u001b[1;32m    481\u001b[0m                 \u001b[0;31m# able to call self.get_batch_grad_(C/beta)()\u001b[0m\u001b[0;34m\u001b[0m\u001b[0;34m\u001b[0m\u001b[0;34m\u001b[0m\u001b[0m\n\u001b[1;32m    482\u001b[0m                 log_like += self.infer_batch_p_theta(\n\u001b[0;32m--> 483\u001b[0;31m                     N_iter_max_mode, lr_mode).item()\n\u001b[0m\u001b[1;32m    484\u001b[0m                 \u001b[0;31m# add a minus since pytorch minimizes a function.\u001b[0m\u001b[0;34m\u001b[0m\u001b[0;34m\u001b[0m\u001b[0;34m\u001b[0m\u001b[0m\n\u001b[1;32m    485\u001b[0m                 \u001b[0mbatch_grad_C\u001b[0m \u001b[0;34m=\u001b[0m \u001b[0;34m-\u001b[0m\u001b[0mself\u001b[0m\u001b[0;34m.\u001b[0m\u001b[0mget_batch_grad_C\u001b[0m\u001b[0;34m(\u001b[0m\u001b[0;34m)\u001b[0m\u001b[0;34m\u001b[0m\u001b[0;34m\u001b[0m\u001b[0m\n",
      "\u001b[0;32m~/Documents/PLNpy/fastPLNmodels/models.py\u001b[0m in \u001b[0;36minfer_batch_p_theta\u001b[0;34m(self, N_iter_max_mode, lr_mode)\u001b[0m\n\u001b[1;32m    601\u001b[0m         \u001b[0;31m# Get the gradient requirement. It also computes the weights of the IMPS\u001b[0m\u001b[0;34m\u001b[0m\u001b[0;34m\u001b[0m\u001b[0;34m\u001b[0m\u001b[0m\n\u001b[1;32m    602\u001b[0m         \u001b[0;31m# that are stored in the object.\u001b[0m\u001b[0;34m\u001b[0m\u001b[0;34m\u001b[0m\u001b[0;34m\u001b[0m\u001b[0m\n\u001b[0;32m--> 603\u001b[0;31m         \u001b[0mself\u001b[0m\u001b[0;34m.\u001b[0m\u001b[0mget_gradient_requirement\u001b[0m\u001b[0;34m(\u001b[0m\u001b[0mN_iter_max_mode\u001b[0m\u001b[0;34m,\u001b[0m \u001b[0mlr_mode\u001b[0m\u001b[0;34m)\u001b[0m\u001b[0;34m\u001b[0m\u001b[0;34m\u001b[0m\u001b[0m\n\u001b[0m\u001b[1;32m    604\u001b[0m         \u001b[0;31m# Take the log of the weights and adjust with the missing constant\u001b[0m\u001b[0;34m\u001b[0m\u001b[0;34m\u001b[0m\u001b[0;34m\u001b[0m\u001b[0m\n\u001b[1;32m    605\u001b[0m         \u001b[0;31m# self.const that has been removed before to avoid numerical 0.\u001b[0m\u001b[0;34m\u001b[0m\u001b[0;34m\u001b[0m\u001b[0;34m\u001b[0m\u001b[0m\n",
      "\u001b[0;32m~/Documents/PLNpy/fastPLNmodels/models.py\u001b[0m in \u001b[0;36mget_gradient_requirement\u001b[0;34m(self, N_iter_max_mode, lr_mode)\u001b[0m\n\u001b[1;32m    632\u001b[0m         \u001b[0;31m# get the samples generated with the mean (mode) and variance found.\u001b[0m\u001b[0;34m\u001b[0m\u001b[0;34m\u001b[0m\u001b[0;34m\u001b[0m\u001b[0m\n\u001b[1;32m    633\u001b[0m         self.samples = sample_gaussians(\n\u001b[0;32m--> 634\u001b[0;31m             self.N_samples, self.batch_mode, self.sqrt_Sigma_b)\n\u001b[0m\u001b[1;32m    635\u001b[0m         \u001b[0;31m# get the weights\u001b[0m\u001b[0;34m\u001b[0m\u001b[0;34m\u001b[0m\u001b[0;34m\u001b[0m\u001b[0m\n\u001b[1;32m    636\u001b[0m         \u001b[0mself\u001b[0m\u001b[0;34m.\u001b[0m\u001b[0mweights\u001b[0m \u001b[0;34m=\u001b[0m \u001b[0mself\u001b[0m\u001b[0;34m.\u001b[0m\u001b[0mget_batch_weights\u001b[0m\u001b[0;34m(\u001b[0m\u001b[0;34m)\u001b[0m\u001b[0;34m\u001b[0m\u001b[0;34m\u001b[0m\u001b[0m\n",
      "\u001b[0;32m~/Documents/PLNpy/fastPLNmodels/models.py\u001b[0m in \u001b[0;36msample_gaussians\u001b[0;34m(N_samples, mean, sqrt_Sigma)\u001b[0m\n\u001b[1;32m    103\u001b[0m     '''\n\u001b[1;32m    104\u001b[0m     \u001b[0mq\u001b[0m \u001b[0;34m=\u001b[0m \u001b[0mmean\u001b[0m\u001b[0;34m.\u001b[0m\u001b[0mshape\u001b[0m\u001b[0;34m[\u001b[0m\u001b[0;36m1\u001b[0m\u001b[0;34m]\u001b[0m\u001b[0;34m\u001b[0m\u001b[0;34m\u001b[0m\u001b[0m\n\u001b[0;32m--> 105\u001b[0;31m     \u001b[0mW_orig\u001b[0m \u001b[0;34m=\u001b[0m \u001b[0mtorch\u001b[0m\u001b[0;34m.\u001b[0m\u001b[0mrandn\u001b[0m\u001b[0;34m(\u001b[0m\u001b[0mN_samples\u001b[0m\u001b[0;34m,\u001b[0m \u001b[0;36m1\u001b[0m\u001b[0;34m,\u001b[0m \u001b[0mq\u001b[0m\u001b[0;34m,\u001b[0m \u001b[0;36m1\u001b[0m\u001b[0;34m)\u001b[0m\u001b[0;34m.\u001b[0m\u001b[0mto\u001b[0m\u001b[0;34m(\u001b[0m\u001b[0mdevice\u001b[0m\u001b[0;34m)\u001b[0m\u001b[0;34m\u001b[0m\u001b[0;34m\u001b[0m\u001b[0m\n\u001b[0m\u001b[1;32m    106\u001b[0m     \u001b[0;31m# just add the mean and multiply by the square root matrice to sample from\u001b[0m\u001b[0;34m\u001b[0m\u001b[0;34m\u001b[0m\u001b[0;34m\u001b[0m\u001b[0m\n\u001b[1;32m    107\u001b[0m     \u001b[0;31m# the right distribution.\u001b[0m\u001b[0;34m\u001b[0m\u001b[0;34m\u001b[0m\u001b[0;34m\u001b[0m\u001b[0m\n",
      "\u001b[0;31mKeyboardInterrupt\u001b[0m: "
     ]
    },
    {
     "name": "stdout",
     "output_type": "stream",
     "text": [
      "Please fit the model before by calling model.fit(Y,O,covariates,N_epoch,acc)\n"
     ]
    },
    {
     "ename": "AttributeError",
     "evalue": "",
     "output_type": "error",
     "traceback": [
      "\u001b[0;31m---------------------------------------------------------------------------\u001b[0m",
      "\u001b[0;31mAttributeError\u001b[0m                            Traceback (most recent call last)",
      "\u001b[0;32m<ipython-input-144-428a1fc662b0>\u001b[0m in \u001b[0;36m<module>\u001b[0;34m\u001b[0m\n\u001b[1;32m      1\u001b[0m \u001b[0mmypln\u001b[0m \u001b[0;34m=\u001b[0m \u001b[0mPLNmodel\u001b[0m\u001b[0;34m(\u001b[0m\u001b[0mq\u001b[0m\u001b[0;34m)\u001b[0m\u001b[0;34m\u001b[0m\u001b[0;34m\u001b[0m\u001b[0m\n\u001b[1;32m      2\u001b[0m \u001b[0mget_ipython\u001b[0m\u001b[0;34m(\u001b[0m\u001b[0;34m)\u001b[0m\u001b[0;34m.\u001b[0m\u001b[0mrun_line_magic\u001b[0m\u001b[0;34m(\u001b[0m\u001b[0;34m'time'\u001b[0m\u001b[0;34m,\u001b[0m \u001b[0;34m'mypln.fit(Y,O,cov, fast = False)'\u001b[0m\u001b[0;34m)\u001b[0m\u001b[0;34m\u001b[0m\u001b[0;34m\u001b[0m\u001b[0m\n\u001b[0;32m----> 3\u001b[0;31m \u001b[0mprint\u001b[0m\u001b[0;34m(\u001b[0m\u001b[0mmypln\u001b[0m\u001b[0;34m)\u001b[0m\u001b[0;34m\u001b[0m\u001b[0;34m\u001b[0m\u001b[0m\n\u001b[0m",
      "\u001b[0;32m~/Documents/PLNpy/fastPLNmodels/models.py\u001b[0m in \u001b[0;36m__str__\u001b[0;34m(self)\u001b[0m\n\u001b[1;32m    181\u001b[0m     \u001b[0;32mdef\u001b[0m \u001b[0m__str__\u001b[0m\u001b[0;34m(\u001b[0m\u001b[0mself\u001b[0m\u001b[0;34m)\u001b[0m\u001b[0;34m:\u001b[0m\u001b[0;34m\u001b[0m\u001b[0;34m\u001b[0m\u001b[0m\n\u001b[1;32m    182\u001b[0m         \u001b[0;34m'''Print the model that have been fitted'''\u001b[0m\u001b[0;34m\u001b[0m\u001b[0;34m\u001b[0m\u001b[0m\n\u001b[0;32m--> 183\u001b[0;31m         \u001b[0mprint\u001b[0m\u001b[0;34m(\u001b[0m\u001b[0mself\u001b[0m\u001b[0;34m.\u001b[0m\u001b[0mmodel\u001b[0m\u001b[0;34m)\u001b[0m\u001b[0;34m\u001b[0m\u001b[0;34m\u001b[0m\u001b[0m\n\u001b[0m\u001b[1;32m    184\u001b[0m         \u001b[0;32mreturn\u001b[0m \u001b[0;34m''\u001b[0m\u001b[0;34m\u001b[0m\u001b[0;34m\u001b[0m\u001b[0m\n\u001b[1;32m    185\u001b[0m \u001b[0;34m\u001b[0m\u001b[0m\n",
      "\u001b[0;32m~/Documents/PLNpy/fastPLNmodels/models.py\u001b[0m in \u001b[0;36m__str__\u001b[0;34m(self)\u001b[0m\n\u001b[1;32m    748\u001b[0m         \u001b[0;34m'''Show the model, Sigma and the likelihood.'''\u001b[0m\u001b[0;34m\u001b[0m\u001b[0;34m\u001b[0m\u001b[0m\n\u001b[1;32m    749\u001b[0m         \u001b[0mself\u001b[0m\u001b[0;34m.\u001b[0m\u001b[0mbest_log_like\u001b[0m \u001b[0;34m=\u001b[0m \u001b[0mmax\u001b[0m\u001b[0;34m(\u001b[0m\u001b[0mself\u001b[0m\u001b[0;34m.\u001b[0m\u001b[0mlog_likelihood_list\u001b[0m\u001b[0;34m)\u001b[0m\u001b[0;34m\u001b[0m\u001b[0;34m\u001b[0m\u001b[0m\n\u001b[0;32m--> 750\u001b[0;31m         \u001b[0mself\u001b[0m\u001b[0;34m.\u001b[0m\u001b[0mshow\u001b[0m\u001b[0;34m(\u001b[0m\u001b[0;34m)\u001b[0m\u001b[0;34m\u001b[0m\u001b[0;34m\u001b[0m\u001b[0m\n\u001b[0m\u001b[1;32m    751\u001b[0m         \u001b[0mself\u001b[0m\u001b[0;34m.\u001b[0m\u001b[0mshow_Sigma\u001b[0m\u001b[0;34m(\u001b[0m\u001b[0;34m)\u001b[0m\u001b[0;34m\u001b[0m\u001b[0;34m\u001b[0m\u001b[0m\n\u001b[1;32m    752\u001b[0m         \u001b[0;32mreturn\u001b[0m \u001b[0;34m''\u001b[0m\u001b[0;34m\u001b[0m\u001b[0;34m\u001b[0m\u001b[0m\n",
      "\u001b[0;32m~/Documents/PLNpy/fastPLNmodels/models.py\u001b[0m in \u001b[0;36mshow\u001b[0;34m(self, save, name_doss)\u001b[0m\n\u001b[1;32m    771\u001b[0m             print(\n\u001b[1;32m    772\u001b[0m                 'Please fit the model before by calling model.fit(Y,O,covariates,N_epoch,acc)')\n\u001b[0;32m--> 773\u001b[0;31m             \u001b[0;32mraise\u001b[0m \u001b[0mAttributeError\u001b[0m\u001b[0;34m\u001b[0m\u001b[0;34m\u001b[0m\u001b[0m\n\u001b[0m\u001b[1;32m    774\u001b[0m         \u001b[0;32melse\u001b[0m\u001b[0;34m:\u001b[0m\u001b[0;34m\u001b[0m\u001b[0;34m\u001b[0m\u001b[0m\n\u001b[1;32m    775\u001b[0m             \u001b[0mfig\u001b[0m\u001b[0;34m,\u001b[0m \u001b[0max\u001b[0m \u001b[0;34m=\u001b[0m \u001b[0mplt\u001b[0m\u001b[0;34m.\u001b[0m\u001b[0msubplots\u001b[0m\u001b[0;34m(\u001b[0m\u001b[0;36m2\u001b[0m\u001b[0;34m,\u001b[0m \u001b[0;36m1\u001b[0m\u001b[0;34m,\u001b[0m \u001b[0mfigsize\u001b[0m\u001b[0;34m=\u001b[0m\u001b[0;34m(\u001b[0m\u001b[0;36m10\u001b[0m\u001b[0;34m,\u001b[0m \u001b[0;36m8\u001b[0m\u001b[0;34m)\u001b[0m\u001b[0;34m)\u001b[0m\u001b[0;34m\u001b[0m\u001b[0;34m\u001b[0m\u001b[0m\n",
      "\u001b[0;31mAttributeError\u001b[0m: "
     ]
    }
   ],
   "source": [
    "mypln = PLNmodel(q)\n",
    "%time mypln.fit(Y,O,cov, fast = False)\n",
    "print(mypln)"
   ]
  },
  {
   "cell_type": "markdown",
   "id": "754ee61c",
   "metadata": {},
   "source": [
    "##  Test fastPLN model"
   ]
  },
  {
   "cell_type": "code",
   "execution_count": 132,
   "id": "35d63616",
   "metadata": {},
   "outputs": [],
   "source": [
    "n = 200"
   ]
  },
  {
   "cell_type": "code",
   "execution_count": 145,
   "id": "38f8872b",
   "metadata": {},
   "outputs": [
    {
     "name": "stdout",
     "output_type": "stream",
     "text": [
      "Initialization ...\n",
      "nb iteration to find the mode:  230\n",
      "Initialization finished\n",
      "Last delta: 0.07964995249291462,  reached in 25 iterations\n",
      "CPU times: user 2.06 s, sys: 49.6 ms, total: 2.11 s\n",
      "Wall time: 2.09 s\n",
      "Last ELBO : -95.07879713605988\n"
     ]
    },
    {
     "data": {
      "image/png": "[encoded data removed]",
      "text/plain": [
       "<Figure size 720x720 with 2 Axes>"
      ]
     },
     "metadata": {
      "needs_background": "light"
     },
     "output_type": "display_data"
    },
    {
     "data": {
      "image/png": "[encoded data removed]",
      "text/plain": [
       "<Figure size 432x288 with 2 Axes>"
      ]
     },
     "metadata": {
      "needs_background": "light"
     },
     "output_type": "display_data"
    },
    {
     "name": "stdout",
     "output_type": "stream",
     "text": [
      "\n"
     ]
    }
   ],
   "source": [
    "fast = fastPLN()\n",
    "%time fast.fit(Y,O,cov)\n",
    "print(fast)"
   ]
  },
  {
   "cell_type": "code",
   "execution_count": 116,
   "id": "a1b73c42",
   "metadata": {},
   "outputs": [
    {
     "data": {
      "text/plain": [
       "[-405.5562075657423,\n",
       " -388.0962520604903,\n",
       " -367.9437982466536,\n",
       " -345.77579398393266,\n",
       " -322.1095661812157,\n",
       " -297.0195867589686,\n",
       " -270.6376538790794,\n",
       " -243.35906844625487,\n",
       " -215.97480122731614,\n",
       " -189.30825277432874,\n",
       " -164.90304275710653,\n",
       " -144.73622582687685,\n",
       " -129.88368773241476,\n",
       " -118.8718279089826,\n",
       " -103.45053311106473,\n",
       " -107.04592406890806,\n",
       " -106.47707271946354,\n",
       " -96.37971902192425,\n",
       " -98.27320563804147,\n",
       " -98.12747880319498,\n",
       " -95.62863850876697,\n",
       " -96.0057017970716,\n",
       " -95.917674866483,\n",
       " -95.08996429832514,\n",
       " -95.54716683387932,\n",
       " -95.52896313165569,\n",
       " -95.10082933487305,\n",
       " -95.05729946553038,\n",
       " -95.05022361191398,\n",
       " -94.98628210225398,\n",
       " -94.98257717558845,\n",
       " -94.98769768126266,\n",
       " -94.98574711714245,\n",
       " -94.97788488984014,\n",
       " -94.9804207868247,\n",
       " -94.97915040588792,\n",
       " -94.97558883799815,\n",
       " -94.97569837946045,\n",
       " -94.97546429616101,\n",
       " -94.9746729114194,\n",
       " -94.97522890888162,\n",
       " -94.97516594157743,\n",
       " -94.97460513507409,\n",
       " -94.97447938980405,\n",
       " -94.97445539225905,\n",
       " -94.97441304705266,\n",
       " -94.9743995329518,\n",
       " -94.97438489855188,\n",
       " -94.97437766392177,\n",
       " -94.97437015591204,\n",
       " -94.97436632842211,\n",
       " -94.97436299288529,\n",
       " -94.97436057269421,\n",
       " -94.97435859016761,\n",
       " -94.97435719690759,\n",
       " -94.97435618974654,\n",
       " -94.9743553774838,\n",
       " -94.97435474665573,\n",
       " -94.97435427474724,\n",
       " -94.97435390374994,\n",
       " -94.97435362433106,\n",
       " -94.97435341180615,\n",
       " -94.97435323711572,\n",
       " -94.97435310831686,\n",
       " -94.97435300893383,\n",
       " -94.97435292944472,\n",
       " -94.9743528695262,\n",
       " -94.97435282221821,\n",
       " -94.97435278452409,\n",
       " -94.97435275629287,\n",
       " -94.97435273504307,\n",
       " -94.9743527177925,\n",
       " -94.9743527040456,\n",
       " -94.97435269379487,\n",
       " -94.97435268580165,\n",
       " -94.97435267917223,\n",
       " -94.97435267416898,\n",
       " -94.9743526704103,\n",
       " -94.9743526675168,\n",
       " -94.97435266526766,\n",
       " -94.97435266346612,\n",
       " -94.97435266207823,\n",
       " -94.97435266102002,\n",
       " -94.97435266019049,\n",
       " -94.97435265953936,\n",
       " -94.97435265903565,\n",
       " -94.97435265861445,\n",
       " -94.97435265831635,\n",
       " -94.97435265808505,\n",
       " -94.97435265789674,\n",
       " -94.97435265776011,\n",
       " -94.97435265765235,\n",
       " -94.97435265756467,\n",
       " -94.97435265750224,\n",
       " -94.97435265746434,\n",
       " -94.97435265743363,\n",
       " -94.97435265739638,\n",
       " -94.97435265737833,\n",
       " -94.97435265737244,\n",
       " -94.97435265735294,\n",
       " -94.97435265734151,\n",
       " -94.97435265733911,\n",
       " -94.9743526573357,\n",
       " -94.97435265733323,\n",
       " -94.97435265732798,\n",
       " -94.97435265732565,\n",
       " -94.97435265732894,\n",
       " -94.9743526573274,\n",
       " -94.97435265732202,\n",
       " -94.9743526573239,\n",
       " -94.97435265732624,\n",
       " -94.97435265732099,\n",
       " -94.97435265732078,\n",
       " -94.97435265732246,\n",
       " -94.97435265732115,\n",
       " -94.97435265732304,\n",
       " -94.97435265732166,\n",
       " -94.97435265731495,\n",
       " -94.97435265732369,\n",
       " -94.97435265732558,\n",
       " -94.97435265731364,\n",
       " -94.97435265731686,\n",
       " -94.97435265732754,\n",
       " -94.97435265732209,\n",
       " -94.97435265731583,\n",
       " -94.97435265732064,\n",
       " -94.97435265732274,\n",
       " -94.97435265732041,\n",
       " -94.97435265731824,\n",
       " -94.97435265731583,\n",
       " -94.97435265732202,\n",
       " -94.97435265732413,\n",
       " -94.97435265731387,\n",
       " -94.9743526573162,\n",
       " -94.97435265732435,\n",
       " -94.97435265732005,\n",
       " -94.97435265731677,\n",
       " -94.97435265731787,\n",
       " -94.97435265732122,\n",
       " -94.97435265732136,\n",
       " -94.9743526573167,\n",
       " -94.97435265731278,\n",
       " -94.97435265732318,\n",
       " -94.97435265732362,\n",
       " -94.97435265731175,\n",
       " -94.97435265731677,\n",
       " -94.97435265732521,\n",
       " -94.97435265731677,\n",
       " -94.97435265731488,\n",
       " -94.97435265731852,\n",
       " -94.97435265731933,\n",
       " -94.97435265731926,\n",
       " -94.97435265731583,\n",
       " -94.97435265731467,\n",
       " -94.97435265732092,\n",
       " -94.97435265731991,\n",
       " -94.97435265731205,\n",
       " -94.97435265731583,\n",
       " -94.9743526573229,\n",
       " -94.97435265731758,\n",
       " -94.97435265731504,\n",
       " -94.97435265731824,\n",
       " -94.97435265732041,\n",
       " -94.97435265731961,\n",
       " -94.97435265731504,\n",
       " -94.97435265731416,\n",
       " -94.97435265732194,\n",
       " -94.97435265731961,\n",
       " -94.97435265731256,\n",
       " -94.97435265731663,\n",
       " -94.9743526573229,\n",
       " -94.97435265731677,\n",
       " -94.97435265731394,\n",
       " -94.9743526573202,\n",
       " -94.97435265731765,\n",
       " -94.9743526573178,\n",
       " -94.97435265731765,\n",
       " -94.97435265731075,\n",
       " -94.97435265731947,\n",
       " -94.97435265732143,\n",
       " -94.97435265731089,\n",
       " -94.9743526573143,\n",
       " -94.97435265732318,\n",
       " -94.97435265731714,\n",
       " -94.97435265731278,\n",
       " -94.97435265731693,\n",
       " -94.97435265731889,\n",
       " -94.97435265731794,\n",
       " -94.97435265731532,\n",
       " -94.97435265731313,\n",
       " -94.97435265732115,\n",
       " -94.97435265731903,\n",
       " -94.97435265731096,\n",
       " -94.97435265731686,\n",
       " -94.97435265732092,\n",
       " -94.97435265731539,\n",
       " -94.97435265731539,\n",
       " -94.9743526573162,\n",
       " -94.97435265731677,\n",
       " -94.97435265731787]"
      ]
     },
     "execution_count": 116,
     "metadata": {},
     "output_type": "execute_result"
    }
   ],
   "source": [
    "fast.normalized_ELBOs"
   ]
  },
  {
   "cell_type": "code",
   "execution_count": 135,
   "id": "5763b3bf",
   "metadata": {},
   "outputs": [
    {
     "data": {
      "text/plain": [
       "tensor(-1.9375e+13, device='cuda:0', grad_fn=<DivBackward0>)"
      ]
     },
     "execution_count": 135,
     "metadata": {},
     "output_type": "execute_result"
    }
   ],
   "source": [
    "pcaC = fastpca.get_C()\n",
    "pcaSigma = pcaC@(pcaC.T)\n",
    "#fast.Sigma = pcaSigma\n",
    "fast.compute_ELBO()/n\n",
    "#fast.compute_ELBO()\n",
    "#sns.heatmap(pcaSigma.cpu())"
   ]
  },
  {
   "cell_type": "markdown",
   "id": "281da4c5",
   "metadata": {},
   "source": [
    "## Test fastPLNPCA"
   ]
  },
  {
   "cell_type": "code",
   "execution_count": 143,
   "id": "dd0f2ef9",
   "metadata": {},
   "outputs": [
    {
     "name": "stdout",
     "output_type": "stream",
     "text": [
      "device  cuda\n",
      "Initialization ...\n",
      "nb iteration to find the mode:  181\n",
      "Initialization finished\n",
      "Tolerance 0.001 reached in 710 iterations\n",
      "CPU times: user 2.05 s, sys: 40.1 ms, total: 2.09 s\n",
      "Wall time: 2.07 s\n",
      "Last ELBO : -93.20247136842183\n",
      "Dimension of the latent space : 50\n"
     ]
    },
    {
     "data": {
      "image/png": "[encoded data removed]",
      "text/plain": [
       "<Figure size 720x576 with 2 Axes>"
      ]
     },
     "metadata": {
      "needs_background": "light"
     },
     "output_type": "display_data"
    },
    {
     "data": {
      "image/png": "[encoded data removed]",
      "text/plain": [
       "<Figure size 432x288 with 2 Axes>"
      ]
     },
     "metadata": {
      "needs_background": "light"
     },
     "output_type": "display_data"
    },
    {
     "name": "stdout",
     "output_type": "stream",
     "text": [
      "\n"
     ]
    }
   ],
   "source": [
    "fastpca = fastPLNPCA(q = p)\n",
    "%time fastpca.fit(Y,O,cov)\n",
    "print(fastpca)"
   ]
  },
  {
   "cell_type": "code",
   "execution_count": 142,
   "id": "21eed4a8",
   "metadata": {},
   "outputs": [
    {
     "data": {
      "text/plain": [
       "tensor(-210.3063, device='cuda:0', grad_fn=<DivBackward0>)"
      ]
     },
     "execution_count": 142,
     "metadata": {},
     "output_type": "execute_result"
    },
    {
     "data": {
      "image/png": "[encoded data removed]",
      "text/plain": [
       "<Figure size 432x288 with 2 Axes>"
      ]
     },
     "metadata": {
      "needs_background": "light"
     },
     "output_type": "display_data"
    }
   ],
   "source": [
    "fastC = C_from_Sigma(fast.Sigma, p )\n",
    "sns.heatmap((fastC@fastC.T).detach().cpu())\n",
    "fastpca.C = fastC\n",
    "\n",
    "fastpca.compute_ELBO_PCA()/200"
   ]
  },
  {
   "cell_type": "markdown",
   "id": "6250049a",
   "metadata": {},
   "source": [
    "## Test IMPS_PLN"
   ]
  },
  {
   "cell_type": "code",
   "execution_count": 11,
   "id": "41be0912",
   "metadata": {},
   "outputs": [
    {
     "name": "stdout",
     "output_type": "stream",
     "text": [
      "Intialization ...\n",
      "Initalization done\n"
     ]
    },
    {
     "name": "stderr",
     "output_type": "stream",
     "text": [
      "  0%|          | 1/500 [00:04<40:24,  4.86s/it]"
     ]
    },
    {
     "name": "stdout",
     "output_type": "stream",
     "text": [
      "Average log likelihood :  -117.15651980768435\n"
     ]
    },
    {
     "name": "stderr",
     "output_type": "stream",
     "text": [
      "\r",
      "  0%|          | 2/500 [00:08<36:35,  4.41s/it]"
     ]
    },
    {
     "name": "stdout",
     "output_type": "stream",
     "text": [
      "Average log likelihood :  -112.65334891244514\n"
     ]
    },
    {
     "name": "stderr",
     "output_type": "stream",
     "text": [
      "\r",
      "  1%|          | 3/500 [00:12<32:53,  3.97s/it]"
     ]
    },
    {
     "name": "stdout",
     "output_type": "stream",
     "text": [
      "Average log likelihood :  -110.63577171650866\n"
     ]
    },
    {
     "name": "stderr",
     "output_type": "stream",
     "text": [
      "\r",
      "  1%|          | 4/500 [00:15<29:37,  3.58s/it]"
     ]
    },
    {
     "name": "stdout",
     "output_type": "stream",
     "text": [
      "Average log likelihood :  -109.41107507839602\n"
     ]
    },
    {
     "name": "stderr",
     "output_type": "stream",
     "text": [
      "\r",
      "  1%|          | 5/500 [00:18<27:13,  3.30s/it]"
     ]
    },
    {
     "name": "stdout",
     "output_type": "stream",
     "text": [
      "Average log likelihood :  -108.61810379565944\n"
     ]
    },
    {
     "name": "stderr",
     "output_type": "stream",
     "text": [
      "\r",
      "  1%|          | 6/500 [00:20<25:36,  3.11s/it]"
     ]
    },
    {
     "name": "stdout",
     "output_type": "stream",
     "text": [
      "Average log likelihood :  -108.02916952283088\n"
     ]
    },
    {
     "name": "stderr",
     "output_type": "stream",
     "text": [
      "\r",
      "  1%|▏         | 7/500 [00:23<24:59,  3.04s/it]"
     ]
    },
    {
     "name": "stdout",
     "output_type": "stream",
     "text": [
      "Average log likelihood :  -107.6021687931786\n"
     ]
    },
    {
     "name": "stderr",
     "output_type": "stream",
     "text": [
      "\r",
      "  2%|▏         | 8/500 [00:26<24:43,  3.01s/it]"
     ]
    },
    {
     "name": "stdout",
     "output_type": "stream",
     "text": [
      "Average log likelihood :  -107.26424881861965\n"
     ]
    },
    {
     "name": "stderr",
     "output_type": "stream",
     "text": [
      "\r",
      "  2%|▏         | 9/500 [00:29<24:54,  3.04s/it]"
     ]
    },
    {
     "name": "stdout",
     "output_type": "stream",
     "text": [
      "Average log likelihood :  -105.71067028690948\n"
     ]
    },
    {
     "name": "stderr",
     "output_type": "stream",
     "text": [
      "\r",
      "  2%|▏         | 10/500 [00:32<24:27,  3.00s/it]"
     ]
    },
    {
     "name": "stdout",
     "output_type": "stream",
     "text": [
      "Average log likelihood :  -105.27711237120539\n"
     ]
    },
    {
     "name": "stderr",
     "output_type": "stream",
     "text": [
      "\r",
      "  2%|▏         | 11/500 [00:35<24:00,  2.95s/it]"
     ]
    },
    {
     "name": "stdout",
     "output_type": "stream",
     "text": [
      "Average log likelihood :  -105.01059412666345\n"
     ]
    },
    {
     "name": "stderr",
     "output_type": "stream",
     "text": [
      "\r",
      "  2%|▏         | 12/500 [00:38<23:41,  2.91s/it]"
     ]
    },
    {
     "name": "stdout",
     "output_type": "stream",
     "text": [
      "Average log likelihood :  -104.8668631562843\n"
     ]
    },
    {
     "name": "stderr",
     "output_type": "stream",
     "text": [
      "\r",
      "  3%|▎         | 13/500 [00:41<23:33,  2.90s/it]"
     ]
    },
    {
     "name": "stdout",
     "output_type": "stream",
     "text": [
      "Average log likelihood :  -104.7329236998136\n"
     ]
    },
    {
     "name": "stderr",
     "output_type": "stream",
     "text": [
      "\r",
      "  3%|▎         | 14/500 [00:44<23:11,  2.86s/it]"
     ]
    },
    {
     "name": "stdout",
     "output_type": "stream",
     "text": [
      "Average log likelihood :  -104.63057247465937\n"
     ]
    },
    {
     "name": "stderr",
     "output_type": "stream",
     "text": [
      "\r",
      "  3%|▎         | 15/500 [00:46<22:51,  2.83s/it]"
     ]
    },
    {
     "name": "stdout",
     "output_type": "stream",
     "text": [
      "Average log likelihood :  -104.53648903471277\n"
     ]
    },
    {
     "name": "stderr",
     "output_type": "stream",
     "text": [
      "\r",
      "  3%|▎         | 16/500 [00:49<23:00,  2.85s/it]"
     ]
    },
    {
     "name": "stdout",
     "output_type": "stream",
     "text": [
      "Average log likelihood :  -104.45915002226546\n"
     ]
    },
    {
     "name": "stderr",
     "output_type": "stream",
     "text": [
      "\r",
      "  3%|▎         | 17/500 [00:52<23:01,  2.86s/it]"
     ]
    },
    {
     "name": "stdout",
     "output_type": "stream",
     "text": [
      "Average log likelihood :  -104.38319421331323\n"
     ]
    },
    {
     "name": "stderr",
     "output_type": "stream",
     "text": [
      "\r",
      "  4%|▎         | 18/500 [00:55<23:49,  2.97s/it]"
     ]
    },
    {
     "name": "stdout",
     "output_type": "stream",
     "text": [
      "Average log likelihood :  -104.30350643794429\n"
     ]
    },
    {
     "name": "stderr",
     "output_type": "stream",
     "text": [
      "\r",
      "  4%|▍         | 19/500 [00:58<23:35,  2.94s/it]"
     ]
    },
    {
     "name": "stdout",
     "output_type": "stream",
     "text": [
      "Average log likelihood :  -104.26040000328285\n"
     ]
    },
    {
     "name": "stderr",
     "output_type": "stream",
     "text": [
      "\r",
      "  4%|▍         | 20/500 [01:01<23:32,  2.94s/it]"
     ]
    },
    {
     "name": "stdout",
     "output_type": "stream",
     "text": [
      "Average log likelihood :  -104.18967751840682\n"
     ]
    },
    {
     "name": "stderr",
     "output_type": "stream",
     "text": [
      "\r",
      "  4%|▍         | 21/500 [01:04<23:16,  2.92s/it]"
     ]
    },
    {
     "name": "stdout",
     "output_type": "stream",
     "text": [
      "Average log likelihood :  -104.14504024190089\n"
     ]
    },
    {
     "name": "stderr",
     "output_type": "stream",
     "text": [
      "\r",
      "  4%|▍         | 22/500 [01:07<23:05,  2.90s/it]"
     ]
    },
    {
     "name": "stdout",
     "output_type": "stream",
     "text": [
      "Average log likelihood :  -104.1130942652558\n"
     ]
    },
    {
     "name": "stderr",
     "output_type": "stream",
     "text": [
      "\r",
      "  5%|▍         | 23/500 [01:10<23:32,  2.96s/it]"
     ]
    },
    {
     "name": "stdout",
     "output_type": "stream",
     "text": [
      "Average log likelihood :  -104.07049805686451\n"
     ]
    },
    {
     "name": "stderr",
     "output_type": "stream",
     "text": [
      "\r",
      "  5%|▍         | 24/500 [01:13<23:44,  2.99s/it]"
     ]
    },
    {
     "name": "stdout",
     "output_type": "stream",
     "text": [
      "Average log likelihood :  -104.01733680522952\n"
     ]
    },
    {
     "name": "stderr",
     "output_type": "stream",
     "text": [
      "\r",
      "  5%|▌         | 25/500 [01:16<23:52,  3.02s/it]"
     ]
    },
    {
     "name": "stdout",
     "output_type": "stream",
     "text": [
      "Average log likelihood :  -103.99707144577863\n"
     ]
    },
    {
     "name": "stderr",
     "output_type": "stream",
     "text": [
      "\r",
      "  5%|▌         | 26/500 [01:19<23:37,  2.99s/it]"
     ]
    },
    {
     "name": "stdout",
     "output_type": "stream",
     "text": [
      "Average log likelihood :  -103.99460313303172\n"
     ]
    },
    {
     "name": "stderr",
     "output_type": "stream",
     "text": [
      "\r",
      "  5%|▌         | 27/500 [01:22<23:16,  2.95s/it]"
     ]
    },
    {
     "name": "stdout",
     "output_type": "stream",
     "text": [
      "Average log likelihood :  -103.95983359999329\n"
     ]
    },
    {
     "name": "stderr",
     "output_type": "stream",
     "text": [
      "\r",
      "  6%|▌         | 28/500 [01:25<22:36,  2.87s/it]"
     ]
    },
    {
     "name": "stdout",
     "output_type": "stream",
     "text": [
      "Average log likelihood :  -103.94724384999344\n"
     ]
    },
    {
     "name": "stderr",
     "output_type": "stream",
     "text": [
      "\r",
      "  6%|▌         | 29/500 [01:27<22:31,  2.87s/it]"
     ]
    },
    {
     "name": "stdout",
     "output_type": "stream",
     "text": [
      "Average log likelihood :  -103.91346139203647\n"
     ]
    },
    {
     "name": "stderr",
     "output_type": "stream",
     "text": [
      "\r",
      "  6%|▌         | 30/500 [01:30<22:04,  2.82s/it]"
     ]
    },
    {
     "name": "stdout",
     "output_type": "stream",
     "text": [
      "Average log likelihood :  -103.88762932690236\n"
     ]
    },
    {
     "name": "stderr",
     "output_type": "stream",
     "text": [
      "\r",
      "  6%|▌         | 31/500 [01:33<21:47,  2.79s/it]"
     ]
    },
    {
     "name": "stdout",
     "output_type": "stream",
     "text": [
      "Average log likelihood :  -103.86172780927357\n"
     ]
    },
    {
     "name": "stderr",
     "output_type": "stream",
     "text": [
      "\r",
      "  6%|▋         | 32/500 [01:36<22:10,  2.84s/it]"
     ]
    },
    {
     "name": "stdout",
     "output_type": "stream",
     "text": [
      "Average log likelihood :  -103.84772235290416\n"
     ]
    },
    {
     "name": "stderr",
     "output_type": "stream",
     "text": [
      "\r",
      "  7%|▋         | 33/500 [01:39<22:58,  2.95s/it]"
     ]
    },
    {
     "name": "stdout",
     "output_type": "stream",
     "text": [
      "Average log likelihood :  -103.83182166477816\n"
     ]
    },
    {
     "name": "stderr",
     "output_type": "stream",
     "text": [
      "\r",
      "  7%|▋         | 34/500 [01:42<23:55,  3.08s/it]"
     ]
    },
    {
     "name": "stdout",
     "output_type": "stream",
     "text": [
      "Average log likelihood :  -103.79661584671803\n"
     ]
    },
    {
     "name": "stderr",
     "output_type": "stream",
     "text": [
      "\r",
      "  7%|▋         | 35/500 [01:46<24:26,  3.15s/it]"
     ]
    },
    {
     "name": "stdout",
     "output_type": "stream",
     "text": [
      "Average log likelihood :  -103.77878984668905\n"
     ]
    },
    {
     "name": "stderr",
     "output_type": "stream",
     "text": [
      "\r",
      "  7%|▋         | 36/500 [01:49<25:09,  3.25s/it]"
     ]
    },
    {
     "name": "stdout",
     "output_type": "stream",
     "text": [
      "Average log likelihood :  -103.75489113251976\n"
     ]
    },
    {
     "name": "stderr",
     "output_type": "stream",
     "text": [
      "\r",
      "  7%|▋         | 37/500 [01:52<24:18,  3.15s/it]"
     ]
    },
    {
     "name": "stdout",
     "output_type": "stream",
     "text": [
      "Average log likelihood :  -103.74431541139222\n"
     ]
    },
    {
     "name": "stderr",
     "output_type": "stream",
     "text": [
      "\r",
      "  8%|▊         | 38/500 [01:55<23:15,  3.02s/it]"
     ]
    },
    {
     "name": "stdout",
     "output_type": "stream",
     "text": [
      "Average log likelihood :  -103.72980227944727\n"
     ]
    },
    {
     "name": "stderr",
     "output_type": "stream",
     "text": [
      "\r",
      "  8%|▊         | 39/500 [01:58<22:50,  2.97s/it]"
     ]
    },
    {
     "name": "stdout",
     "output_type": "stream",
     "text": [
      "Average log likelihood :  -103.72214093071175\n"
     ]
    },
    {
     "name": "stderr",
     "output_type": "stream",
     "text": [
      "\r",
      "  8%|▊         | 40/500 [02:01<22:18,  2.91s/it]"
     ]
    },
    {
     "name": "stdout",
     "output_type": "stream",
     "text": [
      "Average log likelihood :  -103.71901468685934\n"
     ]
    },
    {
     "name": "stderr",
     "output_type": "stream",
     "text": [
      "\r",
      "  8%|▊         | 41/500 [02:03<22:19,  2.92s/it]"
     ]
    },
    {
     "name": "stdout",
     "output_type": "stream",
     "text": [
      "Average log likelihood :  -103.70542591974818\n"
     ]
    },
    {
     "name": "stderr",
     "output_type": "stream",
     "text": [
      "\r",
      "  8%|▊         | 42/500 [02:06<22:13,  2.91s/it]"
     ]
    },
    {
     "name": "stdout",
     "output_type": "stream",
     "text": [
      "Average log likelihood :  -103.6975153644614\n"
     ]
    },
    {
     "name": "stderr",
     "output_type": "stream",
     "text": [
      "\r",
      "  9%|▊         | 43/500 [02:09<21:37,  2.84s/it]"
     ]
    },
    {
     "name": "stdout",
     "output_type": "stream",
     "text": [
      "Average log likelihood :  -103.68843940540641\n"
     ]
    },
    {
     "name": "stderr",
     "output_type": "stream",
     "text": [
      "\r",
      "  9%|▉         | 44/500 [02:12<21:57,  2.89s/it]"
     ]
    },
    {
     "name": "stdout",
     "output_type": "stream",
     "text": [
      "Average log likelihood :  -103.67414894376788\n"
     ]
    },
    {
     "name": "stderr",
     "output_type": "stream",
     "text": [
      "\r",
      "  9%|▉         | 45/500 [02:15<21:57,  2.90s/it]"
     ]
    },
    {
     "name": "stdout",
     "output_type": "stream",
     "text": [
      "Average log likelihood :  -103.66709150978197\n"
     ]
    },
    {
     "name": "stderr",
     "output_type": "stream",
     "text": [
      "\r",
      "  9%|▉         | 46/500 [02:18<22:16,  2.94s/it]"
     ]
    },
    {
     "name": "stdout",
     "output_type": "stream",
     "text": [
      "Average log likelihood :  -103.65998455569385\n"
     ]
    },
    {
     "name": "stderr",
     "output_type": "stream",
     "text": [
      "\r",
      "  9%|▉         | 47/500 [02:21<22:39,  3.00s/it]"
     ]
    },
    {
     "name": "stdout",
     "output_type": "stream",
     "text": [
      "Average log likelihood :  -103.644870667398\n"
     ]
    },
    {
     "name": "stderr",
     "output_type": "stream",
     "text": [
      "\r",
      " 10%|▉         | 48/500 [02:24<22:08,  2.94s/it]"
     ]
    },
    {
     "name": "stdout",
     "output_type": "stream",
     "text": [
      "Average log likelihood :  -103.62410750970284\n"
     ]
    },
    {
     "name": "stderr",
     "output_type": "stream",
     "text": [
      "\r",
      " 10%|▉         | 49/500 [02:27<21:37,  2.88s/it]"
     ]
    },
    {
     "name": "stdout",
     "output_type": "stream",
     "text": [
      "Average log likelihood :  -103.60289804494829\n"
     ]
    },
    {
     "name": "stderr",
     "output_type": "stream",
     "text": [
      "\r",
      " 10%|█         | 50/500 [02:29<20:54,  2.79s/it]"
     ]
    },
    {
     "name": "stdout",
     "output_type": "stream",
     "text": [
      "Average log likelihood :  -103.58728071972054\n"
     ]
    },
    {
     "name": "stderr",
     "output_type": "stream",
     "text": [
      "\r",
      " 10%|█         | 51/500 [02:32<20:57,  2.80s/it]"
     ]
    },
    {
     "name": "stdout",
     "output_type": "stream",
     "text": [
      "Average log likelihood :  -103.57905327360146\n"
     ]
    },
    {
     "name": "stderr",
     "output_type": "stream",
     "text": [
      "\r",
      " 10%|█         | 52/500 [02:35<20:57,  2.81s/it]"
     ]
    },
    {
     "name": "stdout",
     "output_type": "stream",
     "text": [
      "Average log likelihood :  -103.55960602797659\n"
     ]
    },
    {
     "name": "stderr",
     "output_type": "stream",
     "text": [
      "\r",
      " 11%|█         | 53/500 [02:38<20:52,  2.80s/it]"
     ]
    },
    {
     "name": "stdout",
     "output_type": "stream",
     "text": [
      "Average log likelihood :  -103.55760915285167\n"
     ]
    },
    {
     "name": "stderr",
     "output_type": "stream",
     "text": [
      "\r",
      " 11%|█         | 54/500 [02:41<20:54,  2.81s/it]"
     ]
    },
    {
     "name": "stdout",
     "output_type": "stream",
     "text": [
      "Average log likelihood :  -103.53028037071793\n"
     ]
    },
    {
     "name": "stderr",
     "output_type": "stream",
     "text": [
      "\r",
      " 11%|█         | 55/500 [02:44<21:19,  2.88s/it]"
     ]
    },
    {
     "name": "stdout",
     "output_type": "stream",
     "text": [
      "Average log likelihood :  -103.51761812252607\n"
     ]
    },
    {
     "name": "stderr",
     "output_type": "stream",
     "text": [
      "\r",
      " 11%|█         | 56/500 [02:47<21:48,  2.95s/it]"
     ]
    },
    {
     "name": "stdout",
     "output_type": "stream",
     "text": [
      "Average log likelihood :  -103.51076749571344\n"
     ]
    },
    {
     "name": "stderr",
     "output_type": "stream",
     "text": [
      "\r",
      " 11%|█▏        | 57/500 [02:49<21:10,  2.87s/it]"
     ]
    },
    {
     "name": "stdout",
     "output_type": "stream",
     "text": [
      "Average log likelihood :  -103.48821497307287\n"
     ]
    },
    {
     "name": "stderr",
     "output_type": "stream",
     "text": [
      "\r",
      " 12%|█▏        | 58/500 [02:52<21:09,  2.87s/it]"
     ]
    },
    {
     "name": "stdout",
     "output_type": "stream",
     "text": [
      "Average log likelihood :  -103.48865360969572\n"
     ]
    },
    {
     "name": "stderr",
     "output_type": "stream",
     "text": [
      "\r",
      " 12%|█▏        | 59/500 [02:55<21:14,  2.89s/it]"
     ]
    },
    {
     "name": "stdout",
     "output_type": "stream",
     "text": [
      "Average log likelihood :  -103.47893408516217\n"
     ]
    },
    {
     "name": "stderr",
     "output_type": "stream",
     "text": [
      "\r",
      " 12%|█▏        | 60/500 [02:58<21:08,  2.88s/it]"
     ]
    },
    {
     "name": "stdout",
     "output_type": "stream",
     "text": [
      "Average log likelihood :  -103.47495463613177\n"
     ]
    },
    {
     "name": "stderr",
     "output_type": "stream",
     "text": [
      "\r",
      " 12%|█▏        | 61/500 [03:01<21:19,  2.91s/it]"
     ]
    },
    {
     "name": "stdout",
     "output_type": "stream",
     "text": [
      "Average log likelihood :  -103.45824829103032\n"
     ]
    },
    {
     "name": "stderr",
     "output_type": "stream",
     "text": [
      "\r",
      " 12%|█▏        | 62/500 [03:04<21:12,  2.91s/it]"
     ]
    },
    {
     "name": "stdout",
     "output_type": "stream",
     "text": [
      "Average log likelihood :  -103.46280900384733\n"
     ]
    },
    {
     "name": "stderr",
     "output_type": "stream",
     "text": [
      "\r",
      " 13%|█▎        | 63/500 [03:07<20:49,  2.86s/it]"
     ]
    },
    {
     "name": "stdout",
     "output_type": "stream",
     "text": [
      "Average log likelihood :  -103.46088072951848\n"
     ]
    },
    {
     "name": "stderr",
     "output_type": "stream",
     "text": [
      "\r",
      " 13%|█▎        | 64/500 [03:09<20:46,  2.86s/it]"
     ]
    },
    {
     "name": "stdout",
     "output_type": "stream",
     "text": [
      "Average log likelihood :  -103.45044568511533\n"
     ]
    },
    {
     "name": "stderr",
     "output_type": "stream",
     "text": [
      "\r",
      " 13%|█▎        | 65/500 [03:13<21:23,  2.95s/it]"
     ]
    },
    {
     "name": "stdout",
     "output_type": "stream",
     "text": [
      "Average log likelihood :  -103.46074845909627\n"
     ]
    },
    {
     "name": "stderr",
     "output_type": "stream",
     "text": [
      "\r",
      " 13%|█▎        | 66/500 [03:16<22:05,  3.05s/it]"
     ]
    },
    {
     "name": "stdout",
     "output_type": "stream",
     "text": [
      "Average log likelihood :  -103.44699221142338\n"
     ]
    },
    {
     "name": "stderr",
     "output_type": "stream",
     "text": [
      "\r",
      " 13%|█▎        | 67/500 [03:19<22:27,  3.11s/it]"
     ]
    },
    {
     "name": "stdout",
     "output_type": "stream",
     "text": [
      "Average log likelihood :  -103.44082712929088\n"
     ]
    },
    {
     "name": "stderr",
     "output_type": "stream",
     "text": [
      "\r",
      " 14%|█▎        | 68/500 [03:22<22:47,  3.17s/it]"
     ]
    },
    {
     "name": "stdout",
     "output_type": "stream",
     "text": [
      "Average log likelihood :  -103.44583466210275\n"
     ]
    },
    {
     "name": "stderr",
     "output_type": "stream",
     "text": [
      "\r",
      " 14%|█▍        | 69/500 [03:26<22:57,  3.20s/it]"
     ]
    },
    {
     "name": "stdout",
     "output_type": "stream",
     "text": [
      "Average log likelihood :  -103.44043251414315\n"
     ]
    },
    {
     "name": "stderr",
     "output_type": "stream",
     "text": [
      "\r",
      " 14%|█▍        | 70/500 [03:29<23:05,  3.22s/it]"
     ]
    },
    {
     "name": "stdout",
     "output_type": "stream",
     "text": [
      "Average log likelihood :  -103.43200943482444\n"
     ]
    },
    {
     "name": "stderr",
     "output_type": "stream",
     "text": [
      "\r",
      " 14%|█▍        | 71/500 [03:32<23:13,  3.25s/it]"
     ]
    },
    {
     "name": "stdout",
     "output_type": "stream",
     "text": [
      "Average log likelihood :  -103.42565110960379\n"
     ]
    },
    {
     "name": "stderr",
     "output_type": "stream",
     "text": [
      "\r",
      " 14%|█▍        | 72/500 [03:36<23:00,  3.23s/it]"
     ]
    },
    {
     "name": "stdout",
     "output_type": "stream",
     "text": [
      "Average log likelihood :  -103.4306310535429\n"
     ]
    },
    {
     "name": "stderr",
     "output_type": "stream",
     "text": [
      "\r",
      " 15%|█▍        | 73/500 [03:39<22:42,  3.19s/it]"
     ]
    },
    {
     "name": "stdout",
     "output_type": "stream",
     "text": [
      "Average log likelihood :  -103.42434321089328\n"
     ]
    },
    {
     "name": "stderr",
     "output_type": "stream",
     "text": [
      "\r",
      " 15%|█▍        | 74/500 [03:42<22:07,  3.12s/it]"
     ]
    },
    {
     "name": "stdout",
     "output_type": "stream",
     "text": [
      "Average log likelihood :  -103.4189832099697\n"
     ]
    },
    {
     "name": "stderr",
     "output_type": "stream",
     "text": [
      "\r",
      " 15%|█▌        | 75/500 [03:44<21:05,  2.98s/it]"
     ]
    },
    {
     "name": "stdout",
     "output_type": "stream",
     "text": [
      "Average log likelihood :  -103.41759620384548\n"
     ]
    },
    {
     "name": "stderr",
     "output_type": "stream",
     "text": [
      "\r",
      " 15%|█▌        | 76/500 [03:47<20:39,  2.92s/it]"
     ]
    },
    {
     "name": "stdout",
     "output_type": "stream",
     "text": [
      "Average log likelihood :  -103.3990663092956\n"
     ]
    },
    {
     "name": "stderr",
     "output_type": "stream",
     "text": [
      "\r",
      " 15%|█▌        | 77/500 [03:50<20:32,  2.91s/it]"
     ]
    },
    {
     "name": "stdout",
     "output_type": "stream",
     "text": [
      "Average log likelihood :  -103.40049168458717\n"
     ]
    },
    {
     "name": "stderr",
     "output_type": "stream",
     "text": [
      "\r",
      " 16%|█▌        | 78/500 [03:53<20:13,  2.88s/it]"
     ]
    },
    {
     "name": "stdout",
     "output_type": "stream",
     "text": [
      "Average log likelihood :  -103.39862376797518\n"
     ]
    },
    {
     "name": "stderr",
     "output_type": "stream",
     "text": [
      "\r",
      " 16%|█▌        | 79/500 [03:55<19:45,  2.82s/it]"
     ]
    },
    {
     "name": "stdout",
     "output_type": "stream",
     "text": [
      "Average log likelihood :  -103.39657543886685\n"
     ]
    },
    {
     "name": "stderr",
     "output_type": "stream",
     "text": [
      "\r",
      " 16%|█▌        | 80/500 [03:58<19:08,  2.74s/it]"
     ]
    },
    {
     "name": "stdout",
     "output_type": "stream",
     "text": [
      "Average log likelihood :  -103.39379247421473\n"
     ]
    },
    {
     "name": "stderr",
     "output_type": "stream",
     "text": [
      "\r",
      " 16%|█▌        | 81/500 [04:00<18:45,  2.69s/it]"
     ]
    },
    {
     "name": "stdout",
     "output_type": "stream",
     "text": [
      "Average log likelihood :  -103.38451773971707\n"
     ]
    },
    {
     "name": "stderr",
     "output_type": "stream",
     "text": [
      "\r",
      " 16%|█▋        | 82/500 [04:03<18:31,  2.66s/it]"
     ]
    },
    {
     "name": "stdout",
     "output_type": "stream",
     "text": [
      "Average log likelihood :  -103.38710734309143\n"
     ]
    },
    {
     "name": "stderr",
     "output_type": "stream",
     "text": [
      "\r",
      " 17%|█▋        | 83/500 [04:06<18:12,  2.62s/it]"
     ]
    },
    {
     "name": "stdout",
     "output_type": "stream",
     "text": [
      "Average log likelihood :  -103.37838990060916\n"
     ]
    },
    {
     "name": "stderr",
     "output_type": "stream",
     "text": [
      "\r",
      " 17%|█▋        | 84/500 [04:08<18:17,  2.64s/it]"
     ]
    },
    {
     "name": "stdout",
     "output_type": "stream",
     "text": [
      "Average log likelihood :  -103.3794851039561\n"
     ]
    },
    {
     "name": "stderr",
     "output_type": "stream",
     "text": [
      "\r",
      " 17%|█▋        | 85/500 [04:11<18:36,  2.69s/it]"
     ]
    },
    {
     "name": "stdout",
     "output_type": "stream",
     "text": [
      "Average log likelihood :  -103.37417484562135\n"
     ]
    },
    {
     "name": "stderr",
     "output_type": "stream",
     "text": [
      "\r",
      " 17%|█▋        | 86/500 [04:14<18:41,  2.71s/it]"
     ]
    },
    {
     "name": "stdout",
     "output_type": "stream",
     "text": [
      "Average log likelihood :  -103.36825881034787\n"
     ]
    },
    {
     "name": "stderr",
     "output_type": "stream",
     "text": [
      "\r",
      " 17%|█▋        | 87/500 [04:17<18:44,  2.72s/it]"
     ]
    },
    {
     "name": "stdout",
     "output_type": "stream",
     "text": [
      "Average log likelihood :  -103.3595297831966\n"
     ]
    },
    {
     "name": "stderr",
     "output_type": "stream",
     "text": [
      "\r",
      " 18%|█▊        | 88/500 [04:19<18:46,  2.74s/it]"
     ]
    },
    {
     "name": "stdout",
     "output_type": "stream",
     "text": [
      "Average log likelihood :  -103.35001368312\n"
     ]
    },
    {
     "name": "stderr",
     "output_type": "stream",
     "text": [
      "\r",
      " 18%|█▊        | 89/500 [04:22<18:53,  2.76s/it]"
     ]
    },
    {
     "name": "stdout",
     "output_type": "stream",
     "text": [
      "Average log likelihood :  -103.35375546914656\n"
     ]
    },
    {
     "name": "stderr",
     "output_type": "stream",
     "text": [
      "\r",
      " 18%|█▊        | 90/500 [04:25<18:26,  2.70s/it]"
     ]
    },
    {
     "name": "stdout",
     "output_type": "stream",
     "text": [
      "Average log likelihood :  -103.3487722224859\n"
     ]
    },
    {
     "name": "stderr",
     "output_type": "stream",
     "text": [
      "\r",
      " 18%|█▊        | 91/500 [04:27<18:22,  2.70s/it]"
     ]
    },
    {
     "name": "stdout",
     "output_type": "stream",
     "text": [
      "Average log likelihood :  -103.3484188387668\n"
     ]
    },
    {
     "name": "stderr",
     "output_type": "stream",
     "text": [
      "\r",
      " 18%|█▊        | 92/500 [04:30<18:10,  2.67s/it]"
     ]
    },
    {
     "name": "stdout",
     "output_type": "stream",
     "text": [
      "Average log likelihood :  -103.35240816793632\n"
     ]
    },
    {
     "name": "stderr",
     "output_type": "stream",
     "text": [
      "\r",
      " 19%|█▊        | 93/500 [04:33<18:05,  2.67s/it]"
     ]
    },
    {
     "name": "stdout",
     "output_type": "stream",
     "text": [
      "Average log likelihood :  -103.34544258788569\n"
     ]
    },
    {
     "name": "stderr",
     "output_type": "stream",
     "text": [
      "\r",
      " 19%|█▉        | 94/500 [04:35<18:07,  2.68s/it]"
     ]
    },
    {
     "name": "stdout",
     "output_type": "stream",
     "text": [
      "Average log likelihood :  -103.35066492725127\n"
     ]
    },
    {
     "name": "stderr",
     "output_type": "stream",
     "text": [
      "\r",
      " 19%|█▉        | 95/500 [04:38<18:01,  2.67s/it]"
     ]
    },
    {
     "name": "stdout",
     "output_type": "stream",
     "text": [
      "Average log likelihood :  -103.35696416109893\n"
     ]
    },
    {
     "name": "stderr",
     "output_type": "stream",
     "text": [
      "\r",
      " 19%|█▉        | 96/500 [04:41<17:57,  2.67s/it]"
     ]
    },
    {
     "name": "stdout",
     "output_type": "stream",
     "text": [
      "Average log likelihood :  -103.35505916895394\n"
     ]
    },
    {
     "name": "stderr",
     "output_type": "stream",
     "text": [
      "\r",
      " 19%|█▉        | 97/500 [04:43<17:49,  2.65s/it]"
     ]
    },
    {
     "name": "stdout",
     "output_type": "stream",
     "text": [
      "Average log likelihood :  -103.35963242832047\n"
     ]
    },
    {
     "name": "stderr",
     "output_type": "stream",
     "text": [
      "\r",
      " 20%|█▉        | 98/500 [04:46<17:35,  2.63s/it]"
     ]
    },
    {
     "name": "stdout",
     "output_type": "stream",
     "text": [
      "Average log likelihood :  -103.35213135560946\n",
      " Criterion updated :  1 / 5\n"
     ]
    },
    {
     "name": "stderr",
     "output_type": "stream",
     "text": [
      "\r",
      " 20%|█▉        | 99/500 [04:49<17:47,  2.66s/it]"
     ]
    },
    {
     "name": "stdout",
     "output_type": "stream",
     "text": [
      "Average log likelihood :  -103.33938080641065\n"
     ]
    },
    {
     "name": "stderr",
     "output_type": "stream",
     "text": [
      "\r",
      " 20%|██        | 100/500 [04:51<17:37,  2.64s/it]"
     ]
    },
    {
     "name": "stdout",
     "output_type": "stream",
     "text": [
      "Average log likelihood :  -103.33681262646633\n"
     ]
    },
    {
     "name": "stderr",
     "output_type": "stream",
     "text": [
      "\r",
      " 20%|██        | 101/500 [04:54<17:52,  2.69s/it]"
     ]
    },
    {
     "name": "stdout",
     "output_type": "stream",
     "text": [
      "Average log likelihood :  -103.33220494943973\n"
     ]
    },
    {
     "name": "stderr",
     "output_type": "stream",
     "text": [
      "\r",
      " 20%|██        | 102/500 [04:57<17:42,  2.67s/it]"
     ]
    },
    {
     "name": "stdout",
     "output_type": "stream",
     "text": [
      "Average log likelihood :  -103.33392929828767\n"
     ]
    },
    {
     "name": "stderr",
     "output_type": "stream",
     "text": [
      "\r",
      " 21%|██        | 103/500 [04:59<17:29,  2.64s/it]"
     ]
    },
    {
     "name": "stdout",
     "output_type": "stream",
     "text": [
      "Average log likelihood :  -103.33383185325236\n"
     ]
    },
    {
     "name": "stderr",
     "output_type": "stream",
     "text": [
      "\r",
      " 21%|██        | 104/500 [05:02<17:33,  2.66s/it]"
     ]
    },
    {
     "name": "stdout",
     "output_type": "stream",
     "text": [
      "Average log likelihood :  -103.33192885831366\n"
     ]
    },
    {
     "name": "stderr",
     "output_type": "stream",
     "text": [
      "\r",
      " 21%|██        | 105/500 [05:05<17:22,  2.64s/it]"
     ]
    },
    {
     "name": "stdout",
     "output_type": "stream",
     "text": [
      "Average log likelihood :  -103.3141516260707\n"
     ]
    },
    {
     "name": "stderr",
     "output_type": "stream",
     "text": [
      "\r",
      " 21%|██        | 106/500 [05:07<17:25,  2.65s/it]"
     ]
    },
    {
     "name": "stdout",
     "output_type": "stream",
     "text": [
      "Average log likelihood :  -103.31075805907005\n"
     ]
    },
    {
     "name": "stderr",
     "output_type": "stream",
     "text": [
      "\r",
      " 21%|██▏       | 107/500 [05:10<17:14,  2.63s/it]"
     ]
    },
    {
     "name": "stdout",
     "output_type": "stream",
     "text": [
      "Average log likelihood :  -103.3187249130854\n"
     ]
    },
    {
     "name": "stderr",
     "output_type": "stream",
     "text": [
      "\r",
      " 22%|██▏       | 108/500 [05:12<17:12,  2.64s/it]"
     ]
    },
    {
     "name": "stdout",
     "output_type": "stream",
     "text": [
      "Average log likelihood :  -103.31491567596126\n"
     ]
    },
    {
     "name": "stderr",
     "output_type": "stream",
     "text": [
      "\r",
      " 22%|██▏       | 109/500 [05:15<17:10,  2.63s/it]"
     ]
    },
    {
     "name": "stdout",
     "output_type": "stream",
     "text": [
      "Average log likelihood :  -103.31519090590778\n"
     ]
    },
    {
     "name": "stderr",
     "output_type": "stream",
     "text": [
      "\r",
      " 22%|██▏       | 110/500 [05:18<17:20,  2.67s/it]"
     ]
    },
    {
     "name": "stdout",
     "output_type": "stream",
     "text": [
      "Average log likelihood :  -103.30492630344287\n"
     ]
    },
    {
     "name": "stderr",
     "output_type": "stream",
     "text": [
      "\r",
      " 22%|██▏       | 111/500 [05:20<17:07,  2.64s/it]"
     ]
    },
    {
     "name": "stdout",
     "output_type": "stream",
     "text": [
      "Average log likelihood :  -103.29498578193514\n"
     ]
    },
    {
     "name": "stderr",
     "output_type": "stream",
     "text": [
      "\r",
      " 22%|██▏       | 112/500 [05:23<16:50,  2.61s/it]"
     ]
    },
    {
     "name": "stdout",
     "output_type": "stream",
     "text": [
      "Average log likelihood :  -103.28688274257814\n"
     ]
    },
    {
     "name": "stderr",
     "output_type": "stream",
     "text": [
      "\r",
      " 23%|██▎       | 113/500 [05:26<16:54,  2.62s/it]"
     ]
    },
    {
     "name": "stdout",
     "output_type": "stream",
     "text": [
      "Average log likelihood :  -103.28645724169367\n"
     ]
    },
    {
     "name": "stderr",
     "output_type": "stream",
     "text": [
      "\r",
      " 23%|██▎       | 114/500 [05:28<17:00,  2.64s/it]"
     ]
    },
    {
     "name": "stdout",
     "output_type": "stream",
     "text": [
      "Average log likelihood :  -103.28658134280704\n"
     ]
    },
    {
     "name": "stderr",
     "output_type": "stream",
     "text": [
      "\r",
      " 23%|██▎       | 115/500 [05:31<16:59,  2.65s/it]"
     ]
    },
    {
     "name": "stdout",
     "output_type": "stream",
     "text": [
      "Average log likelihood :  -103.27879389545471\n"
     ]
    },
    {
     "name": "stderr",
     "output_type": "stream",
     "text": [
      "\r",
      " 23%|██▎       | 116/500 [05:34<16:54,  2.64s/it]"
     ]
    },
    {
     "name": "stdout",
     "output_type": "stream",
     "text": [
      "Average log likelihood :  -103.2730062855521\n"
     ]
    },
    {
     "name": "stderr",
     "output_type": "stream",
     "text": [
      "\r",
      " 23%|██▎       | 117/500 [05:36<16:48,  2.63s/it]"
     ]
    },
    {
     "name": "stdout",
     "output_type": "stream",
     "text": [
      "Average log likelihood :  -103.27116235975754\n"
     ]
    },
    {
     "name": "stderr",
     "output_type": "stream",
     "text": [
      "\r",
      " 24%|██▎       | 118/500 [05:39<16:52,  2.65s/it]"
     ]
    },
    {
     "name": "stdout",
     "output_type": "stream",
     "text": [
      "Average log likelihood :  -103.26471136132074\n"
     ]
    },
    {
     "name": "stderr",
     "output_type": "stream",
     "text": [
      "\r",
      " 24%|██▍       | 119/500 [05:42<16:50,  2.65s/it]"
     ]
    },
    {
     "name": "stdout",
     "output_type": "stream",
     "text": [
      "Average log likelihood :  -103.2629942125588\n"
     ]
    },
    {
     "name": "stderr",
     "output_type": "stream",
     "text": [
      "\r",
      " 24%|██▍       | 120/500 [05:44<16:39,  2.63s/it]"
     ]
    },
    {
     "name": "stdout",
     "output_type": "stream",
     "text": [
      "Average log likelihood :  -103.2688168788856\n"
     ]
    },
    {
     "name": "stderr",
     "output_type": "stream",
     "text": [
      "\r",
      " 24%|██▍       | 121/500 [05:47<16:30,  2.61s/it]"
     ]
    },
    {
     "name": "stdout",
     "output_type": "stream",
     "text": [
      "Average log likelihood :  -103.2610808380939\n"
     ]
    },
    {
     "name": "stderr",
     "output_type": "stream",
     "text": [
      "\r",
      " 24%|██▍       | 122/500 [05:49<16:34,  2.63s/it]"
     ]
    },
    {
     "name": "stdout",
     "output_type": "stream",
     "text": [
      "Average log likelihood :  -103.26311100559576\n"
     ]
    },
    {
     "name": "stderr",
     "output_type": "stream",
     "text": [
      "\r",
      " 25%|██▍       | 123/500 [05:52<16:28,  2.62s/it]"
     ]
    },
    {
     "name": "stdout",
     "output_type": "stream",
     "text": [
      "Average log likelihood :  -103.26335188713448\n"
     ]
    },
    {
     "name": "stderr",
     "output_type": "stream",
     "text": [
      "\r",
      " 25%|██▍       | 124/500 [05:54<16:09,  2.58s/it]"
     ]
    },
    {
     "name": "stdout",
     "output_type": "stream",
     "text": [
      "Average log likelihood :  -103.26797781690576\n"
     ]
    },
    {
     "name": "stderr",
     "output_type": "stream",
     "text": [
      "\r",
      " 25%|██▌       | 125/500 [05:57<16:12,  2.59s/it]"
     ]
    },
    {
     "name": "stdout",
     "output_type": "stream",
     "text": [
      "Average log likelihood :  -103.27707098373202\n"
     ]
    },
    {
     "name": "stderr",
     "output_type": "stream",
     "text": [
      "\r",
      " 25%|██▌       | 126/500 [06:00<16:41,  2.68s/it]"
     ]
    },
    {
     "name": "stdout",
     "output_type": "stream",
     "text": [
      "Average log likelihood :  -103.27891112501862\n",
      " Criterion updated :  2 / 5\n"
     ]
    },
    {
     "name": "stderr",
     "output_type": "stream",
     "text": [
      "\r",
      " 25%|██▌       | 127/500 [06:03<16:36,  2.67s/it]"
     ]
    },
    {
     "name": "stdout",
     "output_type": "stream",
     "text": [
      "Average log likelihood :  -103.2858142503811\n",
      " Criterion updated :  3 / 5\n"
     ]
    },
    {
     "name": "stderr",
     "output_type": "stream",
     "text": [
      "\r",
      " 26%|██▌       | 128/500 [06:05<16:23,  2.64s/it]"
     ]
    },
    {
     "name": "stdout",
     "output_type": "stream",
     "text": [
      "Average log likelihood :  -103.28283789250958\n",
      " Criterion updated :  4 / 5\n"
     ]
    },
    {
     "name": "stderr",
     "output_type": "stream",
     "text": [
      "\r",
      " 26%|██▌       | 128/500 [06:08<17:50,  2.88s/it]"
     ]
    },
    {
     "name": "stdout",
     "output_type": "stream",
     "text": [
      "Average log likelihood :  -103.29549549340382\n",
      " Criterion updated :  5 / 5\n",
      "Algorithm stopped after  128  iterations\n",
      "Max likelihood: -103.2610808380939\n"
     ]
    },
    {
     "name": "stderr",
     "output_type": "stream",
     "text": [
      "\n"
     ]
    },
    {
     "data": {
      "image/png": "[encoded data removed]",
      "text/plain": [
       "<Figure size 720x576 with 2 Axes>"
      ]
     },
     "metadata": {
      "needs_background": "light"
     },
     "output_type": "display_data"
    },
    {
     "data": {
      "image/png": "[encoded data removed]",
      "text/plain": [
       "<Figure size 432x288 with 2 Axes>"
      ]
     },
     "metadata": {
      "needs_background": "light"
     },
     "output_type": "display_data"
    },
    {
     "name": "stdout",
     "output_type": "stream",
     "text": [
      "\n"
     ]
    }
   ],
   "source": [
    "imps = IMPS_PLN(q = 5)\n",
    "imps.fit(Y,O,cov, batch_size = 5, verbose = True, nb_plateau = 5, acc = 0.5 )\n",
    "print(imps)"
   ]
  },
  {
   "cell_type": "code",
   "execution_count": 15,
   "id": "8a8f3d3f",
   "metadata": {},
   "outputs": [
    {
     "name": "stdout",
     "output_type": "stream",
     "text": [
      "beta :  tensor([[ 0.5319, -0.1286, -0.9118,  0.2196, -0.5501,  0.7098, -0.0512,  0.1287,\n",
      "          0.5618,  0.6380, -0.1822, -0.0517, -1.0352, -1.4089, -1.0043, -0.9508,\n",
      "         -1.5333, -0.7870, -0.2195,  1.3637, -0.5500, -0.3784,  0.4841, -1.3099,\n",
      "          0.9395, -0.0897, -0.9752, -0.6879,  0.7681,  0.0425, -0.0818, -1.1697,\n",
      "         -0.0794,  0.0716,  0.1251, -1.3632,  1.2246, -0.2534,  2.3016, -0.1352,\n",
      "          0.1280, -0.3523,  0.5177, -0.7209, -0.1243,  0.5502,  0.7485,  0.3261,\n",
      "         -1.0124, -0.2889],\n",
      "        [-0.3688,  0.6966, -0.0611,  0.3833, -1.0528, -0.9435, -0.0092,  0.0033,\n",
      "         -0.8806, -0.8904, -0.5710, -0.7291,  0.4935, -0.3190, -0.3351,  0.2781,\n",
      "         -0.2219, -0.0509, -0.1223, -0.0372, -0.7687, -1.3786,  0.3807, -0.3960,\n",
      "         -0.4027, -0.8715, -0.3271,  0.2408, -0.2199,  0.2229,  0.3529, -0.1587,\n",
      "         -0.6257,  0.6852, -0.7469,  0.1797,  0.2518, -0.5882, -0.0730, -0.5182,\n",
      "          0.5133,  0.5887,  0.1786,  0.5281, -0.6902,  1.6824,  0.5284, -0.3409,\n",
      "          0.4312,  0.5166]])\n",
      "Sigma: tensor([[ 0.7043,  0.6108,  0.5775,  ...,  0.1565,  0.3120,  0.2873],\n",
      "        [ 0.6108,  0.5817,  0.6066,  ...,  0.0890,  0.1793,  0.1228],\n",
      "        [ 0.5775,  0.6066,  0.6943,  ...,  0.0050,  0.0617, -0.0344],\n",
      "        ...,\n",
      "        [ 0.1565,  0.0890,  0.0050,  ...,  0.7257,  0.7784,  0.7323],\n",
      "        [ 0.3120,  0.1793,  0.0617,  ...,  0.7784,  0.9939,  0.9512],\n",
      "        [ 0.2873,  0.1228, -0.0344,  ...,  0.7323,  0.9512,  0.9683]])\n",
      "C :  tensor([[ 3.5808e-01, -4.6005e-01,  5.1634e-01,  1.7385e-01,  2.6001e-01],\n",
      "        [ 3.5066e-01, -4.2439e-01,  2.9823e-01,  2.6131e-01,  3.4845e-01],\n",
      "        [ 4.2198e-01, -4.4189e-01,  9.7912e-02,  3.7633e-01,  4.1197e-01],\n",
      "        [ 4.5111e-01, -4.4651e-01,  2.0733e-01,  1.0161e-01,  4.8921e-01],\n",
      "        [ 2.5772e-01, -1.1354e-01, -1.3485e-01, -2.6587e-01,  4.2705e-01],\n",
      "        [ 4.0086e-01,  1.3468e-01, -2.5727e-01, -2.9425e-01,  4.1955e-01],\n",
      "        [ 4.9542e-01, -4.9286e-02, -4.5819e-01, -3.3068e-01,  5.1329e-01],\n",
      "        [ 2.5250e-01,  4.0989e-02, -5.1535e-01, -2.8031e-01,  5.3380e-01],\n",
      "        [ 2.8739e-01,  4.4060e-02, -7.5050e-01,  1.9333e-02,  3.1048e-01],\n",
      "        [ 5.9287e-01,  2.6202e-01, -6.9177e-01, -3.0264e-03,  3.6001e-01],\n",
      "        [ 1.2360e-01, -2.6339e-01, -1.4458e-01,  6.9608e-02, -2.6818e-04],\n",
      "        [-1.6893e-02, -2.4622e-01, -1.0539e-01, -2.8681e-01,  2.8967e-02],\n",
      "        [ 2.4662e-02,  3.4241e-02, -2.2361e-01, -1.0205e-01,  2.0096e-01],\n",
      "        [-8.9186e-03,  5.7944e-02, -1.2912e-01, -3.0597e-01,  3.0513e-01],\n",
      "        [-6.8001e-02, -4.8636e-02, -1.8505e-01, -2.1333e-01, -5.2069e-02],\n",
      "        [-4.8723e-02,  7.9500e-02, -1.2085e-01, -2.2385e-01,  7.5509e-02],\n",
      "        [ 9.4916e-02, -1.2781e-01, -2.6674e-01, -3.0319e-01,  8.0641e-02],\n",
      "        [-4.8267e-02, -1.1855e-01, -1.6713e-01, -1.0846e-01,  1.2674e-01],\n",
      "        [-1.2101e-01, -9.4700e-02, -1.1445e-01,  3.8174e-02,  1.8741e-01],\n",
      "        [ 4.6720e-02, -1.6565e-01, -1.7555e-03,  2.2528e-01,  7.5022e-02],\n",
      "        [-1.0246e-01, -1.4192e-01, -4.1154e-02, -1.3693e-01,  2.6320e-01],\n",
      "        [-2.3181e-01, -5.1543e-02, -2.9998e-02,  4.0248e-03,  1.3016e-01],\n",
      "        [-1.5276e-01, -1.3171e-01, -1.0913e-01,  1.8304e-01,  1.7478e-01],\n",
      "        [-2.3528e-01, -9.0261e-02, -5.9635e-02,  3.2214e-02,  3.4545e-01],\n",
      "        [-1.8488e-01, -3.2143e-02, -3.9539e-02,  2.6656e-01,  2.2140e-01],\n",
      "        [-9.9535e-02, -3.2900e-02, -1.2044e-01,  3.1715e-01,  2.1089e-01],\n",
      "        [-2.1239e-01,  1.2252e-02, -2.1076e-01,  2.3265e-01,  2.6562e-01],\n",
      "        [-1.3830e-01, -1.2035e-01, -1.8845e-01,  1.7588e-01,  2.7238e-01],\n",
      "        [-2.1385e-01,  7.4388e-02, -1.0718e-01,  1.6571e-01,  2.5164e-01],\n",
      "        [-2.8555e-01, -1.5110e-01,  9.2217e-02,  1.1272e-01,  3.3231e-01],\n",
      "        [-6.1407e-02, -9.1634e-02,  9.2113e-02,  2.4214e-02,  1.4408e-01],\n",
      "        [-4.6995e-02, -3.0098e-01,  1.2626e-01, -9.9197e-02, -4.6702e-03],\n",
      "        [ 5.6486e-02, -3.9868e-02, -1.7076e-02, -2.2880e-01, -8.9799e-03],\n",
      "        [-1.3539e-02, -3.5175e-02,  4.4234e-03, -2.0264e-01, -1.6658e-03],\n",
      "        [ 8.4249e-02, -8.7679e-02, -9.2680e-02, -1.7679e-01, -1.2700e-01],\n",
      "        [-1.7038e-01, -2.7750e-01,  1.4755e-01, -2.6947e-01, -1.1515e-01],\n",
      "        [-1.9335e-01, -5.6009e-02,  1.4048e-01, -1.5647e-01,  1.0019e-01],\n",
      "        [-1.2068e-01, -1.9163e-01,  1.1519e-01, -6.5641e-02,  1.0545e-01],\n",
      "        [-2.5148e-01, -3.6202e-01,  2.1034e-01, -1.6800e-01,  1.8767e-01],\n",
      "        [-1.7932e-02, -2.1998e-01,  1.2455e-01, -2.1772e-02,  3.1387e-02],\n",
      "        [-4.3086e-01,  1.5993e-01,  1.3864e-01, -2.9550e-02,  5.6691e-01],\n",
      "        [-5.1815e-01,  3.1559e-01,  1.4866e-01, -2.8171e-01,  5.1629e-01],\n",
      "        [-5.1699e-01,  4.1281e-01, -4.5813e-02, -5.9346e-02,  3.7064e-01],\n",
      "        [-4.4142e-01,  5.7596e-01,  1.5740e-01, -1.0284e-01,  2.9413e-01],\n",
      "        [-1.2168e-01,  6.1445e-01,  1.5818e-01,  2.0644e-01,  3.1372e-01],\n",
      "        [ 9.5223e-02,  7.0363e-01,  3.5308e-01,  3.5146e-01,  2.9721e-01],\n",
      "        [ 2.4987e-02,  6.1462e-01,  3.1719e-01,  1.3896e-01,  3.5080e-01],\n",
      "        [ 2.2702e-01,  5.0470e-01,  4.6359e-01, -2.0855e-01,  4.0123e-01],\n",
      "        [ 5.2197e-01,  4.3087e-01,  6.2278e-01, -3.1659e-01,  2.1851e-01],\n",
      "        [ 3.8870e-01,  3.3548e-01,  6.6734e-01, -4.8316e-01,  1.6095e-01]])\n"
     ]
    }
   ],
   "source": [
    "print('beta : ', imps.get_beta())\n",
    "print('Sigma:', imps.get_Sigma())\n",
    "print('C : ', imps.get_C())"
   ]
  },
  {
   "cell_type": "markdown",
   "id": "bedb13c9",
   "metadata": {},
   "source": [
    "## True value of Sigma "
   ]
  },
  {
   "cell_type": "code",
   "execution_count": 16,
   "id": "235e776e",
   "metadata": {},
   "outputs": [
    {
     "data": {
      "text/plain": [
       "<AxesSubplot:>"
      ]
     },
     "execution_count": 16,
     "metadata": {},
     "output_type": "execute_result"
    },
    {
     "data": {
      "image/png": "[encoded data removed]",
      "text/plain": [
       "<Figure size 432x288 with 2 Axes>"
      ]
     },
     "metadata": {
      "needs_background": "light"
     },
     "output_type": "display_data"
    }
   ],
   "source": [
    "sns.heatmap(true_Sigma)"
   ]
  },
  {
   "cell_type": "code",
   "execution_count": 18,
   "id": "ec8dbf73",
   "metadata": {},
   "outputs": [
    {
     "data": {
      "text/plain": [
       "<AxesSubplot:>"
      ]
     },
     "execution_count": 18,
     "metadata": {},
     "output_type": "execute_result"
    },
    {
     "data": {
      "image/png": "[encoded data removed]",
      "text/plain": [
       "<Figure size 432x288 with 2 Axes>"
      ]
     },
     "metadata": {
      "needs_background": "light"
     },
     "output_type": "display_data"
    }
   ],
   "source": [
    "true_C = C_from_Sigma(true_Sigma, 5)\n",
    "sns.heatmap(true_C@(true_C.T))"
   ]
  }
 ],
 "metadata": {
  "kernelspec": {
   "display_name": "Python 3",
   "language": "python",
   "name": "python3"
  },
  "language_info": {
   "codemirror_mode": {
    "name": "ipython",
    "version": 3
   },
   "file_extension": ".py",
   "mimetype": "text/x-python",
   "name": "python",
   "nbconvert_exporter": "python",
   "pygments_lexer": "ipython3",
   "version": "3.6.13"
  }
 },
 "nbformat": 4,
 "nbformat_minor": 5
}
