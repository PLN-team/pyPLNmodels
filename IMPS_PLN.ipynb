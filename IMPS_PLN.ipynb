{
 "cells": [
  {
   "cell_type": "code",
   "execution_count": 81,
   "metadata": {},
   "outputs": [],
   "source": [
    "import torch\n",
    "import numpy as np\n",
    "from utils import init_C, Poisson_reg, log_stirling\n",
    "import torch.linalg as TLA\n",
    "import math\n",
    "from tqdm import tqdm\n",
    "import matplotlib.pyplot as plt\n",
    "import seaborn as sns\n",
    "from VRA import SAGARAD, SAGRAD, SVRGRAD \n",
    "\n",
    "import time\n",
    "\n",
    "\n",
    "from utils import build_block_Sigma, C_from_Sigma, sample_PLN, MSE\n",
    "\n"
   ]
  },
  {
   "cell_type": "code",
   "execution_count": 16,
   "metadata": {},
   "outputs": [],
   "source": [
    "%load_ext autoreload\n",
    "\n",
    "%autoreload 2"
   ]
  },
  {
   "cell_type": "code",
   "execution_count": 3,
   "metadata": {},
   "outputs": [
    {
     "name": "stdout",
     "output_type": "stream",
     "text": [
      "device  cpu\n"
     ]
    }
   ],
   "source": [
    "if torch.cuda.is_available():\n",
    "    device = torch.device('cuda')\n",
    "else : \n",
    "    device = torch.device('cpu')\n",
    "print('device ', device)"
   ]
  },
  {
   "cell_type": "code",
   "execution_count": 5,
   "metadata": {},
   "outputs": [],
   "source": [
    "def sample_gaussians(N_samples, mean,sqrt_Sigma):\n",
    "    '''\n",
    "    samples some gaussians with the right mean and variance. Be careful, we ask \n",
    "    for the square root of Sigma, not Sigma. will detect automatically if we are using batches or not.  \n",
    "    '''\n",
    "    q = mean.shape[0]\n",
    "    if len(mean.shape)> 1 : \n",
    "        q = mean.shape[1]\n",
    "        W_orig = torch.randn(N_samples, 1,q,1).to(device)\n",
    "    elif len(mean.shape) == 1 : \n",
    "        W_orig = torch.randn(N_samples, q, 1).to(device)\n",
    "    W = torch.matmul(sqrt_Sigma.unsqueeze(0), W_orig).squeeze() + mean.unsqueeze(0)\n",
    "    return W\n",
    "\n",
    "def log_gaussian_density(W, mu_p,Sigma_p): \n",
    "    '''\n",
    "    computes the log density of a gaussian\n",
    "    '''\n",
    "    dim = W.shape[-1]\n",
    "    const = torch.sqrt((2*math.pi)**dim*torch.det(Sigma_p))\n",
    "    Wmoinsmu = W-mu_p.unsqueeze(0)\n",
    "    inv_Sig = torch.inverse(Sigma_p)\n",
    "    if len(mu_p.shape)>1 : \n",
    "        log_d = -1/2*torch.matmul(torch.matmul(inv_Sig.unsqueeze(0), Wmoinsmu.unsqueeze(3)).squeeze().unsqueeze(2), Wmoinsmu.unsqueeze(3))\n",
    "    elif len(mu_p.shape)== 1 :  \n",
    "        log_d = -1/2*torch.matmul(Wmoinsmu.unsqueeze(1),torch.matmul(inv_Sig.unsqueeze(0), Wmoinsmu.unsqueeze(2))).squeeze()\n",
    "    return log_d.squeeze() - torch.log(const)\n",
    "\n",
    "\n",
    "\n",
    "def batch_log_P_WgivenY(Y_b, covariates_b, O_b, W, C, beta): \n",
    "    '''\n",
    "    does the same as log_P_W_givenY but add one more dimension for computing this for a batch instead of \n",
    "    only one element. \n",
    "    '''\n",
    "    length = len(W.shape)\n",
    "    if length == 2 : \n",
    "        CW = torch.matmul(C.unsqueeze(0),W.unsqueeze(2)).squeeze()\n",
    "    elif length == 3 : \n",
    "        CW = torch.matmul(C.unsqueeze(0).unsqueeze(1), W.unsqueeze(3)).squeeze()\n",
    "    A_b = O_b + CW + covariates_b@beta\n",
    "    return -q/2*math.log(2*math.pi)-1/2*torch.norm(W, dim = -1)**2 + torch.sum(-torch.exp(A_b)   + A_b*Y_b - log_stirling(Y_b) , axis = -1)\n",
    "\n"
   ]
  },
  {
   "cell_type": "code",
   "execution_count": 212,
   "metadata": {},
   "outputs": [],
   "source": [
    "class IMPS_PLN():\n",
    "    def __init__(self, q,average = 50):\n",
    "        self.q = q\n",
    "        self.average = average \n",
    "        self.running_times = list()\n",
    "        self.log_likelihood_list = list()\n",
    "        self.last_likelihoods = list()\n",
    "        self.MSE_beta_list = list()\n",
    "        self.MSE_Sigma_list = list()\n",
    "        self.criteria_list = list()\n",
    "        self.nb_iteration_list = list()\n",
    "        self.cmpt = 0 \n",
    "    def init_data(self, Y,O,covariates): \n",
    "        '''\n",
    "        Initialise some usefuls variables given the data. \n",
    "        We also initialise C and beta. \n",
    "        '''\n",
    "#         torch.manual_seed(0)\n",
    "        self.fitted = False\n",
    "        self.Y = Y.float().to(device)\n",
    "        self.covariates = covariates.to(device)\n",
    "        self.O = O.to(device)\n",
    "        self.n = Y.shape[0] \n",
    "        self.p = Y.shape[1]\n",
    "        self.d = self.covariates.shape[1]\n",
    "        self.starting_point = torch.zeros(self.n, self.q)\n",
    "        noise = torch.randn(self.p) \n",
    "        self.last_betas = torch.zeros(self.average,self.d,self.p) # init of the average of the last betas\n",
    "        self.last_Cs = torch.zeros(self.average, self.p, self.q) #init of the average of the last Sigmas\n",
    "        \n",
    "        # initialization for beta with a poisson regression \n",
    "        poiss_reg = Poisson_reg()\n",
    "        poiss_reg.fit_torch(O,covariates,Y)\n",
    "        self.beta = torch.clone(poiss_reg.beta.detach()).to(device)\n",
    "        \n",
    "        \n",
    "        # init C with an array of size (p,q) taking the q vectors associated to \n",
    "        # the q largest eigenvectors of the estimated variance of log(Y)\n",
    "        self.C = init_C(O, covariates, Y, self.beta, self.q).to(device)\n",
    "                \n",
    "        #setting some gradients for optimization. \n",
    "        self.C.requires_grad_(True)\n",
    "        self.beta.requires_grad_(True)\n",
    "        self.C_mean = torch.clone(self.C)\n",
    "        self.beta_mean = torch.clone(self.beta)\n",
    "        \n",
    "    def get_batch(self,batch_size, save_batch_size = True): \n",
    "        '''\n",
    "        get the batches required to do a  minibatch gradient ascent.  \n",
    "        \n",
    "        args : \n",
    "                'batch_size' int.  the batch size you want. \n",
    "                \n",
    "        returns : a generator. Will generate n/batch_size samples of size batch_size (except the last one \n",
    "                    since the rest of the division is not always 0)\n",
    "        '''\n",
    "        indices = np.arange(self.n)\n",
    "        np.random.shuffle(indices)\n",
    "        #if we want to set the batch size of the model to the given batch_size \n",
    "        if save_batch_size : \n",
    "            self.batch_size = batch_size\n",
    "        # get the number of batches and the size of the last one. \n",
    "        nb_full_batch, last_batch_size  = self.n//batch_size, self.n % batch_size  \n",
    "        for i in range(nb_full_batch): \n",
    "            yield   (self.Y[indices[i*batch_size: (i+1)*batch_size]], \n",
    "                    self.covariates[indices[i*batch_size: (i+1)*batch_size]],\n",
    "                    self.O[indices[i*batch_size: (i+1)*batch_size]], \n",
    "                    indices[i*batch_size: (i+1)*batch_size]\n",
    "                    ) \n",
    "        if last_batch_size != 0 : \n",
    "            if save_batch_size : \n",
    "                self.batch_size = last_batch_size\n",
    "            yield   (self.Y[indices[-last_batch_size:]], \n",
    "                    self.covariates[indices[-last_batch_size:]],\n",
    "                    self.O[indices[-last_batch_size:]],\n",
    "                    indices[-last_batch_size:]\n",
    "                    )\n",
    "            \n",
    "        \n",
    "\n",
    "    def keep_records(self,log_like = torch.zeros(1)): \n",
    "        '''\n",
    "        function that keep some records in order to plot the evolution after.\n",
    "        '''\n",
    "        average_log_like = self.average_params(log_like)\n",
    "        self.running_times.append(time.time()-self.t0)\n",
    "        self.MSE_beta_list.append(torch.mean((self.beta_mean -true_beta)**2).item())\n",
    "        self.MSE_Sigma_list.append(torch.mean((self.C_mean@(self.C_mean.T) -true_Sigma_sampling)**2).item())\n",
    "        self.log_likelihood_list.append(average_log_like)\n",
    "    \n",
    "    def average_params(self,log_like): \n",
    "        '''\n",
    "        method that averages the parameters in order to smooth the variance. \n",
    "        We will take, for example, the last self.average betas computed to make \n",
    "        a better approximation of beta. We will do the same for C.\n",
    "        This function adds the last parameters computed to update the mean of the parameter. \n",
    "        If we have not enough betas or Sigmas (less than self.average), the mean will be on those parameters. \n",
    "        args : \n",
    "            log_like : the likelihood computed with the current parameters.\n",
    "        \n",
    "        returns : \n",
    "                None but update the mean of the last self.average parameters.  \n",
    "        '''\n",
    "        \n",
    "        self.cmpt +=1 # to keep track of the number of parameters we have for the mean\n",
    "        # remove the oldest parameters and add the more recent one.\n",
    "        self.last_betas[1:self.average] = torch.clone(self.last_betas[0: self.average-1].detach())\n",
    "        self.last_betas[0] = torch.clone(self.beta.detach())\n",
    "        self.last_Cs[1:self.average] = torch.clone(self.last_Cs[0: self.average-1].detach())\n",
    "        self.last_Cs[0] = torch.clone(self.C.detach())\n",
    "        self.last_likelihoods.append(log_like)\n",
    "        # update the mean of the parameter\n",
    "        \n",
    "        # if we have enough parameters \n",
    "        if self.cmpt > self.average : \n",
    "            del(self.last_likelihoods[0])\n",
    "            self.C_mean = torch.mean(self.last_Cs, axis = 0)\n",
    "            self.beta_mean = torch.mean(self.last_betas, axis = 0)\n",
    "            return np.mean(np.array(self.last_likelihoods))\n",
    "        \n",
    "        # if we don't have enough parameters. \n",
    "        else : \n",
    "            self.C_mean = torch.sum(self.last_Cs, axis = 0)/self.cmpt\n",
    "            self.beta_mean = torch.sum(self.last_betas, axis = 0)/self.cmpt\n",
    "            return np.mean(np.array(self.last_likelihoods))\n",
    "\n",
    "\n",
    "    def fit(self, Y, O, covariates,  N_epoch, acc,lr,N_iter_mode, lr_mode, VR, batch_size = 10, class_optimizer = torch.optim.Rprop):\n",
    "        '''\n",
    "        fit the data. We infer p_theta with importance sampling and then use pytorch autodifferentiation\n",
    "        '''\n",
    "        self.t0 = time.time()\n",
    "        self.batch_size = batch_size\n",
    "        self.acc = acc\n",
    "        N_samples = int(1/acc) # We will sample 1/acc gaussians\n",
    "        self.init_data(Y,O, covariates)# initialize the data. \n",
    "        self.optim = class_optimizer([self.beta,self.C], lr = lr) # optimizer on C and beta\n",
    "        self.optim.zero_grad() # We do this since it is possible that beta and C have gradients. \n",
    "        if VR == 'SAGA' : \n",
    "            vr = SAGARAD([self.beta, self.C], self.n)\n",
    "        elif VR == 'SAG': \n",
    "            vr = SAGRAD([self.beta, self.C], self.n)\n",
    "        elif VR == 'SVRG': \n",
    "            vr = SVRGRAD([self.beta, self.C], self.n)\n",
    "        else : \n",
    "            vr = None \n",
    "        self.log_like = -1000\n",
    "        for j in tqdm(range(N_epoch)): \n",
    "            log_like = 0 \n",
    "            for i, (Y_b, covariates_b, O_b, selected_indices) in enumerate(self.get_batch(batch_size)): \n",
    "                self.Y_b, self.covariates_b, self.O_b = Y_b.to(device), covariates_b.to(device), O_b.to(device)\n",
    "                self.selected_indices = selected_indices\n",
    "                log_like += self.infer_batch_p_theta(N_iter_mode, lr_mode, N_samples).item()\n",
    "                batch_grad_C = - self.get_batch_grad_C()\n",
    "                batch_grad_beta = - self.get_batch_grad_beta()\n",
    "                if vr is not None : \n",
    "                    vr.update_new_grad([batch_grad_beta,batch_grad_C], selected_indices)\n",
    "                else: \n",
    "                    self.beta.grad = torch.mean(batch_grad_beta, axis = 0)\n",
    "                    self.C.grad = torch.mean(batch_grad_C, axis = 0)\n",
    "                \n",
    "                self.optim.step()\n",
    "                self.optim.zero_grad()\n",
    "                self.keep_records(self.log_like)\n",
    "            self.log_like = log_like\n",
    "            \n",
    "                \n",
    "            if VR == 'SVRG':\n",
    "                self.Y_b, self.covariates_b, self.O_b = self.Y, self.covariates, self.O\n",
    "                self.selected_indices = np.arange(0,self.n)\n",
    "                self.get_gradient_requirement(N_iter_mode, lr_mode, N_samples)\n",
    "                full_grad_C = -self.get_batch_grad_C()\n",
    "                full_grad_beta = -self.get_batch_grad_beta()\n",
    "                vr.update_table([full_grad_beta,full_grad_C])\n",
    "            if j == 0 : \n",
    "                lr_mode/=10\n",
    "            if j == 20 : \n",
    "                lr_mode/=3\n",
    "            if j == 40 : \n",
    "                lr_mode/= 2\n",
    "        self.fitted = True\n",
    "                \n",
    "                \n",
    "        \n",
    "\n",
    "    \n",
    "    def infer_batch_p_theta(self, N_iter_mode, lr_mode, N_s,take_mean = True): \n",
    "        self.get_gradient_requirement(N_iter_mode, lr_mode, N_s)\n",
    "        log = torch.log(torch.mean(self.weights,axis = 0))+self.const#*self.mask\n",
    "        if take_mean :\n",
    "            return torch.mean(log)\n",
    "        else: \n",
    "            return log \n",
    "    \n",
    "    def get_gradient_requirement(self, N_iter_mode, lr_mode, N_s):\n",
    "        '''\n",
    "        does all the operation that we need to compute the gradients. \n",
    "        We need the samples and the weights, that is what we compute here.\n",
    "        '''\n",
    "        #t = time.time()\n",
    "        self.find_batch_mode(N_iter_mode, lr_mode)\n",
    "        #print('time took mode ', time.time()- t)\n",
    "        self.get_batch_best_var()\n",
    "        self.samples = sample_gaussians(N_s, self.batch_mode, self.sqrt_Sigma_b)\n",
    "        self.weights = self.get_batch_weights()\n",
    "        \n",
    "    def get_batch_weights(self): \n",
    "        self.log_f = self.batch_un_log_posterior(self.samples)\n",
    "        self.log_g = log_gaussian_density(self.samples, self.batch_mode, self.Sigma_b)\n",
    "        diff_log = self.log_f-self.log_g \n",
    "        self.const = torch.max(diff_log, axis = 0)[0]\n",
    "        diff_log -= torch.max(diff_log, axis = 0)[0]\n",
    "        weights = torch.exp(diff_log)\n",
    "        return weights\n",
    "    def get_batch_best_var(self):\n",
    "        batch_matrix = torch.matmul(self.C.unsqueeze(2), self.C.unsqueeze(1)).unsqueeze(0)\n",
    "        CW = torch.matmul(self.C.unsqueeze(0),self.batch_mode.unsqueeze(2)).squeeze()\n",
    "        common = torch.exp(self.O_b  + self.covariates_b@self.beta + CW).unsqueeze(2).unsqueeze(3)\n",
    "        prod = batch_matrix*common\n",
    "        Hess_post = torch.sum(prod, axis = 1)+torch.eye(self.q).to(device) \n",
    "        self.Sigma_b = torch.inverse(Hess_post.detach())\n",
    "        eps = torch.diag(torch.full((self.q,1),1e-8).squeeze()).to(device)\n",
    "        self.sqrt_Sigma_b = TLA.cholesky(self.Sigma_b+ eps)\n",
    "    def show_Sigma(self):\n",
    "        sns.heatmap((self.C_mean@(self.C_mean.T)).detach().numpy())\n",
    "        plt.show()\n",
    "        \n",
    "    def get_batch_grad_beta(self): \n",
    "        first = torch.matmul(self.covariates_b.unsqueeze(2), self.Y_b.unsqueeze(1).double())\n",
    "        XB = torch.matmul(self.covariates_b.unsqueeze(1), self.beta.unsqueeze(0)).squeeze()\n",
    "        CV = torch.matmul(self.C.reshape(1,1,self.p,1,self.q), self.samples.unsqueeze(2).unsqueeze(4)).squeeze()\n",
    "        Xexp = torch.matmul(self.covariates_b.unsqueeze(0).unsqueeze(3), torch.exp(self.O_b + XB + CV).unsqueeze(2))\n",
    "        sec = torch.sum(torch.multiply(self.weights.unsqueeze(2).unsqueeze(3), Xexp), axis = 0)/(torch.sum(self.weights, axis = 0).unsqueeze(1).unsqueeze(2))\n",
    "        return first-sec\n",
    "    \n",
    "    def get_batch_grad_C(self): \n",
    "        XB = torch.matmul(self.covariates_b.unsqueeze(1), self.beta.unsqueeze(0)).squeeze()\n",
    "        CV = torch.matmul(self.C.reshape(1,1,self.p,1,self.q), self.samples.unsqueeze(2).unsqueeze(4)).squeeze()\n",
    "        Ymoinsexp = self.Y_b - torch.exp(self.O_b + XB + CV)\n",
    "        outer = torch.matmul(Ymoinsexp.unsqueeze(3), self.samples.unsqueeze(2))\n",
    "        denum = torch.sum(self.weights, axis = 0)\n",
    "        num = torch.multiply(self.weights.unsqueeze(2).unsqueeze(3), outer)\n",
    "        batch_grad = torch.sum(num/(denum.unsqueeze(0).unsqueeze(2).unsqueeze(3)), axis = 0)\n",
    "        return batch_grad\n",
    "    \n",
    "    \n",
    "    def find_batch_mode(self, N_iter, lr, eps = 7e-3):\n",
    "        def batch_un_log_posterior(W): \n",
    "            return batch_log_P_WgivenY(self.Y_b, self.covariates_b, self.O_b, W, self.C, self.beta) \n",
    "        self.batch_un_log_posterior = batch_un_log_posterior\n",
    "        W = torch.clone(self.starting_point[self.selected_indices].detach()).to(device)\n",
    "        W.requires_grad_(True)\n",
    "        optimizer = torch.optim.Rprop([W], lr = lr)\n",
    "        criterion = 2*eps\n",
    "        old_W = torch.clone(W)\n",
    "        i = 0\n",
    "        keep_condition = True\n",
    "        while  i < N_iter and keep_condition: \n",
    "            \n",
    "            loss = -torch.mean(self.batch_un_log_posterior(W))\n",
    "            loss.backward()\n",
    "            optimizer.step()\n",
    "            crit = torch.max(torch.abs(W-old_W))\n",
    "            optimizer.zero_grad()\n",
    "            if crit<eps and i > 2 : \n",
    "                keep_condition = False \n",
    "            old_W = torch.clone(W)\n",
    "            i+= 1\n",
    "        #print('nb iteration : ', i)\n",
    "        self.nb_iteration_list.append(i)\n",
    "        self.batch_mode = torch.clone(W)\n",
    "        self.starting_point[self.selected_indices] = torch.clone(W)\n",
    "        \n",
    "    def show(self, save = False, name_graphic = ''): \n",
    "        '''\n",
    "        function to show one model. It will plot the estimated log_likelihood in the y axis with the runtime \n",
    "        in the x-axis. \n",
    "\n",
    "        args : \n",
    "            'model' IMPS_PLN object where you have called model.fit_IMPS()\n",
    "            'name_doss' : str. the name of the file you want to save the graphic. \n",
    "            'save' : bool. If True, the graphic will be saved. If false, won't be saved. \n",
    "\n",
    "        returns : \n",
    "                None but displays the figure. It can also save the figure if save = True. \n",
    "        '''\n",
    "        if not self.fitted : \n",
    "            print('Please fit the model before, calling model.fit(Y,O,covariates)')\n",
    "            return \n",
    "\n",
    "        else : \n",
    "\n",
    "            fig,ax = plt.subplots(3,1,figsize = (15,15))\n",
    "            #log likelihood of the model. will also plot the log likelihood of the model with the true parameters. \n",
    "            abscisse = self.running_times\n",
    "            ax[2].plot(abscisse, np.array(self.log_likelihood_list))\n",
    "            ax[2].set_title('log likelihood')\n",
    "            ax[2].set_ylabel('loglikelihood')\n",
    "            ax[2].set_xlabel('Seconds')\n",
    "            #variational_log_like = variational_model.compute_mean_log_likelihood(0.0001)[0].item()\n",
    "            #ax[2].axhline(variational_log_like, c = 'black', label = 'variaitional likelihood')\n",
    "            ax[2].set_yscale('symlog')\n",
    "            ax[2].legend()\n",
    "            \n",
    "            \n",
    "            ax[0].plot(abscisse, model.MSE_Sigma_list)\n",
    "            ax[0].set_title(r'MSE $(\\Sigma- \\hat \\Sigma)$')\n",
    "            #ax[0].axhline(best_MSE_Sigma, label = 'MLE latent layer ', c = 'red', linestyle = '--')\n",
    "            ax[0].set_xlabel('Seconds')\n",
    "            ax[0].set_ylim(ymin= 1e-4)\n",
    "            ax[0].set_ylabel('(a)')\n",
    "            ax[0].set_yscale('log')\n",
    "\n",
    "            #MSE of beta. \n",
    "            ax[1].plot(abscisse, model.MSE_beta_list)\n",
    "            ax[1].set_title(r'MSE $(\\beta - \\hat \\beta)$') \n",
    "            #ax[1].axhline(best_MSE_beta, label = 'MLE latent layer', c = 'red', linestyle = '--')\n",
    "            ax[1].set_yscale('log')\n",
    "            ax[1].set_ylim(ymin= 1e-4)\n",
    "            ax[1].set_ylabel('(b)')\n",
    "            ax[1].legend()\n",
    "            \n",
    "            if save : \n",
    "                plt.savefig(name_doss)\n",
    "            plt.show()\n",
    "            \n",
    "    def Sigma(self): \n",
    "        return (self.C.detach())@(self.C.detach().T)\n",
    "    \n",
    "    def show_Sigma(self): \n",
    "        sns.heatmap(self.Sigma())"
   ]
  },
  {
   "cell_type": "code",
   "execution_count": 213,
   "metadata": {},
   "outputs": [],
   "source": [
    "d = 3\n",
    "n = 200;  p = 10\n",
    "q = 4"
   ]
  },
  {
   "cell_type": "code",
   "execution_count": 214,
   "metadata": {},
   "outputs": [],
   "source": [
    "# 0 est pas mal \n",
    "#torch.manual_seed(0)\n",
    "Sigma_sampling = 1*torch.from_numpy(build_block_Sigma(p,p//4))/1.5 #+ 0.5*torch.eye(p)\n",
    "true_C = torch.from_numpy(C_from_Sigma(Sigma_sampling, q))\n",
    "true_Sigma_sampling = true_C@(true_C.T)\n",
    "true_beta =torch.randn((d, p))/3\n",
    "\n",
    "covariates = torch.randn((n,d))\n",
    "O =  0+torch.zeros((n,p))\n",
    "sample_model = sample_PLN()\n",
    "Y, Z, _  = sample_model.sample(Sigma_sampling,true_beta, O, covariates)\n",
    "Y = torch.from_numpy(Y).to(device)\n",
    "covariates.to(device)\n",
    "O.to(device)\n",
    "None"
   ]
  },
  {
   "cell_type": "code",
   "execution_count": 218,
   "metadata": {},
   "outputs": [
    {
     "name": "stderr",
     "output_type": "stream",
     "text": [
      "100%|██████████| 70/70 [00:02<00:00, 26.64it/s]"
     ]
    },
    {
     "name": "stdout",
     "output_type": "stream",
     "text": [
      "CPU times: user 16.5 s, sys: 0 ns, total: 16.5 s\n",
      "Wall time: 2.76 s\n"
     ]
    },
    {
     "name": "stderr",
     "output_type": "stream",
     "text": [
      "\n"
     ]
    }
   ],
   "source": [
    "batch_size = 20\n",
    "model = IMPS_PLN(q, average = n//batch_size)\n",
    "%time model.fit(Y,O,covariates,70, acc = 0.5,lr = 0.005,N_iter_mode = 2, lr_mode = 0.3,  class_optimizer = torch.optim.RMSprop, batch_size = batch_size,  VR ='SAGA')"
   ]
  },
  {
   "cell_type": "code",
   "execution_count": 219,
   "metadata": {},
   "outputs": [
    {
     "name": "stderr",
     "output_type": "stream",
     "text": [
      "No handles with labels found to put in legend.\n",
      "No handles with labels found to put in legend.\n"
     ]
    },
    {
     "data": {
      "image/png": "[encoded data removed]",
      "text/plain": [
       "<Figure size 1080x1080 with 3 Axes>"
      ]
     },
     "metadata": {
      "needs_background": "light"
     },
     "output_type": "display_data"
    }
   ],
   "source": [
    "model.show()"
   ]
  },
  {
   "cell_type": "code",
   "execution_count": 198,
   "metadata": {},
   "outputs": [
    {
     "data": {
      "image/png": "[encoded data removed]",
      "text/plain": [
       "<Figure size 432x288 with 2 Axes>"
      ]
     },
     "metadata": {
      "needs_background": "light"
     },
     "output_type": "display_data"
    }
   ],
   "source": [
    "model.show_Sigma()"
   ]
  },
  {
   "cell_type": "code",
   "execution_count": 160,
   "metadata": {},
   "outputs": [
    {
     "data": {
      "text/plain": [
       "tensor([[ 2.6365,  1.5505,  1.6794,  ...,  1.1124,  1.5253,  0.9559],\n",
       "        [ 1.5505,  1.7302,  1.5416,  ...,  0.5985,  0.3801, -0.2493],\n",
       "        [ 1.6794,  1.5416,  2.0789,  ...,  0.6295,  0.5450, -0.2631],\n",
       "        ...,\n",
       "        [ 1.1124,  0.5985,  0.6295,  ...,  4.9951,  5.1933,  3.5472],\n",
       "        [ 1.5253,  0.3801,  0.5450,  ...,  5.1933,  7.6110,  5.9044],\n",
       "        [ 0.9559, -0.2493, -0.2631,  ...,  3.5472,  5.9044,  5.8972]])"
      ]
     },
     "execution_count": 160,
     "metadata": {},
     "output_type": "execute_result"
    }
   ],
   "source": [
    "model.Sigma()"
   ]
  },
  {
   "cell_type": "code",
   "execution_count": 161,
   "metadata": {},
   "outputs": [
    {
     "data": {
      "text/plain": [
       "tensor([[ 6.9380e-01,  8.5376e-01,  9.6648e-01,  ..., -6.0520e-05,\n",
       "         -6.9422e-05, -6.3675e-05],\n",
       "        [ 8.5376e-01,  1.0510e+00,  1.1906e+00,  ..., -7.1670e-05,\n",
       "         -8.2223e-05, -7.5422e-05],\n",
       "        [ 9.6648e-01,  1.1906e+00,  1.3509e+00,  ..., -7.5112e-05,\n",
       "         -8.6191e-05, -7.9071e-05],\n",
       "        ...,\n",
       "        [-6.0520e-05, -7.1670e-05, -7.5112e-05,  ...,  2.6729e+00,\n",
       "          2.4612e+00,  2.0417e+00],\n",
       "        [-6.9422e-05, -8.2223e-05, -8.6191e-05,  ...,  2.4612e+00,\n",
       "          2.2826e+00,  1.9004e+00],\n",
       "        [-6.3675e-05, -7.5422e-05, -7.9071e-05,  ...,  2.0417e+00,\n",
       "          1.9004e+00,  1.5853e+00]])"
      ]
     },
     "execution_count": 161,
     "metadata": {},
     "output_type": "execute_result"
    }
   ],
   "source": [
    "true_Sigma_sampling"
   ]
  },
  {
   "cell_type": "code",
   "execution_count": 195,
   "metadata": {},
   "outputs": [
    {
     "data": {
      "text/plain": [
       "<AxesSubplot:>"
      ]
     },
     "execution_count": 195,
     "metadata": {},
     "output_type": "execute_result"
    },
    {
     "data": {
      "image/png": "[encoded data removed]",
      "text/plain": [
       "<Figure size 432x288 with 2 Axes>"
      ]
     },
     "metadata": {
      "needs_background": "light"
     },
     "output_type": "display_data"
    }
   ],
   "source": [
    "sns.heatmap(true_Sigma_sampling)"
   ]
  },
  {
   "cell_type": "code",
   "execution_count": 133,
   "metadata": {},
   "outputs": [
    {
     "data": {
      "text/plain": [
       "tensor(0.3035)"
      ]
     },
     "execution_count": 133,
     "metadata": {},
     "output_type": "execute_result"
    }
   ],
   "source": [
    "MSE(model.Sigma()-true_Sigma_sampling)"
   ]
  },
  {
   "cell_type": "code",
   "execution_count": 114,
   "metadata": {},
   "outputs": [
    {
     "data": {
      "text/plain": [
       "tensor(0.0297)"
      ]
     },
     "execution_count": 114,
     "metadata": {},
     "output_type": "execute_result"
    }
   ],
   "source": [
    "MSE(model.Sigma()-true_Sigma_sampling)"
   ]
  },
  {
   "cell_type": "code",
   "execution_count": 115,
   "metadata": {},
   "outputs": [
    {
     "data": {
      "image/png": "[encoded data removed]",
      "text/plain": [
       "<Figure size 432x288 with 2 Axes>"
      ]
     },
     "metadata": {
      "needs_background": "light"
     },
     "output_type": "display_data"
    }
   ],
   "source": [
    "model.show_Sigma()"
   ]
  }
 ],
 "metadata": {
  "kernelspec": {
   "display_name": "Python 3",
   "language": "python",
   "name": "python3"
  },
  "language_info": {
   "codemirror_mode": {
    "name": "ipython",
    "version": 3
   },
   "file_extension": ".py",
   "mimetype": "text/x-python",
   "name": "python",
   "nbconvert_exporter": "python",
   "pygments_lexer": "ipython3",
   "version": "3.8.5"
  }
 },
 "nbformat": 4,
 "nbformat_minor": 4
}
