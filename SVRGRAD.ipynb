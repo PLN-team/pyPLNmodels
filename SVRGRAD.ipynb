{
 "cells": [
  {
   "cell_type": "code",
   "execution_count": 258,
   "metadata": {},
   "outputs": [
    {
     "name": "stdout",
     "output_type": "stream",
     "text": [
      "device : cpu\n"
     ]
    }
   ],
   "source": [
    "import numpy as np \n",
    "import torch \n",
    "import math \n",
    "import matplotlib.pyplot as plt\n",
    "from torch.optim import Optimizer\n",
    "import time\n",
    "from SVR_optimizers import SAGA,SAG,SVRG\n",
    "from tqdm import tqdm "
   ]
  },
  {
   "cell_type": "code",
   "execution_count": 259,
   "metadata": {},
   "outputs": [
    {
     "name": "stdout",
     "output_type": "stream",
     "text": [
      "The autoreload extension is already loaded. To reload it, use:\n",
      "  %reload_ext autoreload\n"
     ]
    }
   ],
   "source": [
    "%load_ext autoreload\n",
    "\n",
    "%autoreload 2"
   ]
  },
  {
   "cell_type": "code",
   "execution_count": 225,
   "metadata": {},
   "outputs": [],
   "source": [
    "device = torch.device('cpu')"
   ]
  },
  {
   "cell_type": "code",
   "execution_count": 242,
   "metadata": {},
   "outputs": [],
   "source": [
    "N_samples = 10000\n",
    "p = 100\n",
    "d = 40"
   ]
  },
  {
   "cell_type": "code",
   "execution_count": 243,
   "metadata": {},
   "outputs": [],
   "source": [
    "X = torch.randn(N_samples, d)\n",
    "true_beta = torch.randn(d,p)\n",
    "true_alpha = torch.randn(d, p)\n",
    "Y = X@true_beta + torch.randn(N_samples, p) \n",
    "Y_bis = X@true_alpha + torch.randn(N_samples,p) "
   ]
  },
  {
   "cell_type": "code",
   "execution_count": 244,
   "metadata": {},
   "outputs": [],
   "source": [
    "def get_batch(X,Y,batch_size): \n",
    "    '''\n",
    "    get the batches required to do a  minibatch gradient ascent.  \n",
    "\n",
    "    args : \n",
    "            'batch_size' int.  the batch size you want. \n",
    "\n",
    "    returns : a generator. Will generate n/batch_size samples of size batch_size (except the last one \n",
    "                since the rest of the division is not always 0)\n",
    "    '''\n",
    "    #np.random.seed(2)\n",
    "    n = Y.shape[0]\n",
    "    indices = np.arange(n)\n",
    "    np.random.shuffle(indices)\n",
    "    # get the number of batches and the size of the last one. \n",
    "    nb_full_batch, last_batch_size  = n//batch_size, n % batch_size  \n",
    "    for i in range(nb_full_batch): \n",
    "        yield   (X[indices[i*batch_size: (i+1)*batch_size]],\n",
    "                 Y[indices[i*batch_size: (i+1)*batch_size]],\n",
    "                 Y_bis[indices[i*batch_size: (i+1)*batch_size]],\n",
    "                 indices[i*batch_size: (i+1)*batch_size]\n",
    "                )\n",
    "    if last_batch_size != 0 :\n",
    "        yield   (X[indices[-last_batch_size:]], Y[indices[-last_batch_size:]],\n",
    "                  Y_bis[indices[-last_batch_size:]],indices[-last_batch_size:],\n",
    "                )"
   ]
  },
  {
   "cell_type": "code",
   "execution_count": 320,
   "metadata": {},
   "outputs": [],
   "source": [
    "def f(x,y_i): \n",
    "    return 1/2*torch.norm(x@beta-y_i)**2\n",
    "\n",
    "def F(beta): \n",
    "    return 1/2*torch.mean(torch.norm(Y-X@beta, dim = (1))**2)\n",
    "\n",
    "def F_bis(alpha): \n",
    "    return 1/2*torch.mean(torch.norm(Y_bis-X@alpha, dim = (1))**2)\n",
    "def grad_f(beta,y_i,x_i): \n",
    "    return -torch.outer(x_i, y_i-x_i@beta)\n",
    "def grad_f_bis(alpha,y_i,x_i): \n",
    "    return -torch.outer(x_i, y_i-x_i@beta)\n",
    "\n",
    "def grad_F(beta): \n",
    "    return -torch.mean(torch.matmul(X.unsqueeze(2), (Y-X@beta).unsqueeze(1)) , axis = 0)\n",
    "def grad_F_bis(alpha): \n",
    "    return -torch.mean(torch.matmul(X.unsqueeze(2), (Y_bis-X@alpha).unsqueeze(1)) , axis = 0)\n",
    "    \n",
    "def batch_grad(beta,x_batch, y_batch): \n",
    "    return -torch.matmul(x_batch.unsqueeze(2), (y_batch-x_batch@beta).unsqueeze(1))\n",
    "def batch_grad_bis(alpha,x_batch, y_batch): \n",
    "    return -torch.matmul(x_batch.unsqueeze(2), (y_batch-x_batch@alpha).unsqueeze(1))\n",
    "\n",
    "\n",
    "def fit(nb_step, choice_optim, lr, batch_size, SVRGRAD_bool, VR):\n",
    "    beta = torch.zeros((d,p),requires_grad = True) \n",
    "    beta.requires_grad_(True)\n",
    "    alpha = torch.zeros((d,p), requires_grad = True) \n",
    "    alpha.requires_grad_(True)\n",
    "    try: \n",
    "        optim = choice_optim([alpha,beta], lr = lr)#, sample_size = N_samples)\n",
    "    except : \n",
    "        optim = choice_optim([alpha, beta], lr = lr, sample_size = N_samples)\n",
    "    MSE_alpha_list = []\n",
    "    MSE_beta_list = []\n",
    "    running_times = []\n",
    "    t0 = time.time()\n",
    "    vr = VR([alpha,beta], N_samples)\n",
    "    for i in tqdm(range(nb_step)):\n",
    "        for x_b,y_b,y_b_bis, selected_indices in get_batch(X,Y, batch_size): \n",
    "            batch_grad_alpha = batch_grad(alpha, x_b,y_b_bis)#+torch.randn(len(selected_indices), d,p)/1.5\n",
    "            batch_grad_beta = batch_grad(beta, x_b, y_b) #+ torch.randn(len(selected_indices),d,p)/1.5\n",
    "            \n",
    "\n",
    "            try: \n",
    "                vr.update_new_grad([batch_grad_alpha,batch_grad_beta], selected_indices)\n",
    "            except : \n",
    "                alpha.grad = torch.mean(batch_grad_alpha, axis = 0)\n",
    "                beta.grad = torch.mean(batch_grad_beta, axis =0)\n",
    "                vr.update_new_grad(selected_indices)\n",
    "            optim.step()\n",
    "\n",
    "            MSE_alpha_list.append(torch.mean((alpha-true_alpha)**2).item())\n",
    "            MSE_beta_list.append(torch.mean((beta-true_beta)**2).item())\n",
    "            running_times.append(time.time()-t0)\n",
    "            optim.zero_grad()\n",
    "        \n",
    "        if SVRGRAD_bool : \n",
    "            full_grad_alpha = batch_grad(alpha, X, Y_bis)\n",
    "            full_grad_beta = batch_grad(beta, X, Y) \n",
    "            vr.update_table([full_grad_alpha, full_grad_beta])\n",
    "#         print('OOOOOOOOOOOOOOOOOOOOOOOOOOOOOOOOOOOOOOOOOOOOOOOOOOOOOOOOOOOOOOOOOOOOOOOOOOOOOOOOOOOOOOOOOOOOOOOOOOOOOOOOOOOOOOOOOOOOOOOOOOOOOOOOOOOOOOOOOOOOOOOOOOOOOOOOOOOOOOOOOOOOOOOOOOOOOOOOOOOOOOOOOOOOOOOOOOOOOOOOOOOOOOOOOOOOOOOOOOOOOOOOOOOOOOOOOOOOOOOOOO')\n",
    "        \n",
    "    return MSE_alpha_list, MSE_beta_list, running_times"
   ]
  },
  {
   "cell_type": "code",
   "execution_count": 328,
   "metadata": {},
   "outputs": [
    {
     "name": "stderr",
     "output_type": "stream",
     "text": [
      "100%|██████████| 3/3 [00:01<00:00,  1.79it/s]\n"
     ]
    },
    {
     "data": {
      "image/png": "[encoded data removed]",
      "text/plain": [
       "<Figure size 432x288 with 1 Axes>"
      ]
     },
     "metadata": {
      "needs_background": "light"
     },
     "output_type": "display_data"
    },
    {
     "name": "stdout",
     "output_type": "stream",
     "text": [
      "MSE_alpha 0.1469129041582346\n",
      "MSE_beta 0.15128419250249864\n"
     ]
    }
   ],
   "source": [
    "MSE_alpha_SAG, MSE_beta_SAG, running_SAG = fit(3, torch.optim.Adagrad, 0.02,15, SVRGRAD_bool = True, VR = SVRGRAD)\n",
    "show(MSE_alpha_SAG, MSE_beta_SAG, running_SAG)\n",
    "print('MSE_alpha', np.mean(MSE_alpha_SAG[-200:]))\n",
    "print('MSE_beta', np.mean(MSE_beta_SAG[-200:]))"
   ]
  },
  {
   "cell_type": "code",
   "execution_count": 308,
   "metadata": {},
   "outputs": [
    {
     "name": "stderr",
     "output_type": "stream",
     "text": [
      "100%|██████████| 10/10 [00:05<00:00,  1.87it/s]\n"
     ]
    },
    {
     "data": {
      "image/png": "[encoded data removed]",
      "text/plain": [
       "<Figure size 432x288 with 1 Axes>"
      ]
     },
     "metadata": {
      "needs_background": "light"
     },
     "output_type": "display_data"
    },
    {
     "name": "stdout",
     "output_type": "stream",
     "text": [
      "MSE_alpha 0.00010047403568023583\n",
      "MSE_beta 0.00010078263534524012\n"
     ]
    }
   ],
   "source": [
    "MSE_alpha_SAG, MSE_beta_SAG, running_SAG = fit(10, torch.optim.SGD, 0.08,15, SVRGRAD_bool = False, VR = SAGRAD)\n",
    "show(MSE_alpha_SAG, MSE_beta_SAG, running_SAG)\n",
    "print('MSE_alpha', np.mean(MSE_alpha_SAG[-200:]))\n",
    "print('MSE_beta', np.mean(MSE_beta_SAG[-200:]))"
   ]
  },
  {
   "cell_type": "code",
   "execution_count": 267,
   "metadata": {
    "scrolled": true
   },
   "outputs": [
    {
     "name": "stderr",
     "output_type": "stream",
     "text": [
      "100%|██████████| 10/10 [00:05<00:00,  1.91it/s]\n"
     ]
    },
    {
     "data": {
      "image/png": "[encoded data removed]",
      "text/plain": [
       "<Figure size 432x288 with 1 Axes>"
      ]
     },
     "metadata": {
      "needs_background": "light"
     },
     "output_type": "display_data"
    },
    {
     "name": "stdout",
     "output_type": "stream",
     "text": [
      "MSE_alpha 0.00010047314441180788\n",
      "MSE_beta 0.00010078271610836964\n"
     ]
    }
   ],
   "source": [
    "MSE_alpha_SAG, MSE_beta_SAG, running_SAG = fit(10, SAGA, 0.02,15, SAGA_bool = True)\n",
    "show(MSE_alpha_SAG, MSE_beta_SAG, running_SAG)\n",
    "print('MSE_alpha', np.mean(MSE_alpha_SAG[-200:]))\n",
    "print('MSE_beta', np.mean(MSE_beta_SAG[-200:]))"
   ]
  },
  {
   "cell_type": "code",
   "execution_count": 27,
   "metadata": {},
   "outputs": [],
   "source": [
    "def show(MSE_alpha_list, MSE_beta_list, running_times): \n",
    "    plt.plot(running_times, MSE_alpha_list)\n",
    "    plt.plot(running_times, MSE_beta_list)\n",
    "    plt.yscale('log')\n",
    "    plt.show()"
   ]
  },
  {
   "cell_type": "code",
   "execution_count": null,
   "metadata": {},
   "outputs": [],
   "source": []
  }
 ],
 "metadata": {
  "kernelspec": {
   "display_name": "Python 3",
   "language": "python",
   "name": "python3"
  },
  "language_info": {
   "codemirror_mode": {
    "name": "ipython",
    "version": 3
   },
   "file_extension": ".py",
   "mimetype": "text/x-python",
   "name": "python",
   "nbconvert_exporter": "python",
   "pygments_lexer": "ipython3",
   "version": "3.8.8"
  }
 },
 "nbformat": 4,
 "nbformat_minor": 4
}
