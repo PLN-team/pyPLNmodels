{
 "cells": [
  {
   "cell_type": "code",
   "execution_count": 4,
   "metadata": {},
   "outputs": [
    {
     "name": "stdout",
     "output_type": "stream",
     "text": [
      "Collecting torch\n",
      "  Downloading torch-1.10.0-cp38-cp38-manylinux1_x86_64.whl (881.9 MB)\n",
      "\u001b[K     |████████████████████████████████| 881.9 MB 5.1 kB/s  eta 0:00:01     |██████▍                         | 176.2 MB 11.8 MB/s eta 0:01:00     |█████████████▋                  | 374.0 MB 11.8 MB/s eta 0:00:44     |█████████████▊                  | 379.3 MB 11.8 MB/s eta 0:00:43     |██████████████▍                 | 396.5 MB 11.8 MB/s eta 0:00:42     |██████████████████▎             | 503.9 MB 10.3 MB/s eta 0:00:37     |███████████████████████▏        | 639.7 MB 11.9 MB/s eta 0:00:21     |███████████████████████▌        | 648.7 MB 10.3 MB/s eta 0:00:23     |██████████████████████████▎     | 723.3 MB 11.8 MB/s eta 0:00:14     |██████████████████████████▌     | 730.5 MB 10.5 MB/s eta 0:00:15     |████████████████████████████▌   | 785.5 MB 10.2 MB/s eta 0:00:10     |███████████████████████████████▊| 875.3 MB 10.3 MB/s eta 0:00:01\n",
      "\u001b[?25hRequirement already satisfied: typing-extensions in /home/bastien/anaconda3/lib/python3.8/site-packages (from torch) (3.7.4.3)\n",
      "Installing collected packages: torch\n",
      "Successfully installed torch-1.10.0\n"
     ]
    }
   ],
   "source": [
    "import numpy as np\n",
    "!pip install torch"
   ]
  },
  {
   "cell_type": "code",
   "execution_count": 5,
   "metadata": {},
   "outputs": [],
   "source": [
    "%load_ext autoreload\n",
    "\n",
    "%autoreload 2"
   ]
  }
 ],
 "metadata": {
  "kernelspec": {
   "display_name": "Python 3",
   "language": "python",
   "name": "python3"
  },
  "language_info": {
   "codemirror_mode": {
    "name": "ipython",
    "version": 3
   },
   "file_extension": ".py",
   "mimetype": "text/x-python",
   "name": "python",
   "nbconvert_exporter": "python",
   "pygments_lexer": "ipython3",
   "version": "3.8.8"
  }
 },
 "nbformat": 4,
 "nbformat_minor": 4
}
