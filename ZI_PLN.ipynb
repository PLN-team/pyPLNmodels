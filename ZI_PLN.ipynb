{
 "cells": [
  {
   "cell_type": "code",
   "execution_count": 1,
   "metadata": {},
   "outputs": [],
   "source": [
    "%load_ext autoreload\n",
    "\n",
    "%autoreload 2"
   ]
  },
  {
   "cell_type": "code",
   "execution_count": 16,
   "metadata": {},
   "outputs": [],
   "source": [
    "from utils import MSE,Poisson_reg, sample_PLN, sigmoid \n",
    "from utils import logit, log_stirling, build_block_Sigma\n",
    "from utils import init_Sigma\n",
    "import matplotlib.pyplot as plt\n",
    "from pandas import read_csv\n",
    "import math \n",
    "import time \n",
    "import pandas as pd \n",
    "plt.style.use('ggplot')\n",
    "\n",
    "import threading\n",
    "from tqdm import tqdm\n",
    "import numpy as np\n",
    "import seaborn as sns \n",
    "import torch\n",
    "import scipy.linalg as SLA \n",
    "from scipy.linalg import toeplitz \n",
    "from sklearn.linear_model import LinearRegression\n",
    "torch.set_default_dtype(torch.float64)"
   ]
  },
  {
   "cell_type": "code",
   "execution_count": 17,
   "metadata": {},
   "outputs": [],
   "source": [
    "torch.set_default_dtype(torch.float64)"
   ]
  },
  {
   "cell_type": "code",
   "execution_count": 18,
   "metadata": {},
   "outputs": [
    {
     "name": "stdout",
     "output_type": "stream",
     "text": [
      "device :  cpu\n"
     ]
    }
   ],
   "source": [
    "#get the device. can be used with GPU\n",
    "if torch.cuda.is_available(): \n",
    "    device = torch.device('cuda') \n",
    "else : \n",
    "    device = torch.device('cpu')\n",
    "print('device : ', device)"
   ]
  },
  {
   "cell_type": "code",
   "execution_count": 20,
   "metadata": {},
   "outputs": [],
   "source": [
    "def show(model,name_doss = '' , save = False):\n",
    "    '''\n",
    "    function to show one model. It will plot the MSE of Sigma and beta according to the true parameters and \n",
    "    the log_likelihood in the y axis with the runtime in the x-axis.Will also plot the norm of the gradients and \n",
    "    the variance of the weights used for the importance sampling. \n",
    "    \n",
    "    args : \n",
    "        'model' MC_PLNPCA object where you have called model.fit_IMPS()\n",
    "        'name_doss' : str. the name of the file you want to save the graphic. \n",
    "        'save' : bool. If True, the graphic will be saved. If false, won't be saved. \n",
    "        \n",
    "    returns : \n",
    "            None but displays the figure. It can also save the figure if save = True. \n",
    "    '''\n",
    "    fig,ax = plt.subplots(4,1,figsize = (15,15))\n",
    "    \n",
    "    max_ = np.max(np.array(model.ELBO_list))\n",
    "    print('max ', max_)\n",
    "    #MSE of Sigma\n",
    "    abscisse = model.running_times\n",
    "    plt.subplots_adjust(hspace = 0.4)\n",
    "    ax[0].plot(abscisse, model.MSE_Sigma_list)\n",
    "    ax[0].set_title(r'MSE $(\\Sigma- \\hat \\Sigma)$')\n",
    "    ax[0].set_xlabel('Seconds')\n",
    "    ax[0].set_ylim(ymin= 1e-4)\n",
    "    ax[0].set_ylabel('(a)')\n",
    "    ax[0].set_yscale('log')\n",
    "    \n",
    "    #MSE of beta. \n",
    "    ax[1].plot(abscisse, model.MSE_beta_list)\n",
    "    ax[1].set_title(r'MSE $(\\beta - \\hat \\beta)$') \n",
    "    ax[1].set_yscale('log')\n",
    "    ax[1].set_ylim(ymin= 1e-4)\n",
    "    ax[1].set_ylabel('(b)')\n",
    "    ax[1].legend()\n",
    "    \n",
    "    ax[2].plot(abscisse, model.MSE_B_zero_list)\n",
    "    ax[2].set_title(r'MSE $(B^{0} - \\hat {B^{0}})$') \n",
    "    ax[2].set_yscale('log')\n",
    "    ax[2].set_ylim(ymin= 1e-4)\n",
    "    ax[2].set_ylabel('(b)')\n",
    "    ax[2].legend()\n",
    "    \n",
    "    #log likelihood of the model. will also plot the log likelihood of the model with the true parameters. \n",
    "    length = int(len(abscisse)*0.2)\n",
    "    ax[3].plot(abscisse[length:], np.array(model.ELBO_list)[length:])#-max_)\n",
    "    ax[3].set_title('ELBO')\n",
    "    ax[3].set_ylabel('ELBO')\n",
    "    ax[3].set_xlabel('Seconds')\n",
    "    #variational_log_like = variational_model.compute_mean_log_likelihood(0.0001)[0].item()\n",
    "    #ax[2].axhline(variational_log_like, c = 'black', label = 'variaitional likelihood')\n",
    "    #ax[3].set_yscale('symlog')\n",
    "    ax[3].set_ylabel('(c)')\n",
    "    ax[3].legend()\n",
    "\n",
    "    if save : \n",
    "        plt.savefig(name_doss)\n",
    "    plt.show()\n",
    "    \n",
    "# show(model_blockwise)"
   ]
  },
  {
   "cell_type": "code",
   "execution_count": 21,
   "metadata": {},
   "outputs": [],
   "source": [
    "def init_B_zero(Y, covariates): \n",
    "    logistic_Y = (Y==0)\n",
    "    B_zero_init = fit(logistic_Y)\n",
    "    return B_zero_init\n"
   ]
  },
  {
   "cell_type": "code",
   "execution_count": 22,
   "metadata": {},
   "outputs": [],
   "source": [
    "def trunc_log(x,eps = 1e-16):\n",
    "    y = torch.min(torch.max(x,torch.tensor([eps])), torch.tensor([1-eps]))\n",
    "    return torch.log(y)\n",
    "\n"
   ]
  },
  {
   "cell_type": "code",
   "execution_count": 13,
   "metadata": {},
   "outputs": [],
   "source": [
    "class ZI_PLN():\n",
    "    def __init__(self, class_optimizer = torch.optim.Rprop, true_value = False): \n",
    "        '''\n",
    "            Initialization. We only define some useful stuff. The intialization of the\n",
    "            parameters is done int the init_data() function. \n",
    "        '''\n",
    "        self.old_loss = 1\n",
    "        \n",
    "        self.class_optimizer = class_optimizer\n",
    "        \n",
    "        self.true_value = true_value\n",
    "        # some lists to store some stats\n",
    "        self.t0 = time.time()\n",
    "        self.MSE_Sigma_list = list()\n",
    "        self.MSE_beta_list = list()\n",
    "        self.MSE_B_zero_list = list()\n",
    "        self.ELBO_list = list()\n",
    "        self.running_times = list()\n",
    "        self.cmpt = 0 \n",
    "        \n",
    "    def init_data(self,data): \n",
    "        '''\n",
    "        function to extract the data. This function is just here to have a code more compact. We \n",
    "        also intialize the parameters.\n",
    "        \n",
    "        args : \n",
    "              'data': list with 3 elements : Y, O and covariates in this order. \n",
    "        '''\n",
    "        #known variables\n",
    "        self.Y = data[0].to(device);self.O = data[1].to(device);self.covariates = data[2].to(device)\n",
    "        self.n, self.p = self.Y.shape\n",
    "        self.d = self.covariates.shape[1]\n",
    "\n",
    "        #model parameter \n",
    "        noise = torch.randn(self.p)\n",
    "        \n",
    "        poiss_reg = Poisson_reg()\n",
    "        poiss_reg.fit_torch(self.O,self.covariates,self.Y)\n",
    "        self.beta = torch.clone(poiss_reg.beta.detach()).to(device)\n",
    "        #self.beta = torch.zeros(self.d, self.p)\n",
    "        self.beta.requires_grad_(False)\n",
    "        \n",
    "        self.Sigma =  init_Sigma(self.O, self.covariates,self.Y, self.beta).to(device) \n",
    "        #self.Sigma =  (torch.diag(noise**2)+ 1e-1).to(device) \n",
    "        self.Sigma.requires_grad_(False)#we won't use gradients on Sigma\n",
    "\n",
    "        self.B_zero = (init_B_zero(self.Y, self.covariates)).to(device) #torch.randn((self.d,self.p)).to(device)\n",
    "        #self.B_zero = torch.zeros(self.d, self.p)\n",
    "        if self.true_value : \n",
    "            self.beta = torch.clone(true_beta)\n",
    "            self.Sigma = torch.clone(true_Sigma)\n",
    "            self.B_zero = torch.clone(true_B_zero)\n",
    "        self.B_zero.requires_grad_(True)\n",
    "        \n",
    "        self.nb_zero = torch.sum(self.Y==0)\n",
    "        self.dirac = (self.Y==0)\n",
    "        self.C = torch.cholesky(self.Sigma).to(device)\n",
    "        #variational parameter\n",
    "        self.M = self.init_M(300,0.1).to(device)\n",
    "        #self.M = torch.zeros(self.n, self.p).to(device)\n",
    "        self.M.requires_grad_(True)\n",
    "        self.S = torch.randn((self.n,self.p)).to(device)\n",
    "        self.S.requires_grad_(True)\n",
    "        self.pi = torch.empty(self.n, self.p).uniform_(0, 1).to(device)*self.dirac\n",
    "        self.pi.requires_grad_(False)\n",
    "        \n",
    "        self.params = {'S' : self.S,'M': self.M, 'beta' : self.beta, \n",
    "                       'Sigma' : self.Sigma,'pi': self.pi, \n",
    "                       'B_zero': self.B_zero}\n",
    "        \n",
    "    def compute_ELBO_ZI(self): \n",
    "        return ELBO_ZI(self.Y,self.O,self.covariates, self.M, self.S, self.Sigma, self.beta, self.pi, self.B_zero, self.dirac)\n",
    "    def ZI_grad_M(self): \n",
    "        A = torch.exp(self.O+self.M+torch.multiply(self.S,self.S)/2)\n",
    "        return  torch.multiply(1-self.pi, self.Y-A)-torch.mm((self.M-torch.mm(self.covariates, self.beta)), torch.inverse(self.Sigma))\n",
    "    def ZI_grad_S(self): \n",
    "        A = torch.exp(self.O+self.M+torch.multiply(self.S,self.S)/2)\n",
    "        first = torch.div(1,self.S)\n",
    "        sec = torch.multiply(torch.multiply(1-self.pi, self.S), A)\n",
    "        third = torch.mm(self.S,torch.diag(torch.diag(torch.inverse(self.Sigma))))\n",
    "        return first - sec - third\n",
    "    \n",
    "    def ZI_grad_B_zero(self):\n",
    "        first =  torch.mm(self.covariates.T, self.pi)\n",
    "        XB_zero = torch.mm(self.covariates, self.B_zero)\n",
    "        sec = torch.mm(self.covariates.T, sigmoid(XB_zero))\n",
    "        return first - sec\n",
    "    \n",
    "    def ZI_grad_pi(self,pi_): \n",
    "        A = torch.exp(self.O+self.M+torch.multiply(self.S,self.S)/2)\n",
    "        XB_zero = torch.mm(self.covariates, self.B_zero)\n",
    "        return (A + XB_zero -logit(pi_))*self.dirac\n",
    "    \n",
    "    def fit(self,Y, O, covariates, tolerance ,Niter,lr,  verbose): \n",
    "        '''\n",
    "        gradient ascent function. We compute the gradients thanks to the autodifferentiation of pytorch. \n",
    "\n",
    "        args : \n",
    "                'optimizer' : torch.optim.optimizer. the optimizer for the parameters. \n",
    "\n",
    "                'compute_gain' : function. It should call the parameters by itself. i.e. we will\n",
    "                                call compute_gain() without any parameter in argument. \n",
    "\n",
    "                       \n",
    "                'tolerance': float. the threshold we set to stop the algorithm. It will \n",
    "                              stop  if we are not improving the loss more than tolerance. \n",
    "                              \n",
    "                'N_epoch': int. the Maximum number of epoch we are ready to do. \n",
    "                \n",
    "\n",
    "                'Verbose' : bool. if True, will print some messages useful to \n",
    "                            interpret the gradient ascent. If False, nothing will be printed. \n",
    " \n",
    "        returns : None \n",
    "        '''\n",
    "        data = [Y,O,covariates]\n",
    "        self.init_data(data)\n",
    "        \n",
    "        optimizer = self.class_optimizer([self.S,self.M, self.B_zero], lr = lr)\n",
    "        \n",
    "        optimizer.zero_grad()\n",
    "\n",
    "        stop_condition = False \n",
    "        i = 0\n",
    "\n",
    "        while i < Niter and stop_condition == False: \n",
    "            #with torch.no_grad(): \n",
    "                \n",
    "            optimizer.zero_grad()\n",
    "            loss = -self.compute_ELBO_ZI()\n",
    "            loss.backward()\n",
    "            optimizer.step()\n",
    "            delta = self.old_loss - loss.item() \n",
    "            # condition to see if we have reach the tolerance threshold\n",
    "            if  abs(delta) < tolerance :\n",
    "                stop_condition = True \n",
    "            \n",
    "            self.old_loss = loss.item()\n",
    "            \n",
    "            with torch.no_grad(): \n",
    "                self.Sigma = closed_Sigma(self.M,self.S,self.covariates,self.beta)\n",
    "                self.beta = closed_beta(self.covariates,self.M)\n",
    "                self.pi = closed_pi(self.O,self.M,self.S,self.dirac, self.covariates, self.B_zero)\n",
    "                \n",
    "\n",
    "            # keep track of the error with Sigma. \n",
    "            \n",
    "            self.MSE_Sigma_list.append(torch.mean((self.Sigma-true_Sigma)**2).item())\n",
    "            self.MSE_beta_list.append(torch.mean((self.beta-true_beta)**2).item())\n",
    "            self.MSE_B_zero_list.append(torch.mean((self.B_zero-true_B_zero)**2).item())\n",
    "            self.ELBO_list.append(-loss.item())\n",
    "            \n",
    "            print(' MSE with Sigma : ', np.round(self.MSE_Sigma_list[-1],5))\n",
    "            print(' MSE with beta : ', np.round(self.MSE_beta_list[-1],5))\n",
    "            print('MSE with B_zero', np.round(self.MSE_B_zero_list[-1],5))\n",
    "                \n",
    "            i += 1\n",
    "            #keep track of the time \n",
    "            self.running_times.append(time.time()-self.t0)\n",
    "\n",
    "        # print some stats if we want to \n",
    "        if verbose : \n",
    "            if stop_condition : \n",
    "                print('---------------------------------Tolerance {} reached in {} iterations'.format(tolerance, i))\n",
    "            else : \n",
    "                print('---------------------------------Maximum number of iterations reached : ', N_epoch, 'last delta = ', delta)\n",
    "\n",
    "    def fit_VEM(self,Y, O, covariates, tolerance ,Niter,nb_each_iter, lr,  verbose): \n",
    "        self.t0 = time.time()\n",
    "        data = [Y,O,covariates]\n",
    "        self.init_data(data)\n",
    "\n",
    "        for i in range(Niter): \n",
    "            self.VE_step(nb_each_iter, 0, 10*lr)\n",
    "            self.M_step(nb_each_iter, 0, lr)\n",
    "            closed_pi(self.O,self.M,self.S,self.dirac, self.covariates, self.B_zero)\n",
    "    def fit_blockwise(self,Y, O, covariates, tolerance ,Niter,nb_each_iter, lr,  verbose): \n",
    "        self.t0 = time.time()\n",
    "        data = [Y,O,covariates]\n",
    "        self.init_data(data)\n",
    "        for i in tqdm(range(Niter)): \n",
    "            ## VE step \n",
    "            self.update_param(self.M, nb_each_iter, lr)\n",
    "            self.update_param(self.S, nb_each_iter, lr)\n",
    "                \n",
    "            with torch.no_grad(): \n",
    "                    self.pi = closed_pi(self.O,self.M,self.S,self.dirac, self.covariates, self.B_zero)\n",
    "                    self.keep_records()\n",
    "\n",
    "            #M step\n",
    "            self.update_param(self.B_zero, nb_each_iter, lr)\n",
    "            \n",
    "            with torch.no_grad(): \n",
    "                self.beta = closed_beta(self.covariates,self.M)\n",
    "                self.Sigma = closed_Sigma(self.M,self.S,self.covariates,self.beta)#= closed_pi(self.O,self.M,self.S,self.dirac, self.covariates, self.B_zero)\n",
    "                self.keep_records()\n",
    "            print('ELBO :', -self.loss)\n",
    "\n",
    "\n",
    "\n",
    "    def update_param(self, param, nb_iter, lr): \n",
    "        param_optimizer = self.class_optimizer([param], lr = lr)\n",
    "        param_optimizer.zero_grad()\n",
    "        for i in range(nb_iter): \n",
    "            self.loss = -self.compute_ELBO_ZI()\n",
    "            self.loss.backward()\n",
    "            param_optimizer.step()\n",
    "            param_optimizer.zero_grad()\n",
    "        self.keep_records()\n",
    "        return \n",
    "            \n",
    "    def VE_step(self, N_iter_max,tolerance, lr): \n",
    "        VE_optimizer = self.class_optimizer([self.M,self.S], lr  = lr)\n",
    "        VE_optimizer.zero_grad()\n",
    "        with torch.no_grad():\n",
    "            self.pi = closed_pi(self.O,self.M,self.S,self.dirac, self.covariates, self.B_zero)\n",
    "        crit = 2*tolerance +1\n",
    "        i = 0\n",
    "        self.old_M = torch.clone(self.M)\n",
    "        self.old_S = torch.clone(self.S)\n",
    "        while i < N_iter_max and crit > tolerance : \n",
    "            loss = -self.compute_ELBO_ZI()\n",
    "            loss.backward()\n",
    "            VE_optimizer.step()\n",
    "            VE_optimizer.zero_grad()\n",
    "            i += 1\n",
    "            crit = torch.max((torch.norm(self.M-self.old_M))/torch.norm(self.old_M), torch.norm(self.S-self.old_S)/torch.norm(self.old_S))\n",
    "#             print('ELBO', -loss.item())\n",
    "#             print('crit :', crit)\n",
    "            self.old_M = torch.clone(self.M)\n",
    "            self.old_S = torch.clone(self.S)\n",
    "            self.MSE_Sigma_list.append(torch.mean((self.Sigma-true_Sigma)**2).item())\n",
    "            self.MSE_beta_list.append(torch.mean((self.beta-true_beta)**2).item())\n",
    "            self.MSE_B_zero_list.append(torch.mean((self.B_zero-true_B_zero)**2).item())\n",
    "            self.ELBO_list.append(-loss.item())\n",
    "            self.running_times.append(time.time()-self.t0)\n",
    "\n",
    "            \n",
    "    def keep_records(self):\n",
    "        self.MSE_Sigma_list.append(torch.mean((self.Sigma-true_Sigma)**2).item())\n",
    "        self.MSE_beta_list.append(torch.mean((self.beta-true_beta)**2).item())\n",
    "        self.MSE_B_zero_list.append(torch.mean((self.B_zero-true_B_zero)**2).item())\n",
    "        self.ELBO_list.append(-self.loss.item())\n",
    "        self.running_times.append(time.time()-self.t0)\n",
    "\n",
    "    def M_step(self, N_iter_max,tolerance, lr): \n",
    "        M_optimizer = self.class_optimizer([self.B_zero], lr  = lr)\n",
    "        M_optimizer.zero_grad()\n",
    "        with torch.no_grad():\n",
    "            #pass \n",
    "            self.beta = closed_beta(self.covariates,self.M)\n",
    "            self.Sigma = closed_Sigma(self.M,self.S,self.covariates,self.beta)#= closed_pi(self.O,self.M,self.S,self.dirac, self.covariates, self.B_zero)\n",
    "        crit = 2*tolerance+1 \n",
    "        i = 0\n",
    "        self.old_B_zero = torch.clone(self.B_zero)\n",
    "        while i < N_iter_max and crit > tolerance : \n",
    "            loss = -self.compute_ELBO_ZI()\n",
    "            loss.backward()\n",
    "            M_optimizer.step()\n",
    "            M_optimizer.zero_grad()\n",
    "            i += 1\n",
    "            crit = (torch.norm(self.B_zero-self.old_B_zero))/torch.norm(self.old_B_zero)\n",
    "            self.MSE_Sigma_list.append(torch.mean((self.Sigma-true_Sigma)**2).item())\n",
    "            self.MSE_beta_list.append(torch.mean((self.beta-true_beta)**2).item())\n",
    "            self.MSE_B_zero_list.append(torch.mean((self.B_zero-true_B_zero)**2).item())\n",
    "            self.ELBO_list.append(-loss.item())\n",
    "            self.running_times.append(time.time()-self.t0)\n",
    "            #             print('crit :', crit)\n",
    "            self.old_B_zero = torch.clone(self.B_zero)\n",
    "        print(' MSE with Sigma : ', np.round(MSE(self.Sigma-true_Sigma),5))\n",
    "        print(' MSE with beta : ', np.round(MSE(self.beta - true_beta),5))\n",
    "        print('MSE with B_zero', np.round(MSE(self.B_zero -true_B_zero ).item(),5))\n",
    "\n",
    "    def init_M(self, N_iter, lr, eps = 7e-3):\n",
    "        def batch_un_log_posterior(W): \n",
    "            return batch_log_P_WgivenY(self.Y, self.covariates, self.O, W, self.C, self.beta) \n",
    "        self.batch_un_log_posterior = batch_un_log_posterior\n",
    "        W = torch.randn(self.n,self.p)\n",
    "        W.requires_grad_(True)\n",
    "        optimizer = torch.optim.Rprop([W], lr = lr)\n",
    "        criterion = 2*eps\n",
    "        old_W = torch.clone(W)\n",
    "        keep_condition = True\n",
    "        for i in tqdm(range(N_iter)):#  i < N_iter and keep_condition: \n",
    "\n",
    "            loss = -torch.mean(self.batch_un_log_posterior(W))\n",
    "            loss.backward()\n",
    "            optimizer.step()\n",
    "            crit = torch.max(torch.abs(W-old_W))\n",
    "            optimizer.zero_grad()\n",
    "            if crit<eps and i > 2 : \n",
    "                keep_condition = False \n",
    "            old_W = torch.clone(W)\n",
    "        print('nb iteration : ', i)\n",
    "        return W"
   ]
  },
  {
   "cell_type": "code",
   "execution_count": 155,
   "metadata": {},
   "outputs": [
    {
     "data": {
      "text/plain": [
       "tensor(-7577.8900)"
      ]
     },
     "execution_count": 155,
     "metadata": {},
     "output_type": "execute_result"
    }
   ],
   "source": [
    "Y_sampled = torch.tensor(pd.read_csv(\"Y\").values)\n",
    "O = torch.tensor(pd.read_csv(\"O\").values)\n",
    "covariates = torch.tensor(pd.read_csv(\"covariates\").values)\n",
    "\n",
    "M_ = torch.tensor(pd.read_csv(\"M\").values)\n",
    "S_ = torch.tensor(pd.read_csv(\"S\").values)\n",
    "pi_ = torch.tensor(pd.read_csv(\"pi\").values)\n",
    "\n",
    "true_beta = torch.tensor(pd.read_csv(\"true_beta\").values)\n",
    "true_Sigma = torch.tensor(pd.read_csv(\"true_Sigma\").values)\n",
    "true_B_zero = torch.tensor(pd.read_csv(\"true_B_zero\").values)\n",
    "\n",
    "dirac_ = (Y_sampled==0)\n",
    "\n",
    "ELBO_ZI(Y_sampled,O,covariates, M_, S_, true_Sigma, true_beta, pi_, true_B_zero, dirac_)\n"
   ]
  },
  {
   "cell_type": "code",
   "execution_count": 133,
   "metadata": {},
   "outputs": [],
   "source": [
    "def ELBO_ZI(Y,O,covariates, M, S, Sigma, beta, pi, B_zero, dirac): \n",
    "    if torch.norm(pi*dirac - pi) > 0.0001: \n",
    "        print('Bug')\n",
    "        return False\n",
    "    \n",
    "    n = Y.shape[0]\n",
    "    p = Y.shape[1]\n",
    "    SrondS = torch.multiply(S,S)\n",
    "    OplusM = O+M\n",
    "    MmoinsXB = M-torch.mm(covariates, beta) \n",
    "    XB_zero = torch.mm(covariates, B_zero)\n",
    "    tmp= n*p/2\n",
    "    #tmp =  0 \n",
    "    #pi = ksi_*dirac\n",
    "    tmp -= n/2*torch.log(torch.det(Sigma))\n",
    "    tmp += torch.sum(torch.multiply(1-pi,torch.multiply(Y, OplusM)  -torch.exp(OplusM+SrondS/2)-log_stirling(Y))  +1/2*torch.log(SrondS))\n",
    "    tmp += torch.sum(torch.multiply(pi,XB_zero))\n",
    "    tmp -= torch.sum(torch.log(1+ torch.exp(XB_zero)))\n",
    "    tmp -= 1/2*torch.trace(  \n",
    "                            torch.mm(  \n",
    "                                        torch.inverse(Sigma), \n",
    "                                        torch.diag(torch.sum(SrondS, dim = 0))+ torch.mm(MmoinsXB.T, MmoinsXB)\n",
    "                                    )\n",
    "                          )\n",
    "    tmp -= torch.sum(torch.multiply(pi,trunc_log(pi)))\n",
    "    \n",
    "    tmp -= torch.sum(torch.multiply(1-pi,trunc_log(1-pi)))\n",
    "    \n",
    "    return tmp\n",
    "\n",
    "def closed_Sigma(M,S,covariates,beta):\n",
    "    '''\n",
    "    closed form for Sigma with the first parametrisation centered in X\\beta and variance Sigma \n",
    "    '''\n",
    "    n,p = M.shape\n",
    "    MmoinsXB = M-torch.mm(covariates,beta)\n",
    "    return 1/(n)*(torch.mm(MmoinsXB.T,MmoinsXB) + torch.diag(torch.sum(torch.multiply(S,S), dim = 0)))\n",
    "\n",
    "def closed_beta(X,M): # the X is the covariates. \n",
    "    '''\n",
    "    closed form for beta with the first parametrisation above\n",
    "    '''\n",
    "    return torch.mm(torch.mm(torch.inverse(torch.mm(X.T,X)), X.T),M)\n",
    "\n",
    "def closed_pi(O,M,S,dirac, covariates, B_zero): \n",
    "    '''\n",
    "    closed form for pi with the parametrisation centered in Xbeta and variance Sigma\n",
    "    '''\n",
    "    A = torch.exp(O+M+torch.multiply(S,S)/2)\n",
    "    pi_chap = torch.multiply(sigmoid(A+torch.mm(covariates, B_zero)), dirac)\n",
    "    return pi_chap"
   ]
  },
  {
   "cell_type": "code",
   "execution_count": 135,
   "metadata": {
    "scrolled": true
   },
   "outputs": [
    {
     "name": "stderr",
     "output_type": "stream",
     "text": [
      "100%|██████████| 300/300 [00:00<00:00, 822.99it/s]\n",
      "  0%|          | 0/50 [00:00<?, ?it/s]"
     ]
    },
    {
     "name": "stdout",
     "output_type": "stream",
     "text": [
      "nb iteration :  299\n"
     ]
    },
    {
     "name": "stderr",
     "output_type": "stream",
     "text": [
      "\r",
      "  2%|▏         | 1/50 [00:00<00:17,  2.79it/s]"
     ]
    },
    {
     "name": "stdout",
     "output_type": "stream",
     "text": [
      "ELBO : tensor(-16807.2767, grad_fn=<NegBackward>)\n"
     ]
    },
    {
     "name": "stderr",
     "output_type": "stream",
     "text": [
      "\r",
      "  4%|▍         | 2/50 [00:00<00:17,  2.77it/s]"
     ]
    },
    {
     "name": "stdout",
     "output_type": "stream",
     "text": [
      "ELBO : tensor(-6745.6613, grad_fn=<NegBackward>)\n"
     ]
    },
    {
     "name": "stderr",
     "output_type": "stream",
     "text": [
      "\r",
      "  6%|▌         | 3/50 [00:01<00:17,  2.75it/s]"
     ]
    },
    {
     "name": "stdout",
     "output_type": "stream",
     "text": [
      "ELBO : tensor(-6583.5676, grad_fn=<NegBackward>)\n"
     ]
    },
    {
     "name": "stderr",
     "output_type": "stream",
     "text": [
      "\r",
      "  8%|▊         | 4/50 [00:01<00:16,  2.76it/s]"
     ]
    },
    {
     "name": "stdout",
     "output_type": "stream",
     "text": [
      "ELBO : tensor(-6510.1459, grad_fn=<NegBackward>)\n"
     ]
    },
    {
     "name": "stderr",
     "output_type": "stream",
     "text": [
      "\r",
      " 10%|█         | 5/50 [00:01<00:16,  2.72it/s]"
     ]
    },
    {
     "name": "stdout",
     "output_type": "stream",
     "text": [
      "ELBO : tensor(-6464.5649, grad_fn=<NegBackward>)\n"
     ]
    },
    {
     "name": "stderr",
     "output_type": "stream",
     "text": [
      "\r",
      " 12%|█▏        | 6/50 [00:02<00:16,  2.72it/s]"
     ]
    },
    {
     "name": "stdout",
     "output_type": "stream",
     "text": [
      "ELBO : tensor(-6435.4661, grad_fn=<NegBackward>)\n"
     ]
    },
    {
     "name": "stderr",
     "output_type": "stream",
     "text": [
      "\r",
      " 14%|█▍        | 7/50 [00:02<00:15,  2.72it/s]"
     ]
    },
    {
     "name": "stdout",
     "output_type": "stream",
     "text": [
      "ELBO : tensor(-6415.7574, grad_fn=<NegBackward>)\n"
     ]
    },
    {
     "name": "stderr",
     "output_type": "stream",
     "text": [
      "\r",
      " 16%|█▌        | 8/50 [00:02<00:15,  2.71it/s]"
     ]
    },
    {
     "name": "stdout",
     "output_type": "stream",
     "text": [
      "ELBO : tensor(-6402.1621, grad_fn=<NegBackward>)\n"
     ]
    },
    {
     "name": "stderr",
     "output_type": "stream",
     "text": [
      "\r",
      " 18%|█▊        | 9/50 [00:03<00:15,  2.69it/s]"
     ]
    },
    {
     "name": "stdout",
     "output_type": "stream",
     "text": [
      "ELBO : tensor(-6392.5761, grad_fn=<NegBackward>)\n"
     ]
    },
    {
     "name": "stderr",
     "output_type": "stream",
     "text": [
      "\r",
      " 20%|██        | 10/50 [00:03<00:14,  2.70it/s]"
     ]
    },
    {
     "name": "stdout",
     "output_type": "stream",
     "text": [
      "ELBO : tensor(-6384.7508, grad_fn=<NegBackward>)\n"
     ]
    },
    {
     "name": "stderr",
     "output_type": "stream",
     "text": [
      "\r",
      " 22%|██▏       | 11/50 [00:04<00:14,  2.72it/s]"
     ]
    },
    {
     "name": "stdout",
     "output_type": "stream",
     "text": [
      "ELBO : tensor(-6377.4740, grad_fn=<NegBackward>)\n"
     ]
    },
    {
     "name": "stderr",
     "output_type": "stream",
     "text": [
      "\r",
      " 24%|██▍       | 12/50 [00:04<00:13,  2.73it/s]"
     ]
    },
    {
     "name": "stdout",
     "output_type": "stream",
     "text": [
      "ELBO : tensor(-6371.4404, grad_fn=<NegBackward>)\n"
     ]
    },
    {
     "name": "stderr",
     "output_type": "stream",
     "text": [
      "\r",
      " 26%|██▌       | 13/50 [00:04<00:13,  2.67it/s]"
     ]
    },
    {
     "name": "stdout",
     "output_type": "stream",
     "text": [
      "ELBO : tensor(-6366.5452, grad_fn=<NegBackward>)\n"
     ]
    },
    {
     "name": "stderr",
     "output_type": "stream",
     "text": [
      "\r",
      " 28%|██▊       | 14/50 [00:05<00:13,  2.67it/s]"
     ]
    },
    {
     "name": "stdout",
     "output_type": "stream",
     "text": [
      "ELBO : tensor(-6362.7987, grad_fn=<NegBackward>)\n"
     ]
    },
    {
     "name": "stderr",
     "output_type": "stream",
     "text": [
      "\r",
      " 30%|███       | 15/50 [00:05<00:13,  2.60it/s]"
     ]
    },
    {
     "name": "stdout",
     "output_type": "stream",
     "text": [
      "ELBO : tensor(-6359.6214, grad_fn=<NegBackward>)\n"
     ]
    },
    {
     "name": "stderr",
     "output_type": "stream",
     "text": [
      "\r",
      " 32%|███▏      | 16/50 [00:05<00:12,  2.63it/s]"
     ]
    },
    {
     "name": "stdout",
     "output_type": "stream",
     "text": [
      "ELBO : tensor(-6356.8717, grad_fn=<NegBackward>)\n"
     ]
    },
    {
     "name": "stderr",
     "output_type": "stream",
     "text": [
      "\r",
      " 34%|███▍      | 17/50 [00:06<00:12,  2.67it/s]"
     ]
    },
    {
     "name": "stdout",
     "output_type": "stream",
     "text": [
      "ELBO : tensor(-6354.7355, grad_fn=<NegBackward>)\n"
     ]
    },
    {
     "name": "stderr",
     "output_type": "stream",
     "text": [
      "\r",
      " 36%|███▌      | 18/50 [00:06<00:11,  2.70it/s]"
     ]
    },
    {
     "name": "stdout",
     "output_type": "stream",
     "text": [
      "ELBO : tensor(-6352.9865, grad_fn=<NegBackward>)\n"
     ]
    },
    {
     "name": "stderr",
     "output_type": "stream",
     "text": [
      "\r",
      " 38%|███▊      | 19/50 [00:07<00:11,  2.72it/s]"
     ]
    },
    {
     "name": "stdout",
     "output_type": "stream",
     "text": [
      "ELBO : tensor(-6351.4904, grad_fn=<NegBackward>)\n"
     ]
    },
    {
     "name": "stderr",
     "output_type": "stream",
     "text": [
      "\r",
      " 40%|████      | 20/50 [00:07<00:10,  2.73it/s]"
     ]
    },
    {
     "name": "stdout",
     "output_type": "stream",
     "text": [
      "ELBO : tensor(-6350.1664, grad_fn=<NegBackward>)\n"
     ]
    },
    {
     "name": "stderr",
     "output_type": "stream",
     "text": [
      "\r",
      " 42%|████▏     | 21/50 [00:07<00:10,  2.66it/s]"
     ]
    },
    {
     "name": "stdout",
     "output_type": "stream",
     "text": [
      "ELBO : tensor(-6349.0061, grad_fn=<NegBackward>)\n"
     ]
    },
    {
     "name": "stderr",
     "output_type": "stream",
     "text": [
      "\r",
      " 44%|████▍     | 22/50 [00:08<00:10,  2.69it/s]"
     ]
    },
    {
     "name": "stdout",
     "output_type": "stream",
     "text": [
      "ELBO : tensor(-6348.0473, grad_fn=<NegBackward>)\n"
     ]
    },
    {
     "name": "stderr",
     "output_type": "stream",
     "text": [
      "\r",
      " 46%|████▌     | 23/50 [00:08<00:09,  2.72it/s]"
     ]
    },
    {
     "name": "stdout",
     "output_type": "stream",
     "text": [
      "ELBO : tensor(-6347.2494, grad_fn=<NegBackward>)\n"
     ]
    },
    {
     "name": "stderr",
     "output_type": "stream",
     "text": [
      "\r",
      " 48%|████▊     | 24/50 [00:08<00:09,  2.71it/s]"
     ]
    },
    {
     "name": "stdout",
     "output_type": "stream",
     "text": [
      "ELBO : tensor(-6346.5702, grad_fn=<NegBackward>)\n"
     ]
    },
    {
     "name": "stderr",
     "output_type": "stream",
     "text": [
      "\r",
      " 50%|█████     | 25/50 [00:09<00:09,  2.73it/s]"
     ]
    },
    {
     "name": "stdout",
     "output_type": "stream",
     "text": [
      "ELBO : tensor(-6345.9805, grad_fn=<NegBackward>)\n"
     ]
    },
    {
     "name": "stderr",
     "output_type": "stream",
     "text": [
      "\r",
      " 52%|█████▏    | 26/50 [00:09<00:08,  2.72it/s]"
     ]
    },
    {
     "name": "stdout",
     "output_type": "stream",
     "text": [
      "ELBO : tensor(-6345.4532, grad_fn=<NegBackward>)\n"
     ]
    },
    {
     "name": "stderr",
     "output_type": "stream",
     "text": [
      "\r",
      " 54%|█████▍    | 27/50 [00:09<00:08,  2.74it/s]"
     ]
    },
    {
     "name": "stdout",
     "output_type": "stream",
     "text": [
      "ELBO : tensor(-6344.9670, grad_fn=<NegBackward>)\n"
     ]
    },
    {
     "name": "stderr",
     "output_type": "stream",
     "text": [
      "\r",
      " 56%|█████▌    | 28/50 [00:10<00:08,  2.74it/s]"
     ]
    },
    {
     "name": "stdout",
     "output_type": "stream",
     "text": [
      "ELBO : tensor(-6344.4896, grad_fn=<NegBackward>)\n"
     ]
    },
    {
     "name": "stderr",
     "output_type": "stream",
     "text": [
      "\r",
      " 58%|█████▊    | 29/50 [00:10<00:07,  2.75it/s]"
     ]
    },
    {
     "name": "stdout",
     "output_type": "stream",
     "text": [
      "ELBO : tensor(-6343.9111, grad_fn=<NegBackward>)\n"
     ]
    },
    {
     "name": "stderr",
     "output_type": "stream",
     "text": [
      "\r",
      " 60%|██████    | 30/50 [00:11<00:07,  2.75it/s]"
     ]
    },
    {
     "name": "stdout",
     "output_type": "stream",
     "text": [
      "ELBO : tensor(-6343.2025, grad_fn=<NegBackward>)\n"
     ]
    },
    {
     "name": "stderr",
     "output_type": "stream",
     "text": [
      "\r",
      " 62%|██████▏   | 31/50 [00:11<00:07,  2.63it/s]"
     ]
    },
    {
     "name": "stdout",
     "output_type": "stream",
     "text": [
      "ELBO : tensor(-6342.8338, grad_fn=<NegBackward>)\n"
     ]
    },
    {
     "name": "stderr",
     "output_type": "stream",
     "text": [
      "\r",
      " 64%|██████▍   | 32/50 [00:11<00:07,  2.52it/s]"
     ]
    },
    {
     "name": "stdout",
     "output_type": "stream",
     "text": [
      "ELBO : tensor(-6342.5290, grad_fn=<NegBackward>)\n"
     ]
    },
    {
     "name": "stderr",
     "output_type": "stream",
     "text": [
      "\r",
      " 66%|██████▌   | 33/50 [00:12<00:06,  2.50it/s]"
     ]
    },
    {
     "name": "stdout",
     "output_type": "stream",
     "text": [
      "ELBO : tensor(-6342.2367, grad_fn=<NegBackward>)\n"
     ]
    },
    {
     "name": "stderr",
     "output_type": "stream",
     "text": [
      "\r",
      " 68%|██████▊   | 34/50 [00:12<00:06,  2.52it/s]"
     ]
    },
    {
     "name": "stdout",
     "output_type": "stream",
     "text": [
      "ELBO : tensor(-6341.9533, grad_fn=<NegBackward>)\n"
     ]
    },
    {
     "name": "stderr",
     "output_type": "stream",
     "text": [
      "\r",
      " 70%|███████   | 35/50 [00:13<00:05,  2.54it/s]"
     ]
    },
    {
     "name": "stdout",
     "output_type": "stream",
     "text": [
      "ELBO : tensor(-6341.6877, grad_fn=<NegBackward>)\n"
     ]
    },
    {
     "name": "stderr",
     "output_type": "stream",
     "text": [
      "\r",
      " 72%|███████▏  | 36/50 [00:13<00:05,  2.58it/s]"
     ]
    },
    {
     "name": "stdout",
     "output_type": "stream",
     "text": [
      "ELBO : tensor(-6341.4393, grad_fn=<NegBackward>)\n"
     ]
    },
    {
     "name": "stderr",
     "output_type": "stream",
     "text": [
      "\r",
      " 74%|███████▍  | 37/50 [00:13<00:04,  2.64it/s]"
     ]
    },
    {
     "name": "stdout",
     "output_type": "stream",
     "text": [
      "ELBO : tensor(-6341.1954, grad_fn=<NegBackward>)\n"
     ]
    },
    {
     "name": "stderr",
     "output_type": "stream",
     "text": [
      "\r",
      " 76%|███████▌  | 38/50 [00:14<00:04,  2.66it/s]"
     ]
    },
    {
     "name": "stdout",
     "output_type": "stream",
     "text": [
      "ELBO : tensor(-6340.9487, grad_fn=<NegBackward>)\n"
     ]
    },
    {
     "name": "stderr",
     "output_type": "stream",
     "text": [
      "\r",
      " 78%|███████▊  | 39/50 [00:14<00:04,  2.68it/s]"
     ]
    },
    {
     "name": "stdout",
     "output_type": "stream",
     "text": [
      "ELBO : tensor(-6340.6982, grad_fn=<NegBackward>)\n"
     ]
    },
    {
     "name": "stderr",
     "output_type": "stream",
     "text": [
      "\r",
      " 80%|████████  | 40/50 [00:14<00:03,  2.70it/s]"
     ]
    },
    {
     "name": "stdout",
     "output_type": "stream",
     "text": [
      "ELBO : tensor(-6340.3946, grad_fn=<NegBackward>)\n"
     ]
    },
    {
     "name": "stderr",
     "output_type": "stream",
     "text": [
      "\r",
      " 82%|████████▏ | 41/50 [00:15<00:03,  2.66it/s]"
     ]
    },
    {
     "name": "stdout",
     "output_type": "stream",
     "text": [
      "ELBO : tensor(-6339.9974, grad_fn=<NegBackward>)\n"
     ]
    },
    {
     "name": "stderr",
     "output_type": "stream",
     "text": [
      "\r",
      " 84%|████████▍ | 42/50 [00:15<00:02,  2.68it/s]"
     ]
    },
    {
     "name": "stdout",
     "output_type": "stream",
     "text": [
      "ELBO : tensor(-6339.7851, grad_fn=<NegBackward>)\n"
     ]
    },
    {
     "name": "stderr",
     "output_type": "stream",
     "text": [
      "\r",
      " 86%|████████▌ | 43/50 [00:16<00:02,  2.70it/s]"
     ]
    },
    {
     "name": "stdout",
     "output_type": "stream",
     "text": [
      "ELBO : tensor(-6339.6327, grad_fn=<NegBackward>)\n"
     ]
    },
    {
     "name": "stderr",
     "output_type": "stream",
     "text": [
      "\r",
      " 88%|████████▊ | 44/50 [00:16<00:02,  2.72it/s]"
     ]
    },
    {
     "name": "stdout",
     "output_type": "stream",
     "text": [
      "ELBO : tensor(-6339.4951, grad_fn=<NegBackward>)\n"
     ]
    },
    {
     "name": "stderr",
     "output_type": "stream",
     "text": [
      "\r",
      " 90%|█████████ | 45/50 [00:16<00:01,  2.74it/s]"
     ]
    },
    {
     "name": "stdout",
     "output_type": "stream",
     "text": [
      "ELBO : tensor(-6339.3678, grad_fn=<NegBackward>)\n"
     ]
    },
    {
     "name": "stderr",
     "output_type": "stream",
     "text": [
      "\r",
      " 92%|█████████▏| 46/50 [00:17<00:01,  2.73it/s]"
     ]
    },
    {
     "name": "stdout",
     "output_type": "stream",
     "text": [
      "ELBO : tensor(-6339.2487, grad_fn=<NegBackward>)\n"
     ]
    },
    {
     "name": "stderr",
     "output_type": "stream",
     "text": [
      "\r",
      " 94%|█████████▍| 47/50 [00:17<00:01,  2.74it/s]"
     ]
    },
    {
     "name": "stdout",
     "output_type": "stream",
     "text": [
      "ELBO : tensor(-6339.1364, grad_fn=<NegBackward>)\n"
     ]
    },
    {
     "name": "stderr",
     "output_type": "stream",
     "text": [
      "\r",
      " 96%|█████████▌| 48/50 [00:17<00:00,  2.74it/s]"
     ]
    },
    {
     "name": "stdout",
     "output_type": "stream",
     "text": [
      "ELBO : tensor(-6339.0298, grad_fn=<NegBackward>)\n"
     ]
    },
    {
     "name": "stderr",
     "output_type": "stream",
     "text": [
      "\r",
      " 98%|█████████▊| 49/50 [00:18<00:00,  2.74it/s]"
     ]
    },
    {
     "name": "stdout",
     "output_type": "stream",
     "text": [
      "ELBO : tensor(-6338.9281, grad_fn=<NegBackward>)\n"
     ]
    },
    {
     "name": "stderr",
     "output_type": "stream",
     "text": [
      "100%|██████████| 50/50 [00:18<00:00,  2.69it/s]"
     ]
    },
    {
     "name": "stdout",
     "output_type": "stream",
     "text": [
      "ELBO : tensor(-6338.8305, grad_fn=<NegBackward>)\n"
     ]
    },
    {
     "name": "stderr",
     "output_type": "stream",
     "text": [
      "\n"
     ]
    }
   ],
   "source": [
    "Y_sampled = torch.tensor(pd.read_csv(\"Y\").values)\n",
    "O = torch.tensor(pd.read_csv(\"O\").values)\n",
    "covariates = torch.tensor(pd.read_csv(\"covariates\").values)\n",
    "true_beta = torch.tensor(pd.read_csv(\"true_beta\").values)\n",
    "true_Sigma = torch.tensor(pd.read_csv(\"true_Sigma\").values)\n",
    "true_B_zero = torch.tensor(pd.read_csv(\"true_B_zero\").values)\n",
    "\n",
    "model_blockwise = ZI_PLN(true_value = False, class_optimizer = torch.optim.Rprop)\n",
    "model_blockwise.fit_blockwise(Y_sampled, O, covariates, tolerance = 0 ,Niter = 50,nb_each_iter= 75, lr = 0.05,  verbose = False)"
   ]
  },
  {
   "cell_type": "code",
   "execution_count": 150,
   "metadata": {},
   "outputs": [],
   "source": [
    "pdy = pd.DataFrame(model_blockwise.S.detach().numpy())\n",
    "#pdy.to_csv('S', header = True, index = False)\n",
    "\n",
    "#new = pd.read_csv('S')\n",
    "#new\n"
   ]
  },
  {
   "cell_type": "code",
   "execution_count": 138,
   "metadata": {},
   "outputs": [
    {
     "data": {
      "text/plain": [
       "tensor([[909,   6,  11,  ...,  14,   0,   0],\n",
       "        [  0,   0,   0,  ...,   0,   1,  15],\n",
       "        [  0,   1,   0,  ...,   0,   2,   0],\n",
       "        ...,\n",
       "        [  0,   3,   5,  ...,   0,   0,   0],\n",
       "        [  0,   0,   0,  ...,   7,   0,   2],\n",
       "        [  0,   0,  10,  ...,   0,   0,   0]])"
      ]
     },
     "execution_count": 138,
     "metadata": {},
     "output_type": "execute_result"
    }
   ],
   "source": [
    "Y_sampled"
   ]
  },
  {
   "cell_type": "code",
   "execution_count": 130,
   "metadata": {},
   "outputs": [
    {
     "data": {
      "text/plain": [
       "<AxesSubplot:>"
      ]
     },
     "execution_count": 130,
     "metadata": {},
     "output_type": "execute_result"
    },
    {
     "data": {
      "image/png": "[encoded data removed]",
      "text/plain": [
       "<Figure size 432x288 with 2 Axes>"
      ]
     },
     "metadata": {},
     "output_type": "display_data"
    }
   ],
   "source": [
    "sns.heatmap(model_blockwise.Sigma)"
   ]
  },
  {
   "cell_type": "code",
   "execution_count": 131,
   "metadata": {},
   "outputs": [
    {
     "data": {
      "text/plain": [
       "<AxesSubplot:>"
      ]
     },
     "execution_count": 131,
     "metadata": {},
     "output_type": "execute_result"
    },
    {
     "data": {
      "image/png": "[encoded data removed]",
      "text/plain": [
       "<Figure size 432x288 with 2 Axes>"
      ]
     },
     "metadata": {},
     "output_type": "display_data"
    }
   ],
   "source": [
    "sns.heatmap(true_Sigma)"
   ]
  },
  {
   "cell_type": "code",
   "execution_count": 132,
   "metadata": {},
   "outputs": [
    {
     "name": "stderr",
     "output_type": "stream",
     "text": [
      "No handles with labels found to put in legend.\n",
      "No handles with labels found to put in legend.\n",
      "No handles with labels found to put in legend.\n"
     ]
    },
    {
     "name": "stdout",
     "output_type": "stream",
     "text": [
      "max  -6159.465858288999\n"
     ]
    },
    {
     "data": {
      "image/png": "[encoded data removed]",
      "text/plain": [
       "<Figure size 1080x1080 with 4 Axes>"
      ]
     },
     "metadata": {},
     "output_type": "display_data"
    }
   ],
   "source": [
    "show(model_blockwise)"
   ]
  },
  {
   "cell_type": "code",
   "execution_count": 119,
   "metadata": {},
   "outputs": [],
   "source": [
    "ZI_cov = covariates@true_B_zero\n",
    "ksi_ = 1/(1+ np.exp(-ZI_cov))"
   ]
  },
  {
   "cell_type": "code",
   "execution_count": 96,
   "metadata": {},
   "outputs": [
    {
     "name": "stderr",
     "output_type": "stream",
     "text": [
      "100%|██████████| 300/300 [00:00<00:00, 804.58it/s]\n"
     ]
    },
    {
     "name": "stdout",
     "output_type": "stream",
     "text": [
      "nb iteration :  299\n",
      "MSE beta : tensor(0.6496)\n",
      " MSE with Sigma :  tensor(1.8242)\n",
      "B_zero tensor([[ 1.6787,  0.7554,  1.0716,  0.2066, -0.4597,  1.0068, -0.1487,  0.1596,\n",
      "          0.9935,  3.0077, -0.1559,  2.0547,  2.1886,  1.1620,  0.5997,  0.7498,\n",
      "          1.4355, -0.1471,  1.0242,  0.2588],\n",
      "        [-0.3418,  0.2446, -1.6227,  1.1836,  1.8435, -0.4737,  0.4865,  0.4263,\n",
      "         -0.9371,  1.8152,  2.0248,  0.7378,  2.2282,  3.5836,  1.0101,  0.1602,\n",
      "          0.7600,  1.5444, -0.0534,  1.2534]], requires_grad=True)\n",
      " MSE with beta :  tensor(0.6496)\n",
      "MSE with B_zero 1.17742\n",
      "MSE beta : tensor(0.4809)\n",
      " MSE with Sigma :  tensor(1.6502)\n",
      "B_zero tensor([[ 1.6042,  0.6810,  0.9972,  0.1322, -0.5341,  0.9324, -0.2232,  0.0852,\n",
      "          0.9191,  2.9333, -0.2303,  1.9803,  2.1142,  1.0876,  0.5253,  0.6754,\n",
      "          1.3611, -0.2215,  0.9498,  0.1844],\n",
      "        [-0.4162,  0.1701, -1.6971,  1.1091,  1.7691, -0.5481,  0.4121,  0.3519,\n",
      "         -1.0116,  1.7408,  1.9504,  0.6634,  2.1538,  3.5092,  0.9356,  0.0858,\n",
      "          0.6856,  1.4700, -0.1278,  1.1790]], requires_grad=True)\n",
      " MSE with beta :  tensor(0.4809)\n",
      "MSE with B_zero 1.06829\n",
      "MSE beta : tensor(0.4116)\n",
      " MSE with Sigma :  tensor(1.4758)\n",
      "B_zero tensor([[ 1.5298,  0.6065,  0.9228,  0.0577, -0.6085,  0.8579, -0.2976,  0.0108,\n",
      "          0.8447,  2.8589, -0.3048,  1.9059,  2.0398,  1.0132,  0.4509,  0.6010,\n",
      "          1.2867, -0.2959,  0.8754,  0.1100],\n",
      "        [-0.4906,  0.0957, -1.7715,  1.0347,  1.6947, -0.6225,  0.3377,  0.2774,\n",
      "         -1.0860,  1.6664,  1.8760,  0.5890,  2.0794,  3.4348,  0.8612,  0.0113,\n",
      "          0.6112,  1.3956, -0.2023,  1.1046]], requires_grad=True)\n",
      " MSE with beta :  tensor(0.4116)\n",
      "MSE with B_zero 0.97023\n",
      "MSE beta : tensor(0.3924)\n",
      " MSE with Sigma :  tensor(1.3254)\n",
      "B_zero tensor([[ 1.4554,  0.5321,  0.8484, -0.0167, -0.6173,  0.7835, -0.3720, -0.0636,\n",
      "          0.7703,  2.8297, -0.2966,  1.9803,  1.9654,  0.9388,  0.3765,  0.5266,\n",
      "          1.2330, -0.3704,  0.8009,  0.0356],\n",
      "        [-0.5651,  0.0213, -1.8460,  0.9603,  1.6203, -0.6969,  0.2633,  0.2238,\n",
      "         -1.1604,  1.6946,  1.8223,  0.5808,  2.0049,  3.3604,  0.7868, -0.0631,\n",
      "          0.6024,  1.3212, -0.2767,  1.0302]], requires_grad=True)\n",
      " MSE with beta :  tensor(0.3925)\n",
      "MSE with B_zero 0.89415\n",
      "MSE beta : tensor(0.4001)\n",
      " MSE with Sigma :  tensor(1.1979)\n",
      "B_zero tensor([[ 1.3810,  0.4784,  0.7739, -0.0911, -0.5429,  0.8187, -0.4464, -0.0718,\n",
      "          0.8139,  2.8215, -0.2221,  2.0547,  1.9362,  0.9228,  0.3473,  0.4522,\n",
      "          1.1586, -0.3622,  0.7473,  0.0438],\n",
      "        [-0.6395, -0.0324, -1.9204,  0.8859,  1.6121, -0.7713,  0.1888,  0.2774,\n",
      "         -1.2348,  1.7106,  1.8515,  0.5726,  1.9757,  3.3614,  0.7124, -0.1375,\n",
      "          0.6768,  1.3137, -0.3304,  0.9866]], requires_grad=True)\n",
      " MSE with beta :  tensor(0.4001)\n",
      "MSE with B_zero 0.86353\n",
      "MSE beta : tensor(0.4138)\n",
      " MSE with Sigma :  tensor(1.0961)\n",
      "B_zero tensor([[ 1.3066,  0.4492,  0.6995, -0.0999, -0.4685,  0.8931, -0.5208, -0.1462,\n",
      "          0.8883,  2.8133, -0.1477,  2.1292,  1.9202,  0.9218,  0.3755,  0.3778,\n",
      "          1.1150, -0.3710,  0.7385,  0.0520],\n",
      "        [-0.5651, -0.0242, -1.9948,  0.8322,  1.5377, -0.8458,  0.1144,  0.3519,\n",
      "         -1.3092,  1.7386,  1.8433,  0.4982,  1.9767,  3.3604,  0.6380, -0.2119,\n",
      "          0.6850,  1.3049, -0.3596,  0.9706]], requires_grad=True)\n",
      " MSE with beta :  tensor(0.4138)\n",
      "MSE with B_zero 0.84585\n",
      "MSE beta : tensor(0.4341)\n",
      " MSE with Sigma :  tensor(1.0168)\n",
      "B_zero tensor([[ 1.2322,  0.4056,  0.6251, -0.0917, -0.3941,  0.9013, -0.5952, -0.1754,\n",
      "          0.9420,  2.7596, -0.0733,  2.1452,  1.9192,  0.9208,  0.3837,  0.3033,\n",
      "          1.0714, -0.3870,  0.7225,  0.0872],\n",
      "        [-0.4906, -0.0330, -2.0692,  0.8030,  1.4633, -0.8894,  0.0400,  0.3811,\n",
      "         -1.3836,  1.7822,  1.7896,  0.4857,  1.9757,  3.3679,  0.6088, -0.2863,\n",
      "          0.6932,  1.2889, -0.3756,  0.9270]], requires_grad=True)\n",
      " MSE with beta :  tensor(0.4341)\n",
      "MSE with B_zero 0.82483\n",
      "MSE beta : tensor(0.4561)\n",
      " MSE with Sigma :  tensor(0.9579)\n",
      "B_zero tensor([[ 1.1577e+00,  3.7644e-01,  5.5069e-01, -1.0049e-01, -3.5048e-01,\n",
      "          9.0955e-01, -6.6966e-01, -1.8292e-01,  9.5018e-01,  2.7671e+00,\n",
      "          1.1009e-03,  2.1462e+00,  1.9182e+00,  9.1975e-01,  3.7490e-01,\n",
      "          2.2892e-01,  1.0422e+00, -4.0295e-01,  7.0647e-01,  1.0316e-01],\n",
      "        [-4.1623e-01, -4.1766e-02, -2.1436e+00,  7.8701e-01,  1.3888e+00,\n",
      "         -9.1857e-01, -3.4407e-02,  3.8206e-01, -1.4128e+00,  1.7897e+00,\n",
      "          1.7460e+00,  4.8668e-01,  1.9747e+00,  3.3754e+00,  5.9277e-01,\n",
      "         -3.6073e-01,  7.0137e-01,  1.2729e+00, -3.9155e-01,  9.0597e-01]],\n",
      "       requires_grad=True)\n",
      " MSE with beta :  tensor(0.4561)\n",
      "MSE with B_zero 0.8033\n",
      "MSE beta : tensor(0.4808)\n",
      " MSE with Sigma :  tensor(0.9201)\n",
      "B_zero tensor([[ 1.0833,  0.3472,  0.4763, -0.1093, -0.3153,  0.9177, -0.7441, -0.2121,\n",
      "          0.9342,  2.7661,  0.0548,  2.1387,  1.9257,  0.9188,  0.3661,  0.1752,\n",
      "          0.9885, -0.4322,  0.6905,  0.1107],\n",
      "        [-0.3418, -0.0506, -2.2180,  0.7710,  1.3144, -0.9722, -0.0881,  0.3903,\n",
      "         -1.4288,  1.7972,  1.6716,  0.4792,  1.9672,  3.3829,  0.5768, -0.4144,\n",
      "          0.7096,  1.2641, -0.4076,  0.9050]], requires_grad=True)\n",
      " MSE with beta :  tensor(0.4808)\n",
      "MSE with B_zero 0.78627\n",
      "MSE beta : tensor(0.5016)\n",
      " MSE with Sigma :  tensor(0.8876)\n",
      "B_zero tensor([[ 1.0296,  0.3312,  0.4019, -0.1181, -0.2616,  0.9259, -0.8185, -0.2281,\n",
      "          0.9050,  2.7651,  0.0708,  2.1397,  1.9267,  0.9013,  0.3573,  0.1460,\n",
      "          0.9593, -0.4482,  0.6817,  0.1117],\n",
      "        [-0.2674, -0.0666, -2.2925,  0.7550,  1.2400, -1.0014, -0.1173,  0.3815,\n",
      "         -1.4376,  1.7962,  1.6634,  0.4717,  1.9682,  3.4109,  0.5476, -0.4436,\n",
      "          0.7178,  1.2553, -0.4164,  0.9060]], requires_grad=True)\n",
      " MSE with beta :  tensor(0.5016)\n",
      "MSE with B_zero 0.77246\n",
      "MSE beta : tensor(0.5225)\n",
      " MSE with Sigma :  tensor(0.8662)\n",
      "B_zero tensor([[ 1.0136,  0.3032,  0.3274, -0.1269, -0.2264,  0.9341, -0.8929, -0.2717,\n",
      "          0.8513,  2.7441,  0.0988,  2.1479,  1.9277,  0.9023,  0.3413,  0.1168,\n",
      "          0.9301, -0.4642,  0.6657,  0.1127],\n",
      "        [-0.2464, -0.0584, -2.3669,  0.7462,  1.1863, -1.0306, -0.1261,  0.3727,\n",
      "         -1.4464,  1.8122,  1.6552,  0.4557,  1.9607,  3.4119,  0.5316, -0.4728,\n",
      "          0.7260,  1.2465, -0.4252,  0.8985]], requires_grad=True)\n",
      " MSE with beta :  tensor(0.5225)\n",
      "MSE with B_zero 0.76249\n",
      "MSE beta : tensor(0.5418)\n",
      " MSE with Sigma :  tensor(0.8474)\n",
      "B_zero tensor([[ 1.0126,  0.2944,  0.2530, -0.1429, -0.2182,  0.9423, -0.9673, -0.3009,\n",
      "          0.8077,  2.7516,  0.1525,  2.1561,  1.9267,  0.9033,  0.3325,  0.0876,\n",
      "          0.9009, -0.4802,  0.6497,  0.1137],\n",
      "        [-0.2474, -0.0672, -2.4413,  0.7374,  1.1788, -1.0598, -0.1349,  0.3639,\n",
      "         -1.4552,  1.8197,  1.6015,  0.4397,  1.9597,  3.4129,  0.5156, -0.5020,\n",
      "          0.7342,  1.2377, -0.4340,  0.8910]], requires_grad=True)\n",
      " MSE with beta :  tensor(0.5418)\n",
      "MSE with B_zero 0.75673\n",
      "MSE beta : tensor(0.5553)\n",
      " MSE with Sigma :  tensor(0.8367)\n",
      "B_zero tensor([[ 1.0044,  0.2856,  0.1786, -0.1721, -0.2172,  0.9505, -1.0417, -0.3546,\n",
      "          0.7540,  2.7434,  0.1817,  2.1486,  1.9427,  0.9043,  0.3237,  0.0584,\n",
      "          0.8717, -0.4962,  0.6337,  0.1062],\n",
      "        [-0.2314, -0.0760, -2.5157,  0.7456,  1.1628, -1.0890, -0.1437,  0.3721,\n",
      "         -1.4470,  1.8357,  1.5663,  0.4322,  1.9587,  3.4139,  0.5068, -0.5312,\n",
      "          0.7424,  1.2289, -0.4330,  0.8835]], requires_grad=True)\n",
      " MSE with beta :  tensor(0.5553)\n",
      "MSE with B_zero 0.75211\n",
      "MSE beta : tensor(0.5694)\n",
      " MSE with Sigma :  tensor(0.8285)\n",
      "B_zero tensor([[ 1.0132,  0.2866,  0.1249, -0.2013, -0.2090,  0.9587, -1.1162, -0.3838,\n",
      "          0.7104,  2.7509,  0.1807,  2.1411,  1.9637,  0.9033,  0.3077,  0.0424,\n",
      "          0.8365, -0.5398,  0.6177,  0.0987],\n",
      "        [-0.2226, -0.0920, -2.5901,  0.7538,  1.1468, -1.1242, -0.1355,  0.3803,\n",
      "         -1.4388,  1.8432,  1.5653,  0.4247,  1.9427,  3.4129,  0.4908, -0.5472,\n",
      "          0.7506,  1.2371, -0.4320,  0.8760]], requires_grad=True)\n",
      " MSE with beta :  tensor(0.5694)\n",
      "MSE with B_zero 0.74929\n",
      "MSE beta : tensor(0.5821)\n",
      " MSE with Sigma :  tensor(0.8229)\n",
      "B_zero tensor([[ 1.0122,  0.2791,  0.0957, -0.2365, -0.2080,  0.9597, -1.1698, -0.3998,\n",
      "          0.6360,  2.7349,  0.1882,  2.1493,  1.9562,  0.8908,  0.2989,  0.0336,\n",
      "          0.8205, -0.5558,  0.6017,  0.0912],\n",
      "        [-0.2066, -0.0995, -2.6645,  0.7620,  1.1308, -1.1317, -0.1273,  0.3715,\n",
      "         -1.3952,  1.8642,  1.5571,  0.4172,  1.9352,  3.4217,  0.4820, -0.5764,\n",
      "          0.7588,  1.2453, -0.4238,  0.8685]], requires_grad=True)\n",
      " MSE with beta :  tensor(0.5821)\n",
      "MSE with B_zero 0.74786\n",
      "MSE beta : tensor(0.5907)\n"
     ]
    },
    {
     "name": "stdout",
     "output_type": "stream",
     "text": [
      " MSE with Sigma :  tensor(0.8208)\n",
      "B_zero tensor([[ 1.0197,  0.2801,  0.0869, -0.2902, -0.2070,  0.9607, -1.2235, -0.4290,\n",
      "          0.5823,  2.7359,  0.1957,  2.1575,  1.9572,  0.8918,  0.2901,  0.0176,\n",
      "          0.8045, -0.5838,  0.5857,  0.0922],\n",
      "        [-0.1991, -0.1070, -2.7390,  0.7972,  1.1148, -1.1392, -0.0991,  0.3797,\n",
      "         -1.3670,  1.8652,  1.5489,  0.4012,  1.9362,  3.4242,  0.4732, -0.5924,\n",
      "          0.7670,  1.2535, -0.4228,  0.8695]], requires_grad=True)\n",
      " MSE with beta :  tensor(0.5907)\n",
      "MSE with B_zero 0.74946\n",
      "MSE beta : tensor(0.5981)\n",
      " MSE with Sigma :  tensor(0.8184)\n",
      "B_zero tensor([[ 1.0272,  0.2726,  0.0951, -0.3338, -0.2145,  0.9532, -1.2527, -0.4450,\n",
      "          0.5531,  2.7284,  0.2032,  2.1657,  1.9562,  0.8928,  0.2813,  0.0088,\n",
      "          0.7885, -0.5998,  0.5697,  0.0847],\n",
      "        [-0.2001, -0.1145, -2.8134,  0.8254,  1.1073, -1.1467, -0.0909,  0.3709,\n",
      "         -1.3588,  1.8662,  1.5479,  0.3852,  1.9352,  3.4252,  0.4644, -0.6012,\n",
      "          0.7752,  1.2545, -0.4146,  0.8620]], requires_grad=True)\n",
      " MSE with beta :  tensor(0.5981)\n",
      "MSE with B_zero 0.75184\n",
      "MSE beta : tensor(0.6070)\n",
      " MSE with Sigma :  tensor(0.8180)\n",
      "B_zero tensor([[ 1.0347e+00,  2.8084e-01,  1.3033e-01, -3.6297e-01, -2.1350e-01,\n",
      "          9.5425e-01, -1.2687e+00, -4.7420e-01,  4.9945e-01,  2.7274e+00,\n",
      "          2.1916e-01,  2.1667e+00,  1.9637e+00,  8.9375e-01,  2.7250e-01,\n",
      "          3.9635e-05,  7.7248e-01, -6.1575e-01,  5.6217e-01,  7.7162e-02],\n",
      "        [-1.9259e-01, -1.2197e-01, -2.8878e+00,  8.5361e-01,  1.0998e+00,\n",
      "         -1.1457e+00, -8.2687e-02,  3.7906e-01, -1.3506e+00,  1.8652e+00,\n",
      "          1.5269e+00,  3.7768e-01,  1.9427e+00,  3.4177e+00,  4.5557e-01,\n",
      "         -6.1721e-01,  7.7617e-01,  1.2555e+00, -4.2205e-01,  8.5447e-01]],\n",
      "       requires_grad=True)\n",
      " MSE with beta :  tensor(0.6070)\n",
      "MSE with B_zero 0.75368\n",
      "MSE beta : tensor(0.6138)\n",
      " MSE with Sigma :  tensor(0.8192)\n",
      "B_zero tensor([[ 1.0422,  0.2818,  0.1655, -0.3790, -0.2125,  0.9467, -1.2847, -0.4902,\n",
      "          0.4458,  2.7264,  0.2182,  2.1677,  1.9627,  0.8863,  0.2735, -0.0088,\n",
      "          0.7650, -0.6318,  0.5547,  0.0684],\n",
      "        [-0.1936, -0.1295, -2.9622,  0.8618,  1.0923, -1.1447, -0.0745,  0.3801,\n",
      "         -1.3224,  1.8727,  1.5259,  0.3702,  1.9417,  3.4187,  0.4396, -0.6332,\n",
      "          0.7687,  1.2565, -0.4211,  0.8457]], requires_grad=True)\n",
      " MSE with beta :  tensor(0.6138)\n",
      "MSE with B_zero 0.75605\n",
      "MSE beta : tensor(0.6207)\n",
      " MSE with Sigma :  tensor(0.8207)\n",
      "B_zero tensor([[ 1.0497,  0.2900,  0.2007, -0.4070, -0.2200,  0.9392, -1.3007, -0.5062,\n",
      "          0.4166,  2.7254,  0.2172,  2.1687,  1.9617,  0.8775,  0.2745, -0.0176,\n",
      "          0.7575, -0.6393,  0.5472,  0.0524],\n",
      "        [-0.1861, -0.1370, -3.0366,  0.8700,  1.0848, -1.1365, -0.0663,  0.3883,\n",
      "         -1.3142,  1.8717,  1.5249,  0.3627,  1.9407,  3.4099,  0.4236, -0.6492,\n",
      "          0.7697,  1.2490, -0.4201,  0.8297]], requires_grad=True)\n",
      " MSE with beta :  tensor(0.6207)\n",
      "MSE with B_zero 0.7574\n",
      "MSE beta : tensor(0.6258)\n",
      " MSE with Sigma :  tensor(0.8207)\n",
      "B_zero tensor([[ 1.0572,  0.2982,  0.2443, -0.4607, -0.2190,  0.9402, -1.3167, -0.5222,\n",
      "          0.3629,  2.7172,  0.2162,  2.1697,  1.9627,  0.8615,  0.2670, -0.0094,\n",
      "          0.7500, -0.6468,  0.5397,  0.0364],\n",
      "        [-0.1871, -0.1445, -3.1110,  0.9136,  1.0858, -1.1355, -0.0653,  0.3893,\n",
      "         -1.2860,  1.8792,  1.5239,  0.3552,  1.9417,  3.4109,  0.4161, -0.6844,\n",
      "          0.7707,  1.2415, -0.4191,  0.8209]], requires_grad=True)\n",
      " MSE with beta :  tensor(0.6258)\n",
      "MSE with B_zero 0.76216\n",
      "MSE beta : tensor(0.6323)\n",
      " MSE with Sigma :  tensor(0.8214)\n",
      "B_zero tensor([[ 1.0647e+00,  2.9924e-01,  2.7953e-01, -4.8985e-01, -2.1800e-01,\n",
      "          9.1105e-01, -1.3242e+00, -5.3820e-01,  3.0921e-01,  2.7162e+00,\n",
      "          2.2366e-01,  2.1779e+00,  1.9552e+00,  8.5265e-01,  2.5950e-01,\n",
      "         -1.1604e-03,  7.4248e-01, -6.4575e-01,  5.3217e-01,  2.7562e-02],\n",
      "        [-1.8809e-01, -1.5197e-01, -3.1854e+00,  9.4881e-01,  1.0868e+00,\n",
      "         -1.1003e+00, -6.4287e-02,  3.9026e-01, -1.2508e+00,  1.8782e+00,\n",
      "          1.5314e+00,  3.4768e-01,  1.9342e+00,  3.4021e+00,  4.0857e-01,\n",
      "         -7.0041e-01,  7.7167e-01,  1.2425e+00, -4.1805e-01,  8.1207e-01]],\n",
      "       requires_grad=True)\n",
      " MSE with beta :  tensor(0.6323)\n",
      "MSE with B_zero 0.76242\n",
      "MSE beta : tensor(0.6364)\n",
      " MSE with Sigma :  tensor(0.8213)\n",
      "B_zero tensor([[ 1.0722,  0.3202,  0.3231, -0.5059, -0.2255,  0.9035, -1.3232, -0.5542,\n",
      "          0.2932,  2.7237,  0.2227,  2.1789,  1.9464,  0.8452,  0.2605,  0.0070,\n",
      "          0.7350, -0.6618,  0.4970,  0.0188],\n",
      "        [-0.1891, -0.1680, -3.2599,  0.9570,  1.0793, -1.0921, -0.0633,  0.3913,\n",
      "         -1.2426,  1.8857,  1.5304,  0.3402,  1.9254,  3.3946,  0.4096, -0.7164,\n",
      "          0.7727,  1.2435, -0.3899,  0.8033]], requires_grad=True)\n",
      " MSE with beta :  tensor(0.6364)\n",
      "MSE with B_zero 0.76551\n",
      "MSE beta : tensor(0.6412)\n",
      " MSE with Sigma :  tensor(0.8223)\n",
      "B_zero tensor([[ 1.0797,  0.3212,  0.3667, -0.5595, -0.2245,  0.8743, -1.3307, -0.5617,\n",
      "          0.2772,  2.7227,  0.2217,  2.1799,  1.9389,  0.8377,  0.2615,  0.0422,\n",
      "          0.7360, -0.6693,  0.4810,  0.0100],\n",
      "        [-0.1816, -0.1670, -3.3343,  1.0006,  1.0803, -1.0569, -0.0708,  0.3838,\n",
      "         -1.2344,  1.8847,  1.5294,  0.3327,  1.9264,  3.3871,  0.4021, -0.7456,\n",
      "          0.7737,  1.2360, -0.3689,  0.7945]], requires_grad=True)\n",
      " MSE with beta :  tensor(0.6412)\n",
      "MSE with B_zero 0.7696\n",
      "MSE beta : tensor(0.6481)\n",
      " MSE with Sigma :  tensor(0.8220)\n",
      "B_zero tensor([[ 1.0872e+00,  3.2224e-01,  4.1033e-01, -5.9473e-01, -2.3200e-01,\n",
      "          8.7535e-01, -1.3297e+00, -5.6920e-01,  2.3361e-01,  2.7217e+00,\n",
      "          2.2066e-01,  2.2009e+00,  1.9314e+00,  8.3015e-01,  2.8250e-01,\n",
      "          7.0440e-02,  7.2848e-01, -6.9025e-01,  4.8197e-01,  1.1625e-03],\n",
      "        [-1.8259e-01, -1.6597e-01, -3.3880e+00,  1.0298e+00,  1.0813e+00,\n",
      "         -1.0544e+00, -6.9787e-02,  3.7626e-01, -1.2262e+00,  1.8837e+00,\n",
      "          1.5284e+00,  3.1668e-01,  1.9274e+00,  3.3796e+00,  3.8607e-01,\n",
      "         -7.8081e-01,  7.7467e-01,  1.2520e+00, -3.6785e-01,  7.8567e-01]],\n",
      "       requires_grad=True)\n",
      " MSE with beta :  tensor(0.6481)\n",
      "MSE with B_zero 0.77865\n",
      "MSE beta : tensor(0.6531)\n",
      " MSE with Sigma :  tensor(0.8228)\n",
      "B_zero tensor([[ 1.0947,  0.3247,  0.4178, -0.5957, -0.2310,  0.8743, -1.3287, -0.5767,\n",
      "          0.1984,  2.7207,  0.2282,  2.2019,  1.9154,  0.8312,  0.2815,  0.0914,\n",
      "          0.7125, -0.6828,  0.4810, -0.0076],\n",
      "        [-0.1836, -0.1650, -3.3890,  1.0373,  1.0823, -1.0554, -0.0688,  0.3688,\n",
      "         -1.2180,  1.8912,  1.5274,  0.3177,  1.9284,  3.3806,  0.3851, -0.7968,\n",
      "          0.7835,  1.2595, -0.3604,  0.7769]], requires_grad=True)\n",
      " MSE with beta :  tensor(0.6532)\n",
      "MSE with B_zero 0.77859\n",
      "MSE beta : tensor(0.6561)\n",
      " MSE with Sigma :  tensor(0.8254)\n",
      "B_zero tensor([[ 1.1022,  0.3237,  0.4253, -0.6239, -0.2385,  0.8733, -1.3277, -0.5842,\n",
      "          0.1447,  2.6997,  0.2272,  2.2029,  1.8994,  0.8237,  0.2805,  0.0924,\n",
      "          0.7115, -0.6838,  0.4800, -0.0164],\n",
      "        [-0.1846, -0.1660, -3.3900,  1.0653,  1.0833, -1.0479, -0.0678,  0.3613,\n",
      "         -1.1828,  1.9072,  1.5264,  0.3102,  1.9294,  3.3731,  0.3841, -0.8043,\n",
      "          0.7910,  1.2585, -0.3529,  0.7681]], requires_grad=True)\n",
      " MSE with beta :  tensor(0.6561)\n",
      "MSE with B_zero 0.77737\n",
      "MSE beta : tensor(0.6604)\n",
      " MSE with Sigma :  tensor(0.8270)\n",
      "B_zero tensor([[ 1.1097,  0.3312,  0.4328, -0.6449, -0.2375,  0.8723, -1.3267, -0.5917,\n",
      "          0.1372,  2.7072,  0.2262,  2.2039,  1.8906,  0.8247,  0.2795,  0.1006,\n",
      "          0.7105, -0.6848,  0.4790, -0.0252],\n",
      "        [-0.1771, -0.1585, -3.3910,  1.0813,  1.0843, -1.0404, -0.0668,  0.3623,\n",
      "         -1.1746,  1.9062,  1.5254,  0.3112,  1.9206,  3.3741,  0.3831, -0.8203,\n",
      "          0.7985,  1.2575, -0.3454,  0.7593]], requires_grad=True)\n",
      " MSE with beta :  tensor(0.6604)\n",
      "MSE with B_zero 0.77749\n",
      "MSE beta : tensor(0.6651)\n",
      " MSE with Sigma :  tensor(0.8288)\n",
      "B_zero tensor([[ 1.1172,  0.3387,  0.4403, -0.6531, -0.2450,  0.8713, -1.3257, -0.5992,\n",
      "          0.1092,  2.7062,  0.2252,  2.2049,  1.8831,  0.8172,  0.3005,  0.1088,\n",
      "          0.7095, -0.6858,  0.4780, -0.0340],\n",
      "        [-0.1781, -0.1510, -3.3992,  1.0888,  1.0925, -1.0329, -0.0658,  0.3633,\n",
      "         -1.1664,  1.9052,  1.5329,  0.3037,  1.9131,  3.3666,  0.3671, -0.8363,\n",
      "          0.7975,  1.2565, -0.3464,  0.7505]], requires_grad=True)\n",
      " MSE with beta :  tensor(0.6651)\n",
      "MSE with B_zero 0.77873\n",
      "MSE beta : tensor(0.6720)\n",
      " MSE with Sigma :  tensor(0.8290)\n",
      "B_zero tensor([[ 1.1247,  0.3462,  0.4478, -0.6541, -0.2742,  0.8703, -1.3282, -0.6067,\n",
      "          0.0800,  2.7137,  0.2242,  2.2059,  1.8841,  0.8097,  0.3015,  0.1170,\n",
      "          0.7085, -0.6868,  0.4770, -0.0500],\n",
      "        [-0.1706, -0.1520, -3.4002,  1.0963,  1.1277, -1.0254, -0.0668,  0.3643,\n",
      "         -1.1382,  1.9042,  1.5319,  0.2962,  1.9141,  3.3591,  0.3681, -0.8523,\n",
      "          0.7965,  1.2555, -0.3389,  0.7515]], requires_grad=True)\n",
      " MSE with beta :  tensor(0.6720)\n",
      "MSE with B_zero 0.78264\n",
      "MSE beta : tensor(0.6765)\n",
      " MSE with Sigma :  tensor(0.8305)\n",
      "B_zero tensor([[ 1.1322,  0.3537,  0.4553, -0.6893, -0.2732,  0.8693, -1.3292, -0.6142,\n",
      "          0.0640,  2.7127,  0.2232,  2.2069,  1.8766,  0.8107,  0.3025,  0.1252,\n",
      "          0.7075, -0.7078,  0.4760, -0.0575],\n",
      "        [-0.1716, -0.1530, -3.4012,  1.1399,  1.1287, -1.0179, -0.0678,  0.3725,\n",
      "         -1.1300,  1.9032,  1.5394,  0.2972,  1.9066,  3.3601,  0.3671, -0.8803,\n",
      "          0.7955,  1.2715, -0.3399,  0.7525]], requires_grad=True)\n",
      " MSE with beta :  tensor(0.6765)\n",
      "MSE with B_zero 0.78465\n",
      "MSE beta : tensor(0.6822)\n",
      " MSE with Sigma :  tensor(0.8312)\n",
      "B_zero tensor([[ 1.1397,  0.3612,  0.4628, -0.7185, -0.2892,  0.8683, -1.3302, -0.6302,\n",
      "          0.0204,  2.7117,  0.2222,  2.2079,  1.8606,  0.8032,  0.3035,  0.1534,\n",
      "          0.7065, -0.7088,  0.4750, -0.0650],\n",
      "        [-0.1641, -0.1540, -3.4022,  1.1691,  1.1497, -1.0104, -0.0603,  0.3935,\n",
      "         -1.0948,  1.9022,  1.5469,  0.2897,  1.9076,  3.3526,  0.3696, -0.9239,\n",
      "          0.8030,  1.2790, -0.3239,  0.7607]], requires_grad=True)\n",
      " MSE with beta :  tensor(0.6822)\n",
      "MSE with B_zero 0.78959\n",
      "MSE beta : tensor(0.6903)\n"
     ]
    },
    {
     "name": "stdout",
     "output_type": "stream",
     "text": [
      " MSE with Sigma :  tensor(0.8319)\n",
      "B_zero tensor([[ 1.1472,  0.3687,  0.4618, -0.7395, -0.2882,  0.8673, -1.3227, -0.6292,\n",
      "         -0.0088,  2.7192,  0.2140,  2.2289,  1.8531,  0.8042,  0.3045,  0.1816,\n",
      "          0.7055, -0.7163,  0.4825, -0.0640],\n",
      "        [-0.1651, -0.1550, -3.4032,  1.1851,  1.1507, -1.0029, -0.0528,  0.3945,\n",
      "         -1.0596,  1.9097,  1.5544,  0.2737,  1.9001,  3.3536,  0.3706, -0.9675,\n",
      "          0.8020,  1.2865, -0.3164,  0.7617]], requires_grad=True)\n",
      " MSE with beta :  tensor(0.6903)\n",
      "MSE with B_zero 0.7935\n",
      "MSE beta : tensor(0.6944)\n",
      " MSE with Sigma :  tensor(0.8352)\n",
      "B_zero tensor([[ 1.1547,  0.3762,  0.4608, -0.7605, -0.2872,  0.8663, -1.3237, -0.6282,\n",
      "         -0.0163,  2.7182,  0.2130,  2.2299,  1.8541,  0.7967,  0.3055,  0.2098,\n",
      "          0.7045, -0.7153,  0.4815, -0.0715],\n",
      "        [-0.1576, -0.1560, -3.4042,  1.2011,  1.1517, -0.9954, -0.0538,  0.3955,\n",
      "         -1.0586,  1.9087,  1.5619,  0.2747,  1.9011,  3.3461,  0.3631, -1.0111,\n",
      "          0.8095,  1.2875, -0.3174,  0.7627]], requires_grad=True)\n",
      " MSE with beta :  tensor(0.6944)\n",
      "MSE with B_zero 0.79536\n",
      "MSE beta : tensor(0.7002)\n",
      " MSE with Sigma :  tensor(0.8378)\n",
      "B_zero tensor([[ 1.1707,  0.3837,  0.4683, -0.7615, -0.2960,  0.8581, -1.3247, -0.6272,\n",
      "         -0.0323,  2.7257,  0.2120,  2.2309,  1.8466,  0.7977,  0.3065,  0.2380,\n",
      "          0.7035, -0.6943,  0.4805, -0.0790],\n",
      "        [-0.1658, -0.1570, -3.4124,  1.2001,  1.1605, -0.9879, -0.0548,  0.3965,\n",
      "         -1.0376,  1.9162,  1.5694,  0.2757,  1.9021,  3.3471,  0.3556, -1.0547,\n",
      "          0.8085,  1.2715, -0.3184,  0.7552]], requires_grad=True)\n",
      " MSE with beta :  tensor(0.7002)\n",
      "MSE with B_zero 0.79746\n",
      "MSE beta : tensor(0.7057)\n",
      " MSE with Sigma :  tensor(0.8401)\n",
      "B_zero tensor([[ 1.1867,  0.3912,  0.4758, -0.7697, -0.2970,  0.8499, -1.3257, -0.6347,\n",
      "         -0.0398,  2.7267,  0.1910,  2.2319,  1.8306,  0.7902,  0.3275,  0.2462,\n",
      "          0.7025, -0.6933,  0.4880, -0.0780],\n",
      "        [-0.1668, -0.1580, -3.4134,  1.2076,  1.1595, -0.9804, -0.0558,  0.3890,\n",
      "         -1.0366,  1.9172,  1.5854,  0.2682,  1.9031,  3.3396,  0.3396, -1.0707,\n",
      "          0.8075,  1.2725, -0.3109,  0.7562]], requires_grad=True)\n",
      " MSE with beta :  tensor(0.7057)\n",
      "MSE with B_zero 0.79712\n",
      "MSE beta : tensor(0.7076)\n",
      " MSE with Sigma :  tensor(0.8433)\n",
      "B_zero tensor([[ 1.1942,  0.3987,  0.4833, -0.7907, -0.2980,  0.8489, -1.3267, -0.6337,\n",
      "         -0.0473,  2.7277,  0.1985,  2.2344,  1.8231,  0.7912,  0.3285,  0.2544,\n",
      "          0.7015, -0.6923,  0.4870, -0.0770],\n",
      "        [-0.1593, -0.1590, -3.4144,  1.2236,  1.1585, -0.9729, -0.0568,  0.3900,\n",
      "         -1.0284,  1.9182,  1.5929,  0.2692,  1.9041,  3.3321,  0.3406, -1.0987,\n",
      "          0.8065,  1.2735, -0.3119,  0.7572]], requires_grad=True)\n",
      " MSE with beta :  tensor(0.7076)\n",
      "MSE with B_zero 0.79842\n",
      "MSE beta : tensor(0.7098)\n",
      " MSE with Sigma :  tensor(0.8457)\n",
      "B_zero tensor([[ 1.2017,  0.3977,  0.5043, -0.7917, -0.2990,  0.8407, -1.3277, -0.6327,\n",
      "         -0.0548,  2.7202,  0.1910,  2.2334,  1.8156,  0.7922,  0.3295,  0.2626,\n",
      "          0.7005, -0.6913,  0.4860, -0.0760],\n",
      "        [-0.1603, -0.1600, -3.4304,  1.2226,  1.1575, -0.9654, -0.0493,  0.3910,\n",
      "         -1.0274,  1.9192,  1.6004,  0.2702,  1.8966,  3.3246,  0.3416, -1.1147,\n",
      "          0.8055,  1.2745, -0.3129,  0.7582]], requires_grad=True)\n",
      " MSE with beta :  tensor(0.7098)\n",
      "MSE with B_zero 0.80033\n",
      "MSE beta : tensor(0.7157)\n",
      " MSE with Sigma :  tensor(0.8483)\n",
      "B_zero tensor([[ 1.2092,  0.4052,  0.4968, -0.8077, -0.3072,  0.8115, -1.3287, -0.6317,\n",
      "         -0.0623,  2.7042,  0.1900,  2.2324,  1.8081,  0.7932,  0.3305,  0.2708,\n",
      "          0.6995, -0.6988,  0.4850, -0.0750],\n",
      "        [-0.1613, -0.1525, -3.4294,  1.2436,  1.1650, -0.9362, -0.0503,  0.3920,\n",
      "         -1.0192,  1.9202,  1.5994,  0.2692,  1.8976,  3.3171,  0.3426, -1.1439,\n",
      "          0.8130,  1.2755, -0.3139,  0.7592]], requires_grad=True)\n",
      " MSE with beta :  tensor(0.7157)\n",
      "MSE with B_zero 0.79961\n",
      "MSE beta : tensor(0.7213)\n",
      " MSE with Sigma :  tensor(0.8518)\n",
      "B_zero tensor([[ 1.2082,  0.4212,  0.4893, -0.8152, -0.3160,  0.7955, -1.3297, -0.6307,\n",
      "         -0.0698,  2.6967,  0.1890,  2.2399,  1.7921,  0.7942,  0.3315,  0.2790,\n",
      "          0.6985, -0.7148,  0.4840, -0.0825],\n",
      "        [-0.1623, -0.1735, -3.4369,  1.2361,  1.1810, -0.9152, -0.0513,  0.3930,\n",
      "         -1.0182,  1.9212,  1.6069,  0.2767,  1.8986,  3.3096,  0.3436, -1.1731,\n",
      "          0.8120,  1.2965, -0.3149,  0.7517]], requires_grad=True)\n",
      " MSE with beta :  tensor(0.7213)\n",
      "MSE with B_zero 0.79775\n",
      "MSE beta : tensor(0.7260)\n",
      " MSE with Sigma :  tensor(0.8569)\n",
      "B_zero tensor([[ 1.2157,  0.4002,  0.4818, -0.8312, -0.3235,  0.7965, -1.3307, -0.6382,\n",
      "         -0.0688,  2.6807,  0.1880,  2.2389,  1.7846,  0.7867,  0.3240,  0.2872,\n",
      "          0.6975, -0.7223,  0.4830, -0.0815],\n",
      "        [-0.1633, -0.1575, -3.4359,  1.2443,  1.1820, -0.9142, -0.0523,  0.4012,\n",
      "         -1.0172,  1.9337,  1.6144,  0.2757,  1.8911,  3.3021,  0.3361, -1.2023,\n",
      "          0.8110,  1.2975, -0.3159,  0.7442]], requires_grad=True)\n",
      " MSE with beta :  tensor(0.7260)\n",
      "MSE with B_zero 0.80031\n",
      "MSE beta : tensor(0.7307)\n",
      " MSE with Sigma :  tensor(0.8609)\n",
      "B_zero tensor([[ 1.2232,  0.4027,  0.4658, -0.8472, -0.3225,  0.7975, -1.3297, -0.6457,\n",
      "         -0.0763,  2.6817,  0.1798,  2.2379,  1.7771,  0.7877,  0.3250,  0.2954,\n",
      "          0.6965, -0.7298,  0.4840, -0.0805],\n",
      "        [-0.1643, -0.1565, -3.4349,  1.2453,  1.1830, -0.9132, -0.0513,  0.4022,\n",
      "         -1.0162,  1.9347,  1.6219,  0.2747,  1.8921,  3.3031,  0.3286, -1.2315,\n",
      "          0.8100,  1.2985, -0.3149,  0.7452]], requires_grad=True)\n",
      " MSE with beta :  tensor(0.7307)\n",
      "MSE with B_zero 0.80072\n",
      "MSE beta : tensor(0.7370)\n",
      " MSE with Sigma :  tensor(0.8640)\n",
      "B_zero tensor([[ 1.2307,  0.4037,  0.4583, -0.8547, -0.3300,  0.7900, -1.3372, -0.6532,\n",
      "         -0.0923,  2.6827,  0.1788,  2.2454,  1.7696,  0.7802,  0.3175,  0.3036,\n",
      "          0.6955, -0.7458,  0.4850, -0.0880],\n",
      "        [-0.1653, -0.1555, -3.4424,  1.2463,  1.1755, -0.9122, -0.0503,  0.3947,\n",
      "         -0.9952,  1.9357,  1.6294,  0.2822,  1.8846,  3.2956,  0.3211, -1.2667,\n",
      "          0.8090,  1.2995, -0.3139,  0.7377]], requires_grad=True)\n",
      " MSE with beta :  tensor(0.7370)\n",
      "MSE with B_zero 0.80074\n",
      "MSE beta : tensor(0.7424)\n",
      " MSE with Sigma :  tensor(0.8672)\n",
      "B_zero tensor([[ 1.2297,  0.3962,  0.4508, -0.8622, -0.3375,  0.7608, -1.3362, -0.6607,\n",
      "         -0.0998,  2.6837,  0.1706,  2.2444,  1.7621,  0.7812,  0.3185,  0.3118,\n",
      "          0.6945, -0.7546,  0.4860, -0.0955],\n",
      "        [-0.1663, -0.1630, -3.4414,  1.2388,  1.1765, -0.8770, -0.0578,  0.3957,\n",
      "         -0.9942,  1.9367,  1.6369,  0.2832,  1.8928,  3.2966,  0.3136, -1.2827,\n",
      "          0.8080,  1.2907, -0.3129,  0.7302]], requires_grad=True)\n",
      " MSE with beta :  tensor(0.7424)\n",
      "MSE with B_zero 0.79725\n",
      "MSE beta : tensor(0.7507)\n",
      " MSE with Sigma :  tensor(0.8694)\n",
      "B_zero tensor([[ 1.2372,  0.3952,  0.4433, -0.8697, -0.3365,  0.7448, -1.3437, -0.6682,\n",
      "         -0.1073,  2.6762,  0.1696,  2.2434,  1.7461,  0.7737,  0.3195,  0.3200,\n",
      "          0.6935, -0.7634,  0.4785, -0.1043],\n",
      "        [-0.1673, -0.1655, -3.4404,  1.2398,  1.1775, -0.8560, -0.0653,  0.4039,\n",
      "         -0.9932,  1.9377,  1.6444,  0.2822,  1.9010,  3.2976,  0.2976, -1.2987,\n",
      "          0.8070,  1.2819, -0.3204,  0.7214]], requires_grad=True)\n",
      " MSE with beta :  tensor(0.7507)\n",
      "MSE with B_zero 0.7942\n",
      "MSE beta : tensor(0.7568)\n",
      " MSE with Sigma :  tensor(0.8711)\n",
      "B_zero tensor([[ 1.2362,  0.3942,  0.4358, -0.8857, -0.3355,  0.7458, -1.3427, -0.6842,\n",
      "         -0.1148,  2.6602,  0.1614,  2.2509,  1.7301,  0.7747,  0.3120,  0.3282,\n",
      "          0.6925, -0.7709,  0.4795, -0.1131],\n",
      "        [-0.1683, -0.1665, -3.4394,  1.2480,  1.1700, -0.8550, -0.0643,  0.4121,\n",
      "         -0.9850,  1.9459,  1.6519,  0.2897,  1.9092,  3.2986,  0.2901, -1.3267,\n",
      "          0.8060,  1.2744, -0.3194,  0.7126]], requires_grad=True)\n",
      " MSE with beta :  tensor(0.7568)\n",
      "MSE with B_zero 0.7936\n",
      "MSE beta : tensor(0.7637)\n",
      " MSE with Sigma :  tensor(0.8745)\n",
      "B_zero tensor([[ 1.2352,  0.3932,  0.4283, -0.9017, -0.3345,  0.7298, -1.3502, -0.7002,\n",
      "         -0.1308,  2.6442,  0.1604,  2.2597,  1.7226,  0.7757,  0.3045,  0.3364,\n",
      "          0.6935, -0.7699,  0.4720, -0.1219],\n",
      "        [-0.1693, -0.1675, -3.4384,  1.2562,  1.1710, -0.8340, -0.0718,  0.4131,\n",
      "         -0.9768,  1.9469,  1.6594,  0.2772,  1.9102,  3.2996,  0.2826, -1.3427,\n",
      "          0.8070,  1.2754, -0.3184,  0.7038]], requires_grad=True)\n",
      " MSE with beta :  tensor(0.7637)\n",
      "MSE with B_zero 0.79268\n",
      "MSE beta : tensor(0.7674)\n",
      " MSE with Sigma :  tensor(0.8770)\n",
      "B_zero tensor([[ 1.2342,  0.3922,  0.4123, -0.9092, -0.3420,  0.7138, -1.3492, -0.7077,\n",
      "         -0.1383,  2.6367,  0.1594,  2.2587,  1.6934,  0.7767,  0.3055,  0.3446,\n",
      "          0.6860, -0.7774,  0.4730, -0.1209],\n",
      "        [-0.1703, -0.1685, -3.4302,  1.2572,  1.1635, -0.8130, -0.0708,  0.4141,\n",
      "         -0.9843,  1.9479,  1.6669,  0.2762,  1.9454,  3.3006,  0.2751, -1.3587,\n",
      "          0.7995,  1.2679, -0.3174,  0.6878]], requires_grad=True)\n",
      " MSE with beta :  tensor(0.7674)\n",
      "MSE with B_zero 0.78765\n",
      "MSE beta : tensor(0.7731)\n",
      " MSE with Sigma :  tensor(0.8776)\n",
      "B_zero tensor([[ 1.2332,  0.3912,  0.4048, -0.9167, -0.3410,  0.7148, -1.3482, -0.7152,\n",
      "         -0.1373,  2.6292,  0.1384,  2.2577,  1.6859,  0.7777,  0.3065,  0.3528,\n",
      "          0.6785, -0.7764,  0.4740, -0.1297],\n",
      "        [-0.1713, -0.1695, -3.4292,  1.2582,  1.1645, -0.8120, -0.0698,  0.4151,\n",
      "         -0.9833,  1.9489,  1.6829,  0.2752,  1.9464,  3.3016,  0.2676, -1.3747,\n",
      "          0.8077,  1.2689, -0.3164,  0.6790]], requires_grad=True)\n",
      " MSE with beta :  tensor(0.7731)\n",
      "MSE with B_zero 0.7872\n",
      "MSE beta : tensor(0.7775)\n",
      " MSE with Sigma :  tensor(0.8795)\n",
      "B_zero tensor([[ 1.2407,  0.3902,  0.3612, -0.9242, -0.3400,  0.7138, -1.3472, -0.7142,\n",
      "         -0.1448,  2.6132,  0.1459,  2.2652,  1.6699,  0.7902,  0.3075,  0.3610,\n",
      "          0.6710, -0.7754,  0.4750, -0.1385],\n",
      "        [-0.1638, -0.1705, -3.3755,  1.2592,  1.1655, -0.8130, -0.0688,  0.4161,\n",
      "         -0.9823,  1.9614,  1.6904,  0.2742,  1.9674,  3.2928,  0.2601, -1.3907,\n",
      "          0.8087,  1.2529, -0.3154,  0.6702]], requires_grad=True)\n",
      " MSE with beta :  tensor(0.7775)\n",
      "MSE with B_zero 0.78058\n"
     ]
    }
   ],
   "source": [
    "model_VEM = ZI_PLN(true_value = False, class_optimizer = torch.optim.Rprop)\n",
    "model_VEM.fit_VEM(Y_sampled, O, covariates, tolerance = 0 ,Niter = 50,nb_each_iter= 5, lr = 0.01,  verbose = False)"
   ]
  },
  {
   "cell_type": "code",
   "execution_count": 110,
   "metadata": {},
   "outputs": [],
   "source": [
    "d = 2 # nb of cavariates\n",
    "n = 200; p = 20"
   ]
  },
  {
   "cell_type": "code",
   "execution_count": 111,
   "metadata": {},
   "outputs": [],
   "source": [
    "#torch.manual_seed(0)\n",
    "#true_Sigma = torch.from_numpy(toeplitz(0.6**np.arange(p)))\n",
    "true_Sigma = torch.from_numpy(build_block_Sigma(p,20)).to(device)\n",
    "true_C = torch.cholesky(true_Sigma)\n",
    "true_beta = torch.randn(d, p).to(device)\n",
    "\n",
    "covariates = torch.rand((n,d))/1\n",
    "O = 0+torch.zeros((n,p))\n",
    "true_B_zero = torch.randn((d,p)).to(device)\n",
    "sample_model = sample_PLN(ZI = True)\n",
    "Y_sampled, Z_sampled, ksi  = sample_model.sample(true_Sigma.to(torch.device('cpu')),true_beta.to(torch.device('cpu')), O, covariates, true_B_zero)\n",
    "try : \n",
    "    ksi = torch.from_numpy(ksi)\n",
    "except : \n",
    "    pass\n",
    "\n",
    "Y_sampled = torch.from_numpy(Y_sampled)\n",
    "data = [Y_sampled.double(), O, covariates]"
   ]
  },
  {
   "cell_type": "code",
   "execution_count": 9,
   "metadata": {},
   "outputs": [],
   "source": [
    "def log_p_ksi(B_zer,ksi): \n",
    "    XB_zer = torch.mm(covariates, B_zer)\n",
    "    return torch.sum(torch.multiply(ksi,XB_zer)- torch.log(1+ torch.exp(XB_zer)))\n",
    "\n",
    "# B_init = torch.randn((d,p))\n"
   ]
  },
  {
   "cell_type": "code",
   "execution_count": 10,
   "metadata": {},
   "outputs": [],
   "source": [
    "def fit(ksi): \n",
    "    B_zer = torch.randn((d,p), requires_grad = True)\n",
    "    optim = torch.optim.Rprop([B_zer], lr = 0.1)\n",
    "    for i in range( 100): \n",
    "        loss = - log_p_ksi(B_zer,ksi)\n",
    "        loss.backward()\n",
    "        optim.step()\n",
    "        optim.zero_grad()\n",
    "        #print('MSE :', MSE(B_zer-true_B_zero))\n",
    "    return B_zer  \n",
    "# B_zer = fit(ksi)"
   ]
  },
  {
   "cell_type": "code",
   "execution_count": 11,
   "metadata": {},
   "outputs": [],
   "source": [
    "def batch_log_P_WgivenY(Y_b, covariates_b, O_b, W, C, beta): \n",
    "    length = len(W.shape)\n",
    "    if length == 2 : \n",
    "        CW = torch.matmul(C.unsqueeze(0),W.unsqueeze(2)).squeeze()\n",
    "    elif length == 3 : \n",
    "        CW = torch.matmul(C.unsqueeze(0).unsqueeze(1), W.unsqueeze(3)).squeeze()\n",
    "    A_b = O_b + CW + covariates_b@beta\n",
    "    return -1/2*torch.norm(W, dim = -1)**2 + torch.sum(-torch.exp(A_b)   + A_b*Y_b - log_stirling(Y_b) , axis = -1)\n"
   ]
  },
  {
   "cell_type": "code",
   "execution_count": null,
   "metadata": {},
   "outputs": [],
   "source": []
  }
 ],
 "metadata": {
  "kernelspec": {
   "display_name": "Python 3",
   "language": "python",
   "name": "python3"
  },
  "language_info": {
   "codemirror_mode": {
    "name": "ipython",
    "version": 3
   },
   "file_extension": ".py",
   "mimetype": "text/x-python",
   "name": "python",
   "nbconvert_exporter": "python",
   "pygments_lexer": "ipython3",
   "version": "3.8.5"
  }
 },
 "nbformat": 4,
 "nbformat_minor": 4
}
