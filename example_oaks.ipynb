{
 "cells": [
  {
   "cell_type": "markdown",
   "id": "51fe3faa-51b3-49cf-9cfd-7997c1ca436a",
   "metadata": {},
   "source": [
    "## Import required libraries"
   ]
  },
  {
   "cell_type": "code",
   "execution_count": 1,
   "id": "28cff8b4-61d5-414a-9e3c-db876e2327a1",
   "metadata": {},
   "outputs": [],
   "source": [
    "import numpy as np\n",
    "import matplotlib.pyplot as plt\n",
    "from pandas import read_csv\n",
    "from timeit import default_timer as timer\n",
    "\n",
    "## my own functions\n",
    "from utils import moments_estimate, format_data\n",
    "\n",
    "import PLN\n",
    "\n",
    "import torch\n",
    "device = torch.device(\"cuda:0\" if torch.cuda.is_available() else \"cpu\")\n",
    "# device = \"cpu\""
   ]
  },
  {
   "cell_type": "markdown",
   "id": "14d3b315-2be4-4f60-aa91-3455b1d12d86",
   "metadata": {},
   "source": [
    "## Read oaks data set"
   ]
  },
  {
   "cell_type": "code",
   "execution_count": 2,
   "id": "0eca5ce5-79c7-4ea8-9d22-3befb5a5ef65",
   "metadata": {},
   "outputs": [],
   "source": [
    "Y = read_csv('oaks_counts.csv', sep=',').to_numpy()\n",
    "O = read_csv('oaks_offsets.csv', sep=',').to_numpy()\n",
    "data = format_data(counts = Y, offsets = np.log(O))\n",
    "\n",
    "# Initialization of the variational parameters\n",
    "M0, S0 = moments_estimate(Y, np.log(O))"
   ]
  },
  {
   "cell_type": "markdown",
   "id": "80c1adf8-5a40-4bf9-a854-057ab5a51805",
   "metadata": {},
   "source": [
    "## Test various optimizer for standard PLN"
   ]
  },
  {
   "cell_type": "code",
   "execution_count": 3,
   "id": "cb8ab0c5-e0dd-489b-ac9a-17d928293c85",
   "metadata": {},
   "outputs": [],
   "source": [
    "# Instantiating PLN model with full covariance\n",
    "myPLN = PLN.full_covariance(data)"
   ]
  },
  {
   "cell_type": "markdown",
   "id": "b4a0b417-67df-4091-ac9c-dd663688c254",
   "metadata": {},
   "source": [
    "### Nlopt solver with CCSAQ on profiled ELBO"
   ]
  },
  {
   "cell_type": "code",
   "execution_count": 4,
   "id": "6c32df28-9248-4903-bbb4-724af261a006",
   "metadata": {},
   "outputs": [],
   "source": [
    "start = timer()\n",
    "# Optimization with the CCSA solver from NLopt\n",
    "res_nlopt = myPLN.fit_profiled_variational_objective(M0, S0, solver = 'nlopt', ftol = 1e-16)\n",
    "end = timer()\n",
    "time_nlopt = end - start\n",
    "\n",
    "Sigma_profiled = myPLN.Sigma\n",
    "B_profiled = myPLN.B"
   ]
  },
  {
   "cell_type": "markdown",
   "id": "2dbb75cc-81e6-4e8a-a0c4-0f854e7d977e",
   "metadata": {},
   "source": [
    "### Pytorch solver with RMSProp and auto-grad on profiled ELBO"
   ]
  },
  {
   "cell_type": "code",
   "execution_count": 5,
   "id": "77c44c26-689d-48e4-8914-9e76fd44fe9c",
   "metadata": {},
   "outputs": [],
   "source": [
    "start = timer()\n",
    "# Optimization with Rprop solver from Pytorch with autograd\n",
    "res_torch = myPLN.fit_profiled_variational_objective(M0, S0, solver = 'torch', device = device, lr = 1, nsteps=100, ftol = 1e-3)\n",
    "end = timer()\n",
    "time_torch = end - start\n",
    "\n",
    "Sigma_profiled_torch = myPLN.Sigma\n",
    "B_profiled_torch = myPLN.B"
   ]
  },
  {
   "cell_type": "markdown",
   "id": "544383a9-d651-4001-9cb3-31bc24ac093d",
   "metadata": {},
   "source": [
    "## Some outputs"
   ]
  },
  {
   "cell_type": "code",
   "execution_count": 6,
   "id": "bc94cca5-2881-4557-b089-6d15664270c5",
   "metadata": {},
   "outputs": [
    {
     "data": {
      "image/png": "[encoded data removed]",
      "text/plain": [
       "<Figure size 432x288 with 1 Axes>"
      ]
     },
     "metadata": {
      "needs_background": "light"
     },
     "output_type": "display_data"
    },
    {
     "name": "stdout",
     "output_type": "stream",
     "text": [
      "41110.78439741858\n",
      "26112.19551330985\n"
     ]
    }
   ],
   "source": [
    "plt.plot(res_torch['objective'])\n",
    "plt.show()\n",
    "\n",
    "print(res_nlopt['criterion'])\n",
    "print(res_torch['criterion'])\n"
   ]
  }
 ],
 "metadata": {
  "kernelspec": {
   "display_name": "Python 3",
   "language": "python",
   "name": "python3"
  },
  "language_info": {
   "codemirror_mode": {
    "name": "ipython",
    "version": 3
   },
   "file_extension": ".py",
   "mimetype": "text/x-python",
   "name": "python",
   "nbconvert_exporter": "python",
   "pygments_lexer": "ipython3",
   "version": "3.8.8"
  }
 },
 "nbformat": 4,
 "nbformat_minor": 5
}
