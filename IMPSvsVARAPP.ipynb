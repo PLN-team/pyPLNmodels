{
 "cells": [
  {
   "cell_type": "code",
   "execution_count": 6,
   "metadata": {},
   "outputs": [],
   "source": [
    "from fastPLNmodels.utils import build_block_Sigma, C_from_Sigma, sample_PLN, MSE\n",
    "import torch\n",
    "from fastPLNmodels.models import IMPS_PLN, show, log_likelihood, fastPLN\n",
    "import numpy as np\n",
    "import matplotlib.pyplot as plt\n",
    "import seaborn as sns\n",
    "import math\n",
    "from tqdm import tqdm\n",
    "import torch.linalg as TLA\n",
    "\n"
   ]
  },
  {
   "cell_type": "code",
   "execution_count": 7,
   "metadata": {},
   "outputs": [
    {
     "name": "stdout",
     "output_type": "stream",
     "text": [
      "The autoreload extension is already loaded. To reload it, use:\n",
      "  %reload_ext autoreload\n"
     ]
    }
   ],
   "source": [
    "%load_ext autoreload\n",
    "\n",
    "%autoreload 2"
   ]
  },
  {
   "cell_type": "code",
   "execution_count": 8,
   "metadata": {},
   "outputs": [
    {
     "data": {
      "text/plain": [
       "True"
      ]
     },
     "execution_count": 8,
     "metadata": {},
     "output_type": "execute_result"
    }
   ],
   "source": [
    "if torch.cuda.is_available():\n",
    "    device = torch.device('cuda:0')\n",
    "else : \n",
    "    device = torch.device('cpu')\n",
    "    \n",
    "#device = torch.device('cpu') # think I can't use RTX A5000 right now, will check this later. \n",
    "torch.cuda.is_available()\n",
    "# print('device ', device)"
   ]
  },
  {
   "cell_type": "code",
   "execution_count": 9,
   "metadata": {},
   "outputs": [
    {
     "data": {
      "text/plain": [
       "device(type='cuda', index=0)"
      ]
     },
     "execution_count": 9,
     "metadata": {},
     "output_type": "execute_result"
    }
   ],
   "source": [
    "device"
   ]
  },
  {
   "cell_type": "markdown",
   "metadata": {},
   "source": [
    "### Simulation of the data "
   ]
  },
  {
   "cell_type": "code",
   "execution_count": 48,
   "metadata": {},
   "outputs": [],
   "source": [
    "d = 2\n",
    "n = 200;  p = 200\n",
    "q = 10"
   ]
  },
  {
   "cell_type": "code",
   "execution_count": 49,
   "metadata": {},
   "outputs": [],
   "source": [
    "# 0 est pas mal \n",
    "#torch.manual_seed(0)\n",
    "Sigma_sampling = 1*torch.from_numpy(build_block_Sigma(p,50))/3 #+ 0.5*torch.eye(p)\n",
    "true_C = C_from_Sigma(Sigma_sampling, q)\n",
    "true_Sigma_sampling = true_C@(true_C.T)\n",
    "true_beta =torch.randn((d, p))/3\n",
    "\n",
    "covariates = torch.randn((n,d))\n",
    "O =  0+torch.zeros((n,p))\n",
    "Y, Z, _  = sample_PLN(Sigma_sampling,true_beta, O, covariates)\n",
    "Y = torch.from_numpy(Y).to(device)\n",
    "covariates = covariates.to(device)\n",
    "O = O.to(device)\n"
   ]
  },
  {
   "cell_type": "markdown",
   "metadata": {},
   "source": [
    "## Fitting the IMPS based model"
   ]
  },
  {
   "cell_type": "code",
   "execution_count": 47,
   "metadata": {
    "scrolled": true
   },
   "outputs": [
    {
     "name": "stderr",
     "output_type": "stream",
     "text": [
      "  3%|▎         | 3/100 [00:11<06:20,  3.93s/it]\n"
     ]
    },
    {
     "ename": "KeyboardInterrupt",
     "evalue": "",
     "output_type": "error",
     "traceback": [
      "\u001b[0;31m---------------------------------------------------------------------------\u001b[0m",
      "\u001b[0;31mKeyboardInterrupt\u001b[0m                         Traceback (most recent call last)",
      "\u001b[0;32m<timed eval>\u001b[0m in \u001b[0;36m<module>\u001b[0;34m\u001b[0m\n",
      "\u001b[0;32m~/Documents/PLNpy/fastPLNmodels/models.py\u001b[0m in \u001b[0;36mfit\u001b[0;34m(self, Y, O, covariates, N_epoch_max, acc, lr, N_iter_max_mode, lr_mode, VR, batch_size, class_optimizer, nb_plateau, verbose)\u001b[0m\n\u001b[1;32m    463\u001b[0m                 \u001b[0;31m#print('time log like', time.time()-t)\u001b[0m\u001b[0;34m\u001b[0m\u001b[0;34m\u001b[0m\u001b[0;34m\u001b[0m\u001b[0m\n\u001b[1;32m    464\u001b[0m                 \u001b[0mt\u001b[0m \u001b[0;34m=\u001b[0m \u001b[0mtime\u001b[0m\u001b[0;34m.\u001b[0m\u001b[0mtime\u001b[0m\u001b[0;34m(\u001b[0m\u001b[0;34m)\u001b[0m\u001b[0;34m\u001b[0m\u001b[0;34m\u001b[0m\u001b[0m\n\u001b[0;32m--> 465\u001b[0;31m                 \u001b[0mbatch_grad_C\u001b[0m \u001b[0;34m=\u001b[0m \u001b[0;34m-\u001b[0m\u001b[0mself\u001b[0m\u001b[0;34m.\u001b[0m\u001b[0mget_batch_grad_C\u001b[0m\u001b[0;34m(\u001b[0m\u001b[0;34m)\u001b[0m \u001b[0;31m# add a minus since pytorch minimizes a function.\u001b[0m\u001b[0;34m\u001b[0m\u001b[0;34m\u001b[0m\u001b[0m\n\u001b[0m\u001b[1;32m    466\u001b[0m                 \u001b[0;31m#print('time grad_C', time.time()-t)\u001b[0m\u001b[0;34m\u001b[0m\u001b[0;34m\u001b[0m\u001b[0;34m\u001b[0m\u001b[0m\n\u001b[1;32m    467\u001b[0m                 \u001b[0mt\u001b[0m \u001b[0;34m=\u001b[0m \u001b[0mtime\u001b[0m\u001b[0;34m.\u001b[0m\u001b[0mtime\u001b[0m\u001b[0;34m(\u001b[0m\u001b[0;34m)\u001b[0m\u001b[0;34m\u001b[0m\u001b[0;34m\u001b[0m\u001b[0m\n",
      "\u001b[0;32m~/Documents/PLNpy/fastPLNmodels/models.py\u001b[0m in \u001b[0;36mget_batch_grad_C\u001b[0;34m(self)\u001b[0m\n\u001b[1;32m    694\u001b[0m                 \u001b[0mself\u001b[0m\u001b[0;34m.\u001b[0m\u001b[0msamples\u001b[0m\u001b[0;34m.\u001b[0m\u001b[0munsqueeze\u001b[0m\u001b[0;34m(\u001b[0m\u001b[0;36m2\u001b[0m\u001b[0;34m)\u001b[0m\u001b[0;34m.\u001b[0m\u001b[0munsqueeze\u001b[0m\u001b[0;34m(\u001b[0m\u001b[0;36m4\u001b[0m\u001b[0;34m)\u001b[0m\u001b[0;34m\u001b[0m\u001b[0;34m\u001b[0m\u001b[0m\n\u001b[1;32m    695\u001b[0m                         ).squeeze()\n\u001b[0;32m--> 696\u001b[0;31m         \u001b[0mYmoinsexp\u001b[0m \u001b[0;34m=\u001b[0m \u001b[0mself\u001b[0m\u001b[0;34m.\u001b[0m\u001b[0mY_b\u001b[0m \u001b[0;34m-\u001b[0m \u001b[0mtorch\u001b[0m\u001b[0;34m.\u001b[0m\u001b[0mexp\u001b[0m\u001b[0;34m(\u001b[0m\u001b[0mself\u001b[0m\u001b[0;34m.\u001b[0m\u001b[0mO_b\u001b[0m \u001b[0;34m+\u001b[0m \u001b[0mXB\u001b[0m \u001b[0;34m+\u001b[0m \u001b[0mCV\u001b[0m\u001b[0;34m)\u001b[0m\u001b[0;34m\u001b[0m\u001b[0;34m\u001b[0m\u001b[0m\n\u001b[0m\u001b[1;32m    697\u001b[0m         \u001b[0mouter\u001b[0m \u001b[0;34m=\u001b[0m \u001b[0mtorch\u001b[0m\u001b[0;34m.\u001b[0m\u001b[0mmatmul\u001b[0m\u001b[0;34m(\u001b[0m\u001b[0mYmoinsexp\u001b[0m\u001b[0;34m.\u001b[0m\u001b[0munsqueeze\u001b[0m\u001b[0;34m(\u001b[0m\u001b[0;36m3\u001b[0m\u001b[0;34m)\u001b[0m\u001b[0;34m,\u001b[0m \u001b[0mself\u001b[0m\u001b[0;34m.\u001b[0m\u001b[0msamples\u001b[0m\u001b[0;34m.\u001b[0m\u001b[0munsqueeze\u001b[0m\u001b[0;34m(\u001b[0m\u001b[0;36m2\u001b[0m\u001b[0;34m)\u001b[0m\u001b[0;34m)\u001b[0m\u001b[0;34m\u001b[0m\u001b[0;34m\u001b[0m\u001b[0m\n\u001b[1;32m    698\u001b[0m         \u001b[0mdenum\u001b[0m \u001b[0;34m=\u001b[0m \u001b[0mtorch\u001b[0m\u001b[0;34m.\u001b[0m\u001b[0msum\u001b[0m\u001b[0;34m(\u001b[0m\u001b[0mself\u001b[0m\u001b[0;34m.\u001b[0m\u001b[0mweights\u001b[0m\u001b[0;34m,\u001b[0m \u001b[0maxis\u001b[0m \u001b[0;34m=\u001b[0m \u001b[0;36m0\u001b[0m\u001b[0;34m)\u001b[0m\u001b[0;34m\u001b[0m\u001b[0;34m\u001b[0m\u001b[0m\n",
      "\u001b[0;31mKeyboardInterrupt\u001b[0m: "
     ]
    }
   ],
   "source": [
    "batch_size = 10\n",
    "IMPS_model = IMPS_PLN(q, nb_average_param = 15, nb_average_likelihood = 6)\n",
    "%time IMPS_model.fit(Y,O,covariates,100, acc = 0.005, batch_size = batch_size, verbose = False, lr = 0.015)"
   ]
  },
  {
   "cell_type": "code",
   "execution_count": 14,
   "metadata": {},
   "outputs": [
    {
     "name": "stderr",
     "output_type": "stream",
     "text": [
      "No handles with labels found to put in legend.\n",
      "No handles with labels found to put in legend.\n"
     ]
    },
    {
     "name": "stdout",
     "output_type": "stream",
     "text": [
      "max likelihood : -14.906666562025924\n"
     ]
    },
    {
     "data": {
      "image/png": "[encoded data removed]",
      "text/plain": [
       "<Figure size 720x576 with 2 Axes>"
      ]
     },
     "metadata": {
      "needs_background": "light"
     },
     "output_type": "display_data"
    }
   ],
   "source": [
    "show(IMPS_model)"
   ]
  },
  {
   "cell_type": "code",
   "execution_count": 15,
   "metadata": {},
   "outputs": [
    {
     "data": {
      "text/plain": [
       "<AxesSubplot:>"
      ]
     },
     "execution_count": 15,
     "metadata": {},
     "output_type": "execute_result"
    },
    {
     "data": {
      "image/png": "[encoded data removed]",
      "text/plain": [
       "<Figure size 432x288 with 2 Axes>"
      ]
     },
     "metadata": {
      "needs_background": "light"
     },
     "output_type": "display_data"
    }
   ],
   "source": [
    "n_a = 0\n",
    "n_b = 10\n",
    "sns.heatmap(IMPS_model.Sigma()[n_a:n_b,n_a:n_b])"
   ]
  },
  {
   "cell_type": "code",
   "execution_count": 14,
   "metadata": {},
   "outputs": [
    {
     "data": {
      "text/plain": [
       "<AxesSubplot:>"
      ]
     },
     "execution_count": 14,
     "metadata": {},
     "output_type": "execute_result"
    },
    {
     "data": {
      "image/png": "[encoded data removed]",
      "text/plain": [
       "<Figure size 432x288 with 2 Axes>"
      ]
     },
     "metadata": {
      "needs_background": "light"
     },
     "output_type": "display_data"
    }
   ],
   "source": [
    "sns.heatmap(Sigma_sampling[n_a:n_b, n_a:n_b])"
   ]
  },
  {
   "cell_type": "code",
   "execution_count": 17,
   "metadata": {},
   "outputs": [
    {
     "name": "stdout",
     "output_type": "stream",
     "text": [
      "MSE beta tensor(0.0096)\n",
      "MSE Sigma tensor(0.0160)\n"
     ]
    }
   ],
   "source": [
    "print('MSE beta', MSE(IMPS_model.beta_mean-true_beta))\n",
    "print('MSE Sigma', MSE(IMPS_model.Sigma()-true_Sigma_sampling))"
   ]
  },
  {
   "cell_type": "markdown",
   "metadata": {},
   "source": [
    "## fitting the Variational model"
   ]
  },
  {
   "cell_type": "code",
   "execution_count": 19,
   "metadata": {},
   "outputs": [
    {
     "name": "stdout",
     "output_type": "stream",
     "text": [
      "device  cuda\n",
      "beta device cuda:0\n",
      "Iteration number:  0\n",
      "-------UPDATE-------\n",
      "Delta :  9.75402170827153\n",
      "Iteration number:  10\n",
      "-------UPDATE-------\n",
      "Delta :  0.18955471169792176\n",
      "Iteration number:  20\n",
      "-------UPDATE-------\n",
      "Delta :  0.041684391252357\n",
      "Iteration number:  30\n",
      "-------UPDATE-------\n",
      "Delta :  0.008650699584322217\n",
      "Iteration number:  40\n",
      "-------UPDATE-------\n",
      "Delta :  0.0020836944022131158\n",
      "---------------------------------Tolerance 0.001 reached in 47 iterations\n",
      "CPU times: user 358 ms, sys: 20.4 ms, total: 379 ms\n",
      "Wall time: 374 ms\n"
     ]
    }
   ],
   "source": [
    "fastModel = fastPLN()\n",
    "%time fastModel.fit(Y,O,covariates, 200, lr = 0.1, tolerance = 10e-4, verbose = True)\n",
    "#fastModel.C = torch.from_numpy(C_from_Sigma(fastModel.Sigma.detach(), q)).detach()"
   ]
  },
  {
   "cell_type": "code",
   "execution_count": 17,
   "metadata": {},
   "outputs": [
    {
     "name": "stdout",
     "output_type": "stream",
     "text": [
      "tensor(0.0148)\n",
      "tensor(0.0098)\n"
     ]
    }
   ],
   "source": [
    "print(MSE(fastModel.Sigma-Sigma_sampling))\n",
    "print(MSE(fastModel.beta-true_beta))"
   ]
  },
  {
   "cell_type": "code",
   "execution_count": 18,
   "metadata": {},
   "outputs": [
    {
     "data": {
      "text/plain": [
       "<AxesSubplot:>"
      ]
     },
     "execution_count": 18,
     "metadata": {},
     "output_type": "execute_result"
    },
    {
     "data": {
      "image/png": "[encoded data removed]",
      "text/plain": [
       "<Figure size 432x288 with 2 Axes>"
      ]
     },
     "metadata": {
      "needs_background": "light"
     },
     "output_type": "display_data"
    }
   ],
   "source": [
    "sns.heatmap(fastModel.Sigma.detach())"
   ]
  },
  {
   "cell_type": "code",
   "execution_count": 19,
   "metadata": {},
   "outputs": [
    {
     "data": {
      "text/plain": [
       "<AxesSubplot:>"
      ]
     },
     "execution_count": 19,
     "metadata": {},
     "output_type": "execute_result"
    },
    {
     "data": {
      "image/png": "[encoded data removed]",
      "text/plain": [
       "<Figure size 432x288 with 2 Axes>"
      ]
     },
     "metadata": {
      "needs_background": "light"
     },
     "output_type": "display_data"
    }
   ],
   "source": [
    "sns.heatmap(Sigma_sampling)"
   ]
  },
  {
   "cell_type": "markdown",
   "metadata": {},
   "source": [
    "## Computing the likelihoods for each model."
   ]
  },
  {
   "cell_type": "code",
   "execution_count": 18,
   "metadata": {},
   "outputs": [
    {
     "name": "stderr",
     "output_type": "stream",
     "text": [
      "100%|██████████| 20/20 [00:12<00:00,  1.56it/s]\n"
     ]
    }
   ],
   "source": [
    "log_like_IMPS_list = list()\n",
    "log_like_fast_list = list()\n",
    "for i in tqdm(range(20)): \n",
    "    log_like_IMPS_list.append(log_likelihood(Y,O,covariates, IMPS_model.C_mean, IMPS_model.beta_mean, acc = 0.005).detach().item())\n",
    "    log_like_fast_list.append(log_likelihood(Y,O,covariates, fastModel.C, fastModel.beta.detach(), acc = 0.005).detach().item())"
   ]
  },
  {
   "cell_type": "markdown",
   "metadata": {},
   "source": [
    "## Comparing both likelihoods "
   ]
  },
  {
   "cell_type": "code",
   "execution_count": 19,
   "metadata": {},
   "outputs": [
    {
     "name": "stderr",
     "output_type": "stream",
     "text": [
      "/home/bastien/anaconda3/lib/python3.8/site-packages/seaborn/distributions.py:2557: FutureWarning: `distplot` is a deprecated function and will be removed in a future version. Please adapt your code to use either `displot` (a figure-level function with similar flexibility) or `histplot` (an axes-level function for histograms).\n",
      "  warnings.warn(msg, FutureWarning)\n",
      "/home/bastien/anaconda3/lib/python3.8/site-packages/seaborn/distributions.py:2557: FutureWarning: `distplot` is a deprecated function and will be removed in a future version. Please adapt your code to use either `displot` (a figure-level function with similar flexibility) or `histplot` (an axes-level function for histograms).\n",
      "  warnings.warn(msg, FutureWarning)\n"
     ]
    },
    {
     "data": {
      "text/plain": [
       "<matplotlib.legend.Legend at 0x7fbf9c05cb20>"
      ]
     },
     "execution_count": 19,
     "metadata": {},
     "output_type": "execute_result"
    },
    {
     "data": {
      "image/png": "[encoded data removed]",
      "text/plain": [
       "<Figure size 432x288 with 1 Axes>"
      ]
     },
     "metadata": {
      "needs_background": "light"
     },
     "output_type": "display_data"
    }
   ],
   "source": [
    "log_like_IMPS = np.mean(np.array(log_like_IMPS_list))\n",
    "log_like_fast = np.mean(np.array(log_like_fast_list))\n",
    "\n",
    "\n",
    "sns.distplot(np.array(log_like_IMPS_list))\n",
    "plt.axvline(log_like_IMPS, label = 'IMPS_model', c = 'red')\n",
    "\n",
    "sns.distplot(np.array(log_like_fast_list))\n",
    "plt.axvline(log_like_fast, label = 'fastModel', c = 'black')\n",
    "plt.legend()"
   ]
  },
  {
   "cell_type": "code",
   "execution_count": 20,
   "metadata": {},
   "outputs": [
    {
     "data": {
      "image/png": "[encoded data removed]",
      "text/plain": [
       "<Figure size 432x288 with 1 Axes>"
      ]
     },
     "metadata": {
      "needs_background": "light"
     },
     "output_type": "display_data"
    }
   ],
   "source": [
    "l = IMPS_model.log_likelihood_list\n",
    "plt.plot(np.arange(0, len(l)), - np.array(l))\n",
    "\n",
    "plt.axhline(-log_like_fast, c = 'black', label = 'IMPS_model')\n",
    "plt.axhline(-log_like_IMPS, c = 'red', label = 'fastModel')\n",
    "plt.yscale('log')"
   ]
  },
  {
   "cell_type": "markdown",
   "metadata": {},
   "source": [
    "## Comparing the MSEs  "
   ]
  },
  {
   "cell_type": "code",
   "execution_count": 156,
   "metadata": {},
   "outputs": [
    {
     "name": "stdout",
     "output_type": "stream",
     "text": [
      "MSE beta for Var App tensor(0.0994)\n"
     ]
    }
   ],
   "source": [
    "#print('MSE beta for IMPS', MSE(IMPS_model.beta_mean-true_beta))\n",
    "print('MSE beta for Var App', MSE(fastModel.beta-true_beta).detach())"
   ]
  },
  {
   "cell_type": "code",
   "execution_count": 157,
   "metadata": {},
   "outputs": [
    {
     "name": "stdout",
     "output_type": "stream",
     "text": [
      "MSE Sigma for IMPS:  tensor(0.7629, grad_fn=<MeanBackward0>)\n"
     ]
    }
   ],
   "source": [
    "#print('MSE Sigma for IMPS: ', MSE(IMPS_model.Sigma()-true_Sigma_sampling))\n",
    "print('MSE Sigma for IMPS: ', MSE(fastModel.Sigma-true_Sigma_sampling))"
   ]
  },
  {
   "cell_type": "markdown",
   "metadata": {},
   "source": [
    "## additional "
   ]
  },
  {
   "cell_type": "code",
   "execution_count": 35,
   "metadata": {},
   "outputs": [
    {
     "data": {
      "text/plain": [
       "tensor([[-4.2995e-02,  1.4011e-01, -4.1408e-01,  5.7551e-03, -1.0687e-01,\n",
       "         -4.6650e-01, -4.2465e-01,  7.8986e-02,  4.0549e-01, -4.7068e-01,\n",
       "         -4.1786e-01, -2.2352e-01, -1.9917e-01,  8.6350e-01,  5.4368e-01,\n",
       "         -7.2152e-02,  4.6854e-01,  7.7282e-01,  3.0317e-01,  5.7381e-01,\n",
       "          3.4583e-01,  6.8890e-01,  2.9446e-01,  2.6742e-01,  4.3887e-01,\n",
       "         -1.8218e-01, -1.4808e-02, -7.7387e-03,  5.1723e-03,  1.5539e-01,\n",
       "          3.5229e-01,  2.3994e-01,  5.3226e-01, -5.9380e-01, -1.9871e-01,\n",
       "          3.4108e-01,  4.4736e-01, -1.0495e-02, -1.6037e-01, -1.6108e-01,\n",
       "         -2.1306e-01, -2.2988e-01,  2.3285e-01, -1.3248e-01,  4.3287e-01,\n",
       "          6.8753e-01, -1.8264e-02, -1.6492e-01,  4.2250e-01,  3.1361e-01,\n",
       "         -1.3262e-01,  6.0375e-02,  1.4002e-02,  3.1982e-01,  2.4919e-01,\n",
       "          3.4656e-01, -1.8159e-01, -4.4648e-01, -9.9878e-02,  5.3317e-02,\n",
       "          4.4652e-01,  4.3501e-01, -5.2222e-02, -2.3792e-02,  2.0964e-01,\n",
       "         -2.1938e-01, -6.5044e-01, -1.2547e-01,  1.9556e-01, -3.0249e-01,\n",
       "          8.1641e-02,  3.2341e-01,  2.9495e-01, -3.7733e-01,  1.8907e-02,\n",
       "          2.5797e-01, -2.9971e-01, -6.7985e-01,  1.8436e-02, -2.0707e-01,\n",
       "         -5.5130e-02,  3.5493e-01, -1.6427e-01,  3.2592e-01,  1.1387e-01,\n",
       "          7.3363e-01, -3.6799e-01, -6.9402e-02, -4.2092e-02, -1.3753e-02,\n",
       "          7.5554e-02,  9.6109e-01, -7.3614e-02,  2.2007e-01, -5.8523e-01,\n",
       "         -6.9007e-02, -3.5085e-01,  1.1334e-01,  1.0115e-01,  5.0127e-02,\n",
       "          2.7394e-01,  6.2692e-01,  1.4083e-01,  4.3698e-01,  1.1509e-01,\n",
       "         -1.0883e-01, -1.7906e-01,  1.7955e-01,  1.4396e-01,  2.2501e-01,\n",
       "          4.2818e-01,  7.3299e-02,  8.9048e-02, -2.0597e-01, -3.3552e-01,\n",
       "          5.5271e-01, -7.1677e-01, -2.7366e-02,  3.9941e-01, -3.6595e-01,\n",
       "         -4.7700e-02,  7.6135e-01,  4.2592e-01,  2.6821e-01, -2.2610e-01,\n",
       "          1.2686e+00,  4.9162e-01,  8.4248e-02,  4.2390e-01, -8.7577e-01,\n",
       "          3.8786e-02,  4.1056e-01,  3.8396e-01, -3.5487e-01,  4.5766e-01,\n",
       "         -2.1893e-01,  5.6825e-02, -6.6559e-01,  8.5176e-01,  3.8913e-01,\n",
       "         -9.4457e-02, -1.2668e-01, -2.0723e-02, -2.1884e-01,  1.9545e-01,\n",
       "          7.0035e-01, -3.7578e-01,  1.5317e-01,  2.1110e-01, -1.3479e-01,\n",
       "          1.2250e-01, -3.1645e-01,  8.9241e-01, -3.8562e-03,  4.6761e-01,\n",
       "         -4.1972e-02,  5.0152e-02,  5.1833e-01, -1.3008e-03,  4.3517e-01,\n",
       "          1.8803e-01, -5.3138e-01, -2.2656e-01, -1.7982e-01,  3.2714e-01,\n",
       "         -2.9427e-01, -3.4789e-01,  2.2154e-01,  4.5736e-02, -7.1793e-02,\n",
       "          2.6199e-01, -1.1867e-01,  2.0533e-01,  8.3473e-01,  4.6705e-01,\n",
       "          4.2671e-01, -6.5312e-01, -3.0646e-01,  5.9416e-01,  6.5049e-01,\n",
       "          1.0043e-01, -2.2806e-01,  1.4803e-02,  2.1580e-01,  2.9303e-01,\n",
       "         -2.1211e-01, -2.7565e-01,  2.6208e-01,  7.8852e-02,  4.8068e-02,\n",
       "         -3.6822e-01,  6.3576e-01, -2.5910e-02,  9.3950e-03,  3.2528e-01,\n",
       "         -8.9594e-02,  3.4479e-01, -3.3512e-01, -1.4350e-01,  7.5788e-02],\n",
       "        [ 1.0153e-01, -1.2664e-01,  1.3229e-01,  1.4949e-01, -9.5085e-02,\n",
       "         -1.4815e-01,  6.3125e-01,  2.4178e-01,  6.4519e-01,  2.3969e-01,\n",
       "         -2.1804e-01, -4.8867e-01, -5.7610e-01,  3.4999e-01,  3.9167e-01,\n",
       "         -3.6813e-01, -1.3647e-01, -9.8551e-02, -1.1535e-01,  1.0903e-01,\n",
       "          7.8308e-02, -5.2425e-01,  4.6510e-03,  1.9332e-01,  2.6956e-01,\n",
       "          5.2777e-01,  2.7222e-01,  2.5803e-01,  2.9353e-01,  2.2554e-01,\n",
       "          2.6508e-01,  4.6304e-01,  5.0940e-01,  7.9696e-01,  4.4501e-01,\n",
       "          4.4525e-03,  7.7586e-01,  8.1079e-02, -2.2802e-02, -9.9296e-02,\n",
       "          1.5442e-01, -4.0320e-01, -6.6051e-01,  2.0612e-01, -2.7262e-01,\n",
       "         -4.1421e-01, -7.4656e-01,  1.7923e-01,  1.9634e-02, -2.2698e-02,\n",
       "          1.8925e-01,  3.5474e-01, -4.0860e-01,  4.4130e-01, -8.6553e-02,\n",
       "         -1.2054e-01, -8.8493e-02,  9.0921e-02,  5.8580e-02,  4.7351e-01,\n",
       "         -2.7208e-01, -2.4504e-01, -8.6350e-02, -4.3736e-01, -7.3790e-01,\n",
       "         -3.4952e-01, -2.0098e-01,  3.6908e-02, -4.4667e-01, -7.5778e-01,\n",
       "         -1.6175e-01,  8.2774e-02, -8.4737e-02,  7.3760e-02,  5.3850e-01,\n",
       "          6.2724e-01, -8.2182e-02, -4.1863e-01, -1.1432e-01,  1.5290e-01,\n",
       "         -3.1595e-01, -4.0946e-01,  1.6417e-01,  3.0719e-01, -1.1809e-01,\n",
       "          1.5444e-01, -3.4496e-02, -6.3919e-01, -2.5009e-01, -5.0377e-01,\n",
       "          3.0990e-01, -1.6224e-01, -5.8606e-01, -1.7249e-01,  1.2207e-01,\n",
       "          1.1319e-01, -5.4665e-01,  8.3125e-01, -4.4150e-01, -5.9107e-01,\n",
       "         -2.5976e-01, -3.3372e-01, -6.0591e-01, -3.9340e-02, -5.6831e-01,\n",
       "          4.3293e-01, -5.3200e-01,  2.4455e-01, -2.8782e-01, -5.2658e-02,\n",
       "          5.5327e-01, -1.4241e-01,  1.4798e-01, -1.6122e-01, -2.0716e-01,\n",
       "         -2.6465e-03, -2.8803e-01, -2.3801e-01, -3.6940e-01,  1.4171e-01,\n",
       "          4.0890e-01, -2.7733e-01, -5.7047e-01,  2.4994e-01, -1.5880e-01,\n",
       "         -5.2767e-02,  5.1978e-02,  3.0619e-01, -4.6926e-04,  3.0756e-01,\n",
       "         -2.5346e-01,  4.2129e-01,  3.2759e-01,  4.9882e-01,  3.3829e-01,\n",
       "          8.3677e-01,  3.2458e-01, -9.1798e-02, -3.1103e-01, -2.9730e-01,\n",
       "         -2.2376e-01, -8.6939e-01, -4.0082e-01,  3.1898e-01, -5.5086e-01,\n",
       "         -5.3826e-02, -5.0554e-01,  2.7896e-01,  1.1750e-01, -4.4380e-01,\n",
       "          3.5551e-01,  2.2386e-01,  1.8886e-01,  4.9512e-01, -1.8504e-01,\n",
       "          5.6341e-01, -1.5804e-01,  6.3164e-02,  1.1037e-01, -2.8737e-01,\n",
       "          1.8513e-01, -1.3595e-01, -1.5315e-01, -3.6700e-01, -2.5280e-01,\n",
       "         -4.9317e-01,  1.7672e-01, -2.9733e-01, -1.1788e-01, -2.7059e-01,\n",
       "         -1.2606e-01, -5.0105e-02,  2.4297e-01, -6.0249e-03, -4.6131e-03,\n",
       "          3.6012e-01, -1.8339e-01,  3.5951e-01,  4.2788e-01,  4.4503e-01,\n",
       "          2.9765e-01,  4.5162e-01, -3.5375e-01, -6.3764e-01,  4.2829e-01,\n",
       "          1.8735e-01, -6.5147e-02, -5.3675e-01,  1.7500e-01, -3.6627e-01,\n",
       "          5.8167e-01,  2.0173e-01,  5.3933e-01, -6.0079e-03,  5.8499e-01,\n",
       "          5.4980e-01,  3.7252e-01, -2.5609e-01, -2.9393e-01,  2.9432e-01],\n",
       "        [-1.2106e-01,  1.1969e-01,  1.7906e-01, -3.7982e-01, -2.7641e-01,\n",
       "         -5.5359e-02, -9.3436e-01,  5.6481e-01,  6.6589e-01,  1.2749e-01,\n",
       "          3.1096e-02, -6.2333e-01, -5.9221e-01,  1.6354e-01, -1.2626e-01,\n",
       "         -8.7947e-01, -1.9364e-01, -6.2756e-01,  7.6675e-01,  1.7971e-01,\n",
       "         -2.0599e-01,  1.2997e-01, -6.9710e-01,  3.0548e-03, -1.4787e-01,\n",
       "         -2.8452e-01, -3.3030e-01, -3.5924e-01, -2.1461e-01,  4.3351e-01,\n",
       "         -4.2926e-01,  1.2089e-01, -3.8752e-03, -5.0303e-01, -5.5980e-01,\n",
       "         -3.0099e-01,  5.2139e-02, -3.1918e-01,  5.0198e-01,  4.3306e-01,\n",
       "         -4.0727e-02,  2.9291e-01, -3.4393e-01,  3.1678e-01, -3.3603e-01,\n",
       "         -2.3482e-01, -1.4307e-01,  5.2341e-01,  5.0351e-01,  2.0242e-01,\n",
       "          3.0548e-01, -1.2945e-01,  5.8705e-01,  8.1267e-02, -1.2000e-01,\n",
       "         -8.2343e-02,  2.6358e-02,  5.1295e-01, -1.6178e-01, -3.3569e-02,\n",
       "          4.4591e-01,  5.3228e-02, -5.5579e-01,  1.0858e-01,  5.2524e-02,\n",
       "          1.7859e-01,  1.3868e-01,  4.2764e-01, -3.8305e-02, -5.4577e-01,\n",
       "         -5.9247e-02,  7.6742e-02, -3.7087e-01, -1.1741e-01, -3.4883e-02,\n",
       "          9.5000e-02, -2.6118e-01,  9.1643e-02,  1.6251e-01, -1.6730e-01,\n",
       "          2.5832e-01,  3.0817e-02,  1.3396e-01, -6.0430e-01,  5.1969e-02,\n",
       "         -1.4020e-01,  7.6234e-03,  8.5520e-02,  1.4763e-01,  6.2780e-01,\n",
       "         -3.0061e-01,  1.5218e-01,  2.2552e-01,  7.7292e-02, -3.4672e-01,\n",
       "         -8.9861e-01, -2.1577e-01,  3.5232e-01, -1.0498e-01, -7.0032e-01,\n",
       "          7.0817e-02, -5.0988e-01,  9.6182e-02, -2.0222e-01, -2.1749e-02,\n",
       "         -3.8955e-03, -2.0182e-01,  3.4656e-01, -2.2078e-01, -4.3649e-01,\n",
       "          2.0073e-03,  8.8808e-02, -3.6485e-01,  2.4862e-01, -3.3240e-01,\n",
       "         -5.0500e-01,  3.1035e-01,  7.9874e-01, -7.9421e-02, -1.5018e-01,\n",
       "          6.3474e-01, -3.7942e-01, -2.9343e-01,  1.1646e-01, -8.4628e-02,\n",
       "         -2.1734e-02, -2.6766e-01,  5.1183e-03,  6.2470e-02, -9.2520e-02,\n",
       "         -1.1248e-01, -3.9504e-01,  2.4616e-01, -1.3647e-01,  1.0660e-02,\n",
       "          3.5519e-01, -9.9281e-02,  2.9823e-01, -3.7644e-01,  4.7473e-01,\n",
       "         -3.3107e-01, -4.9514e-01,  2.2590e-01,  3.0420e-02, -2.0916e-01,\n",
       "         -2.1041e-02,  6.0857e-02, -1.5859e-02,  1.8854e-01, -2.7153e-01,\n",
       "         -8.8897e-01, -4.3247e-01, -1.1670e-01,  3.1037e-01, -4.4843e-01,\n",
       "          2.3452e-01,  1.6379e-01, -3.9981e-01,  3.4725e-01, -5.1662e-01,\n",
       "          3.5060e-01, -4.8542e-01, -9.7880e-02, -1.4352e-01,  2.4677e-02,\n",
       "          2.8978e-01,  1.0429e-01,  1.2873e+00,  2.6127e-01, -2.5149e-01,\n",
       "         -1.8339e-01, -4.3226e-02,  7.6942e-02, -5.2403e-02, -4.8422e-01,\n",
       "         -3.8094e-01, -1.6453e-01, -9.3544e-01, -5.1851e-01, -6.7915e-01,\n",
       "          7.3851e-02,  2.6969e-01, -1.0263e-01,  2.6686e-01, -1.0838e-01,\n",
       "          1.9264e-01,  4.1062e-01,  1.9842e-01,  1.9089e-01,  2.0120e-02,\n",
       "         -5.3654e-01,  8.4427e-02,  2.1109e-01,  2.0232e-02,  4.9255e-01,\n",
       "         -1.8220e-01, -1.9379e-01, -1.2528e-01, -1.3581e-01,  5.7783e-01]])"
      ]
     },
     "execution_count": 35,
     "metadata": {},
     "output_type": "execute_result"
    }
   ],
   "source": [
    "IMPS_model.beta_mean"
   ]
  },
  {
   "cell_type": "code",
   "execution_count": 36,
   "metadata": {},
   "outputs": [
    {
     "data": {
      "text/plain": [
       "tensor([[-1.1644e-01,  1.1722e-01, -5.2990e-01, -7.1775e-02, -1.1452e-01,\n",
       "         -4.4224e-01, -3.4904e-01,  3.7265e-02,  3.5723e-01, -4.2333e-01,\n",
       "         -4.6506e-01, -2.9983e-01, -2.1870e-01,  7.5900e-01,  4.3989e-01,\n",
       "         -1.7023e-01,  3.1625e-01,  5.2177e-01,  1.3502e-01,  3.9810e-01,\n",
       "          2.0435e-01,  5.9238e-01,  2.3352e-01,  2.4914e-01,  4.5444e-01,\n",
       "         -1.8954e-01, -1.0180e-02, -3.7389e-02, -1.3363e-01,  1.2851e-01,\n",
       "          3.1765e-01,  2.2889e-01,  4.9238e-01, -6.5377e-01, -1.8661e-01,\n",
       "          3.5880e-01,  4.0051e-01,  1.2025e-02, -1.7191e-01, -1.9187e-01,\n",
       "         -2.5920e-01, -3.0213e-01,  2.0843e-01, -1.1795e-01,  3.5241e-01,\n",
       "          4.9276e-01, -7.7064e-02, -2.3672e-01,  3.6729e-01,  2.9998e-01,\n",
       "         -1.4670e-01,  5.4048e-03,  5.0838e-03,  3.3024e-01,  2.5163e-01,\n",
       "          3.9649e-01, -1.5534e-01, -4.3829e-01, -5.9374e-02,  8.8648e-02,\n",
       "          4.6414e-01,  4.7064e-01, -8.0573e-03, -4.2897e-02,  2.1287e-01,\n",
       "         -2.1086e-01, -6.5799e-01, -1.2886e-01,  2.2007e-01, -3.5810e-01,\n",
       "          2.2082e-02,  2.7329e-01,  2.3794e-01, -3.7508e-01, -1.1498e-02,\n",
       "          2.4951e-01, -3.0959e-01, -6.2647e-01,  4.2875e-02, -1.6184e-01,\n",
       "         -7.9970e-02,  3.1174e-01, -1.6203e-01,  3.1219e-01,  1.1248e-01,\n",
       "          7.0929e-01, -2.7939e-01, -3.2968e-02, -2.3369e-02,  3.8107e-02,\n",
       "          8.2166e-02,  9.3985e-01, -5.5441e-02,  2.1027e-01, -5.4951e-01,\n",
       "         -6.8254e-02, -3.8481e-01,  1.3251e-01,  1.0452e-01,  2.5519e-02,\n",
       "          2.9108e-01,  6.0581e-01,  1.0921e-01,  3.8577e-01,  1.4532e-01,\n",
       "         -8.1102e-02, -1.5403e-01,  1.5163e-01,  1.4501e-01,  2.5298e-01,\n",
       "          3.9265e-01,  3.8127e-02,  1.2204e-01, -1.8871e-01, -3.0459e-01,\n",
       "          5.0667e-01, -6.2819e-01, -2.4620e-02,  3.9352e-01, -3.7608e-01,\n",
       "         -6.7533e-02,  7.1598e-01,  4.0982e-01,  2.5371e-01, -2.0408e-01,\n",
       "          1.3398e+00,  4.5688e-01,  6.9322e-02,  4.6751e-01, -9.3449e-01,\n",
       "         -1.6028e-02,  3.7178e-01,  2.8334e-01, -4.4482e-01,  3.7906e-01,\n",
       "         -2.9523e-01,  6.1701e-03, -6.4786e-01,  8.8948e-01,  3.8380e-01,\n",
       "         -8.4014e-02, -8.4604e-02,  5.7003e-03, -2.0373e-01,  2.0231e-01,\n",
       "          6.5184e-01, -3.5997e-01,  1.3437e-01,  1.6346e-01, -1.4864e-01,\n",
       "          9.7441e-02, -3.8334e-01,  7.0378e-01, -2.0822e-01,  2.6138e-01,\n",
       "         -2.1765e-01, -1.2971e-01,  3.2808e-01, -1.6847e-01,  3.6913e-01,\n",
       "          7.0630e-02, -5.9944e-01, -1.8111e-01, -7.1704e-02,  3.9759e-01,\n",
       "         -1.3896e-01, -3.4851e-01,  2.4074e-01, -1.6696e-02, -7.2096e-02,\n",
       "          1.7382e-01, -2.0511e-01,  5.0412e-02,  5.9127e-01,  1.6840e-01,\n",
       "          2.6109e-01, -5.7425e-01, -2.6281e-01,  5.3191e-01,  5.3658e-01,\n",
       "          6.0787e-02, -2.5109e-01,  1.2418e-02,  2.8824e-01,  3.3283e-01,\n",
       "         -1.9768e-01, -1.5978e-01,  3.6073e-01,  4.7583e-02, -3.4726e-02,\n",
       "         -3.1700e-01,  5.3165e-01, -1.3327e-01, -7.8327e-02,  1.7380e-01,\n",
       "         -1.6976e-01,  3.3858e-01, -2.9578e-01, -1.7816e-01,  5.4796e-03],\n",
       "        [ 8.7240e-02, -1.1201e-01,  8.6759e-02,  3.9807e-02, -1.7820e-01,\n",
       "         -1.9830e-01,  6.4176e-01,  2.6422e-01,  5.9945e-01,  2.5463e-01,\n",
       "         -1.0545e-01, -4.6443e-01, -5.4746e-01,  3.7474e-01,  4.0077e-01,\n",
       "         -3.3689e-01, -8.2436e-02, -1.4083e-01, -1.1048e-01,  1.0960e-01,\n",
       "          5.3322e-02, -4.8679e-01,  3.3230e-02,  2.7308e-01,  2.6564e-01,\n",
       "          5.2396e-01,  2.3813e-01,  2.8531e-01,  1.9906e-01,  1.0011e-01,\n",
       "          1.6095e-01,  3.9158e-01,  4.2509e-01,  7.3396e-01,  4.1493e-01,\n",
       "         -7.0384e-02,  7.4355e-01,  4.0812e-02, -2.4138e-02, -1.4498e-01,\n",
       "          1.6988e-01, -3.9240e-01, -5.5974e-01,  2.2559e-01, -2.1882e-01,\n",
       "         -3.7593e-01, -6.6338e-01,  2.3514e-01,  5.0112e-03, -1.0946e-01,\n",
       "          1.6563e-01,  3.0588e-01, -4.0572e-01,  4.5727e-01, -5.3174e-02,\n",
       "         -9.1168e-02, -5.4697e-02,  1.1088e-01,  5.3556e-02,  5.0099e-01,\n",
       "         -2.8537e-01, -2.5384e-01, -1.0845e-01, -5.1740e-01, -7.5822e-01,\n",
       "         -3.8242e-01, -2.0437e-01, -1.0451e-02, -3.9877e-01, -7.4487e-01,\n",
       "         -1.4992e-01,  9.7632e-02, -5.9499e-02,  1.0812e-01,  5.1570e-01,\n",
       "          5.8124e-01, -1.2930e-01, -3.9828e-01, -1.3958e-01,  1.1931e-01,\n",
       "         -3.7935e-01, -4.7805e-01,  7.9089e-02,  2.5145e-01, -1.2784e-01,\n",
       "          8.9764e-02, -6.1403e-02, -6.5362e-01, -2.6336e-01, -4.9542e-01,\n",
       "          2.7924e-01, -1.3313e-01, -4.7571e-01, -1.4927e-01,  1.6317e-01,\n",
       "          1.8416e-01, -5.2847e-01,  8.0991e-01, -3.8181e-01, -5.1216e-01,\n",
       "         -2.5804e-01, -3.9509e-01, -6.0868e-01, -6.5793e-02, -6.0083e-01,\n",
       "          4.7296e-01, -5.1424e-01,  1.9154e-01, -3.1918e-01, -1.4006e-01,\n",
       "          5.3439e-01, -1.4353e-01,  1.0275e-01, -1.7756e-01, -1.8304e-01,\n",
       "         -3.7314e-02, -2.5560e-01, -2.2217e-01, -3.1902e-01,  1.1910e-01,\n",
       "          3.5840e-01, -2.7059e-01, -5.7456e-01,  2.1533e-01, -1.7932e-01,\n",
       "         -2.5594e-02,  5.3254e-02,  3.0126e-01, -5.5988e-03,  2.2369e-01,\n",
       "         -1.8871e-01,  4.2360e-01,  3.2280e-01,  5.2124e-01,  3.0518e-01,\n",
       "          7.9033e-01,  3.3137e-01, -7.3581e-02, -3.1218e-01, -2.3730e-01,\n",
       "         -1.6343e-01, -7.9508e-01, -3.0717e-01,  3.7084e-01, -5.4452e-01,\n",
       "         -2.2089e-02, -4.4438e-01,  3.1625e-01,  1.1320e-01, -4.2121e-01,\n",
       "          2.2675e-01,  1.6230e-01,  7.8403e-02,  3.7707e-01, -1.6757e-01,\n",
       "          4.4723e-01, -1.3650e-01,  1.5392e-02,  1.4801e-01, -2.2636e-01,\n",
       "          1.9783e-01, -1.8291e-01, -1.3208e-01, -2.7530e-01, -9.0819e-02,\n",
       "         -3.6195e-01,  1.5531e-01, -2.2974e-01,  3.8872e-02, -3.0936e-01,\n",
       "         -1.6913e-01, -1.4676e-01,  5.1476e-02, -1.2569e-01, -9.8093e-02,\n",
       "          2.6673e-01, -2.8773e-01,  2.5835e-01,  2.0443e-01,  2.6720e-01,\n",
       "          1.8284e-01,  2.8707e-01, -2.9391e-01, -6.2042e-01,  4.1406e-01,\n",
       "          1.9783e-01, -5.6798e-02, -4.4933e-01,  1.8566e-01, -3.5600e-01,\n",
       "          4.6776e-01,  1.3256e-01,  3.8329e-01, -1.4136e-01,  2.9900e-01,\n",
       "          3.9136e-01,  2.1096e-01, -4.3341e-01, -4.9946e-01,  1.7469e-01],\n",
       "        [-8.9065e-02,  1.4113e-01,  1.3548e-01, -3.3770e-01, -2.6094e-01,\n",
       "          2.1188e-02, -8.5465e-01,  5.5131e-01,  6.7233e-01,  1.2223e-01,\n",
       "         -2.8919e-03, -5.4126e-01, -5.1679e-01,  2.1290e-01, -1.1033e-01,\n",
       "         -7.8737e-01, -1.4773e-01, -5.2780e-01,  8.1355e-01,  1.8357e-01,\n",
       "         -2.3462e-01,  1.1478e-01, -6.0201e-01,  1.1211e-01, -7.3739e-03,\n",
       "         -2.2159e-01, -2.8105e-01, -3.0426e-01, -1.9599e-01,  4.5420e-01,\n",
       "         -3.3142e-01,  1.6089e-01,  4.8941e-02, -5.0627e-01, -5.3139e-01,\n",
       "         -2.4939e-01,  1.7343e-02, -4.3816e-01,  5.0463e-01,  3.2155e-01,\n",
       "         -3.8727e-02,  2.2628e-01, -3.4694e-01,  3.7427e-01, -2.7067e-01,\n",
       "         -2.4990e-01, -2.2062e-01,  4.4688e-01,  4.0230e-01,  9.8940e-02,\n",
       "          2.8070e-01, -1.3403e-01,  5.8180e-01,  1.0011e-01, -1.0179e-01,\n",
       "         -9.3612e-02,  2.3145e-02,  5.3478e-01, -1.7072e-01, -6.0553e-02,\n",
       "          4.9190e-01,  1.1706e-01, -5.7637e-01,  1.7565e-01,  1.0457e-01,\n",
       "          1.8615e-01,  1.7810e-01,  4.3597e-01,  2.4933e-02, -4.7112e-01,\n",
       "          9.7766e-04,  1.0323e-01, -3.2341e-01, -5.4018e-02,  1.4988e-02,\n",
       "          1.2931e-01, -2.5214e-01,  1.5717e-01,  2.1915e-01, -1.1847e-01,\n",
       "          2.7689e-01,  2.4556e-03,  8.6096e-02, -5.9557e-01, -2.1670e-02,\n",
       "         -1.7481e-01, -9.5806e-03,  1.1200e-01,  1.7341e-01,  5.9712e-01,\n",
       "         -3.1490e-01,  8.5209e-02,  1.6035e-01,  3.9341e-02, -3.2418e-01,\n",
       "         -8.2304e-01, -1.4526e-01,  3.4782e-01, -2.3279e-02, -6.8479e-01,\n",
       "          1.1918e-01, -4.6787e-01,  1.0962e-01, -1.6366e-01,  4.6664e-02,\n",
       "          5.4389e-03, -1.6084e-01,  2.9076e-01, -1.6021e-01, -3.8119e-01,\n",
       "          4.9892e-02,  1.7072e-01, -3.6328e-01,  2.8633e-01, -3.2542e-01,\n",
       "         -4.3660e-01,  2.9413e-01,  8.0683e-01, -8.0442e-02, -2.0686e-01,\n",
       "          5.7258e-01, -3.7992e-01, -2.9938e-01,  3.9440e-02, -6.5006e-02,\n",
       "         -4.1198e-02, -1.8134e-01,  2.6675e-02,  1.5942e-01, -7.6423e-02,\n",
       "         -4.6613e-02, -3.5973e-01,  2.8450e-01, -8.6829e-02, -2.6745e-03,\n",
       "          3.8686e-01, -3.9286e-02,  3.5131e-01, -3.8001e-01,  4.7996e-01,\n",
       "         -3.8287e-01, -4.8500e-01,  2.5564e-01,  8.5068e-02, -1.6480e-01,\n",
       "          2.9721e-02,  1.8535e-01,  2.2881e-02,  2.2891e-01, -2.4926e-01,\n",
       "         -7.2955e-01, -2.9905e-01,  3.7014e-03,  3.2427e-01, -4.1004e-01,\n",
       "          1.7245e-01,  1.2499e-01, -3.4221e-01,  3.9318e-01, -4.7046e-01,\n",
       "          3.4300e-01, -5.0975e-01, -1.0041e-01, -1.7254e-01, -3.1581e-02,\n",
       "          1.9617e-01, -7.6649e-03,  1.0362e+00,  7.3818e-02, -2.8955e-01,\n",
       "         -2.0056e-01, -6.5613e-02,  7.6114e-02,  2.5039e-02, -3.0504e-01,\n",
       "         -2.7908e-01, -4.9661e-02, -7.9060e-01, -4.1235e-01, -4.6210e-01,\n",
       "          1.7569e-01,  3.9391e-01, -5.1903e-02,  2.5722e-01, -6.1908e-02,\n",
       "          1.7431e-01,  2.8942e-01,  2.1678e-01,  1.7481e-01, -2.0422e-02,\n",
       "         -5.9771e-01, -6.8163e-04,  1.3159e-01, -4.3542e-02,  2.7356e-01,\n",
       "         -3.6113e-01, -3.0232e-01, -1.7741e-01, -1.3000e-01,  4.7651e-01]])"
      ]
     },
     "execution_count": 36,
     "metadata": {},
     "output_type": "execute_result"
    }
   ],
   "source": [
    "true_beta"
   ]
  }
 ],
 "metadata": {
  "kernelspec": {
   "display_name": "Python 3",
   "language": "python",
   "name": "python3"
  },
  "language_info": {
   "codemirror_mode": {
    "name": "ipython",
    "version": 3
   },
   "file_extension": ".py",
   "mimetype": "text/x-python",
   "name": "python",
   "nbconvert_exporter": "python",
   "pygments_lexer": "ipython3",
   "version": "3.6.13"
  }
 },
 "nbformat": 4,
 "nbformat_minor": 4
}
