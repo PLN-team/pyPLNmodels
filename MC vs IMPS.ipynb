{
 "cells": [
  {
   "cell_type": "code",
   "execution_count": 1,
   "metadata": {},
   "outputs": [],
   "source": [
    "import torch \n",
    "import math "
   ]
  },
  {
   "cell_type": "code",
   "execution_count": 2,
   "metadata": {},
   "outputs": [],
   "source": [
    "true_nu = .286652*10e-7"
   ]
  },
  {
   "cell_type": "markdown",
   "metadata": {},
   "source": [
    "## Classic Monte-Carlo  "
   ]
  },
  {
   "cell_type": "code",
   "execution_count": 3,
   "metadata": {},
   "outputs": [],
   "source": [
    "N_s = int(10e+5)"
   ]
  },
  {
   "cell_type": "code",
   "execution_count": 11,
   "metadata": {},
   "outputs": [
    {
     "name": "stdout",
     "output_type": "stream",
     "text": [
      "Estimation of nu with MC methods : 0.0\n",
      "True nu : 2.86652e-07\n"
     ]
    }
   ],
   "source": [
    "x = torch.randn(N_s)\n",
    "nu_MC =1/N_s*torch.sum(x>5)\n",
    "print('Estimation of nu with MC methods :', nu_MC.item())\n",
    "print('True nu :', true_nu)"
   ]
  },
  {
   "cell_type": "markdown",
   "metadata": {},
   "source": [
    "## Importance sampling "
   ]
  },
  {
   "cell_type": "code",
   "execution_count": 12,
   "metadata": {},
   "outputs": [],
   "source": [
    "def gauss_density(x,mu): \n",
    "    return 1/math.sqrt(2*math.pi)*torch.exp(-1/2*(x-mu)**2)"
   ]
  },
  {
   "cell_type": "code",
   "execution_count": 40,
   "metadata": {},
   "outputs": [],
   "source": [
    "N_s = 100\n",
    "mu_prop = 5"
   ]
  },
  {
   "cell_type": "code",
   "execution_count": 41,
   "metadata": {},
   "outputs": [],
   "source": [
    "V = torch.randn(N_s)+mu_prop\n",
    "w = gauss_density(V,0)/gauss_density(V, mu_prop)\n"
   ]
  },
  {
   "cell_type": "code",
   "execution_count": 42,
   "metadata": {},
   "outputs": [
    {
     "name": "stdout",
     "output_type": "stream",
     "text": [
      "Estimation of nu with importance sampling : 3.5905512163481035e-07\n",
      "True nu : 2.86652e-07\n"
     ]
    }
   ],
   "source": [
    "nu_IMPS = torch.mean(w*(V>mu_prop))\n",
    "print('Estimation of nu with importance sampling :', nu_IMPS.item())\n",
    "print('True nu :', true_nu)"
   ]
  },
  {
   "cell_type": "code",
   "execution_count": null,
   "metadata": {},
   "outputs": [],
   "source": []
  }
 ],
 "metadata": {
  "kernelspec": {
   "display_name": "Python 3",
   "language": "python",
   "name": "python3"
  },
  "language_info": {
   "codemirror_mode": {
    "name": "ipython",
    "version": 3
   },
   "file_extension": ".py",
   "mimetype": "text/x-python",
   "name": "python",
   "nbconvert_exporter": "python",
   "pygments_lexer": "ipython3",
   "version": "3.8.8"
  }
 },
 "nbformat": 4,
 "nbformat_minor": 4
}
