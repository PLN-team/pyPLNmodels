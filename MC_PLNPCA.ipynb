{
 "cells": [
  {
   "cell_type": "code",
   "execution_count": 1,
   "metadata": {},
   "outputs": [
    {
     "name": "stdout",
     "output_type": "stream",
     "text": [
      "device :  cpu\n"
     ]
    }
   ],
   "source": [
    "import numpy as np \n",
    "import matplotlib.pyplot as plt\n",
    "from scipy.linalg import toeplitz\n",
    "from utils import sample_PLN\n",
    "import scipy.linalg as SLA\n",
    "import torch.linalg as TLA\n",
    "import scipy\n",
    "from fastPLN import fastPLN\n",
    "from scipy.special import factorial\n",
    "import math\n",
    "import seaborn as sns \n",
    "import torch \n",
    "from pandas import read_csv\n",
    "import math\n",
    "import time\n",
    "import scipy.integrate as integrate \n",
    "from matplotlib import cm\n",
    "from mpl_toolkits.mplot3d import Axes3D\n",
    "from fastPLN import fastPLN\n",
    "import threading\n",
    "from tqdm import tqdm\n",
    "#torch.set_default_dtype(torch.float64)\n",
    "from sklearn.linear_model import LinearRegression\n",
    "import concurrent.futures"
   ]
  },
  {
   "cell_type": "code",
   "execution_count": 2,
   "metadata": {},
   "outputs": [],
   "source": [
    "device = torch.device('cpu')"
   ]
  },
  {
   "cell_type": "code",
   "execution_count": 3,
   "metadata": {},
   "outputs": [
    {
     "data": {
      "text/plain": [
       "'1.9.0+cu102'"
      ]
     },
     "execution_count": 3,
     "metadata": {},
     "output_type": "execute_result"
    }
   ],
   "source": [
    "torch.__version__"
   ]
  },
  {
   "cell_type": "code",
   "execution_count": 4,
   "metadata": {},
   "outputs": [],
   "source": [
    "%load_ext autoreload\n",
    "\n",
    "%autoreload 2"
   ]
  },
  {
   "cell_type": "markdown",
   "metadata": {},
   "source": [
    "### Implementation\n",
    "\n",
    "We first define some functions that will help implement and visualize the model. "
   ]
  },
  {
   "cell_type": "code",
   "execution_count": 5,
   "metadata": {},
   "outputs": [],
   "source": [
    "def build_block_Sigma(p,k): \n",
    "    '''\n",
    "    build a matrix per block of size (p,p). There will be k+1 blocks of size p//k.\n",
    "    The first k ones will be the same size. The last one will be different (size (0,0) if k%p = 0)\n",
    "    '''\n",
    "    np.random.seed(0)\n",
    "    alea = np.random.randn(k+1)**2+1# will multiply each block by some random quantities \n",
    "    Sigma = np.zeros((p,p))\n",
    "    block_size,last_block_size = p//k, p%k\n",
    "    for i in range(k): \n",
    "        Sigma[i*block_size : (i+1)*block_size ,i*block_size : (i+1)*block_size] = alea[i]*toeplitz(0.7**np.arange(block_size))\n",
    "    if last_block_size >0 :\n",
    "        Sigma[-last_block_size:,-last_block_size:] = alea[k]*toeplitz(0.7**np.arange(last_block_size))\n",
    "    return Sigma+0.1*toeplitz(0.95**np.arange(p))\n",
    "\n",
    "\n",
    "def C_from_Sigma(Sigma,q): \n",
    "    ''' \n",
    "    get the best matrix of size (p,q) when Sigma is of size (p,p). i.e. reduces norm(Sigma-C@C.T)\n",
    "    args : \n",
    "        Sigma : np.array of size (p,p). Should be positive definite and symmetric.\n",
    "        q : int. The number of columns you want in your matrix C. \n",
    "        \n",
    "    returns : C_reduct : np.array of size (p,q) that contains the q eigenvectors with largest eigenvalues. \n",
    "    '''\n",
    "    w,v = SLA.eigh(Sigma) # get the eigenvaluues and eigenvectors\n",
    "    C_reduct = v[:,-q:]@np.diag(np.sqrt(w[-q:])) # we take only the q best. \n",
    "    return C_reduct"
   ]
  },
  {
   "cell_type": "code",
   "execution_count": 6,
   "metadata": {},
   "outputs": [],
   "source": [
    "def compare_models(dict_models,name_doss , save = False):\n",
    "    '''\n",
    "    function to compare models. It will plot the MSE of Sigma and beta according to the true parameters and \n",
    "    the log_likelihood in the y axis with the runtime in the x-axis.\n",
    "    \n",
    "    args : \n",
    "        'dict_models' dict with key the name of the model and values the model (MC_PLNPCA object where you\n",
    "                      have called model.fit_IMPS()).\n",
    "        'name_doss' : str. the name of the file you want to save the graphic. \n",
    "        'save' : bool. If True, the figure will be saved. If false, won't be saved. \n",
    "        \n",
    "    returns : \n",
    "            None but displays the figure. you can save the figure if save = True\n",
    "    '''\n",
    "    best_model = MC_PLNPCA(q, batch_size, true_value = True)\n",
    "    best_model.init_data(Y_sampled, O, covariates)\n",
    "    \n",
    "    \n",
    "    #get the max of all the likelihoods for a nice plot. We intialize the max with the likelihood of the \n",
    "    # model that has the true parameters (unknown in practice) \n",
    "    best_log_like = best_model.compute_mean_log_likelihood(0.0001)\n",
    "    max_ = best_log_like\n",
    "    for name,model in dict_models.items():\n",
    "        current_max = np.max(np.array(model.log_likelihood_list))\n",
    "        max_ = max(max_,current_max)\n",
    "    fig,ax = plt.subplots(3,1,figsize = (15,15))\n",
    "    \n",
    "    \n",
    "    \n",
    "    ax[0].axhline(best_MSE_Sigma, label = 'MLE latent layer ')\n",
    "    ax[1].axhline(best_MSE_beta, label = 'MLE latent layer')\n",
    "    for name,model in dict_models.items() : \n",
    "        \n",
    "        d = model.beta.shape[0]\n",
    "\n",
    "        abscisse = model.running_times\n",
    "        plt.subplots_adjust(hspace = 0.4)\n",
    "        ax[0].plot(abscisse, model.MSE_Sigma_list, label = name)\n",
    "        ax[0].legend()\n",
    "        ax[0].set_title('MSE Sigma')\n",
    "        \n",
    "        #ax[0].set_xlabel('Seconds')\n",
    "        ax[0].set_ylabel('MSE')\n",
    "        ax[0].set_yscale('log')\n",
    "        #ax[0].set_yticks()\n",
    "        \n",
    "        ax[1].plot(abscisse, model.MSE_beta_list, label = name)\n",
    "        ax[1].legend()\n",
    "        ax[1].set_title('MSE beta') \n",
    "        \n",
    "        #ax[1].set_xlabel('Seconds')\n",
    "        ax[1].set_ylabel('MSE')\n",
    "        ax[1].set_yscale('log')\n",
    "        \n",
    "        \n",
    "        \n",
    "        \n",
    "        ax[2].plot(abscisse, np.array(model.log_likelihood_list)-max_, label = name )\n",
    "        ax[2].legend()\n",
    "        ax[2].set_title('log_likelihood')\n",
    "        ax[2].set_ylabel('log_likelihood')\n",
    "        ax[2].set_yscale('symlog')\n",
    "        #ax[2].set_xlabel('Seconds')\n",
    "    \n",
    "    ax[2].axhline(np.array(best_log_like)-max_, c = 'red', label = 'best likelihood')\n",
    "    plt.suptitle(name_doss)\n",
    "    if save : \n",
    "        plt.savefig(name_doss)\n",
    "    plt.show()\n",
    "    \n",
    "\n",
    "def show(model,name_doss , save = False):\n",
    "    '''\n",
    "    function to show one model. It will plot the MSE of Sigma and beta according to the true parameters and \n",
    "    the log_likelihood in the y axis with the runtime in the x-axis.Will also plot the norm of the gradients and \n",
    "    the variance of the weights used for the importance sampling. \n",
    "    \n",
    "    args : \n",
    "        'model' MC_PLNPCA object where you have called model.fit_IMPS()\n",
    "        'name_doss' : str. the name of the file you want to save the graphic. \n",
    "        'save' : bool. If True, the graphic will be saved. If false, won't be saved. \n",
    "        \n",
    "    returns : \n",
    "            None but displays the figure. It can also save the figure if save = True. \n",
    "    '''\n",
    "    best_model = MC_PLNPCA(q, batch_size, true_value = True)\n",
    "    best_model.init_data(Y_sampled, O, covariates)\n",
    "    fig,ax = plt.subplots(7,1,figsize = (15,15))\n",
    "    \n",
    "    best_log_like = best_model.compute_mean_log_likelihood(0.0001)\n",
    "    max_ = max(best_log_like,np.max(np.array(model.log_likelihood_list)))\n",
    "    \n",
    "        \n",
    "    d = model.beta.shape[0]\n",
    "    #MSE of Sigma\n",
    "    abscisse = model.running_times\n",
    "    plt.subplots_adjust(hspace = 0.4)\n",
    "    ax[0].plot(abscisse, model.MSE_Sigma_list)\n",
    "    ax[0].set_title('MSE Sigma')\n",
    "    ax[0].axhline(best_MSE_Sigma, label = 'MLE latent layer ', c = 'red', linestyle = '--')\n",
    "    ax[0].set_xlabel('Seconds')\n",
    "    ax[0].set_ylabel('MSE')\n",
    "    ax[0].set_yscale('log')\n",
    "    \n",
    "    #MSE of beta. \n",
    "    ax[1].plot(abscisse, model.MSE_beta_list)\n",
    "    ax[1].set_title('MSE beta') \n",
    "    ax[1].axhline(best_MSE_beta, label = 'MLE latent layer', c = 'red', linestyle = '--')\n",
    "    ax[1].set_ylabel('MSE')\n",
    "    ax[1].set_yscale('log')\n",
    "    ax[1].legend()\n",
    "    \n",
    "    #log likelihood of the model. will also plot the log likelihood of the model with the true parameters. \n",
    "    ax[2].plot(abscisse, np.array(model.log_likelihood_list)-max_)\n",
    "    ax[2].set_title('log_likelihood')\n",
    "    ax[2].set_ylabel('log_likelihood')\n",
    "    ax[2].set_xlabel('Seconds')\n",
    "    best_log_like = best_model.compute_mean_log_likelihood(0.0001)\n",
    "    #variational_log_like = variational_model.compute_mean_log_likelihood(0.0001)[0].item()\n",
    "    #ax[2].axhline(variational_log_like, c = 'black', label = 'variaitional likelihood')\n",
    "    ax[2].axhline(best_log_like-max_, c = 'red', label = 'best likelihood')\n",
    "    ax[2].set_yscale('symlog')\n",
    "    ax[2].legend()\n",
    "    \n",
    "    # plot the L1 norm of the gradients. \n",
    "    ax[3].plot(abscisse, model.norm_grad_log_C_list, label = 'norm grad loglike C')\n",
    "    ax[3].plot(abscisse, model.norm_grad_log_beta_list, label = 'norm grad loglike beta')\n",
    "    ax[3].set_title('Norm Gradients loglike ')\n",
    "    ax[3].set_ylabel('L1 norm')\n",
    "    ax[3].set_yscale('log')\n",
    "    ax[3].legend()\n",
    "    \n",
    "\n",
    "    #here we plot the variance for the 3 integrals. We set a threshold from which we consider that the integral \n",
    "    # is misestimate if the variance of the weights is above. \n",
    "    threshold = 0.9\n",
    "    # integral for beta \n",
    "    ax[4].scatter( np.linspace(0,abscisse[-1], model.var_weights['beta'].shape[0]), model.var_weights['beta'],s = 1, label = 'variance of the weights for beta', c = 'black')\n",
    "    percentage_bad_beta = np.sum(model.var_weights['beta']>threshold)/(model.var_weights['beta'].shape[0])\n",
    "    ax[4].axhline(model.acc, c = 'red', label = 'reference')\n",
    "    ax[4].set_title('Variance beta, pourcentage of bad approximations : '+ str(np.round(percentage_bad_beta,3)))\n",
    "    ax[4].set_yscale('log')\n",
    "    ax[4].legend()\n",
    "    \n",
    "    #integral for C_exp\n",
    "    ax[5].scatter( np.linspace(0,abscisse[-1], model.var_weights['C_exp'].shape[0]), model.var_weights['C_exp'],s = 1, label = 'variance of the weights for C_exp')\n",
    "    percentage_bad_exp_C = np.sum(model.var_weights['C_exp']>threshold)/(model.var_weights['C_exp'].shape[0])\n",
    "    ax[5].axhline(model.acc, c = 'red', label = 'reference')\n",
    "    ax[5].set_title('Variance exp_C, pourcentage of bad approximations : '+ str(np.round(percentage_bad_exp_C,3)))\n",
    "    ax[5].set_yscale('log')\n",
    "    ax[5].legend()\n",
    "    \n",
    "    #integral for C_W\n",
    "    ax[6].scatter( np.linspace(0,abscisse[-1], model.var_weights['C_W'].shape[0]), model.var_weights['C_W'],s = 1, label = 'variance of the weights for W', c = 'red')\n",
    "    percentage_bad_C_W= np.sum(model.var_weights['C_W']>threshold)/(model.var_weights['C_W'].shape[0])\n",
    "    ax[6].scatter( np.linspace(0,abscisse[-1], model.var_weights['C_W'].shape[0]), model.var_weights['C_W'],s = 1, label = 'variance of the weights for W', c = 'red')\n",
    "    ax[6].set_title('Variance C_W, pourcentage of bad approximations : '+ str(np.round(percentage_bad_C_W,3)))\n",
    "    ax[6].axhline(model.acc, c = 'red', label = 'reference')\n",
    "    ax[6].set_yscale('log')\n",
    "    ax[6].legend()\n",
    "    \n",
    "    if save : \n",
    "        plt.savefig(name_doss)\n",
    "    plt.show()\n",
    "        \n",
    "\n",
    "#show(model, '', save = False)\n",
    "\n",
    "\n"
   ]
  },
  {
   "cell_type": "code",
   "execution_count": 7,
   "metadata": {},
   "outputs": [],
   "source": [
    "#compare_models(dict_lrs,'',save = False)"
   ]
  },
  {
   "cell_type": "code",
   "execution_count": 8,
   "metadata": {},
   "outputs": [
    {
     "ename": "NameError",
     "evalue": "name 'q' is not defined",
     "output_type": "error",
     "traceback": [
      "\u001b[0;31m---------------------------------------------------------------------------\u001b[0m",
      "\u001b[0;31mNameError\u001b[0m                                 Traceback (most recent call last)",
      "\u001b[0;32m<timed exec>\u001b[0m in \u001b[0;36m<module>\u001b[0;34m\u001b[0m\n",
      "\u001b[0;31mNameError\u001b[0m: name 'q' is not defined"
     ]
    }
   ],
   "source": [
    "def find_best_lr(optimizer,N_iter, acc, lrs, q, batch_size, average,var_beta, var_C):\n",
    "    '''\n",
    "    function that is supposed to find the best lr within a grid of lr (lrs) for \n",
    "    an optimizer to fit the MC_PLNPCA method. the metric used\n",
    "    to discriminate each lr is the log likelihood. We parallelized the code to go faster. \n",
    "    \n",
    "    args: otpimizer : should be an object of torch.optim., for example torch.optim.Rprop. \n",
    "    \n",
    "        N_iter : int. The number of iterations you want to do when running the .fit_IMPS method.\n",
    "    \n",
    "        acc : float positive. the accuracy you want when running the .fit_IMPS method. \n",
    "        \n",
    "        lrs : list. the grid of lr.\n",
    "        \n",
    "        q : the dimension q you want for the model. should be small.  \n",
    "        \n",
    "        batch_size : int. The batch_size you want  when running the .fit_IMPS method.\n",
    "        \n",
    "        average : int. the average argument for the model. \n",
    "        \n",
    "        var_beta : positive float. the variance you want for the importance law for the integral that determines the gradient\n",
    "                  of beta. \n",
    "                  \n",
    "        var_C : positive float. The variance you want for the importance law for the integral\n",
    "                that determines the gradient of C. \n",
    "        \n",
    "        \n",
    "    returns : the best lr according to the metric\n",
    "    '''\n",
    "    #initiate some lists. \n",
    "    metrics = list()\n",
    "    models = list()\n",
    "    ts = list()\n",
    "    # launch the models with the right lr. \n",
    "    for lr in lrs: \n",
    "        model = MC_PLNPCA(q,batch_size, average = average, is_perfect_mean= False,true_value = False, var_beta = var_beta, var_C = var_C)\n",
    "        t = threading.Thread(target =model.fit_IMPS,\n",
    "                            args = [Y_sampled, O,covariates, N_iter          ,acc, lr     , optimizer] )\n",
    "        #t =threading.Thread(target = model.fit_torch,\n",
    "        #      args = [Y_sampled, O,covariates, N_iter          ,acc, lr     , optimizer] )\n",
    "        t.start()\n",
    "        ts.append(t)\n",
    "        models.append(model)\n",
    "        \n",
    "    # join each threading. \n",
    "    for t in ts: \n",
    "        t.join()\n",
    "    # get the metrics for each model. \n",
    "    for i, model in enumerate(models) :\n",
    "        metrics.append(np.mean(np.array(model.log_likelihood_list)))\n",
    "    metrics = np.nan_to_num(np.array(metrics),-100000)\n",
    "    argmax = np.argmax(metrics)#argmax of the metrics \n",
    "    best_lr = lrs[argmax]\n",
    "    return best_lr, dict(zip(lrs,models)), models[argmax]  #the best lr, the dict in case \n",
    "                                                           # we need it to comopare, and the best model. \n",
    "\n",
    "def find_best_var_beta(optimizer,N_iter, acc, lr,vars_, q, batch_size, average):\n",
    "    '''\n",
    "    function that is supposed to find the best var within a grid of varaince (vars_) for the importance law\n",
    "    that infers the integral for the gradient wrt beta. the metric used\n",
    "    to discriminate each variance is the log likelihood. We parallelized the code to go faster. \n",
    "    \n",
    "    args: optimizer : should be an object of torch.optim., for example torch.optim.Rprop. \n",
    "    \n",
    "        N_iter : int. The number of iterations you want to do when running the .fit_IMPS method.\n",
    "    \n",
    "        acc : float positive. the accuracy you want when running the .fit_IMPS method. \n",
    "        \n",
    "        lr : positive float. the learning rate you want. \n",
    "        \n",
    "        vars_ : list. the variance you want to try.\n",
    "        \n",
    "        q : the dimension q you want for the model. \n",
    "        \n",
    "        batch_size : int. The batch_size you want  when running the .fit_IMPS method.\n",
    "        \n",
    "        average : int. the average argument for the model. \n",
    "        \n",
    "    returns : the best variance according to the metric\n",
    "    '''\n",
    "    #initiate some lists. \n",
    "    metrics = list()\n",
    "    models = list()\n",
    "    ts = list()\n",
    "    # launch the models with the right variance.\n",
    "    for var in vars_: \n",
    "        model = MC_PLNPCA(q,batch_size, average = average, is_perfect_mean= False,true_value = False,var_beta = var)\n",
    "        t = threading.Thread(target =model.fit_IMPS,\n",
    "                            args = [Y_sampled, O,covariates, N_iter,          acc, lr,  optimizer, True, False] )\n",
    "        #t =threading.Thread(target = model.fit_torch,\n",
    "        #      args = [Y_sampled, O,covariates, N_iter          ,acc, lr     , optimizer] )\n",
    "        t.start()\n",
    "        ts.append(t)\n",
    "        models.append(model)\n",
    "        \n",
    "    # join each threading. \n",
    "    for t in ts: \n",
    "        t.join()\n",
    "    # get the metrics for each model. \n",
    "    for i, model in enumerate(models) :\n",
    "        metrics.append(np.mean(np.array(model.log_likelihood_list)))\n",
    "    metrics = np.nan_to_num(np.array(metrics),-100000)\n",
    "    argmax = np.argmax(metrics)#argmin of the metrics \n",
    "    best_var = vars_[argmax]\n",
    "    return best_var, dict(zip(vars_,models)), models[argmax]  #the best lr, the dict in \n",
    "                                                              # case we need it, the best model\n",
    "\n",
    "def find_best_var_C(optimizer,N_iter, acc, lr,vars_, q, batch_size, average):\n",
    "    '''\n",
    "    function that is supposed to find the best var within a grid of varaince (vars_) for the importance law\n",
    "    that infers the integrals for the gradient wrt C. the metric used\n",
    "    to discriminate each variance is the log likelihood. We parallelized the code to go faster. \n",
    "    \n",
    "    args: otpimizer : should be an object of torch.optim., for example torch.optim.Rprop. \n",
    "    \n",
    "        N_iter : int. The number of iterations you want to do when running the .fit_IMPS method.\n",
    "    \n",
    "        acc : float positive. the accuracy you want when running the .fit_IMPS method. \n",
    "        \n",
    "        lr : positive float. the learning rate you want. \n",
    "        \n",
    "        q : the dimension q you want for the model. \n",
    "        \n",
    "        batch_size : int. The batch_size you want  when running the .fit_IMPS method.\n",
    "        \n",
    "        average : int. the average argument for the model. \n",
    "        \n",
    "    returns : the best lr according to the metric\n",
    "    '''\n",
    "    #initiate some lists. \n",
    "    metrics = list()\n",
    "    models = list()\n",
    "    ts = list()\n",
    "    # launch the models with the right variance.  \n",
    "    for var in vars_: \n",
    "        model = MC_PLNPCA(q,batch_size, average = average, is_perfect_mean= False,true_value = False,var_C = var)\n",
    "        t = threading.Thread(target =model.fit_IMPS,\n",
    "                            args = [Y_sampled, O,covariates, N_iter,          acc, lr,  optimizer, False, True] )\n",
    "        #t =threading.Thread(target = model.fit_torch,\n",
    "        #      args = [Y_sampled, O,covariates, N_iter          ,acc, lr     , optimizer] )\n",
    "        t.start()\n",
    "        ts.append(t)\n",
    "        models.append(model)\n",
    "        \n",
    "    # join each threading. \n",
    "    for t in ts: \n",
    "        t.join()\n",
    "    # get the metrics for each model.\n",
    "    for i, model in enumerate(models) :\n",
    "        print('beta :', model.beta)\n",
    "        metrics.append(np.mean(np.array(model.log_likelihood_list)))\n",
    "    metrics = np.nan_to_num(np.array(metrics),-100000)\n",
    "    argmax = np.argmax(metrics)#argmin of the metrics \n",
    "    best_var = vars_[argmax]\n",
    "    return best_var, dict(zip(vars_,models)), models[argmax]  #the best var, the dict in case you want to \n",
    "                                                              # compare the models, et the best model. \n",
    "\n",
    "\n",
    "\n",
    "\n",
    "\n",
    "lrs = [0.01, 0.02,0.03, 0.1,0.2,0.3,0.5,1.]#,1.2,1.5,2]\n",
    "vars_ = [0.01,0.1,0.5,1,1.5,2,4,10]\n",
    "#%time best_var_beta, dict_vars_beta, best_var_beta_model = find_best_var_beta(torch.optim.Adamax, 30,0.001,0.05, vars_, q ,batch_size, n//2)\n",
    "#%time best_var_C, dict_vars_C, best_var_C_model = find_best_var_C(torch.optim.Adamax, 30,0.001,0.04, vars_, q ,batch_size, n//2)\n",
    "%time best_lr,dict_lrs,best_model = find_best_lr(torch.optim.Adamax, 30, 0.01,lrs, q , batch_size , average = n//2,var_beta = best_var_beta, var_C = 4)"
   ]
  },
  {
   "cell_type": "code",
   "execution_count": 9,
   "metadata": {},
   "outputs": [
    {
     "ename": "NameError",
     "evalue": "name 'best_var_beta' is not defined",
     "output_type": "error",
     "traceback": [
      "\u001b[0;31m---------------------------------------------------------------------------\u001b[0m",
      "\u001b[0;31mNameError\u001b[0m                                 Traceback (most recent call last)",
      "\u001b[0;32m<ipython-input-9-714b78f7ca0b>\u001b[0m in \u001b[0;36m<module>\u001b[0;34m\u001b[0m\n\u001b[0;32m----> 1\u001b[0;31m \u001b[0mprint\u001b[0m\u001b[0;34m(\u001b[0m\u001b[0;34m'best var_beta '\u001b[0m\u001b[0;34m,\u001b[0m\u001b[0mbest_var_beta\u001b[0m\u001b[0;34m)\u001b[0m\u001b[0;34m\u001b[0m\u001b[0;34m\u001b[0m\u001b[0m\n\u001b[0m\u001b[1;32m      2\u001b[0m \u001b[0mcompare_models\u001b[0m\u001b[0;34m(\u001b[0m\u001b[0mdict_vars_beta\u001b[0m\u001b[0;34m,\u001b[0m \u001b[0;34m''\u001b[0m\u001b[0;34m,\u001b[0m \u001b[0msave\u001b[0m \u001b[0;34m=\u001b[0m \u001b[0;32mFalse\u001b[0m\u001b[0;34m)\u001b[0m\u001b[0;34m\u001b[0m\u001b[0;34m\u001b[0m\u001b[0m\n",
      "\u001b[0;31mNameError\u001b[0m: name 'best_var_beta' is not defined"
     ]
    }
   ],
   "source": [
    "print('best var_beta ',best_var_beta)\n",
    "compare_models(dict_vars_beta, '', save = False)"
   ]
  },
  {
   "cell_type": "code",
   "execution_count": null,
   "metadata": {},
   "outputs": [],
   "source": [
    "print('best var_C ',best_var_C)\n",
    "compare_models(dict_vars_C, '', save = False)"
   ]
  },
  {
   "cell_type": "code",
   "execution_count": null,
   "metadata": {},
   "outputs": [],
   "source": [
    "print('best lr ',best_lr)\n",
    "compare_models(dict_lrs, '', save = False)"
   ]
  },
  {
   "cell_type": "code",
   "execution_count": null,
   "metadata": {},
   "outputs": [],
   "source": [
    "print('best lr ',best_lr)\n",
    "compare_models(dict_lrs, '', save = False)"
   ]
  },
  {
   "cell_type": "code",
   "execution_count": 10,
   "metadata": {},
   "outputs": [],
   "source": [
    "def launch_optimizers_and_lrs(dict_optimizers,N_iter,N_iter_test, acc, q,batch_size):\n",
    "    '''\n",
    "    launch some optimizers to fit the .fit_IMPS method of the MC_PLNPCA object to compare them after. \n",
    "    We first also take the right learning rate for each optimizer. may take some time and some memory.  \n",
    "    \n",
    "    args : \n",
    "         dict_optimizer : dictionnarie. dict that contains the optimizer. example: {'Rprop': torch.optim.Rprop}\n",
    "         \n",
    "         N_iter : int. the number of iteration you want the models to do for each optimizer. \n",
    "         \n",
    "         N_iter_test : int. the number of iteration you want to do to find the best learning rate. \n",
    "         \n",
    "         acc : positive float. the accuracy you want when running the .fit_IMPS method. \n",
    "             \n",
    "         q : int. the dimension you want for the MC_PLNPCA object. \n",
    "         \n",
    "         batch_size : int. the batch_size you want. \n",
    "         \n",
    "    return : a dict of models. The key are the name of the optimizer, the values are the models (MC_PLNPCA object) trained with \n",
    "            the corresponding optimizer and the best lr (for each optimizer).\n",
    "    '''\n",
    "    \n",
    "    models = list()\n",
    "    lrs = [0.001,0.01, 0.02,0.03, 0.1,0.2,0.3,0.5]\n",
    "    ts_lr = list()\n",
    "    \n",
    "    with concurrent.futures.ThreadPoolExecutor() as executor:\n",
    "        params = []\n",
    "        for name,optimizer in dict_optimizers.items(): \n",
    "            params.append([optimizer, N_iter_test,acc,lrs, q,batch_size ,n//4])\n",
    "        #did not have the choice to do this since I need to get the returned value back. \n",
    "        futures = [executor.submit(find_best_lr, param[0],param[1],param[2],param[3],param[4],param[5],param[6]) for param in params]\n",
    "        best_lrs = [f.result()[0] for f in futures]\n",
    "    \n",
    "    del futures\n",
    "    print('best_lrs ', best_lrs)\n",
    "    ts = list()    \n",
    "    # lauch all the model with the right optimizer in a parallelized fashion. \n",
    "    \n",
    "    for i, (name, optimizer) in enumerate(dict_optimizers.items()): \n",
    "        model = MC_PLNPCA(q,batch_size)\n",
    "        print(' lr chosen : ', best_lrs[i], ' for the optimizer ', optimizer)\n",
    "        t = threading.Thread(target =model.fit_IMPS,\n",
    "              args = [Y_sampled, O,covariates, N_iter          ,acc, best_lrs[i]     , optimizer] )\n",
    "        t.start()\n",
    "        ts.append(t)\n",
    "        models.append(model)\n",
    "    # join each threading. \n",
    "    for t in ts : \n",
    "        t.join()\n",
    "    # return the dict with the corresponding values and keys. \n",
    "    return dict(zip(dict_optimizers.keys(), models))\n",
    "\n",
    "\n",
    "def launch_optimizers(dict_optimizers,N_iter,best_lrs, acc, q,batch_size):\n",
    "    '''\n",
    "    launch some optimizers to fit the .fit_IMPS method of the MC_PLNPCA object to compare them after. \n",
    "    args : \n",
    "         dict_optimizer : dictionnarie. dict that contains the optimizer. example: {'Rprop': torch.optim.Rprop}\n",
    "         \n",
    "         N_iter : int. the number of iteration you want the models to do for each optimizer. \n",
    "         \n",
    "         best_lrs : list of float. the (best)learning rate of each optimizer.\n",
    "    \n",
    "         acc : positive float. the accuracy you want when running the .fit_IMPS method. \n",
    "         \n",
    "         q : int. the dimension you want for the MC_PLNPCA object. \n",
    "         \n",
    "         batch_size : int. the batch_size you want. \n",
    "         \n",
    "    return : a dict of model. The key are the name of the optimizer, the values are the models trained with \n",
    "            the corresponding optimizer. \n",
    "    '''\n",
    "    print('best_lrs ', best_lrs)\n",
    "    ts = list()  \n",
    "    models = list()\n",
    "    # lauch all the model with the right optimizer in a parallelized fashion. \n",
    "    \n",
    "    with concurrent.futures.ThreadPoolExecutor() as executor:\n",
    "        params = []\n",
    "        for i,(name,optimizer)  in enumerate(dict_optimizers.items()): \n",
    "            \n",
    "            params.append([Y_sampled, O,covariates,N_iter, acc, best_lrs[i], optimizer])\n",
    "        #did not have the choice to do this since I need to get the returned value back. \n",
    "        futures = [executor.submit(MC_PLNPCA(q,batch_size,average = n//4).fit_IMPS, param[0],param[1],param[2],param[3],param[4],param[5],param[6]) for param in params]\n",
    "        models =  [f.result() for f in futures]\n",
    "    '''\n",
    "    for i, (name, optimizer) in enumerate(dict_optimizers.items()): \n",
    "        model = MC_PLNPCA(q,batch_size)\n",
    "        print(' lr chosen : ', best_lrs[i], ' for the optimizer ', optimizer)\n",
    "        t = threading.Thread(target =model.fit_IMPS,\n",
    "              args = [Y_sampled, O,covariates, N_iter          ,acc, best_lrs[i]     , optimizer] )\n",
    "        t.start()\n",
    "        ts.append(t)\n",
    "        models.append(model)\n",
    "    # join each threading. \n",
    "    for t in ts : \n",
    "        t.join()\n",
    "        \n",
    "    '''\n",
    "    # return the dict with the corresponding values and keys. \n",
    "    return dict(zip(dict_optimizers.keys(), models))\n",
    "\n",
    "#%time dict_optim_launched = launch_optimizers_and_lrs(dict_optimizers,50,15, 0.005,q,30)\n",
    "#%time dict_optim_launched = launch_optimizers(dict_optimizers,50,15, 0.005,q,30)"
   ]
  },
  {
   "cell_type": "code",
   "execution_count": 11,
   "metadata": {},
   "outputs": [],
   "source": [
    "dict_optimizers = {'Adamax' : torch.optim.Adamax,\n",
    "                   'Adadelta': torch.optim.Adadelta, \n",
    "                   'Adam': torch.optim.Adam, \n",
    "                   'Adagrad' : torch.optim.Adagrad,\n",
    "                  'Rprop' : torch.optim.Rprop, \n",
    "                   'RMSprop' : torch.optim.RMSprop,\n",
    "                  'SGD' : torch.optim.SGD}"
   ]
  },
  {
   "cell_type": "code",
   "execution_count": 12,
   "metadata": {},
   "outputs": [],
   "source": [
    "def sample_g(N_samples, mu_prop, var_prop):\n",
    "    '''\n",
    "    function that samples some gaussians with the right mean and the right dimensions. \n",
    "    \n",
    "    arg : \n",
    "        N_samples : int. the number of samples you want. For a MC approximation, the larger N_samples, \n",
    "                    the better the approximation. \n",
    "        mu_prop : torch.tensor of size (batch_size, p,q,q) or (batch_size,p,q) or (batch_size,q,q). It depends\n",
    "                  on the dimension of the integral you want to compute. \n",
    "        var_prop : float positive. the variance you want. It will be shared along all the samples. \n",
    "                We can easily make one variance for each (the dimension can be of the same dimension as mu_prop)\n",
    "    returns: \n",
    "        a gaussian with mean mu_prop and variance var_prop. The dimension will be : (N_samples, mu_prop.shape). \n",
    "    '''\n",
    "    len_mu = len(mu_prop.shape)\n",
    "    print('mu_prop . shape : ', mu_prop.shape)\n",
    "    # case where we whant to integrate a vector of integrals\n",
    "    if len_mu == 3: \n",
    "        gaussian =  torch.randn(N_samples, 1,1,1)\n",
    "        return gaussian*var_prop + mu_prop\n",
    "    # case where we want to integrate a matrice of integrals\n",
    "    elif len_mu == 4 : \n",
    "        gaussians =  torch.randn(N_samples,1,1,1,1)\n",
    "        return gaussians*var_prop + mu_prop\n",
    "def log_density_g(V, mu, var):\n",
    "    '''\n",
    "    computes the log of the density of a gaussian, given the mean and the variance.\n",
    "    \n",
    "    args : \n",
    "        V : a gaussain of any size. It should be a gaussian of mean mu and variance var.\n",
    "        mu : a vector of means (for example of size (bath_size, p,q,q) if you want to estimate the integral of \n",
    "                                exp(CW)W)\n",
    "        var : positive float. The variance you want for the importance law. \n",
    "        \n",
    "    returns: the log density of the gaussian. if the size of V is (N_samples, batch_size, p,q,q), the resulting size\n",
    "            will be (N_samples, batch_size,p,q) (We just take the norm wrt the last dimension)\n",
    "    '''\n",
    "    norm = -1/(2*var)*torch.norm(V-mu, dim = -1)**2\n",
    "    return norm   \n",
    "\n",
    "def dict_log_density_g(dict_V, dict_mu, var): \n",
    "    '''\n",
    "    same as log_density_g but do it for a dict. each value of the dict is a \n",
    "    gaussian similar as the argument of log_density_g. same for mu_prop. \n",
    "    \n",
    "    returns : a dict. Each key is the result of log_density_g for the value of the argument. var is shared along \n",
    "    the dict. \n",
    "    '''\n",
    "    log_g = {}\n",
    "    for name, V in dict_V.items():\n",
    "        log_g[name] =  -1/(2*var[name])*torch.norm(V-dict_mu[name], dim = -1)**2\n",
    "    return log_g\n",
    "    \n",
    "    \n",
    "        \n"
   ]
  },
  {
   "cell_type": "code",
   "execution_count": 13,
   "metadata": {},
   "outputs": [],
   "source": [
    "def get_choice_and_mean(mean_i, k,l,p,q):\n",
    "    '''\n",
    "    simple function to determine which integral we are trying to compute\n",
    "    given the shape of the mean. Indeed, all the integral sizes are different, \n",
    "    so that we can deduce the integral from the shape. \n",
    "    if size is (p,q,q), then it is C_exp, if (p,q) then it is beta, if (q,q) then it is C_W. \n",
    "    We return the name of the integral and the corresponding mean for the right index (k,l) in dim = 3\n",
    "    or k in dim = 2. \n",
    "    args : \n",
    "        mean_i : torch.tensor.mean of a sample i, the length of its shape should be either 2 or 3. \n",
    "        \n",
    "        k,l : int. indexes. We will return mean_i[k] or mean_i[k,l] according to the shape of mean_i\n",
    "        \n",
    "        p,q : int. The dimensions of the model. \n",
    "        \n",
    "    returns : string, float. the string is here to tell you which integral to take. The float is the mean \n",
    "    that will be used to plot the gaussian. \n",
    "    '''\n",
    "    if len(mean_i.shape)>2: \n",
    "        choice = 'C_exp'\n",
    "        mean = mean_i[k,l]\n",
    "    elif mean_i.shape[0] == p : \n",
    "        choice = 'beta'\n",
    "        mean = mean_i[k]\n",
    "    elif mean_i.shape[0] == q : \n",
    "        choice = 'C_W'\n",
    "        mean = mean_i[k]\n",
    "    return choice, mean\n",
    "\n",
    "def log_stirling(n_):\n",
    "    '''\n",
    "    this function computes log(n!) even for n large. We use the Stirling formula to avoid \n",
    "    numerical infinite values of n!. It can also take tensors.\n",
    "    \n",
    "    args : \n",
    "         n_ : tensor. \n",
    "    return : an approximation of log(n!)\n",
    "    '''\n",
    "    n = torch.clone(n_) #clone the tensor by precaution\n",
    "    n+= (n==0) # replace the 0 with 1. It changes nothing since 0! = 1! \n",
    "    return torch.log(torch.sqrt(2*np.pi*n))+n*torch.log(n/math.exp(1)) #Stirling formula"
   ]
  },
  {
   "cell_type": "code",
   "execution_count": 14,
   "metadata": {},
   "outputs": [],
   "source": [
    "def vectorized_log_likelihood(Y_b,covariates_b, O_b, W, C,beta,verbose = False):\n",
    "    '''\n",
    "    computes the log likelihood of one batch in a vectorize fashion. We compute the likelihood\n",
    "    of each sample in the batch and then take the sum of all the logs. ( We can't compute the log likelihood directly). \n",
    "\n",
    "    args : \n",
    "        Y_b : tensor of size (n_batch,p) \n",
    "        covariates_b : tensor of size (n_batch,d) \n",
    "        O_b : tensor of size (n_batch,p) \n",
    "        W : torch of size (n_samples, n_batch,q). should be a gaussian. \n",
    "        verbose : bool. If true, will plot some variables. \n",
    "\n",
    "    returns : the log_likelihood. \n",
    "    '''\n",
    "    # see formula above for more details. \n",
    "    norm_W = -1/2*torch.norm(W,dim = 2)**2 # the norm of W\n",
    "    log_fact = -torch.sum(log_stirling(Y_b), axis = 1) # the factorial term. \n",
    "    Z_b = covariates_b@beta + W@(C.T) # Z, latent variable\n",
    "    exp_term = -torch.sum(torch.exp(O_b+Z_b),axis = 2) # exponential term\n",
    "    data_term = torch.sum(Y_b * (O_b + Z_b),axis = 2) # term with the data counts Y \n",
    "    sum_of_logs = (norm_W +log_fact +exp_term+data_term) # sum of all the logs\n",
    "    if verbose :\n",
    "        print('norm_W : ', norm_W.numpy(),'\\n')\n",
    "        print('log_factoriel', log_fact.numpy(),'\\n')\n",
    "        print('cov : ', covariates_b)\n",
    "        print('beta : ', beta)\n",
    "        print('covbeta ; ', covariates_b@beta)\n",
    "        print('C',C)\n",
    "        print('Z_b : ', covariates_b@beta + W@(C.T), '\\n')\n",
    "        print('exp_Z_b,', torch.exp(Z_b))\n",
    "        print('exp_term ', exp_term.detach().numpy())\n",
    "        print('data ',data_term.detach().numpy(),'\\n')\n",
    "        print('somme_of_logs ( = norm_W +log_fact + exp_term + data) : ', sum_of_logs.detach().numpy(),'\\n' )\n",
    "        print('somme -max : ',(sum_of_logs-torch.max(sum_of_logs)).detach().numpy(),'\\n' )\n",
    "        print('result = exp(somme)  ', torch.exp(sum_of_logs).detach().numpy(),'\\n')\n",
    "    log = torch.log(torch.mean(torch.exp(sum_of_logs),axis = 0))\n",
    "    nb_notinf = torch.sum(log.isfinite())\n",
    "    #print('perc_not inf', nb_notinf/self.batch_size)\n",
    "    return torch.sum(torch.nan_to_num(log,neginf = 0 ))/nb_notinf \n"
   ]
  },
  {
   "cell_type": "markdown",
   "metadata": {},
   "source": [
    "### Main class of the notebook. \n",
    "Most of the methods are useless, but I keep them just in case. If you want to know what I am doing, \n",
    "just look at the .fit_IMPS method and the method it calls. "
   ]
  },
  {
   "cell_type": "code",
   "execution_count": 15,
   "metadata": {},
   "outputs": [],
   "source": [
    "class MC_PLNPCA(): \n",
    "    '''\n",
    "    MC_PLNPCA class. \n",
    "    \n",
    "    This class has method that tries to fit the PLN model with Monte Carlo approximation. \n",
    "    More precisely, we use Importance sampling to evaluate the gradients, and we use Monte Carlo\n",
    "    to get the log_likelihood. \n",
    "    \n",
    "    We need to estimate 3 integrals to get the gradients for beta and C. \n",
    "    The 3 integrals are named C_exp, C_W and beta. \n",
    "        - C_exp : the integral of exp(CW)W that is needed to compute the gradient of C\n",
    "        - C_W : the integral of W, that is needed to compute the gradient of C.\n",
    "        - beta : the integral of exp(CW), that is needed to compute the gradient of beta.\n",
    "    Most of the time, we will try to put all those 3 parts in a dict for a clearer code. \n",
    "    \n",
    "    '''\n",
    "    def __init__(self,q, batch_size, true_value = False, average = 10, is_perfect_mean = False,var_beta = 1,var_C = 1, zero_mean = False): \n",
    "        '''\n",
    "        initialization. An initialization that fits the data is done in the init_data method. \n",
    "        args : \n",
    "             q : int. the dimension q in the PLN model. \n",
    "             batch_size : int. the number of samples of Y you want to estimate the gradients. \n",
    "                     Note that Y will be set when calling the .fit_IMPS method only, and batch_size should\n",
    "                     be lower than Y.shape[0].\n",
    "             true_value : bool. If True, the algorithm will initialize beta and C with the true value. \n",
    "                         This can be done since we know here the true parameters. The purpose of this is\n",
    "                         for comparison. \n",
    "             average : int. Since the algorithm is stochastic, we take an average of the last\n",
    "                       parameter infered for a more precise parameter ( it has a smooth property when \n",
    "                       plotting the MSE). \n",
    "             is_perfect_mean : bool : There are two ways for estimating the integrals, one is the 'perfect' one that \n",
    "                         uses a gaussian that fits very well each coordinate of the integral, the other uses a gaussian \n",
    "                         that takes the right means for only one coordinate and use this for all the other coordinates. \n",
    "                         The perfect one is more precise but much slower. \n",
    "             var_beta : positive float. The variance you want to take for the importance law for the \n",
    "                        estimation of the integral of beta. \n",
    "             var_C : positive float. The varaince you want to take for the importance law for the \n",
    "                     estimation of the integralS of C (C_W and C_exp)\n",
    "             zero_mean : bool. If True, the means that we take for the gaussians for importance sampling will \n",
    "                         be full of zeros. This is here to chek the efficiency of taking different means than\n",
    "                         zero. \n",
    "        returns : a MC_PLNPCA object with the right parameters, and some list and dicts initialized for after. \n",
    "        '''\n",
    "        self.q = q\n",
    "        self.batch_size = batch_size\n",
    "        self.average = average\n",
    "        self.is_perfect_mean = is_perfect_mean\n",
    "        self.var = {'beta':  var_beta, 'C_W' : var_C, 'C_exp' : var_C}\n",
    "        self.var_beta = var_beta\n",
    "        self.var_C = var_C\n",
    "        # to keep records of the running_times, the norm of the gradiens, \n",
    "        #the log_likelihood, some MSE and some weights\n",
    "        self.running_times = list()\n",
    "        self.norm_grad_log_C_list = list() \n",
    "        self.norm_grad_log_beta_list = list()\n",
    "        self.MSE_Sigma_list = list()\n",
    "        self.MSE_beta_list = list()\n",
    "        self.log_likelihood_list = list()\n",
    "        self.var_weights = {'beta': np.array([]), 'C_exp': np.array([]), 'C_W' : np.array([])}\n",
    "        self.var_weights_bis = np.array([])\n",
    "        self.true_value = true_value\n",
    "        self.cmpt = 0 \n",
    "        self.last_likelihoods = list()\n",
    "        self.zero_mean = zero_mean\n",
    "    \n",
    "    def init_data(self, Y,O,covariates): \n",
    "        '''\n",
    "        Initialise some usefuls variables given the data. \n",
    "        We also initialise C and beta. \n",
    "        '''\n",
    "        torch.manual_seed(0)\n",
    "        self.Y = Y.float()\n",
    "        self.covariates = covariates \n",
    "        self.O = O \n",
    "        self.n = Y.shape[0] \n",
    "        self.p = Y.shape[1]\n",
    "        self.d = self.covariates.shape[1]\n",
    "        noise = torch.randn(self.p) \n",
    "        self.Sigma =  (torch.diag(noise**2)+ 1e-1)\n",
    "        self.last_betas = torch.zeros(self.average,d,p) # init of the average of the last betas\n",
    "        self.last_Cs = torch.zeros(self.average, p, q) #init of the average of the last Sigmas\n",
    "        # init C with an array of size (p,q)\n",
    "        self.C = torch.clone(torch.from_numpy(C_from_Sigma(self.Sigma,self.q)))*0\n",
    "        # init beta \n",
    "        self.beta = torch.randn(self.d,self.p)*0\n",
    "        # if we want to take the true value of C and beta \n",
    "        if self.true_value : \n",
    "            self.C = torch.clone(true_C)\n",
    "            self.beta = torch.clone(true_beta)\n",
    "        #setting some gradients for optimization. \n",
    "        self.C.requires_grad_(False)\n",
    "        self.beta.requires_grad_(False)\n",
    "        self.C_mean = torch.clone(self.C)\n",
    "        self.beta_mean = torch.clone(self.beta)\n",
    "        \n",
    "        \n",
    "        \n",
    "    def get_Sigma(self):\n",
    "        '''\n",
    "        simple function to get Sigma. We do this since we only optimize C. \n",
    "        '''\n",
    "        return self.C@(self.C.T)\n",
    "\n",
    "    def get_batch(self,batch_size, save_batch_size = True): \n",
    "        '''\n",
    "        get the batches required to do a  minibatch gradient ascent.  \n",
    "        \n",
    "        args : \n",
    "                'batch_size' int.  the batch size you want. \n",
    "                \n",
    "        returns : a generator. Will generate n/batch_size samples of size batch_size (except the last one \n",
    "                    since the rest of the division is not always 0)\n",
    "        '''\n",
    "        #np.random.seed(2)\n",
    "        indices = np.arange(self.n)\n",
    "        np.random.shuffle(indices)\n",
    "        #if we want to set the batch size of the model to the given batch_size \n",
    "        if save_batch_size : \n",
    "            self.batch_size = batch_size\n",
    "        # get the number of batches and the size of the last one. \n",
    "        nb_full_batch, last_batch_size  = self.n//batch_size, self.n % batch_size  \n",
    "        for i in range(nb_full_batch): \n",
    "            yield   (self.Y[indices[i*batch_size: (i+1)*batch_size]], \n",
    "                    self.covariates[indices[i*batch_size: (i+1)*batch_size]],\n",
    "                    self.O[indices[i*batch_size: (i+1)*batch_size]], \n",
    "                    ) \n",
    "        if last_batch_size != 0 : \n",
    "            if save_batch_size : \n",
    "                self.batch_size = last_batch_size\n",
    "            yield   (self.Y[indices[-last_batch_size:]], \n",
    "                    self.covariates[indices[-last_batch_size:]],\n",
    "                    self.O[indices[-last_batch_size:]]\n",
    "                    )\n",
    "         \n",
    "    def get_mean_log_likelihood(self):\n",
    "        '''\n",
    "        get the mean of the likelihood of the model. We do this since it is very volatile, so taking the mean\n",
    "        is more robust.\n",
    "        We need to have called the .fit_IMPS() method. \n",
    "        '''\n",
    "        length = len(self.likelihood_list)\n",
    "        #we take the last values to have a good approximation but we don't want to take too many values\n",
    "        #since otherwise it will be biased ( the first values are smaller than the last one). \n",
    "        return torch.mean(torch.tensor([x  for x in self.log_likelihood_list[length//10:] if np.isnan(x) == False]))\n",
    "    \n",
    "    \n",
    "    def compute_mean_log_likelihood(self, acc): \n",
    "        '''\n",
    "        computes the mean of the log_likelihood of the whole dataset. Since we can only estimate\n",
    "        the likelihood of some samples, we estimate the likelihood of each sample ( n samples in total),\n",
    "        We take the log and then sum each logs. Since some likelihood results in numerical zero, \n",
    "        We take the mean of the samples that have non zero likelihood. \n",
    "        \n",
    "        args : \n",
    "                acc : float lower than 1 and positive. The accuracy you want. We will sample 1/acc samples.\n",
    "                \n",
    "        returns : \n",
    "                the mean of the loglikelihood of each sample. \n",
    "        '''\n",
    "        log_like = 0\n",
    "        N_samples = int(1/acc)\n",
    "        cmpt = 0 \n",
    "        for Y_b,covariates_b,O_b in self.get_batch(self.batch_size): \n",
    "            cmpt+=1\n",
    "            W = torch.randn(N_samples, self.batch_size, self.q)\n",
    "            log_like += self.vectorized_log_likelihood(Y_b,covariates_b,O_b,W).item()\n",
    "        return log_like/cmpt\n",
    "                \n",
    "\n",
    "    def vectorized_log_likelihood(self, Y_b,covariates_b, O_b, W, verbose = False):\n",
    "        return vectorized_log_likelihood(Y_b,covariates_b,O_b,W,self.C,self.beta,verbose)\n",
    "\n",
    "    \n",
    "        \n",
    "    def each_log_P_WgivenY(self,Y_b,covariates_b,O_b,W): \n",
    "        '''       \n",
    "        computes the log of the density of W given Y_b. Y_b is a tensor of size (n_batch,p).\n",
    "        args : \n",
    "            Y_b : tensor of size (n_batch,p) \n",
    "            covariates_b : tensor of size (n_batch,d) \n",
    "            O_b : tensor of size (n_batch,p) \n",
    "            W : torch of size (n_batch,q). should be a gaussian. \n",
    "            \n",
    "        returns : the log of the density of (W,Y_b) given Y_b\n",
    "        '''\n",
    "        A_b = O_b + W@(self.C.T) +covariates_b@self.beta # temporary variable, for a clearer code. \n",
    "        return -1/2*torch.norm(W,dim = -1)**2+torch.sum(-torch.exp(A_b)+W@(self.C.T)*Y_b, axis = -1) # we sum over the last axis\n",
    "        #return -1/2*torch.norm(W,dim = 1)**2+torch.sum(-torch.exp(A_b)+W@(self.C.T)*Y_b, axis = 1) # we sum over the last axis\n",
    "\n",
    "    def batch_log_P_WYgivenY(self,Y_b,covariates_b,O_b,V_b): #useless, need to delete this.\n",
    "        '''\n",
    "        same as each_log_P_WYgivenY but do it for W of size (n_samples, n_batch, self.q)\n",
    "        \n",
    "        args : \n",
    "            Y_b : tensor of size (n_batch,p) \n",
    "            covariates_b : tensor of size (n_batch,d) S\n",
    "            O_b : tensor of size (n_batch,p) \n",
    "            V_b : tensor of size (N_samples, n_batch, self.q). Should be a gaussian. \n",
    "            \n",
    "        returns : a tensor of size (N_samples, n_batch) that contains the log of the density of WYgivenY\n",
    "                for each samples W_i of size (n_batch,self.q) and each (Y_i,covariates_i,0_i) in the batch.  \n",
    "        '''\n",
    "        A_b = O_b + V_b@(self.C.T) +covariates_b@self.beta # temporary variable\n",
    "        #return -1/2*torch.norm(V_b,dim = -1)**2+torch.sum(-torch.exp(A_b)+V_b@(self.C.T)*Y_b, axis = 2)\n",
    "    \n",
    "    def log_P_WgivenY(self,Y_i,covariates_i, O_i, W):\n",
    "        '''\n",
    "        computes the log of the density of (W,Y_i) given Y_i. It should look like a gaussian. \n",
    "        args : \n",
    "            Y_i : tensor of size p \n",
    "            covariates_i : tensor of size d \n",
    "            O_i : tensor of size p \n",
    "            W : torch of size q. should be a gaussian. \n",
    "            \n",
    "        return : the log of the probability of (W,Y_i) given Y_i. \n",
    "        '''\n",
    "        A_i = O_i + W.reshape(1,-1)@(self.C.T) +covariates_i@self.beta # temporary variable, for a clearer code. \n",
    "        return -1/2*torch.norm(W)**2 + torch.sum(-torch.exp(A_i)+W.reshape(1,-1)@(self.C.T)*Y_i)\n",
    "                    \n",
    "    def p_u_theta(self, Y_i, covariates_i, O_i, W_i): \n",
    "        '''\n",
    "        computes the unormalized density for one W_i of size (q)\n",
    "        '''\n",
    "        A_i = torch.exp(O_i + self.C@W_i +covariates_i@self.beta)\n",
    "        return torch.exp(-torch.norm(W_i)**2/2 -torch.sum(A_i)+ Y_i.double()@self.C@W_i)\n",
    "            \n",
    "    def personalized_batch_log_f(self,Y_b,covariates_b,O_b,dict_V_b):\n",
    "        '''\n",
    "        computes the log of f where f is the unormalized density of interest. \n",
    "        for each value V_b in dict_V_b, it computes the log density f. See the formula above\n",
    "        for more details. The values V_b has means that are personalized for each coordinate in the integral\n",
    "        (i.e. we change the importance law for each coordinate in the integral) to have a lower variance. \n",
    "        args : \n",
    "              Y_b : batch of Y_i : torch.tensor of size (batch_size, p)\n",
    "              covariates_b : batch of covariates__i : torch.tensor of size (batch_size, p)\n",
    "              O_b : batch of O_i : torch.tensor of size (batch_size, p)\n",
    "              dict_V_b : dict. key : 'beta', 'C_exp', 'C_W'. for each key, the corresponding values\n",
    "                        are gaussians of size (N_samples, self.batch_size, (integral size), q). \n",
    "        returns: \n",
    "                a dict with the same keys but the values are the log density of f of the given value. \n",
    "        '''\n",
    "        log_f = {}\n",
    "        # some terms can be computed before so that we don't compute them two times.\n",
    "        OplusXB = (O_b + covariates_b@self.beta)\n",
    "        YC = (Y_b.double()@self.C)\n",
    "        \n",
    "        for name, V_b in dict_V_b.items():\n",
    "            #C_exp integral\n",
    "            if len(V_b.shape)== 5:\n",
    "                A_b = torch.exp(OplusXB.unsqueeze(0).unsqueeze(2).unsqueeze(2) + torch.matmul(V_b, self.C.T))\n",
    "                big_term = torch.matmul(V_b, YC.unsqueeze(0).unsqueeze(2).unsqueeze(4)).squeeze()\n",
    "                ###### a enlever, here only for q = 1. \n",
    "                big_term = big_term.reshape(big_term.shape[0], big_term.shape[1],big_term.shape[2], self.q) \n",
    "            # C_W and beta integrals\n",
    "            elif len(V_b.shape) == 4 :\n",
    "                A_b = torch.exp(OplusXB.unsqueeze(0).unsqueeze(2) + torch.matmul(V_b, self.C.T))\n",
    "                big_term = torch.matmul(V_b, YC.unsqueeze(0).unsqueeze(3)).squeeze()\n",
    "            if len(big_term.shape) == 2: \n",
    "                big_term = big_term.unsqueeze(2)\n",
    "            log_f[name] = -1/2*torch.norm(V_b, dim = -1)**2 -torch.sum(A_b, dim = -1) + big_term\n",
    "        return log_f \n",
    "        \n",
    "    \n",
    "    def get_batch_weights(self, dict_log_f, dict_log_g):\n",
    "        '''\n",
    "        computes a batch of the weights from batches of log_f and log_g. More efficient function \n",
    "        than get_weights or get_weights_m. We compute it for a dict just for a clearer code \n",
    "        (for the 3 integrals).\n",
    "        args : \n",
    "              log_f : dict of torch.tensor of size (N_samples, batch_size)\n",
    "              log_g : dict of torch.tensor of size (N_samples, batch_size)\n",
    "        returns : the weights, dict of torch.tensor of size (N_samples, batch_size)\n",
    "        '''\n",
    "        weights = {}\n",
    "        for name,log_f in dict_log_f.items():\n",
    "            log_weights = log_f-dict_log_g[name]\n",
    "            tmp = torch.exp(log_weights -torch.max(log_weights, axis = 0 )[0])\n",
    "            weights[name] = tmp / torch.sum(tmp, axis = 0) # normalization\n",
    "        return weights\n",
    "\n",
    "\n",
    "    def show_Sigma(self):\n",
    "        '''\n",
    "        Simple function that shows Sigma with the heatmap method of seaborn. \n",
    "        '''\n",
    "        sns.heatmap(((self.C_mean)@(self.C_mean.T)).detach().numpy())\n",
    "        plt.show()\n",
    "        \n",
    "    def average_params(self,log_like): \n",
    "        '''\n",
    "        method that averages the parameters in order to smooth the variance. \n",
    "        We will take, for example, the last self.average betas computed to make \n",
    "        a better approximation of beta. We will do the same for C.\n",
    "        This function adds the last parameters computed to update the mean of the parameter. \n",
    "        If we have not enough betas or Sigmas (less than self.average), the mean will be on those parameters. \n",
    "        args : \n",
    "            log_like : the likelihood computed with the current parameters.\n",
    "        \n",
    "        returns : \n",
    "                None but update the mean of the last self.average parameters.  \n",
    "        '''\n",
    "        \n",
    "        self.cmpt +=1 # to keep track of the number of parameters we have for the mean\n",
    "        # remove the oldest parameters and add the more recent one.\n",
    "        self.last_betas[1:self.average] = torch.clone(self.last_betas[0: self.average-1].detach())\n",
    "        self.last_betas[0] = torch.clone(self.beta.detach())\n",
    "        self.last_Cs[1:self.average] = torch.clone(self.last_Cs[0: self.average-1].detach())\n",
    "        self.last_Cs[0] = torch.clone(self.C.detach())\n",
    "        self.last_likelihoods.append(log_like)\n",
    "        # update the mean of the parameter\n",
    "        \n",
    "        # if we have enough parameters \n",
    "        if self.cmpt > self.average : \n",
    "            del(self.last_likelihoods[0])\n",
    "            self.C_mean = torch.mean(self.last_Cs, axis = 0)\n",
    "            self.beta_mean = torch.mean(self.last_betas, axis = 0)\n",
    "            return np.mean(np.array(self.last_likelihoods))\n",
    "        \n",
    "        # if we don't have enough parameters. \n",
    "        else : \n",
    "            self.C_mean = torch.sum(self.last_Cs, axis = 0)/self.cmpt\n",
    "            self.beta_mean = torch.sum(self.last_betas, axis = 0)/self.cmpt\n",
    "            return np.mean(np.array(self.last_likelihoods))\n",
    "    def keep_records(self,log_like): \n",
    "        '''\n",
    "        function that keep some records in order to plot the evolution after.\n",
    "        '''\n",
    "        average_log_like = self.average_params(log_like)\n",
    "        # keep the records of the norm of the gradients and the MSE wrt the true parameter\n",
    "        self.norm_grad_log_beta_list.append((torch.norm(self.beta.grad)/(self.d*self.p)).item())\n",
    "        self.norm_grad_log_C_list.append((torch.norm(self.C.grad)/(self.p*self.q)).item())\n",
    "        self.MSE_beta_list.append(torch.mean((self.beta_mean -true_beta)**2).item())\n",
    "        self.MSE_Sigma_list.append(torch.mean((self.C_mean@(self.C_mean.T) -true_Sigma)**2).item())\n",
    "        self.running_times.append(time.time()-self.t0)\n",
    "        #print('average log_like : ', average_log_like)\n",
    "        self.log_likelihood_list.append(average_log_like)\n",
    "        \n",
    "    def fit_torch(self,Y, O, covariates,  N_iter, acc,lr,class_optimizer = torch.optim.Rprop ):\n",
    "        '''\n",
    "        other function to fit the model that uses only torch.\n",
    "        Seems to not work, but interesting since \n",
    "        it finds better maxima for some values. We will need to compare this with other methods. Trouble for the beginning\n",
    "        since the likelihood is not computable for any sample ( at least for the beginnig, not at convergence)\n",
    "        but trouble at convergence and not at the beginning ! (Why ? ) \n",
    "        '''\n",
    "        self.t0= time.time()# to keep track of the time. \n",
    "        self.acc = acc\n",
    "        self.init_data(Y,O, covariates)# initialize the data. \n",
    "        optim = class_optimizer([self.beta,self.C], lr = lr) # optimizer on C and beta\n",
    "        optim.zero_grad() # We do this since it is possible that beta and C have gradients. \n",
    "        N_samples = int(1/acc) # We will sample 1/acc gaussians\n",
    "        for i in range(N_iter):\n",
    "            for (Y_b, covariates_b, O_b) in self.get_batch(self.batch_size):\n",
    "                loss = -self.vectorized_log_likelihood(Y_b,covariates_b,O_b,  torch.randn(10,self.batch_size, self.q),verbose = False)\n",
    "                loss.backward()\n",
    "                self.keep_records(-loss.item())\n",
    "                optim.step()\n",
    "                optim.zero_grad()\n",
    "                #print('beta_MSE : ', torch.mean((self.beta-true_beta)**2).item())\n",
    "                #print('----------------------------Sigma_MSE', torch.mean((self.get_Sigma()-true_Sigma)**2).item())\n",
    "    \n",
    "\n",
    "        \n",
    "\n",
    "    \n",
    "    def sample_g(self,N_samples, mu_prop,var_prop):\n",
    "        '''\n",
    "        function that samples some gaussians with the right mean and the right dimensions. \n",
    "\n",
    "        arg : \n",
    "            N_samples : int. the number of samples you want. For a MC approximation, the larger N_samples, \n",
    "                        the better the approximation. \n",
    "            mu_prop : torch.tensor of size (batch_size, p,q,q) or (batch_size,p,q) or (batch_size,q,q). It depends\n",
    "                      on the dimension of the integral you want to compute. \n",
    "            var_prop : float positive. the variance you want. It will be shared along all the samples. \n",
    "                    We can easily make one variance for each (the dimension can be of the same dimension as mu_prop)\n",
    "        returns: \n",
    "            a gaussian with mean mu_prop and variance var_prop. The dimension will be : (N_samples, mu_prop.shape). \n",
    "        '''\n",
    "        # case where we whant to integrate a vector of integrals\n",
    "        gaussians = torch.randn(N_samples,self.batch_size,1,self.q)\n",
    "        #gaussians = torch.randn(N_samples, 1,1,1)\n",
    "        #gaussians2 = torch.randn(N_samples,self.batch_size,1,self.q)*var_prop\n",
    "        #gaussians3 = torch.randn(N_samples,self.batch_size,1,self.q)*var_prop\n",
    "        return gaussians*self.var['beta'] + mu_prop['beta'].unsqueeze(0), (gaussians*self.var['C_exp']).unsqueeze(3) + mu_prop['C_exp'].unsqueeze(0),gaussians*self.var['C_W'] + mu_prop['C_W'].unsqueeze(0)\n",
    "\n",
    "    def personalized_log_P_WgivenY_single(self,Y_b,covariates_b,O_b,W): \n",
    "        ## W of size (batch_size,p,q) or (batch_size, q, q)\n",
    "        #CW = torch.matmul(W.unsqueeze(2), self.C.unsqueeze(0).unsqueeze(3)).squeeze()\n",
    "        CW_inside = torch.matmul( W, self.C.T.unsqueeze(0))\n",
    "        ## unsqueeze the second dimensions (try to replace the dimension p of W by any number, you'll see)\n",
    "        exp_term = torch.exp(O_b.unsqueeze(1) + CW_inside+(covariates_b@self.beta).unsqueeze(1))\n",
    "        #careful here ! we take the sum over the axis -1. just replace the p of W to any number to find that \n",
    "        #it is the right ax to sum over. \n",
    "        '''\n",
    "        if torch.isnan(exp_term).any().item() : \n",
    "            print('beta', self.beta)\n",
    "            print('C : ', self.C)\n",
    "            print('exp term : ', exp_term) \n",
    "        '''\n",
    "        #else : print('ok')\n",
    "        return -1/2*torch.norm(W,dim = -1)**2+ torch.sum(-exp_term+CW_inside*(Y_b.unsqueeze(1)), axis = -1)\n",
    "    \n",
    "    def personalized_log_P_WgivenY_double(self, Y_b, covariates_b, O_b, W):\n",
    "        # W of size (batch_size,p,q,q)\n",
    "        CW_inside = torch.matmul(W, self.C.T.unsqueeze(0).unsqueeze(0))\n",
    "        exp_term = torch.exp((O_b+covariates_b@self.beta).unsqueeze(1).unsqueeze(1)+CW_inside)\n",
    "        return -1/2*torch.norm(W,dim = -1)**2+ torch.sum(-exp_term+CW_inside*(Y_b.unsqueeze(1).unsqueeze(1)), axis = -1)\n",
    "        \n",
    "\n",
    "    \n",
    "    \n",
    "    def personalized_batch_MC_term(self, Y_b,covariates_b, O_b,V_b, mu_prop, var_prop):\n",
    "        '''\n",
    "        does the same as batch_MC_term but here we take v_b as a dict that contains the\n",
    "        gaussians for each integrals (personalized fashion). The major difference with this approach\n",
    "        is the dimension of V_b, that is (N_samples, N_batch, (integral size), q) as opposed to \n",
    "        batch_MC_term : dimension is (N_samples, batch_size,q) where we don't try to have an importance \n",
    "        law that fits the data. \n",
    "        \n",
    "              Y_b : batch of Y_i : torch.tensor of size (batch_size, p)\n",
    "              covariates_b : batch of covariates__i : torch.tensor of size (batch_size, p)\n",
    "              O_b : batch of O_i : torch.tensor of size (batch_size, p)\n",
    "              V_b : dict. each key contains a gaussian \n",
    "                  of size (N_samples, batch_size, (integral size), q)\n",
    "                  where integral is the integral the key refers to.\n",
    "            \n",
    "        returns : the  3 integrals we want. \n",
    "            tuple(torch.tensor of size (n_batch,p), torch.tensor of size (n_batch,q), \n",
    "            torch.tensor of size (n_batch, p,q))\n",
    "        '''\n",
    "        # for more details on the formula, see above.\n",
    "        # get the log of both densities\n",
    "        log_f = self.personalized_batch_log_f(Y_b,covariates_b,O_b,V_b)\n",
    "        \n",
    "        log_g = dict_log_density_g(V_b,mu_prop,self.var)\n",
    "        #get the normalized weights\n",
    "        weights = self.get_batch_weights(log_f,log_g)\n",
    "        # next we compute the integrals. the formula are a little bit tricky (especially\n",
    "        # because we added the integral size at the shape of V_b), print the shape of each \n",
    "        # matrice helps for comprehension\n",
    "        # compute the phi for the integral of beta and the importance sampling formula\n",
    "        phi_beta  = torch.exp(torch.matmul(V_b['beta'].unsqueeze(3), self.C.reshape(1,1,self.p,self.q,1))).squeeze()\n",
    "        inside_beta = torch.mul(weights['beta'], phi_beta)\n",
    "        IMPS_beta = torch.sum(inside_beta, axis = 0)\n",
    "        \n",
    "        # same for C_exp\n",
    "        CtimesV = torch.matmul(V_b['C_exp'].unsqueeze(4), self.C.unsqueeze(0).unsqueeze(1).unsqueeze(3).unsqueeze(5)).squeeze()\n",
    "        canonicalV =  torch.matmul(V_b['C_exp'].unsqueeze(4),torch.eye(self.q).reshape(1,1,1,self.q,self.q,1)).squeeze()\n",
    "        phi_C_exp = torch.multiply(canonicalV,torch.exp(CtimesV))\n",
    "        if len(phi_C_exp.shape) == 3 : \n",
    "            phi_C_exp = phi_C_exp.unsqueeze(3)\n",
    "        inside_C_exp = torch.mul(weights['C_exp'], phi_C_exp)\n",
    "\n",
    "        \n",
    "        #first =  torch.exp(torch.matmul(self.C, V_b['C_exp'][s,n_b,k,l].unsqueeze(1)))\n",
    "        #second  = V_b['C_exp'][s,n_b,k,l].unsqueeze(0)\n",
    "        IMPS_C_exp = torch.sum(inside_C_exp, axis = 0 )\n",
    "        \n",
    "        #same for C_W\n",
    "        canonicalW = torch.matmul(V_b['C_W'].unsqueeze(3), torch.eye(self.q).reshape(1,1,self.q,self.q,1)).squeeze()\n",
    "        if len(canonicalW.shape) == 2 : \n",
    "            canonicalW = canonicalW.unsqueeze(2)\n",
    "        inside_C_W = torch.mul(weights['C_W'], canonicalW)\n",
    "        IMPS_C_W = torch.sum(inside_C_W, axis = 0)\n",
    "        \n",
    "        #keep some records for the var\n",
    "        self.keep_var_records(weights)\n",
    "        return IMPS_beta, IMPS_C_W, IMPS_C_exp\n",
    "    \n",
    "    \n",
    "\n",
    "    #def find_each_mean(self, Y_b, covariates_b, O_b,lr = 0.5, N_iter_max = 100,class_optimizer = torch.optim.Rprop):\n",
    "    #    W_beta = torch.randn    \n",
    "    \n",
    "    \n",
    "    def get_conditional_density_j(self,j,k,Y_i,covariates_i,O_i,best_mean_i, N_points, l = 0): \n",
    "        # l is here only if the choice is C_exp\n",
    "        choice,best_mean = get_choice_and_mean(best_mean_i,k,l,self.p,self.q)\n",
    "        \n",
    "        mask = torch.zeros(best_mean.shape[0], dtype = torch.bool)\n",
    "        mask[j]= True\n",
    "        \n",
    "        def target(W_1D):\n",
    "            W = best_mean.masked_scatter(mask,torch.Tensor([W_1D])).detach()\n",
    "            if choice == 'C_exp' : \n",
    "                phi = torch.matmul(torch.exp(torch.matmul(self.C, W.unsqueeze(1))),W.unsqueeze(0))[k,l]\n",
    "            if choice == 'C_W' : \n",
    "                phi = torch.matmul(self.C[k], W)\n",
    "            if choice == 'beta': \n",
    "                phi = torch.exp(torch.matmul(self.C[k], W))\n",
    "            return phi, self.log_P_WgivenY(Y_i,covariates_i,O_i,W)\n",
    "        \n",
    "        abscisse = np.linspace(best_mean[j].detach().numpy()-5,best_mean[j].detach().numpy()+5,N_points*2)\n",
    "        list_log = []\n",
    "        list_phi = []\n",
    "        for w in abscisse :\n",
    "            phi,log_P = target(w)\n",
    "            list_phi.append(phi)\n",
    "            list_log.append(log_P)\n",
    "        arr_log = np.array(list_log)\n",
    "        arr_log-= np.max(list_log)\n",
    "        list_density = np.array(list_phi)*np.exp(arr_log)\n",
    "        return abscisse,list_density\n",
    "    \n",
    "    def plot_conditional(self, Y_i, covariates_i, O_i, gaussian_mean_i, nb_to_plot, N_points = 100,l=0):\n",
    "        fig = plt.figure(figsize = (10,10))\n",
    "        axes = fig.subplots(nb_to_plot, self.q)\n",
    "        choice,_ = get_choice_and_mean(gaussian_mean_i, 0,0,self.p,self.q)\n",
    "        \n",
    "        for k in range(nb_to_plot): \n",
    "            for j in range(self.q): \n",
    "                current_mean = gaussian_mean_i[k]\n",
    "                if choice == 'C_exp' : \n",
    "                    current_mean = current_mean[l]\n",
    "                abscisse, density = self.get_conditional_density_j(j,k,Y_i,covariates_i,O_i,gaussian_mean_i,N_points)\n",
    "                true_max = abscisse[np.argmax(np.abs(density))]\n",
    "                normal_density = np.exp(np.array([-1/(2*self.var[choice]**2)*(w-current_mean[j].item())**2 for w in abscisse]))\n",
    "                normal_density*= np.max(np.abs(density))/np.max(normal_density)#/np.max(normal_density)# We renormalize by some constants to plot similar things. \n",
    "                axes[k,j].plot(abscisse, density, label = 'W|Y density')\n",
    "                axes[k,j].plot(abscisse, normal_density, label = 'Gaussian density')\n",
    "                axes[k,j].axvline(current_mean[j], c = 'green', label = 'maximum found')# the max we found\n",
    "                axes[k,j].axvline(true_max, c = 'black', label = 'true_max')# the true max. \n",
    "                #except : \n",
    "                #    pass\n",
    "                \n",
    "        # We display the labels above and once. \n",
    "        lines, labels = fig.axes[0].get_legend_handles_labels()\n",
    "        fig.suptitle(choice)\n",
    "        fig.legend(lines, labels, loc = 'upper right')\n",
    "        plt.show()\n",
    "    \n",
    "    \n",
    "    \n",
    "    def get_batch_grads(self, Y_b, covariates_b, O_b, esp_beta, esp_C_W, esp_C_exp):\n",
    "        '''\n",
    "        get the gradients for a batch thanks to the integrals we computed before. for the formula, \n",
    "        see above.\n",
    "        args : \n",
    "              Y_b : torch.tensor of size (n_batch,p)\n",
    "              covariates_b : torch.tensor of size (n_batch,p)\n",
    "              O_b : torch.tensor of size (n_batch,p)\n",
    "              esp_beta : p-dimensional integral we computed, torch.tensor of size(n_batch, p)\n",
    "              esp_C_W :  q-dimensional integral we computed, torch.tensor of size (n_batch,q)\n",
    "              esp_C_exp :(p,q) dimensional integral we computed, torch.tensor of size(n_batch,p,q)   \n",
    "        returns : the gradients wrt beta and C \n",
    "        '''\n",
    "        # for details on the formulas, see above. here we take -grad so that we can plug \n",
    "        # the gradiens in a pytorch optimizer \n",
    "        beta_grad = -torch.bmm(covariates_b.unsqueeze(2), (Y_b - torch.mul(torch.exp(O_b + torch.mm(covariates_b, self.beta)),esp_beta)).unsqueeze(1))\n",
    "        first_term = torch.matmul(Y_b.float().unsqueeze(2), esp_C_W.float().unsqueeze(1))\n",
    "        C_grad = -first_term+ torch.multiply(esp_C_exp, torch.exp(O_b + covariates_b@self.beta).unsqueeze(2))\n",
    "        return beta_grad, C_grad\n",
    "    \n",
    "    def get_true_esp_C_exp_2D(self, Y_i, covariates_i, O_i):\n",
    "        '''\n",
    "        function that get true integral of C_exp. We use numerical integration from scipy\n",
    "        to computes this. Note that this may work only if the Y_i is low. Scipy can't \n",
    "        compute it if it is two large. \n",
    "        '''\n",
    "        \n",
    "        def p_u(x,y): \n",
    "            W_i = torch.tensor([x,y])\n",
    "            return self.p_u_theta(Y_i, covariates_i, O_i,W_i)\n",
    "        normalizer,res_norm = integrate.dblquad(p_u, -10,10,-10,10)\n",
    "        true_esp = torch.empty((p,q))\n",
    "        for k in tqdm(range(self.p)):\n",
    "            for l in range(self.q):\n",
    "                def integrande_kl(x,y):\n",
    "                    W = torch.tensor([x,y])\n",
    "                    res = p_u(x,y)* torch.exp(((self.C@(W))[k]))*W[l]/normalizer\n",
    "                    if torch.abs(res)> -0.0001 : \n",
    "                        print(' x :', x)\n",
    "                        print('y :', y )\n",
    "                        print('res :' ,res)\n",
    "                    return res\n",
    "                true_int, res = integrate.dblquad(integrande_kl, -10,10,-10,10)\n",
    "                true_esp[k,l] = true_int \n",
    "        return true_esp\n",
    "    \n",
    "    def get_true_esp_C_exp_1D(self, Y_i, covariates_i,O_i):\n",
    "        def p_u(x): \n",
    "            W_i = torch.tensor([x])\n",
    "            return self.p_u_theta(Y_i, covariates_i, O_i,W_i)\n",
    "        normalizer,res_norm = integrate.quad(p_u, -10,10)\n",
    "        true_esp_C_exp = torch.empty((p,q))\n",
    "        true_esp_C_W = torch.empty(self.q)\n",
    "        true_esp_beta = torch.empty(self.p)\n",
    "        \n",
    "        for k in range(self.p):\n",
    "            def integrande_beta(x): \n",
    "                W = torch.tensor([x])\n",
    "                return p_u(x)*torch.exp((self.C@(W))[k])/normalizer\n",
    "            def integrande_C_W(x): \n",
    "                W = torch.tensor([x])\n",
    "                return p_u(x)*W[k]/normalizer\n",
    "            \n",
    "            true_esp_beta[k],_ = integrate.quad(integrande_beta, -10,10)\n",
    "            if k < self.q : \n",
    "                true_esp_C_W[k],_ = integrate.quad(integrande_C_W, -10,10)\n",
    "            \n",
    "            for l in range(self.q):\n",
    "                def integrande_kl(x):\n",
    "                    W = torch.tensor([x])\n",
    "                    res = p_u(x)* torch.exp(((self.C@(W))[k]))*W[l]/normalizer\n",
    "                    return res\n",
    "                true_esp_C_exp[k,l],_ = integrate.quad(integrande_kl, -10,10)\n",
    "        return true_esp_beta, true_esp_C_W, true_esp_C_exp\n",
    "    \n",
    "\n",
    "    def find_each_mean(self,Y_b,covariates_b, O_b, lr = 0.5, N_iter_max = 100,class_optimizer = torch.optim.Rprop):\n",
    "        '''\n",
    "        method to compute the mean of the best gaussian approximation of W|Y_b. We will compute n_batch * q \n",
    "        approximation. \n",
    "        \n",
    "        args : \n",
    "            Y_b : tensor of size (n_batch,p) \n",
    "            covariates_b : tensor of size (n_batch,d) \n",
    "            O_b : tensor of size (n_batch,p) \n",
    "            lr : float. positive. the learning rate of the optimizer\n",
    "            N_iter_max : the number of iteration you want to do. \n",
    "            class_optimizer : torch.optim.optimizer object.  the class of the optimizer. should be like \n",
    "                              torch.optim.Rprop. \n",
    "        returns : \n",
    "                W : the parameter that maximizes the log of the probability of P_WY given Y.\n",
    "        '''\n",
    "        \n",
    "        d_W = {}\n",
    "        d_W['beta'] = torch.randn(self.batch_size,self.p,self.q,requires_grad = True)\n",
    "        d_W['C_W'] = torch.randn(self.batch_size,self.q,self.q, requires_grad = True)\n",
    "        d_W['C_exp'] = torch.randn(self.batch_size,self.p, self.q, self.q, requires_grad = True)\n",
    "        def beta_loss(W): \n",
    "            log_density =  self.personalized_log_P_WgivenY_single(Y_b,covariates_b, O_b, W)\n",
    "            CW_outside = torch.matmul(W.unsqueeze(2),self.C.unsqueeze(0).unsqueeze(3)).squeeze() \n",
    "            return CW_outside+log_density\n",
    "        def C_W_loss(W): \n",
    "            log_density =  self.personalized_log_P_WgivenY_single(Y_b,covariates_b, O_b, W)\n",
    "            W_outside = torch.diagonal(W, dim1 = -2, dim2= -1)\n",
    "            return torch.log(torch.abs(W_outside))+ log_density  \n",
    "        def C_exp_loss(W): \n",
    "            log_density =  self.personalized_log_P_WgivenY_double(Y_b,covariates_b, O_b, W)\n",
    "            exp_term = torch.exp(torch.matmul(W.unsqueeze(3),self.C.unsqueeze(0).unsqueeze(2).unsqueeze(4))).squeeze()\n",
    "            canonicalW = torch.matmul(W.unsqueeze(3),torch.eye(self.q).reshape(1,1,self.q,self.q,1)).squeeze()\n",
    "            final = torch.multiply(exp_term, canonicalW)\n",
    "            final = final.reshape(final.shape[0],final.shape[1], self.q) ########enlever, juste pour q=1. \n",
    "            return torch.log(torch.abs(final))+ log_density \n",
    "                             \n",
    "        loss = {'beta': beta_loss, 'C_W': C_W_loss, 'C_exp': C_exp_loss}\n",
    "        optimizer = {'beta':  class_optimizer([d_W['beta']], lr = lr),\n",
    "                     'C_W': class_optimizer([d_W['C_W']], lr = lr),\n",
    "                    'C_exp': class_optimizer([d_W['C_exp']], lr = lr)}\n",
    "        i = 0                              \n",
    "        while i < N_iter_max:  #and delta > tol :\n",
    "            for  name,W in d_W.items(): \n",
    "                 ((loss[name](W).mean())*(-1)).backward()\n",
    "    \n",
    "                 optimizer[name].step()\n",
    "                 optimizer[name].zero_grad()\n",
    "                 i+=1\n",
    "        return d_W\n",
    "    \n",
    "    def find_each_mean_1d(self,Y_b,covariates_b, O_b, lr = 0.5, N_iter_max = 100,class_optimizer = torch.optim.Rprop): \n",
    "        d_W = {}\n",
    "        d_W['beta'] = torch.randn(self.batch_size,self.q,requires_grad = True)\n",
    "        d_W['C_W'] = torch.randn(self.batch_size,self.q, requires_grad = True)\n",
    "        d_W['C_exp'] = torch.randn(self.batch_size,self.q, requires_grad = True)\n",
    "        def beta_loss(W): \n",
    "            log_density =  self.each_log_P_WgivenY(Y_b,covariates_b, O_b, W)\n",
    "            CW = torch.matmul(self.C[0].reshape(1,1,self.q), W.unsqueeze(2)).squeeze()\n",
    "            #print('CW_outside shape', CW.shape)\n",
    "            #print('log_density shape', log_density.shape)\n",
    "            return CW + log_density  \n",
    "            CW_outside = torch.matmul(W.unsqueeze(2),self.C.unsqueeze(0).unsqueeze(3)).squeeze() \n",
    "\n",
    "            return CW_outside+log_density\n",
    "        def C_W_loss(W): \n",
    "            log_density =  self.each_log_P_WgivenY(Y_b,covariates_b, O_b, W)\n",
    "            W_outside = W[:, 0 ] \n",
    "            return torch.log(torch.abs(W_outside))+ log_density  \n",
    "        def C_exp_loss(W): \n",
    "            log_density =  self.each_log_P_WgivenY(Y_b,covariates_b, O_b, W)\n",
    "            exp_term = torch.exp(torch.matmul(self.C[0].reshape(1,1,self.q), W.unsqueeze(2)).squeeze())\n",
    "            canonical_W = W[:,0]\n",
    "            return torch.log(torch.abs(torch.multiply(exp_term,canonical_W))) + log_density\n",
    "                             \n",
    "        loss = {'beta': beta_loss, 'C_W': C_W_loss, 'C_exp': C_exp_loss}\n",
    "        optimizer = {'beta':  class_optimizer([d_W['beta']], lr = lr),\n",
    "                     'C_W': class_optimizer([d_W['C_W']], lr = lr),\n",
    "                    'C_exp': class_optimizer([d_W['C_exp']], lr = lr)}\n",
    "        i = 0                              \n",
    "        while i < N_iter_max:  #and delta > tol :\n",
    "            for  name,W in d_W.items(): \n",
    "                 ((loss[name](W).mean())*(-1)).backward()\n",
    "    \n",
    "                 optimizer[name].step()\n",
    "                 optimizer[name].zero_grad()\n",
    "                 i+=1\n",
    "        return d_W\n",
    "\n",
    "    \n",
    "    \n",
    "    def get_error_reduction(self, mu_b,mu_b_single): \n",
    "        mean = {}\n",
    "        var = {}\n",
    "        max_ = {}\n",
    "        for (key,mu),mu_single in zip(mu_b.items(),mu_b_single.values()):\n",
    "            tl = mu_single.unsqueeze(1)\n",
    "            if key == 'C_exp': \n",
    "                tl = tl.unsqueeze(1)\n",
    "            diff = torch.abs(tl-mu)\n",
    "            mean[key] = np.round(torch.mean(diff).item(),3)\n",
    "            var[key] = np.round(torch.var(diff).item(),3)\n",
    "            max_[key] = np.round(torch.max(diff).item(),3)\n",
    "            argmax = torch.argmax(diff)\n",
    "            #print(key, argmax)\n",
    "        return mean,var,max_\n",
    "    \n",
    "    \n",
    "    def batch_MC_term(self, Y_b,covariates_b, O_b,V_b,mu_b):\n",
    "        # for more details on the formula, see above.\n",
    "        log_f = self.batch_log_f(Y_b,covariates_b, O_b, V_b)\n",
    "        log_g = self.batch_log_g(V_b,mu_b)\n",
    "        weights = self.get_batch_weights({'':log_f},{'' :log_g})['']\n",
    "        \n",
    "        phi_beta  = torch.exp(torch.matmul(V_b, self.C.T))\n",
    "        inside_beta = torch.mul(weights.unsqueeze(2), phi_beta)\n",
    "        IMPS_beta = torch.sum(inside_beta, axis = 0)\n",
    "        inside_C_W = torch.mul(weights.unsqueeze(2), V_b)\n",
    "        IMPS_C_W = torch.sum(inside_C_W, axis = 0)\n",
    "        phi_exp_C = torch.matmul(torch.exp(torch.matmul(V_b, self.C.T)).unsqueeze(3),V_b.unsqueeze(2))\n",
    "        inside_exp_C = torch.mul(weights.unsqueeze(2).unsqueeze(3), phi_exp_C)\n",
    "        IMPS_C_exp = torch.sum(inside_exp_C, axis = 0 )\n",
    "        \n",
    "        var = torch.var(weights, axis = 0)/self.acc\n",
    "        self.var_weights_bis = np.concatenate((self.var_weights_bis, var.detach().numpy()))\n",
    "        return IMPS_beta, IMPS_C_W, IMPS_C_exp\n",
    "    \n",
    "    def single_batch_MC_term(self, Y_b,covariates_b, O_b, V_b, mu_b): \n",
    "        '''\n",
    "        does the same as MC_term but for a batch for a more efficient computation.\n",
    "              Y_b : batch of Y_i : torch.tensor of size (batch_size, p)\n",
    "              covariates_b : batch of covariates__i : torch.tensor of size (batch_size, p)\n",
    "              O_b : batch of O_i : torch.tensor of size (batch_size, p)\n",
    "              V_b : the gaussian : torch.tensor of size (N_samples, N_bathc,q)\n",
    "            \n",
    "        returns : the  3 integrals we want. \n",
    "            tuple(torch.tensor of size (n_batch,p), torch.tensor of size (n_batch,q), \n",
    "            torch.tensor of size (n_batch, p,q))\n",
    "        '''\n",
    "        log_f = self.batch_log_f(Y_b,covariates_b, O_b, V_b)\n",
    "        log_g = self.batch_log_g(V_b,mu_b)\n",
    "        \n",
    "        weights = self.get_batch_weights(log_f,log_g)\n",
    "        \n",
    "        phi_beta  = torch.exp(torch.matmul(V_b['beta'], self.C.T))\n",
    "        inside_beta = torch.mul(weights['beta'].unsqueeze(2), phi_beta)\n",
    "        IMPS_beta = torch.sum(inside_beta, axis = 0)\n",
    "        \n",
    "        inside_C_W = torch.mul(weights['C_W'].unsqueeze(2), V_b['C_W'])\n",
    "        IMPS_C_W = torch.sum(inside_C_W, axis = 0)\n",
    "        \n",
    "        phi_exp_C = torch.matmul(torch.exp(torch.matmul(V_b['C_exp'], self.C.T)).unsqueeze(3),V_b['C_exp'].unsqueeze(2))\n",
    "        inside_exp_C = torch.mul(weights['C_exp'].unsqueeze(2).unsqueeze(3), phi_exp_C)\n",
    "        IMPS_C_exp = torch.sum(inside_exp_C, axis = 0 )\n",
    "        \n",
    "        self.keep_single_var_records(weights)\n",
    "        \n",
    "        return IMPS_beta, IMPS_C_W, IMPS_C_exp\n",
    "    \n",
    "    def keep_single_var_records(self, dict_weights): \n",
    "        for name, weights in dict_weights.items():\n",
    "            var = torch.var(weights, axis = 0 )/self.acc\n",
    "            self.var_weights[name] = np.concatenate((self.var_weights[name], torch.nan_to_num(var, nan = 1).detach().numpy())) \n",
    "        \n",
    "        \n",
    "        \n",
    "    def keep_var_records(self, dict_weights):\n",
    "        '''\n",
    "        small function that keep records of the variance of the weights. \n",
    "        for each value of the dict, we have a variance of size (integral size), so we take the \n",
    "        mean along those axis to plot it. \n",
    "        args : \n",
    "              dict_weights : dict of weights (only to have a clearer code).\n",
    "                            each key represent the name of the integral \n",
    "                            the weights were computed for, each value is the \n",
    "                            corresponding weights. \n",
    "        return : None but keep records of the variance. \n",
    "        '''\n",
    "        # we browse the dict\n",
    "        for name,weights in dict_weights.items():\n",
    "            # we don't take the mean for the same axis for C_exp or the other, we \n",
    "            # need to have a separate case\n",
    "            \n",
    "            if name == 'C_exp' : \n",
    "                var = torch.mean(torch.var(weights, axis = 0)/self.acc, axis = (-1,-2))\n",
    "            else : \n",
    "                var = torch.mean(torch.var(weights, axis = 0)/self.acc, axis = -1)\n",
    "            # concatenate the weights. \n",
    "            print('var shape', var.shape)\n",
    "            print('var wieights.shape :', self.var_weights[name].shape)\n",
    "            self.var_weights[name] = np.concatenate((self.var_weights[name], torch.nan_to_num(var, nan = 1).detach().numpy()))\n",
    "            \n",
    "    \n",
    "    \n",
    "    def batch_log_g(self, dict_V_b, dict_mu_b): \n",
    "        '''\n",
    "        computes the  likelihood of the density from which we can sample : g. we do this for a batch \n",
    "        for more efficient calculus.We take \n",
    "        args : \n",
    "              V_b : the gaussian, torch.tensor of size (N_samples, batch_size, q)\n",
    "              \n",
    "        return : the density for each sample in each bach : torch.tensor of size (N_samples, batch_size)\n",
    "        '''\n",
    "        log_g = {}\n",
    "        for (name,V_b), mu_b in zip(dict_V_b.items(), dict_mu_b.values()):\n",
    "            log_g[name] = - 1/(2*self.var[name])*torch.norm(V_b-mu_b, dim = 2)**2\n",
    "        return log_g\n",
    "\n",
    "    def batch_log_f(self, Y_b, covariates_b, O_b, dict_V_b): \n",
    "        '''\n",
    "        computes the log of the density of f, the density from which we can't sample. takes a batch for\n",
    "        efficient calculus. \n",
    "        \n",
    "        args : \n",
    "              Y_b : batch of Y_i : torch.tensor of size (batch_size, p)\n",
    "              covariates_b : batch of covariates__i : torch.tensor of size (batch_size, p)\n",
    "              O_b : batch of O_i : torch.tensor of size (batch_size, p)\n",
    "              V_b : the gaussian : torch.tensor of size (N_samples, N_bathc,q)\n",
    "            \n",
    "        returns : the log of f for each sample and each variable in the batch: torch.tensor of size \n",
    "        (N_samples, batch_size)\n",
    "        '''\n",
    "        log_f = {}\n",
    "        OplusXB = (O_b + covariates_b@self.beta).unsqueeze(0)\n",
    "        YC = (Y_b.double()@self.C).unsqueeze(2)\n",
    "        for name,V_b in dict_V_b.items():\n",
    "            A_b = torch.exp( OplusXB + torch.matmul(V_b, self.C.T)) # temporary variable\n",
    "            big_term = torch.matmul(V_b.unsqueeze(2),YC ).squeeze()\n",
    "            # see formula above for more details, but here we take the norm for the last dimension. \n",
    "            #, then we take the sum over the axis that has dimension p, and we add the last term (big_term)\n",
    "#         print('first true : ', -1/2*torch.norm(V_b, dim = 2))\n",
    "            log_f[name] = -1/2*torch.norm(V_b, dim = 2)**2 -torch.sum(A_b, dim = 2) + big_term  \n",
    "        return log_f \n",
    "    \n",
    "    \n",
    "    def fit_IMPS(self,Y, O, covariates,  N_iter, acc,lr,class_optimizer = torch.optim.Rprop, optim_beta = True, optim_C = True): \n",
    "        '''\n",
    "        method that fit the parameters C and beta  of the model according to the data Y,O, covariates. \n",
    "        We maximize the log likelihood thanks to a gradient ascent. The gradients are computed thanks to \n",
    "        importance sampling. \n",
    "        \n",
    "        args : \n",
    "                Y : the counts, should be int. tensor of size(n,p)\n",
    "                O : the offsets : tensor of size (n,p)\n",
    "                covariates : the covariates of the model. tensor of size(n,d)\n",
    "                N_iter : int : the number of iteration you want to do. \n",
    "                acc : float : the accuracy you want when you compute the gradients and the likelihood. We will \n",
    "                sample 1/int samples.\n",
    "                lr : float, positive. the learning rate of the optimizer for C and beta.\n",
    "                class_optimizer : the optimizer you want, ex : torch.optim.Rprop. It should be a torch.optim object\n",
    "        returns : \n",
    "                None, but the parameters C and beta are optimized. \n",
    "        '''\n",
    "        self.t0= time.time()# to keep track of the time. \n",
    "        self.acc = acc\n",
    "        self.init_data(Y,O, covariates)# initialize the data. \n",
    "        optim = class_optimizer([self.beta,self.C], lr = lr) # optimizer on C and beta\n",
    "        optim.zero_grad() # We do this since it is possible that beta and C have gradients. \n",
    "        N_samples = int(1/acc) # We will sample 1/acc gaussians\n",
    "        for i in tqdm(range(N_iter)):\n",
    "            for (Y_b, covariates_b, O_b) in self.get_batch(self.batch_size):\n",
    "                tl = 0 # to look \n",
    "                dumb_mu = 1\n",
    "                V_b  = {}\n",
    "                V_b_single = {}\n",
    "                V_orig = torch.randn(N_samples, self.batch_size,q)\n",
    "                # estimate the integrals with importance sampling.\n",
    "                if self.zero_mean : \n",
    "                    mu_b_single = {'beta' : torch.zeros(self.batch_size,self.q), 'C_W': torch.zeros(self.batch_size,self.q), 'C_exp':torch.zeros(self.batch_size,self.q)}\n",
    "                else :     \n",
    "                    mu_b_single = self.find_each_mean_1d(Y_b,covariates_b,O_b)\n",
    "                    \n",
    "                for key,mu_single in mu_b_single.items(): \n",
    "                    V_b_single[key] = V_orig*self.var[key] +mu_single.unsqueeze(0)\n",
    "                if self.is_perfect_mean == False: \n",
    "                    esp_beta, esp_C_W,esp_C_exp = self.single_batch_MC_term(Y_b, covariates_b, O_b,V_b_single,mu_b_single)  \n",
    "                else : \n",
    "                    t0 = time.time()\n",
    "                    mu_b = self.find_each_mean(Y_b,covariates_b,O_b)\n",
    "                    print('time find mean ', time.time()-t0)\n",
    "                    #self.plot_conditional(Y_b[0],covariates_b[0],O_b[0],mu_b['C_exp'][0], self.q)\n",
    "                    #self.plot_conditional(Y_b[0],covariates_b[0],O_b[0],mu_b['beta'][0], self.q)\n",
    "                    #self.plot_conditional(Y_b[0],covariates_b[0],O_b[0],mu_b['C_W'][0], self.q)\n",
    "                    V_b['beta'], V_b['C_exp'], V_b['C_W'] = self.sample_g(N_samples, mu_b,self.var)\n",
    "                    t0 = time.time()\n",
    "                    esp_beta,esp_C_W,esp_C_exp = self.personalized_batch_MC_term(Y_b,covariates_b, O_b, V_b, mu_b, self.var)\n",
    "                    print('time for esperance ', time.time()- t0)\n",
    "                #mu_to_plot = mu_b_single['beta'].unsqueeze(1) + torch.zeros(self.batch_size,self.p,self.q)\n",
    "                mu_to_plot = mu_b_single['C_exp'].unsqueeze(1).unsqueeze(1) + torch.zeros(self.batch_size,self.p,self.q,self.q)\n",
    "                #mu_to_plot = self.find_each_mean(Y_b, covariates_b,O_b)['C_exp']\n",
    "                print('mu found ', mu_to_plot[0])\n",
    "                self.plot_conditional(Y_b[0],covariates_b[0],O_b[0],mu_to_plot[0], self.q)\n",
    "                #self.plot_conditional(Y_b[0],covariates_b[0],O_b[0],mu_b['beta'][0], self.q)\n",
    "                #self.plot_conditional(Y_b[0],covariates_b[0],O_b[0],mu_b['C_W'][0], self.q)\n",
    "                #print('mine : ', esp_beta_single)\n",
    "                #print('mine ', esp_C_W_single)\n",
    "                #mean,var,max_ = self.get_error_reduction(mu_b,mu_b_single)\n",
    "                #                 print('diff : ', mu_b[name].shape)\n",
    "#                 print('other ', mu_b_single[name].unsqueeze(1).shape)\n",
    "                #my_esp = esp_C_W[0]\n",
    "                #t0 = time.time()\n",
    "                #true_esp_beta, true_esp_C_W, true_esp_C_exp = self.get_true_esp_C_exp_1D(Y_b[0],covariates_b[0],O_b[0])\n",
    "                #print('true esp C_W', true_esp_C_W)\n",
    "                #print('mine : ', my_esp)\n",
    "                #print('mse', torch.mean((true_esp_C_W-my_esp)**2))\n",
    "                #if we want to compare with the true integrals. \n",
    "                '''\n",
    "                self.true_esp_C_exp = self.get_true_esp_pq(Y_b[self.to_watch], covariates_b[self.to_watch],O_b[self.to_watch])\n",
    "                print(' estimation of the pq integral for one sample ', plot_estimation_pq(\n",
    "                    self.inside_exp_C.detach().numpy()[:,self.to_watch]*int(1/self.acc), self.true_esp_C_exp))\n",
    "                '''\n",
    "                # computes the gradients thanks to the integrals\n",
    "                beta_grad, C_grad = self.get_batch_grads(Y_b, covariates_b, O_b, esp_beta, esp_C_W,esp_C_exp)\n",
    "                # computes the mean of the gradients since we computed the gradients for a batch\n",
    "                if optim_C == True : \n",
    "                    self.C.grad = torch.mean(C_grad, axis = 0)/3\n",
    "                else : \n",
    "                    self.C.grad = torch.zeros(self.C.shape)\n",
    "                #print('grad_C', self.C.grad)\n",
    "                if optim_beta == True : \n",
    "                    self.beta.grad = torch.mean(beta_grad, axis = 0) \n",
    "                else :\n",
    "                    self.beta.grad = torch.zeros(self.beta.shape)\n",
    "                # if we want to see what the gradients look like\n",
    "                '''\n",
    "                print('grad_beta ', self.beta.grad)\n",
    "                print('grad_C', self.C.grad) ## regarder, intéressant !\n",
    "                print('Sigma : ', self.get_Sigma())\n",
    "                '''\n",
    "                log_like = vectorized_log_likelihood(Y_b, covariates_b, O_b, torch.randn(100,self.batch_size, self.q),self.C_mean,self.beta_mean)\n",
    "                self.keep_records(log_like.item())\n",
    "                optim.step()# optimization step \n",
    "                optim.zero_grad() # erase the gradients so that they don't accumulate.\n",
    "        return self\n"
   ]
  },
  {
   "cell_type": "code",
   "execution_count": 16,
   "metadata": {},
   "outputs": [],
   "source": [
    "def log_P_WgivenY(self,Y_i,covariates_i, O_i, W,C,beta):\n",
    "    '''\n",
    "    computes the log of the density of (W,Y_i) given Y_i. It should look like a gaussian. \n",
    "    args : \n",
    "        Y_i : tensor of size p \n",
    "        covariates_i : tensor of size d \n",
    "        O_i : tensor of size p \n",
    "        W : torch of size q. should be a gaussian. \n",
    "\n",
    "    return : the log of the probability of (W,Y_i) given Y_i. \n",
    "    '''\n",
    "    A_i = O_i + W.reshape(1,-1)@(C.T) +covariates_i@beta # temporary variable, for a clearer code. \n",
    "    return -1/2*torch.norm(W)**2 + torch.sum(-torch.exp(A_i)+W.reshape(1,-1)@(C.T)*Y_i)\n"
   ]
  },
  {
   "cell_type": "code",
   "execution_count": 17,
   "metadata": {},
   "outputs": [],
   "source": [
    "def plot_distrib():\n",
    "    pass"
   ]
  },
  {
   "cell_type": "markdown",
   "metadata": {},
   "source": [
    "<span style=\"color:red\"> \n",
    "$$\n",
    "\\boxed{\n",
    "\\nabla_{C} \\log p_{\\theta}\\left(Y_{i} \\mid W_{i}\\right)=\\left[Y_{i}- \\exp \\left(O_i +  \\beta^{\\top} X_{i}+CW_{i}{ }\\right)\\right]  W_{i}^{\\top}}\n",
    "$$\n",
    "</span>"
   ]
  },
  {
   "cell_type": "markdown",
   "metadata": {},
   "source": [
    "$$\\exp \\left(-\\frac{1}{2}\\left\\|W_{i}\\right\\|^{2}-\\mathbb 1_{p}^{T} \\exp \\left(0_{i}+\\beta ^{\\top} X_{i}+ CW_{i}\\right)+Y_{i}^{\\top} CW_{i}\\right)$$"
   ]
  },
  {
   "cell_type": "code",
   "execution_count": 18,
   "metadata": {
    "scrolled": true
   },
   "outputs": [
    {
     "ename": "NameError",
     "evalue": "name 'q' is not defined",
     "output_type": "error",
     "traceback": [
      "\u001b[0;31m---------------------------------------------------------------------------\u001b[0m",
      "\u001b[0;31mNameError\u001b[0m                                 Traceback (most recent call last)",
      "\u001b[0;32m<ipython-input-18-7a994d0762fc>\u001b[0m in \u001b[0;36m<module>\u001b[0;34m\u001b[0m\n\u001b[1;32m      1\u001b[0m \u001b[0;31m#### torch.manual_seed(int(time.time())\u001b[0m\u001b[0;34m\u001b[0m\u001b[0;34m\u001b[0m\u001b[0;34m\u001b[0m\u001b[0m\n\u001b[1;32m      2\u001b[0m \u001b[0mbatch_size\u001b[0m \u001b[0;34m=\u001b[0m \u001b[0;36m25\u001b[0m\u001b[0;34m\u001b[0m\u001b[0;34m\u001b[0m\u001b[0m\n\u001b[0;32m----> 3\u001b[0;31m \u001b[0mmodel\u001b[0m \u001b[0;34m=\u001b[0m \u001b[0mMC_PLNPCA\u001b[0m\u001b[0;34m(\u001b[0m\u001b[0mq\u001b[0m\u001b[0;34m,\u001b[0m\u001b[0mbatch_size\u001b[0m\u001b[0;34m,\u001b[0m \u001b[0maverage\u001b[0m \u001b[0;34m=\u001b[0m \u001b[0mn\u001b[0m\u001b[0;34m//\u001b[0m\u001b[0;36m4\u001b[0m\u001b[0;34m,\u001b[0m \u001b[0mis_perfect_mean\u001b[0m \u001b[0;34m=\u001b[0m \u001b[0;32mTrue\u001b[0m\u001b[0;34m,\u001b[0m\u001b[0mtrue_value\u001b[0m \u001b[0;34m=\u001b[0m \u001b[0;32mTrue\u001b[0m\u001b[0;34m,\u001b[0m \u001b[0mvar_beta\u001b[0m \u001b[0;34m=\u001b[0m \u001b[0mbest_var_beta\u001b[0m\u001b[0;34m,\u001b[0m \u001b[0mvar_C\u001b[0m \u001b[0;34m=\u001b[0m \u001b[0;36m1\u001b[0m\u001b[0;34m,\u001b[0m \u001b[0mzero_mean\u001b[0m \u001b[0;34m=\u001b[0m \u001b[0;32mFalse\u001b[0m\u001b[0;34m)\u001b[0m\u001b[0;34m\u001b[0m\u001b[0;34m\u001b[0m\u001b[0m\n\u001b[0m\u001b[1;32m      4\u001b[0m \u001b[0mget_ipython\u001b[0m\u001b[0;34m(\u001b[0m\u001b[0;34m)\u001b[0m\u001b[0;34m.\u001b[0m\u001b[0mrun_line_magic\u001b[0m\u001b[0;34m(\u001b[0m\u001b[0;34m'time'\u001b[0m\u001b[0;34m,\u001b[0m \u001b[0;34m'model.fit_IMPS(Y_sampled,O, covariates,N_iter =1,acc= 0.001,lr = 0, class_optimizer = torch.optim.Adamax,optim_beta = True)'\u001b[0m\u001b[0;34m)\u001b[0m\u001b[0;34m\u001b[0m\u001b[0;34m\u001b[0m\u001b[0m\n\u001b[1;32m      5\u001b[0m \u001b[0;31m#%time model.fit_torch(Y_sampled,O, covariates,N_iter =1,acc= 0.001,lr = 0.02, class_optimizer = torch.optim.Rprop)\u001b[0m\u001b[0;34m\u001b[0m\u001b[0;34m\u001b[0m\u001b[0;34m\u001b[0m\u001b[0m\n",
      "\u001b[0;31mNameError\u001b[0m: name 'q' is not defined"
     ]
    }
   ],
   "source": [
    "#### torch.manual_seed(int(time.time())\n",
    "batch_size = 25\n",
    "model = MC_PLNPCA(q,batch_size, average = n//4, is_perfect_mean = True,true_value = True, var_beta = best_var_beta, var_C = 1, zero_mean = False)\n",
    "%time model.fit_IMPS(Y_sampled,O, covariates,N_iter =1,acc= 0.001,lr = 0, class_optimizer = torch.optim.Adamax,optim_beta = True)\n",
    "#%time model.fit_torch(Y_sampled,O, covariates,N_iter =1,acc= 0.001,lr = 0.02, class_optimizer = torch.optim.Rprop)"
   ]
  },
  {
   "cell_type": "code",
   "execution_count": 19,
   "metadata": {},
   "outputs": [
    {
     "ename": "NameError",
     "evalue": "name 'model' is not defined",
     "output_type": "error",
     "traceback": [
      "\u001b[0;31m---------------------------------------------------------------------------\u001b[0m",
      "\u001b[0;31mNameError\u001b[0m                                 Traceback (most recent call last)",
      "\u001b[0;32m<ipython-input-19-a076670df02e>\u001b[0m in \u001b[0;36m<module>\u001b[0;34m\u001b[0m\n\u001b[0;32m----> 1\u001b[0;31m \u001b[0mshow\u001b[0m\u001b[0;34m(\u001b[0m\u001b[0mmodel\u001b[0m\u001b[0;34m,\u001b[0m \u001b[0;34m''\u001b[0m\u001b[0;34m,\u001b[0m \u001b[0msave\u001b[0m \u001b[0;34m=\u001b[0m \u001b[0;32mFalse\u001b[0m\u001b[0;34m)\u001b[0m\u001b[0;34m\u001b[0m\u001b[0;34m\u001b[0m\u001b[0m\n\u001b[0m",
      "\u001b[0;31mNameError\u001b[0m: name 'model' is not defined"
     ]
    }
   ],
   "source": [
    "show(model, '', save = False)"
   ]
  },
  {
   "cell_type": "code",
   "execution_count": 20,
   "metadata": {},
   "outputs": [
    {
     "ename": "NameError",
     "evalue": "name 'model' is not defined",
     "output_type": "error",
     "traceback": [
      "\u001b[0;31m---------------------------------------------------------------------------\u001b[0m",
      "\u001b[0;31mNameError\u001b[0m                                 Traceback (most recent call last)",
      "\u001b[0;32m<ipython-input-20-16d9959d2fda>\u001b[0m in \u001b[0;36m<module>\u001b[0;34m\u001b[0m\n\u001b[0;32m----> 1\u001b[0;31m \u001b[0mmodel\u001b[0m\u001b[0;34m.\u001b[0m\u001b[0mshow_Sigma\u001b[0m\u001b[0;34m(\u001b[0m\u001b[0;34m)\u001b[0m\u001b[0;34m\u001b[0m\u001b[0;34m\u001b[0m\u001b[0m\n\u001b[0m",
      "\u001b[0;31mNameError\u001b[0m: name 'model' is not defined"
     ]
    }
   ],
   "source": [
    "model.show_Sigma()"
   ]
  },
  {
   "cell_type": "code",
   "execution_count": 21,
   "metadata": {},
   "outputs": [
    {
     "ename": "NameError",
     "evalue": "name 'true_true_Sigma' is not defined",
     "output_type": "error",
     "traceback": [
      "\u001b[0;31m---------------------------------------------------------------------------\u001b[0m",
      "\u001b[0;31mNameError\u001b[0m                                 Traceback (most recent call last)",
      "\u001b[0;32m<ipython-input-21-25350f0bf4d9>\u001b[0m in \u001b[0;36m<module>\u001b[0;34m\u001b[0m\n\u001b[0;32m----> 1\u001b[0;31m \u001b[0mtrue_true_Sigma\u001b[0m\u001b[0;34m\u001b[0m\u001b[0;34m\u001b[0m\u001b[0m\n\u001b[0m",
      "\u001b[0;31mNameError\u001b[0m: name 'true_true_Sigma' is not defined"
     ]
    }
   ],
   "source": [
    "true_true_Sigma"
   ]
  },
  {
   "cell_type": "code",
   "execution_count": 22,
   "metadata": {},
   "outputs": [
    {
     "ename": "NameError",
     "evalue": "name 'true_Sigma' is not defined",
     "output_type": "error",
     "traceback": [
      "\u001b[0;31m---------------------------------------------------------------------------\u001b[0m",
      "\u001b[0;31mNameError\u001b[0m                                 Traceback (most recent call last)",
      "\u001b[0;32m<ipython-input-22-c75647664949>\u001b[0m in \u001b[0;36m<module>\u001b[0;34m\u001b[0m\n\u001b[0;32m----> 1\u001b[0;31m \u001b[0msns\u001b[0m\u001b[0;34m.\u001b[0m\u001b[0mheatmap\u001b[0m\u001b[0;34m(\u001b[0m\u001b[0mtrue_Sigma\u001b[0m\u001b[0;34m)\u001b[0m\u001b[0;34m\u001b[0m\u001b[0;34m\u001b[0m\u001b[0m\n\u001b[0m",
      "\u001b[0;31mNameError\u001b[0m: name 'true_Sigma' is not defined"
     ]
    }
   ],
   "source": [
    "sns.heatmap(true_Sigma)"
   ]
  },
  {
   "cell_type": "code",
   "execution_count": 23,
   "metadata": {},
   "outputs": [
    {
     "ename": "NameError",
     "evalue": "name 'true_Sigma' is not defined",
     "output_type": "error",
     "traceback": [
      "\u001b[0;31m---------------------------------------------------------------------------\u001b[0m",
      "\u001b[0;31mNameError\u001b[0m                                 Traceback (most recent call last)",
      "\u001b[0;32m<ipython-input-23-98fd2c70897c>\u001b[0m in \u001b[0;36m<module>\u001b[0;34m\u001b[0m\n\u001b[0;32m----> 1\u001b[0;31m \u001b[0mtrue_Sigma\u001b[0m\u001b[0;34m\u001b[0m\u001b[0;34m\u001b[0m\u001b[0m\n\u001b[0m",
      "\u001b[0;31mNameError\u001b[0m: name 'true_Sigma' is not defined"
     ]
    }
   ],
   "source": [
    "true_Sigma"
   ]
  },
  {
   "cell_type": "code",
   "execution_count": 24,
   "metadata": {},
   "outputs": [
    {
     "ename": "NameError",
     "evalue": "name 'true_true_Sigma' is not defined",
     "output_type": "error",
     "traceback": [
      "\u001b[0;31m---------------------------------------------------------------------------\u001b[0m",
      "\u001b[0;31mNameError\u001b[0m                                 Traceback (most recent call last)",
      "\u001b[0;32m<ipython-input-24-8bd50c2f7446>\u001b[0m in \u001b[0;36m<module>\u001b[0;34m\u001b[0m\n\u001b[0;32m----> 1\u001b[0;31m \u001b[0mtorch\u001b[0m\u001b[0;34m.\u001b[0m\u001b[0mmean\u001b[0m\u001b[0;34m(\u001b[0m\u001b[0;34m(\u001b[0m\u001b[0mtrue_true_Sigma\u001b[0m\u001b[0;34m-\u001b[0m\u001b[0mtrue_C\u001b[0m\u001b[0;34m@\u001b[0m\u001b[0;34m(\u001b[0m\u001b[0mtrue_C\u001b[0m\u001b[0;34m.\u001b[0m\u001b[0mT\u001b[0m\u001b[0;34m)\u001b[0m\u001b[0;34m)\u001b[0m\u001b[0;34m**\u001b[0m\u001b[0;36m2\u001b[0m\u001b[0;34m)\u001b[0m\u001b[0;34m\u001b[0m\u001b[0;34m\u001b[0m\u001b[0m\n\u001b[0m",
      "\u001b[0;31mNameError\u001b[0m: name 'true_true_Sigma' is not defined"
     ]
    }
   ],
   "source": [
    "torch.mean((true_true_Sigma-true_C@(true_C.T))**2)"
   ]
  },
  {
   "cell_type": "code",
   "execution_count": null,
   "metadata": {},
   "outputs": [],
   "source": [
    "model.beta_mean"
   ]
  },
  {
   "cell_type": "code",
   "execution_count": 25,
   "metadata": {},
   "outputs": [
    {
     "ename": "NameError",
     "evalue": "name 'true_beta' is not defined",
     "output_type": "error",
     "traceback": [
      "\u001b[0;31m---------------------------------------------------------------------------\u001b[0m",
      "\u001b[0;31mNameError\u001b[0m                                 Traceback (most recent call last)",
      "\u001b[0;32m<ipython-input-25-40e5b75544d1>\u001b[0m in \u001b[0;36m<module>\u001b[0;34m\u001b[0m\n\u001b[0;32m----> 1\u001b[0;31m \u001b[0mtrue_beta\u001b[0m\u001b[0;34m\u001b[0m\u001b[0;34m\u001b[0m\u001b[0m\n\u001b[0m",
      "\u001b[0;31mNameError\u001b[0m: name 'true_beta' is not defined"
     ]
    }
   ],
   "source": [
    "true_beta"
   ]
  },
  {
   "cell_type": "code",
   "execution_count": 174,
   "metadata": {},
   "outputs": [],
   "source": [
    "d = 2\n",
    "n = 400;  p = 200\n",
    "q = 200"
   ]
  },
  {
   "cell_type": "code",
   "execution_count": 175,
   "metadata": {},
   "outputs": [
    {
     "name": "stderr",
     "output_type": "stream",
     "text": [
      "<ipython-input-5-b0e7c438e969>:27: RuntimeWarning: invalid value encountered in sqrt\n",
      "  C_reduct = v[:,-q:]@np.diag(np.sqrt(w[-q:])) # we take only the q best.\n"
     ]
    },
    {
     "ename": "ValueError",
     "evalue": "array must not contain infs or NaNs",
     "output_type": "error",
     "traceback": [
      "\u001b[0;31m---------------------------------------------------------------------------\u001b[0m",
      "\u001b[0;31mValueError\u001b[0m                                Traceback (most recent call last)",
      "\u001b[0;32m<ipython-input-175-97734724ee48>\u001b[0m in \u001b[0;36m<module>\u001b[0;34m\u001b[0m\n\u001b[1;32m      8\u001b[0m \u001b[0mO\u001b[0m \u001b[0;34m=\u001b[0m  \u001b[0;36m0\u001b[0m\u001b[0;34m+\u001b[0m\u001b[0mtorch\u001b[0m\u001b[0;34m.\u001b[0m\u001b[0mzeros\u001b[0m\u001b[0;34m(\u001b[0m\u001b[0;34m(\u001b[0m\u001b[0mn\u001b[0m\u001b[0;34m,\u001b[0m\u001b[0mp\u001b[0m\u001b[0;34m)\u001b[0m\u001b[0;34m)\u001b[0m\u001b[0;34m\u001b[0m\u001b[0;34m\u001b[0m\u001b[0m\n\u001b[1;32m      9\u001b[0m \u001b[0msample_model\u001b[0m \u001b[0;34m=\u001b[0m \u001b[0msample_PLN\u001b[0m\u001b[0;34m(\u001b[0m\u001b[0;34m)\u001b[0m\u001b[0;34m\u001b[0m\u001b[0;34m\u001b[0m\u001b[0m\n\u001b[0;32m---> 10\u001b[0;31m \u001b[0mY_sampled\u001b[0m\u001b[0;34m,\u001b[0m \u001b[0mZ_sampled\u001b[0m  \u001b[0;34m=\u001b[0m \u001b[0msample_model\u001b[0m\u001b[0;34m.\u001b[0m\u001b[0msample\u001b[0m\u001b[0;34m(\u001b[0m\u001b[0mtrue_Sigma\u001b[0m\u001b[0;34m,\u001b[0m\u001b[0mtrue_beta\u001b[0m\u001b[0;34m,\u001b[0m \u001b[0mO\u001b[0m\u001b[0;34m,\u001b[0m \u001b[0mcovariates\u001b[0m\u001b[0;34m)\u001b[0m\u001b[0;34m\u001b[0m\u001b[0;34m\u001b[0m\u001b[0m\n\u001b[0m\u001b[1;32m     11\u001b[0m \u001b[0mY_sampled\u001b[0m \u001b[0;34m=\u001b[0m \u001b[0mtorch\u001b[0m\u001b[0;34m.\u001b[0m\u001b[0mfrom_numpy\u001b[0m\u001b[0;34m(\u001b[0m\u001b[0mY_sampled\u001b[0m\u001b[0;34m)\u001b[0m\u001b[0;34m\u001b[0m\u001b[0;34m\u001b[0m\u001b[0m\n",
      "\u001b[0;32m~/Documents/Stage/PLNpy/utils.py\u001b[0m in \u001b[0;36msample\u001b[0;34m(self, Sigma, beta, O, covariates)\u001b[0m\n\u001b[1;32m    209\u001b[0m         \u001b[0mself\u001b[0m\u001b[0;34m.\u001b[0m\u001b[0mp\u001b[0m \u001b[0;34m=\u001b[0m \u001b[0mself\u001b[0m\u001b[0;34m.\u001b[0m\u001b[0mSigma\u001b[0m\u001b[0;34m.\u001b[0m\u001b[0mshape\u001b[0m\u001b[0;34m[\u001b[0m\u001b[0;36m0\u001b[0m\u001b[0;34m]\u001b[0m\u001b[0;34m\u001b[0m\u001b[0;34m\u001b[0m\u001b[0m\n\u001b[1;32m    210\u001b[0m         \u001b[0;31m#chol = torch.cholesky(self.Sigma)\u001b[0m\u001b[0;34m\u001b[0m\u001b[0;34m\u001b[0m\u001b[0;34m\u001b[0m\u001b[0m\n\u001b[0;32m--> 211\u001b[0;31m         \u001b[0mroot\u001b[0m \u001b[0;34m=\u001b[0m \u001b[0mtorch\u001b[0m\u001b[0;34m.\u001b[0m\u001b[0mfrom_numpy\u001b[0m\u001b[0;34m(\u001b[0m\u001b[0mSLA\u001b[0m\u001b[0;34m.\u001b[0m\u001b[0msqrtm\u001b[0m\u001b[0;34m(\u001b[0m\u001b[0mself\u001b[0m\u001b[0;34m.\u001b[0m\u001b[0mSigma\u001b[0m\u001b[0;34m)\u001b[0m\u001b[0;34m)\u001b[0m\u001b[0;34m.\u001b[0m\u001b[0mdouble\u001b[0m\u001b[0;34m(\u001b[0m\u001b[0;34m)\u001b[0m\u001b[0;34m\u001b[0m\u001b[0;34m\u001b[0m\u001b[0m\n\u001b[0m\u001b[1;32m    212\u001b[0m         \u001b[0mself\u001b[0m\u001b[0;34m.\u001b[0m\u001b[0mZ\u001b[0m \u001b[0;34m=\u001b[0m \u001b[0mtorch\u001b[0m\u001b[0;34m.\u001b[0m\u001b[0mmm\u001b[0m\u001b[0;34m(\u001b[0m\u001b[0mtorch\u001b[0m\u001b[0;34m.\u001b[0m\u001b[0mrandn\u001b[0m\u001b[0;34m(\u001b[0m\u001b[0mself\u001b[0m\u001b[0;34m.\u001b[0m\u001b[0mn\u001b[0m\u001b[0;34m,\u001b[0m\u001b[0mself\u001b[0m\u001b[0;34m.\u001b[0m\u001b[0mp\u001b[0m\u001b[0;34m)\u001b[0m\u001b[0;34m,\u001b[0m\u001b[0mroot\u001b[0m\u001b[0;34m)\u001b[0m\u001b[0;34m\u001b[0m\u001b[0;34m\u001b[0m\u001b[0m\n\u001b[1;32m    213\u001b[0m         \u001b[0mparameter\u001b[0m \u001b[0;34m=\u001b[0m \u001b[0mnp\u001b[0m\u001b[0;34m.\u001b[0m\u001b[0mexp\u001b[0m\u001b[0;34m(\u001b[0m\u001b[0mself\u001b[0m\u001b[0;34m.\u001b[0m\u001b[0mO\u001b[0m \u001b[0;34m+\u001b[0m \u001b[0mself\u001b[0m\u001b[0;34m.\u001b[0m\u001b[0mcovariates\u001b[0m\u001b[0;34m@\u001b[0m\u001b[0mself\u001b[0m\u001b[0;34m.\u001b[0m\u001b[0mbeta\u001b[0m \u001b[0;34m+\u001b[0m \u001b[0mself\u001b[0m\u001b[0;34m.\u001b[0m\u001b[0mZ\u001b[0m\u001b[0;34m.\u001b[0m\u001b[0mnumpy\u001b[0m\u001b[0;34m(\u001b[0m\u001b[0;34m)\u001b[0m\u001b[0;34m)\u001b[0m\u001b[0;34m\u001b[0m\u001b[0;34m\u001b[0m\u001b[0m\n",
      "\u001b[0;32m~/anaconda3/lib/python3.8/site-packages/scipy/linalg/_matfuncs_sqrtm.py\u001b[0m in \u001b[0;36msqrtm\u001b[0;34m(A, disp, blocksize)\u001b[0m\n\u001b[1;32m    156\u001b[0m \u001b[0;34m\u001b[0m\u001b[0m\n\u001b[1;32m    157\u001b[0m     \"\"\"\n\u001b[0;32m--> 158\u001b[0;31m     \u001b[0mA\u001b[0m \u001b[0;34m=\u001b[0m \u001b[0m_asarray_validated\u001b[0m\u001b[0;34m(\u001b[0m\u001b[0mA\u001b[0m\u001b[0;34m,\u001b[0m \u001b[0mcheck_finite\u001b[0m\u001b[0;34m=\u001b[0m\u001b[0;32mTrue\u001b[0m\u001b[0;34m,\u001b[0m \u001b[0mas_inexact\u001b[0m\u001b[0;34m=\u001b[0m\u001b[0;32mTrue\u001b[0m\u001b[0;34m)\u001b[0m\u001b[0;34m\u001b[0m\u001b[0;34m\u001b[0m\u001b[0m\n\u001b[0m\u001b[1;32m    159\u001b[0m     \u001b[0;32mif\u001b[0m \u001b[0mlen\u001b[0m\u001b[0;34m(\u001b[0m\u001b[0mA\u001b[0m\u001b[0;34m.\u001b[0m\u001b[0mshape\u001b[0m\u001b[0;34m)\u001b[0m \u001b[0;34m!=\u001b[0m \u001b[0;36m2\u001b[0m\u001b[0;34m:\u001b[0m\u001b[0;34m\u001b[0m\u001b[0;34m\u001b[0m\u001b[0m\n\u001b[1;32m    160\u001b[0m         \u001b[0;32mraise\u001b[0m \u001b[0mValueError\u001b[0m\u001b[0;34m(\u001b[0m\u001b[0;34m\"Non-matrix input to matrix function.\"\u001b[0m\u001b[0;34m)\u001b[0m\u001b[0;34m\u001b[0m\u001b[0;34m\u001b[0m\u001b[0m\n",
      "\u001b[0;32m~/anaconda3/lib/python3.8/site-packages/scipy/_lib/_util.py\u001b[0m in \u001b[0;36m_asarray_validated\u001b[0;34m(a, check_finite, sparse_ok, objects_ok, mask_ok, as_inexact)\u001b[0m\n\u001b[1;32m    260\u001b[0m             \u001b[0;32mraise\u001b[0m \u001b[0mValueError\u001b[0m\u001b[0;34m(\u001b[0m\u001b[0;34m'masked arrays are not supported'\u001b[0m\u001b[0;34m)\u001b[0m\u001b[0;34m\u001b[0m\u001b[0;34m\u001b[0m\u001b[0m\n\u001b[1;32m    261\u001b[0m     \u001b[0mtoarray\u001b[0m \u001b[0;34m=\u001b[0m \u001b[0mnp\u001b[0m\u001b[0;34m.\u001b[0m\u001b[0masarray_chkfinite\u001b[0m \u001b[0;32mif\u001b[0m \u001b[0mcheck_finite\u001b[0m \u001b[0;32melse\u001b[0m \u001b[0mnp\u001b[0m\u001b[0;34m.\u001b[0m\u001b[0masarray\u001b[0m\u001b[0;34m\u001b[0m\u001b[0;34m\u001b[0m\u001b[0m\n\u001b[0;32m--> 262\u001b[0;31m     \u001b[0ma\u001b[0m \u001b[0;34m=\u001b[0m \u001b[0mtoarray\u001b[0m\u001b[0;34m(\u001b[0m\u001b[0ma\u001b[0m\u001b[0;34m)\u001b[0m\u001b[0;34m\u001b[0m\u001b[0;34m\u001b[0m\u001b[0m\n\u001b[0m\u001b[1;32m    263\u001b[0m     \u001b[0;32mif\u001b[0m \u001b[0;32mnot\u001b[0m \u001b[0mobjects_ok\u001b[0m\u001b[0;34m:\u001b[0m\u001b[0;34m\u001b[0m\u001b[0;34m\u001b[0m\u001b[0m\n\u001b[1;32m    264\u001b[0m         \u001b[0;32mif\u001b[0m \u001b[0ma\u001b[0m\u001b[0;34m.\u001b[0m\u001b[0mdtype\u001b[0m \u001b[0;32mis\u001b[0m \u001b[0mnp\u001b[0m\u001b[0;34m.\u001b[0m\u001b[0mdtype\u001b[0m\u001b[0;34m(\u001b[0m\u001b[0;34m'O'\u001b[0m\u001b[0;34m)\u001b[0m\u001b[0;34m:\u001b[0m\u001b[0;34m\u001b[0m\u001b[0;34m\u001b[0m\u001b[0m\n",
      "\u001b[0;32m~/.local/lib/python3.8/site-packages/numpy/lib/function_base.py\u001b[0m in \u001b[0;36masarray_chkfinite\u001b[0;34m(a, dtype, order)\u001b[0m\n\u001b[1;32m    483\u001b[0m     \u001b[0ma\u001b[0m \u001b[0;34m=\u001b[0m \u001b[0masarray\u001b[0m\u001b[0;34m(\u001b[0m\u001b[0ma\u001b[0m\u001b[0;34m,\u001b[0m \u001b[0mdtype\u001b[0m\u001b[0;34m=\u001b[0m\u001b[0mdtype\u001b[0m\u001b[0;34m,\u001b[0m \u001b[0morder\u001b[0m\u001b[0;34m=\u001b[0m\u001b[0morder\u001b[0m\u001b[0;34m)\u001b[0m\u001b[0;34m\u001b[0m\u001b[0;34m\u001b[0m\u001b[0m\n\u001b[1;32m    484\u001b[0m     \u001b[0;32mif\u001b[0m \u001b[0ma\u001b[0m\u001b[0;34m.\u001b[0m\u001b[0mdtype\u001b[0m\u001b[0;34m.\u001b[0m\u001b[0mchar\u001b[0m \u001b[0;32min\u001b[0m \u001b[0mtypecodes\u001b[0m\u001b[0;34m[\u001b[0m\u001b[0;34m'AllFloat'\u001b[0m\u001b[0;34m]\u001b[0m \u001b[0;32mand\u001b[0m \u001b[0;32mnot\u001b[0m \u001b[0mnp\u001b[0m\u001b[0;34m.\u001b[0m\u001b[0misfinite\u001b[0m\u001b[0;34m(\u001b[0m\u001b[0ma\u001b[0m\u001b[0;34m)\u001b[0m\u001b[0;34m.\u001b[0m\u001b[0mall\u001b[0m\u001b[0;34m(\u001b[0m\u001b[0;34m)\u001b[0m\u001b[0;34m:\u001b[0m\u001b[0;34m\u001b[0m\u001b[0;34m\u001b[0m\u001b[0m\n\u001b[0;32m--> 485\u001b[0;31m         raise ValueError(\n\u001b[0m\u001b[1;32m    486\u001b[0m             \"array must not contain infs or NaNs\")\n\u001b[1;32m    487\u001b[0m     \u001b[0;32mreturn\u001b[0m \u001b[0ma\u001b[0m\u001b[0;34m\u001b[0m\u001b[0;34m\u001b[0m\u001b[0m\n",
      "\u001b[0;31mValueError\u001b[0m: array must not contain infs or NaNs"
     ]
    }
   ],
   "source": [
    "torch.manual_seed(0)\n",
    "true_true_Sigma = 1*torch.from_numpy(build_block_Sigma(p,q))/2 #+ 0.5*torch.eye(p)\n",
    "true_C = torch.from_numpy(C_from_Sigma(true_true_Sigma, q))\n",
    "true_Sigma = true_C@(true_C.T)\n",
    "true_beta =torch.randn((d, p))/1\n",
    "\n",
    "covariates = torch.randn((n,d))/1\n",
    "O =  0+torch.zeros((n,p))\n",
    "sample_model = sample_PLN()\n",
    "Y_sampled, Z_sampled  = sample_model.sample(true_Sigma,true_beta, O, covariates)\n",
    "Y_sampled = torch.from_numpy(Y_sampled)"
   ]
  },
  {
   "cell_type": "code",
   "execution_count": 168,
   "metadata": {},
   "outputs": [
    {
     "data": {
      "text/plain": [
       "tensor([[4.2119e+00, 9.5000e-02, 9.0250e-02,  ..., 4.0884e-06, 3.8840e-06,\n",
       "         3.6898e-06],\n",
       "        [9.5000e-02, 1.2601e+00, 9.5000e-02,  ..., 4.3035e-06, 4.0884e-06,\n",
       "         3.8840e-06],\n",
       "        [9.0250e-02, 9.5000e-02, 2.0579e+00,  ..., 4.5301e-06, 4.3035e-06,\n",
       "         4.0884e-06],\n",
       "        ...,\n",
       "        [4.0884e-06, 4.3035e-06, 4.5301e-06,  ..., 1.7782e+00, 9.5000e-02,\n",
       "         9.0250e-02],\n",
       "        [3.8840e-06, 4.0884e-06, 4.3035e-06,  ..., 9.5000e-02, 5.7796e+00,\n",
       "         9.5000e-02],\n",
       "        [3.6898e-06, 3.8840e-06, 4.0884e-06,  ..., 9.0250e-02, 9.5000e-02,\n",
       "         2.8863e+00]])"
      ]
     },
     "execution_count": 168,
     "metadata": {},
     "output_type": "execute_result"
    }
   ],
   "source": [
    "torch.from_numpy(build_block_Sigma(p,q))"
   ]
  },
  {
   "cell_type": "code",
   "execution_count": 28,
   "metadata": {},
   "outputs": [
    {
     "data": {
      "text/plain": [
       "<AxesSubplot:>"
      ]
     },
     "execution_count": 28,
     "metadata": {},
     "output_type": "execute_result"
    },
    {
     "data": {
      "image/png": "[encoded data removed]",
      "text/plain": [
       "<Figure size 432x288 with 2 Axes>"
      ]
     },
     "metadata": {
      "needs_background": "light"
     },
     "output_type": "display_data"
    }
   ],
   "source": [
    "sns.heatmap(true_Sigma.numpy())"
   ]
  },
  {
   "cell_type": "code",
   "execution_count": 29,
   "metadata": {},
   "outputs": [
    {
     "data": {
      "text/plain": [
       "tensor([[2.1059, 0.0475],\n",
       "        [0.0475, 0.6301]])"
      ]
     },
     "execution_count": 29,
     "metadata": {},
     "output_type": "execute_result"
    }
   ],
   "source": [
    "true_Sigma"
   ]
  },
  {
   "cell_type": "code",
   "execution_count": 30,
   "metadata": {},
   "outputs": [
    {
     "name": "stdout",
     "output_type": "stream",
     "text": [
      "max : tensor(40070)\n"
     ]
    }
   ],
   "source": [
    "print('max :', torch.max(Y_sampled))"
   ]
  },
  {
   "cell_type": "code",
   "execution_count": 31,
   "metadata": {},
   "outputs": [
    {
     "name": "stdout",
     "output_type": "stream",
     "text": [
      "MSE Sigma tensor(0.0012, grad_fn=<MeanBackward0>)\n",
      "MSE beta tensor(0.0042, grad_fn=<MeanBackward0>)\n"
     ]
    }
   ],
   "source": [
    "from fastPLN import fastPLN\n",
    "\n",
    "\n",
    "fastmodel = fastPLN()\n",
    "fastmodel.fit(Y_sampled,O,covariates, 50)\n",
    "print('MSE Sigma', torch.mean((fastmodel.Sigma-true_Sigma)**2))\n",
    "print('MSE beta', torch.mean((fastmodel.beta-true_beta)**2))"
   ]
  },
  {
   "cell_type": "code",
   "execution_count": 32,
   "metadata": {},
   "outputs": [],
   "source": [
    "def f(eps) : \n",
    "    return torch.mean(torch.abs(torch.log(Y_sampled + eps*(Y_sampled == 0))-Z_sampled))"
   ]
  },
  {
   "cell_type": "markdown",
   "metadata": {},
   "source": [
    "### $\\Sigma$ MLE "
   ]
  },
  {
   "cell_type": "code",
   "execution_count": 33,
   "metadata": {},
   "outputs": [
    {
     "name": "stdout",
     "output_type": "stream",
     "text": [
      "MLE :\n"
     ]
    },
    {
     "data": {
      "image/png": "[encoded data removed]",
      "text/plain": [
       "<Figure size 432x288 with 2 Axes>"
      ]
     },
     "metadata": {
      "needs_background": "light"
     },
     "output_type": "display_data"
    },
    {
     "name": "stdout",
     "output_type": "stream",
     "text": [
      "true Sigma\n"
     ]
    },
    {
     "data": {
      "image/png": "[encoded data removed]",
      "text/plain": [
       "<Figure size 432x288 with 2 Axes>"
      ]
     },
     "metadata": {
      "needs_background": "light"
     },
     "output_type": "display_data"
    },
    {
     "name": "stdout",
     "output_type": "stream",
     "text": [
      "Best MSE we can have (in our dream):  tensor(0.0007)\n"
     ]
    }
   ],
   "source": [
    "## Here we plot the MLE for Z the latent variables. They are unknown in practice\n",
    "## this is just to see the difference between our result and the best result possible \n",
    "mu_MLE = torch.mean(Z_sampled, dim = 0)\n",
    "m = mu_MLE.shape[0]\n",
    "Sigma_MLE = 1/Z_sampled.shape[0]*((Z_sampled-mu_MLE).T)@(Z_sampled-mu_MLE)\n",
    "print('MLE :')\n",
    "sns.heatmap(Sigma_MLE.to(torch.device('cpu')))\n",
    "plt.show()\n",
    "print('true Sigma')\n",
    "sns.heatmap(true_Sigma.to(torch.device('cpu')))\n",
    "plt.show()\n",
    "best_MSE_Sigma = torch.mean((Sigma_MLE.to(device)-true_Sigma)**2)\n",
    "print('Best MSE we can have (in our dream): ', best_MSE_Sigma)"
   ]
  },
  {
   "cell_type": "markdown",
   "metadata": {},
   "source": [
    "### $\\beta$ MLE"
   ]
  },
  {
   "cell_type": "code",
   "execution_count": 34,
   "metadata": {},
   "outputs": [
    {
     "ename": "ValueError",
     "evalue": "illegal value in 4-th argument of internal None",
     "output_type": "error",
     "traceback": [
      "\u001b[0;31m---------------------------------------------------------------------------\u001b[0m",
      "\u001b[0;31mValueError\u001b[0m                                Traceback (most recent call last)",
      "\u001b[0;32m<ipython-input-34-1034e8ffc062>\u001b[0m in \u001b[0;36m<module>\u001b[0;34m\u001b[0m\n\u001b[1;32m      2\u001b[0m \u001b[0;34m\u001b[0m\u001b[0m\n\u001b[1;32m      3\u001b[0m \u001b[0mclf\u001b[0m \u001b[0;34m=\u001b[0m \u001b[0mLinearRegression\u001b[0m\u001b[0;34m(\u001b[0m\u001b[0;34m)\u001b[0m\u001b[0;34m\u001b[0m\u001b[0;34m\u001b[0m\u001b[0m\n\u001b[0;32m----> 4\u001b[0;31m \u001b[0mclf\u001b[0m\u001b[0;34m.\u001b[0m\u001b[0mfit\u001b[0m\u001b[0;34m(\u001b[0m\u001b[0mcovariates\u001b[0m\u001b[0;34m,\u001b[0m\u001b[0mtarget\u001b[0m\u001b[0;34m)\u001b[0m\u001b[0;34m\u001b[0m\u001b[0;34m\u001b[0m\u001b[0m\n\u001b[0m\u001b[1;32m      5\u001b[0m \u001b[0mbeta_dream\u001b[0m \u001b[0;34m=\u001b[0m \u001b[0mtorch\u001b[0m\u001b[0;34m.\u001b[0m\u001b[0mfrom_numpy\u001b[0m\u001b[0;34m(\u001b[0m\u001b[0mclf\u001b[0m\u001b[0;34m.\u001b[0m\u001b[0mcoef_\u001b[0m\u001b[0;34m.\u001b[0m\u001b[0mT\u001b[0m\u001b[0;34m)\u001b[0m\u001b[0;34m\u001b[0m\u001b[0;34m\u001b[0m\u001b[0m\n\u001b[1;32m      6\u001b[0m \u001b[0mbest_MSE_beta\u001b[0m \u001b[0;34m=\u001b[0m \u001b[0mtorch\u001b[0m\u001b[0;34m.\u001b[0m\u001b[0mmean\u001b[0m\u001b[0;34m(\u001b[0m\u001b[0;34m(\u001b[0m\u001b[0mbeta_dream\u001b[0m\u001b[0;34m-\u001b[0m\u001b[0mtrue_beta\u001b[0m\u001b[0;34m)\u001b[0m\u001b[0;34m**\u001b[0m\u001b[0;36m2\u001b[0m\u001b[0;34m)\u001b[0m\u001b[0;34m\u001b[0m\u001b[0;34m\u001b[0m\u001b[0m\n",
      "\u001b[0;32m~/anaconda3/lib/python3.8/site-packages/sklearn/linear_model/_base.py\u001b[0m in \u001b[0;36mfit\u001b[0;34m(self, X, y, sample_weight)\u001b[0m\n\u001b[1;32m    567\u001b[0m         \u001b[0;32melse\u001b[0m\u001b[0;34m:\u001b[0m\u001b[0;34m\u001b[0m\u001b[0;34m\u001b[0m\u001b[0m\n\u001b[1;32m    568\u001b[0m             \u001b[0mself\u001b[0m\u001b[0;34m.\u001b[0m\u001b[0mcoef_\u001b[0m\u001b[0;34m,\u001b[0m \u001b[0mself\u001b[0m\u001b[0;34m.\u001b[0m\u001b[0m_residues\u001b[0m\u001b[0;34m,\u001b[0m \u001b[0mself\u001b[0m\u001b[0;34m.\u001b[0m\u001b[0mrank_\u001b[0m\u001b[0;34m,\u001b[0m \u001b[0mself\u001b[0m\u001b[0;34m.\u001b[0m\u001b[0msingular_\u001b[0m \u001b[0;34m=\u001b[0m\u001b[0;31m \u001b[0m\u001b[0;31m\\\u001b[0m\u001b[0;34m\u001b[0m\u001b[0;34m\u001b[0m\u001b[0m\n\u001b[0;32m--> 569\u001b[0;31m                 \u001b[0mlinalg\u001b[0m\u001b[0;34m.\u001b[0m\u001b[0mlstsq\u001b[0m\u001b[0;34m(\u001b[0m\u001b[0mX\u001b[0m\u001b[0;34m,\u001b[0m \u001b[0my\u001b[0m\u001b[0;34m)\u001b[0m\u001b[0;34m\u001b[0m\u001b[0;34m\u001b[0m\u001b[0m\n\u001b[0m\u001b[1;32m    570\u001b[0m             \u001b[0mself\u001b[0m\u001b[0;34m.\u001b[0m\u001b[0mcoef_\u001b[0m \u001b[0;34m=\u001b[0m \u001b[0mself\u001b[0m\u001b[0;34m.\u001b[0m\u001b[0mcoef_\u001b[0m\u001b[0;34m.\u001b[0m\u001b[0mT\u001b[0m\u001b[0;34m\u001b[0m\u001b[0;34m\u001b[0m\u001b[0m\n\u001b[1;32m    571\u001b[0m \u001b[0;34m\u001b[0m\u001b[0m\n",
      "\u001b[0;32m~/anaconda3/lib/python3.8/site-packages/scipy/linalg/basic.py\u001b[0m in \u001b[0;36mlstsq\u001b[0;34m(a, b, cond, overwrite_a, overwrite_b, check_finite, lapack_driver)\u001b[0m\n\u001b[1;32m   1207\u001b[0m             \u001b[0;32mraise\u001b[0m \u001b[0mLinAlgError\u001b[0m\u001b[0;34m(\u001b[0m\u001b[0;34m\"SVD did not converge in Linear Least Squares\"\u001b[0m\u001b[0;34m)\u001b[0m\u001b[0;34m\u001b[0m\u001b[0;34m\u001b[0m\u001b[0m\n\u001b[1;32m   1208\u001b[0m         \u001b[0;32mif\u001b[0m \u001b[0minfo\u001b[0m \u001b[0;34m<\u001b[0m \u001b[0;36m0\u001b[0m\u001b[0;34m:\u001b[0m\u001b[0;34m\u001b[0m\u001b[0;34m\u001b[0m\u001b[0m\n\u001b[0;32m-> 1209\u001b[0;31m             raise ValueError('illegal value in %d-th argument of internal %s'\n\u001b[0m\u001b[1;32m   1210\u001b[0m                              % (-info, lapack_driver))\n\u001b[1;32m   1211\u001b[0m         \u001b[0mresids\u001b[0m \u001b[0;34m=\u001b[0m \u001b[0mnp\u001b[0m\u001b[0;34m.\u001b[0m\u001b[0masarray\u001b[0m\u001b[0;34m(\u001b[0m\u001b[0;34m[\u001b[0m\u001b[0;34m]\u001b[0m\u001b[0;34m,\u001b[0m \u001b[0mdtype\u001b[0m\u001b[0;34m=\u001b[0m\u001b[0mx\u001b[0m\u001b[0;34m.\u001b[0m\u001b[0mdtype\u001b[0m\u001b[0;34m)\u001b[0m\u001b[0;34m\u001b[0m\u001b[0;34m\u001b[0m\u001b[0m\n",
      "\u001b[0;31mValueError\u001b[0m: illegal value in 4-th argument of internal None"
     ]
    }
   ],
   "source": [
    "target = Z_sampled+ torch.mm(covariates,true_beta)\n",
    "\n",
    "clf = LinearRegression()\n",
    "clf.fit(covariates,target)\n",
    "beta_dream = torch.from_numpy(clf.coef_.T)\n",
    "best_MSE_beta = torch.mean((beta_dream-true_beta)**2)\n",
    "print('MSE beta in the latent layer: ', best_MSE_beta)"
   ]
  },
  {
   "cell_type": "markdown",
   "metadata": {},
   "source": [
    "$$\n",
    "\\begin{aligned}\n",
    "W_{i} & \\sim \\mathcal{N}\\left(0, I_{q}\\right), \\text { iid, } \\quad i=1, \\ldots, n \\\\\n",
    "Z_{i} &=\\beta^{\\top}\\mathbf{x}_{i} +\\mathbf{C}W_i , \\quad i \\in 1, \\ldots, n \\\\\n",
    "Y_{i j} \\mid Z_{i j} & \\sim \\mathcal{P}\\left(\\exp \\left(o_{i j}+Z_{i j}\\right)\\right)\n",
    "\\end{aligned}\n",
    "$$"
   ]
  },
  {
   "cell_type": "markdown",
   "metadata": {},
   "source": [
    "### First method : direct optimization of the likelihood"
   ]
  },
  {
   "cell_type": "markdown",
   "metadata": {},
   "source": [
    "We want to maximize the likelihood with respect to $\\theta$ : \n",
    "\n",
    "\n",
    "$$\\max _{\\theta} P_{\\theta}(Y)$$\n",
    "\n",
    "But we need to integrate out $W$ in order to compute the quantity inside the max : \n",
    "\n",
    "$$\n",
    "\\begin{aligned}\n",
    "P_{\\theta}\\left(Y_{i}\\right) &=\\int P_{\\theta}\\left(Y_{i}, W\\right) d W \\\\\n",
    "&=\\int P_{\\theta}\\left(Y_{i} \\mid W\\right) p(W) d W\n",
    "\\end{aligned}\n",
    "$$\n",
    "\n",
    "This integral being untractable, we are going to approximate it with Monte Carlo methods : \n",
    "\n",
    "$$\n",
    "\\int p_{\\theta}\\left(Y_{i} \\mid W\\right) p(W) d W \\approx \\frac{1}{K} \\sum_{k = 1 }^Kp_{\\theta}\\left(Y_{i} \\mid W_{i,k}\\right) p\\left(W_{i,k}\\right)\n",
    "$$\n",
    "$$W_{i,k} \\sim \\mathcal N (0, I_q)$$\n",
    "\n",
    "The larger the $K$ the better the approximation.  \n",
    "\n",
    "Let's compute $p_{\\theta}\\left(Y_{i} \\mid W_i\\right) p\\left(W_i\\right)$. \n",
    "\n",
    "\n",
    "First, \n",
    "\n",
    "$$\n",
    "P\\left(W_{i}\\right)=\\frac{1}{\\sqrt{2 \\pi}} \\exp \\left(-\\frac{1}{2}\\left\\|W_{i}\\right\\|_{2}^{2}\\right)\n",
    "$$ \n",
    "\n",
    "Then, \n",
    "\n",
    "$$\n",
    "\\begin{aligned}\n",
    "P_{\\theta}\\left(Y_{i} \\mid W_{i}\\right) &=\\prod_{j=1}^{p} p_{\\theta}\\left(Y_{i j} \\mid W_{i}\\right) \\\\\n",
    "&=\\prod_{j=1}^{P} \\frac{1}{Y_{i j} !} \\exp \\left(-\\exp \\left(o_{i j}+z_{i j}\\right)\\right) \\exp \\left(o_{i j}+z_{i j}\\right)^{Y_{ij}}\n",
    "\\end{aligned}\n",
    "$$\n",
    "$$\n",
    "Z_{i j}=x_{i}^{\\top} \\beta_{:,j}+ C_{j}^{\\top}W_{i}\n",
    "$$\n",
    "\n",
    "Putting all together : \n",
    "\n",
    "$$\n",
    "\\begin{aligned}\n",
    "p_{\\theta}\\left(Y_{i} \\mid W_{i}\\right) p\\left(W_{i}\\right) \n",
    "& =\\operatorname{const} \\times \\exp \\left(-\\frac{1}{2} W_{i}^{\\top} W_{i}\\right) \\exp \\left(\\sum_{j=1}^{p}-\\operatorname{exp}\\left(0_{i j}+Z_{i j}\\right)+Y_{i j}\\left(0_{i j}+Z_{i j}\\right)\\right)\\\\\n",
    "&= \\operatorname{const} \\times \\exp \\left(-\\frac{1}{2}\\left\\|W_{i}\\right\\|^{2}-\\mathbb 1_{p}^{T} \\exp \\left(0_{i}+Z_{i}\\right)+Y_{i}^{\\top}\\left(0_{i}+Z_{i}\\right)\\right)\\\\\n",
    "& = \\operatorname{const} \\times \\exp \\left(-\\frac{1}{2}\\left\\|W_{i}\\right\\|^{2}-\\mathbb 1_{p}^{T} \\exp \\left(0_{i}+\\beta ^{\\top} X_{i}+ CW_{i}\\right)+Y_{i}^{\\top}\\left(0_{i}+\\beta ^{\\top} X_{i}+ CW_{i}\\right)\\right)\\\\\n",
    "& = \\operatorname{const} \\times \\exp \\left(-\\frac{1}{2}\\left\\|W_{i}\\right\\|^{2}-\\mathbb 1_{p}^{T} \\exp \\left(0_{i}+\\beta ^{\\top} X_{i}+ CW_{i}\\right)+Y_{i}^{\\top} CW_{i}\\right)\\\\\n",
    "\\end{aligned}\n",
    "$$\n",
    "\n",
    "We set $p^{(u)}_{\\theta}(W_i) = \\exp \\left(-\\frac{1}{2}\\left\\|W_{i}\\right\\|^{2}-\\mathbb 1_{p}^{T} \\exp \\left(0_{i}+\\beta ^{\\top} X_{i}+ CW_{i}\\right)+Y_{i}^{\\top} CW_{i}\\right)$"
   ]
  },
  {
   "cell_type": "markdown",
   "metadata": {},
   "source": [
    "For numerical purposes, we may want to use a logarithmic scale and apply the exponential function after. Indeed, $Y_{ij}$ can go up to a thousand, and computing this factorial would give infinite values. \n",
    "\n",
    "$$\n",
    "\\log p_{\\theta}\\left(Y_{i} \\mid W_{i}\\right)=\\sum_{j=1}^{p} - \\ln \\left(Y_{i j} !\\right)-\\exp \\left(0_{i j}+Z_{i j}\\right)+Y_{i j}\\left(o_{i j}+Z_{i j}\\right)\n",
    "$$\n",
    "\n",
    "We are going tu use the Stirling Formula in order to compute the log of the factorial, to avoid computing directly the factorial. \n",
    "\n",
    "\n",
    "If we consider the whole likelihood : \n",
    "\n",
    "$$\n",
    "\\begin{aligned}\n",
    "\\ln p_{\\theta}\\left(Y \\mid W\\right) &=\\sum_{i=1}^{n} \\log p_{\\theta}\\left(Y_{i} \\mid W_{i}\\right) \\\\\n",
    "&=\\sum_{i=1}^{n} \\sum_{j} - \\ln \\left(Y_{ij} ! \\right)-\\exp \\left(0_{i j}+Z_{i j}\\right)+Y_{i j}\\left(0_{i j}+Z_{i j}\\right) \\\\\n",
    "&=1_{n}^{T}\\left[-\\ln (Y !)-\\exp (0+Z)+Y \\odot (0+Z)\\right] 1_{p} \\\\\n",
    "Z=& X \\beta+W C^{\\top}\n",
    "\\end{aligned}\n",
    "$$\n"
   ]
  },
  {
   "cell_type": "markdown",
   "metadata": {},
   "source": [
    "\n",
    "We now need to compute the gradients. Since \n",
    "\n",
    "$$\n",
    "\\nabla_{\\theta} p_{\\theta}\\left(Y_{i} \\mid W_{i}\\right)=p_{\\theta}\\left(Y_{i}| W_{i}\\right) \\nabla_{\\theta} \\log p_{\\theta}\\left(Y_{i} \\mid W_{i}\\right)\n",
    "$$"
   ]
  },
  {
   "cell_type": "markdown",
   "metadata": {},
   "source": [
    "### Gradient computation "
   ]
  },
  {
   "cell_type": "markdown",
   "metadata": {},
   "source": [
    "\n",
    "Let's compute $$\n",
    "\\nabla_{{\\theta}} \\log p_{\\theta}\\left(Y_{i} \\mid W_{i}\\right)\n",
    "$$\n",
    "\n",
    "\n",
    "We begin with $\\beta$. We see the vectors of size $n$ as a matrice of dimension $(n,1)$ ( a line).\n",
    "\n",
    "We set $A=O+ CW_{i}$\n",
    "\n",
    "We set \n",
    "\n",
    "$$\n",
    "h: \\beta \\mapsto \\mathbb{1}_{p}^{\\top}\\exp \\left( \\beta^{\\top}X_{i}+A\\right) \n",
    "$$\n",
    "\n",
    "$$\n",
    "\\begin{aligned}\n",
    "\\frac{\\partial h(\\beta)}{\\partial \\beta_{k l}} &=\\frac{\\partial}{\\partial \\beta_{k l}}\\left(\\sum_j \\exp \\left(X_{i}^{\\top}\\beta_{:, j}+A_{j}\\right)\\right)\\\\\n",
    "&=\\frac{\\partial}{\\partial \\beta_{k,l} } \\exp \\left(X_{i}^{\\top} \\beta_{:,l}+A_{l}\\right) \\\\\n",
    "&=\\frac{\\partial}{\\partial \\beta_{kl} } \\exp \\left(\\sum_{s} X_{i s} B_{s l}+A_{l}\\right)\\\\\n",
    "&=\\left(\\frac{\\partial}{\\partial \\beta_{k l}}\\left(\\sum_{s} x_{i s} \\beta_{s l}+A_{l}\\right)\\right) \\exp \\left(\\sum_{s} X_{i s} \\beta_{sl}+A_l\\right) \\\\\n",
    "&=X_{i k} \\exp \\left(\\sum_{s} X_{i s} \\beta_{s l}+A_{l}\\right)\\\\\n",
    "&=X_{i k} \\exp \\left(X_{i}^{\\top} \\beta_{:,l}+A_{l}\\right) \\\\\n",
    "&=\\left( X_{i}\\exp \\left( \\beta^{\\top}X_{i}+A\\right) ^{T} \\right) _{k 1}\n",
    "\\end{aligned}\n",
    "$$\n",
    "\n",
    "So that $$\\nabla _{\\beta} h =  X_i\\exp \\left(O_i +  \\beta^{\\top}X_{i}+  CW_{i,k}\\right)^{\\top}$$\n",
    "\n",
    "A similar argument for $$\n",
    "\\tilde h: \\beta \\mapsto  \\sum_{j} Y_{i j}\\left(0_{ij}+X_{i}^{\\top} \\beta_{:,j}+W_{i} C^{\\top}_{:,j}\\right)\n",
    "$$\n",
    "\n",
    "shows that \n",
    "\n",
    "$$\n",
    "\\nabla_{\\beta} \\tilde{h}=X_{i} Y_{i}^{\\top}\n",
    "$$\n",
    "\n",
    "So that : \n",
    "<span style=\"color:red\"> \n",
    "$$\n",
    "\\boxed{\n",
    "\\nabla_{\\beta} \\log p_{\\theta}\\left(Y_{i} \\mid W_{i}\\right)= \\nabla _{\\beta} \\tilde h - \\nabla _{\\beta}  h= X_{i} \\left[Y_i - \\exp \\left(O_i +  \\beta^{\\top} X_i+CW_{i}  \\right) \\right]^{\\top}}\n",
    "$$\n",
    "</span>\n",
    "A similar argument for $C$ shows that : \n",
    "<span style=\"color:red\"> \n",
    "$$\n",
    "\\boxed{\n",
    "\\nabla_{C} \\log p_{\\theta}\\left(Y_{i} \\mid W_{i}\\right)=\\left[Y_{i}- \\exp \\left(O_i +  \\beta^{\\top} X_{i}+CW_{i}{ }\\right)\\right]  W_{i}^{\\top}}\n",
    "$$\n",
    "</span>\n",
    "\n",
    "(Note that if you want to see the vectors as matrices of size (1,n), you only need to  transpose  each vector and it should work fine : \n",
    "\n",
    "If we see the vectors as matrices of size (1,n) : \n",
    "$$\n",
    "\\nabla_{C} \\log p_{\\theta}\\left(Y_{i} \\mid W_{i}\\right)=\\left[Y_{i}- \\exp \\left(O_i + X_{i} \\beta+W_{i}C^{\\top}\\right)\\right]^{\\top}  W_{i}\n",
    "$$\n",
    "\n",
    "The first vector has a size $(p,1)$, the second $(1,q)$, which makes it $(p,q)$.\n",
    ")\n",
    "    "
   ]
  },
  {
   "cell_type": "markdown",
   "metadata": {},
   "source": [
    "We get : \n",
    "\n",
    "$$\n",
    "\\nabla_{\\beta} p_{\\theta}\\left(Y_{i} \\mid W_{i}\\right)=p_{\\theta}\\left(Y_{i} \\mid W_{i}\\right)\n",
    "X_{i} \\left[Y_i - \\exp \\left(O_i +  \\beta^{\\top} X_i+CW_{i}  \\right) \\right]^{\\top}\n",
    "$$\n",
    "$$\n",
    "\\nabla_{C} p_{\\theta}\\left(Y_{i} \\mid W_{i}\\right)=p_{\\theta}\\left(Y_{i} \\mid W_{i}\\right)\n",
    "\\left[Y_{i}- \\exp \\left(O_i +  \\beta^{\\top} X_{i}+CW_{i}{ }\\right)\\right]  W_{i}^{\\top}\n",
    "$$"
   ]
  },
  {
   "cell_type": "markdown",
   "metadata": {},
   "source": [
    "##### After trying to optimize the likelihood, we have found that the likelihood is very small (the order of the log likelihood is about $-3\\times10^{3}$ for some samples which makes the exponential 0 numerically. We need the likelihood to compute the gradients (see above). We can't optimize the log likelihood directly due to the integral : \n",
    "\n",
    "\n",
    "$$\n",
    "\\begin{aligned}\n",
    "\\log p_{\\theta}(Y) &=\\log \\left(\\int p_{\\theta}(Y, W)dW\\right) \\\\\n",
    "& \\approx \\log \\left(\\frac{1}{K}\\sum^K p_{\\theta}\\left(Y, W_{k}\\right)\\right)\\\\\n",
    "& \\neq \\frac{1}{K} \\sum^{K} \\log \\left(p_{\\theta}\\left(Y, W_{k}\\right)\\right)\n",
    "\\end{aligned}\n",
    "$$"
   ]
  },
  {
   "cell_type": "markdown",
   "metadata": {},
   "source": [
    "### Importance Sampling "
   ]
  },
  {
   "cell_type": "markdown",
   "metadata": {},
   "source": [
    "We thus change the objective function. We want to maximize the log likelihood with respect to $\\theta$ : \n",
    "\n",
    "\n",
    "$$\\max _{\\theta}\\operatorname{log} P_{\\theta}(Y) = \\max _{\\theta} \\sum _i \\operatorname{log} p_{\\theta}(Y_i)$$\n",
    " \n",
    " \n",
    "We need to derive the gradients with respect to theta : \n",
    "\n",
    "\n",
    "$$\n",
    "\\begin{aligned}\n",
    "\\nabla_{\\theta} \\log p_{\\theta}(Y_i)&= \\frac{\\nabla_{\\theta} p_{\\theta}(Y_i)}{p_{\\theta}(Y_i)} \\\\\n",
    "&=\\frac{\\nabla_{\\theta} \\int p_{\\theta}(Y_i \\mid W_i) p(W_i) d W}{\\int p_{\\theta}(Y_i \\mid W_i) p(W_i) d W_i}\\\\\n",
    "&=\\frac{\\int \\nabla_{\\theta} p_{\\theta}(Y_i | W_i) p(W_i) d W_i}{\\int  p_{\\theta}(Y_i|W_i) p(W_i) d W_i}\\\\\n",
    "&= \\frac{\\int\\left(\\nabla_{\\theta} \\ln p_{\\theta}(Y \\mid W)\\right) p_{\\theta}(Y| W) p(W) d W}{\\int p_{\\theta}(Y_i \\mid W_i)p(W_i) d W_i}\\\\\n",
    "&=\\int \\nabla_{\\theta} \\ln p_{\\theta}(Y_i \\mid W_i) \\tilde{p}_{\\theta}(W_i) dW_i \\\\\n",
    "\\end{aligned}\n",
    "$$\n",
    "$$\\tilde p_{\\theta}(W_i):=\\frac{p_{\\theta}(Y_i \\mid W_i) p(W_i) d W_i}{\\int p_{\\theta}(Y_i \\mid W_i) p(W_i) dW_i}$$\n",
    "\n",
    "\n",
    "So that : \n",
    "\n",
    "<span style=\"color:red\">\n",
    "$$\n",
    "\\boxed{\\nabla_{\\theta} \\log p_{\\theta}(Y_i) = \\mathbb E_{\\tilde p } \\left[\\nabla_{\\theta} \\ln p_{\\theta}(Y_i \\mid W_i)\\right]}$$ \n",
    "</span>\n",
    "\n",
    "Here $\\tilde p $ is the law of $W_i | Y_i$. Indeed : \n",
    "\n",
    "$$\n",
    "\\begin{aligned}\n",
    "p_{\\theta}(W_i \\mid Y_i) &=\\frac{p_{\\theta}(Y_i|W_i) \\operatorname{p}(W_i)}{p_{\\theta}(Y_i)} \\\\\n",
    "& = \\frac {  {p_{\\theta}}\\left(Y_i \\mid W_{i}\\right)p(W_i)}{\\int p_{\\theta}(Y_i \\mid W_i) p(W_i) dW_i}\\\\\n",
    "&= \\tilde p_{\\theta}(W_i)\n",
    "\\end{aligned}\n",
    "$$\n",
    "Note also that \n",
    "\n",
    "$$\\tilde p_{\\theta}(W_i) = \\frac{p^{(u)}_{\\theta}(W_i)}{\\int p^{(u)}_{\\theta}(W_i) dW_i}$$\n",
    "\n",
    "We only know the numerator of $ p^{(u)}_{\\theta}(W)$. Thus we need to use importance sampling, which consits in the following : \n",
    "\n",
    "Let $\\phi $ be a mesurable function. Let $g$ be a probability density such that $x \\in \\operatorname{supp}(\\tilde p_{\\theta}) \\implies g(x)>0$. We denote $(V_{i,k})_k \\overset{iid}{\\sim} g$. \n",
    "\n",
    "We define : \n",
    "\n",
    "$$\n",
    "w_{k}^{(u)}=\\frac{p^{(u)}_{\\theta}\\left(V_{i,k}\\right)}{g\\left(V_{i,k}\\right)}\n",
    "$$\n",
    "\n",
    "\n",
    "$$\n",
    "\\tilde{w}_{k}^{(u)}=\\frac{w_{k}^{(u)}}{\\sum_{\\ell=1}^{n} w_{\\ell}^{(u)}}\n",
    "$$\n",
    "\n",
    "\n",
    "Then, \n",
    "\n",
    "$$\n",
    "\\hat{I}_{n_{\\text{samples}}}^{I S, u}:=\\sum_{k=1}^{n_{\\text{samples}}} \\tilde{w}_{k}^{(u)} \\phi (V_{i,k})\n",
    " \\stackrel{\\text { Proba }}{\\longrightarrow} \\int \\phi(W) \\tilde p_{\\theta}(W) = \\mathbb E _{\\tilde p _{\\theta}}[\\phi(W)]\n",
    "$$\n",
    "\n",
    "We need to choose carefully the density $g$ i.e. where $ p^{(u)}_{\\theta}\\times \\nabla_{\\theta} \\log p_{\\theta}$ has a lot of mass."
   ]
  },
  {
   "cell_type": "markdown",
   "metadata": {},
   "source": [
    "We start with $\\beta$: \n",
    "\n",
    "\n",
    "$$\n",
    "\\begin{align*}\n",
    "\\nabla_{\\beta} \\log {p_{\\theta}}(Y_i)&=E_{\\tilde{p}_{\\theta}}\\left[\\nabla _ { \\beta } \\operatorname {log}  p_{\\theta} \\left(Y_{i}\\left|W_{i k}\\right)\\right]\\right.\\\\\n",
    "&=X_{i}\\left[Y_{i}-\\exp \\left(0_{i}+ \\beta^{\\top} X_i\\right) \\mathbb E_{\\tilde p_{\\theta}}\\left[e^{CW_{i,k} }\\right]\\right]^{\\top}\n",
    "\\end{align*}\n",
    "$$\n",
    "\n",
    "Let's look closer at this integral. \n",
    "\n",
    "$$\\mathbb E_{\\tilde p_{\\theta}}\\left[e^{CW_{i,k}}\\right] \n",
    "=\\left(\\begin{array}{l}\n",
    "E_{\\tilde{p}_{\\theta}}\\left[e^{\\left(CW_{i,k}\\right)_{1}}\\right] \\\\\n",
    "\\quad \\quad  \\vdots \\\\\n",
    "E_{\\tilde p_{\\theta}}\\left[e^{\\left(CW_{i,k}\\right)_p}\\right]\n",
    "\\end{array}\\right)\n",
    "=\\left(E_{\\tilde p_{\\theta}}\\left[e^{u_{m}^{\\top}CW_{i} }\\right]\\right)_{1 \\leqslant m\\leqslant p}\n",
    "$$\n",
    "\n",
    "\n",
    "Where $u_m$ is the canonic vector (i.e. a vector full of zeros except $1$ on the $m$ position)\n",
    "\n",
    "Let $ 1 \\leq m \\leq p$.Let $ \\phi _{\\beta,m}(W)=e^{u_{m}^{\\top}CW_{i} } $  Let's look at $E_{\\tilde p_{\\theta}}\\left[\\phi _{\\beta,m}(W)\\right]$\n",
    "\n",
    "$$\n",
    "\\begin{aligned}\n",
    "(\\star) = E_{\\tilde p_{\\theta}}\\left[\\phi _{\\beta,m}(W) \\right]  &= \\int e^{u_{m}^{\\top}CW_{i,k} } \\frac {p_{\\theta}\\left(Y_{i} \\mid W_{i,k}\\right) p\\left(W_{i,k}\\right)}{{\\int p_{\\theta}(Y_i,W)  dW}}dW_{i,k} = \\int e^{u_{m}^{\\top}CW_{i,k} } \\frac {p^{(u)}_{\\theta}(W_i)}{\\int p^{(u)}_{\\theta}(W_i) dW_i} \\\\\n",
    "& =  \\frac {1}{\\int p^{(u)}_{\\theta}(W) dW}\\int  \\exp \\left(u_{m}^{\\top}CW_{i,k}-\\frac{1}{2}\\left\\|W_{ik}\\right\\|^{2}-\\mathbb 1_{p}^{T} \\exp \\left(0_{i}+\\beta ^{\\top} X_{i}+ CW_{i,k}\\right)+Y_i^{\\top}CW_{i,k}\\right)d W_{i,k} \\\\\n",
    "& =  \\frac {1}{{\\int p^{(u)}_{\\theta}(W)  dW}}\\int  \\exp \\left((u_{m}+Y_i)^{\\top}CW_{i,k}-\\frac{1}{2}\\left\\|W_{ik}\\right\\|^{2} -\\mathbb 1_{p}^{T} \\exp \\left(0_{i}+\\beta ^{\\top} X_{i}+ CW_{i,k}\\right)\\right)d W_{i,k}\\\\\n",
    "\\end{aligned}\n",
    "$$\n",
    "\n",
    "\n",
    "We set \n",
    "$$\n",
    "\\mu_{m}:=\\left(u_{m}+Y_{i}\\right)^{\\top} C\n",
    "$$\n",
    "\n",
    "Let $(V_{i,k,m})_k  \\overset{iid}\\sim \\mathcal N(\\mu_{m}, I_q)$ ang $g_m$ the corresponding density. \n",
    "\n",
    "Then, $$ \\begin {aligned}\n",
    "g_m(V) & = \\frac{1}{(2 \\pi)^{q / 2}} \\exp \\left[-\\frac{1}{2}(\\boldsymbol{V}-\\boldsymbol{\\mu_m})^{\\top} (\\boldsymbol{V}-\\boldsymbol{\\mu_m})\\right]\\\\\n",
    "& = \\frac{1}{(2 \\pi)^{q / 2}} e^{-\\frac{\\mu_m ^{\\top} \\mu_m}{2}} e^{- \\frac 1  2 V^{\\top} V+V^{\\top} \\mu_m}\n",
    "\\end{aligned}\n",
    "$$\n",
    "\n",
    "We set $A(\\mu_m) = \\frac{1}{(2 \\pi)^{q / 2}} e^{-\\frac{\\mu_m ^{\\top} \\mu_m}{2}}$\n",
    "\n",
    "\n",
    "\n",
    "\n",
    "\n",
    "\n",
    "Let's compute the importance weights for $g$. \n",
    "\n",
    "$$\n",
    "\\begin{aligned}\n",
    "w^{(u)}_k & = \\frac{p^{(u)}_{\\theta}\\left(V_{i,k}\\right)}{g\\left(V_{i,k}\\right)} \\\\\n",
    "& = \\frac { \\exp \\left(-\\frac{1}{2}\\left\\|V_{i,k}\\right\\|^{2}-\\mathbb 1_{p}^{T} \\exp \\left(0_{i}+\\beta ^{\\top} X_{i}+ CV_{i,k}\\right)+Y_{i}^{\\top} CV_{i,k}\\right)}{A(\\mu _m ) e^{- \\frac 1  2 V_{i,k}^{\\top} V_{i,k}+V_{i,k}^{\\top} \\mu_m}} \\\\\n",
    "& = \\frac 1 {A(\\mu _m)  } \\operatorname{exp}\\left(-\\mathbb 1_{p}^{T} \\exp \\left(0_{i}+\\beta ^{\\top} X_{i}+ CV_{i,k}\\right) - u_m^{\\top}CV_{i,k}\\right)\n",
    "\\end{aligned}\n",
    "$$\n",
    "\n",
    "Note that in practice, setting $\\mu _m = 0$ works better. We will see why after. \n",
    "\n",
    "\n",
    "Computation for the gradient of $C$ : \n",
    "\n",
    "$$\n",
    "\\begin{align*}\n",
    "\\nabla_{C} \\log {p_{\\theta}}(Y_i)&=E_{\\tilde{p}_{\\theta}}\\left[\\nabla _ { C } \\operatorname {log}  p_{\\theta} \\left(Y_{i}\\left|W_{i k}\\right)\\right]\\right.\\\\\n",
    "&= \\mathbb E_{\\tilde p_{\\theta}}\\left[\\left[Y_{i}- \\exp \\left(O_i +  \\beta^{\\top} X_{i}+CW_{i}{ }\\right)\\right]  W_{i}^{\\top}\\right]\\\\\n",
    "&= Y_{i}\\mathbb E_{\\tilde p_{\\theta}} \\left[ W_i^{\\top} \\right] -\\exp(O_i + \\beta^{\\top}X_i) \\mathbb E_{\\tilde p_{\\theta}}\\left[\\exp \\left(CW_{i}{ }\\right)  W_{i}^{\\top}\\right]\n",
    "\\end{align*}\n",
    "$$\n",
    "\n",
    "Let's look closer at the integrals. \n",
    "$$\n",
    "E_{\\tilde p_{\\theta}}\\left[\\exp \\left(CW_{i}{ }\\right)  W_{i}^{\\top}\\right] = (E_{\\tilde p_{\\theta}}\\left[\\exp \\left(u_k^{\\top} CW_{i}\\right)  W_{i}^{\\top}u_m\\right])_{1 \\leq k \\leq p, 1 \\leq m \\leq q}\n",
    "$$\n",
    "\n",
    "$$\\mathbb E_{\\tilde p_{\\theta}} \\left[ W_i^{\\top} \\right] = \\mathbb E_{\\tilde p_{\\theta}} \\left[ W_i^{\\top}u_m \\right]_{1 \\leq m \\leq q}\n",
    "$$\n",
    "\n",
    "We only need to approximate these integrals and we can compute the gradients.\n",
    "\n"
   ]
  },
  {
   "cell_type": "markdown",
   "metadata": {},
   "source": [
    "### Choosing the law g\n",
    "\n",
    "We want to get a good law $g$ for importance sampling. \n",
    "We will try to modify the model so that the law inside the integral are computable and we hope it will help. \n",
    "\n",
    "We look at the following model : \n",
    "\n",
    "$$\n",
    "\\begin{aligned}\n",
    "W_{i} & \\sim \\mathcal{N}\\left(0, I_{q}\\right), \\text { iid, } \\quad i=1, \\ldots, n \\\\\n",
    "Z_{i} &=O_i +  \\beta^{\\top}\\mathbf{x}_{i} +\\mathbf{C}W_i , \\quad i \\in 1, \\ldots, n \\\\\n",
    "\\operatorname{log} (Y_{i}) \\mid Z_{i} & \\sim \\mathcal{N}\\left( Z_{i}, \\operatorname{diag}(\\exp(-|O_i +\\beta ^{\\top} X_i |)\\right)\n",
    "\\end{aligned}\n",
    "$$\n",
    "\n",
    "We denote $D_i:= \\operatorname{diag}(\\exp(-|O_i +\\beta ^{\\top} X_i |)$.\n",
    "\n",
    "Here are the heuristics for choosing this model. \n",
    "First, we approximate the Poisson law with a gaussian: \n",
    "\n",
    "$$\\mathcal P (exp(Z_i)) \\approx \\mathcal N(\\exp(Z_i), \\operatorname{diag} (\\exp(Z_i))$$ \n",
    "\n",
    "\n",
    "\n",
    "Now, with some computation ( see for example the end of the notebook) \n",
    "\n",
    "we can do this approximation : \n",
    "\n",
    "$$ \\exp (\\mathcal N (Z_i, \\operatorname{diag}(\\exp(-|Z_i|)) \\approx \\mathcal N (\\exp(Z_i), \\operatorname{diag}(\\exp(Z_i))$$\n",
    "\n",
    "For computation purposes and to have a law that is computable, we need to remove $CW$ from the variance term inside the absolute value(to get back a gaussian when computing the law of the latent variables given the observation), which gives the heuristic. \n",
    "\n",
    "After some computation, we find that given this model, we can compute the law $W_i|Y_i$ : \n",
    "\n",
    "$$W_i|Y_i \\sim \\mathcal N((\\log(Y_i)-X_i\\beta)^{\\top}D^{-1}C, (C^{\\top}D^{-1}C + I)^{-1})$$ \n",
    "\n",
    "The better $g$ we can take ( to approximate $\\mathbb E _{p_{\\theta}(W_i|Y_i)}\\left[e^{ u_m^{\\top}CW_i}\\right]$ being the law  : $$g^{\\star}(x) = e^{ u_m^{\\top}Cx} p_{W_i|Y_i}(x) , x \\in R^q$$\n",
    "\n",
    "After some little computation we find that : \n",
    "\n",
    "$$ g^{\\star}(x) = \\mathcal N (x; (\\log(Y_i)-X_i\\beta)^{\\top}D^{-1}C + u_m^{\\top}C, (C^{\\top}D^{-1}C + I)^{-1})$$"
   ]
  },
  {
   "cell_type": "markdown",
   "metadata": {},
   "source": [
    "### Computation of the law of $W_i|Y_i$ for the modified model. \n",
    "\n",
    "We set $$\\mu_i := \\log(Y_i) -X_i\\beta$$\n",
    "\n",
    "Let's compute the law of the latent variables given the data.\n",
    "\n",
    "\\begin{aligned}\n",
    "p_{\\theta}\\left(W_{i} \\mid \\log \\left(Y_{i}\\right) \\right) & = p_{\\theta}\\left(\\log \\left(Y_{i}\\right) \\mid W_{i}\\right) p\\left(W_{i}\\right) \\\\\n",
    "& = C \\times \\exp \\left(-\\frac{1}{2}\\left(\\left(CW_{i}-\\mu_{i}\\right)^{T} D^{-1}\\left(CW_{i}-\\mu_{i}\\right)+W_{i}^{\\top} W_{i}\\right)\\right) \\\\\n",
    "& C \\times \\exp \\left(-\\frac{1}{2}\\left(W_{i}^{\\top}C^{\\top}D^{-1}CW_{i}-2\\mu_{i}^{\\top}D^{-1}CW_i+\\mu_i^{\\top}D^{-1}\\mu_i+W_{i}^{\\top} W_{i}\\right)\\right) \\\\\n",
    "& = C \\times \\exp \\left(-\\frac{1}{2}\\left(W_{i}^{\\top}\\left(C^{\\top}D^{-1}C+ I_q\\right)W_{i}\\right)+\\mu_{i}^{\\top}D^{-1}CW_i\\right)\n",
    "\\end{aligned}\n",
    "\n",
    "By identification : \n",
    "\n",
    "$$W_i |\\log(Y_i) \\sim \\mathcal N \\left(C^{\\top}D^{-1}\\mu_i, (C^{\\top}D^{-1}C+ I_q)^{-1} \\right) $$\n",
    "\n",
    "Then, \n",
    "\n",
    "$$ u_m^{\\top}C W_i |\\log(Y_i) \\sim \\mathcal N\\left(u_m^{\\top}CC^{\\top}D^{-1}\\mu_i, u_m^{\\top}C(C^{\\top}D^{-1}C+ I_q)^{-1}C^{\\top}u_m \\right)$$"
   ]
  },
  {
   "cell_type": "markdown",
   "metadata": {},
   "source": [
    "sizes : \n",
    "\n",
    "$ Y : (n,p)$ \n",
    "\n",
    "$O : (n,p)$ \n",
    "\n",
    "$C :  (p,q)$ \n",
    "\n",
    "covariates ($x$) : $(n,d)$\n",
    "\n",
    "$\\beta : (d,p)$"
   ]
  },
  {
   "cell_type": "code",
   "execution_count": 35,
   "metadata": {},
   "outputs": [
    {
     "ename": "NameError",
     "evalue": "name 'model' is not defined",
     "output_type": "error",
     "traceback": [
      "\u001b[0;31m---------------------------------------------------------------------------\u001b[0m",
      "\u001b[0;31mNameError\u001b[0m                                 Traceback (most recent call last)",
      "\u001b[0;32m<ipython-input-35-e75b9756df07>\u001b[0m in \u001b[0;36m<module>\u001b[0;34m\u001b[0m\n\u001b[0;32m----> 1\u001b[0;31m \u001b[0mshow\u001b[0m\u001b[0;34m(\u001b[0m\u001b[0mmodel\u001b[0m\u001b[0;34m,\u001b[0m\u001b[0;34m''\u001b[0m\u001b[0;34m,\u001b[0m \u001b[0msave\u001b[0m \u001b[0;34m=\u001b[0m \u001b[0;32mFalse\u001b[0m\u001b[0;34m)\u001b[0m\u001b[0;34m\u001b[0m\u001b[0;34m\u001b[0m\u001b[0m\n\u001b[0m",
      "\u001b[0;31mNameError\u001b[0m: name 'model' is not defined"
     ]
    }
   ],
   "source": [
    "show(model,'', save = False)"
   ]
  },
  {
   "cell_type": "markdown",
   "metadata": {},
   "source": [
    "### some functions I tried, might be useful but not clean. "
   ]
  },
  {
   "cell_type": "code",
   "execution_count": 36,
   "metadata": {},
   "outputs": [],
   "source": [
    "def plot_estimation_pq(vect, true_int_pq):\n",
    "    p,q = vect.shape[1],vect.shape[2]\n",
    "    fig, axs = plt.subplots(p,q, figsize = (15,10))\n",
    "    var_estim = np.empty((p,q))\n",
    "    for i in range(p): \n",
    "        for j in range(q):\n",
    "            var_estim[i,j] = np.var(vect[:,i,j])\n",
    "            axs[i,j].hist(x = vect[:,i,j], density = True,bins = 100, label = 'var = ' + str(np.round(var_estim[i,j],8)))\n",
    "            axs[i,j].axvline(true_int_pq[i,j], c = 'red', label = 'true value : ' + str(np.round(true_int_pq[i,j], 4)))\n",
    "            mean = np.mean(vect[:,i,j])\n",
    "            axs[i,j].axvline(mean, c = 'black', label = 'value found : ' + str(np.round(mean, 4)))\n",
    "            axs[i,j].legend()\n",
    "    #plt.savefig('good approximation')\n",
    "    plt.show()\n",
    "    return var_estim\n",
    "def plot_estimation_p(vect):\n",
    "    p = vect.shape[1]\n",
    "    fig, axs = plt.subplots(p, figsize = (15,10))\n",
    "    var_estim = np.empty(p)\n",
    "    for i in range(p):\n",
    "        var_estim[i] = np.var(vect[:,i])\n",
    "        axs[i].hist( x = vect[:,i], bins = 100, label = 'var =' + str(np.round(var_estim[i],10)))\n",
    "        #sns.histplot(ax = axs[i], x = vect[:,i],label = 'var = ' +str(var_estim[i],3))\n",
    "        axs[i].legend()\n",
    "    \n",
    "    plt.show()\n",
    "    return var_estim \n",
    "vect = torch.randn(100000,p,q).numpy()\n",
    "\n",
    "\n",
    "def get_var(vect):\n",
    "    return torch.var(vect, dim = 0)\n",
    "\n",
    "def MSE(a,b): \n",
    "    return torch.mean((a-b)**2)\n",
    "\n",
    "\n",
    "vect = torch.randn(1000,p,q).numpy()\n",
    "\n",
    "#get_var(vect)\n",
    "#plot_estimation_pq(vect, torch.zeros(p,q))\n",
    "#plot_estimation_p(torch.randn(100000,p).numpy()*8)"
   ]
  },
  {
   "cell_type": "code",
   "execution_count": 37,
   "metadata": {},
   "outputs": [
    {
     "data": {
      "image/png": "[encoded data removed]",
      "text/plain": [
       "<Figure size 432x288 with 2 Axes>"
      ]
     },
     "metadata": {
      "needs_background": "light"
     },
     "output_type": "display_data"
    }
   ],
   "source": [
    "fastmodel.show_Sigma()"
   ]
  },
  {
   "cell_type": "code",
   "execution_count": 38,
   "metadata": {},
   "outputs": [
    {
     "data": {
      "text/plain": [
       "<AxesSubplot:>"
      ]
     },
     "execution_count": 38,
     "metadata": {},
     "output_type": "execute_result"
    },
    {
     "data": {
      "image/png": "[encoded data removed]",
      "text/plain": [
       "<Figure size 432x288 with 2 Axes>"
      ]
     },
     "metadata": {
      "needs_background": "light"
     },
     "output_type": "display_data"
    }
   ],
   "source": [
    "sns.heatmap(true_Sigma.numpy())"
   ]
  },
  {
   "cell_type": "code",
   "execution_count": 39,
   "metadata": {},
   "outputs": [
    {
     "data": {
      "text/plain": [
       "-4.605170185988091"
      ]
     },
     "execution_count": 39,
     "metadata": {},
     "output_type": "execute_result"
    }
   ],
   "source": [
    "math.log(0.01)"
   ]
  },
  {
   "cell_type": "code",
   "execution_count": 40,
   "metadata": {},
   "outputs": [
    {
     "name": "stdout",
     "output_type": "stream",
     "text": [
      "max :  tensor(40070)\n",
      "max Z : tensor(7.9840)\n",
      "min Z  tensor(-8.7138)\n"
     ]
    }
   ],
   "source": [
    "print('max : ', torch.max(Y_sampled))\n",
    "print('max Z :', torch.max(Z_sampled- covariates@true_beta))\n",
    "print('min Z ', torch.min(Z_sampled-covariates@true_beta))"
   ]
  },
  {
   "cell_type": "code",
   "execution_count": 41,
   "metadata": {},
   "outputs": [
    {
     "name": "stdout",
     "output_type": "stream",
     "text": [
      "Z :  tensor([[-1.2079, -0.1708],\n",
      "        [-0.1376, -0.6372],\n",
      "        [ 1.3381, -0.7300],\n",
      "        ...,\n",
      "        [-0.2004,  1.7266],\n",
      "        [-1.0968,  2.1319],\n",
      "        [-1.2627,  0.5815]])\n"
     ]
    }
   ],
   "source": [
    "print('Z : ', Z_sampled)"
   ]
  },
  {
   "cell_type": "code",
   "execution_count": null,
   "metadata": {},
   "outputs": [],
   "source": []
  },
  {
   "cell_type": "code",
   "execution_count": 42,
   "metadata": {},
   "outputs": [
    {
     "ename": "NameError",
     "evalue": "name 'model' is not defined",
     "output_type": "error",
     "traceback": [
      "\u001b[0;31m---------------------------------------------------------------------------\u001b[0m",
      "\u001b[0;31mNameError\u001b[0m                                 Traceback (most recent call last)",
      "\u001b[0;32m<ipython-input-42-1e51a12bc418>\u001b[0m in \u001b[0;36m<module>\u001b[0;34m\u001b[0m\n\u001b[0;32m----> 1\u001b[0;31m \u001b[0mmodel\u001b[0m\u001b[0;34m.\u001b[0m\u001b[0mcompute_mean_log_likelihood\u001b[0m\u001b[0;34m(\u001b[0m\u001b[0;36m0.0001\u001b[0m\u001b[0;34m)\u001b[0m\u001b[0;34m[\u001b[0m\u001b[0;36m0\u001b[0m\u001b[0;34m]\u001b[0m\u001b[0;34m.\u001b[0m\u001b[0mitem\u001b[0m\u001b[0;34m(\u001b[0m\u001b[0;34m)\u001b[0m\u001b[0;34m\u001b[0m\u001b[0;34m\u001b[0m\u001b[0m\n\u001b[0m",
      "\u001b[0;31mNameError\u001b[0m: name 'model' is not defined"
     ]
    }
   ],
   "source": [
    "model.compute_mean_log_likelihood(0.0001)[0].item()"
   ]
  },
  {
   "cell_type": "code",
   "execution_count": null,
   "metadata": {},
   "outputs": [],
   "source": []
  },
  {
   "cell_type": "markdown",
   "metadata": {},
   "source": [
    "## some functions i tried, useless"
   ]
  },
  {
   "cell_type": "code",
   "execution_count": 43,
   "metadata": {},
   "outputs": [
    {
     "ename": "NameError",
     "evalue": "name 'plot_2D' is not defined",
     "output_type": "error",
     "traceback": [
      "\u001b[0;31m---------------------------------------------------------------------------\u001b[0m",
      "\u001b[0;31mNameError\u001b[0m                                 Traceback (most recent call last)",
      "\u001b[0;32m<ipython-input-43-2f0f938790e0>\u001b[0m in \u001b[0;36m<module>\u001b[0;34m\u001b[0m\n\u001b[1;32m     25\u001b[0m \u001b[0;34m\u001b[0m\u001b[0m\n\u001b[1;32m     26\u001b[0m \u001b[0;34m\u001b[0m\u001b[0m\n\u001b[0;32m---> 27\u001b[0;31m \u001b[0mZ_exp_moment\u001b[0m\u001b[0;34m,\u001b[0m\u001b[0margmax_2D\u001b[0m \u001b[0;34m=\u001b[0m \u001b[0mplot_2D\u001b[0m\u001b[0;34m(\u001b[0m\u001b[0mf_expmoment\u001b[0m\u001b[0;34m,\u001b[0m\u001b[0mabscisse\u001b[0m\u001b[0;34m,\u001b[0m\u001b[0mabscisse\u001b[0m\u001b[0;34m)\u001b[0m\u001b[0;34m\u001b[0m\u001b[0;34m\u001b[0m\u001b[0m\n\u001b[0m",
      "\u001b[0;31mNameError\u001b[0m: name 'plot_2D' is not defined"
     ]
    }
   ],
   "source": [
    "def IMPS(f, p, q, acc):\n",
    "    N_samples = int(1/acc)\n",
    "    sqrtm_prop = torch.from_numpy(SLA.sqrtm(Sigma_prop))\n",
    "    weights = torch.zeros(N_samples)\n",
    "    W = torch.randn(N_samples,N)+mu_prop\n",
    "    for i in range(N_samples):\n",
    "        weights[i] = p(W[i])/q(W[i])\n",
    "    weights/= torch.sum(weights)\n",
    "    var = get_var(weights)\n",
    "    return torch.sum(torch.squeeze(f(W))*weights), var \n",
    "    \n",
    "def f(Z):\n",
    "    if len(Z.shape)> 1 : \n",
    "        t = torch.ones(Z.shape[1],1)\n",
    "    else : \n",
    "        t = torch.ones(Z.shape)\n",
    "    return torch.exp(Z@t)\n",
    "\n",
    "def Ndensity(Z,mu,inv_Sigma): \n",
    "    return torch.exp(-1/2*(Z-mu).reshape(1,-1)@inv_Sigma@((Z-mu).reshape(-1,1)))/(torch.sqrt(1/torch.det(inv_Sigma)*(2*math.pi)**N))      \n",
    "def p(Z): \n",
    "    return Ndensity(Z,mu,inv_Sigma)\n",
    "def q(Z): \n",
    "    return Ndensity(Z,mu_prop, inv_Sigma_prop) \n",
    "    \n",
    "\n",
    "Z_exp_moment,argmax_2D = plot_2D(f_expmoment,abscisse,abscisse)"
   ]
  },
  {
   "cell_type": "code",
   "execution_count": 143,
   "metadata": {
    "scrolled": true
   },
   "outputs": [],
   "source": [
    "def plot_2D(f,x_abscisse, y_abscisse):\n",
    "    Z = np.zeros((len(x_abscisse), len(y_abscisse)))\n",
    "    maxi = 0\n",
    "    argmax = (0,0)\n",
    "    def f_(x,y):\n",
    "        return f(torch.tensor([x,y]))\n",
    "    total_mass = scipy.integrate.dblquad(f_,-10,10,-10,10)[0]\n",
    "    for i,x in enumerate(x_abscisse): \n",
    "        for j,y in enumerate(y_abscisse):\n",
    "            xy_ten = torch.tensor([x,y])\n",
    "            value = (f(xy_ten))\n",
    "            if value > maxi : \n",
    "                argmax = (i,j)\n",
    "                maxi = value\n",
    "            Z[i,j]= value\n",
    "            \n",
    "    \n",
    "    best_mean = torch.tensor([x_abscisse[argmax[0]],y_abscisse[argmax[1]]])\n",
    "    def gauss_density(Z):\n",
    "        Sig = (torch.diag(true_Sigma)**(-1))*torch.eye(2)\n",
    "        inv_Sig = torch.inverse(torch.eye(2)/3)\n",
    "        C = 2*math.pi*torch.sqrt(torch.det(Sig))\n",
    "        return 1/C*torch.exp(- 1/2*torch.matmul(torch.matmul(Z-best_mean, inv_Sig), (Z-best_mean).T).squeeze())\n",
    "    \n",
    "    gauss = np.zeros((len(x_abscisse), len(y_abscisse)))\n",
    "    for i,x in enumerate(x_abscisse): \n",
    "        for j,y in enumerate(y_abscisse):\n",
    "            xy_ten = torch.tensor([x,y])\n",
    "            gauss[i,j] = gauss_density(xy_ten)\n",
    "            \n",
    "            \n",
    "    fig = plt.figure(figsize = (19.5,9.5))\n",
    "    ax = fig.add_subplot(1,2,1, projection='3d')\n",
    "    X,Y = np.meshgrid(x_abscisse,y_abscisse)\n",
    "    ax.plot_surface(X, Y, (Z/total_mass).T, cmap = cm.coolwarm)\n",
    "    ax.set_xlabel('x')\n",
    "    ax.set_ylabel('y')\n",
    "    ax.set_zlabel('z')\n",
    "    ax.set_title('Posterior distribution', fontsize = 15)\n",
    "    \n",
    "    ax_bis = fig.add_subplot(1,2,2, projection='3d')\n",
    "    ax_bis.set_xlabel('x')\n",
    "    ax_bis.set_ylabel('y')\n",
    "    ax_bis.set_zlabel('z')\n",
    "    ax_bis.set_title('Gaussian approximation distribution', fontsize = 15)\n",
    "\n",
    "    ax_bis.plot_surface(X, Y, gauss.T, cmap = cm.coolwarm)\n",
    "    plt.show()\n",
    "    #fig.savefig('Comparison distribution')\n",
    "    return Z,  \n",
    "    \n",
    "\n",
    "    \n",
    "def f_expmoment(Z): \n",
    "    return torch.exp(torch.sum(Z))*p(Z)\n",
    "\n",
    "def Z_density(Z,i):\n",
    "    XB = torch.matmul(covariates[i].unsqueeze(0),true_beta)\n",
    "    \n",
    "    log_ = torch.sum(-torch.exp(Z) + Y_sampled[i,:]*Z) - 1/2*torch.matmul(torch.matmul(Z-XB, torch.inverse(true_Sigma)), (Z-XB).T).squeeze()\n",
    "    return torch.exp(log_)                                               \n",
    "#plot = plot_2D(Z_density, np.linspace(-1,4,100),np.linspace(-3,2,100))"
   ]
  },
  {
   "cell_type": "markdown",
   "metadata": {},
   "source": [
    "$$\n",
    "\\begin{aligned}\n",
    "p_{\\theta}(Z_i \\mid Y_i )  & = \\frac{p_{\\theta}\\left(Y_{i} \\mid Z_{i}\\right) p\\left(Z_{i}\\right)}{p_{\\theta}(Y_i)} \\\\\n",
    "& \\propto  ~ p_{\\theta}\\left(Y_{i} \\mid Z_{i}\\right) p\\left(Z_{i}\\right) \\\\\n",
    "& \\propto ~ \\exp \\left(   \\sum_{j=1}^{p}-\\operatorname{exp}\\left(0_{i j}+Z_{i j}\\right)+Y_{i j}\\left(0_{i j}+Z_{i j}\\right)   -\\frac{1}{2} (Z_{i}-\\beta^{\\top}X_i)^{\\top} \\Sigma ^{-1} (Z_{i}-\\beta^{\\top}X_i) \\right) \\\\\n",
    "\\end{aligned}\n",
    "$$\n"
   ]
  },
  {
   "cell_type": "code",
   "execution_count": 164,
   "metadata": {
    "scrolled": true
   },
   "outputs": [
    {
     "data": {
      "image/png": "[encoded data removed]",
      "text/plain": [
       "<Figure size 1440x720 with 2 Axes>"
      ]
     },
     "metadata": {
      "needs_background": "light"
     },
     "output_type": "display_data"
    },
    {
     "data": {
      "text/plain": [
       "(4.100502512562814, -0.3015075376884422)"
      ]
     },
     "execution_count": 164,
     "metadata": {},
     "output_type": "execute_result"
    }
   ],
   "source": [
    "def plot_1D(f,i,j, abscisse_first, abscisse_second): \n",
    "    values_first  = list()\n",
    "    values_second = list()\n",
    "    def f_first(x): \n",
    "        return f(torch.tensor([x]), i ) \n",
    "    def f_second(x): \n",
    "        return f(torch.tensor([x]), j )\n",
    "    total_mass_first = scipy.integrate.quad(f_first,-10,10)[0]\n",
    "    total_mass_second = scipy.integrate.quad(f_second, -10,10)[0]\n",
    "    \n",
    "    \n",
    "    for w_first, w_second in zip(abscisse_first, abscisse_second) : \n",
    "        values_first.append(np.squeeze((f_first(w_first)).numpy())/total_mass_first)\n",
    "        values_second.append(np.squeeze((f_second(w_second)).numpy())/total_mass_second)\n",
    "    values_first = np.array(values_first)\n",
    "    values_second = np.array(values_second)\n",
    "    \n",
    "    argmax_first = abscisse_first[np.argmax(values_first)]\n",
    "    argmax_second = abscisse_second[np.argmax(values_second)]\n",
    "    gauss_first = []\n",
    "    gauss_second = []\n",
    "    sig_first = 0.1\n",
    "    sig_second = 0.6\n",
    "    def gauss_density(w, sig,argmax): \n",
    "        return 1/math.sqrt(2*math.pi*sig**2)*np.exp(-1/(2*sig**2)*(w-argmax)**2)\n",
    "    \n",
    "    for w_first, w_second in zip(abscisse_first, abscisse_second) :\n",
    "        gauss_first.append(gauss_density(w_first,sig_first, argmax_first))\n",
    "        gauss_second.append(gauss_density(w_second,sig_second, argmax_second))\n",
    "        \n",
    "    gauss_first = np.array(gauss_first)\n",
    "    gauss_second = np.array(gauss_second)\n",
    "    \n",
    "    \n",
    "    #gauss_first*= np.max(values_first)/np.max(gauss_first)\n",
    "    #gauss_second*= np.max(values_second)/np.max(gauss_second)*1.03\n",
    "    fig, axes = plt.subplots(1,2, figsize = (20,10))\n",
    "    axes[0].plot(abscisse_first, gauss_first, label = 'gaussian approximation')\n",
    "    axes[0].plot(abscisse_first,np.abs(values_first), label = 'Posterior distribution')\n",
    "    axes[0].legend()\n",
    "    axes[1].plot(abscisse_second, gauss_second, label = 'gaussian approximation')\n",
    "    axes[1].plot(abscisse_second,np.abs(values_second), label = 'Posterior distribution')\n",
    "    axes[1].legend()\n",
    "    plt.show()\n",
    "    fig.savefig('Comparison 1D')\n",
    "    return argmax_first,argmax_second\n",
    "\n",
    "plot_1D(Z_density,13,28, np.linspace(0,8,200), np.linspace(-4,4,200))\n",
    "\n",
    "#for i in range(15):\n",
    "#    print(Y_sampled[i+15], Y_sampled[i])\n",
    "#    plot_1D(Z_density,i+15,i, np.linspace(-5,5,200), np.linspace(-5,5,200))"
   ]
  },
  {
   "cell_type": "code",
   "execution_count": 15,
   "metadata": {},
   "outputs": [
    {
     "ename": "NameError",
     "evalue": "name 'abscisse' is not defined",
     "output_type": "error",
     "traceback": [
      "\u001b[0;31m---------------------------------------------------------------------------\u001b[0m",
      "\u001b[0;31mNameError\u001b[0m                                 Traceback (most recent call last)",
      "\u001b[0;32m<ipython-input-15-15c4ecd6a14f>\u001b[0m in \u001b[0;36m<module>\u001b[0;34m\u001b[0m\n\u001b[0;32m----> 1\u001b[0;31m \u001b[0mZ\u001b[0m \u001b[0;34m=\u001b[0m \u001b[0mnp\u001b[0m\u001b[0;34m.\u001b[0m\u001b[0mzeros\u001b[0m\u001b[0;34m(\u001b[0m\u001b[0;34m(\u001b[0m\u001b[0mlen\u001b[0m\u001b[0;34m(\u001b[0m\u001b[0mabscisse\u001b[0m\u001b[0;34m)\u001b[0m\u001b[0;34m,\u001b[0m \u001b[0mlen\u001b[0m\u001b[0;34m(\u001b[0m\u001b[0mabscisse\u001b[0m\u001b[0;34m)\u001b[0m\u001b[0;34m)\u001b[0m\u001b[0;34m)\u001b[0m\u001b[0;34m\u001b[0m\u001b[0;34m\u001b[0m\u001b[0m\n\u001b[0m\u001b[1;32m      2\u001b[0m \u001b[0;32mfor\u001b[0m \u001b[0mi\u001b[0m\u001b[0;34m,\u001b[0m\u001b[0mx\u001b[0m \u001b[0;32min\u001b[0m \u001b[0menumerate\u001b[0m\u001b[0;34m(\u001b[0m\u001b[0mabscisse\u001b[0m\u001b[0;34m)\u001b[0m\u001b[0;34m:\u001b[0m\u001b[0;34m\u001b[0m\u001b[0;34m\u001b[0m\u001b[0m\n\u001b[1;32m      3\u001b[0m     \u001b[0;32mfor\u001b[0m \u001b[0mj\u001b[0m\u001b[0;34m,\u001b[0m\u001b[0my\u001b[0m \u001b[0;32min\u001b[0m \u001b[0menumerate\u001b[0m\u001b[0;34m(\u001b[0m\u001b[0mabscisse\u001b[0m\u001b[0;34m)\u001b[0m \u001b[0;34m:\u001b[0m\u001b[0;34m\u001b[0m\u001b[0;34m\u001b[0m\u001b[0m\n\u001b[1;32m      4\u001b[0m         \u001b[0mxy_ten\u001b[0m \u001b[0;34m=\u001b[0m \u001b[0mtorch\u001b[0m\u001b[0;34m.\u001b[0m\u001b[0mtensor\u001b[0m\u001b[0;34m(\u001b[0m\u001b[0;34m[\u001b[0m\u001b[0mx\u001b[0m\u001b[0;34m,\u001b[0m\u001b[0my\u001b[0m\u001b[0;34m]\u001b[0m\u001b[0;34m)\u001b[0m\u001b[0;34m\u001b[0m\u001b[0;34m\u001b[0m\u001b[0m\n\u001b[1;32m      5\u001b[0m         \u001b[0mZ\u001b[0m\u001b[0;34m[\u001b[0m\u001b[0mi\u001b[0m\u001b[0;34m,\u001b[0m\u001b[0mj\u001b[0m\u001b[0;34m]\u001b[0m\u001b[0;34m=\u001b[0m \u001b[0;34m(\u001b[0m\u001b[0mp\u001b[0m\u001b[0;34m(\u001b[0m\u001b[0mxy_ten\u001b[0m\u001b[0;34m)\u001b[0m\u001b[0;34m)\u001b[0m\u001b[0;34m*\u001b[0m\u001b[0mtorch\u001b[0m\u001b[0;34m.\u001b[0m\u001b[0mtensor\u001b[0m\u001b[0;34m(\u001b[0m\u001b[0;34m[\u001b[0m\u001b[0my\u001b[0m\u001b[0;34m]\u001b[0m\u001b[0;34m)\u001b[0m\u001b[0;34m\u001b[0m\u001b[0;34m\u001b[0m\u001b[0m\n",
      "\u001b[0;31mNameError\u001b[0m: name 'abscisse' is not defined"
     ]
    }
   ],
   "source": [
    "Z = np.zeros((len(abscisse), len(abscisse)))\n",
    "for i,x in enumerate(abscisse): \n",
    "    for j,y in enumerate(abscisse) :\n",
    "        xy_ten = torch.tensor([x,y])\n",
    "        Z[i,j]= (p(xy_ten))*torch.tensor([y])\n",
    "        \n",
    "\n",
    "fig = plt.figure()\n",
    "ax = fig.add_subplot(111, projection='3d')\n",
    "X,Y = np.meshgrid(abscisse,abscisse)\n",
    "ax.plot_surface(X, Y, Z, cmap = cm.coolwarm)\n",
    "plt.show()"
   ]
  },
  {
   "cell_type": "code",
   "execution_count": null,
   "metadata": {},
   "outputs": [],
   "source": [
    "abscisse = torch.linspace(-10,10,200)\n",
    "Z = np.zeros((len(abscisse), len(abscisse)))\n",
    "for i,x in enumerate(abscisse): \n",
    "    for j,y in enumerate(abscisse) :\n",
    "        xy_ten = torch.tensor([x,y])\n",
    "        Z[i,j]= (p(xy_ten))\n",
    "        \n",
    "\n",
    "fig = plt.figure()\n",
    "ax = fig.add_subplot(111, projection='3d')\n",
    "X,Y = np.meshgrid(abscisse,abscisse)\n",
    "ax.plot_surface(X, Y, Z, cmap = cm.coolwarm)\n",
    "plt.show()"
   ]
  },
  {
   "cell_type": "code",
   "execution_count": null,
   "metadata": {},
   "outputs": [],
   "source": [
    "plot_2D(p,abscisse,torch.linspace(-5,5,100))"
   ]
  },
  {
   "cell_type": "code",
   "execution_count": 16,
   "metadata": {},
   "outputs": [
    {
     "ename": "NameError",
     "evalue": "name 'Y_sampled' is not defined",
     "output_type": "error",
     "traceback": [
      "\u001b[0;31m---------------------------------------------------------------------------\u001b[0m",
      "\u001b[0;31mNameError\u001b[0m                                 Traceback (most recent call last)",
      "\u001b[0;32m<timed eval>\u001b[0m in \u001b[0;36m<module>\u001b[0;34m\u001b[0m\n",
      "\u001b[0;31mNameError\u001b[0m: name 'Y_sampled' is not defined"
     ]
    },
    {
     "ename": "AttributeError",
     "evalue": "'fastPLN' object has no attribute 'Sigma'",
     "output_type": "error",
     "traceback": [
      "\u001b[0;31m---------------------------------------------------------------------------\u001b[0m",
      "\u001b[0;31mAttributeError\u001b[0m                            Traceback (most recent call last)",
      "\u001b[0;32m<ipython-input-16-5809e05a9419>\u001b[0m in \u001b[0;36m<module>\u001b[0;34m\u001b[0m\n\u001b[1;32m      1\u001b[0m \u001b[0mfastmodel\u001b[0m \u001b[0;34m=\u001b[0m \u001b[0mfastPLN\u001b[0m\u001b[0;34m(\u001b[0m\u001b[0;34m)\u001b[0m\u001b[0;34m\u001b[0m\u001b[0;34m\u001b[0m\u001b[0m\n\u001b[1;32m      2\u001b[0m \u001b[0mget_ipython\u001b[0m\u001b[0;34m(\u001b[0m\u001b[0;34m)\u001b[0m\u001b[0;34m.\u001b[0m\u001b[0mrun_line_magic\u001b[0m\u001b[0;34m(\u001b[0m\u001b[0;34m'time'\u001b[0m\u001b[0;34m,\u001b[0m \u001b[0;34m'fastmodel.fit(Y_sampled,O,covariates, 20)'\u001b[0m\u001b[0;34m)\u001b[0m\u001b[0;34m\u001b[0m\u001b[0;34m\u001b[0m\u001b[0m\n\u001b[0;32m----> 3\u001b[0;31m \u001b[0mfastSigma\u001b[0m \u001b[0;34m=\u001b[0m \u001b[0mfastmodel\u001b[0m\u001b[0;34m.\u001b[0m\u001b[0mSigma\u001b[0m\u001b[0;34m\u001b[0m\u001b[0;34m\u001b[0m\u001b[0m\n\u001b[0m\u001b[1;32m      4\u001b[0m \u001b[0mfastBeta\u001b[0m \u001b[0;34m=\u001b[0m \u001b[0mfastmodel\u001b[0m\u001b[0;34m.\u001b[0m\u001b[0mbeta\u001b[0m\u001b[0;34m\u001b[0m\u001b[0;34m\u001b[0m\u001b[0m\n\u001b[1;32m      5\u001b[0m \u001b[0mprint\u001b[0m\u001b[0;34m(\u001b[0m\u001b[0;34m'beta'\u001b[0m\u001b[0;34m,\u001b[0m \u001b[0mMSE\u001b[0m\u001b[0;34m(\u001b[0m\u001b[0mtrue_beta\u001b[0m\u001b[0;34m,\u001b[0m\u001b[0mfastmodel\u001b[0m\u001b[0;34m.\u001b[0m\u001b[0mbeta\u001b[0m\u001b[0;34m)\u001b[0m\u001b[0;34m)\u001b[0m\u001b[0;34m\u001b[0m\u001b[0;34m\u001b[0m\u001b[0m\n",
      "\u001b[0;31mAttributeError\u001b[0m: 'fastPLN' object has no attribute 'Sigma'"
     ]
    }
   ],
   "source": [
    "fastmodel = fastPLN()\n",
    "%time fastmodel.fit(Y_sampled,O,covariates, 20)\n",
    "fastSigma = fastmodel.Sigma\n",
    "fastBeta = fastmodel.beta\n",
    "print('beta', MSE(true_beta,fastmodel.beta))\n",
    "\n",
    "print('Sigma', MSE(true_Sigma,fastmodel.Sigma))\n",
    "\n",
    "variational_model = MC_PLNPCA(q, batch_size, true_value = True)\n",
    "variational_model.init_data(Y_sampled, O, covariates)\n",
    "variational_model.Sigma = fastSigma\n",
    "variational_model.beta = fastBeta"
   ]
  },
  {
   "cell_type": "code",
   "execution_count": null,
   "metadata": {},
   "outputs": [],
   "source": [
    "\n",
    "    def get_conditional_density_j(self, j,Y_i,covariates_i, O_i,best_mean,  N_points): \n",
    "        '''\n",
    "        get the conditional density on the dimension j (i.e. the density of W_j|(Y_i,W_-j) ). We will return \n",
    "        a list of some points of the density to plot it. \n",
    "        \n",
    "        \n",
    "        args : \n",
    "            Y_i : tensor of size p \n",
    "            covariates_i : tensor of size d \n",
    "            O_i : tensor of size p \n",
    "            best_mean : tensosr of size q. The mean of the best gaussian approximation you found. \n",
    "            N_points : int. The number of points you want in your plot. 100 is a good choice in general. \n",
    "        returns : \n",
    "            abscisse : a list that discretize the space of interest. i.e. a discretazion of \n",
    "            [best_mean[j]-3, best_mean[j]+3]\n",
    "            density : the value of P_WYgivenY along the abscisse, for W_-j fixed and W_j is moving along the  abscisse. \n",
    "        '''\n",
    "        #We get a mask so that we can fixed the values of best_mean except the j-th coordinate. We will move \n",
    "        # the j-th coordinate along the abscisse. \n",
    "        mask = torch.zeros(best_mean.shape[0], dtype = torch.bool)\n",
    "        mask[j]= True\n",
    "        #get the abscisse. for the abscisse, the space of interest is around best_mean[j] since \n",
    "        #W_j|Y_i,W_-j is roughly a gaussian centered in best_mean[j]\n",
    "        abscisse = np.linspace(best_mean[j].detach().numpy()-3,best_mean[j].detach().numpy()+3,N_points)\n",
    "        list_density = np.array([self.log_P_WYgivenY(Y_i,covariates_i,O_i,\n",
    "                        best_mean.masked_scatter(mask,torch.Tensor([w]))).detach().numpy()\n",
    "                                for w in abscisse])\n",
    "        list_density-= np.max(list_density)# we remove the max to avoid nan Values when we take the exponential \n",
    "\n",
    "        density = np.exp(list_density)# we had the log so we need to take the exp now \n",
    "        \n",
    "        return abscisse,density\n",
    "    \n",
    "    \n",
    "    def plot_conditional(self,Y_b, covariates_b, O_b,gaussian_mean_b, N_points = 100):\n",
    "        '''\n",
    "        plot the density of the conditional densities W_j|Y_i,W_-j for i in range(self.batch_size) \n",
    "        and j in range(q)\n",
    "        Thus, the figure  will contain n_batch*q plot. \n",
    "        \n",
    "        args : \n",
    "            Y_b : tensor of size (n_batch,p) \n",
    "            covariates_b : tensor of size (n_batch,d) \n",
    "            O_b : tensor of size (n_batch,p) \n",
    "            gaussian_mean_b : tensor of size (n_batch,q) that contains the mean of the best gaussian\n",
    "            approximation \n",
    "            N_points : the number of points you want in your plot. The larger the smoother the curve. \n",
    "            \n",
    "        returns : None, but display the figure\n",
    "        '''\n",
    "        \n",
    "        fig = plt.figure(figsize = (20,10))\n",
    "        axes = fig.subplots(gaussian_mean_b.shape[0], gaussian_mean_b.shape[1])\n",
    "        for i, (Y_i,covariates_i, O_i, gaussian_mean_i) in enumerate(zip(Y_b, covariates_b, O_b,gaussian_mean_b)): \n",
    "            for j in range(gaussian_mean_b.shape[1]): \n",
    "                abscisse, density = self.get_conditional_density_j(j,Y_i,covariates_i, O_i, gaussian_mean_i, N_points)\n",
    "                true_max = abscisse[np.argmax(density)]# get the true max to plot it. \n",
    "                \n",
    "                #normal_density = np.exp(np.array([-1/(2*self.sigma**2)*(w-gaussian_mean_b[i,j])**2 for w in abscisse])) \n",
    "                try : \n",
    "                    #density of a gaussian centered in gaussian_mean_b[i,j] to see the approximation\n",
    "                    normal_density = np.exp(np.array([-1/(2*self.sigma**2)*(w-gaussian_mean_b[i,j].item())**2 for w in abscisse])) \n",
    "                    normal_density*= np.max(density)/np.max(normal_density)# We renormalize by some constants to plot similar things. \n",
    "                    axes[i,j].plot(abscisse, density, label = 'W|Y density')\n",
    "                    axes[i,j].plot(abscisse, normal_density, label = 'Gaussian density')\n",
    "                    axes[i,j].axvline(gaussian_mean_b[i,j], c = 'green', label = 'maximum found') # the max we found\n",
    "                    axes[i,j].axvline(true_max, c = 'black', label = 'true_max')# the true max. \n",
    "                except : \n",
    "                    pass\n",
    "                \n",
    "        # We display the labels above and once. \n",
    "        lines, labels = fig.axes[0].get_legend_handles_labels()\n",
    "        fig.legend(lines, labels, loc = 'upper center')\n",
    "        plt.show()\n",
    "\n",
    "\n",
    "    def batch_grad_log_beta(self, Y_b,covariates_b, O_b, W):\n",
    "        '''\n",
    "        computes the gradient of the log of the density for a batch, with respect to beta. \n",
    "        \n",
    "        args:\n",
    "            Y_b : tensor of size (n_batch,p) \n",
    "            covariates_b : tensor of size (n_batch,d) \n",
    "            O_b : tensor of size (n_batch,p) \n",
    "            W : tensor of size (N_samples, n_batch, self.q). Should be a gaussian. \n",
    "            \n",
    "        returns : \n",
    "            the gradient of the log of the density. The formula is above. \n",
    "        '''\n",
    "        #we do not sum up since we will need to multiply each quantity with a Monte Carlo approximation\n",
    "        Z_b = O_b + covariates_b@self.beta + W@(self.C.T)\n",
    "        return  (covariates_b.unsqueeze(2).T@(-torch.exp(Z_b)+Y_b)) # unsqueeze is here so that the transpose\n",
    "                                                                    #makes sense\n",
    "    \n",
    "    def grad_log_beta(self, Y_i, covariates_i, O_i, V_k): \n",
    "        '''\n",
    "        same as batch_grad_log_beta but for only one sample Y_i, covariates_i and O_i. \n",
    "        '''\n",
    "        Z_i = O_i + covariates_i@self.beta + V_k@(self.C.T)\n",
    "        return covariates_i.unsqueeze(1)@((-torch.exp(Z_i)+Y_i).unsqueeze(0))\n",
    "    \n",
    "    def batch_grad_log_C(self, Y_b,covariates_b, O_b, W):\n",
    "        '''\n",
    "        same as batch_grad_log_beta but the gradients is taken with respect to C.\n",
    "        '''\n",
    "        #we do not sum up since we will need to multiply each quantity with a Monte Carlo approximation\n",
    "        Z_b = O_b + covariates_b@self.beta + W@(self.C.T)\n",
    "        return ((-torch.exp(Z_b)+Y_b).permute(0,2,1)@W)\n",
    "    \n",
    "    def grad_log_C(self, Y_i, covariates_i, O_i, V_k): \n",
    "        '''\n",
    "        same as grad_log_beta but the gradient is taken with respect  to C. \n",
    "        '''\n",
    "        Z_i = O_i + covariates_i@self.beta + V_k@(self.C.T)\n",
    "        return ((-torch.exp(Z_i)+Y_i).unsqueeze(1))@V_k.unsqueeze(0)\n",
    "        \n",
    "    def get_batch_weights(self, Y_b, covariates_b, O_b,V_b, gaussian_mean_b):\n",
    "        '''\n",
    "        function to get the weights (weights formula in the importance sampling)\n",
    "        for one batch . We take the log and then the exponential to avoid Nan values. \n",
    "        args : \n",
    "            Y_b : tensor of size (n_batch,p) \n",
    "            covariates_b : tensor of size (n_batch,d) \n",
    "            O_b : tensor of size (n_batch,p) \n",
    "            V_b : torch of size (n_samples, n_batch,q). should be a gaussian. \n",
    "            gaussian_mean_b : tensor of size(n_batch,q). \n",
    "            \n",
    "        return : the weights (formula above), of size (n_batch)\n",
    "        '''\n",
    "        # see formula above. \n",
    "        log_f = self.batch_log_P_WYgivenY(Y_b,covariates_b,O_b,V_b)\n",
    "        log_g = self.batch_log_g(V_b,gaussian_mean_b)\n",
    "        log_fminus_log_g = log_f -log_g \n",
    "        return torch.exp(log_fminus_log_g - torch.max(log_fminus_log_g, axis = 0 )[0]) #C*f/g\n",
    "\n",
    "def find_each_mean(self,Y_b,covariates_b, O_b, lr = 0.5, N_iter_max = 100,class_optimizer = torch.optim.Rprop):\n",
    "        '''\n",
    "        method to compute the mean of the best gaussian approximation of W|Y_b. We will compute n_batch * q \n",
    "        approximation. \n",
    "        \n",
    "        args : \n",
    "            Y_b : tensor of size (n_batch,p) \n",
    "            covariates_b : tensor of size (n_batch,d) \n",
    "            O_b : tensor of size (n_batch,p) \n",
    "            lr : float. positive. the learning rate of the optimizer\n",
    "            N_iter_max : the number of iteration you want to do. \n",
    "            class_optimizer : torch.optim.optimizer object.  the class of the optimizer. should be like \n",
    "                              torch.optim.Rprop. \n",
    "        returns : \n",
    "                W : the parameter that maximizes the log of the probability of P_WY given Y.\n",
    "        '''\n",
    "        W = torch.randn(self.batch_size,self.q) # here only to evaluate a function, we won't use it to \n",
    "                                                # approximate some function. \n",
    "        W.requires_grad_(True)\n",
    "        optimizer = class_optimizer([W], lr = lr)\n",
    "        i = 0\n",
    "        while i < N_iter_max:  #and delta > tol :\n",
    "            loss = -self.each_log_P_WYgivenY(Y_b,covariates_b, O_b, W) #compute the loss \n",
    "            loss.mean().backward()#We take the mean since we have a loss of (n_batch,q) dimensions. \n",
    "            optimizer.step()\n",
    "            i+=1\n",
    "            optimizer.zero_grad()\n",
    "            if torch.isnan(loss).any() : \n",
    "                print('NANloss, find_each_mean funct : ', loss)\n",
    "            \n",
    "        return W \n",
    "    \n",
    "    def fit_IMPS(self,Y, O, covariates,  N_iter, acc,lr,class_optimizer = torch.optim.Rprop): \n",
    "        '''\n",
    "        method that fit the parameters C and beta  of the model according to the data Y,O, covariates. \n",
    "        We maximize the log likelihood thanks to a gradient ascent. The gradients are computed thanks to \n",
    "        importance sampling. \n",
    "        \n",
    "        args : \n",
    "                Y : the counts, should be int. tensor of size(n,p)\n",
    "                O : the offsets : tensor of size (n,p)\n",
    "                covariates : the covariates of the model. tensor of size(n,d)\n",
    "                N_iter : int : the number of iteration you want to do. \n",
    "                acc : float : the accuracy you want when you compute the gradients and the likelihood. We will \n",
    "                sample 1/int samples.\n",
    "                lr : float, positive. the learning rate of the optimizer for C and beta.\n",
    "                class_optimizer : the optimizer you want, ex : torch.optim.Rprop. It should be a torch.optim object\n",
    "        returns : \n",
    "                None, but the parameters C and beta are optimized. \n",
    "        '''\n",
    "        self.t0= time.time()# to keep track of the time. \n",
    "        self.init_data(Y,O, covariates)# initialize the data. \n",
    "        optim = class_optimizer([self.beta,self.C], lr = lr) # optimizer on C and beta\n",
    "        optim.zero_grad() # We do this since it is possible that beta and C have gradients. \n",
    "        N_samples = int(1/acc) # We will sample 1/acc gaussians\n",
    "        for i in range(N_iter):\n",
    "            #self.compute_mean_log_likelihood(acc)\n",
    "            for i, (Y_b, covariates_b, O_b) in enumerate(self.get_batch(self.batch_size)):\n",
    "                \n",
    "                if i //10 == 0 : \n",
    "                    print('MSE Sigma ', torch.mean((self.get_Sigma()-true_Sigma)**2).item())\n",
    "                    print('-------------MSE beta : ', torch.mean((self.beta-true_beta)**2).item())\n",
    "                 # we find the best gaussian_mean for the approximation\n",
    "                gaussian_mean_b =  self.find_each_mean(Y_b, covariates_b, O_b,N_iter_max = 100)\n",
    "                if i == -1 : \n",
    "                    self.gaussian_list.append(gaussian_mean_b)\n",
    "                    #self.plot_conditional(Y_b, covariates_b, O_b,gaussian_mean_b)\n",
    "                #print('gaussian ' , gaussian_mean_b)\n",
    "                self.compute_batch_mean_log_likelihood(Y_b, covariates_b, O_b,gaussian_mean_b,i,acc)\n",
    "                # sample some gaussians with the mean of the best gaussian approximation we found\n",
    "                V_b = torch.randn(N_samples,self.batch_size, self.q)*self.sigma+gaussian_mean_b\n",
    "                \n",
    "                weights =  self.get_batch_weights(Y_b, covariates_b, O_b,V_b, gaussian_mean_b) # weights\n",
    "                \n",
    "                normalized_weights = weights/torch.sum(weights, axis = 0)#normalization (see formula above)\n",
    "                \n",
    "                # gradients of the log likelihood \n",
    "                grad_C = self.batch_grad_log_C( Y_b,covariates_b, O_b, V_b)\n",
    "                grad_beta = self.batch_grad_log_beta( Y_b,covariates_b, O_b, V_b)\n",
    "                # We mulitplu this with the weights (see formula)\n",
    "                grad_C = torch.multiply(grad_C.unsqueeze(1),normalized_weights.unsqueeze(2).unsqueeze(3))\n",
    "                grad_beta = torch.multiply(grad_beta.unsqueeze(1),normalized_weights.unsqueeze(2).unsqueeze(3))\n",
    "                # We sum over the batches and the samples (maybe take the mean along the batch axis or not)\n",
    "                grad_C = torch.mean(torch.sum(grad_C, axis = (0)), axis = 0)\n",
    "                grad_beta = torch.mean(torch.sum(grad_beta, axis = (0)), axis = 0)\n",
    "\n",
    "                self.C.grad = -grad_C \n",
    "                self.beta.grad = -grad_beta\n",
    "                # keep records \n",
    "                self.MSE_Sigma_list.append(torch.mean((self.get_Sigma()-true_Sigma)**2).item())\n",
    "                self.MSE_beta_list.append(torch.mean((self.beta-true_beta)**2).item())\n",
    "                self.norm_grad_log_beta_list.append(torch.norm(grad_beta).item())\n",
    "                self.norm_grad_log_C_list.append(torch.norm(grad_C).item())\n",
    "                self.running_times.append(time.time()-self.t0)\n",
    "                optim.step()\n",
    "                optim.zero_grad()\n",
    "            print('-----------------------------------------------------------------------------')\n",
    "            print('-----------------------------------------------------------------------------')\n",
    "            print('-----------------------------------------------------------------------------')\n",
    "            print('----------------------------------------------------------------------------------------------------------------------------------------NEWBATCH')\n",
    "\n",
    "    def batch_log_g(self,V_b, gaussian_mean_b): \n",
    "        '''\n",
    "        method that computes the log of the density of a gaussian of mean gaussian_mean_b and variance \n",
    "        self.sigma*I. \n",
    "        \n",
    "        args : \n",
    "            V_b : tensor of size (n_samples, n_batch, self.q). \n",
    "            \n",
    "        returns : \n",
    "            the log density for each self.q dimensional gaussian (i.e. a tensor of size (n_samples, n_batch))\n",
    "        '''\n",
    "        \n",
    "        const = -self.q/2*math.log(2*math.pi)-self.q*math.log(self.sigma) # the constant on the gaussian   \n",
    "        return const -1/(2*self.sigma**2)*torch.norm(V_b-gaussian_mean_b, dim = 2)**2"
   ]
  },
  {
   "cell_type": "code",
   "execution_count": 17,
   "metadata": {},
   "outputs": [],
   "source": [
    "'''\n",
    "    def likelihood_grad_batch_beta(self, Y_b,covariates_b, O_b, W):\n",
    "        likelihood = self.batch_likelihood(Y_b,covariates_b, O_b, W, mean = False)\n",
    "        Z_b = O_b + covariates_b@self.beta + W@(self.C.T)\n",
    "        nb_non_zero = torch.sum(likelihood >0)\n",
    "        grad_log = (covariates_b.unsqueeze(2).T@(-torch.exp(Z_b)+Y_b))\n",
    "        if nb_non_zero > 0 : \n",
    "            self.norm_grad_log_beta_list.append(torch.mean(torch.abs(torch.sum(grad_log, axis = 0)/nb_non_zero)).item())\n",
    "        \n",
    "        return torch.sum(likelihood.reshape(-1,1,1)*grad_log, axis = 0)/nb_non_zero\n",
    "\n",
    "\n",
    "\n",
    "    def likelihood_grad_batch_C(self, Y_b,covariates_b, O_b, W): \n",
    "        likelihood =  self.batch_likelihood(Y_b,covariates_b, O_b, W, mean = False)\n",
    "        Z_b = O_b + covariates_b@self.beta + W@(self.C.T)\n",
    "        grad_log = ((-torch.exp(Z_b)+Y_b).permute(0,2,1)@W)\n",
    "        nb_non_zero = torch.sum(likelihood >0)\n",
    "        #print('non_zero : ', nb_non_zero)\n",
    "        if nb_non_zero > 0 : \n",
    "            self.norm_grad_log_C_list.append(torch.mean(torch.abs(torch.sum(grad_log, axis = 0)/nb_non_zero)).item())\n",
    "            \n",
    "        return torch.sum(likelihood.reshape(-1,1,1)*grad_log, axis = 0)/nb_non_zero \n",
    "'''\n",
    "\n"
   ]
  },
  {
   "cell_type": "code",
   "execution_count": 20,
   "metadata": {},
   "outputs": [
    {
     "ename": "NameError",
     "evalue": "name 'model' is not defined",
     "output_type": "error",
     "traceback": [
      "\u001b[0;31m---------------------------------------------------------------------------\u001b[0m",
      "\u001b[0;31mNameError\u001b[0m                                 Traceback (most recent call last)",
      "\u001b[0;32m<ipython-input-20-8a2089123865>\u001b[0m in \u001b[0;36m<module>\u001b[0;34m\u001b[0m\n\u001b[0;32m----> 1\u001b[0;31m \u001b[0mshow\u001b[0m\u001b[0;34m(\u001b[0m\u001b[0mmodel\u001b[0m\u001b[0;34m,\u001b[0m\u001b[0;34m'bad var  '\u001b[0m\u001b[0;34m,\u001b[0m \u001b[0msave\u001b[0m \u001b[0;34m=\u001b[0m \u001b[0;32mFalse\u001b[0m \u001b[0;34m)\u001b[0m\u001b[0;34m\u001b[0m\u001b[0;34m\u001b[0m\u001b[0m\n\u001b[0m",
      "\u001b[0;31mNameError\u001b[0m: name 'model' is not defined"
     ]
    }
   ],
   "source": [
    "show(model,'bad var  ', save = False )"
   ]
  },
  {
   "cell_type": "markdown",
   "metadata": {},
   "source": []
  },
  {
   "cell_type": "markdown",
   "metadata": {},
   "source": [
    "This is if we take only one sample $Y_i$. If we take the whole dataset (or a mini-batch), we get (writed in matrix form) :\n",
    "\n",
    "$$\n",
    "\\nabla_{\\beta} p_{\\theta}\\left(Y \\mid W_k\\right)=p_{\\theta}\\left(Y \\mid W_k\\right)\\left[-X^{\\top} \\exp \\left(0+X\\beta+W_k^{\\top} C^{\\top}\\right)+ X^{\\top}Y\\right]\n",
    "$$\n",
    "\n",
    "$$\n",
    "\\nabla_{C} p_{\\theta}\\left(Y \\mid W_k\\right)=p_{\\theta}\\left(Y \\mid W_k\\right)\\left[Y-\\exp \\left(0+X \\beta+W_k^{\\top} C^{\\top} \\right)\\right]\n",
    "^{\\top}W_k \n",
    "$$"
   ]
  },
  {
   "cell_type": "code",
   "execution_count": 21,
   "metadata": {},
   "outputs": [
    {
     "data": {
      "image/png": "[encoded data removed]",
      "text/plain": [
       "<Figure size 1080x1080 with 5 Axes>"
      ]
     },
     "metadata": {
      "needs_background": "light"
     },
     "output_type": "display_data"
    }
   ],
   "source": [
    "show(model,'',save = False)"
   ]
  },
  {
   "cell_type": "markdown",
   "metadata": {},
   "source": [
    "We look for a law that is closer to : \n",
    "\n",
    "$$\n",
    "p_{target}(W) := \\frac{p_{target}^{(u)}(W)}{\\int p_{target}^{(u)}(W)}\n",
    "$$\n",
    "\n",
    "$$\n",
    "p_{target}^{(u)}(W) : = p_{\\theta}\\left(Y_{i} \\mid W\\right) p(W_{i,k}) |\\nabla_{\\theta} \\ln p_{\\theta}\\left(Y_{i} \\mid W\\right)|\n",
    "$$"
   ]
  },
  {
   "cell_type": "markdown",
   "metadata": {},
   "source": [
    "Mathématiquement, on fait ça : \n",
    "Si $W$ est de taille $q$, on calcule "
   ]
  },
  {
   "cell_type": "code",
   "execution_count": 37,
   "metadata": {},
   "outputs": [
    {
     "data": {
      "text/plain": [
       "tensor([[2.6059, 1.4867, 0.0451, 0.0429, 0.0407, 0.0387, 0.0368, 0.0349, 0.0332,\n",
       "         0.0315, 0.0299, 0.0284, 0.0270, 0.0257, 0.0244, 0.0232, 0.0220, 0.0209,\n",
       "         0.0199, 0.0189],\n",
       "        [1.4867, 2.6059, 0.0475, 0.0451, 0.0429, 0.0407, 0.0387, 0.0368, 0.0349,\n",
       "         0.0332, 0.0315, 0.0299, 0.0284, 0.0270, 0.0257, 0.0244, 0.0232, 0.0220,\n",
       "         0.0209, 0.0199],\n",
       "        [0.0451, 0.0475, 1.1301, 0.4535, 0.0451, 0.0429, 0.0407, 0.0387, 0.0368,\n",
       "         0.0349, 0.0332, 0.0315, 0.0299, 0.0284, 0.0270, 0.0257, 0.0244, 0.0232,\n",
       "         0.0220, 0.0209],\n",
       "        [0.0429, 0.0451, 0.4535, 1.1301, 0.0475, 0.0451, 0.0429, 0.0407, 0.0387,\n",
       "         0.0368, 0.0349, 0.0332, 0.0315, 0.0299, 0.0284, 0.0270, 0.0257, 0.0244,\n",
       "         0.0232, 0.0220],\n",
       "        [0.0407, 0.0429, 0.0451, 0.0475, 1.5290, 0.7328, 0.0451, 0.0429, 0.0407,\n",
       "         0.0387, 0.0368, 0.0349, 0.0332, 0.0315, 0.0299, 0.0284, 0.0270, 0.0257,\n",
       "         0.0244, 0.0232],\n",
       "        [0.0387, 0.0407, 0.0429, 0.0451, 0.7328, 1.5290, 0.0475, 0.0451, 0.0429,\n",
       "         0.0407, 0.0387, 0.0368, 0.0349, 0.0332, 0.0315, 0.0299, 0.0284, 0.0270,\n",
       "         0.0257, 0.0244],\n",
       "        [0.0368, 0.0387, 0.0407, 0.0429, 0.0451, 0.0475, 3.5608, 2.1551, 0.0451,\n",
       "         0.0429, 0.0407, 0.0387, 0.0368, 0.0349, 0.0332, 0.0315, 0.0299, 0.0284,\n",
       "         0.0270, 0.0257],\n",
       "        [0.0349, 0.0368, 0.0387, 0.0407, 0.0429, 0.0451, 2.1551, 3.5608, 0.0475,\n",
       "         0.0451, 0.0429, 0.0407, 0.0387, 0.0368, 0.0349, 0.0332, 0.0315, 0.0299,\n",
       "         0.0284, 0.0270],\n",
       "        [0.0332, 0.0349, 0.0368, 0.0387, 0.0407, 0.0429, 0.0451, 0.0475, 2.7939,\n",
       "         1.6182, 0.0451, 0.0429, 0.0407, 0.0387, 0.0368, 0.0349, 0.0332, 0.0315,\n",
       "         0.0299, 0.0284],\n",
       "        [0.0315, 0.0332, 0.0349, 0.0368, 0.0387, 0.0407, 0.0429, 0.0451, 1.6182,\n",
       "         2.7939, 0.0475, 0.0451, 0.0429, 0.0407, 0.0387, 0.0368, 0.0349, 0.0332,\n",
       "         0.0315, 0.0299],\n",
       "        [0.0299, 0.0315, 0.0332, 0.0349, 0.0368, 0.0387, 0.0407, 0.0429, 0.0451,\n",
       "         0.0475, 1.5275, 0.7318, 0.0451, 0.0429, 0.0407, 0.0387, 0.0368, 0.0349,\n",
       "         0.0332, 0.0315],\n",
       "        [0.0284, 0.0299, 0.0315, 0.0332, 0.0349, 0.0368, 0.0387, 0.0407, 0.0429,\n",
       "         0.0451, 0.7318, 1.5275, 0.0475, 0.0451, 0.0429, 0.0407, 0.0387, 0.0368,\n",
       "         0.0349, 0.0332],\n",
       "        [0.0270, 0.0284, 0.0299, 0.0315, 0.0332, 0.0349, 0.0368, 0.0387, 0.0407,\n",
       "         0.0429, 0.0451, 0.0475, 1.5013, 0.7134, 0.0451, 0.0429, 0.0407, 0.0387,\n",
       "         0.0368, 0.0349],\n",
       "        [0.0257, 0.0270, 0.0284, 0.0299, 0.0315, 0.0332, 0.0349, 0.0368, 0.0387,\n",
       "         0.0407, 0.0429, 0.0451, 0.7134, 1.5013, 0.0475, 0.0451, 0.0429, 0.0407,\n",
       "         0.0387, 0.0368],\n",
       "        [0.0244, 0.0257, 0.0270, 0.0284, 0.0299, 0.0315, 0.0332, 0.0349, 0.0368,\n",
       "         0.0387, 0.0407, 0.0429, 0.0451, 0.0475, 1.0615, 0.4055, 0.0451, 0.0429,\n",
       "         0.0407, 0.0387],\n",
       "        [0.0232, 0.0244, 0.0257, 0.0270, 0.0284, 0.0299, 0.0315, 0.0332, 0.0349,\n",
       "         0.0368, 0.0387, 0.0407, 0.0429, 0.0451, 0.4055, 1.0615, 0.0475, 0.0451,\n",
       "         0.0429, 0.0407],\n",
       "        [0.0220, 0.0232, 0.0244, 0.0257, 0.0270, 0.0284, 0.0299, 0.0315, 0.0332,\n",
       "         0.0349, 0.0368, 0.0387, 0.0407, 0.0429, 0.0451, 0.0475, 1.0553, 0.4012,\n",
       "         0.0451, 0.0429],\n",
       "        [0.0209, 0.0220, 0.0232, 0.0244, 0.0257, 0.0270, 0.0284, 0.0299, 0.0315,\n",
       "         0.0332, 0.0349, 0.0368, 0.0387, 0.0407, 0.0429, 0.0451, 0.4012, 1.0553,\n",
       "         0.0475, 0.0451],\n",
       "        [0.0199, 0.0209, 0.0220, 0.0232, 0.0244, 0.0257, 0.0270, 0.0284, 0.0299,\n",
       "         0.0315, 0.0332, 0.0349, 0.0368, 0.0387, 0.0407, 0.0429, 0.0451, 0.0475,\n",
       "         1.1343, 0.4565],\n",
       "        [0.0189, 0.0199, 0.0209, 0.0220, 0.0232, 0.0244, 0.0257, 0.0270, 0.0284,\n",
       "         0.0299, 0.0315, 0.0332, 0.0349, 0.0368, 0.0387, 0.0407, 0.0429, 0.0451,\n",
       "         0.4565, 1.1343]])"
      ]
     },
     "execution_count": 37,
     "metadata": {},
     "output_type": "execute_result"
    }
   ],
   "source": [
    "true_Sigma"
   ]
  },
  {
   "cell_type": "code",
   "execution_count": 106,
   "metadata": {},
   "outputs": [
    {
     "data": {
      "text/plain": [
       "tensor([[ 1.0980,  0.2210,  0.3630,  0.1901,  0.7131,  0.1715, -0.0519,  0.0104,\n",
       "          0.7279,  0.0804, -0.3726,  0.1799, -0.1716, -0.2042,  0.4783, -0.3307,\n",
       "          0.1959, -0.1618,  0.5008,  0.6957],\n",
       "        [ 0.2210,  0.7539,  0.1707,  0.3933,  0.6718,  0.4209,  0.1215,  0.3440,\n",
       "         -0.0427,  0.0800,  0.1070,  0.3023,  0.2277, -0.0959,  0.0944, -0.4976,\n",
       "          0.0096,  0.1552,  0.2060,  0.2206],\n",
       "        [ 0.3630,  0.1707,  1.9334,  0.5031,  0.8632,  0.5982, -0.7425,  0.1734,\n",
       "         -0.1651,  1.4959,  0.0821,  0.4415, -0.9607,  0.0814,  0.5434, -1.1458,\n",
       "          0.1872, -0.0935, -0.7550,  0.3093],\n",
       "        [ 0.1901,  0.3933,  0.5031,  0.6298,  0.8744,  0.4038, -0.1516,  0.5176,\n",
       "          0.0197,  0.4418,  0.2201,  0.3958,  0.0503, -0.2344,  0.3390, -1.2385,\n",
       "          0.3101,  0.1885, -0.4515,  0.0993],\n",
       "        [ 0.7131,  0.6718,  0.8632,  0.8744,  2.3950,  0.3175,  0.3082,  1.1422,\n",
       "          0.1182,  0.9556,  0.0386,  1.2390, -0.0927, -0.4725,  0.8591, -2.2763,\n",
       "          0.7025,  0.8451, -0.0792,  0.7211],\n",
       "        [ 0.1715,  0.4209,  0.5982,  0.4038,  0.3175,  1.0264, -0.4597,  0.2704,\n",
       "         -0.0620,  0.4981,  0.5418, -0.2808, -0.2142,  0.0047,  0.1408, -0.5996,\n",
       "         -0.1294, -0.4989, -0.5407,  0.0927],\n",
       "        [-0.0519,  0.1215, -0.7425, -0.1516,  0.3082, -0.4597,  1.7259,  0.1106,\n",
       "         -0.1541,  0.0046, -0.2334,  0.4294,  0.4953, -0.4009, -0.0454,  0.8461,\n",
       "          0.0487,  0.6286,  1.3193, -0.2599],\n",
       "        [ 0.0104,  0.3440,  0.1734,  0.5176,  1.1422,  0.2704,  0.1106,  1.5339,\n",
       "         -0.0999,  0.5545,  0.7400,  0.3651,  0.1304, -0.0142,  0.2623, -1.5317,\n",
       "          0.3096,  0.4602, -0.3616,  0.4405],\n",
       "        [ 0.7279, -0.0427, -0.1651,  0.0197,  0.1182, -0.0620, -0.1541, -0.0999,\n",
       "          1.1367, -0.6548, -0.5841, -0.2068,  0.4338, -0.2363,  0.1713, -0.3380,\n",
       "          0.0617, -0.3620,  0.0793,  0.3453],\n",
       "        [ 0.0804,  0.0800,  1.4959,  0.4418,  0.9556,  0.4981,  0.0046,  0.5545,\n",
       "         -0.6548,  2.1015,  0.4584,  0.5747, -1.0399,  0.0680,  0.5857, -0.8505,\n",
       "          0.3038,  0.1959, -0.2600,  0.1834],\n",
       "        [-0.3726,  0.1070,  0.0821,  0.2201,  0.0386,  0.5418, -0.2334,  0.7400,\n",
       "         -0.5841,  0.4584,  1.2494, -0.3643, -0.3641,  0.2655, -0.1398, -0.2907,\n",
       "         -0.1351, -0.0876, -0.5069,  0.0536],\n",
       "        [ 0.1799,  0.3023,  0.4415,  0.3958,  1.2390, -0.2808,  0.4294,  0.3651,\n",
       "         -0.2068,  0.5747, -0.3643,  1.4673, -0.0274, -0.1997,  0.4769, -0.8667,\n",
       "          0.6522,  1.1115,  0.4040,  0.2061],\n",
       "        [-0.1716,  0.2277, -0.9607,  0.0503, -0.0927, -0.2142,  0.4953,  0.1304,\n",
       "          0.4338, -1.0399, -0.3641, -0.0274,  1.2905, -0.3582, -0.2684, -0.1582,\n",
       "         -0.0215,  0.1164,  0.1119, -0.3880],\n",
       "        [-0.2042, -0.0959,  0.0814, -0.2344, -0.4725,  0.0047, -0.4009, -0.0142,\n",
       "         -0.2363,  0.0680,  0.2655, -0.1997, -0.3582,  0.5421, -0.2208,  0.5028,\n",
       "         -0.2570, -0.1145, -0.0136,  0.1668],\n",
       "        [ 0.4783,  0.0944,  0.5434,  0.3390,  0.8591,  0.1408, -0.0454,  0.2623,\n",
       "          0.1713,  0.5857, -0.1398,  0.4769, -0.2684, -0.2208,  0.7099, -0.9724,\n",
       "          0.5836,  0.1444, -0.0905,  0.3399],\n",
       "        [-0.3307, -0.4976, -1.1458, -1.2385, -2.2763, -0.5996,  0.8461, -1.5317,\n",
       "         -0.3380, -0.8505, -0.2907, -0.8667, -0.1582,  0.5028, -0.9724,  4.1718,\n",
       "         -1.0083, -0.4231,  1.9562, -0.4765],\n",
       "        [ 0.1959,  0.0096,  0.1872,  0.3101,  0.7025, -0.1294,  0.0487,  0.3096,\n",
       "          0.0617,  0.3038, -0.1351,  0.6522, -0.0215, -0.2570,  0.5836, -1.0083,\n",
       "          0.7841,  0.4295, -0.1282,  0.1309],\n",
       "        [-0.1618,  0.1552, -0.0935,  0.1885,  0.8451, -0.4989,  0.6286,  0.4602,\n",
       "         -0.3620,  0.1959, -0.0876,  1.1115,  0.1164, -0.1145,  0.1444, -0.4231,\n",
       "          0.4295,  1.1696,  0.4565,  0.0792],\n",
       "        [ 0.5008,  0.2060, -0.7550, -0.4515, -0.0792, -0.5407,  1.3193, -0.3616,\n",
       "          0.0793, -0.2600, -0.5069,  0.4040,  0.1119, -0.0136, -0.0905,  1.9562,\n",
       "         -0.1282,  0.4565,  2.3898,  0.4018],\n",
       "        [ 0.6957,  0.2206,  0.3093,  0.0993,  0.7211,  0.0927, -0.2599,  0.4405,\n",
       "          0.3453,  0.1834,  0.0536,  0.2061, -0.3880,  0.1668,  0.3399, -0.4765,\n",
       "          0.1309,  0.0792,  0.4018,  1.0243]])"
      ]
     },
     "execution_count": 106,
     "metadata": {},
     "output_type": "execute_result"
    }
   ],
   "source": [
    "model.Sigma_mean"
   ]
  },
  {
   "cell_type": "code",
   "execution_count": 103,
   "metadata": {},
   "outputs": [
    {
     "data": {
      "text/plain": [
       "tensor(0.3137)"
      ]
     },
     "execution_count": 103,
     "metadata": {},
     "output_type": "execute_result"
    }
   ],
   "source": [
    "torch.mean((model.Sigma_mean-true_Sigma)**2)"
   ]
  },
  {
   "cell_type": "code",
   "execution_count": 23,
   "metadata": {},
   "outputs": [
    {
     "ename": "NameError",
     "evalue": "name 'a' is not defined",
     "output_type": "error",
     "traceback": [
      "\u001b[0;31m---------------------------------------------------------------------------\u001b[0m",
      "\u001b[0;31mNameError\u001b[0m                                 Traceback (most recent call last)",
      "\u001b[0;32m<ipython-input-23-00184daf79ef>\u001b[0m in \u001b[0;36m<module>\u001b[0;34m\u001b[0m\n\u001b[0;32m----> 1\u001b[0;31m \u001b[0mprint\u001b[0m\u001b[0;34m(\u001b[0m\u001b[0ma\u001b[0m\u001b[0;34m[\u001b[0m\u001b[0;36m0\u001b[0m\u001b[0;34m,\u001b[0m\u001b[0;36m0\u001b[0m\u001b[0;34m,\u001b[0m\u001b[0;36m0\u001b[0m\u001b[0;34m,\u001b[0m\u001b[0;34m:\u001b[0m\u001b[0;34m]\u001b[0m\u001b[0;34m@\u001b[0m\u001b[0mb\u001b[0m\u001b[0;34m[\u001b[0m\u001b[0;36m0\u001b[0m\u001b[0;34m,\u001b[0m\u001b[0;36m0\u001b[0m\u001b[0;34m,\u001b[0m\u001b[0;34m:\u001b[0m\u001b[0;34m,\u001b[0m\u001b[0;36m0\u001b[0m\u001b[0;34m]\u001b[0m\u001b[0;34m)\u001b[0m\u001b[0;34m\u001b[0m\u001b[0;34m\u001b[0m\u001b[0m\n\u001b[0m\u001b[1;32m      2\u001b[0m \u001b[0mres\u001b[0m\u001b[0;34m[\u001b[0m\u001b[0;36m0\u001b[0m\u001b[0;34m,\u001b[0m\u001b[0;36m0\u001b[0m\u001b[0;34m]\u001b[0m\u001b[0;34m\u001b[0m\u001b[0;34m\u001b[0m\u001b[0m\n",
      "\u001b[0;31mNameError\u001b[0m: name 'a' is not defined"
     ]
    }
   ],
   "source": [
    "\n",
    "print(a[0,0,0,:]@b[0,0,:,0])\n",
    "res[0,0]"
   ]
  },
  {
   "cell_type": "code",
   "execution_count": 23,
   "metadata": {},
   "outputs": [],
   "source": [
    "y = -7\n",
    "c = 1."
   ]
  },
  {
   "cell_type": "code",
   "execution_count": 24,
   "metadata": {},
   "outputs": [],
   "source": [
    "def f_(w): \n",
    "    expc = np.exp(c*w)\n",
    "    return np.exp(-1/2*((y-expc)**2 + w**2))"
   ]
  },
  {
   "cell_type": "code",
   "execution_count": 26,
   "metadata": {},
   "outputs": [
    {
     "data": {
      "text/plain": [
       "[<matplotlib.lines.Line2D at 0x7f627c407df0>]"
      ]
     },
     "execution_count": 26,
     "metadata": {},
     "output_type": "execute_result"
    },
    {
     "data": {
      "image/png": "[encoded data removed]",
      "text/plain": [
       "<Figure size 432x288 with 1 Axes>"
      ]
     },
     "metadata": {
      "needs_background": "light"
     },
     "output_type": "display_data"
    }
   ],
   "source": [
    "abscisse = np.arange(-10,10,0.01)\n",
    "plt.plot(abscisse, f_(abscisse))"
   ]
  },
  {
   "cell_type": "code",
   "execution_count": 194,
   "metadata": {},
   "outputs": [
    {
     "data": {
      "text/plain": [
       "<matplotlib.lines.Line2D at 0x7f626f322280>"
      ]
     },
     "execution_count": 194,
     "metadata": {},
     "output_type": "execute_result"
    },
    {
     "data": {
      "image/png": "[encoded data removed]",
      "text/plain": [
       "<Figure size 432x288 with 1 Axes>"
      ]
     },
     "metadata": {
      "needs_background": "light"
     },
     "output_type": "display_data"
    }
   ],
   "source": [
    "\n",
    "\n",
    "def d_expexp(w): \n",
    "    return 1/(np.exp(z/2))*np.exp(-1/(2*np.exp(z))*(w-np.exp(z))**2)\n",
    "\n",
    "abscisse = np.linspace(0.7*np.exp(z), 1.1*np.exp(z)+3, 1000)\n",
    "\n",
    "plt.plot(abscisse, d_expexp(abscisse))\n",
    "plt.axvline(math.exp(z), c = 'red')"
   ]
  },
  {
   "cell_type": "code",
   "execution_count": 19,
   "metadata": {
    "scrolled": true
   },
   "outputs": [
    {
     "ename": "NameError",
     "evalue": "name 'model' is not defined",
     "output_type": "error",
     "traceback": [
      "\u001b[0;31m---------------------------------------------------------------------------\u001b[0m",
      "\u001b[0;31mNameError\u001b[0m                                 Traceback (most recent call last)",
      "\u001b[0;32m<ipython-input-19-8a2089123865>\u001b[0m in \u001b[0;36m<module>\u001b[0;34m\u001b[0m\n\u001b[0;32m----> 1\u001b[0;31m \u001b[0mshow\u001b[0m\u001b[0;34m(\u001b[0m\u001b[0mmodel\u001b[0m\u001b[0;34m,\u001b[0m\u001b[0;34m'bad var  '\u001b[0m\u001b[0;34m,\u001b[0m \u001b[0msave\u001b[0m \u001b[0;34m=\u001b[0m \u001b[0;32mFalse\u001b[0m \u001b[0;34m)\u001b[0m\u001b[0;34m\u001b[0m\u001b[0;34m\u001b[0m\u001b[0m\n\u001b[0m",
      "\u001b[0;31mNameError\u001b[0m: name 'model' is not defined"
     ]
    }
   ],
   "source": [
    "show(model,'bad var  ', save = False )"
   ]
  },
  {
   "cell_type": "code",
   "execution_count": 25,
   "metadata": {},
   "outputs": [
    {
     "data": {
      "text/plain": [
       "tensor([[0.5000, 0.0000, 0.0000,  ..., 0.0000, 0.0000, 0.0000],\n",
       "        [0.0000, 0.5000, 0.0000,  ..., 0.0000, 0.0000, 0.0000],\n",
       "        [0.0000, 0.0000, 0.5000,  ..., 0.0000, 0.0000, 0.0000],\n",
       "        ...,\n",
       "        [0.0000, 0.0000, 0.0000,  ..., 0.5000, 0.0000, 0.0000],\n",
       "        [0.0000, 0.0000, 0.0000,  ..., 0.0000, 0.5000, 0.0000],\n",
       "        [0.0000, 0.0000, 0.0000,  ..., 0.0000, 0.0000, 0.5000]])"
      ]
     },
     "execution_count": 25,
     "metadata": {},
     "output_type": "execute_result"
    }
   ],
   "source": [
    "true_Sigma"
   ]
  },
  {
   "cell_type": "code",
   "execution_count": 26,
   "metadata": {},
   "outputs": [
    {
     "data": {
      "text/plain": [
       "tensor([[0, 1, 0,  ..., 3, 0, 2],\n",
       "        [0, 1, 2,  ..., 1, 0, 5],\n",
       "        [0, 0, 0,  ..., 4, 0, 1],\n",
       "        ...,\n",
       "        [2, 2, 1,  ..., 2, 1, 0],\n",
       "        [0, 1, 0,  ..., 0, 4, 2],\n",
       "        [0, 0, 3,  ..., 0, 3, 0]])"
      ]
     },
     "execution_count": 26,
     "metadata": {},
     "output_type": "execute_result"
    }
   ],
   "source": [
    "Y_sampled"
   ]
  },
  {
   "cell_type": "markdown",
   "metadata": {},
   "source": [
    "### heuristics for approximation of the gaussian of an exponential by the exponential of a gaussian"
   ]
  },
  {
   "cell_type": "code",
   "execution_count": 232,
   "metadata": {},
   "outputs": [],
   "source": [
    "def sample_expexp(gaussian,z): \n",
    "    return np.exp(z) + gaussian*np.sqrt(np.exp(z))\n",
    "def sample_exp(gaussian,z): \n",
    "    return z + gaussian*np.sqrt(np.exp(-np.abs(z)))"
   ]
  },
  {
   "cell_type": "code",
   "execution_count": 233,
   "metadata": {},
   "outputs": [],
   "source": [
    "z = -5\n",
    "gaussian = np.random.randn(1000)\n",
    "V = sample_expexp(gaussian,z)\n",
    "#log_V = np.log(V)"
   ]
  },
  {
   "cell_type": "code",
   "execution_count": 234,
   "metadata": {},
   "outputs": [
    {
     "data": {
      "image/png": "[encoded data removed]",
      "text/plain": [
       "<Figure size 432x288 with 1 Axes>"
      ]
     },
     "metadata": {
      "needs_background": "light"
     },
     "output_type": "display_data"
    }
   ],
   "source": [
    "hist = plt.hist(V, bins = 100)\n",
    "plt.show()\n",
    "#hist_log = plt.hist(log_V, bins = 100)"
   ]
  },
  {
   "cell_type": "code",
   "execution_count": 235,
   "metadata": {},
   "outputs": [
    {
     "data": {
      "image/png": "[encoded data removed]",
      "text/plain": [
       "<Figure size 432x288 with 1 Axes>"
      ]
     },
     "metadata": {
      "needs_background": "light"
     },
     "output_type": "display_data"
    }
   ],
   "source": [
    "trylog_V = sample_exp(gaussian,z)\n",
    "try_V = np.exp(trylog_V)\n",
    "hist = plt.hist(try_V, bins = 100)"
   ]
  },
  {
   "cell_type": "code",
   "execution_count": 213,
   "metadata": {},
   "outputs": [
    {
     "name": "stdout",
     "output_type": "stream",
     "text": [
      "true_mean :  0.007646401369724009\n",
      "try mean  0.00676683512904653\n",
      "true_var  0.0067271582935046845\n",
      "try var  3.1071408664673343e-07\n"
     ]
    }
   ],
   "source": [
    "try_var = np.var(try_V)\n",
    "try_mean = np.mean(try_V)\n",
    "\n",
    "print('true_mean : ', np.mean(V))\n",
    "print('try mean ', try_mean)\n",
    "print('true_var ', np.var(V))\n",
    "print('try var ', try_var)\n"
   ]
  },
  {
   "cell_type": "code",
   "execution_count": 214,
   "metadata": {},
   "outputs": [
    {
     "data": {
      "text/plain": [
       "0.0005574173361555356"
      ]
     },
     "execution_count": 214,
     "metadata": {},
     "output_type": "execute_result"
    }
   ],
   "source": [
    "np.sqrt(try_var)"
   ]
  },
  {
   "cell_type": "code",
   "execution_count": 249,
   "metadata": {},
   "outputs": [],
   "source": [
    "gaussian = np.random.randn(1000)\n",
    "try_mean = list()\n",
    "try_var = list()\n",
    "true_mean = list()\n",
    "true_var = list()\n",
    "abscisse = np.linspace(-10,10,100)\n",
    "\n",
    "for z_ in abscisse : \n",
    "    V = sample_expexp(gaussian,z_)\n",
    "    trylog_V = sample_exp(gaussian,z_)\n",
    "    try_V  = np.exp(trylog_V)\n",
    "    try_var.append(np.var(try_V))\n",
    "    try_mean.append(np.mean(try_V))\n",
    "    true_mean.append(np.mean(V))\n",
    "    true_var.append(np.var(V))\n",
    "    \n",
    "    #print('true_mean : ', true_mean)\n",
    "    #print('try mean ', try_mean)\n",
    "    #print('true_var ', true_var)\n",
    "    #print('try var ', try_var)\n",
    "    #print(' ')\n",
    "    "
   ]
  },
  {
   "cell_type": "code",
   "execution_count": 292,
   "metadata": {},
   "outputs": [
    {
     "data": {
      "image/png": "[encoded data removed]",
      "text/plain": [
       "<Figure size 432x288 with 1 Axes>"
      ]
     },
     "metadata": {
      "needs_background": "light"
     },
     "output_type": "display_data"
    },
    {
     "data": {
      "image/png": "[encoded data removed]",
      "text/plain": [
       "<Figure size 432x288 with 1 Axes>"
      ]
     },
     "metadata": {
      "needs_background": "light"
     },
     "output_type": "display_data"
    }
   ],
   "source": [
    "plt.plot(abscisse,try_var, label = 'estimated var')\n",
    "plt.plot(abscisse, true_var, label = 'true var')\n",
    "plt.yscale('log')\n",
    "plt.legend()\n",
    "plt.show()\n",
    "\n",
    "\n",
    "plt.plot(np.exp(abscisse),np.abs(np.array(try_mean)-np.array(true_mean)), label = 'difference with true mean')\n",
    "#plt.plot(abscisse, true_mean, label = 'true mean')\n",
    "plt.xlabel('mean ( = exp(z))')\n",
    "plt.xscale('log')\n",
    "plt.yscale('log')\n",
    "plt.legend()\n",
    "plt.show()\n"
   ]
  },
  {
   "cell_type": "code",
   "execution_count": null,
   "metadata": {},
   "outputs": [],
   "source": []
  },
  {
   "cell_type": "code",
   "execution_count": 255,
   "metadata": {},
   "outputs": [
    {
     "data": {
      "text/plain": [
       "[]"
      ]
     },
     "execution_count": 255,
     "metadata": {},
     "output_type": "execute_result"
    },
    {
     "data": {
      "image/png": "[encoded data removed]",
      "text/plain": [
       "<Figure size 432x288 with 1 Axes>"
      ]
     },
     "metadata": {
      "needs_background": "light"
     },
     "output_type": "display_data"
    }
   ],
   "source": []
  },
  {
   "cell_type": "code",
   "execution_count": 191,
   "metadata": {},
   "outputs": [
    {
     "data": {
      "text/plain": [
       "162754.79141900392"
      ]
     },
     "execution_count": 191,
     "metadata": {},
     "output_type": "execute_result"
    }
   ],
   "source": [
    "np.exp(z)"
   ]
  },
  {
   "cell_type": "code",
   "execution_count": 190,
   "metadata": {},
   "outputs": [
    {
     "data": {
      "text/plain": [
       "162740.34727348905"
      ]
     },
     "execution_count": 190,
     "metadata": {},
     "output_type": "execute_result"
    }
   ],
   "source": [
    "np.mean(V)"
   ]
  },
  {
   "cell_type": "code",
   "execution_count": 189,
   "metadata": {},
   "outputs": [
    {
     "data": {
      "text/plain": [
       "162754.79141900392"
      ]
     },
     "execution_count": 189,
     "metadata": {},
     "output_type": "execute_result"
    }
   ],
   "source": [
    "np.exp(z)"
   ]
  },
  {
   "cell_type": "code",
   "execution_count": 188,
   "metadata": {},
   "outputs": [
    {
     "name": "stdout",
     "output_type": "stream",
     "text": [
      "159942.41478299256\n"
     ]
    }
   ],
   "source": [
    "print(np.var(V))"
   ]
  },
  {
   "cell_type": "code",
   "execution_count": 151,
   "metadata": {},
   "outputs": [
    {
     "name": "stdout",
     "output_type": "stream",
     "text": [
      "nan\n"
     ]
    },
    {
     "name": "stderr",
     "output_type": "stream",
     "text": [
      "<ipython-input-151-7ded7fe656fe>:1: RuntimeWarning: invalid value encountered in log\n",
      "  print(np.var(np.log(V)))\n"
     ]
    }
   ],
   "source": [
    "print(np.var(np.log(V)))"
   ]
  },
  {
   "cell_type": "code",
   "execution_count": 107,
   "metadata": {},
   "outputs": [
    {
     "data": {
      "text/plain": [
       "(array([  2.,   2.,  18.,  82., 216., 290., 243., 104.,  35.,   8.]),\n",
       " array([11.98950644, 11.9913869 , 11.99326735, 11.99514781, 11.99702826,\n",
       "        11.99890872, 12.00078918, 12.00266963, 12.00455009, 12.00643055,\n",
       "        12.008311  ]),\n",
       " <BarContainer object of 10 artists>)"
      ]
     },
     "execution_count": 107,
     "metadata": {},
     "output_type": "execute_result"
    },
    {
     "data": {
      "image/png": "[encoded data removed]",
      "text/plain": [
       "<Figure size 432x288 with 1 Axes>"
      ]
     },
     "metadata": {
      "needs_background": "light"
     },
     "output_type": "display_data"
    }
   ],
   "source": [
    "plt.hist(np.log(V))"
   ]
  },
  {
   "cell_type": "code",
   "execution_count": null,
   "metadata": {},
   "outputs": [],
   "source": [
    "XB = torch.randn(n,p)\n",
    "W = torch.randn(n,q)\n",
    "first = torch.exp(XB + torch.matmul(true_C.unsqueeze(0),W.unsqueeze(2)).squeeze()).unsqueeze(2)\n",
    "second = W.unsqueeze(1)\n",
    "res = torch.matmul(first,second)\n",
    "a = torch.exp(XB)\n",
    "esp_exp = torch.matmul(torch.exp(torch.matmul(true_C.unsqueeze(0),W.unsqueeze(2)).squeeze().unsqueeze(2)),second)\n",
    "res_bis = torch.multiply(a.unsqueeze(2), esp_exp)"
   ]
  }
 ],
 "metadata": {
  "kernelspec": {
   "display_name": "Python 3",
   "language": "python",
   "name": "python3"
  },
  "language_info": {
   "codemirror_mode": {
    "name": "ipython",
    "version": 3
   },
   "file_extension": ".py",
   "mimetype": "text/x-python",
   "name": "python",
   "nbconvert_exporter": "python",
   "pygments_lexer": "ipython3",
   "version": "3.8.5"
  }
 },
 "nbformat": 4,
 "nbformat_minor": 4
}
