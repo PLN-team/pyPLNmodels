{
 "cells": [
  {
   "cell_type": "code",
   "execution_count": 1,
   "metadata": {},
   "outputs": [],
   "source": [
    "import numpy as np \n",
    "import torch \n",
    "import math \n",
    "import matplotlib.pyplot as plt\n",
    "from torch.optim import Optimizer\n",
    "import time"
   ]
  },
  {
   "cell_type": "code",
   "execution_count": 3,
   "metadata": {},
   "outputs": [],
   "source": [
    "N_samples = 1000\n",
    "p = 100\n",
    "d = 40\n"
   ]
  },
  {
   "cell_type": "code",
   "execution_count": 4,
   "metadata": {},
   "outputs": [],
   "source": [
    "X = torch.randn(N_samples, d)\n",
    "true_beta = torch.randn(d,p)\n",
    "true_alpha = torch.randn(d, p)\n",
    "Y = X@true_beta + torch.randn(N_samples, p) \n",
    "Y_bis = X@true_alpha + torch.randn(N_samples,p) "
   ]
  },
  {
   "cell_type": "code",
   "execution_count": 8,
   "metadata": {},
   "outputs": [],
   "source": [
    "def get_batch(X,Y,batch_size): \n",
    "    '''\n",
    "    get the batches required to do a  minibatch gradient ascent.  \n",
    "\n",
    "    args : \n",
    "            'batch_size' int.  the batch size you want. \n",
    "\n",
    "    returns : a generator. Will generate n/batch_size samples of size batch_size (except the last one \n",
    "                since the rest of the division is not always 0)\n",
    "    '''\n",
    "    #np.random.seed(2)\n",
    "    n = Y.shape[0]\n",
    "    indices = np.arange(n)\n",
    "    np.random.shuffle(indices)\n",
    "    # get the number of batches and the size of the last one. \n",
    "    nb_full_batch, last_batch_size  = n//batch_size, n % batch_size  \n",
    "    for i in range(nb_full_batch): \n",
    "        yield   (X[indices[i*batch_size: (i+1)*batch_size]],\n",
    "                 Y[indices[i*batch_size: (i+1)*batch_size]],\n",
    "                 Y_bis[indices[i*batch_size: (i+1)*batch_size]],\n",
    "                 indices[i*batch_size: (i+1)*batch_size]\n",
    "                )\n",
    "    if last_batch_size != 0 :\n",
    "        yield   (X[indices[-last_batch_size:]], Y[indices[-last_batch_size:]],\n",
    "                  Y_bis[indices[-last_batch_size:]],indices[-last_batch_size:],\n",
    "                )\n",
    "        \n"
   ]
  },
  {
   "cell_type": "code",
   "execution_count": 44,
   "metadata": {},
   "outputs": [],
   "source": [
    "def f(x,y_i): \n",
    "    return 1/2*torch.norm(x@beta-y_i)**2\n",
    "\n",
    "def F(beta): \n",
    "    return 1/2*torch.mean(torch.norm(Y-X@beta, dim = (1))**2)\n",
    "\n",
    "def F_bis(alpha): \n",
    "    return 1/2*torch.mean(torch.norm(Y_bis-X@alpha, dim = (1))**2)\n",
    "def grad_f(beta,y_i,x_i): \n",
    "    return -torch.outer(x_i, y_i-x_i@beta)\n",
    "def grad_f_bis(alpha,y_i,x_i): \n",
    "    return -torch.outer(x_i, y_i-x_i@beta)\n",
    "\n",
    "def grad_F(beta): \n",
    "    return -torch.mean(torch.matmul(X.unsqueeze(2), (Y-X@beta).unsqueeze(1)) , axis = 0)\n",
    "def grad_F_bis(alpha): \n",
    "    return -torch.mean(torch.matmul(X.unsqueeze(2), (Y_bis-X@alpha).unsqueeze(1)) , axis = 0)\n",
    "    \n",
    "def batch_grad(beta,x_batch, y_batch): \n",
    "    return -torch.matmul(x_batch.unsqueeze(2), (y_batch-x_batch@beta).unsqueeze(1))\n",
    "def batch_grad_bis(alpha,x_batch, y_batch): \n",
    "    return -torch.matmul(x_batch.unsqueeze(2), (y_batch-x_batch@alpha).unsqueeze(1))\n",
    "\n",
    "\n",
    "def fit(SAGA_bool, SVRG_bool, nb_step, choice_optim, lr, batch_size):\n",
    "    beta = torch.zeros((d,p),requires_grad = True) + true_beta\n",
    "    beta = torch.clone(true_beta) + torch.randn(d,p)\n",
    "    beta.requires_grad_(True)\n",
    "    alpha = torch.zeros((d,p), requires_grad = True) + true_alpha\n",
    "    alpha = torch.clone(true_alpha) + torch.randn(d,p)\n",
    "    alpha.requires_grad_(True)\n",
    "    if SAGA_bool == False : \n",
    "        optim = choice_optim([alpha,beta], lr = lr)\n",
    "    else : \n",
    "        init_grad_alpha = batch_grad(alpha, X, Y_bis)\n",
    "        init_grad_beta = batch_grad(beta, X, Y)\n",
    "        init_grads = [init_grad_alpha, init_grad_beta]\n",
    "        optim = choice_optim([alpha,beta], init_grads, lr)\n",
    "    MSE_alpha_list = []\n",
    "    MSE_beta_list = []\n",
    "    running_times = []\n",
    "    t0 = time.time()\n",
    "    for i in range(nb_step):\n",
    "        if SVRG_bool:\n",
    "            optim.update_mean_grad([grad_F_bis(alpha).detach(),grad_F(beta).detach()])\n",
    "            alpha.old_param = torch.clone(alpha)\n",
    "            beta.old_param = torch.clone(beta)\n",
    "        for x_b,y_b,y_b_bis, selected_indices in get_batch(X,Y, batch_size): \n",
    "            \n",
    "            batch_grad_alpha = batch_grad(alpha, x_b,y_b_bis)\n",
    "            alpha.grad = torch.mean(batch_grad_alpha, axis = 0)#+torch.randn(d,p)/1.5\n",
    "            \n",
    "            batch_grad_beta = batch_grad(beta, x_b, y_b)# + torch.randn(d,p)/1.5\n",
    "            beta.grad = torch.mean(batch_grad_beta, axis = 0)\n",
    "            \n",
    "            if SVRG_bool : \n",
    "                alpha.old_grad = torch.mean(batch_grad(alpha.old_param, x_b,y_b_bis), axis = 0)\n",
    "                beta.old_grad = torch.mean(batch_grad(beta.old_param, x_b, y_b), axis = 0)\n",
    "                \n",
    "            if SAGA_bool : \n",
    "                optim.step([batch_grad_alpha,batch_grad_beta], selected_indices)\n",
    "            else : \n",
    "                optim.step()\n",
    "            MSE_alpha_list.append(torch.mean((alpha-true_alpha)**2).item())\n",
    "            MSE_beta_list.append(torch.mean((beta-true_beta)**2).item())\n",
    "            running_times.append(time.time()-t0)\n",
    "            \n",
    "        \n",
    "    return MSE_alpha_list, MSE_beta_list, running_times"
   ]
  },
  {
   "cell_type": "code",
   "execution_count": 45,
   "metadata": {},
   "outputs": [
    {
     "data": {
      "image/png": "[encoded data removed]",
      "text/plain": [
       "<Figure size 432x288 with 1 Axes>"
      ]
     },
     "metadata": {
      "needs_background": "light"
     },
     "output_type": "display_data"
    },
    {
     "name": "stdout",
     "output_type": "stream",
     "text": [
      "MSE_alpha 0.0010385200614109636\n",
      "MSE_beta 0.0010745537059847266\n"
     ]
    }
   ],
   "source": [
    "MSE_alpha_torch, MSE_beta_torch, running_torch = fit(False,False, 100, torch.optim.RMSprop, 0.0008, 10)\n",
    "show(MSE_alpha_torch, MSE_beta_torch, running_torch)\n",
    "print('MSE_alpha', np.mean(MSE_alpha_torch[-20:]))\n",
    "print('MSE_beta', np.mean(MSE_beta_torch[-20:]))"
   ]
  },
  {
   "cell_type": "code",
   "execution_count": 46,
   "metadata": {},
   "outputs": [
    {
     "data": {
      "image/png": "[encoded data removed]",
      "text/plain": [
       "<Figure size 432x288 with 1 Axes>"
      ]
     },
     "metadata": {
      "needs_background": "light"
     },
     "output_type": "display_data"
    },
    {
     "name": "stdout",
     "output_type": "stream",
     "text": [
      "MSE_alpha 0.0013153616728959604\n",
      "MSE_beta 0.0013400289666606114\n"
     ]
    }
   ],
   "source": [
    "MSE_alpha_SAGA, MSE_beta_SAGA, running_SAGA = fit(True,False,  50, SAGA, 0.002, 10)\n",
    "show(MSE_alpha_SAGA, MSE_beta_SAGA, running_SAGA)\n",
    "print('MSE_alpha', np.mean(MSE_alpha_SAGA[-200:]))\n",
    "print('MSE_beta', np.mean(MSE_beta_SAGA[-200:]))"
   ]
  },
  {
   "cell_type": "code",
   "execution_count": 47,
   "metadata": {},
   "outputs": [
    {
     "data": {
      "image/png": "[encoded data removed]",
      "text/plain": [
       "<Figure size 432x288 with 1 Axes>"
      ]
     },
     "metadata": {
      "needs_background": "light"
     },
     "output_type": "display_data"
    },
    {
     "name": "stdout",
     "output_type": "stream",
     "text": [
      "MSE_alpha 0.001029597775777802\n",
      "MSE_beta 0.001068564427550882\n"
     ]
    }
   ],
   "source": [
    "MSE_alpha_SVRG, MSE_beta_SVRG, running_SVRG = fit(False,True,  40, SVRG, 0.002, 10)\n",
    "show(MSE_alpha_SVRG, MSE_beta_SVRG, running_SVRG)\n",
    "print('MSE_alpha', np.mean(MSE_alpha_SVRG[-200:]))\n",
    "print('MSE_beta', np.mean(MSE_beta_SVRG[-200:]))"
   ]
  },
  {
   "cell_type": "code",
   "execution_count": 296,
   "metadata": {},
   "outputs": [
    {
     "name": "stdout",
     "output_type": "stream",
     "text": [
      "dims : [torch.Size([4, 10]), torch.Size([4, 10])]\n"
     ]
    },
    {
     "data": {
      "image/png": "[encoded data removed]",
      "text/plain": [
       "<Figure size 432x288 with 1 Axes>"
      ]
     },
     "metadata": {
      "needs_background": "light"
     },
     "output_type": "display_data"
    },
    {
     "name": "stdout",
     "output_type": "stream",
     "text": [
      "MSE_alpha 0.017236574389971792\n",
      "MSE_beta 0.016783298472873867\n"
     ]
    }
   ],
   "source": [
    "MSE_alpha_SAGA, MSE_beta_SAGA, running_SAGA = fit(True,False, 100, SAGA, 0.05,15)\n",
    "show(MSE_alpha_SAGA, MSE_beta_SAGA, running_SAGA)\n",
    "print('MSE_alpha', np.mean(MSE_alpha_SAGA[-200:]))\n",
    "print('MSE_beta', np.mean(MSE_beta_SAGA[-200:]))"
   ]
  },
  {
   "cell_type": "code",
   "execution_count": 10,
   "metadata": {},
   "outputs": [],
   "source": [
    "def show(MSE_alpha_list, MSE_beta_list, running_times): \n",
    "    plt.plot(running_times, MSE_alpha_list)\n",
    "    plt.plot(running_times, MSE_beta_list)\n",
    "    plt.yscale('log')\n",
    "    plt.show()"
   ]
  },
  {
   "cell_type": "code",
   "execution_count": 26,
   "metadata": {},
   "outputs": [],
   "source": [
    "class SVRG(Optimizer):\n",
    "    def __init__(self, params, lr):\n",
    "        '''\n",
    "        initialization for the SAGA optimizer. \n",
    "        \n",
    "        args : \n",
    "            params : list with each parameters\n",
    "            lr : learning rate \n",
    "            init_grad_means : for each param in params. should be a list of length \n",
    "            nb_param. for each element in the list, the size should be \n",
    "            (shape of the parameter) \n",
    "            We will associate to each parameter an estimation of the gradient \n",
    "            of the objective function. Here, we will estimate this by evaluating \n",
    "            this at the starting point.  \n",
    "        '''\n",
    "            \n",
    "        # set a warning message if all the sample size are differents. \n",
    "        defaults = dict(lr=lr)#, momentum=momentum, dampening=dampening,\n",
    "                        #weight_decay=weight_decay, nesterov=nesterov)\n",
    "        super(SVRG, self).__init__(params, defaults)\n",
    "    @torch.no_grad()            \n",
    "    def step(self):\n",
    "        \"\"\"Performs a single optimization step.\n",
    "        Args:\n",
    "            batch_grads : list that contains the gradients computed for a subset \n",
    "            of the samples. should be a list of size nb_params and each item\n",
    "            should be of size (batch_size, shape of the parameter)\n",
    "            \n",
    "            selected_indices : list of indices, the ones we used to estimate the gradient with.\n",
    "            \n",
    "        \"\"\"\n",
    "        loss = None\n",
    "        for group in self.param_groups:\n",
    "            params_with_grad = []\n",
    "            lr = group['lr']\n",
    "            for param in group['params']:\n",
    "                if param.grad is not None:\n",
    "                    params_with_grad.append(param)\n",
    "                    state = self.state[param]\n",
    "            self.parameter_step(params_with_grad, lr)\n",
    "        return loss\n",
    "    def parameter_step(self,params_with_grad, lr): \n",
    "        for i, param in enumerate(params_with_grad): \n",
    "            param-= lr*(param.grad-param.old_grad + param.grad_mean)\n",
    "            \n",
    "    def update_mean_grad(self, grad_means):\n",
    "        for group in self.param_groups:\n",
    "            for i,param in enumerate(group['params']): \n",
    "                param.grad_mean = grad_means[i]"
   ]
  },
  {
   "cell_type": "code",
   "execution_count": 12,
   "metadata": {},
   "outputs": [],
   "source": [
    "class SAGA(Optimizer):\n",
    "    '''\n",
    "    This class aims at defining the SAGA optimizer in pytorch, deriving from \n",
    "    the torch.optim class. We hope that we will be able to call torch.optim.SAGA \n",
    "    and the attributes (such as .step, .zero_grad) as we do for torch.optim.SGD\n",
    "    '''\n",
    "    def __init__(self, params, init_grads, lr):\n",
    "        '''\n",
    "        initialization for the SAGA optimizer. \n",
    "        \n",
    "        args : \n",
    "            params : list with each parameters\n",
    "            lr : learning rate \n",
    "            init_grad : for each param in params, for each sample. should be a list of length \n",
    "            nb_param. for each element in the list, the size should be \n",
    "            (N_samples, shape of the parameter)\n",
    "            in the samples we have, we need a first gradient to store. \n",
    "            We will associate to each sample i the gradient of the corresponding function i  \n",
    "            evaluated in the starting point. \n",
    "        '''\n",
    "            \n",
    "        # set a warning message if all the sample size are differents. \n",
    "        self.sample_size = init_grads[0].shape[0]\n",
    "        defaults = dict(lr=lr, table = init_grads)#, momentum=momentum, dampening=dampening,\n",
    "                        #weight_decay=weight_decay, nesterov=nesterov)\n",
    "        super(SAGA, self).__init__(params, defaults)\n",
    "        for group in self.param_groups: \n",
    "            for i,param in enumerate(group['params']): \n",
    "                param.table = init_grads[i]\n",
    "                \n",
    "        \n",
    "    \n",
    "    def __setstate__(self, state):\n",
    "        super(SAGA, self).__setstate__(state)\n",
    "        for group in self.param_groups:\n",
    "            group.setdefault('nesterov', False)\n",
    "            \n",
    "    @torch.no_grad()\n",
    "    def step(self, batch_grads, selected_indices):\n",
    "        \"\"\"Performs a single optimization step.\n",
    "        Args:\n",
    "            batch_grads : list that contains the gradients computed for a subset \n",
    "            of the samples. should be a list of size nb_params and each item\n",
    "            should be of size (batch_size, shape of the parameter)\n",
    "            \n",
    "            selected_indices : list of indices, the ones we used to estimate the gradient with.\n",
    "            \n",
    "        \"\"\"\n",
    "        loss = None\n",
    "        \n",
    "        for group in self.param_groups:\n",
    "            params_with_grad = []\n",
    "            batch_tables = []\n",
    "            means_batch_table = []\n",
    "            lr = group['lr']\n",
    "            for param in group['params']:\n",
    "                if param.grad is not None:\n",
    "                    params_with_grad.append(param)\n",
    "                    batch_tables.append(param.table[selected_indices])\n",
    "                    means_batch_table.append(torch.mean(param.table[selected_indices], axis = 0))\n",
    "                    state = self.state[param]\n",
    "            self.parameter_step(params_with_grad, means_batch_table, lr)\n",
    "            saga_table_step(params_with_grad, batch_tables, selected_indices)\n",
    "\n",
    "        return loss\n",
    "    \n",
    "    def parameter_step(self,params_with_grad,means_batch_table,lr):\n",
    "        for i, param in enumerate(params_with_grad): \n",
    "            param-= lr*(param.grad-means_batch_table[i] + torch.mean(param.table, axis = 0))\n",
    "            \n",
    "            \n",
    "def saga_table_step(params_with_grads, batch_tables, selected_indices):\n",
    "    for i, param in enumerate(params_with_grads): \n",
    "        param.table[selected_indices] = batch_tables[i]\n",
    "    "
   ]
  },
  {
   "cell_type": "code",
   "execution_count": 13,
   "metadata": {},
   "outputs": [],
   "source": [
    "class SAG(SAGA): \n",
    "    '''\n",
    "    This class aims at defining the SAGA optimizer in pytorch, deriving from \n",
    "    the torch.optim class. We hope that we will be able to call torch.optim.SAGA \n",
    "    and the attributes (such as .step, .zero_grad) as we do for torch.optim.SGD\n",
    "    '''\n",
    "    def __init__(self, params, init_grads, lr):\n",
    "        '''\n",
    "        initialization for the SAGA optimizer. \n",
    "        \n",
    "        args : \n",
    "            params : list with each parameters\n",
    "            lr : learning rate \n",
    "            init_grad : for each param in params, for each sample. should be a list of length \n",
    "            nb_param. for each element in the list, the size should be \n",
    "            (N_samples, shape of the parameter)\n",
    "            in the samples we have, we need a first gradient to store. \n",
    "            We will associate to each sample i the gradient of the corresponding function i  \n",
    "            evaluated in the starting point. \n",
    "        '''\n",
    "        super(SAG,self).__init__(params,init_grads,lr)\n",
    "        \n",
    "    @torch.no_grad()\n",
    "    def step(self, batch_grads, selected_indices):\n",
    "        \"\"\"Performs a single optimization step.\n",
    "        Args:\n",
    "            batch_grads : list that contains the gradients computed for a subset \n",
    "            of the samples. should be a list of size nb_params and each item\n",
    "            should be of size (batch_size, shape of the parameter)\n",
    "            \n",
    "            selected_indices : list of indices, the ones we used to estimate the gradient with.\n",
    "            \n",
    "        \"\"\"\n",
    "        loss = None\n",
    "        \n",
    "        for group in self.param_groups:\n",
    "            params_with_grad = []\n",
    "            batch_tables = []\n",
    "            means_batch_table = []\n",
    "            lr = group['lr']\n",
    "            for param in group['params']:\n",
    "                if param.grad is not None:\n",
    "                    params_with_grad.append(param)\n",
    "                    batch_tables.append(param.table[selected_indices])\n",
    "                    means_batch_table.append(torch.mean(param.table[selected_indices], axis = 0))\n",
    "                    state = self.state[param]\n",
    "            sag_parameter_step(params_with_grad, means_batch_table, lr)\n",
    "            saga_table_step(params_with_grad, batch_tables, selected_indices)\n",
    "        return loss\n",
    "        \n",
    "        \n",
    "    def parameter_step(self,params_with_grad,means_batch_table,lr):\n",
    "        sample_size = params_with_grad[0].table.shape[0]\n",
    "        for i, param in enumerate(params_with_grad): \n",
    "            param-= lr*(1/sample_size*(param.grad-means_batch_table[i]) + torch.mean(param.table, axis = 0))\n",
    "\n"
   ]
  },
  {
   "cell_type": "code",
   "execution_count": null,
   "metadata": {},
   "outputs": [],
   "source": []
  },
  {
   "cell_type": "code",
   "execution_count": 116,
   "metadata": {
    "scrolled": true
   },
   "outputs": [
    {
     "name": "stdout",
     "output_type": "stream",
     "text": [
      "shape torch.Size([300, 4, 10])\n",
      "dims : [torch.Size([4, 10]), torch.Size([4, 10])]\n",
      "MSE :  tensor(0.0440, grad_fn=<MeanBackward0>)\n",
      "MSE :  tensor(0.0694, grad_fn=<MeanBackward0>)\n"
     ]
    },
    {
     "data": {
      "image/png": "[encoded data removed]",
      "text/plain": [
       "<Figure size 432x288 with 1 Axes>"
      ]
     },
     "metadata": {
      "needs_background": "light"
     },
     "output_type": "display_data"
    }
   ],
   "source": [
    "alpha = torch.zeros(d,p,requires_grad = True)\n",
    "beta = torch.zeros(d,p ,requires_grad = True)\n",
    "init_grad_alpha = batch_grad(alpha, X, Y_bis)\n",
    "init_grad_beta = batch_grad(beta, X, Y)\n",
    "init_grads = [init_grad_alpha, init_grad_beta]\n",
    "saga = SAGA([alpha,beta],init_grads, 0.01)\n",
    "MSE_alpha_list = []\n",
    "MSE_beta_list = []\n",
    "for i in range(5): \n",
    "    for x_b,y_b,y_b_bis, selected_indices in get_batch(X,Y, 10): \n",
    "        batch_grad_alpha = batch_grad(alpha, x_b,y_b_bis)\n",
    "        batch_grad_beta = batch_grad(beta, x_b, y_b)\n",
    "        alpha.grad = torch.mean(batch_grad_alpha, axis = 0)\n",
    "        beta.grad = torch.mean(batch_grad_beta, axis = 0)\n",
    "        saga.step([batch_grad_alpha,batch_grad_beta], selected_indices)\n",
    "        MSE_alpha_list.append(torch.mean((alpha-true_alpha)**2))\n",
    "        MSE_beta_list.append(torch.mean((beta-true_beta)**2))\n",
    "        \n",
    "plt.plot(np.arange(0, len(MSE_alpha_list)), MSE_alpha_list)\n",
    "plt.plot(np.arange(0, len(MSE_beta_list)), MSE_beta_list)\n",
    "plt.yscale('log')\n",
    "print('MSE : ', MSE_alpha_list[-1])\n",
    "print('MSE : ', MSE_beta_list[-1])\n",
    "#saga.step(1)"
   ]
  },
  {
   "cell_type": "code",
   "execution_count": 70,
   "metadata": {},
   "outputs": [],
   "source": [
    "y = torch.zeros((15,4), requires_grad = True)\n",
    "y_bis = torch.zeros((8,6), requires_grad = True)"
   ]
  },
  {
   "cell_type": "code",
   "execution_count": 71,
   "metadata": {},
   "outputs": [
    {
     "data": {
      "text/plain": [
       "tensor([[ 0.2914,  0.9492, -0.3462,  0.5065, -1.1999, -1.0172,  1.2064,  0.6506,\n",
       "         -1.5739,  0.8133],\n",
       "        [-0.4434,  1.1968,  0.2454, -0.5643,  0.9045, -0.3705,  1.6797,  1.3262,\n",
       "          1.4530, -1.0903],\n",
       "        [ 0.0062, -0.0218, -1.2418, -0.8894, -1.1913,  0.6112,  0.0321,  0.8183,\n",
       "         -1.2064,  0.4688],\n",
       "        [-0.4059, -0.3626,  0.5432,  1.2395, -0.5273,  0.8417,  0.5511, -1.4600,\n",
       "          0.3286,  0.3510]])"
      ]
     },
     "execution_count": 71,
     "metadata": {},
     "output_type": "execute_result"
    }
   ],
   "source": [
    "true_alpha"
   ]
  },
  {
   "cell_type": "code",
   "execution_count": 73,
   "metadata": {},
   "outputs": [
    {
     "name": "stdout",
     "output_type": "stream",
     "text": [
      "torch.Size([3, 15, 4])\n"
     ]
    }
   ],
   "source": [
    "first_init = torch.cat((2*(y-2).unsqueeze(0), 2*(y-1).unsqueeze(0), 2*(y-4).unsqueeze(0)),0)\n",
    "second_init = torch.cat((2*(y_bis-2).unsqueeze(0), 2*(y_bis-1).unsqueeze(0), 2*(y_bis-4).unsqueeze(0)),0)\n",
    "print(first_init.shape)\n",
    "init_grads = [first_init, second_init]"
   ]
  },
  {
   "cell_type": "code",
   "execution_count": null,
   "metadata": {},
   "outputs": [],
   "source": []
  }
 ],
 "metadata": {
  "kernelspec": {
   "display_name": "Python 3",
   "language": "python",
   "name": "python3"
  },
  "language_info": {
   "codemirror_mode": {
    "name": "ipython",
    "version": 3
   },
   "file_extension": ".py",
   "mimetype": "text/x-python",
   "name": "python",
   "nbconvert_exporter": "python",
   "pygments_lexer": "ipython3",
   "version": "3.8.5"
  }
 },
 "nbformat": 4,
 "nbformat_minor": 4
}
