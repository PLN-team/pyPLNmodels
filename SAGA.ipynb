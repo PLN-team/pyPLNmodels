{
 "cells": [
  {
   "cell_type": "code",
   "execution_count": 24,
   "metadata": {},
   "outputs": [],
   "source": [
    "import numpy as np \n",
    "import torch \n",
    "import math \n",
    "import matplotlib.pyplot as plt\n",
    "from torch.optim import Optimizer\n",
    "import time\n",
    "#from SVR_optimizers import SAGA,SAG,SVRG\n",
    "from tqdm import tqdm \n",
    "import seaborn as sns"
   ]
  },
  {
   "cell_type": "code",
   "execution_count": 2,
   "metadata": {},
   "outputs": [],
   "source": [
    "%load_ext autoreload\n",
    "\n",
    "%autoreload 2"
   ]
  },
  {
   "cell_type": "code",
   "execution_count": 8,
   "metadata": {},
   "outputs": [],
   "source": [
    "N_samples = 100\n",
    "p = 100\n",
    "d = 40"
   ]
  },
  {
   "cell_type": "code",
   "execution_count": 9,
   "metadata": {},
   "outputs": [],
   "source": [
    "X = torch.randn(N_samples, d)\n",
    "true_beta = torch.randn(d,p)\n",
    "true_alpha = torch.randn(d, p)\n",
    "Y = X@true_beta + torch.randn(N_samples, p) \n",
    "Y_bis = X@true_alpha + torch.randn(N_samples,p) "
   ]
  },
  {
   "cell_type": "code",
   "execution_count": 53,
   "metadata": {},
   "outputs": [],
   "source": [
    "def get_prior_batch(X,Y,batch_size,p): \n",
    "    '''\n",
    "    get the batches required to do a  minibatch gradient ascent.  \n",
    "\n",
    "    args : \n",
    "            'batch_size' int.  the batch size you want. \n",
    "\n",
    "    returns : a generator. Will generate n/batch_size samples of size batch_size (except the last one \n",
    "                since the rest of the division is not always 0)\n",
    "    '''\n",
    "    #np.random.seed(2)\n",
    "    n = Y.shape[0]\n",
    "    indices = np.arange(n)\n",
    "    indices = np.random.choice(indices, n, p = p,replace = True )\n",
    "    #np.random.shuffle(indices)\n",
    "    # get the number of batches and the size of the last one. \n",
    "    nb_full_batch, last_batch_size  = n//batch_size, n % batch_size  \n",
    "    for i in range(nb_full_batch): \n",
    "        yield   (X[indices[i*batch_size: (i+1)*batch_size]],\n",
    "                 Y[indices[i*batch_size: (i+1)*batch_size]],\n",
    "                 Y_bis[indices[i*batch_size: (i+1)*batch_size]],\n",
    "                 indices[i*batch_size: (i+1)*batch_size]\n",
    "                )\n",
    "    if last_batch_size != 0 :\n",
    "        yield   (X[indices[-last_batch_size:]], Y[indices[-last_batch_size:]],\n",
    "                  Y_bis[indices[-last_batch_size:]],indices[-last_batch_size:],\n",
    "                )\n",
    "        \n",
    "        \n",
    "def get_batch(X,Y,batch_size): \n",
    "    '''\n",
    "    get the batches required to do a  minibatch gradient ascent.  \n",
    "\n",
    "    args : \n",
    "            'batch_size' int.  the batch size you want. \n",
    "\n",
    "    returns : a generator. Will generate n/batch_size samples of size batch_size (except the last one \n",
    "                since the rest of the division is not always 0)\n",
    "    '''\n",
    "    #np.random.seed(2)\n",
    "    n = Y.shape[0]\n",
    "    indices = np.arange(n)\n",
    "    np.random.shuffle(indices)\n",
    "    # get the number of batches and the size of the last one. \n",
    "    nb_full_batch, last_batch_size  = n//batch_size, n % batch_size  \n",
    "    for i in range(nb_full_batch): \n",
    "        yield   (X[indices[i*batch_size: (i+1)*batch_size]],\n",
    "                 Y[indices[i*batch_size: (i+1)*batch_size]],\n",
    "                 Y_bis[indices[i*batch_size: (i+1)*batch_size]],\n",
    "                 indices[i*batch_size: (i+1)*batch_size]\n",
    "                )\n",
    "    if last_batch_size != 0 :\n",
    "        yield   (X[indices[-last_batch_size:]], Y[indices[-last_batch_size:]],\n",
    "                  Y_bis[indices[-last_batch_size:]],indices[-last_batch_size:],\n",
    "                )\n",
    "        \n"
   ]
  },
  {
   "cell_type": "code",
   "execution_count": 67,
   "metadata": {},
   "outputs": [
    {
     "name": "stdout",
     "output_type": "stream",
     "text": [
      "l  <seaborn.axisgrid.FacetGrid object at 0x7f9b7be09f40>\n"
     ]
    },
    {
     "data": {
      "image/png": "[encoded data removed]",
      "text/plain": [
       "<Figure size 360x360 with 1 Axes>"
      ]
     },
     "metadata": {
      "needs_background": "light"
     },
     "output_type": "display_data"
    }
   ],
   "source": [
    "l = np.array([])\n",
    "p = np.random.randn(N_samples)**2 + np.arange(N_samples)\n",
    "p/=np.sum(p)\n",
    "for x_b, y_b, y_b_bis, indices in get_prior_batch(X,Y, 8, p):\n",
    "    l = np.concatenate((l, np.array([indices]).squeeze()), axis = 0)\n"
   ]
  },
  {
   "cell_type": "code",
   "execution_count": 6,
   "metadata": {},
   "outputs": [],
   "source": [
    "def f(x,y_i): \n",
    "    return 1/2*torch.norm(x@beta-y_i)**2\n",
    "\n",
    "def F(beta): \n",
    "    return 1/2*torch.mean(torch.norm(Y-X@beta, dim = (1))**2)\n",
    "\n",
    "def F_bis(alpha): \n",
    "    return 1/2*torch.mean(torch.norm(Y_bis-X@alpha, dim = (1))**2)\n",
    "def grad_f(beta,y_i,x_i): \n",
    "    return -torch.outer(x_i, y_i-x_i@beta)\n",
    "def grad_f_bis(alpha,y_i,x_i): \n",
    "    return -torch.outer(x_i, y_i-x_i@beta)\n",
    "\n",
    "def grad_F(beta): \n",
    "    return -torch.mean(torch.matmul(X.unsqueeze(2), (Y-X@beta).unsqueeze(1)) , axis = 0)\n",
    "def grad_F_bis(alpha): \n",
    "    return -torch.mean(torch.matmul(X.unsqueeze(2), (Y_bis-X@alpha).unsqueeze(1)) , axis = 0)\n",
    "    \n",
    "def batch_grad(beta,x_batch, y_batch): \n",
    "    return -torch.matmul(x_batch.unsqueeze(2), (y_batch-x_batch@beta).unsqueeze(1))\n",
    "def batch_grad_bis(alpha,x_batch, y_batch): \n",
    "    return -torch.matmul(x_batch.unsqueeze(2), (y_batch-x_batch@alpha).unsqueeze(1))\n",
    "\n",
    "\n",
    "def fit(SAGA_bool, SVRG_bool, nb_step, choice_optim, lr, batch_size):\n",
    "    beta = torch.zeros((d,p),requires_grad = True) + true_beta\n",
    "    beta = torch.clone(true_beta) + torch.randn(d,p)\n",
    "    beta.requires_grad_(True)\n",
    "    alpha = torch.zeros((d,p), requires_grad = True) + true_alpha\n",
    "    alpha = torch.clone(true_alpha) + torch.randn(d,p)\n",
    "    alpha.requires_grad_(True)\n",
    "    if SAGA_bool == False : \n",
    "        optim = choice_optim([alpha,beta], lr = lr)\n",
    "    else : \n",
    "        optim = choice_optim([alpha,beta], lr, N_samples)\n",
    "    MSE_alpha_list = []\n",
    "    MSE_beta_list = []\n",
    "    running_times = []\n",
    "    t0 = time.time()\n",
    "    for i in tqdm(range(nb_step)):\n",
    "        if SVRG_bool:\n",
    "            optim.update_mean_grad([grad_F_bis(alpha).detach(),grad_F(beta).detach()])\n",
    "            alpha.old_param = torch.clone(alpha)\n",
    "            beta.old_param = torch.clone(beta)\n",
    "        for x_b,y_b,y_b_bis, selected_indices in get_batch(X,Y, batch_size): \n",
    "            batch_grad_alpha = batch_grad(alpha, x_b,y_b_bis)+torch.randn(batch_size, d,p)/1.5\n",
    "            alpha.grad = torch.mean(batch_grad_alpha, axis = 0)\n",
    "            \n",
    "            batch_grad_beta = batch_grad(beta, x_b, y_b) + torch.randn(batch_size,d,p)/1.5\n",
    "            beta.grad = torch.mean(batch_grad_beta, axis = 0)\n",
    "            \n",
    "            if SVRG_bool : \n",
    "                alpha.old_grad = torch.mean(batch_grad(alpha.old_param, x_b,y_b_bis), axis = 0)\n",
    "                beta.old_grad = torch.mean(batch_grad(beta.old_param, x_b, y_b), axis = 0)\n",
    "                \n",
    "            if SAGA_bool : \n",
    "                t = time.time()\n",
    "                optim.step([batch_grad_alpha,batch_grad_beta], selected_indices)\n",
    "                #print('time SAGA full update ', time.time()- t)\n",
    "            else : \n",
    "                t = time.time()\n",
    "                optim.step()\n",
    "                #print('time others', time.time()-t)\n",
    "            MSE_alpha_list.append(torch.mean((alpha-true_alpha)**2).item())\n",
    "            MSE_beta_list.append(torch.mean((beta-true_beta)**2).item())\n",
    "            running_times.append(time.time()-t0)\n",
    "            \n",
    "        \n",
    "    return MSE_alpha_list, MSE_beta_list, running_times"
   ]
  },
  {
   "cell_type": "code",
   "execution_count": 68,
   "metadata": {},
   "outputs": [
    {
     "name": "stderr",
     "output_type": "stream",
     "text": [
      "100%|██████████| 15/15 [00:11<00:00,  1.27it/s]\n"
     ]
    },
    {
     "data": {
      "image/png": "[encoded data removed]",
      "text/plain": [
       "<Figure size 432x288 with 1 Axes>"
      ]
     },
     "metadata": {
      "needs_background": "light"
     },
     "output_type": "display_data"
    },
    {
     "name": "stdout",
     "output_type": "stream",
     "text": [
      "MSE_alpha 0.00012775727940606886\n",
      "MSE_beta 0.00012584130381583237\n"
     ]
    }
   ],
   "source": [
    "MSE_alpha_SAG, MSE_beta_SAG, running_SAG = fit(True,False, 15, SAG, 0.008,100)\n",
    "show(MSE_alpha_SAG, MSE_beta_SAG, running_SAG)\n",
    "print('MSE_alpha', np.mean(MSE_alpha_SAG[-200:]))\n",
    "print('MSE_beta', np.mean(MSE_beta_SAG[-200:]))"
   ]
  },
  {
   "cell_type": "code",
   "execution_count": 69,
   "metadata": {},
   "outputs": [
    {
     "name": "stderr",
     "output_type": "stream",
     "text": [
      "100%|██████████| 2/2 [00:01<00:00,  1.29it/s]\n"
     ]
    },
    {
     "data": {
      "image/png": "[encoded data removed]",
      "text/plain": [
       "<Figure size 432x288 with 1 Axes>"
      ]
     },
     "metadata": {
      "needs_background": "light"
     },
     "output_type": "display_data"
    },
    {
     "name": "stdout",
     "output_type": "stream",
     "text": [
      "MSE_alpha 0.13533891117665917\n",
      "MSE_beta 0.138452089948114\n"
     ]
    }
   ],
   "source": [
    "MSE_alpha_SAGA, MSE_beta_SAGA, running_SAGA = fit(True,False,  2, SAGA, 0.008, 100)\n",
    "show(MSE_alpha_SAGA, MSE_beta_SAGA, running_SAGA)\n",
    "print('MSE_alpha', np.mean(MSE_alpha_SAGA[-200:]))\n",
    "print('MSE_beta', np.mean(MSE_beta_SAGA[-200:]))"
   ]
  },
  {
   "cell_type": "code",
   "execution_count": 70,
   "metadata": {},
   "outputs": [
    {
     "name": "stderr",
     "output_type": "stream",
     "text": [
      "100%|██████████| 20/20 [00:14<00:00,  1.36it/s]\n"
     ]
    },
    {
     "data": {
      "image/png": "[encoded data removed]",
      "text/plain": [
       "<Figure size 432x288 with 1 Axes>"
      ]
     },
     "metadata": {
      "needs_background": "light"
     },
     "output_type": "display_data"
    },
    {
     "name": "stdout",
     "output_type": "stream",
     "text": [
      "MSE_alpha 0.0005090455361641944\n",
      "MSE_beta 0.0005075992067577318\n"
     ]
    }
   ],
   "source": [
    "MSE_alpha_torch, MSE_beta_torch, running_torch = fit(False,False, 20, torch.optim.RMSprop, 0.008, 100)\n",
    "show(MSE_alpha_torch, MSE_beta_torch, running_torch)\n",
    "print('MSE_alpha', np.mean(MSE_alpha_torch[-200:]))\n",
    "print('MSE_beta', np.mean(MSE_beta_torch[-200:]))"
   ]
  },
  {
   "cell_type": "code",
   "execution_count": 71,
   "metadata": {},
   "outputs": [
    {
     "name": "stderr",
     "output_type": "stream",
     "text": [
      "100%|██████████| 30/30 [00:24<00:00,  1.21it/s]\n"
     ]
    },
    {
     "data": {
      "image/png": "[encoded data removed]",
      "text/plain": [
       "<Figure size 432x288 with 1 Axes>"
      ]
     },
     "metadata": {
      "needs_background": "light"
     },
     "output_type": "display_data"
    },
    {
     "name": "stdout",
     "output_type": "stream",
     "text": [
      "MSE_alpha 0.000115408957026375\n",
      "MSE_beta 0.00011265208180702757\n"
     ]
    }
   ],
   "source": [
    "MSE_alpha_SVRG, MSE_beta_SVRG, running_SVRG = fit(False,True,  30, SVRG, 0.004, 100)\n",
    "show(MSE_alpha_SVRG, MSE_beta_SVRG, running_SVRG)\n",
    "print('MSE_alpha', np.mean(MSE_alpha_SVRG[-200:]))\n",
    "print('MSE_beta', np.mean(MSE_beta_SVRG[-200:]))"
   ]
  },
  {
   "cell_type": "code",
   "execution_count": 35,
   "metadata": {},
   "outputs": [],
   "source": [
    "def show(MSE_alpha_list, MSE_beta_list, running_times): \n",
    "    plt.plot(running_times, MSE_alpha_list)\n",
    "    plt.plot(running_times, MSE_beta_list)\n",
    "    plt.yscale('log')\n",
    "    plt.show()"
   ]
  },
  {
   "cell_type": "code",
   "execution_count": null,
   "metadata": {},
   "outputs": [],
   "source": []
  },
  {
   "cell_type": "code",
   "execution_count": 116,
   "metadata": {
    "scrolled": true
   },
   "outputs": [
    {
     "name": "stdout",
     "output_type": "stream",
     "text": [
      "shape torch.Size([300, 4, 10])\n",
      "dims : [torch.Size([4, 10]), torch.Size([4, 10])]\n",
      "MSE :  tensor(0.0440, grad_fn=<MeanBackward0>)\n",
      "MSE :  tensor(0.0694, grad_fn=<MeanBackward0>)\n"
     ]
    },
    {
     "data": {
      "image/png": "[encoded data removed]",
      "text/plain": [
       "<Figure size 432x288 with 1 Axes>"
      ]
     },
     "metadata": {
      "needs_background": "light"
     },
     "output_type": "display_data"
    }
   ],
   "source": [
    "alpha = torch.zeros(d,p,requires_grad = True)\n",
    "beta = torch.zeros(d,p ,requires_grad = True)\n",
    "init_grad_alpha = batch_grad(alpha, X, Y_bis)\n",
    "init_grad_beta = batch_grad(beta, X, Y)\n",
    "init_grads = [init_grad_alpha, init_grad_beta]\n",
    "saga = SAGA([alpha,beta],init_grads, 0.01)\n",
    "MSE_alpha_list = []\n",
    "MSE_beta_list = []\n",
    "for i in range(5): \n",
    "    for x_b,y_b,y_b_bis, selected_indices in get_batch(X,Y, 10): \n",
    "        batch_grad_alpha = batch_grad(alpha, x_b,y_b_bis)\n",
    "        batch_grad_beta = batch_grad(beta, x_b, y_b)\n",
    "        alpha.grad = torch.mean(batch_grad_alpha, axis = 0)\n",
    "        beta.grad = torch.mean(batch_grad_beta, axis = 0)\n",
    "        saga.step([batch_grad_alpha,batch_grad_beta], selected_indices)\n",
    "        MSE_alpha_list.append(torch.mean((alpha-true_alpha)**2))\n",
    "        MSE_beta_list.append(torch.mean((beta-true_beta)**2))\n",
    "        \n",
    "plt.plot(np.arange(0, len(MSE_alpha_list)), MSE_alpha_list)\n",
    "plt.plot(np.arange(0, len(MSE_beta_list)), MSE_beta_list)\n",
    "plt.yscale('log')\n",
    "print('MSE : ', MSE_alpha_list[-1])\n",
    "print('MSE : ', MSE_beta_list[-1])\n",
    "#saga.step(1)"
   ]
  },
  {
   "cell_type": "code",
   "execution_count": 70,
   "metadata": {},
   "outputs": [],
   "source": [
    "y = torch.zeros((15,4), requires_grad = True)\n",
    "y_bis = torch.zeros((8,6), requires_grad = True)"
   ]
  },
  {
   "cell_type": "code",
   "execution_count": 71,
   "metadata": {},
   "outputs": [
    {
     "data": {
      "text/plain": [
       "tensor([[ 0.2914,  0.9492, -0.3462,  0.5065, -1.1999, -1.0172,  1.2064,  0.6506,\n",
       "         -1.5739,  0.8133],\n",
       "        [-0.4434,  1.1968,  0.2454, -0.5643,  0.9045, -0.3705,  1.6797,  1.3262,\n",
       "          1.4530, -1.0903],\n",
       "        [ 0.0062, -0.0218, -1.2418, -0.8894, -1.1913,  0.6112,  0.0321,  0.8183,\n",
       "         -1.2064,  0.4688],\n",
       "        [-0.4059, -0.3626,  0.5432,  1.2395, -0.5273,  0.8417,  0.5511, -1.4600,\n",
       "          0.3286,  0.3510]])"
      ]
     },
     "execution_count": 71,
     "metadata": {},
     "output_type": "execute_result"
    }
   ],
   "source": [
    "true_alpha"
   ]
  },
  {
   "cell_type": "code",
   "execution_count": 73,
   "metadata": {},
   "outputs": [
    {
     "name": "stdout",
     "output_type": "stream",
     "text": [
      "torch.Size([3, 15, 4])\n"
     ]
    }
   ],
   "source": [
    "first_init = torch.cat((2*(y-2).unsqueeze(0), 2*(y-1).unsqueeze(0), 2*(y-4).unsqueeze(0)),0)\n",
    "second_init = torch.cat((2*(y_bis-2).unsqueeze(0), 2*(y_bis-1).unsqueeze(0), 2*(y_bis-4).unsqueeze(0)),0)\n",
    "print(first_init.shape)\n",
    "init_grads = [first_init, second_init]"
   ]
  },
  {
   "cell_type": "code",
   "execution_count": null,
   "metadata": {},
   "outputs": [],
   "source": []
  }
 ],
 "metadata": {
  "kernelspec": {
   "display_name": "Python 3",
   "language": "python",
   "name": "python3"
  },
  "language_info": {
   "codemirror_mode": {
    "name": "ipython",
    "version": 3
   },
   "file_extension": ".py",
   "mimetype": "text/x-python",
   "name": "python",
   "nbconvert_exporter": "python",
   "pygments_lexer": "ipython3",
   "version": "3.8.5"
  }
 },
 "nbformat": 4,
 "nbformat_minor": 4
}
