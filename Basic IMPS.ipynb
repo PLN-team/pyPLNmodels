{
 "cells": [
  {
   "cell_type": "code",
   "execution_count": 1,
   "metadata": {},
   "outputs": [],
   "source": [
    "import torch\n",
    "import numpy as np\n",
    "import matplotlib.pyplot as plt \n",
    "import scipy.linalg as SLA\n",
    "import torch.linalg as TLA\n",
    "import math\n",
    "import warnings\n",
    "import seaborn as sns\n",
    "from scipy.linalg import toeplitz\n",
    "from utils import sample_PLN, log_stirling\n",
    "warnings.filterwarnings(\"ignore\")\n",
    "torch.set_default_dtype(torch.float64)\n",
    "import scipy\n",
    "import time\n",
    "from tqdm import tqdm\n",
    "from sklearn.linear_model import LinearRegression\n",
    "#from sqrtm import sqrtm\n",
    "import threading\n",
    "from utils import C_from_Sigma,build_block_Sigma, log_stirling"
   ]
  },
  {
   "cell_type": "code",
   "execution_count": 2,
   "metadata": {},
   "outputs": [],
   "source": [
    "%load_ext autoreload\n",
    "\n",
    "%autoreload 2"
   ]
  },
  {
   "cell_type": "code",
   "execution_count": 3,
   "metadata": {},
   "outputs": [],
   "source": [
    "device = torch.device('cpu')"
   ]
  },
  {
   "cell_type": "code",
   "execution_count": 4,
   "metadata": {},
   "outputs": [],
   "source": [
    "def compare_models(dict_models,name_doss , save = False):\n",
    "    '''\n",
    "    function to compare models. It will plot the MSE of Sigma and beta according to the true parameters and \n",
    "    the log_likelihood in the y axis with the runtime in the x-axis.\n",
    "    \n",
    "    args : \n",
    "        'dict_models' dict with key the name of the model and values the model (MC_PLNPCA object where you\n",
    "                      have called model.fit_IMPS()).\n",
    "        'name_doss' : str. the name of the file you want to save the graphic. \n",
    "        'save' : bool. If True, the figure will be saved. If false, won't be saved. \n",
    "        \n",
    "    returns : \n",
    "            None but displays the figure. you can save the figure if save = True\n",
    "    '''\n",
    "    #best_model = MC_PLNPCA(q, batch_size, true_value = True)\n",
    "    #best_model.init_data(Y_sampled, O, covariates)\n",
    "    \n",
    "    \n",
    "    #get the max of all the likelihoods for a nice plot. We intialize the max with the likelihood of the \n",
    "    # model that has the true parameters (unknown in practice) \n",
    "    #best_log_like = best_model.compute_mean_log_likelihood(0.0001)\n",
    "    #max_ = best_log_like\n",
    "    max_ = 0 \n",
    "    for name,model in dict_models.items():\n",
    "        current_max = np.max(np.array(model.log_likelihood_list))\n",
    "        max_ = max(max_,current_max)\n",
    "    fig,ax = plt.subplots(3,1,figsize = (15,15))\n",
    "    best_model = Basic_IMPS(q, average = 100, true_value = True)\n",
    "    best_model.init_data(Y, O, covariates)\n",
    "    best_model.Y_b,best_model.O_b, best_model.covariates_b, best_model.batch_size = Y, O, covariates, n\n",
    "    best_log_like = best_model.infer_batch_p_theta(1000, 0.1, 1000)\n",
    "    \n",
    "    \n",
    "    \n",
    "    ax[0].axhline(best_MSE_Sigma, label = 'MLE latent layer ')\n",
    "    ax[1].axhline(best_MSE_beta, label = 'MLE latent layer')\n",
    "    for name,model in dict_models.items() : \n",
    "        \n",
    "\n",
    "        abscisse = model.running_times\n",
    "        plt.subplots_adjust(hspace = 0.4)\n",
    "        ax[0].plot(abscisse, model.MSE_Sigma_list, label = name)\n",
    "        ax[0].legend()\n",
    "        ax[0].set_title('MSE Sigma')\n",
    "        \n",
    "        ax[0].set_ylabel('MSE')\n",
    "        ax[0].set_yscale('log')\n",
    "        \n",
    "        ax[1].plot(abscisse, model.MSE_beta_list, label = name)\n",
    "        ax[1].legend()\n",
    "        ax[1].set_title('MSE beta') \n",
    "        \n",
    "\n",
    "        ax[1].set_ylabel('MSE')\n",
    "        ax[1].set_yscale('log')\n",
    "        \n",
    "        ax[2].plot(abscisse, np.array(model.log_likelihood_list)-max_, label = name )\n",
    "        ax[2].legend()\n",
    "        ax[2].set_title('log_likelihood')\n",
    "        ax[2].set_ylabel('log_likelihood')\n",
    "        ax[2].set_yscale('symlog')\n",
    "    \n",
    "    ax[2].axhline(best_log_like-max_, c = 'red', label = 'best likelihood')\n",
    "    plt.suptitle(name_doss)\n",
    "    if save : \n",
    "        plt.savefig(name_doss)\n",
    "    plt.show()"
   ]
  },
  {
   "cell_type": "code",
   "execution_count": 5,
   "metadata": {},
   "outputs": [
    {
     "ename": "NameError",
     "evalue": "name 'q' is not defined",
     "output_type": "error",
     "traceback": [
      "\u001b[0;31m---------------------------------------------------------------------------\u001b[0m",
      "\u001b[0;31mNameError\u001b[0m                                 Traceback (most recent call last)",
      "\u001b[0;32m<ipython-input-5-7c96c63f2d86>\u001b[0m in \u001b[0;36m<module>\u001b[0;34m\u001b[0m\n\u001b[1;32m     54\u001b[0m \u001b[0;34m\u001b[0m\u001b[0m\n\u001b[1;32m     55\u001b[0m \u001b[0mlrs\u001b[0m \u001b[0;34m=\u001b[0m\u001b[0;34m[\u001b[0m\u001b[0;36m0.0001\u001b[0m\u001b[0;34m,\u001b[0m \u001b[0;36m0.001\u001b[0m\u001b[0;34m,\u001b[0m \u001b[0;36m0.002\u001b[0m\u001b[0;34m,\u001b[0m\u001b[0;36m0.003\u001b[0m\u001b[0;34m,\u001b[0m \u001b[0;36m0.0002\u001b[0m\u001b[0;34m,\u001b[0m \u001b[0;36m0.0005\u001b[0m\u001b[0;34m,\u001b[0m \u001b[0;36m0.0008\u001b[0m\u001b[0;34m]\u001b[0m\u001b[0;34m\u001b[0m\u001b[0;34m\u001b[0m\u001b[0m\n\u001b[0;32m---> 56\u001b[0;31m \u001b[0mbest_lr\u001b[0m\u001b[0;34m,\u001b[0m \u001b[0mmodels\u001b[0m\u001b[0;34m,\u001b[0m \u001b[0mbest_model\u001b[0m \u001b[0;34m=\u001b[0m \u001b[0mfind_best_lr\u001b[0m\u001b[0;34m(\u001b[0m\u001b[0mtorch\u001b[0m\u001b[0;34m.\u001b[0m\u001b[0moptim\u001b[0m\u001b[0;34m.\u001b[0m\u001b[0mRprop\u001b[0m\u001b[0;34m,\u001b[0m\u001b[0;36m60\u001b[0m\u001b[0;34m,\u001b[0m \u001b[0macc\u001b[0m \u001b[0;34m=\u001b[0m \u001b[0;36m0.1\u001b[0m\u001b[0;34m,\u001b[0m \u001b[0mlrs\u001b[0m \u001b[0;34m=\u001b[0m \u001b[0mlrs\u001b[0m\u001b[0;34m,\u001b[0m \u001b[0mq\u001b[0m \u001b[0;34m=\u001b[0m \u001b[0mq\u001b[0m\u001b[0;34m,\u001b[0m \u001b[0mbatch_size\u001b[0m \u001b[0;34m=\u001b[0m \u001b[0;36m10\u001b[0m\u001b[0;34m,\u001b[0m\u001b[0maverage\u001b[0m \u001b[0;34m=\u001b[0m \u001b[0;36m300\u001b[0m\u001b[0;34m)\u001b[0m\u001b[0;34m\u001b[0m\u001b[0;34m\u001b[0m\u001b[0m\n\u001b[0m",
      "\u001b[0;31mNameError\u001b[0m: name 'q' is not defined"
     ]
    }
   ],
   "source": [
    "def find_best_lr(optimizer,N_iter, acc, lrs, q, batch_size,average = 300):\n",
    "    '''\n",
    "    function that is supposed to find the best lr within a grid of lr (lrs) for \n",
    "    an optimizer to fit the MC_PLNPCA method. the metric used\n",
    "    to discriminate each lr is the log likelihood. We parallelized the code to go faster. \n",
    "    \n",
    "    args: otpimizer : should be an object of torch.optim., for example torch.optim.Rprop. \n",
    "    \n",
    "        N_iter : int. The number of iterations you want to do when running the .fit_IMPS method.\n",
    "    \n",
    "        acc : float positive. the accuracy you want when running the .fit_IMPS method. \n",
    "        \n",
    "        lrs : list. the grid of lr.\n",
    "        \n",
    "        q : the dimension q you want for the model. should be small.  \n",
    "        \n",
    "        batch_size : int. The batch_size you want  when running the .fit_IMPS method.\n",
    "        \n",
    "        average : int. the average argument for the model. \n",
    "        \n",
    "        \n",
    "        \n",
    "    returns : the best lr according to the metric\n",
    "    '''\n",
    "    #initiate some lists.\n",
    "    metrics = list()\n",
    "    models = list()\n",
    "    ts = list()\n",
    "    # launch the models with the right lr. \n",
    "    #model = Basic_IMPS(q, average = average, true_value = False)\n",
    "        \n",
    "    #model.fit(Y,O,covariates,N_iter,0.001,0.01,        400, 0.1,          batch_size , optimizer)\n",
    "    for lr in lrs: \n",
    "        model = Basic_IMPS(q, average = average, true_value = False)\n",
    "        \n",
    "        t = threading.Thread(target =model.fit,\n",
    "                            args = [Y,O,covariates,N_iter,acc,lr,        300, 0.1,            batch_size, optimizer])\n",
    "                                                          # acc    #N_iter_mode  lr_mode        # batch_size #class optimizer\n",
    "        t.start()\n",
    "        ts.append(t)\n",
    "        models.append(model)\n",
    "        \n",
    "    # join each threading. \n",
    "    for t in ts: \n",
    "        t.join()\n",
    "    # get the metrics for each model. \n",
    "    for i, model in enumerate(models) :\n",
    "        metrics.append(np.mean(np.array(model.log_likelihood_list)))\n",
    "    metrics = np.nan_to_num(np.array(metrics),-100000)\n",
    "    argmax = np.argmax(metrics)#argmax of the metrics \n",
    "    best_lr = lrs[argmax]\n",
    "    return best_lr, dict(zip(lrs,models)), models[argmax]  #the best lr, the dict in case \n",
    "                                                           # we need it to comopare, and the best model. \n",
    "    \n",
    "lrs =[0.0001, 0.001, 0.002,0.003, 0.0002, 0.0005, 0.0008] \n",
    "best_lr, models, best_model = find_best_lr(torch.optim.Rprop,60, acc = 0.1, lrs = lrs, q = q, batch_size = 10,average = 300)"
   ]
  },
  {
   "cell_type": "code",
   "execution_count": 6,
   "metadata": {},
   "outputs": [],
   "source": [
    "dict_optimizers = {'Adamax' : torch.optim.Adamax,\n",
    "                   'Adadelta': torch.optim.Adadelta, \n",
    "                   'Adam': torch.optim.Adam, \n",
    "                   'Adagrad' : torch.optim.Adagrad,\n",
    "                  'Rprop' : torch.optim.Rprop, \n",
    "                   'RMSprop' : torch.optim.RMSprop,\n",
    "                  'SGD' : torch.optim.SGD}"
   ]
  },
  {
   "cell_type": "code",
   "execution_count": 7,
   "metadata": {},
   "outputs": [],
   "source": [
    "#compare_models(models, '')"
   ]
  },
  {
   "cell_type": "code",
   "execution_count": 8,
   "metadata": {},
   "outputs": [],
   "source": [
    "def launch_optimizers(dict_optimizers,N_iter,best_lrs, acc, q,batch_size,average = 300):\n",
    "    '''\n",
    "    launch some optimizers to fit the .fit_IMPS method of the MC_PLNPCA object to compare them after. \n",
    "    args : \n",
    "         dict_optimizer : dictionnarie. dict that contains the optimizer. example: {'Rprop': torch.optim.Rprop}\n",
    "         \n",
    "         N_iter : int. the number of iteration you want the models to do for each optimizer. \n",
    "         \n",
    "         best_lrs : list of float. the (best)learning rate of each optimizer.\n",
    "    \n",
    "         acc : positive float. the accuracy you want when running the .fit_IMPS method. \n",
    "         \n",
    "         q : int. the dimension you want for the MC_PLNPCA object. \n",
    "         \n",
    "         batch_size : int. the batch_size you want. \n",
    "         \n",
    "    return : a dict of model. The key are the name of the optimizer, the values are the models trained with \n",
    "            the corresponding optimizer. \n",
    "    '''\n",
    "    print('best_lrs ', best_lrs)\n",
    "    ts = list()  \n",
    "    models = list()\n",
    "    # lauch all the model with the right optimizer in a parallelized fashion. \n",
    "    \n",
    "    with concurrent.futures.ThreadPoolExecutor() as executor:\n",
    "        params = []\n",
    "        for i,(name,optimizer)  in enumerate(dict_optimizers.items()): \n",
    "            \n",
    "            params.append([Y,O,covariates,N_iter,acc,lr,        300, 0.1,            batch_size, optimizer])\n",
    "        #did not have the choice to do this since I need to get the returned value back. \n",
    "        futures = [executor.submit(Basic_IMPS(q, average = average, true_value = False).fit, param[0],param[1],param[2],param[3],param[4],param[5],param[6]) for param in params]\n",
    "        models =  [f.result() for f in futures]\n",
    "    # return the dict with the corresponding values and keys. \n",
    "    return dict(zip(dict_optimizers.keys(), models))\n",
    "# all_models = launch_optimizers()"
   ]
  },
  {
   "cell_type": "code",
   "execution_count": 9,
   "metadata": {},
   "outputs": [],
   "source": [
    "def sample_gaussians(N_samples, mean,sqrt_Sigma):\n",
    "    '''\n",
    "    samples some gaussians with the right mean and variance. Be careful, we ask \n",
    "    for the square root of Sigma, not Sigma. will detect automatically if we are using batches or not.  \n",
    "    '''\n",
    "    q = mean.shape[0]\n",
    "    if len(mean.shape)> 1 : \n",
    "        q = mean.shape[1]\n",
    "        W_orig = torch.randn(N_samples, 1,q,1)\n",
    "    elif len(mean.shape) == 1 : \n",
    "        W_orig = torch.randn(N_samples, q, 1)\n",
    "    W = torch.matmul(sqrt_Sigma.unsqueeze(0), W_orig).squeeze() + mean.unsqueeze(0)\n",
    "    return W\n",
    "\n",
    "def log_gaussian_density(W, mu_p,Sigma_p): \n",
    "    '''\n",
    "    computes the log density of a gaussian\n",
    "    '''\n",
    "    dim = W.shape[-1]\n",
    "    const = torch.sqrt((2*math.pi)**dim*torch.det(Sigma_p))\n",
    "    Wmoinsmu = W-mu_p.unsqueeze(0)\n",
    "    inv_Sig = torch.inverse(Sigma_p)\n",
    "    if len(mu_p.shape)>1 : \n",
    "        log_d = -1/2*torch.matmul(torch.matmul(inv_Sig.unsqueeze(0), Wmoinsmu.unsqueeze(3)).squeeze().unsqueeze(2), Wmoinsmu.unsqueeze(3))\n",
    "    elif len(mu_p.shape)== 1 :  \n",
    "        log_d = -1/2*torch.matmul(Wmoinsmu.unsqueeze(1),torch.matmul(inv_Sig.unsqueeze(0), Wmoinsmu.unsqueeze(2))).squeeze()\n",
    "    return log_d.squeeze() - torch.log(const)\n",
    "\n"
   ]
  },
  {
   "cell_type": "code",
   "execution_count": 10,
   "metadata": {},
   "outputs": [],
   "source": [
    "def sample_students(N_samples,mu,Sigma,nu):\n",
    "    '''\n",
    "    sample some variables from a student law with mean mu, variance sigma and nu degrees of freedom.\n",
    "    '''\n",
    "    sqrt_Sigma = torch.from_numpy(SLA.sqrtm(Sigma))\n",
    "    normale = torch.randn(N_samples,1,q)\n",
    "    num = torch.matmul(normale, sqrt_Sigma.unsqueeze(0)).squeeze()\n",
    "    denom = torch.sum(torch.randn(nu,N_samples)**2,axis = 0)\n",
    "    prod = torch.multiply(num, torch.sqrt(nu/denom).unsqueeze(1))\n",
    "    return mu + prod\n",
    "\n",
    "\n",
    "def student_density(W,mu,Sigma,nu):\n",
    "    '''\n",
    "    density of a student law. The student law has heavier tails than the gaussian, so we will\n",
    "    avoid infinite variance. This function takes W of size either (N_s, q) or q. Returns the density \n",
    "    along the last axis. \n",
    "    '''\n",
    "    q = W.shape[-1]\n",
    "    const = math.gamma((nu+q)/2)\n",
    "    const/= math.gamma(nu/2)\n",
    "    const/= (nu*math.pi)**(q/2)\n",
    "    const/= torch.sqrt(torch.det(Sigma))\n",
    "    Wmoinsmu = W-mu\n",
    "    if len(W.shape)>1:\n",
    "        W_term = torch.matmul(torch.matmul(torch.inverse(Sigma).unsqueeze(0), Wmoinsmu.unsqueeze(2)).squeeze().unsqueeze(1),Wmoinsmu.unsqueeze(2))\n",
    "    else : \n",
    "        W_term = Wmoinsmu@torch.inverse(Sigma)@Wmoinsmu\n",
    "    return const*(1+W_term/nu)**(-(nu+q)/2)\n",
    "\n",
    "def log_student_density(W,mu,Sigma,nu):\n",
    "    return torch.log(student_density(W,mu,Sigma,nu))"
   ]
  },
  {
   "cell_type": "code",
   "execution_count": 11,
   "metadata": {},
   "outputs": [],
   "source": [
    "def log_P_WgivenY(Y_i,covariates_i, O_i, W,C,beta):\n",
    "    '''\n",
    "    computes the log of the density of (W,Y_i) given Y_i. \n",
    "    args : \n",
    "        Y_i : tensor of size p \n",
    "        covariates_i : tensor of size d \n",
    "        O_i : tensor of size p \n",
    "        W : torch of size q. or (N_samples, q) should be a gaussian or a student. \n",
    "            if the dimension is (N_samples, q), we will return a vector of dimension N_samples\n",
    "            in which each coordinate i will be the log posterior of W[i,:]. \n",
    "        Explanation of why we want two cases : we either want to compute the \n",
    "        log posterior of a lot of W, that is (N_samples,q), or we want to get the mode, \n",
    "        so that we only need one vector of size q. \n",
    "\n",
    "    return : the log of the probability of (W,Y_i) given Y_i. For the formula see MC_PLNPCA.ipynb\n",
    "    '''\n",
    "    length = len(W.shape)\n",
    "    if length == 1 : \n",
    "        CW = W.reshape(1,-1)@(C.T)\n",
    "    elif length == 2 : \n",
    "        CW = torch.matmul(C.unsqueeze(0),W.unsqueeze(2)).squeeze()\n",
    "    A_i = O_i +   CW +covariates_i@beta\n",
    "    return -q/2*math.log(2*math.pi)-1/2*torch.norm(W, dim = -1)**2 + torch.sum(-torch.exp(A_i)   + A_i*Y_i - log_stirling(Y_i) , axis = -1).squeeze()     \n",
    "\n",
    "def batch_log_P_WgivenY(Y_b, covariates_b, O_b, W, C, beta): \n",
    "    '''\n",
    "    does the same as log_P_W_givenY but add one more dimension for computing this for a batch instead of \n",
    "    only one element. \n",
    "    '''\n",
    "    length = len(W.shape)\n",
    "    if length == 2 : \n",
    "        CW = torch.matmul(C.unsqueeze(0),W.unsqueeze(2)).squeeze()\n",
    "    elif length == 3 : \n",
    "        CW = torch.matmul(C.unsqueeze(0).unsqueeze(1), W.unsqueeze(3)).squeeze()\n",
    "    A_b = O_b + CW + covariates_b@beta\n",
    "    \n",
    "    return -q/2*math.log(2*math.pi)-1/2*torch.norm(W, dim = -1)**2 + torch.sum(-torch.exp(A_b)   + A_b*Y_b - log_stirling(Y_b) , axis = -1)\n"
   ]
  },
  {
   "cell_type": "code",
   "execution_count": 157,
   "metadata": {},
   "outputs": [],
   "source": [
    "class Basic_IMPS():\n",
    "    def __init__(self, q,average = 50, true_value = False, sampler = 'gaussian'):\n",
    "        self.sampler = sampler\n",
    "        self.q = q\n",
    "        self.average = average \n",
    "        self.true_value = true_value\n",
    "        self.MSE_beta_list = list()\n",
    "        self.MSE_Sigma_list = list()\n",
    "        self.running_times = list()\n",
    "        self.log_likelihood_list = list()\n",
    "        self.last_likelihoods = list()\n",
    "        self.log_likelihoods = list()\n",
    "        self.norm_grad_log_beta_list = list()\n",
    "        self.norm_grad_log_C_list = list()\n",
    "        self.cmpt = 0 \n",
    "        self.var_weights = np.array([])\n",
    "    def init_data(self, Y,O,covariates): \n",
    "        '''\n",
    "        Initialise some usefuls variables given the data. \n",
    "        We also initialise C and beta. \n",
    "        '''\n",
    "        torch.manual_seed(0)\n",
    "        self.Y = Y.float()\n",
    "        self.covariates = covariates \n",
    "        self.O = O \n",
    "        self.n = Y.shape[0] \n",
    "        self.p = Y.shape[1]\n",
    "        self.d = self.covariates.shape[1]\n",
    "        noise = torch.randn(self.p) \n",
    "        self.Sigma =  (torch.diag(noise**2)+ 1e-1)\n",
    "        self.last_betas = torch.zeros(self.average,self.d,self.p) # init of the average of the last betas\n",
    "        self.last_Cs = torch.zeros(self.average, self.p, self.q) #init of the average of the last Sigmas\n",
    "        # init C with an array of size (p,q)\n",
    "        self.C = torch.clone(torch.from_numpy(C_from_Sigma(self.Sigma,self.q)))\n",
    "        # init beta \n",
    "        self.beta = torch.randn(self.d,self.p)\n",
    "        # if we want to take the true value of C and beta \n",
    "        if self.true_value : \n",
    "            #self.C = torch.clone(true_C)\n",
    "            self.beta = torch.clone(true_beta)\n",
    "        #setting some gradients for optimization. \n",
    "        self.C.requires_grad_(True)\n",
    "        self.beta.requires_grad_(True)\n",
    "        self.C_mean = torch.clone(self.C)\n",
    "        self.beta_mean = torch.clone(self.beta)\n",
    "        \n",
    "    def get_batch(self,batch_size, save_batch_size = True): \n",
    "        '''\n",
    "        get the batches required to do a  minibatch gradient ascent.  \n",
    "        \n",
    "        args : \n",
    "                'batch_size' int.  the batch size you want. \n",
    "                \n",
    "        returns : a generator. Will generate n/batch_size samples of size batch_size (except the last one \n",
    "                    since the rest of the division is not always 0)\n",
    "        '''\n",
    "        #np.random.seed(2)\n",
    "        indices = np.arange(self.n)\n",
    "        np.random.shuffle(indices)\n",
    "        #if we want to set the batch size of the model to the given batch_size \n",
    "        if save_batch_size : \n",
    "            self.batch_size = batch_size\n",
    "        # get the number of batches and the size of the last one. \n",
    "        nb_full_batch, last_batch_size  = self.n//batch_size, self.n % batch_size  \n",
    "        for i in range(nb_full_batch): \n",
    "            yield   (self.Y[indices[i*batch_size: (i+1)*batch_size]], \n",
    "                    self.covariates[indices[i*batch_size: (i+1)*batch_size]],\n",
    "                    self.O[indices[i*batch_size: (i+1)*batch_size]], \n",
    "                    ) \n",
    "        if last_batch_size != 0 : \n",
    "            if save_batch_size : \n",
    "                self.batch_size = last_batch_size\n",
    "            yield   (self.Y[indices[-last_batch_size:]], \n",
    "                    self.covariates[indices[-last_batch_size:]],\n",
    "                    self.O[indices[-last_batch_size:]]\n",
    "                    )\n",
    "\n",
    "        \n",
    "\n",
    "    def keep_records(self,log_like): \n",
    "        '''\n",
    "        function that keep some records in order to plot the evolution after.\n",
    "        '''\n",
    "        average_log_like = self.average_params(log_like)\n",
    "        # keep the records of the norm of the gradients and the MSE wrt the true parameter\n",
    "        self.norm_grad_log_beta_list.append((torch.norm(self.beta.grad)/(self.d*self.p)).item())\n",
    "        self.norm_grad_log_C_list.append((torch.norm(self.C.grad)/(self.p*self.q)).item())\n",
    "        self.MSE_beta_list.append(torch.mean((self.beta_mean -true_beta)**2).item())\n",
    "        self.MSE_Sigma_list.append(torch.mean((self.C_mean@(self.C_mean.T) -true_Sigma_sampling)**2).item())\n",
    "        self.running_times.append(time.time()-self.t0)\n",
    "        #print('average log_like : ', average_log_like)\n",
    "        self.log_likelihood_list.append(average_log_like)\n",
    "        \n",
    "    \n",
    "    \n",
    "    def average_params(self,log_like): \n",
    "        '''\n",
    "        method that averages the parameters in order to smooth the variance. \n",
    "        We will take, for example, the last self.average betas computed to make \n",
    "        a better approximation of beta. We will do the same for C.\n",
    "        This function adds the last parameters computed to update the mean of the parameter. \n",
    "        If we have not enough betas or Sigmas (less than self.average), the mean will be on those parameters. \n",
    "        args : \n",
    "            log_like : the likelihood computed with the current parameters.\n",
    "        \n",
    "        returns : \n",
    "                None but update the mean of the last self.average parameters.  \n",
    "        '''\n",
    "        \n",
    "        self.cmpt +=1 # to keep track of the number of parameters we have for the mean\n",
    "        # remove the oldest parameters and add the more recent one.\n",
    "        self.last_betas[1:self.average] = torch.clone(self.last_betas[0: self.average-1].detach())\n",
    "        self.last_betas[0] = torch.clone(self.beta.detach())\n",
    "        self.last_Cs[1:self.average] = torch.clone(self.last_Cs[0: self.average-1].detach())\n",
    "        self.last_Cs[0] = torch.clone(self.C.detach())\n",
    "        self.last_likelihoods.append(log_like)\n",
    "        # update the mean of the parameter\n",
    "        \n",
    "        # if we have enough parameters \n",
    "        if self.cmpt > self.average : \n",
    "            del(self.last_likelihoods[0])\n",
    "            self.C_mean = torch.mean(self.last_Cs, axis = 0)\n",
    "            self.beta_mean = torch.mean(self.last_betas, axis = 0)\n",
    "            return np.mean(np.array(self.last_likelihoods))\n",
    "        \n",
    "        # if we don't have enough parameters. \n",
    "        else : \n",
    "            self.C_mean = torch.sum(self.last_Cs, axis = 0)/self.cmpt\n",
    "            self.beta_mean = torch.sum(self.last_betas, axis = 0)/self.cmpt\n",
    "            return np.mean(np.array(self.last_likelihoods))\n",
    "\n",
    "        \n",
    "    def scale_un_log_posterior(self): \n",
    "        # constante à tuner, en fonction de p logiquement, et peut etre data dependant\n",
    "        self.missed_log_constant = 1*self.un_log_posterior(self.mode)\n",
    "\n",
    "        def new_log_posterior(W): \n",
    "            return self.un_log_posterior(W) #- self.missed_log_constant\n",
    "        self.scaled_log_posterior = new_log_posterior\n",
    "    def scale_batch_un_log_posterior(self): \n",
    "        self.missed_batch_log_constant = 1*self.batch_un_log_posterior(self.batch_mode)\n",
    "        def new_batch_log_posterior(W):\n",
    "            return self.batch_un_log_posterior(W)# - self.missed_batch_log_constant\n",
    "\n",
    "        self.scaled_batch_log_posterior = new_batch_log_posterior\n",
    "\n",
    "    def get_weights(self,W):\n",
    "        '''\n",
    "        get the weights for the importance sampling. This function does not normalize the weights. \n",
    "        '''\n",
    "        self.log_f = self.scaled_log_posterior(W)\n",
    "        if self.sampler == 'gaussian':\n",
    "            self.log_g = log_gaussian_density(W, self.mode, self.Sigma)\n",
    "        elif self.sampler == 'student' : \n",
    "            self.log_g = log_student_density(W, self.mode, self.Sigma,  self.freedom)\n",
    "            \n",
    "        #print('log_f : old', self.log_f)\n",
    "        #print('log_g old', self.log_g)\n",
    "        log_fmoinslog_g = self.log_f -self.log_g\n",
    "        \n",
    "        return torch.exp(log_fmoinslog_g)\n",
    "\n",
    "\n",
    "    \n",
    "\n",
    "        \n",
    "                    \n",
    "    def find_mode(self, N_iter,lr): \n",
    "        def un_log_posterior(W): \n",
    "            return log_P_WgivenY(self.Y_i,self.covariates_i, self.O_i, W,self.C,self.beta)\n",
    "        self.un_log_posterior = un_log_posterior\n",
    "        W = torch.zeros(self.q)\n",
    "        W.requires_grad_(True)\n",
    "        optimizer = torch.optim.Rprop([W], lr = lr)\n",
    "        for i in range(N_iter): \n",
    "            loss = -self.un_log_posterior(W)\n",
    "            loss.backward()\n",
    "            optimizer.step()\n",
    "            optimizer.zero_grad()\n",
    "        self.mode = torch.clone(W)\n",
    "        #print('mode :', self.mode)\n",
    "        \n",
    "    def find_batch_mode(self, N_iter, lr): \n",
    "        def batch_un_log_posterior(W): \n",
    "            return batch_log_P_WgivenY(self.Y_b, self.covariates_b, self.O_b, W, self.C, self.beta) \n",
    "        self.batch_un_log_posterior = batch_un_log_posterior\n",
    "        W = torch.zeros(self.batch_size, self.q)\n",
    "        W.requires_grad_(True)\n",
    "        optimizer = torch.optim.Rprop([W], lr = lr)\n",
    "        for i in range(N_iter): \n",
    "            loss = -torch.mean(self.batch_un_log_posterior(W))\n",
    "            loss.backward()\n",
    "            optimizer.step()\n",
    "            optimizer.zero_grad()\n",
    "        self.batch_mode = torch.clone(W)\n",
    "        \n",
    "    def get_best_var(self):\n",
    "        '''\n",
    "        get the best var, i.e. the inverse of the hessian of the log of the integrand. \n",
    "        '''\n",
    "        batch_matrix = torch.matmul(self.C.unsqueeze(2), self.C.unsqueeze(1))\n",
    "        common = torch.exp(self.O_i + (self.mode.reshape(1,-1)@(self.C.T)).squeeze() +self.covariates_i@self.beta).unsqueeze(1).unsqueeze(2)\n",
    "        prod = batch_matrix*common\n",
    "        Hess_post = torch.sum(prod, axis = 0)+ torch.eye(self.q) \n",
    "        \n",
    "        self.Sigma = torch.inverse(Hess_post.detach())\n",
    "        self.sqrt_Sigma = TLA.cholesky(self.Sigma)\n",
    "        #print('root :', self.sqrt_Sigma)\n",
    "        #self.sqrt_Sigma = torch.from_numpy(SLA.sqrtm(self.Sigma))\n",
    "        \n",
    "\n",
    "        \n",
    "    def fit(self, Y, O, covariates,  N_epoch, acc,lr,N_iter_mode, lr_mode, batch_size = 10, class_optimizer = torch.optim.Rprop):\n",
    "        '''\n",
    "        fit the data. We infer p_theta with importance sampling and then use pytorch autodifferentiation\n",
    "        '''\n",
    "        self.t0 = time.time()\n",
    "        self.batch_size = batch_size\n",
    "        self.acc = acc\n",
    "        self.init_data(Y,O, covariates)# initialize the data. \n",
    "        self.optim = class_optimizer([self.beta,self.C], lr = lr) # optimizer on C and beta\n",
    "        self.optim.zero_grad() # We do this since it is possible that beta and C have gradients. \n",
    "        N_samples = int(1/acc) # We will sample 1/acc gaussians\n",
    "        for j in tqdm(range(N_epoch)): \n",
    "            for Y_b, covariates_b, O_b in self.get_batch(self.batch_size): \n",
    "                self.Y_b, self.covariates_b, self.O_b = Y_b, covariates_b, O_b\n",
    "                W_orig = torch.randn(N_samples, q) \n",
    "                loss =  -self.infer_batch_p_theta(N_iter_mode,lr_mode, N_samples)\n",
    "                loss.backward()\n",
    "                self.keep_records(-loss.item())\n",
    "                self.C.grad=self.C.grad/torch.norm(self.C.grad)\n",
    "                self.beta.grad= self.beta.grad/torch.norm(self.beta.grad)\n",
    "                self.optim.step()\n",
    "                self.optim.zero_grad()\n",
    "                \n",
    "        \n",
    "    def infer_ptheta(self,  N_iter_mode, lr_mode, N_s):\n",
    "        self.find_mode(N_iter_mode,lr_mode)\n",
    "        self.scale_un_log_posterior()\n",
    "        self.get_best_var()\n",
    "        if self.sampler == 'gaussian' : \n",
    "            samples = sample_gaussians(N_s, self.mode, self.sqrt_Sigma)\n",
    "        elif self.sampler == 'student' : \n",
    "            samples = sample_student(N_s,self.mode,self.Sigma,self.freedom)\n",
    "        weights = self.get_weights(samples)\n",
    "        return torch.log(torch.mean(weights))\n",
    "    \n",
    "    def infer_batch_p_theta(self, N_iter_mode, lr_mode, N_s): \n",
    "        self.find_batch_mode(N_iter_mode, lr_mode)\n",
    "        try : \n",
    "            self.optim.zero_grad()\n",
    "        except : \n",
    "            pass\n",
    "        self.scale_batch_un_log_posterior()\n",
    "        self.get_batch_best_var()\n",
    "        self.samples = sample_gaussians(N_s, self.batch_mode, self.sqrt_Sigma_b)\n",
    "        weights = self.get_batch_weights()\n",
    "        var =  torch.var(weights, axis = 0)\n",
    "        self.var_weights = np.concatenate((self.var_weights, var.detach().numpy()))\n",
    "        log = torch.log(torch.mean(weights,axis = 0))#*self.mask\n",
    "        nb_notinf = torch.sum(log.isfinite())\n",
    "        return torch.sum(torch.nan_to_num(log,neginf = 0))/nb_notinf#*torch.exp(self.missed_batch_log_constant*0)))\n",
    "    def get_batch_weights(self): \n",
    "        self.log_f = self.scaled_batch_log_posterior(self.samples)\n",
    "        self.mask = torch.tensor(torch.mean(torch.tensor(self.log_f >-730, dtype = torch.float64), axis = 0) >0, dtype = torch.int64)\n",
    "        self.log_f = torch.index_select(self.log_f, 1, torch.nonzero(self.mask).squeeze())\n",
    "        self.log_g = log_gaussian_density(self.samples, self.batch_mode, self.Sigma_b)\n",
    "        self.log_g = torch.index_select(self.log_g, 1, torch.nonzero(self.mask).squeeze())\n",
    "        diff_log = self.log_f-self.log_g \n",
    "        weights = torch.exp(diff_log)#*self.mask\n",
    "        if torch.nonzero(self.mask).squeeze().shape[0] <self.batch_size : \n",
    "            #pass\n",
    "            print('mask_index', torch.nonzero(self.mask).squeeze())\n",
    "            print('length :', torch.nonzero(self.mask).squeeze().shape)\n",
    "        return weights\n",
    "    def get_batch_best_var(self):\n",
    "        batch_matrix = torch.matmul(self.C.unsqueeze(2), self.C.unsqueeze(1)).unsqueeze(0)\n",
    "        CW = torch.matmul(self.C.unsqueeze(0),self.batch_mode.unsqueeze(2)).squeeze()\n",
    "        common = torch.exp(self.O_b  + self.covariates_b@self.beta + CW).unsqueeze(2).unsqueeze(3)\n",
    "        prod = batch_matrix*common\n",
    "        Hess_post = torch.sum(prod, axis = 1)+torch.eye(self.q) \n",
    "        self.Sigma_b = torch.inverse(Hess_post.detach())\n",
    "        eps = torch.diag(torch.full((self.q,1),1e-8).squeeze())\n",
    "        self.sqrt_Sigma_b = TLA.cholesky(self.Sigma_b+ eps)\n",
    "    def show_Sigma(self):\n",
    "        sns.heatmap((self.C_mean@(self.C_mean.T)).detach().numpy())\n",
    "        plt.show()\n"
   ]
  },
  {
   "cell_type": "code",
   "execution_count": 181,
   "metadata": {},
   "outputs": [],
   "source": [
    "d = 2\n",
    "n = 1000;  p = 300\n",
    "q = 10"
   ]
  },
  {
   "cell_type": "code",
   "execution_count": 188,
   "metadata": {},
   "outputs": [],
   "source": [
    "# 0 est pas mal \n",
    "#torch.manual_seed(0)\n",
    "Sigma_sampling = 1*torch.from_numpy(build_block_Sigma(p,q))/1 #+ 0.5*torch.eye(p)\n",
    "true_C = torch.from_numpy(C_from_Sigma(Sigma_sampling, q))\n",
    "true_Sigma_sampling = true_C@(true_C.T)\n",
    "true_beta =torch.randn((d, p))/2\n",
    "\n",
    "covariates = torch.randn((n,d))/1\n",
    "O =  0+torch.zeros((n,p))\n",
    "sample_model = sample_PLN()\n",
    "Y, Z  = sample_model.sample(Sigma_sampling,true_beta, O, covariates)\n",
    "Y = torch.from_numpy(Y)"
   ]
  },
  {
   "cell_type": "code",
   "execution_count": 189,
   "metadata": {},
   "outputs": [
    {
     "data": {
      "text/plain": [
       "tensor(26816)"
      ]
     },
     "execution_count": 189,
     "metadata": {},
     "output_type": "execute_result"
    }
   ],
   "source": [
    "Y.max()"
   ]
  },
  {
   "cell_type": "code",
   "execution_count": 190,
   "metadata": {},
   "outputs": [
    {
     "name": "stderr",
     "output_type": "stream",
     "text": [
      "  1%|▏         | 1/80 [00:01<01:31,  1.16s/it]"
     ]
    },
    {
     "name": "stdout",
     "output_type": "stream",
     "text": [
      "mask_index tensor([ 37, 929])\n",
      "length : torch.Size([2])\n"
     ]
    },
    {
     "name": "stderr",
     "output_type": "stream",
     "text": [
      "\r",
      "  2%|▎         | 2/80 [00:02<01:30,  1.16s/it]"
     ]
    },
    {
     "name": "stdout",
     "output_type": "stream",
     "text": [
      "mask_index tensor([369, 504])\n",
      "length : torch.Size([2])\n"
     ]
    },
    {
     "name": "stderr",
     "output_type": "stream",
     "text": [
      "\r",
      "  4%|▍         | 3/80 [00:03<01:30,  1.17s/it]"
     ]
    },
    {
     "name": "stdout",
     "output_type": "stream",
     "text": [
      "mask_index tensor([555, 935])\n",
      "length : torch.Size([2])\n"
     ]
    },
    {
     "name": "stderr",
     "output_type": "stream",
     "text": [
      "\r",
      "  5%|▌         | 4/80 [00:04<01:28,  1.17s/it]"
     ]
    },
    {
     "name": "stdout",
     "output_type": "stream",
     "text": [
      "mask_index tensor([229, 882])\n",
      "length : torch.Size([2])\n"
     ]
    },
    {
     "name": "stderr",
     "output_type": "stream",
     "text": [
      "\r",
      "  6%|▋         | 5/80 [00:05<01:27,  1.17s/it]"
     ]
    },
    {
     "name": "stdout",
     "output_type": "stream",
     "text": [
      "mask_index tensor([888, 961])\n",
      "length : torch.Size([2])\n"
     ]
    },
    {
     "name": "stderr",
     "output_type": "stream",
     "text": [
      "\r",
      "  8%|▊         | 6/80 [00:07<01:26,  1.17s/it]"
     ]
    },
    {
     "name": "stdout",
     "output_type": "stream",
     "text": [
      "mask_index tensor([194, 425])\n",
      "length : torch.Size([2])\n"
     ]
    },
    {
     "name": "stderr",
     "output_type": "stream",
     "text": [
      "\r",
      "  9%|▉         | 7/80 [00:08<01:25,  1.17s/it]"
     ]
    },
    {
     "name": "stdout",
     "output_type": "stream",
     "text": [
      "mask_index tensor([713, 828])\n",
      "length : torch.Size([2])\n"
     ]
    },
    {
     "name": "stderr",
     "output_type": "stream",
     "text": [
      "\r",
      " 10%|█         | 8/80 [00:09<01:24,  1.17s/it]"
     ]
    },
    {
     "name": "stdout",
     "output_type": "stream",
     "text": [
      "mask_index tensor([550, 821])\n",
      "length : torch.Size([2])\n"
     ]
    },
    {
     "name": "stderr",
     "output_type": "stream",
     "text": [
      "\r",
      " 11%|█▏        | 9/80 [00:10<01:23,  1.17s/it]"
     ]
    },
    {
     "name": "stdout",
     "output_type": "stream",
     "text": [
      "mask_index tensor([973, 989])\n",
      "length : torch.Size([2])\n"
     ]
    },
    {
     "name": "stderr",
     "output_type": "stream",
     "text": [
      "\r",
      " 12%|█▎        | 10/80 [00:11<01:22,  1.18s/it]"
     ]
    },
    {
     "name": "stdout",
     "output_type": "stream",
     "text": [
      "mask_index tensor([117, 831])\n",
      "length : torch.Size([2])\n"
     ]
    },
    {
     "name": "stderr",
     "output_type": "stream",
     "text": [
      "\r",
      " 14%|█▍        | 11/80 [00:12<01:20,  1.17s/it]"
     ]
    },
    {
     "name": "stdout",
     "output_type": "stream",
     "text": [
      "mask_index tensor([110, 480])\n",
      "length : torch.Size([2])\n"
     ]
    },
    {
     "name": "stderr",
     "output_type": "stream",
     "text": [
      "\r",
      " 15%|█▌        | 12/80 [00:14<01:19,  1.17s/it]"
     ]
    },
    {
     "name": "stdout",
     "output_type": "stream",
     "text": [
      "mask_index tensor([164, 850])\n",
      "length : torch.Size([2])\n"
     ]
    },
    {
     "name": "stderr",
     "output_type": "stream",
     "text": [
      "\r",
      " 16%|█▋        | 13/80 [00:15<01:18,  1.17s/it]"
     ]
    },
    {
     "name": "stdout",
     "output_type": "stream",
     "text": [
      "mask_index tensor([606, 787])\n",
      "length : torch.Size([2])\n"
     ]
    },
    {
     "name": "stderr",
     "output_type": "stream",
     "text": [
      "\r",
      " 18%|█▊        | 14/80 [00:16<01:17,  1.17s/it]"
     ]
    },
    {
     "name": "stdout",
     "output_type": "stream",
     "text": [
      "mask_index tensor([241, 492])\n",
      "length : torch.Size([2])\n"
     ]
    },
    {
     "name": "stderr",
     "output_type": "stream",
     "text": [
      "\r",
      " 19%|█▉        | 15/80 [00:17<01:15,  1.17s/it]"
     ]
    },
    {
     "name": "stdout",
     "output_type": "stream",
     "text": [
      "mask_index tensor([395, 920])\n",
      "length : torch.Size([2])\n"
     ]
    },
    {
     "name": "stderr",
     "output_type": "stream",
     "text": [
      "\r",
      " 20%|██        | 16/80 [00:18<01:14,  1.16s/it]"
     ]
    },
    {
     "name": "stdout",
     "output_type": "stream",
     "text": [
      "mask_index tensor([714, 718])\n",
      "length : torch.Size([2])\n"
     ]
    },
    {
     "name": "stderr",
     "output_type": "stream",
     "text": [
      "\r",
      " 21%|██▏       | 17/80 [00:19<01:13,  1.17s/it]"
     ]
    },
    {
     "name": "stdout",
     "output_type": "stream",
     "text": [
      "mask_index tensor([337, 752])\n",
      "length : torch.Size([2])\n"
     ]
    },
    {
     "name": "stderr",
     "output_type": "stream",
     "text": [
      "\r",
      " 22%|██▎       | 18/80 [00:21<01:13,  1.18s/it]"
     ]
    },
    {
     "name": "stdout",
     "output_type": "stream",
     "text": [
      "mask_index tensor([680, 818])\n",
      "length : torch.Size([2])\n"
     ]
    },
    {
     "name": "stderr",
     "output_type": "stream",
     "text": [
      "\r",
      " 24%|██▍       | 19/80 [00:22<01:11,  1.18s/it]"
     ]
    },
    {
     "name": "stdout",
     "output_type": "stream",
     "text": [
      "mask_index tensor([ 10, 156])\n",
      "length : torch.Size([2])\n"
     ]
    },
    {
     "name": "stderr",
     "output_type": "stream",
     "text": [
      "\r",
      " 25%|██▌       | 20/80 [00:23<01:10,  1.17s/it]"
     ]
    },
    {
     "name": "stdout",
     "output_type": "stream",
     "text": [
      "mask_index tensor([679, 695])\n",
      "length : torch.Size([2])\n"
     ]
    },
    {
     "name": "stderr",
     "output_type": "stream",
     "text": [
      "\r",
      " 26%|██▋       | 21/80 [00:24<01:08,  1.17s/it]"
     ]
    },
    {
     "name": "stdout",
     "output_type": "stream",
     "text": [
      "mask_index tensor([ 84, 225])\n",
      "length : torch.Size([2])\n"
     ]
    },
    {
     "name": "stderr",
     "output_type": "stream",
     "text": [
      "\r",
      " 28%|██▊       | 22/80 [00:25<01:07,  1.16s/it]"
     ]
    },
    {
     "name": "stdout",
     "output_type": "stream",
     "text": [
      "mask_index tensor([498, 557])\n",
      "length : torch.Size([2])\n"
     ]
    },
    {
     "name": "stderr",
     "output_type": "stream",
     "text": [
      "\r",
      " 29%|██▉       | 23/80 [00:26<01:06,  1.17s/it]"
     ]
    },
    {
     "name": "stdout",
     "output_type": "stream",
     "text": [
      "mask_index tensor([402, 462])\n",
      "length : torch.Size([2])\n"
     ]
    },
    {
     "name": "stderr",
     "output_type": "stream",
     "text": [
      "\r",
      " 30%|███       | 24/80 [00:28<01:05,  1.17s/it]"
     ]
    },
    {
     "name": "stdout",
     "output_type": "stream",
     "text": [
      "mask_index tensor([125, 954])\n",
      "length : torch.Size([2])\n"
     ]
    },
    {
     "name": "stderr",
     "output_type": "stream",
     "text": [
      "\r",
      " 31%|███▏      | 25/80 [00:29<01:04,  1.17s/it]"
     ]
    },
    {
     "name": "stdout",
     "output_type": "stream",
     "text": [
      "mask_index tensor([579, 889])\n",
      "length : torch.Size([2])\n"
     ]
    },
    {
     "name": "stderr",
     "output_type": "stream",
     "text": [
      "\r",
      " 32%|███▎      | 26/80 [00:30<01:04,  1.19s/it]"
     ]
    },
    {
     "name": "stdout",
     "output_type": "stream",
     "text": [
      "mask_index tensor([433, 652])\n",
      "length : torch.Size([2])\n"
     ]
    },
    {
     "name": "stderr",
     "output_type": "stream",
     "text": [
      "\r",
      " 34%|███▍      | 27/80 [00:31<01:03,  1.20s/it]"
     ]
    },
    {
     "name": "stdout",
     "output_type": "stream",
     "text": [
      "mask_index tensor([256, 658])\n",
      "length : torch.Size([2])\n"
     ]
    },
    {
     "name": "stderr",
     "output_type": "stream",
     "text": [
      "\r",
      " 35%|███▌      | 28/80 [00:32<01:02,  1.21s/it]"
     ]
    },
    {
     "name": "stdout",
     "output_type": "stream",
     "text": [
      "mask_index tensor([791, 871])\n",
      "length : torch.Size([2])\n"
     ]
    },
    {
     "name": "stderr",
     "output_type": "stream",
     "text": [
      "\r",
      " 36%|███▋      | 29/80 [00:34<01:01,  1.20s/it]"
     ]
    },
    {
     "name": "stdout",
     "output_type": "stream",
     "text": [
      "mask_index tensor([ 69, 751])\n",
      "length : torch.Size([2])\n"
     ]
    },
    {
     "name": "stderr",
     "output_type": "stream",
     "text": [
      "\r",
      " 38%|███▊      | 30/80 [00:35<00:59,  1.19s/it]"
     ]
    },
    {
     "name": "stdout",
     "output_type": "stream",
     "text": [
      "mask_index tensor([691, 748])\n",
      "length : torch.Size([2])\n"
     ]
    },
    {
     "name": "stderr",
     "output_type": "stream",
     "text": [
      "\r",
      " 39%|███▉      | 31/80 [00:36<00:57,  1.18s/it]"
     ]
    },
    {
     "name": "stdout",
     "output_type": "stream",
     "text": [
      "mask_index tensor([552, 625])\n",
      "length : torch.Size([2])\n"
     ]
    },
    {
     "name": "stderr",
     "output_type": "stream",
     "text": [
      "\r",
      " 40%|████      | 32/80 [00:37<00:56,  1.17s/it]"
     ]
    },
    {
     "name": "stdout",
     "output_type": "stream",
     "text": [
      "mask_index tensor([159, 552])\n",
      "length : torch.Size([2])\n"
     ]
    },
    {
     "name": "stderr",
     "output_type": "stream",
     "text": [
      "\r",
      " 41%|████▏     | 33/80 [00:38<00:55,  1.17s/it]"
     ]
    },
    {
     "name": "stdout",
     "output_type": "stream",
     "text": [
      "mask_index tensor([360, 688])\n",
      "length : torch.Size([2])\n"
     ]
    },
    {
     "name": "stderr",
     "output_type": "stream",
     "text": [
      "\r",
      " 42%|████▎     | 34/80 [00:39<00:53,  1.16s/it]"
     ]
    },
    {
     "name": "stdout",
     "output_type": "stream",
     "text": [
      "mask_index tensor([601, 607])\n",
      "length : torch.Size([2])\n"
     ]
    },
    {
     "name": "stderr",
     "output_type": "stream",
     "text": [
      "\r",
      " 44%|████▍     | 35/80 [00:41<00:52,  1.18s/it]"
     ]
    },
    {
     "name": "stdout",
     "output_type": "stream",
     "text": [
      "mask_index tensor([ 20, 633])\n",
      "length : torch.Size([2])\n"
     ]
    },
    {
     "name": "stderr",
     "output_type": "stream",
     "text": [
      "\r",
      " 45%|████▌     | 36/80 [00:42<00:52,  1.18s/it]"
     ]
    },
    {
     "name": "stdout",
     "output_type": "stream",
     "text": [
      "mask_index tensor([496, 537])\n",
      "length : torch.Size([2])\n"
     ]
    },
    {
     "name": "stderr",
     "output_type": "stream",
     "text": [
      "\r",
      " 46%|████▋     | 37/80 [00:43<00:50,  1.18s/it]"
     ]
    },
    {
     "name": "stdout",
     "output_type": "stream",
     "text": [
      "mask_index tensor([240, 888])\n",
      "length : torch.Size([2])\n"
     ]
    },
    {
     "name": "stderr",
     "output_type": "stream",
     "text": [
      "\r",
      " 48%|████▊     | 38/80 [00:44<00:49,  1.17s/it]"
     ]
    },
    {
     "name": "stdout",
     "output_type": "stream",
     "text": [
      "mask_index tensor([295, 376])\n",
      "length : torch.Size([2])\n"
     ]
    },
    {
     "name": "stderr",
     "output_type": "stream",
     "text": [
      "\r",
      " 49%|████▉     | 39/80 [00:45<00:48,  1.19s/it]"
     ]
    },
    {
     "name": "stdout",
     "output_type": "stream",
     "text": [
      "mask_index tensor([121, 672])\n",
      "length : torch.Size([2])\n"
     ]
    },
    {
     "name": "stderr",
     "output_type": "stream",
     "text": [
      "\r",
      " 50%|█████     | 40/80 [00:47<00:46,  1.17s/it]"
     ]
    },
    {
     "name": "stdout",
     "output_type": "stream",
     "text": [
      "mask_index tensor([243, 601])\n",
      "length : torch.Size([2])\n"
     ]
    },
    {
     "name": "stderr",
     "output_type": "stream",
     "text": [
      "\r",
      " 51%|█████▏    | 41/80 [00:48<00:45,  1.16s/it]"
     ]
    },
    {
     "name": "stdout",
     "output_type": "stream",
     "text": [
      "mask_index tensor([584, 806])\n",
      "length : torch.Size([2])\n"
     ]
    },
    {
     "name": "stderr",
     "output_type": "stream",
     "text": [
      "\r",
      " 52%|█████▎    | 42/80 [00:49<00:43,  1.15s/it]"
     ]
    },
    {
     "name": "stdout",
     "output_type": "stream",
     "text": [
      "mask_index tensor([812, 965])\n",
      "length : torch.Size([2])\n"
     ]
    },
    {
     "name": "stderr",
     "output_type": "stream",
     "text": [
      "\r",
      " 54%|█████▍    | 43/80 [00:50<00:42,  1.15s/it]"
     ]
    },
    {
     "name": "stdout",
     "output_type": "stream",
     "text": [
      "mask_index tensor([100, 798])\n",
      "length : torch.Size([2])\n"
     ]
    },
    {
     "name": "stderr",
     "output_type": "stream",
     "text": [
      "\r",
      " 55%|█████▌    | 44/80 [00:51<00:41,  1.15s/it]"
     ]
    },
    {
     "name": "stdout",
     "output_type": "stream",
     "text": [
      "mask_index tensor([ 81, 977])\n",
      "length : torch.Size([2])\n"
     ]
    },
    {
     "name": "stderr",
     "output_type": "stream",
     "text": [
      "\r",
      " 56%|█████▋    | 45/80 [00:52<00:40,  1.16s/it]"
     ]
    },
    {
     "name": "stdout",
     "output_type": "stream",
     "text": [
      "mask_index tensor([446, 493])\n",
      "length : torch.Size([2])\n"
     ]
    },
    {
     "name": "stderr",
     "output_type": "stream",
     "text": [
      "\r",
      " 57%|█████▊    | 46/80 [00:53<00:39,  1.16s/it]"
     ]
    },
    {
     "name": "stdout",
     "output_type": "stream",
     "text": [
      "mask_index tensor([ 52, 684])\n",
      "length : torch.Size([2])\n"
     ]
    },
    {
     "name": "stderr",
     "output_type": "stream",
     "text": [
      "\r",
      " 59%|█████▉    | 47/80 [00:55<00:38,  1.17s/it]"
     ]
    },
    {
     "name": "stdout",
     "output_type": "stream",
     "text": [
      "mask_index tensor([528, 989])\n",
      "length : torch.Size([2])\n"
     ]
    },
    {
     "name": "stderr",
     "output_type": "stream",
     "text": [
      "\r",
      " 60%|██████    | 48/80 [00:56<00:37,  1.16s/it]"
     ]
    },
    {
     "name": "stdout",
     "output_type": "stream",
     "text": [
      "mask_index tensor([257, 401])\n",
      "length : torch.Size([2])\n"
     ]
    },
    {
     "name": "stderr",
     "output_type": "stream",
     "text": [
      "\r",
      " 61%|██████▏   | 49/80 [00:57<00:36,  1.17s/it]"
     ]
    },
    {
     "name": "stdout",
     "output_type": "stream",
     "text": [
      "mask_index tensor([ 44, 721])\n",
      "length : torch.Size([2])\n"
     ]
    },
    {
     "name": "stderr",
     "output_type": "stream",
     "text": [
      "\r",
      " 62%|██████▎   | 50/80 [00:58<00:34,  1.17s/it]"
     ]
    },
    {
     "name": "stdout",
     "output_type": "stream",
     "text": [
      "mask_index tensor([251, 395])\n",
      "length : torch.Size([2])\n"
     ]
    },
    {
     "name": "stderr",
     "output_type": "stream",
     "text": [
      "\r",
      " 64%|██████▍   | 51/80 [00:59<00:33,  1.17s/it]"
     ]
    },
    {
     "name": "stdout",
     "output_type": "stream",
     "text": [
      "mask_index tensor([265, 502])\n",
      "length : torch.Size([2])\n"
     ]
    },
    {
     "name": "stderr",
     "output_type": "stream",
     "text": [
      "\r",
      " 65%|██████▌   | 52/80 [01:00<00:32,  1.17s/it]"
     ]
    },
    {
     "name": "stdout",
     "output_type": "stream",
     "text": [
      "mask_index tensor([606, 967])\n",
      "length : torch.Size([2])\n"
     ]
    },
    {
     "name": "stderr",
     "output_type": "stream",
     "text": [
      "\r",
      " 66%|██████▋   | 53/80 [01:02<00:31,  1.17s/it]"
     ]
    },
    {
     "name": "stdout",
     "output_type": "stream",
     "text": [
      "mask_index tensor([250, 388])\n",
      "length : torch.Size([2])\n"
     ]
    },
    {
     "name": "stderr",
     "output_type": "stream",
     "text": [
      "\r",
      " 68%|██████▊   | 54/80 [01:03<00:30,  1.18s/it]"
     ]
    },
    {
     "name": "stdout",
     "output_type": "stream",
     "text": [
      "mask_index tensor([115, 489])\n",
      "length : torch.Size([2])\n"
     ]
    },
    {
     "name": "stderr",
     "output_type": "stream",
     "text": [
      "\r",
      " 69%|██████▉   | 55/80 [01:04<00:29,  1.19s/it]"
     ]
    },
    {
     "name": "stdout",
     "output_type": "stream",
     "text": [
      "mask_index tensor([  6, 616])\n",
      "length : torch.Size([2])\n"
     ]
    },
    {
     "name": "stderr",
     "output_type": "stream",
     "text": [
      "\r",
      " 70%|███████   | 56/80 [01:05<00:28,  1.18s/it]"
     ]
    },
    {
     "name": "stdout",
     "output_type": "stream",
     "text": [
      "mask_index tensor([133, 911])\n",
      "length : torch.Size([2])\n"
     ]
    },
    {
     "name": "stderr",
     "output_type": "stream",
     "text": [
      "\r",
      " 71%|███████▏  | 57/80 [01:06<00:27,  1.18s/it]"
     ]
    },
    {
     "name": "stdout",
     "output_type": "stream",
     "text": [
      "mask_index tensor([398, 628])\n",
      "length : torch.Size([2])\n"
     ]
    },
    {
     "name": "stderr",
     "output_type": "stream",
     "text": [
      "\r",
      " 72%|███████▎  | 58/80 [01:08<00:25,  1.18s/it]"
     ]
    },
    {
     "name": "stdout",
     "output_type": "stream",
     "text": [
      "mask_index tensor([329, 951])\n",
      "length : torch.Size([2])\n"
     ]
    },
    {
     "name": "stderr",
     "output_type": "stream",
     "text": [
      "\r",
      " 74%|███████▍  | 59/80 [01:09<00:24,  1.17s/it]"
     ]
    },
    {
     "name": "stdout",
     "output_type": "stream",
     "text": [
      "mask_index tensor([148, 983])\n",
      "length : torch.Size([2])\n"
     ]
    },
    {
     "name": "stderr",
     "output_type": "stream",
     "text": [
      "\r",
      " 75%|███████▌  | 60/80 [01:10<00:23,  1.17s/it]"
     ]
    },
    {
     "name": "stdout",
     "output_type": "stream",
     "text": [
      "mask_index tensor([ 20, 682])\n",
      "length : torch.Size([2])\n"
     ]
    },
    {
     "name": "stderr",
     "output_type": "stream",
     "text": [
      "\r",
      " 76%|███████▋  | 61/80 [01:11<00:22,  1.17s/it]"
     ]
    },
    {
     "name": "stdout",
     "output_type": "stream",
     "text": [
      "mask_index tensor([209, 452])\n",
      "length : torch.Size([2])\n"
     ]
    },
    {
     "name": "stderr",
     "output_type": "stream",
     "text": [
      "\r",
      " 78%|███████▊  | 62/80 [01:12<00:21,  1.18s/it]"
     ]
    },
    {
     "name": "stdout",
     "output_type": "stream",
     "text": [
      "mask_index tensor([112, 192])\n",
      "length : torch.Size([2])\n"
     ]
    },
    {
     "name": "stderr",
     "output_type": "stream",
     "text": [
      "\r",
      " 79%|███████▉  | 63/80 [01:13<00:20,  1.18s/it]"
     ]
    },
    {
     "name": "stdout",
     "output_type": "stream",
     "text": [
      "mask_index tensor([176, 541])\n",
      "length : torch.Size([2])\n"
     ]
    },
    {
     "name": "stderr",
     "output_type": "stream",
     "text": [
      "\r",
      " 80%|████████  | 64/80 [01:15<00:19,  1.20s/it]"
     ]
    },
    {
     "name": "stdout",
     "output_type": "stream",
     "text": [
      "mask_index tensor([696, 839])\n",
      "length : torch.Size([2])\n"
     ]
    },
    {
     "name": "stderr",
     "output_type": "stream",
     "text": [
      "\r",
      " 81%|████████▏ | 65/80 [01:16<00:17,  1.19s/it]"
     ]
    },
    {
     "name": "stdout",
     "output_type": "stream",
     "text": [
      "mask_index tensor([259, 813])\n",
      "length : torch.Size([2])\n"
     ]
    },
    {
     "name": "stderr",
     "output_type": "stream",
     "text": [
      "\r",
      " 82%|████████▎ | 66/80 [01:17<00:16,  1.21s/it]"
     ]
    },
    {
     "name": "stdout",
     "output_type": "stream",
     "text": [
      "mask_index tensor([163, 579])\n",
      "length : torch.Size([2])\n"
     ]
    },
    {
     "name": "stderr",
     "output_type": "stream",
     "text": [
      "\r",
      " 84%|████████▍ | 67/80 [01:18<00:15,  1.21s/it]"
     ]
    },
    {
     "name": "stdout",
     "output_type": "stream",
     "text": [
      "mask_index tensor([ 61, 966])\n",
      "length : torch.Size([2])\n"
     ]
    },
    {
     "name": "stderr",
     "output_type": "stream",
     "text": [
      "\r",
      " 85%|████████▌ | 68/80 [01:20<00:14,  1.21s/it]"
     ]
    },
    {
     "name": "stdout",
     "output_type": "stream",
     "text": [
      "mask_index tensor([510, 751])\n",
      "length : torch.Size([2])\n"
     ]
    },
    {
     "name": "stderr",
     "output_type": "stream",
     "text": [
      "\r",
      " 86%|████████▋ | 69/80 [01:21<00:13,  1.19s/it]"
     ]
    },
    {
     "name": "stdout",
     "output_type": "stream",
     "text": [
      "mask_index tensor([330, 672])\n",
      "length : torch.Size([2])\n"
     ]
    },
    {
     "name": "stderr",
     "output_type": "stream",
     "text": [
      "\r",
      " 88%|████████▊ | 70/80 [01:22<00:11,  1.18s/it]"
     ]
    },
    {
     "name": "stdout",
     "output_type": "stream",
     "text": [
      "mask_index tensor([144, 363])\n",
      "length : torch.Size([2])\n"
     ]
    },
    {
     "name": "stderr",
     "output_type": "stream",
     "text": [
      "\r",
      " 89%|████████▉ | 71/80 [01:23<00:10,  1.18s/it]"
     ]
    },
    {
     "name": "stdout",
     "output_type": "stream",
     "text": [
      "mask_index tensor([147, 820])\n",
      "length : torch.Size([2])\n"
     ]
    },
    {
     "name": "stderr",
     "output_type": "stream",
     "text": [
      "\r",
      " 90%|█████████ | 72/80 [01:24<00:09,  1.18s/it]"
     ]
    },
    {
     "name": "stdout",
     "output_type": "stream",
     "text": [
      "mask_index tensor([132, 443])\n",
      "length : torch.Size([2])\n"
     ]
    },
    {
     "name": "stderr",
     "output_type": "stream",
     "text": [
      "\r",
      " 91%|█████████▏| 73/80 [01:25<00:08,  1.17s/it]"
     ]
    },
    {
     "name": "stdout",
     "output_type": "stream",
     "text": [
      "mask_index tensor([311, 589])\n",
      "length : torch.Size([2])\n"
     ]
    },
    {
     "name": "stderr",
     "output_type": "stream",
     "text": [
      "\r",
      " 92%|█████████▎| 74/80 [01:27<00:07,  1.17s/it]"
     ]
    },
    {
     "name": "stdout",
     "output_type": "stream",
     "text": [
      "mask_index tensor([345, 630])\n",
      "length : torch.Size([2])\n"
     ]
    },
    {
     "name": "stderr",
     "output_type": "stream",
     "text": [
      "\r",
      " 94%|█████████▍| 75/80 [01:28<00:05,  1.19s/it]"
     ]
    },
    {
     "name": "stdout",
     "output_type": "stream",
     "text": [
      "mask_index tensor([190, 228])\n",
      "length : torch.Size([2])\n"
     ]
    },
    {
     "name": "stderr",
     "output_type": "stream",
     "text": [
      "\r",
      " 95%|█████████▌| 76/80 [01:29<00:04,  1.19s/it]"
     ]
    },
    {
     "name": "stdout",
     "output_type": "stream",
     "text": [
      "mask_index tensor([912, 986])\n",
      "length : torch.Size([2])\n"
     ]
    },
    {
     "name": "stderr",
     "output_type": "stream",
     "text": [
      "\r",
      " 96%|█████████▋| 77/80 [01:30<00:03,  1.18s/it]"
     ]
    },
    {
     "name": "stdout",
     "output_type": "stream",
     "text": [
      "mask_index tensor([511, 761])\n",
      "length : torch.Size([2])\n"
     ]
    },
    {
     "name": "stderr",
     "output_type": "stream",
     "text": [
      "\r",
      " 98%|█████████▊| 78/80 [01:31<00:02,  1.18s/it]"
     ]
    },
    {
     "name": "stdout",
     "output_type": "stream",
     "text": [
      "mask_index tensor([581, 602])\n",
      "length : torch.Size([2])\n"
     ]
    },
    {
     "name": "stderr",
     "output_type": "stream",
     "text": [
      "\r",
      " 99%|█████████▉| 79/80 [01:32<00:01,  1.17s/it]"
     ]
    },
    {
     "name": "stdout",
     "output_type": "stream",
     "text": [
      "mask_index tensor([  4, 963])\n",
      "length : torch.Size([2])\n"
     ]
    },
    {
     "name": "stderr",
     "output_type": "stream",
     "text": [
      "100%|██████████| 80/80 [01:34<00:00,  1.18s/it]"
     ]
    },
    {
     "name": "stdout",
     "output_type": "stream",
     "text": [
      "mask_index tensor([ 76, 302])\n",
      "length : torch.Size([2])\n",
      "CPU times: user 8min 27s, sys: 43.3 s, total: 9min 10s\n",
      "Wall time: 1min 34s\n"
     ]
    },
    {
     "name": "stderr",
     "output_type": "stream",
     "text": [
      "\n"
     ]
    }
   ],
   "source": [
    "model = Basic_IMPS(q, average = 200, true_value = False)\n",
    "%time model.fit(Y,O,covariates,80, acc = 0.05,lr = 0.05,N_iter_mode = 100, lr_mode = 0.3,  class_optimizer = torch.optim.RMSprop, batch_size =n)"
   ]
  },
  {
   "cell_type": "code",
   "execution_count": 191,
   "metadata": {
    "scrolled": true
   },
   "outputs": [
    {
     "name": "stdout",
     "output_type": "stream",
     "text": [
      "mask_index tensor([265, 484, 495, 516, 520, 525, 545, 759])\n",
      "length : torch.Size([8])\n"
     ]
    },
    {
     "data": {
      "image/png": "[encoded data removed]",
      "text/plain": [
       "<Figure size 1080x1080 with 4 Axes>"
      ]
     },
     "metadata": {
      "needs_background": "light"
     },
     "output_type": "display_data"
    }
   ],
   "source": [
    "show(model, 'best,n=1000,p=30,q=10', save = False)"
   ]
  },
  {
   "cell_type": "code",
   "execution_count": 192,
   "metadata": {},
   "outputs": [
    {
     "data": {
      "text/plain": [
       "<AxesSubplot:title={'center':'$\\\\Sigma$'}>"
      ]
     },
     "execution_count": 192,
     "metadata": {},
     "output_type": "execute_result"
    },
    {
     "data": {
      "image/png": "[encoded data removed]",
      "text/plain": [
       "<Figure size 806.4x288 with 4 Axes>"
      ]
     },
     "metadata": {
      "needs_background": "light"
     },
     "output_type": "display_data"
    }
   ],
   "source": [
    "mat = model.C_mean.detach().numpy()\n",
    "\n",
    "fig,axes = plt.subplots(1,2,figsize = (11.2,4))\n",
    "axes[0].set_title(r'$\\hat \\Sigma$')\n",
    "sns.heatmap(mat@(mat.T),ax = axes[0])\n",
    "axes[1].set_title(r'$\\Sigma$')\n",
    "sns.heatmap(Sigma_sampling,ax = axes[1])\n",
    "#plt.savefig('best result Sigma')"
   ]
  },
  {
   "cell_type": "code",
   "execution_count": 124,
   "metadata": {},
   "outputs": [
    {
     "data": {
      "text/plain": [
       "<AxesSubplot:>"
      ]
     },
     "execution_count": 124,
     "metadata": {},
     "output_type": "execute_result"
    },
    {
     "data": {
      "image/png": "[encoded data removed]",
      "text/plain": [
       "<Figure size 432x288 with 2 Axes>"
      ]
     },
     "metadata": {
      "needs_background": "light"
     },
     "output_type": "display_data"
    }
   ],
   "source": [
    "Sig = mat@(mat.T)\n",
    "sns.heatmap(Sig * (np.abs(Sig) > 0.7))"
   ]
  },
  {
   "cell_type": "code",
   "execution_count": 91,
   "metadata": {},
   "outputs": [
    {
     "data": {
      "text/plain": [
       "tensor([ -156.3740,  -190.7391,  -206.3035,  -177.1579,  -430.1877,  -530.9578,\n",
       "         -286.1344,  -711.3682,  -690.1172,  -578.2244,  -128.1276,  -181.9416,\n",
       "          -78.1325,  -338.8226,  -270.0796,  -652.3436, -1000.0000, -1000.0000,\n",
       "         -234.5263,  -469.0022,  -149.7687, -1000.0000,  -489.5154,  -514.4129,\n",
       "         -109.7870, -1000.0000,  -712.0253,  -155.6299, -1000.0000,  -145.8789])"
      ]
     },
     "execution_count": 91,
     "metadata": {},
     "output_type": "execute_result"
    }
   ],
   "source": [
    "torch.nan_to_num(torch.log(torch.from_numpy(model.var_weights[0:30])),neginf = -1000)"
   ]
  },
  {
   "cell_type": "code",
   "execution_count": 111,
   "metadata": {},
   "outputs": [
    {
     "data": {
      "text/plain": [
       "<AxesSubplot:>"
      ]
     },
     "execution_count": 111,
     "metadata": {},
     "output_type": "execute_result"
    },
    {
     "data": {
      "image/png": "[encoded data removed]",
      "text/plain": [
       "<Figure size 432x288 with 2 Axes>"
      ]
     },
     "metadata": {
      "needs_background": "light"
     },
     "output_type": "display_data"
    }
   ],
   "source": [
    "sns.heatmap((model.C_mean@(model.C_mean.T)).detach().numpy())"
   ]
  },
  {
   "cell_type": "code",
   "execution_count": 112,
   "metadata": {},
   "outputs": [
    {
     "data": {
      "text/plain": [
       "<AxesSubplot:>"
      ]
     },
     "execution_count": 112,
     "metadata": {},
     "output_type": "execute_result"
    },
    {
     "data": {
      "image/png": "[encoded data removed]",
      "text/plain": [
       "<Figure size 432x288 with 2 Axes>"
      ]
     },
     "metadata": {
      "needs_background": "light"
     },
     "output_type": "display_data"
    }
   ],
   "source": [
    "sns.heatmap(true_Sigma_sampling)"
   ]
  },
  {
   "cell_type": "code",
   "execution_count": 109,
   "metadata": {},
   "outputs": [],
   "source": [
    "def show(model,name_doss , save = False):\n",
    "    '''\n",
    "    function to show one model. It will plot the MSE of Sigma and beta according to the true parameters and \n",
    "    the log_likelihood in the y axis with the runtime in the x-axis.Will also plot the norm of the gradients and \n",
    "    the variance of the weights used for the importance sampling. \n",
    "    \n",
    "    args : \n",
    "        'model' MC_PLNPCA object where you have called model.fit_IMPS()\n",
    "        'name_doss' : str. the name of the file you want to save the graphic. \n",
    "        'save' : bool. If True, the graphic will be saved. If false, won't be saved. \n",
    "        \n",
    "    returns : \n",
    "            None but displays the figure. It can also save the figure if save = True. \n",
    "    '''\n",
    "    best_model = Basic_IMPS(q, average = 100, true_value = True)\n",
    "    best_model.init_data(Y, O, covariates)\n",
    "    best_model.Y_b,best_model.O_b, best_model.covariates_b, best_model.batch_size = Y, O, covariates, n\n",
    "    best_log_like = best_model.infer_batch_p_theta(1000, 0.1, 1000)\n",
    "    fig,ax = plt.subplots(4,1,figsize = (15,15))\n",
    "    #max_ = max(best_log_like,np.max(np.array(model.log_likelihood_list)))\n",
    "    max_ = 0 \n",
    "        \n",
    "    d = model.beta.shape[0]\n",
    "    #MSE of Sigma\n",
    "    abscisse = model.running_times\n",
    "    plt.subplots_adjust(hspace = 0.4)\n",
    "    ax[0].plot(abscisse, model.MSE_Sigma_list)\n",
    "    ax[0].set_title(r'MSE $(\\Sigma- \\hat \\Sigma)$')\n",
    "    #ax[0].axhline(best_MSE_Sigma, label = 'MLE latent layer ', c = 'red', linestyle = '--')\n",
    "    ax[0].set_xlabel('Seconds')\n",
    "    ax[0].set_ylim(ymin= 1e-4)\n",
    "    ax[0].set_ylabel('(a)')\n",
    "    ax[0].set_yscale('log')\n",
    "    \n",
    "    #MSE of beta. \n",
    "    ax[1].plot(abscisse, model.MSE_beta_list)\n",
    "    ax[1].set_title(r'MSE $(\\beta - \\hat \\beta)$') \n",
    "    ax[1].axhline(best_MSE_beta, label = 'MLE latent layer', c = 'red', linestyle = '--')\n",
    "    ax[1].set_yscale('log')\n",
    "    ax[1].set_ylim(ymin= 1e-4)\n",
    "    ax[1].set_ylabel('(b)')\n",
    "    ax[1].legend()\n",
    "    \n",
    "    #log likelihood of the model. will also plot the log likelihood of the model with the true parameters. \n",
    "    ax[2].plot(abscisse, np.array(model.log_likelihood_list)-max_)\n",
    "    ax[2].set_title('log likelihood')\n",
    "    ax[2].set_ylabel('loglikelihood')\n",
    "    ax[2].set_xlabel('Seconds')\n",
    "    #variational_log_like = variational_model.compute_mean_log_likelihood(0.0001)[0].item()\n",
    "    #ax[2].axhline(variational_log_like, c = 'black', label = 'variaitional likelihood')\n",
    "    ax[2].axhline(best_log_like-max_, c = 'red', label = 'log likelihood of the true parameters')\n",
    "    ax[2].set_yscale('symlog')\n",
    "    ax[2].set_ylabel('(c)')\n",
    "    ax[2].legend()\n",
    "    \n",
    "    ax[3].scatter(np.linspace(0,abscisse[-1], model.var_weights.shape[0]), \n",
    "                  torch.nan_to_num(torch.log(torch.from_numpy(model.var_weights)),neginf = -1000)\n",
    "                  ,s = 1, label = 'logarithm of the variance of the weights', c = 'black')\n",
    "    ax[3].set_title('logarithm of the variance of the weights')# '+ str(np.round(percentage_bad_beta,3)))\n",
    "    ax[3].set_yscale('symlog')\n",
    "    ax[3].set_ylabel('(d)')\n",
    "    ax[3].set_xlabel('Seconds')\n",
    "    ax[3].legend()\n",
    "    '''\n",
    "    # plot the L1 norm of the gradients. \n",
    "    ax[3].plot(abscisse, model.norm_grad_log_C_list, label = 'norm grad loglike C')\n",
    "    ax[3].plot(abscisse, model.norm_grad_log_beta_list, label = 'norm grad loglike beta')\n",
    "    ax[3].set_title('Norm Gradients loglike ')\n",
    "    ax[3].set_ylabel('L1 norm')\n",
    "    ax[3].set_yscale('log')\n",
    "    ax[3].legend()\n",
    "    \n",
    "    \n",
    "    #here we plot the variance for the 3 integrals. We set a threshold from which we consider that the integral \n",
    "    # is misestimate if the variance of the weights is above. \n",
    "    threshold = 0.9\n",
    "    # integral for beta \n",
    "    ax[4].scatter( np.linspace(0,abscisse[-1], model.var_weights['beta'].shape[0]), model.var_weights['beta'],s = 1, label = 'variance of the weights for beta', c = 'black')\n",
    "    percentage_bad_beta = np.sum(model.var_weights['beta']>threshold)/(model.var_weights['beta'].shape[0])\n",
    "    ax[4].axhline(model.acc, c = 'red', label = 'reference')\n",
    "    ax[4].set_title('Variance beta, pourcentage of bad approximations : '+ str(np.round(percentage_bad_beta,3)))\n",
    "    ax[4].set_yscale('log')\n",
    "    ax[4].legend()\n",
    "    '''\n",
    "    if save : \n",
    "        plt.savefig(name_doss)\n",
    "    plt.show()"
   ]
  },
  {
   "cell_type": "code",
   "execution_count": 110,
   "metadata": {},
   "outputs": [
    {
     "data": {
      "image/png": "[encoded data removed]",
      "text/plain": [
       "<Figure size 1080x1080 with 4 Axes>"
      ]
     },
     "metadata": {
      "needs_background": "light"
     },
     "output_type": "display_data"
    }
   ],
   "source": [
    "show(model, '')"
   ]
  },
  {
   "cell_type": "code",
   "execution_count": 28,
   "metadata": {},
   "outputs": [
    {
     "name": "stdout",
     "output_type": "stream",
     "text": [
      "MLE :\n"
     ]
    },
    {
     "data": {
      "image/png": "[encoded data removed]",
      "text/plain": [
       "<Figure size 432x288 with 2 Axes>"
      ]
     },
     "metadata": {
      "needs_background": "light"
     },
     "output_type": "display_data"
    },
    {
     "name": "stdout",
     "output_type": "stream",
     "text": [
      "true Sigma\n"
     ]
    },
    {
     "data": {
      "image/png": "[encoded data removed]",
      "text/plain": [
       "<Figure size 432x288 with 2 Axes>"
      ]
     },
     "metadata": {
      "needs_background": "light"
     },
     "output_type": "display_data"
    },
    {
     "name": "stdout",
     "output_type": "stream",
     "text": [
      "Best MSE we can have (in our dream):  tensor(0.0046)\n"
     ]
    }
   ],
   "source": [
    "## Here we plot the MLE for Z the latent variables. They are unknown in practice\n",
    "## this is just to see the difference between our result and the best result possible \n",
    "mu_MLE = torch.mean(Z, dim = 0)\n",
    "m = mu_MLE.shape[0]\n",
    "Sigma_MLE = 1/Z.shape[0]*((Z-mu_MLE).T)@(Z-mu_MLE)\n",
    "print('MLE :')\n",
    "sns.heatmap(Sigma_MLE.to(torch.device('cpu')))\n",
    "plt.show()\n",
    "print('true Sigma')\n",
    "sns.heatmap(Sigma_sampling.to(torch.device('cpu')))\n",
    "plt.show()\n",
    "best_MSE_Sigma = torch.mean((Sigma_MLE.to(device)-Sigma_sampling)**2)\n",
    "print('Best MSE we can have (in our dream): ', best_MSE_Sigma)"
   ]
  },
  {
   "cell_type": "code",
   "execution_count": 29,
   "metadata": {},
   "outputs": [
    {
     "name": "stdout",
     "output_type": "stream",
     "text": [
      "MSE beta in the latent layer:  tensor(0.0013)\n"
     ]
    }
   ],
   "source": [
    "target = Z+ torch.mm(covariates,true_beta)\n",
    "\n",
    "clf = LinearRegression()\n",
    "clf.fit(covariates,target)\n",
    "beta_dream = torch.from_numpy(clf.coef_.T)\n",
    "best_MSE_beta = torch.mean((beta_dream-true_beta)**2)\n",
    "print('MSE beta in the latent layer: ', best_MSE_beta)"
   ]
  },
  {
   "cell_type": "code",
   "execution_count": 30,
   "metadata": {},
   "outputs": [
    {
     "name": "stdout",
     "output_type": "stream",
     "text": [
      "device :  cpu\n",
      "MSE Sigma tensor(0.0355, grad_fn=<MeanBackward0>)\n",
      "MSE beta tensor(0.0025, grad_fn=<MeanBackward0>)\n"
     ]
    }
   ],
   "source": [
    "from fastPLN import fastPLN\n",
    "fastmodel = fastPLN()\n",
    "fastmodel.fit(Y,O,covariates, 50)\n",
    "print('MSE Sigma', torch.mean((fastmodel.Sigma-true_Sigma_sampling)**2))\n",
    "print('MSE beta', torch.mean((fastmodel.beta-true_beta)**2))"
   ]
  },
  {
   "cell_type": "code",
   "execution_count": null,
   "metadata": {},
   "outputs": [],
   "source": []
  },
  {
   "cell_type": "code",
   "execution_count": null,
   "metadata": {},
   "outputs": [],
   "source": []
  }
 ],
 "metadata": {
  "kernelspec": {
   "display_name": "Python 3",
   "language": "python",
   "name": "python3"
  },
  "language_info": {
   "codemirror_mode": {
    "name": "ipython",
    "version": 3
   },
   "file_extension": ".py",
   "mimetype": "text/x-python",
   "name": "python",
   "nbconvert_exporter": "python",
   "pygments_lexer": "ipython3",
   "version": "3.8.5"
  }
 },
 "nbformat": 4,
 "nbformat_minor": 4
}
