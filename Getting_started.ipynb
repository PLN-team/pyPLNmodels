{
 "cells": [
  {
   "cell_type": "markdown",
   "id": "5aa8fdb0",
   "metadata": {},
   "source": [
    "# pyPLNmodels Overview\n",
    "\n",
    "pyPLNmodels is a Python package that simplifies the analysis of multivariate, high-dimensional count data using Poisson Lognormal models. It offers a variety of tools for model fitting, clustering, visualization, and inference.\n",
    "\n",
    "This notebook demonstrates some of the features of the package. For a statistical description, you may see the [documentation](https://pypi.org/project/pyPLNmodels/). \n",
    "\n",
    "In this tutorial, we focus on the fact that the count variables, `endog`, are determined by less noisy `latent_variables`. The package infers these `latent_variables` to help reduce noise and improve the quality of the data.\n"
   ]
  },
  {
   "cell_type": "markdown",
   "id": "410166b2-44ac-4771-8b8d-ac0396e55309",
   "metadata": {},
   "source": [
    "### Package installation"
   ]
  },
  {
   "cell_type": "code",
   "execution_count": null,
   "id": "17824a1c-6767-4bcb-a606-8aed9588bd28",
   "metadata": {},
   "outputs": [],
   "source": [
    "!pip install pyPLNmodels"
   ]
  },
  {
   "cell_type": "markdown",
   "id": "6a835854-b347-4618-81e8-21d205298160",
   "metadata": {},
   "source": [
    "### Loading data"
   ]
  },
  {
   "cell_type": "markdown",
   "id": "0b3d2d29-3b83-45ac-b244-69d7628e7acc",
   "metadata": {},
   "source": [
    "The package comes with a single-cell RNA sequencing dataset to present the functionalities:"
   ]
  },
  {
   "cell_type": "code",
   "execution_count": 32,
   "id": "f9fd4f29-cd47-4312-81dc-c8920bc40521",
   "metadata": {
    "scrolled": true
   },
   "outputs": [
    {
     "name": "stdout",
     "output_type": "stream",
     "text": [
      "Returning scRNA dataset of size (400, 100)\n",
      "Keys: dict_keys(['endog', 'labels', 'labels_1hot'])\n"
     ]
    }
   ],
   "source": [
    "from pyPLNmodels import load_scrna\n",
    "\n",
    "data = load_scrna()\n",
    "print(\"Keys:\", data.keys())"
   ]
  },
  {
   "cell_type": "markdown",
   "id": "49d9f356-3442-45d3-a84b-5474379c70de",
   "metadata": {},
   "source": [
    "This dataset contains the number of occurrences of each gene in each cell in\n",
    "`data[\"endog\"]`. Each cell is labelled by its cell-type in `data[\"labels\"]`."
   ]
  },
  {
   "cell_type": "code",
   "execution_count": 33,
   "id": "cadc5df1-e2bd-40da-b083-64d83f297ae4",
   "metadata": {
    "scrolled": true
   },
   "outputs": [
    {
     "data": {
      "text/html": [
       "<div>\n",
       "<style scoped>\n",
       "    .dataframe tbody tr th:only-of-type {\n",
       "        vertical-align: middle;\n",
       "    }\n",
       "\n",
       "    .dataframe tbody tr th {\n",
       "        vertical-align: top;\n",
       "    }\n",
       "\n",
       "    .dataframe thead th {\n",
       "        text-align: right;\n",
       "    }\n",
       "</style>\n",
       "<table border=\"1\" class=\"dataframe\">\n",
       "  <thead>\n",
       "    <tr style=\"text-align: right;\">\n",
       "      <th></th>\n",
       "      <th>FTL</th>\n",
       "      <th>MALAT1</th>\n",
       "      <th>FTH1</th>\n",
       "      <th>TMSB4X</th>\n",
       "      <th>CD74</th>\n",
       "      <th>SPP1</th>\n",
       "      <th>APOE</th>\n",
       "      <th>B2M</th>\n",
       "      <th>ACTB</th>\n",
       "      <th>HLA-DRA</th>\n",
       "      <th>...</th>\n",
       "      <th>RPS15</th>\n",
       "      <th>ACTG1</th>\n",
       "      <th>RPL3</th>\n",
       "      <th>TIMP1</th>\n",
       "      <th>RPL15</th>\n",
       "      <th>RPL30</th>\n",
       "      <th>RPL12</th>\n",
       "      <th>CCL3L1</th>\n",
       "      <th>S100A8</th>\n",
       "      <th>NPC2</th>\n",
       "    </tr>\n",
       "  </thead>\n",
       "  <tbody>\n",
       "    <tr>\n",
       "      <th>count</th>\n",
       "      <td>400.000000</td>\n",
       "      <td>400.00000</td>\n",
       "      <td>400.000000</td>\n",
       "      <td>400.000000</td>\n",
       "      <td>400.000000</td>\n",
       "      <td>400.000000</td>\n",
       "      <td>400.000000</td>\n",
       "      <td>400.000000</td>\n",
       "      <td>400.000000</td>\n",
       "      <td>400.000000</td>\n",
       "      <td>...</td>\n",
       "      <td>400.000000</td>\n",
       "      <td>400.000000</td>\n",
       "      <td>400.000000</td>\n",
       "      <td>400.00000</td>\n",
       "      <td>400.000000</td>\n",
       "      <td>400.000000</td>\n",
       "      <td>400.000000</td>\n",
       "      <td>400.000000</td>\n",
       "      <td>400.000000</td>\n",
       "      <td>400.000000</td>\n",
       "    </tr>\n",
       "    <tr>\n",
       "      <th>mean</th>\n",
       "      <td>53.812500</td>\n",
       "      <td>120.03250</td>\n",
       "      <td>30.950000</td>\n",
       "      <td>61.335000</td>\n",
       "      <td>31.352500</td>\n",
       "      <td>7.777500</td>\n",
       "      <td>8.720000</td>\n",
       "      <td>53.380000</td>\n",
       "      <td>31.382500</td>\n",
       "      <td>20.807500</td>\n",
       "      <td>...</td>\n",
       "      <td>11.072500</td>\n",
       "      <td>6.415000</td>\n",
       "      <td>10.575000</td>\n",
       "      <td>1.45250</td>\n",
       "      <td>9.152500</td>\n",
       "      <td>10.317500</td>\n",
       "      <td>9.560000</td>\n",
       "      <td>0.517500</td>\n",
       "      <td>1.295000</td>\n",
       "      <td>3.315000</td>\n",
       "    </tr>\n",
       "    <tr>\n",
       "      <th>std</th>\n",
       "      <td>223.516501</td>\n",
       "      <td>117.78444</td>\n",
       "      <td>72.127619</td>\n",
       "      <td>81.243332</td>\n",
       "      <td>81.850822</td>\n",
       "      <td>57.400829</td>\n",
       "      <td>47.140717</td>\n",
       "      <td>53.022203</td>\n",
       "      <td>54.820566</td>\n",
       "      <td>56.922411</td>\n",
       "      <td>...</td>\n",
       "      <td>11.094592</td>\n",
       "      <td>10.301849</td>\n",
       "      <td>10.843585</td>\n",
       "      <td>6.28223</td>\n",
       "      <td>11.281286</td>\n",
       "      <td>9.741609</td>\n",
       "      <td>10.399605</td>\n",
       "      <td>3.185131</td>\n",
       "      <td>7.313802</td>\n",
       "      <td>9.167655</td>\n",
       "    </tr>\n",
       "    <tr>\n",
       "      <th>min</th>\n",
       "      <td>0.000000</td>\n",
       "      <td>0.00000</td>\n",
       "      <td>0.000000</td>\n",
       "      <td>0.000000</td>\n",
       "      <td>0.000000</td>\n",
       "      <td>0.000000</td>\n",
       "      <td>0.000000</td>\n",
       "      <td>0.000000</td>\n",
       "      <td>0.000000</td>\n",
       "      <td>0.000000</td>\n",
       "      <td>...</td>\n",
       "      <td>0.000000</td>\n",
       "      <td>0.000000</td>\n",
       "      <td>0.000000</td>\n",
       "      <td>0.00000</td>\n",
       "      <td>0.000000</td>\n",
       "      <td>0.000000</td>\n",
       "      <td>0.000000</td>\n",
       "      <td>0.000000</td>\n",
       "      <td>0.000000</td>\n",
       "      <td>0.000000</td>\n",
       "    </tr>\n",
       "    <tr>\n",
       "      <th>25%</th>\n",
       "      <td>2.000000</td>\n",
       "      <td>39.00000</td>\n",
       "      <td>2.000000</td>\n",
       "      <td>17.750000</td>\n",
       "      <td>1.000000</td>\n",
       "      <td>0.000000</td>\n",
       "      <td>0.000000</td>\n",
       "      <td>20.750000</td>\n",
       "      <td>4.000000</td>\n",
       "      <td>0.000000</td>\n",
       "      <td>...</td>\n",
       "      <td>3.000000</td>\n",
       "      <td>1.000000</td>\n",
       "      <td>3.000000</td>\n",
       "      <td>0.00000</td>\n",
       "      <td>3.000000</td>\n",
       "      <td>4.000000</td>\n",
       "      <td>3.000000</td>\n",
       "      <td>0.000000</td>\n",
       "      <td>0.000000</td>\n",
       "      <td>0.000000</td>\n",
       "    </tr>\n",
       "    <tr>\n",
       "      <th>50%</th>\n",
       "      <td>4.000000</td>\n",
       "      <td>97.00000</td>\n",
       "      <td>6.000000</td>\n",
       "      <td>37.500000</td>\n",
       "      <td>3.000000</td>\n",
       "      <td>0.000000</td>\n",
       "      <td>0.000000</td>\n",
       "      <td>42.000000</td>\n",
       "      <td>13.000000</td>\n",
       "      <td>1.000000</td>\n",
       "      <td>...</td>\n",
       "      <td>9.000000</td>\n",
       "      <td>3.000000</td>\n",
       "      <td>7.500000</td>\n",
       "      <td>0.00000</td>\n",
       "      <td>6.000000</td>\n",
       "      <td>8.000000</td>\n",
       "      <td>6.500000</td>\n",
       "      <td>0.000000</td>\n",
       "      <td>0.000000</td>\n",
       "      <td>0.000000</td>\n",
       "    </tr>\n",
       "    <tr>\n",
       "      <th>75%</th>\n",
       "      <td>14.000000</td>\n",
       "      <td>171.00000</td>\n",
       "      <td>22.000000</td>\n",
       "      <td>74.000000</td>\n",
       "      <td>16.000000</td>\n",
       "      <td>0.000000</td>\n",
       "      <td>1.000000</td>\n",
       "      <td>64.000000</td>\n",
       "      <td>33.000000</td>\n",
       "      <td>7.000000</td>\n",
       "      <td>...</td>\n",
       "      <td>15.000000</td>\n",
       "      <td>7.000000</td>\n",
       "      <td>15.000000</td>\n",
       "      <td>1.00000</td>\n",
       "      <td>11.000000</td>\n",
       "      <td>14.000000</td>\n",
       "      <td>13.000000</td>\n",
       "      <td>0.000000</td>\n",
       "      <td>0.000000</td>\n",
       "      <td>1.000000</td>\n",
       "    </tr>\n",
       "    <tr>\n",
       "      <th>max</th>\n",
       "      <td>3489.000000</td>\n",
       "      <td>1171.00000</td>\n",
       "      <td>620.000000</td>\n",
       "      <td>833.000000</td>\n",
       "      <td>619.000000</td>\n",
       "      <td>739.000000</td>\n",
       "      <td>569.000000</td>\n",
       "      <td>429.000000</td>\n",
       "      <td>391.000000</td>\n",
       "      <td>429.000000</td>\n",
       "      <td>...</td>\n",
       "      <td>68.000000</td>\n",
       "      <td>76.000000</td>\n",
       "      <td>84.000000</td>\n",
       "      <td>85.00000</td>\n",
       "      <td>90.000000</td>\n",
       "      <td>69.000000</td>\n",
       "      <td>71.000000</td>\n",
       "      <td>34.000000</td>\n",
       "      <td>102.000000</td>\n",
       "      <td>90.000000</td>\n",
       "    </tr>\n",
       "  </tbody>\n",
       "</table>\n",
       "<p>8 rows × 100 columns</p>\n",
       "</div>"
      ],
      "text/plain": [
       "               FTL      MALAT1        FTH1      TMSB4X        CD74  \\\n",
       "count   400.000000   400.00000  400.000000  400.000000  400.000000   \n",
       "mean     53.812500   120.03250   30.950000   61.335000   31.352500   \n",
       "std     223.516501   117.78444   72.127619   81.243332   81.850822   \n",
       "min       0.000000     0.00000    0.000000    0.000000    0.000000   \n",
       "25%       2.000000    39.00000    2.000000   17.750000    1.000000   \n",
       "50%       4.000000    97.00000    6.000000   37.500000    3.000000   \n",
       "75%      14.000000   171.00000   22.000000   74.000000   16.000000   \n",
       "max    3489.000000  1171.00000  620.000000  833.000000  619.000000   \n",
       "\n",
       "             SPP1        APOE         B2M        ACTB     HLA-DRA  ...  \\\n",
       "count  400.000000  400.000000  400.000000  400.000000  400.000000  ...   \n",
       "mean     7.777500    8.720000   53.380000   31.382500   20.807500  ...   \n",
       "std     57.400829   47.140717   53.022203   54.820566   56.922411  ...   \n",
       "min      0.000000    0.000000    0.000000    0.000000    0.000000  ...   \n",
       "25%      0.000000    0.000000   20.750000    4.000000    0.000000  ...   \n",
       "50%      0.000000    0.000000   42.000000   13.000000    1.000000  ...   \n",
       "75%      0.000000    1.000000   64.000000   33.000000    7.000000  ...   \n",
       "max    739.000000  569.000000  429.000000  391.000000  429.000000  ...   \n",
       "\n",
       "            RPS15       ACTG1        RPL3      TIMP1       RPL15       RPL30  \\\n",
       "count  400.000000  400.000000  400.000000  400.00000  400.000000  400.000000   \n",
       "mean    11.072500    6.415000   10.575000    1.45250    9.152500   10.317500   \n",
       "std     11.094592   10.301849   10.843585    6.28223   11.281286    9.741609   \n",
       "min      0.000000    0.000000    0.000000    0.00000    0.000000    0.000000   \n",
       "25%      3.000000    1.000000    3.000000    0.00000    3.000000    4.000000   \n",
       "50%      9.000000    3.000000    7.500000    0.00000    6.000000    8.000000   \n",
       "75%     15.000000    7.000000   15.000000    1.00000   11.000000   14.000000   \n",
       "max     68.000000   76.000000   84.000000   85.00000   90.000000   69.000000   \n",
       "\n",
       "            RPL12      CCL3L1      S100A8        NPC2  \n",
       "count  400.000000  400.000000  400.000000  400.000000  \n",
       "mean     9.560000    0.517500    1.295000    3.315000  \n",
       "std     10.399605    3.185131    7.313802    9.167655  \n",
       "min      0.000000    0.000000    0.000000    0.000000  \n",
       "25%      3.000000    0.000000    0.000000    0.000000  \n",
       "50%      6.500000    0.000000    0.000000    0.000000  \n",
       "75%     13.000000    0.000000    0.000000    1.000000  \n",
       "max     71.000000   34.000000  102.000000   90.000000  \n",
       "\n",
       "[8 rows x 100 columns]"
      ]
     },
     "execution_count": 33,
     "metadata": {},
     "output_type": "execute_result"
    }
   ],
   "source": [
    "data[\"endog\"].describe()"
   ]
  },
  {
   "cell_type": "code",
   "execution_count": 34,
   "id": "c4c7c3dd-f072-4a08-ba25-9258443e0119",
   "metadata": {
    "scrolled": true
   },
   "outputs": [
    {
     "data": {
      "text/plain": [
       "count              400\n",
       "unique               3\n",
       "top       T_cells_CD8+\n",
       "freq               162\n",
       "Name: standard_true_celltype_v5, dtype: object"
      ]
     },
     "execution_count": 34,
     "metadata": {},
     "output_type": "execute_result"
    }
   ],
   "source": [
    "data[\"labels\"].describe()"
   ]
  },
  {
   "cell_type": "markdown",
   "id": "6de207e2-789c-4963-9527-8d887b0b3205",
   "metadata": {},
   "source": [
    "### How to specify a model"
   ]
  },
  {
   "cell_type": "markdown",
   "id": "2ec02090-4c94-4d20-a7e0-97e3472e149f",
   "metadata": {},
   "source": [
    "Each model can be specified in two distinct manners:\n",
    "\n",
    "* by formula (similar to R), where a data frame is passed and the formula is specified using the `from_formula` initialization:"
   ]
  },
  {
   "cell_type": "code",
   "execution_count": 35,
   "id": "7df6ccb0-57d6-4302-8a15-9d586fd1e02d",
   "metadata": {},
   "outputs": [
    {
     "name": "stdout",
     "output_type": "stream",
     "text": [
      "Setting the offsets to zero.\n"
     ]
    }
   ],
   "source": [
    "from pyPLNmodels import Pln\n",
    "\n",
    "pln = Pln.from_formula(\"endog ~ 1  + labels \", data=data)"
   ]
  },
  {
   "cell_type": "markdown",
   "id": "520f6acf-0b73-4723-907b-024ec9d07f9b",
   "metadata": {},
   "source": [
    "We rely on the [patsy](https://github.com/pydata/patsy) package for the formula parsing.\n",
    "\n",
    "* by specifying the `endog`, `exog`, and `offsets` matrices directly:\n"
   ]
  },
  {
   "cell_type": "code",
   "execution_count": 36,
   "id": "2d5082ac-d7cb-4278-b438-45204214f8b1",
   "metadata": {},
   "outputs": [],
   "source": [
    "import numpy as np\n",
    "\n",
    "endog = data[\"endog\"]\n",
    "exog = data[\"labels\"]\n",
    "offsets = np.zeros((endog.shape))\n",
    "pln = Pln(endog=endog, exog=exog, offsets=offsets)"
   ]
  },
  {
   "cell_type": "markdown",
   "id": "0cdc6e87-3256-41cf-b3fd-a5a3ecdf1833",
   "metadata": {},
   "source": [
    "The parameters `exog` and `offsets` are optional. By default,\n",
    "`exog` is set to represent an intercept, which is a vector of ones. Similarly,\n",
    "`offsets` defaults to a matrix of zeros. The `offsets` should be on the scale of the log of the counts."
   ]
  },
  {
   "cell_type": "markdown",
   "id": "dca01d49-d8c2-4f78-926a-9487704b4852",
   "metadata": {},
   "source": [
    "### Motivation"
   ]
  },
  {
   "cell_type": "markdown",
   "id": "93a32bc3-e2b0-474e-8c0a-f75edccca942",
   "metadata": {},
   "source": [
    "Suppose we try to infer the cell type of each cell, using Linear Discriminant Analysis (LDA):"
   ]
  },
  {
   "cell_type": "code",
   "execution_count": 37,
   "id": "c091bb6f-49c4-4e21-a334-ce9648d70830",
   "metadata": {},
   "outputs": [],
   "source": [
    "from sklearn.model_selection import train_test_split\n",
    "from sklearn.discriminant_analysis import LinearDiscriminantAnalysis as LDA\n",
    "\n",
    "\n",
    "def get_classif_error(data, y):\n",
    "    data_train, data_test, y_train, y_test = train_test_split(\n",
    "        data, y, test_size=0.33, random_state=42\n",
    "    )\n",
    "    lda = LDA()\n",
    "    lda.fit(data_train, y_train)\n",
    "    y_pred = lda.predict(data_test)\n",
    "    return np.mean(y_pred != y_test)"
   ]
  },
  {
   "cell_type": "markdown",
   "id": "820410d0-48a4-492d-9c1d-6aa3c75291c0",
   "metadata": {},
   "source": [
    "Training directly on the count variables gives: "
   ]
  },
  {
   "cell_type": "code",
   "execution_count": 38,
   "id": "09f4a98b-f993-476b-9e93-da59a654543d",
   "metadata": {},
   "outputs": [
    {
     "name": "stdout",
     "output_type": "stream",
     "text": [
      "Returning scRNA dataset of size (1000, 100)\n"
     ]
    },
    {
     "data": {
      "text/plain": [
       "0.31212121212121213"
      ]
     },
     "execution_count": 38,
     "metadata": {},
     "output_type": "execute_result"
    }
   ],
   "source": [
    "data = load_scrna(n_samples=1000)\n",
    "get_classif_error(data[\"endog\"], data[\"labels\"])"
   ]
  },
  {
   "cell_type": "markdown",
   "id": "0dbad4bf-8127-4f2a-bea4-13ff2e4b8223",
   "metadata": {},
   "source": [
    "While training on the latent variables infered by the PLN models is much better: "
   ]
  },
  {
   "cell_type": "code",
   "execution_count": 39,
   "id": "55f0bebf-35aa-46da-bbad-cb47a2ee18ae",
   "metadata": {},
   "outputs": [
    {
     "name": "stderr",
     "output_type": "stream",
     "text": [
      "Upper bound on the fitting time:   4%| | 15/400 [00:00<00:02, 142.30"
     ]
    },
    {
     "name": "stdout",
     "output_type": "stream",
     "text": [
      "Setting the offsets to zero.\n",
      "Fitting a Pln model with full covariance.\n",
      "Intializing parameters ...\n",
      "Initialization finished.\n"
     ]
    },
    {
     "name": "stderr",
     "output_type": "stream",
     "text": [
      "Upper bound on the fitting time:  99%|▉| 397/400 [00:04<00:00, 99.53"
     ]
    },
    {
     "name": "stdout",
     "output_type": "stream",
     "text": [
      "Maximum number of iterations (400)  reached in 4.1 seconds.\n",
      "Last  criterion = 5.4e-06 . Required tolerance = 1e-06\n"
     ]
    },
    {
     "data": {
      "text/plain": [
       "0.17575757575757575"
      ]
     },
     "execution_count": 39,
     "metadata": {},
     "output_type": "execute_result"
    }
   ],
   "source": [
    "get_classif_error(Pln(data[\"endog\"]).fit().latent_variables, data[\"labels\"])"
   ]
  },
  {
   "cell_type": "markdown",
   "id": "57993d4c-5f53-4bdf-b449-13209355e251",
   "metadata": {},
   "source": [
    "### Covariance analysis with the Poisson lognormal model (aka `Pln`)"
   ]
  },
  {
   "cell_type": "markdown",
   "id": "a20ba3bb-6613-4baa-a407-51a002366701",
   "metadata": {},
   "source": [
    "This is the building-block of the models implemented in this package. It fits a Poisson lognormal model to the data:"
   ]
  },
  {
   "cell_type": "code",
   "execution_count": 40,
   "id": "5fb07108-0f0a-43d7-9cce-4ee21054fe2a",
   "metadata": {},
   "outputs": [
    {
     "name": "stderr",
     "output_type": "stream",
     "text": [
      "\n",
      "\u001b[Aer bound on the fitting time:   0%|      | 0/400 [00:00<?, ?it/s]"
     ]
    },
    {
     "name": "stdout",
     "output_type": "stream",
     "text": [
      "Setting the offsets to zero.\n",
      "Fitting a Pln model with full covariance.\n",
      "Intializing parameters ...\n",
      "Initialization finished.\n"
     ]
    },
    {
     "name": "stderr",
     "output_type": "stream",
     "text": [
      "\n",
      "\u001b[A\n",
      "\u001b[A\n",
      "\u001b[A\n",
      "\u001b[A\n",
      "\u001b[A\n",
      "\u001b[A\n",
      "\u001b[A\n",
      "\u001b[A\n",
      "\u001b[A\n",
      "\u001b[A\n",
      "\u001b[A\n",
      "\u001b[A\n",
      "\u001b[A\n",
      "\u001b[A\n",
      "\u001b[A\n",
      "\u001b[A\n",
      "\u001b[A\n",
      "\u001b[A\n",
      "\u001b[A\n",
      "\u001b[A\n",
      "\u001b[A\n",
      "\u001b[A\n",
      "\u001b[A\n",
      "\u001b[A\n",
      "\u001b[A\n",
      "\u001b[A\n",
      "\u001b[A\n",
      "\u001b[A\n",
      "\u001b[A\n",
      "\u001b[A\n",
      "\u001b[A\n",
      "\u001b[A\n",
      "\u001b[A\n",
      "\u001b[A\n",
      "\u001b[A\n",
      "\u001b[A\n",
      "\u001b[A\n",
      "\n",
      "pper bound on the fitting time: 100%|█| 400/400 [00:04<00:00, 94.37"
     ]
    },
    {
     "name": "stdout",
     "output_type": "stream",
     "text": [
      "Maximum number of iterations (400)  reached in 4.1 seconds.\n",
      "Last  criterion = 5.4e-06 . Required tolerance = 1e-06\n",
      "A multivariate Pln with full covariance.\n",
      "======================================================================\n",
      "     Loglike   Dimension    Nb param         BIC         AIC         ICL\n",
      "   -226568.5         100        5350 245046.7454    231918.5    80324.89\n",
      "\n",
      "======================================================================\n",
      "* Useful attributes\n",
      "    .latent_variables .latent_positions .model_parameters .latent_parameters .optim_details\n",
      "* Useful methods\n",
      "    .transform() .show() .predict() .sigma() .projected_latent_variables() .plot_correlation_circle() .biplot() .viz() .pca_pairplot() .plot_expected_vs_true()\n",
      "* Additional attributes for Pln are:\n",
      "    None\n",
      "* Additional methods for Pln are:\n",
      "    .get_variance_coef() .get_confidence_interval_coef() .summary() .get_coef_p_values() .plot_regression_forest()\n"
     ]
    },
    {
     "name": "stderr",
     "output_type": "stream",
     "text": [
      "\n",
      "pper bound on the fitting time: 100%|█| 400/400 [00:10<00:00, 39.64"
     ]
    },
    {
     "data": {
      "image/png": "[encoded data removed]",
      "text/plain": [
       "<Figure size 720x720 with 6 Axes>"
      ]
     },
     "metadata": {
      "needs_background": "light"
     },
     "output_type": "display_data"
    }
   ],
   "source": [
    "pln = Pln.from_formula(\"endog ~ 1  + labels \", data=data)\n",
    "pln.fit()\n",
    "print(pln)\n",
    "transformed_data = pln.transform()\n",
    "pln.show()"
   ]
  },
  {
   "cell_type": "markdown",
   "id": "9d3b5b31-658d-4028-9ce6-c4f2d4beed62",
   "metadata": {},
   "source": [
    "Note that for this specific model, variance estimation on the regression coefficients can be estimated and p-values can be obtained:"
   ]
  },
  {
   "cell_type": "code",
   "execution_count": 41,
   "id": "cbe2988d-6322-481a-8267-ee0909e90b78",
   "metadata": {},
   "outputs": [
    {
     "name": "stdout",
     "output_type": "stream",
     "text": [
      "Coefficients and p-values per dimension:\n",
      "\n",
      "Dimension: FTL\n",
      "Exog Name                Coefficient         P-value\n",
      "Intercept                   4.402156           1e-16\n",
      "labels[T.T_cells_CD4+]       -3.249073           1e-16\n",
      "labels[T.T_cells_CD8+]       -3.561637           1e-16\n",
      "\n",
      "Dimension: MALAT1\n",
      "Exog Name                Coefficient         P-value\n",
      "Intercept                   4.417019           1e-16\n",
      "labels[T.T_cells_CD4+]        0.032829            0.76\n",
      "labels[T.T_cells_CD8+]       -0.569526         3.2e-09\n",
      "\n",
      "Dimension: FTH1\n",
      "Exog Name                Coefficient         P-value\n",
      "Intercept                   3.860034           1e-16\n",
      "labels[T.T_cells_CD4+]       -2.069193           1e-16\n",
      "labels[T.T_cells_CD8+]       -2.868554           1e-16\n",
      "\n",
      "Dimension: TMSB4X\n",
      "Exog Name                Coefficient         P-value\n",
      "Intercept                   4.329525           1e-16\n",
      "labels[T.T_cells_CD4+]       -0.983464           2e-09\n",
      "labels[T.T_cells_CD8+]       -1.288844           1e-16\n",
      "\n",
      "Dimension: CD74\n",
      "Exog Name                Coefficient         P-value\n",
      "Intercept                   3.906632           1e-16\n",
      "labels[T.T_cells_CD4+]       -3.380890           1e-16\n",
      "labels[T.T_cells_CD8+]       -3.161625         4.4e-16\n",
      "\n",
      "Dimension: SPP1\n",
      "Exog Name                Coefficient         P-value\n",
      "Intercept                   0.303908          0.0033\n",
      "labels[T.T_cells_CD4+]       -4.352699           1e-16\n",
      "labels[T.T_cells_CD8+]       -5.013385         3.8e-11\n",
      "\n",
      "Dimension: APOE\n",
      "Exog Name                Coefficient         P-value\n",
      "Intercept                   0.900306           1e-16\n",
      "labels[T.T_cells_CD4+]       -4.159139           1e-16\n",
      "labels[T.T_cells_CD8+]       -4.189674         5.8e-09\n",
      "\n",
      "Dimension: B2M\n",
      "Exog Name                Coefficient         P-value\n",
      "Intercept                   3.926511           1e-16\n",
      "labels[T.T_cells_CD4+]       -0.355635           0.048\n",
      "labels[T.T_cells_CD8+]       -0.611745         2.1e-12\n",
      "\n",
      "Dimension: ACTB\n",
      "Exog Name                Coefficient         P-value\n",
      "Intercept                   3.542323           1e-16\n",
      "labels[T.T_cells_CD4+]       -1.204668           1e-16\n",
      "labels[T.T_cells_CD8+]       -1.439588           1e-16\n",
      "\n",
      "Dimension: HLA-DRA\n",
      "Exog Name                Coefficient         P-value\n",
      "Intercept                   3.548539           1e-16\n",
      "labels[T.T_cells_CD4+]       -4.594671           1e-16\n",
      "labels[T.T_cells_CD8+]       -4.191198           1e-16\n",
      "\n",
      "Dimension: APOC1\n",
      "Exog Name                Coefficient         P-value\n",
      "Intercept                   0.606958         7.3e-09\n",
      "labels[T.T_cells_CD4+]       -4.259591           1e-16\n",
      "labels[T.T_cells_CD8+]       -4.749904           1e-16\n",
      "\n",
      "Dimension: MT-CO1\n",
      "Exog Name                Coefficient         P-value\n",
      "Intercept                   3.653787           1e-16\n",
      "labels[T.T_cells_CD4+]       -0.934218           6e-05\n",
      "labels[T.T_cells_CD8+]       -1.205145           1e-16\n",
      "\n",
      "Dimension: TMSB10\n",
      "Exog Name                Coefficient         P-value\n",
      "Intercept                   3.290463           1e-16\n",
      "labels[T.T_cells_CD4+]       -1.133681          0.0041\n",
      "labels[T.T_cells_CD8+]       -1.819082           1e-16\n",
      "\n",
      "Dimension: EEF1A1\n",
      "Exog Name                Coefficient         P-value\n",
      "Intercept                   2.909868           1e-16\n",
      "labels[T.T_cells_CD4+]       -0.035157            0.96\n",
      "labels[T.T_cells_CD8+]       -0.892311           1e-16\n",
      "\n",
      "Dimension: HLA-DRB1\n",
      "Exog Name                Coefficient         P-value\n",
      "Intercept                   2.762066           1e-16\n",
      "labels[T.T_cells_CD4+]       -4.165888           1e-16\n",
      "labels[T.T_cells_CD8+]       -3.509303           1e-16\n",
      "\n",
      "Dimension: HLA-DPA1\n",
      "Exog Name                Coefficient         P-value\n",
      "Intercept                   2.506889           1e-16\n",
      "labels[T.T_cells_CD4+]       -3.746490           1e-16\n",
      "labels[T.T_cells_CD8+]       -3.364480           1e-16\n",
      "\n",
      "Dimension: HLA-DPB1\n",
      "Exog Name                Coefficient         P-value\n",
      "Intercept                   2.614390           1e-16\n",
      "labels[T.T_cells_CD4+]       -3.751533           1e-16\n",
      "labels[T.T_cells_CD8+]       -3.167159           1e-16\n",
      "\n",
      "Dimension: MT-CO2\n",
      "Exog Name                Coefficient         P-value\n",
      "Intercept                   2.979986           1e-16\n",
      "labels[T.T_cells_CD4+]       -0.599096         1.2e-10\n",
      "labels[T.T_cells_CD8+]       -0.858275         6.7e-15\n",
      "\n",
      "Dimension: LYZ\n",
      "Exog Name                Coefficient         P-value\n",
      "Intercept                   2.115493           1e-16\n",
      "labels[T.T_cells_CD4+]       -4.953959           1e-16\n",
      "labels[T.T_cells_CD8+]       -5.237957           1e-16\n",
      "\n",
      "Dimension: RPLP1\n",
      "Exog Name                Coefficient         P-value\n",
      "Intercept                   3.075397           1e-16\n",
      "labels[T.T_cells_CD4+]       -0.150821            0.15\n",
      "labels[T.T_cells_CD8+]       -0.744327           1e-16\n",
      "\n",
      "Dimension: C1QB\n",
      "Exog Name                Coefficient         P-value\n",
      "Intercept                   0.916152          0.0004\n",
      "labels[T.T_cells_CD4+]       -4.747705           1e-16\n",
      "labels[T.T_cells_CD8+]       -5.091115           1e-16\n",
      "\n",
      "Dimension: RPL41\n",
      "Exog Name                Coefficient         P-value\n",
      "Intercept                   2.954968           1e-16\n",
      "labels[T.T_cells_CD4+]       -0.449397            0.18\n",
      "labels[T.T_cells_CD8+]       -1.213248           1e-16\n",
      "\n",
      "Dimension: MT-CO3\n",
      "Exog Name                Coefficient         P-value\n",
      "Intercept                   3.068213           1e-16\n",
      "labels[T.T_cells_CD4+]       -0.726334           0.023\n",
      "labels[T.T_cells_CD8+]       -0.928424           1e-16\n",
      "\n",
      "Dimension: RPL10\n",
      "Exog Name                Coefficient         P-value\n",
      "Intercept                   3.090844           1e-16\n",
      "labels[T.T_cells_CD4+]       -0.239729            0.45\n",
      "labels[T.T_cells_CD8+]       -0.899234           1e-16\n",
      "\n",
      "Dimension: RPS27\n",
      "Exog Name                Coefficient         P-value\n",
      "Intercept                   2.880151           1e-16\n",
      "labels[T.T_cells_CD4+]        0.065217            0.87\n",
      "labels[T.T_cells_CD8+]       -0.452155         6.2e-06\n",
      "\n",
      "Dimension: CCL18\n",
      "Exog Name                Coefficient         P-value\n",
      "Intercept                  -5.332972           1e-16\n",
      "labels[T.T_cells_CD4+]       -2.980431         4.1e-12\n",
      "labels[T.T_cells_CD8+]       -4.083104           1e-16\n",
      "\n",
      "Dimension: HLA-B\n",
      "Exog Name                Coefficient         P-value\n",
      "Intercept                   2.500476           1e-16\n",
      "labels[T.T_cells_CD4+]       -0.328018         0.00048\n",
      "labels[T.T_cells_CD8+]       -0.282021           0.013\n",
      "\n",
      "Dimension: C1QA\n",
      "Exog Name                Coefficient         P-value\n",
      "Intercept                   1.180102           1e-16\n",
      "labels[T.T_cells_CD4+]       -4.723179           1e-16\n",
      "labels[T.T_cells_CD8+]       -5.215234           1e-16\n",
      "\n",
      "Dimension: MT-ND4\n",
      "Exog Name                Coefficient         P-value\n",
      "Intercept                   2.916211           1e-16\n",
      "labels[T.T_cells_CD4+]       -1.071612           1e-16\n",
      "labels[T.T_cells_CD8+]       -1.127844           1e-16\n",
      "\n",
      "Dimension: RPS18\n",
      "Exog Name                Coefficient         P-value\n",
      "Intercept                   2.717867           1e-16\n",
      "labels[T.T_cells_CD4+]       -0.134788            0.36\n",
      "labels[T.T_cells_CD8+]       -0.910504           1e-16\n",
      "\n",
      "Dimension: RPL13\n",
      "Exog Name                Coefficient         P-value\n",
      "Intercept                   2.806030           1e-16\n",
      "labels[T.T_cells_CD4+]       -0.035981            0.84\n",
      "labels[T.T_cells_CD8+]       -0.660315         1.5e-10\n",
      "\n",
      "Dimension: TPT1\n",
      "Exog Name                Coefficient         P-value\n",
      "Intercept                   2.731313           1e-16\n",
      "labels[T.T_cells_CD4+]       -0.399173           0.033\n",
      "labels[T.T_cells_CD8+]       -1.054199           1e-16\n",
      "\n",
      "Dimension: RPL13A\n",
      "Exog Name                Coefficient         P-value\n",
      "Intercept                   2.694501           1e-16\n",
      "labels[T.T_cells_CD4+]       -0.421542         1.7e-06\n",
      "labels[T.T_cells_CD8+]       -0.983437           1e-16\n",
      "\n",
      "Dimension: RPS12\n",
      "Exog Name                Coefficient         P-value\n",
      "Intercept                   2.521675           1e-16\n",
      "labels[T.T_cells_CD4+]        0.048319            0.63\n",
      "labels[T.T_cells_CD8+]       -0.521742         6.2e-07\n",
      "\n",
      "Dimension: CTSD\n",
      "Exog Name                Coefficient         P-value\n",
      "Intercept                   1.162334           1e-16\n",
      "labels[T.T_cells_CD4+]       -2.646586           1e-16\n",
      "labels[T.T_cells_CD8+]       -2.247058           1e-16\n",
      "\n",
      "Dimension: CST3\n",
      "Exog Name                Coefficient         P-value\n",
      "Intercept                   2.520879           1e-16\n",
      "labels[T.T_cells_CD4+]       -4.671206           1e-16\n",
      "labels[T.T_cells_CD8+]       -5.091558           1e-16\n",
      "\n",
      "Dimension: RPS19\n",
      "Exog Name                Coefficient         P-value\n",
      "Intercept                   2.711087           1e-16\n",
      "labels[T.T_cells_CD4+]       -0.209056           0.029\n",
      "labels[T.T_cells_CD8+]       -0.773797         4.8e-06\n",
      "\n",
      "Dimension: CXCL8\n",
      "Exog Name                Coefficient         P-value\n",
      "Intercept                  -1.420534           1e-16\n",
      "labels[T.T_cells_CD4+]       -4.634748           1e-16\n",
      "labels[T.T_cells_CD8+]       -6.575087           1e-16\n",
      "\n",
      "Dimension: HLA-A\n",
      "Exog Name                Coefficient         P-value\n",
      "Intercept                   2.067574           1e-16\n",
      "labels[T.T_cells_CD4+]       -0.160673            0.04\n",
      "labels[T.T_cells_CD8+]       -0.227967           0.026\n",
      "\n",
      "Dimension: RPS2\n",
      "Exog Name                Coefficient         P-value\n",
      "Intercept                   2.678674           1e-16\n",
      "labels[T.T_cells_CD4+]       -0.514719         2.7e-08\n",
      "labels[T.T_cells_CD8+]       -1.101067           1e-16\n",
      "\n",
      "Dimension: C1QC\n",
      "Exog Name                Coefficient         P-value\n",
      "Intercept                   0.803542         1.3e-10\n",
      "labels[T.T_cells_CD4+]       -5.252930           1e-16\n",
      "labels[T.T_cells_CD8+]       -5.470026           1e-16\n",
      "\n",
      "Dimension: HBB\n",
      "Exog Name                Coefficient         P-value\n",
      "Intercept                  -4.704937           1e-16\n",
      "labels[T.T_cells_CD4+]        0.595317         4.8e-08\n",
      "labels[T.T_cells_CD8+]        0.060196            0.59\n",
      "\n",
      "Dimension: GAPDH\n",
      "Exog Name                Coefficient         P-value\n",
      "Intercept                   2.113566           1e-16\n",
      "labels[T.T_cells_CD4+]       -0.917955         9.4e-13\n",
      "labels[T.T_cells_CD8+]       -1.289575           1e-16\n",
      "\n",
      "Dimension: MT2A\n",
      "Exog Name                Coefficient         P-value\n",
      "Intercept                   0.092128            0.56\n",
      "labels[T.T_cells_CD4+]       -1.074317         3.8e-15\n",
      "labels[T.T_cells_CD8+]       -1.070220           1e-16\n",
      "\n",
      "Dimension: RPL28\n",
      "Exog Name                Coefficient         P-value\n",
      "Intercept                   2.581766           1e-16\n",
      "labels[T.T_cells_CD4+]       -0.105378            0.31\n",
      "labels[T.T_cells_CD8+]       -0.551275         1.7e-07\n",
      "\n",
      "Dimension: MT-ATP6\n",
      "Exog Name                Coefficient         P-value\n",
      "Intercept                   2.472567           1e-16\n",
      "labels[T.T_cells_CD4+]       -0.621650         6.2e-07\n",
      "labels[T.T_cells_CD8+]       -0.681000         1.4e-10\n",
      "\n",
      "Dimension: MT-ND3\n",
      "Exog Name                Coefficient         P-value\n",
      "Intercept                   2.446732           1e-16\n",
      "labels[T.T_cells_CD4+]       -0.793026         8.1e-10\n",
      "labels[T.T_cells_CD8+]       -0.870008           1e-16\n",
      "\n",
      "Dimension: RPL39\n",
      "Exog Name                Coefficient         P-value\n",
      "Intercept                   2.465029           1e-16\n",
      "labels[T.T_cells_CD4+]       -0.418816         9.2e-08\n",
      "labels[T.T_cells_CD8+]       -1.360253           1e-16\n",
      "\n",
      "Dimension: VIM\n",
      "Exog Name                Coefficient         P-value\n",
      "Intercept                   1.919406           1e-16\n",
      "labels[T.T_cells_CD4+]       -1.140987           1e-16\n",
      "labels[T.T_cells_CD8+]       -1.563820           1e-16\n",
      "\n",
      "Dimension: SAT1\n",
      "Exog Name                Coefficient         P-value\n",
      "Intercept                   2.322076           1e-16\n",
      "labels[T.T_cells_CD4+]       -2.506151           1e-16\n",
      "labels[T.T_cells_CD8+]       -3.216776           1e-16\n",
      "\n",
      "Dimension: RPL34\n",
      "Exog Name                Coefficient         P-value\n",
      "Intercept                   2.663035           1e-16\n",
      "labels[T.T_cells_CD4+]       -0.232302          0.0076\n",
      "labels[T.T_cells_CD8+]       -0.963049           1e-16\n",
      "\n",
      "Dimension: CCL4\n",
      "Exog Name                Coefficient         P-value\n",
      "Intercept                  -1.465043           1e-16\n",
      "labels[T.T_cells_CD4+]       -1.574152           1e-16\n",
      "labels[T.T_cells_CD8+]        1.417997           1e-16\n",
      "\n",
      "Dimension: CCL3\n",
      "Exog Name                Coefficient         P-value\n",
      "Intercept                  -0.860036           1e-16\n",
      "labels[T.T_cells_CD4+]       -4.450221           1e-16\n",
      "labels[T.T_cells_CD8+]       -2.197273           1e-16\n",
      "\n",
      "Dimension: PTMA\n",
      "Exog Name                Coefficient         P-value\n",
      "Intercept                   2.494895           1e-16\n",
      "labels[T.T_cells_CD4+]       -0.543090          0.0059\n",
      "labels[T.T_cells_CD8+]       -1.262929           1e-16\n",
      "\n",
      "Dimension: TYROBP\n",
      "Exog Name                Coefficient         P-value\n",
      "Intercept                   2.558360           1e-16\n",
      "labels[T.T_cells_CD4+]       -4.531960           1e-16\n",
      "labels[T.T_cells_CD8+]       -4.894555           1e-16\n",
      "\n",
      "Dimension: PSAP\n",
      "Exog Name                Coefficient         P-value\n",
      "Intercept                   2.103348           1e-16\n",
      "labels[T.T_cells_CD4+]       -3.301434           1e-16\n",
      "labels[T.T_cells_CD8+]       -3.499079           1e-16\n",
      "\n",
      "Dimension: RPLP2\n",
      "Exog Name                Coefficient         P-value\n",
      "Intercept                   2.629179           1e-16\n",
      "labels[T.T_cells_CD4+]       -0.245344            0.23\n",
      "labels[T.T_cells_CD8+]       -0.705710         1.8e-11\n",
      "\n",
      "Dimension: RPL21\n",
      "Exog Name                Coefficient         P-value\n",
      "Intercept                   2.483045           1e-16\n",
      "labels[T.T_cells_CD4+]       -0.284021            0.46\n",
      "labels[T.T_cells_CD8+]       -1.023707           1e-16\n",
      "\n",
      "Dimension: PFN1\n",
      "Exog Name                Coefficient         P-value\n",
      "Intercept                   2.042892           1e-16\n",
      "labels[T.T_cells_CD4+]       -0.813150          0.0046\n",
      "labels[T.T_cells_CD8+]       -1.097070           1e-16\n",
      "\n",
      "Dimension: RPL32\n",
      "Exog Name                Coefficient         P-value\n",
      "Intercept                   2.518466           1e-16\n",
      "labels[T.T_cells_CD4+]       -0.124004            0.17\n",
      "labels[T.T_cells_CD8+]       -0.858759         6.5e-10\n",
      "\n",
      "Dimension: RPS14\n",
      "Exog Name                Coefficient         P-value\n",
      "Intercept                   2.607957           1e-16\n",
      "labels[T.T_cells_CD4+]       -0.237895           0.025\n",
      "labels[T.T_cells_CD8+]       -0.806802         1.1e-08\n",
      "\n",
      "Dimension: RPS6\n",
      "Exog Name                Coefficient         P-value\n",
      "Intercept                   2.312462           1e-16\n",
      "labels[T.T_cells_CD4+]       -0.094588             0.4\n",
      "labels[T.T_cells_CD8+]       -0.894929           1e-16\n",
      "\n",
      "Dimension: HLA-DQA1\n",
      "Exog Name                Coefficient         P-value\n",
      "Intercept                   1.428898         7.1e-07\n",
      "labels[T.T_cells_CD4+]       -4.308477           1e-16\n",
      "labels[T.T_cells_CD8+]       -3.867998           1e-16\n",
      "\n",
      "Dimension: MT-ND2\n",
      "Exog Name                Coefficient         P-value\n",
      "Intercept                   2.400384           1e-16\n",
      "labels[T.T_cells_CD4+]       -0.678931          0.0021\n",
      "labels[T.T_cells_CD8+]       -0.921163         5.8e-15\n",
      "\n",
      "Dimension: HLA-C\n",
      "Exog Name                Coefficient         P-value\n",
      "Intercept                   1.960174           1e-16\n",
      "labels[T.T_cells_CD4+]       -0.304590            0.16\n",
      "labels[T.T_cells_CD8+]       -0.353259          0.0012\n",
      "\n",
      "Dimension: HLA-DRB5\n",
      "Exog Name                Coefficient         P-value\n",
      "Intercept                   1.122739           1e-16\n",
      "labels[T.T_cells_CD4+]       -3.907457           1e-16\n",
      "labels[T.T_cells_CD8+]       -3.255537           1e-16\n",
      "\n",
      "Dimension: CTSB\n",
      "Exog Name                Coefficient         P-value\n",
      "Intercept                   1.628362           1e-16\n",
      "labels[T.T_cells_CD4+]       -3.265303           1e-16\n",
      "labels[T.T_cells_CD8+]       -3.717627           1e-16\n",
      "\n",
      "Dimension: RPS15A\n",
      "Exog Name                Coefficient         P-value\n",
      "Intercept                   2.354692           1e-16\n",
      "labels[T.T_cells_CD4+]       -0.026143            0.84\n",
      "labels[T.T_cells_CD8+]       -0.601370         3.2e-05\n",
      "\n",
      "Dimension: CXCL10\n",
      "Exog Name                Coefficient         P-value\n",
      "Intercept                  -5.087374           1e-16\n",
      "labels[T.T_cells_CD4+]       -3.483098           1e-16\n",
      "labels[T.T_cells_CD8+]       -3.583514           1e-16\n",
      "\n",
      "Dimension: S100A11\n",
      "Exog Name                Coefficient         P-value\n",
      "Intercept                   2.199136           1e-16\n",
      "labels[T.T_cells_CD4+]       -2.310604           1e-16\n",
      "labels[T.T_cells_CD8+]       -2.762526         1.5e-13\n",
      "\n",
      "Dimension: RPS29\n",
      "Exog Name                Coefficient         P-value\n",
      "Intercept                   2.321640           1e-16\n",
      "labels[T.T_cells_CD4+]       -0.110970            0.25\n",
      "labels[T.T_cells_CD8+]       -0.501642         6.2e-09\n",
      "\n",
      "Dimension: RPS27A\n",
      "Exog Name                Coefficient         P-value\n",
      "Intercept                   2.414954           1e-16\n",
      "labels[T.T_cells_CD4+]       -0.008085            0.93\n",
      "labels[T.T_cells_CD8+]       -0.607977         1.1e-09\n",
      "\n",
      "Dimension: RPS23\n",
      "Exog Name                Coefficient         P-value\n",
      "Intercept                   2.276480           1e-16\n",
      "labels[T.T_cells_CD4+]       -0.236113           0.036\n",
      "labels[T.T_cells_CD8+]       -0.938100           1e-16\n",
      "\n",
      "Dimension: RPL11\n",
      "Exog Name                Coefficient         P-value\n",
      "Intercept                   2.465976           1e-16\n",
      "labels[T.T_cells_CD4+]       -0.163239            0.15\n",
      "labels[T.T_cells_CD8+]       -0.878576         2.2e-16\n",
      "\n",
      "Dimension: RPL27A\n",
      "Exog Name                Coefficient         P-value\n",
      "Intercept                   2.382464           1e-16\n",
      "labels[T.T_cells_CD4+]       -0.588900         8.8e-10\n",
      "labels[T.T_cells_CD8+]       -0.961214         7.5e-15\n",
      "\n",
      "Dimension: RPS3A\n",
      "Exog Name                Coefficient         P-value\n",
      "Intercept                   2.256160         9.9e-09\n",
      "labels[T.T_cells_CD4+]       -0.271606           0.019\n",
      "labels[T.T_cells_CD8+]       -1.056401           1e-16\n",
      "\n",
      "Dimension: RPL19\n",
      "Exog Name                Coefficient         P-value\n",
      "Intercept                   2.361265         0.00023\n",
      "labels[T.T_cells_CD4+]       -0.164257            0.15\n",
      "labels[T.T_cells_CD8+]       -0.737888         4.4e-16\n",
      "\n",
      "Dimension: RPS28\n",
      "Exog Name                Coefficient         P-value\n",
      "Intercept                   2.402884          0.0073\n",
      "labels[T.T_cells_CD4+]       -0.304758         0.00062\n",
      "labels[T.T_cells_CD8+]       -0.876707           1e-16\n",
      "\n",
      "Dimension: LGALS1\n",
      "Exog Name                Coefficient         P-value\n",
      "Intercept                   1.613954           1e-16\n",
      "labels[T.T_cells_CD4+]       -2.712060           1e-16\n",
      "labels[T.T_cells_CD8+]       -2.973252           1e-16\n",
      "\n",
      "Dimension: RPS8\n",
      "Exog Name                Coefficient         P-value\n",
      "Intercept                   2.266629           1e-16\n",
      "labels[T.T_cells_CD4+]       -0.133899             0.2\n",
      "labels[T.T_cells_CD8+]       -0.862799         1.2e-12\n",
      "\n",
      "Dimension: S100A6\n",
      "Exog Name                Coefficient         P-value\n",
      "Intercept                   1.865447           1e-16\n",
      "labels[T.T_cells_CD4+]       -1.233814           1e-16\n",
      "labels[T.T_cells_CD8+]       -1.512131           1e-16\n",
      "\n",
      "Dimension: SRGN\n",
      "Exog Name                Coefficient         P-value\n",
      "Intercept                   2.190837           1e-16\n",
      "labels[T.T_cells_CD4+]       -1.134013           1e-16\n",
      "labels[T.T_cells_CD8+]       -1.563130         4.3e-13\n",
      "\n",
      "Dimension: RPL26\n",
      "Exog Name                Coefficient         P-value\n",
      "Intercept                   2.329974           1e-16\n",
      "labels[T.T_cells_CD4+]       -0.667203         6.7e-12\n",
      "labels[T.T_cells_CD8+]       -1.372265           1e-16\n",
      "\n",
      "Dimension: RPS3\n",
      "Exog Name                Coefficient         P-value\n",
      "Intercept                   2.088398         2.2e-16\n",
      "labels[T.T_cells_CD4+]        0.204367           0.035\n",
      "labels[T.T_cells_CD8+]       -0.387992         0.00028\n",
      "\n",
      "Dimension: RPS4X\n",
      "Exog Name                Coefficient         P-value\n",
      "Intercept                   2.053414           1e-16\n",
      "labels[T.T_cells_CD4+]        0.120281            0.28\n",
      "labels[T.T_cells_CD8+]       -0.572980         1.7e-07\n",
      "\n",
      "Dimension: RPS24\n",
      "Exog Name                Coefficient         P-value\n",
      "Intercept                   2.392177           1e-16\n",
      "labels[T.T_cells_CD4+]       -0.655452         5.7e-09\n",
      "labels[T.T_cells_CD8+]       -1.050239           1e-16\n",
      "\n",
      "Dimension: CSTB\n",
      "Exog Name                Coefficient         P-value\n",
      "Intercept                   0.893773           1e-16\n",
      "labels[T.T_cells_CD4+]       -1.926959           1e-16\n",
      "labels[T.T_cells_CD8+]       -2.078968           1e-16\n",
      "\n",
      "Dimension: RPL18A\n",
      "Exog Name                Coefficient         P-value\n",
      "Intercept                   2.222365           1e-16\n",
      "labels[T.T_cells_CD4+]       -0.162620            0.42\n",
      "labels[T.T_cells_CD8+]       -0.960323           1e-16\n",
      "\n",
      "Dimension: HLA-DQB1\n",
      "Exog Name                Coefficient         P-value\n",
      "Intercept                   1.717263           1e-16\n",
      "labels[T.T_cells_CD4+]       -3.885801           1e-16\n",
      "labels[T.T_cells_CD8+]       -3.478989           1e-16\n",
      "\n",
      "Dimension: S100A9\n",
      "Exog Name                Coefficient         P-value\n",
      "Intercept                   0.154100            0.15\n",
      "labels[T.T_cells_CD4+]       -4.285623           1e-16\n",
      "labels[T.T_cells_CD8+]       -4.987350           1e-16\n",
      "\n",
      "Dimension: RPS15\n",
      "Exog Name                Coefficient         P-value\n",
      "Intercept                   2.391178           1e-16\n",
      "labels[T.T_cells_CD4+]       -0.290772          0.0024\n",
      "labels[T.T_cells_CD8+]       -0.936554         2.2e-16\n",
      "\n",
      "Dimension: ACTG1\n",
      "Exog Name                Coefficient         P-value\n",
      "Intercept                   1.703897           1e-16\n",
      "labels[T.T_cells_CD4+]       -0.623444         2.1e-10\n",
      "labels[T.T_cells_CD8+]       -0.904031          0.0013\n",
      "\n",
      "Dimension: RPL3\n",
      "Exog Name                Coefficient         P-value\n",
      "Intercept                   2.165223           1e-16\n",
      "labels[T.T_cells_CD4+]        0.005594            0.95\n",
      "labels[T.T_cells_CD8+]       -0.709387            0.19\n",
      "\n",
      "Dimension: TIMP1\n",
      "Exog Name                Coefficient         P-value\n",
      "Intercept                   0.301653         0.00048\n",
      "labels[T.T_cells_CD4+]       -2.224427           1e-16\n",
      "labels[T.T_cells_CD8+]       -3.235900         1.8e-15\n",
      "\n",
      "Dimension: RPL15\n",
      "Exog Name                Coefficient         P-value\n",
      "Intercept                   2.243033           1e-16\n",
      "labels[T.T_cells_CD4+]       -0.427539           4e-05\n",
      "labels[T.T_cells_CD8+]       -1.112930         1.9e-08\n",
      "\n",
      "Dimension: RPL30\n",
      "Exog Name                Coefficient         P-value\n",
      "Intercept                   2.021324           1e-16\n",
      "labels[T.T_cells_CD4+]        0.141349            0.34\n",
      "labels[T.T_cells_CD8+]       -0.342049            0.34\n",
      "\n",
      "Dimension: RPL12\n",
      "Exog Name                Coefficient         P-value\n",
      "Intercept                   2.224015           1e-16\n",
      "labels[T.T_cells_CD4+]       -0.377568           0.074\n",
      "labels[T.T_cells_CD8+]       -1.036818           0.013\n",
      "\n",
      "Dimension: CCL3L1\n",
      "Exog Name                Coefficient         P-value\n",
      "Intercept                  -3.346681           1e-16\n",
      "labels[T.T_cells_CD4+]       -3.564253           1e-16\n",
      "labels[T.T_cells_CD8+]       -1.798202           1e-16\n",
      "\n",
      "Dimension: S100A8\n",
      "Exog Name                Coefficient         P-value\n",
      "Intercept                  -1.185972           1e-16\n",
      "labels[T.T_cells_CD4+]       -3.701172           1e-16\n",
      "labels[T.T_cells_CD8+]       -4.373860           1e-16\n",
      "\n",
      "Dimension: NPC2\n",
      "Exog Name                Coefficient         P-value\n",
      "Intercept                   1.925617           1e-16\n",
      "labels[T.T_cells_CD4+]       -3.513684           1e-16\n",
      "labels[T.T_cells_CD8+]       -4.395146           1e-16\n"
     ]
    }
   ],
   "source": [
    "pln.summary()"
   ]
  },
  {
   "cell_type": "markdown",
   "id": "cee815e0-ea90-4c7c-916a-67badc20aca3",
   "metadata": {},
   "source": [
    "### Dimension reduction with the PLN Principal Component Analysis (aka `PlnPCA` and `PlnPCACollection`)"
   ]
  },
  {
   "cell_type": "markdown",
   "id": "91e2336b-66ea-4ba4-b583-ef95e7e3c934",
   "metadata": {},
   "source": [
    "This model excels in dimension reduction and is capable of scaling to\n",
    "high-dimensional count data ($p >> 1$), by constraining the covariance matrix\n",
    "$\\Sigma$ to be of low rank (the larger the rank, the slower the model but the\n",
    "better the approximation). The user may specify the rank when creating the\n",
    "`PlnPCA` object:"
   ]
  },
  {
   "cell_type": "code",
   "execution_count": 42,
   "id": "294f6695",
   "metadata": {},
   "outputs": [
    {
     "name": "stdout",
     "output_type": "stream",
     "text": [
      "Setting the offsets to zero.\n",
      "Fitting a PlnPCA model with 3 principal components.\n",
      "Intializing parameters ...\n"
     ]
    },
    {
     "name": "stderr",
     "output_type": "stream",
     "text": [
      "Upper bound on the fitting time:   4%| | 17/400 [00:00<00:02, 163.31"
     ]
    },
    {
     "name": "stdout",
     "output_type": "stream",
     "text": [
      "Initialization finished.\n"
     ]
    },
    {
     "name": "stderr",
     "output_type": "stream",
     "text": [
      "Upper bound on the fitting time: 100%|▉| 398/400 [00:03<00:00, 119.7"
     ]
    },
    {
     "name": "stdout",
     "output_type": "stream",
     "text": [
      "Maximum number of iterations (400)  reached in 3.7 seconds.\n",
      "Last  criterion = 5.4e-06 . Required tolerance = 1e-06\n"
     ]
    }
   ],
   "source": [
    "from pyPLNmodels import PlnPCA\n",
    "\n",
    "pca = PlnPCA.from_formula(\"endog ~ 1  + labels \", data=data, rank=3).fit()"
   ]
  },
  {
   "cell_type": "markdown",
   "id": "442081e7-a2d4-4665-8568-07c10465dc6e",
   "metadata": {},
   "source": [
    "Multiple ranks can be simultaneously tested\n",
    "within a single object (`PlnPCAcollection`), and select the optimal model."
   ]
  },
  {
   "cell_type": "code",
   "execution_count": 43,
   "id": "1c5e982e-4104-4ef5-a6d0-8bc782394e29",
   "metadata": {},
   "outputs": [
    {
     "name": "stdout",
     "output_type": "stream",
     "text": [
      "Setting the offsets to zero.\n",
      "Adjusting 3 PlnPCA models.\n",
      "\n",
      "Fitting a PlnPCA model with 3 principal components.\n",
      "Intializing parameters ...\n"
     ]
    },
    {
     "name": "stderr",
     "output_type": "stream",
     "text": [
      "\n",
      "\u001b[A\n",
      "\u001b[Aer bound on the fitting time:   3%| | 13/400 [00:00<00:03, 120.22"
     ]
    },
    {
     "name": "stdout",
     "output_type": "stream",
     "text": [
      "Initialization finished.\n"
     ]
    },
    {
     "name": "stderr",
     "output_type": "stream",
     "text": [
      "\n",
      "\u001b[A\n",
      "\u001b[A\n",
      "\u001b[A\n",
      "\u001b[A\n",
      "\u001b[A\n",
      "\u001b[A\n",
      "\u001b[A\n",
      "\u001b[A\n",
      "\u001b[A\n",
      "\u001b[A\n",
      "\u001b[A\n",
      "\u001b[A\n",
      "\u001b[A\n",
      "\u001b[A\n",
      "\u001b[A\n",
      "\u001b[A\n",
      "\u001b[A\n",
      "\u001b[A\n",
      "\u001b[A\n",
      "\u001b[A\n",
      "\u001b[A\n",
      "\u001b[A\n",
      "\u001b[A\n",
      "\u001b[A\n",
      "\u001b[A\n",
      "\u001b[A\n",
      "\u001b[A\n",
      "\u001b[A\n",
      "\u001b[A\n",
      "\u001b[A\n",
      "\u001b[A\n",
      "\u001b[A\n",
      "\u001b[A\n",
      "\u001b[A\n",
      "\n",
      "\u001b[A\u001b[A\n",
      "\n",
      "\u001b[A\u001b[Abound on the fitting time:   3%| | 12/400 [00:00<00:03, 111.33"
     ]
    },
    {
     "name": "stdout",
     "output_type": "stream",
     "text": [
      "Maximum number of iterations (400)  reached in 4.1 seconds.\n",
      "Last  criterion = 5.4e-06 . Required tolerance = 1e-06\n",
      "Fitting a PlnPCA model with 4 principal components.\n",
      "Intializing parameters ...\n",
      "Initialization finished.\n"
     ]
    },
    {
     "name": "stderr",
     "output_type": "stream",
     "text": [
      "\n",
      "\n",
      "\u001b[A\u001b[A\n",
      "\n",
      "\u001b[A\u001b[A\n",
      "\n",
      "\u001b[A\u001b[A\n",
      "\n",
      "\u001b[A\u001b[A\n",
      "\n",
      "\u001b[A\u001b[A\n",
      "\n",
      "\u001b[A\u001b[A\n",
      "\n",
      "\u001b[A\u001b[A\n",
      "\n",
      "\u001b[A\u001b[A\n",
      "\n",
      "\u001b[A\u001b[A\n",
      "\n",
      "\u001b[A\u001b[A\n",
      "\n",
      "\u001b[A\u001b[A\n",
      "\n",
      "\u001b[A\u001b[A\n",
      "\n",
      "\u001b[A\u001b[A\n",
      "\n",
      "\u001b[A\u001b[A\n",
      "\n",
      "\u001b[A\u001b[A\n",
      "\n",
      "\u001b[A\u001b[A\n",
      "\n",
      "\u001b[A\u001b[A\n",
      "\n",
      "\u001b[A\u001b[A\n",
      "\n",
      "\u001b[A\u001b[A\n",
      "\n",
      "\u001b[A\u001b[A\n",
      "\n",
      "\u001b[A\u001b[A\n",
      "\n",
      "\u001b[A\u001b[A\n",
      "\n",
      "\u001b[A\u001b[A\n",
      "\n",
      "\u001b[A\u001b[A\n",
      "\n",
      "\u001b[A\u001b[A\n",
      "\n",
      "\u001b[A\u001b[A\n",
      "\n",
      "\u001b[A\u001b[A\n",
      "\n",
      "\u001b[A\u001b[A\n",
      "\n",
      "\u001b[A\u001b[A\n",
      "\n",
      "\u001b[A\u001b[A\n",
      "\n",
      "\u001b[A\u001b[A\n",
      "\n",
      "\u001b[A\u001b[A\n",
      "\n",
      "\u001b[A\u001b[A\n",
      "\n",
      "\n",
      "\u001b[A\u001b[A\u001b[A\n",
      "\n",
      "\n",
      "\u001b[A\u001b[A\u001b[And on the fitting time:   3%| | 11/400 [00:00<00:03, 109.65"
     ]
    },
    {
     "name": "stdout",
     "output_type": "stream",
     "text": [
      "Maximum number of iterations (400)  reached in 3.6 seconds.\n",
      "Last  criterion = 5.4e-06 . Required tolerance = 1e-06\n",
      "Fitting a PlnPCA model with 5 principal components.\n",
      "Intializing parameters ...\n",
      "Initialization finished.\n"
     ]
    },
    {
     "name": "stderr",
     "output_type": "stream",
     "text": [
      "\n",
      "\n",
      "\n",
      "\u001b[A\u001b[A\u001b[A\n",
      "\n",
      "\n",
      "\u001b[A\u001b[A\u001b[A\n",
      "\n",
      "\n",
      "\u001b[A\u001b[A\u001b[A\n",
      "\n",
      "\n",
      "\u001b[A\u001b[A\u001b[A\n",
      "\n",
      "\n",
      "\u001b[A\u001b[A\u001b[A\n",
      "\n",
      "\n",
      "\u001b[A\u001b[A\u001b[A\n",
      "\n",
      "\n",
      "\u001b[A\u001b[A\u001b[A\n",
      "\n",
      "\n",
      "\u001b[A\u001b[A\u001b[A\n",
      "\n",
      "\n",
      "\u001b[A\u001b[A\u001b[A\n",
      "\n",
      "\n",
      "\u001b[A\u001b[A\u001b[A\n",
      "\n",
      "\n",
      "\u001b[A\u001b[A\u001b[A\n",
      "\n",
      "\n",
      "\u001b[A\u001b[A\u001b[A\n",
      "\n",
      "\n",
      "\u001b[A\u001b[A\u001b[A\n",
      "\n",
      "\n",
      "\u001b[A\u001b[A\u001b[A\n",
      "\n",
      "\n",
      "\u001b[A\u001b[A\u001b[A\n",
      "\n",
      "\n",
      "\u001b[A\u001b[A\u001b[A\n",
      "\n",
      "\n",
      "\u001b[A\u001b[A\u001b[A\n",
      "\n",
      "\n",
      "\u001b[A\u001b[A\u001b[A\n",
      "\n",
      "\n",
      "\u001b[A\u001b[A\u001b[A\n",
      "\n",
      "\n",
      "\u001b[A\u001b[A\u001b[A\n",
      "\n",
      "\n",
      "\u001b[A\u001b[A\u001b[A\n",
      "\n",
      "\n",
      "\u001b[A\u001b[A\u001b[A\n",
      "\n",
      "\n",
      "\u001b[A\u001b[A\u001b[A\n",
      "\n",
      "\n",
      "\u001b[A\u001b[A\u001b[A\n",
      "\n",
      "\n",
      "\u001b[A\u001b[A\u001b[A\n",
      "\n",
      "\n",
      "\u001b[A\u001b[A\u001b[A\n",
      "\n",
      "\n",
      "\u001b[A\u001b[A\u001b[A\n",
      "\n",
      "\n",
      "\u001b[A\u001b[A\u001b[A\n",
      "\n",
      "\n",
      "\u001b[A\u001b[A\u001b[A\n",
      "\n",
      "\n",
      "\u001b[A\u001b[A\u001b[A\n",
      "\n",
      "\n",
      "\u001b[A\u001b[A\u001b[A\n",
      "\n",
      "\n",
      "\u001b[A\u001b[A\u001b[A\n",
      "\n",
      "\n",
      "\u001b[A\u001b[A\u001b[A\n",
      "\n",
      "\n",
      "Upper bound on the fitting time: 100%|█| 400/400 [00:14<00:00, 27.04\n",
      "Upper bound on the fitting time: 100%|█| 400/400 [00:11<00:00, 36.34\n",
      "Upper bound on the fitting time: 100%|█| 400/400 [00:07<00:00, 54.57\n",
      "\n",
      "pper bound on the fitting time: 100%|█| 400/400 [00:03<00:00, 107.9"
     ]
    },
    {
     "name": "stdout",
     "output_type": "stream",
     "text": [
      "Maximum number of iterations (400)  reached in 3.6 seconds.\n",
      "Last  criterion = 5.4e-06 . Required tolerance = 1e-06\n",
      "======================================================================\n",
      "\n",
      "DONE!\n",
      "Best model (lower BIC): rank 3\n",
      "    Best model(lower AIC): rank  4\n",
      "\n",
      "======================================================================\n",
      "\n",
      "\n",
      "----------------------------------------------------------------------\n",
      "Collection of 3 PlnPCA models with 100 variables.\n",
      "----------------------------------------------------------------------\n",
      " - rank considered: [3, 4, 5]\n",
      " - BIC criterion:      \n",
      "        rank           3**           4           5\n",
      "   criterion      356842      357063      357339\n",
      "\n",
      "Best model (lower BIC): 3\n",
      "\n",
      " - AIC criterion:      \n",
      "        rank           3           4**           5\n",
      "   criterion      355377      355360      355401\n",
      "\n",
      "   Best model (lower AIC): 4\n",
      "----------------------------------------------------------------------\n",
      "* Useful attributes\n",
      "    ['.BIC', '.AIC', '.loglike']\n",
      "* Useful methods\n",
      "    ['.show()', '.best_model()', '.keys()', '.items()', '.values()']\n",
      "----------------------------------------------------------------------\n",
      "\n"
     ]
    },
    {
     "data": {
      "image/png": "[encoded data removed]",
      "text/plain": [
       "<Figure size 720x720 with 2 Axes>"
      ]
     },
     "metadata": {
      "needs_background": "light"
     },
     "output_type": "display_data"
    },
    {
     "name": "stdout",
     "output_type": "stream",
     "text": [
      "A multivariate PlnPCA with 3 principal components.\n",
      "======================================================================\n",
      "     Loglike   Dimension    Nb param         BIC         AIC         ICL\n",
      "  -354780.25         100         597  356842.215   355377.25   352565.29\n",
      "\n",
      "======================================================================\n",
      "* Useful attributes\n",
      "    .latent_variables .latent_positions .model_parameters .latent_parameters .optim_details\n",
      "* Useful methods\n",
      "    .transform() .show() .predict() .sigma() .projected_latent_variables() .plot_correlation_circle() .biplot() .viz() .pca_pairplot() .plot_expected_vs_true()\n",
      "* Additional attributes for PlnPCA are:\n",
      "    None\n",
      "* Additional methods for PlnPCA are:\n",
      "    None\n"
     ]
    }
   ],
   "source": [
    "from pyPLNmodels import PlnPCACollection\n",
    "\n",
    "pca_col = PlnPCACollection.from_formula(\n",
    "    \"endog ~ 1  + labels \", data=data, ranks=[3, 4, 5]\n",
    ")\n",
    "pca_col.fit()\n",
    "print(pca_col)\n",
    "pca_col.show()\n",
    "best_pca = pca_col.best_model()\n",
    "print(best_pca)"
   ]
  },
  {
   "cell_type": "markdown",
   "id": "acf41edd-9c8b-4b9b-a8ca-8c7a03ddefe7",
   "metadata": {},
   "source": [
    "### Zero inflation with the Zero-Inflated PLN Model (aka `ZIPln` and `ZIPlnPCA`)"
   ]
  },
  {
   "cell_type": "markdown",
   "id": "55f1d2f5-5b6f-4141-b07a-91429fb6a49f",
   "metadata": {},
   "source": [
    "The `ZIPln` model, a variant of the PLN model, is designed to handle zero\n",
    "inflation in the data. This model is particularly beneficial when the data contains a significant\n",
    "number of zeros. It incorporates additional covariates for the zero inflation\n",
    "coefficient, which are specified following the pipe `|` symbol in the formula\n",
    "or via the `exog_inflation` keyword. If not specified, it is set to the\n",
    "covariates for the Poisson part. It has extra latent variables estimating the probability of zero inflation."
   ]
  },
  {
   "cell_type": "code",
   "execution_count": 44,
   "id": "5dae1a41-4e0b-47b3-8e91-d3e8e49df89c",
   "metadata": {},
   "outputs": [
    {
     "name": "stdout",
     "output_type": "stream",
     "text": [
      "Setting the offsets to zero.\n",
      "Fitting a ZIPln model with full covariance.\n",
      "Intializing parameters ...\n"
     ]
    },
    {
     "name": "stderr",
     "output_type": "stream",
     "text": [
      "Upper bound on the fitting time:   2%| | 7/400 [00:00<00:06, 63.60it"
     ]
    },
    {
     "name": "stdout",
     "output_type": "stream",
     "text": [
      "Initialization finished.\n"
     ]
    },
    {
     "name": "stderr",
     "output_type": "stream",
     "text": [
      "Upper bound on the fitting time: 100%|▉| 399/400 [00:06<00:00, 65.64"
     ]
    },
    {
     "name": "stdout",
     "output_type": "stream",
     "text": [
      "Maximum number of iterations (400)  reached in 6.9 seconds.\n",
      "Last  criterion = 5.4e-06 . Required tolerance = 1e-06\n",
      "A multivariate ZIPln with full covariance.\n",
      "======================================================================\n",
      "     Loglike   Dimension    Nb param         BIC         AIC         ICL\n",
      "  -228611.25         100        5450 247434.8831   234061.25    86945.38\n",
      "\n",
      "======================================================================\n",
      "* Useful attributes\n",
      "    .latent_variables .latent_positions .model_parameters .latent_parameters .optim_details\n",
      "* Useful methods\n",
      "    .transform() .show() .predict() .sigma() .projected_latent_variables() .plot_correlation_circle() .biplot() .viz() .pca_pairplot() .plot_expected_vs_true()\n",
      "* Additional attributes for ZIPln are:\n",
      "    .latent_prob\n",
      "* Additional methods for ZIPln are:\n",
      "    .viz_prob() .predict_prob_inflation() .pca_pairplot_prob()\n",
      "Transformed data shape:  torch.Size([1000, 100])\n",
      "latent variables of PLN shape torch.Size([1000, 100])\n",
      "latent variables of zero inflation probability shape torch.Size([1000, 100])\n"
     ]
    }
   ],
   "source": [
    "from pyPLNmodels import ZIPln\n",
    "\n",
    "zi = ZIPln.from_formula(\"endog ~ 1 | 1 + labels\", data=data).fit()\n",
    "print(zi)\n",
    "print(\"Transformed data shape: \", zi.transform().shape)\n",
    "z_latent_variables = zi.transform()\n",
    "w_latent_variables = zi.latent_prob\n",
    "print(r\"latent variables of PLN shape\", z_latent_variables.shape)\n",
    "print(r\"latent variables of zero inflation probability shape\", w_latent_variables.shape)"
   ]
  },
  {
   "cell_type": "markdown",
   "id": "dbe31b7b-ba41-47b5-afd9-97bd68136e07",
   "metadata": {},
   "source": [
    "Similar to the `PlnPCA` model, the `ZIPlnPCA` model is capable of dimension reduction, along with a `ZIPlnPCACollection` to get the right number of components (see the documentation https://github.com/PLN-team/pyPLNmodels/)."
   ]
  },
  {
   "cell_type": "markdown",
   "id": "c80c016f-415c-4be0-8797-733f88809e4a",
   "metadata": {},
   "source": [
    "### Network inference with the `PlnNetwork` model"
   ]
  },
  {
   "cell_type": "markdown",
   "id": "96965fcd-4f33-46d2-b755-094247ada6c6",
   "metadata": {},
   "source": [
    "The `PlnNetwork` model is designed to infer the network structure of the data.\n",
    "It creates a network where the nodes are the count variables and the edges\n",
    "represent the correlation between them. The sparsity of the network is ensured\n",
    "via the `penalty` keyword. The larger the penalty, the sparser the network."
   ]
  },
  {
   "cell_type": "code",
   "execution_count": 45,
   "id": "be64bb0e-1660-45a6-928c-61943381950c",
   "metadata": {},
   "outputs": [
    {
     "name": "stderr",
     "output_type": "stream",
     "text": [
      "\n",
      "\u001b[A\n",
      "\u001b[Aer bound on the fitting time:   2%| | 9/400 [00:00<00:04, 85.08it"
     ]
    },
    {
     "name": "stdout",
     "output_type": "stream",
     "text": [
      "Setting the offsets to zero.\n",
      "Fitting a PlnNetwork model with  penalty 2000.\n",
      "Intializing parameters ...\n",
      "Initialization finished.\n"
     ]
    },
    {
     "name": "stderr",
     "output_type": "stream",
     "text": [
      "\n",
      "\u001b[A\n",
      "\u001b[A\n",
      "\u001b[A\n",
      "\u001b[A\n",
      "\u001b[A\n",
      "\u001b[A\n",
      "\u001b[A\n",
      "\u001b[A\n",
      "\u001b[A\n",
      "\u001b[A\n",
      "\u001b[A\n",
      "\u001b[A\n",
      "\u001b[A\n",
      "\u001b[A\n",
      "\u001b[A\n",
      "\u001b[A\n",
      "\u001b[A\n",
      "\u001b[A\n",
      "\u001b[A\n",
      "\u001b[A\n",
      "\u001b[A\n",
      "\u001b[A\n",
      "\u001b[A\n",
      "\u001b[A\n",
      "\u001b[A\n",
      "\u001b[A\n",
      "\u001b[A\n",
      "\u001b[A\n",
      "\u001b[A\n",
      "\u001b[A\n",
      "\u001b[A\n",
      "\u001b[A\n",
      "\u001b[A\n",
      "\u001b[A\n",
      "\u001b[A\n",
      "\u001b[A\n",
      "\u001b[A\n",
      "\u001b[A\n",
      "\u001b[A\n",
      "\u001b[A\n",
      "\u001b[A\n",
      "\u001b[A\n",
      "Upper bound on the fitting time: 100%|█| 400/400 [00:11<00:00, 35.60"
     ]
    },
    {
     "name": "stdout",
     "output_type": "stream",
     "text": [
      "Maximum number of iterations (400)  reached in 4.9 seconds.\n",
      "Last  criterion = 5.39e-06 . Required tolerance = 1e-06\n"
     ]
    },
    {
     "name": "stderr",
     "output_type": "stream",
     "text": [
      "\n",
      "\n",
      "pper bound on the fitting time: 100%|█| 400/400 [00:05<00:00, 79.10"
     ]
    },
    {
     "data": {
      "image/png": "[encoded data removed]",
      "text/plain": [
       "<Figure size 432x288 with 1 Axes>"
      ]
     },
     "metadata": {},
     "output_type": "display_data"
    }
   ],
   "source": [
    "from pyPLNmodels import PlnNetwork\n",
    "\n",
    "net = PlnNetwork.from_formula(\"endog ~ 1  + labels \", data=data, penalty=2000).fit()\n",
    "net.viz_network()"
   ]
  },
  {
   "cell_type": "code",
   "execution_count": 46,
   "id": "1f985e9f-da42-4602-9ebb-7065ed73a79f",
   "metadata": {},
   "outputs": [
    {
     "name": "stdout",
     "output_type": "stream",
     "text": [
      "{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}\n"
     ]
    }
   ],
   "source": [
    "print(net.network)"
   ]
  },
  {
   "cell_type": "markdown",
   "id": "eadb92e1",
   "metadata": {},
   "source": [
    "#### Multiple penalties can be given thanks to the `PlnNetworkCollection` (see the documentation https://github.com/PLN-team/pyPLNmodels/ ) and select the best model."
   ]
  },
  {
   "cell_type": "markdown",
   "id": "72152ef0",
   "metadata": {},
   "source": [
    "### Supervised clustering with the `PlnLDA` model"
   ]
  },
  {
   "cell_type": "markdown",
   "id": "3f9d3127-3a4a-4b5d-b0a1-a10a43fed937",
   "metadata": {},
   "source": [
    "One can do supervised clustering using Linear Discriminant Analysis\n",
    "designed for count data."
   ]
  },
  {
   "cell_type": "code",
   "execution_count": 47,
   "id": "2102a26d",
   "metadata": {},
   "outputs": [
    {
     "name": "stderr",
     "output_type": "stream",
     "text": [
      "Upper bound on the fitting time:   3%| | 11/400 [00:00<00:03, 104.99"
     ]
    },
    {
     "name": "stdout",
     "output_type": "stream",
     "text": [
      "Setting the offsets to zero.\n",
      "Fitting a PlnLDA model with full covariance.\n",
      "Intializing parameters ...\n",
      "Initialization finished.\n"
     ]
    },
    {
     "name": "stderr",
     "output_type": "stream",
     "text": [
      "\n",
      "\u001b[A\n",
      "\u001b[Aer bound on the fitting time:  30%|▎| 15/50 [00:00<00:00, 144.90i"
     ]
    },
    {
     "name": "stdout",
     "output_type": "stream",
     "text": [
      "Maximum number of iterations (400)  reached in 1.8 seconds.\n",
      "Last  criterion = 5.4e-06 . Required tolerance = 1e-06\n",
      "Setting the offsets to zero.\n",
      "Doing a VE step.\n"
     ]
    },
    {
     "name": "stderr",
     "output_type": "stream",
     "text": [
      "\n",
      "\u001b[A\n",
      "\u001b[A\n",
      "\n",
      "\u001b[A\u001b[A\n",
      "\n",
      "\u001b[A\u001b[Abound on the fitting time:  28%|▎| 14/50 [00:00<00:00, 132.67i"
     ]
    },
    {
     "name": "stdout",
     "output_type": "stream",
     "text": [
      "Done!\n",
      "Setting the offsets to zero.\n",
      "Doing a VE step.\n"
     ]
    },
    {
     "name": "stderr",
     "output_type": "stream",
     "text": [
      "\n",
      "\n",
      "\u001b[A\u001b[A\n",
      "\n",
      "\u001b[A\u001b[A\n",
      "\n",
      "\n",
      "\u001b[A\u001b[A\u001b[A\n",
      "\n",
      "\n",
      "\u001b[A\u001b[A\u001b[And on the fitting time:  28%|▎| 14/50 [00:00<00:00, 131.83i"
     ]
    },
    {
     "name": "stdout",
     "output_type": "stream",
     "text": [
      "Done!\n",
      "Setting the offsets to zero.\n",
      "Doing a VE step.\n"
     ]
    },
    {
     "name": "stderr",
     "output_type": "stream",
     "text": [
      "\n",
      "\n",
      "\n",
      "\u001b[A\u001b[A\u001b[A\n",
      "\n",
      "\n",
      "Upper bound on the fitting time: 100%|█| 50/50 [00:01<00:00, 39.99it\n",
      "Upper bound on the fitting time: 100%|█| 50/50 [00:00<00:00, 58.93it\n",
      "\n",
      "pper bound on the fitting time: 100%|█| 50/50 [00:00<00:00, 115.55i"
     ]
    },
    {
     "name": "stdout",
     "output_type": "stream",
     "text": [
      "Done!\n"
     ]
    },
    {
     "data": {
      "image/png": "[encoded data removed]",
      "text/plain": [
       "<Figure size 432x288 with 1 Axes>"
      ]
     },
     "metadata": {
      "needs_background": "light"
     },
     "output_type": "display_data"
    },
    {
     "name": "stderr",
     "output_type": "stream",
     "text": [
      "\n",
      "pper bound on the fitting time: 100%|█| 400/400 [00:03<00:00, 123.3"
     ]
    }
   ],
   "source": [
    "from pyPLNmodels import PlnLDA, plot_confusion_matrix\n",
    "\n",
    "endog_train, endog_test = data[\"endog\"][:500], data[\"endog\"][500:]\n",
    "labels_train, labels_test = data[\"labels\"][:500], data[\"labels\"][500:]\n",
    "lda = PlnLDA(endog_train, clusters=labels_train).fit()\n",
    "pred_test = lda.predict_clusters(endog_test)\n",
    "plot_confusion_matrix(pred_test, labels_test)"
   ]
  },
  {
   "cell_type": "markdown",
   "id": "82ae05ed",
   "metadata": {},
   "source": [
    "### Unsupervised clustering with the `PlnMixture` model\n",
    "\n",
    "\n"
   ]
  },
  {
   "cell_type": "markdown",
   "id": "9d218d49-4cba-420b-a559-0c74d2608f68",
   "metadata": {},
   "source": [
    "Unsupervised clustering is another way to group similar observations in your data. This is useful when you do not have pre-labeled clusters."
   ]
  },
  {
   "cell_type": "code",
   "execution_count": null,
   "id": "81885b93",
   "metadata": {},
   "outputs": [
    {
     "name": "stderr",
     "output_type": "stream",
     "text": [
      "Upper bound on the fitting time:   0%|      | 0/150 [00:00<?, ?it/s]"
     ]
    },
    {
     "name": "stdout",
     "output_type": "stream",
     "text": [
      "Setting the offsets to zero.\n",
      "Fitting a PlnMixture model with diagonal covariances and 3 clusters.\n",
      "Intialization ...\n",
      "Fitting a PlnDiag model with full covariance.\n",
      "Intializing parameters ...\n",
      "Initialization finished.\n"
     ]
    }
   ],
   "source": [
    "from pyPLNmodels import PlnMixture\n",
    "\n",
    "mixture = PlnMixture(data[\"endog\"].iloc[:, :10], n_cluster=3).fit()\n",
    "mixture.show()"
   ]
  },
  {
   "cell_type": "markdown",
   "id": "a335e088",
   "metadata": {},
   "source": [
    "#### Multiple number of clusters can be specified thanks to the `PlnMixtureCollection` (see the documentation https://github.com/PLN-team/pyPLNmodels/) and select the best model."
   ]
  },
  {
   "cell_type": "markdown",
   "id": "b24f951a",
   "metadata": {},
   "source": [
    "### Autoregressive models with the `PlnAR` model"
   ]
  },
  {
   "cell_type": "markdown",
   "id": "1afeb6d0-1807-4bf3-af9d-f8b8e265c2fa",
   "metadata": {},
   "source": [
    "The `PlnAR` model is designed to handle time series data. It is a simple (one step) autoregressive model that can be used to predict the next time point.\n",
    "(This assumes the endog variable is a time series, which is not the case in the example below)"
   ]
  },
  {
   "cell_type": "code",
   "execution_count": null,
   "id": "c4c47a32-5346-4b5a-9955-29c08a9cae70",
   "metadata": {},
   "outputs": [],
   "source": [
    "from pyPLNmodels import PlnAR\n",
    "\n",
    "ar = PlnAR.from_formula(\"endog ~ 1  + labels \", data=data).fit()\n",
    "ar.show()"
   ]
  },
  {
   "cell_type": "markdown",
   "id": "d36f3dc6-69f2-4512-85d1-3169cb0e33c3",
   "metadata": {},
   "source": [
    "### Visualization"
   ]
  },
  {
   "cell_type": "markdown",
   "id": "c38c77dc-570c-41a3-8eea-38618471282e",
   "metadata": {},
   "source": [
    "The `.show()` method shows insights on the model. The `.viz()` method allows to visualize the latent variables. Many more visualization methods exists, and are listed when printing each model."
   ]
  },
  {
   "cell_type": "code",
   "execution_count": null,
   "id": "769dcce6-f9bb-4ddd-bd75-771ea1964fbb",
   "metadata": {},
   "outputs": [],
   "source": [
    "pln.viz(colors=data[\"labels\"])"
   ]
  },
  {
   "cell_type": "code",
   "execution_count": null,
   "id": "fd64d2c7-ed93-46ef-af58-0e54daa32559",
   "metadata": {
    "scrolled": true
   },
   "outputs": [],
   "source": [
    "pln.biplot(column_names=[\"MALAT1\", \"RPL21\", \"CTSB\"], colors=data[\"labels\"])"
   ]
  },
  {
   "cell_type": "markdown",
   "id": "fef606dc-8cb2-475c-86d6-fa00f73d3189",
   "metadata": {},
   "source": [
    "### More functionalities\n",
    "\n",
    "More functionalities, depending on the model, are implemented. You can see each of them by printing the model:"
   ]
  },
  {
   "cell_type": "markdown",
   "id": "9630ce99-b121-462e-bd1d-496cd6ab3362",
   "metadata": {},
   "source": [
    "#### Pln"
   ]
  },
  {
   "cell_type": "code",
   "execution_count": null,
   "id": "5b470f60-a34d-4625-bda3-38183605b54f",
   "metadata": {},
   "outputs": [],
   "source": [
    "print(pln)"
   ]
  },
  {
   "cell_type": "markdown",
   "id": "664a1b1f-2f8f-4e8f-891c-d2d715533477",
   "metadata": {},
   "source": [
    "#### `PlnPCA`"
   ]
  },
  {
   "cell_type": "code",
   "execution_count": null,
   "id": "14bfef56-522a-476e-b30b-6824da2caa1c",
   "metadata": {},
   "outputs": [],
   "source": [
    "print(pca)"
   ]
  },
  {
   "cell_type": "markdown",
   "id": "55664c04-760b-4553-bf59-7731cf4b7c7f",
   "metadata": {},
   "source": [
    "##### `PlnPCACollection`"
   ]
  },
  {
   "cell_type": "code",
   "execution_count": null,
   "id": "35b5ceb1-7a6b-45a5-bf0d-72f6999ca299",
   "metadata": {},
   "outputs": [],
   "source": [
    "print(pca_col)"
   ]
  },
  {
   "cell_type": "markdown",
   "id": "3eec206c-52e8-438e-93db-01b4d4cb6260",
   "metadata": {},
   "source": [
    "#### `ZIPln`"
   ]
  },
  {
   "cell_type": "code",
   "execution_count": null,
   "id": "a73934c7-bb0f-45aa-945f-f3b7cd413c45",
   "metadata": {},
   "outputs": [],
   "source": [
    "print(zi)"
   ]
  },
  {
   "cell_type": "markdown",
   "id": "13008f1f-38c7-4671-85a0-3f7e9735d96c",
   "metadata": {},
   "source": [
    "#### `PlnNetwork`"
   ]
  },
  {
   "cell_type": "code",
   "execution_count": null,
   "id": "40e443eb-9356-4ca1-8a47-69d0a7d6baec",
   "metadata": {},
   "outputs": [],
   "source": [
    "print(net)"
   ]
  },
  {
   "cell_type": "markdown",
   "id": "f0f0cdb7-1e76-4bc9-98ea-a827534a6b53",
   "metadata": {},
   "source": [
    "#### `PlnLDA`"
   ]
  },
  {
   "cell_type": "code",
   "execution_count": null,
   "id": "0b2b4a7a-70bf-47eb-a7b1-bdb5030e6974",
   "metadata": {},
   "outputs": [],
   "source": [
    "print(lda)"
   ]
  },
  {
   "cell_type": "markdown",
   "id": "72901c06-a1ed-416e-863e-ad3bc5b42140",
   "metadata": {},
   "source": [
    "#### `PlnMixture`"
   ]
  },
  {
   "cell_type": "code",
   "execution_count": null,
   "id": "803841df-d6d4-47f3-a258-9868673f4f09",
   "metadata": {},
   "outputs": [],
   "source": [
    "print(mixture)"
   ]
  },
  {
   "cell_type": "markdown",
   "id": "afe4b4dd-ee6f-4ca7-8250-1ef12311b43d",
   "metadata": {},
   "source": [
    "#### `PlnAR`"
   ]
  },
  {
   "cell_type": "code",
   "execution_count": null,
   "id": "6de7db8a-f4fa-4dba-9577-754c809b0106",
   "metadata": {},
   "outputs": [],
   "source": [
    "print(ar)"
   ]
  },
  {
   "cell_type": "markdown",
   "id": "cac3944d",
   "metadata": {},
   "source": [
    "## 👐 Contributing\n",
    "\n",
    "If you are interested in contributing to **`pyPLNmodels`**, feel free to submit a pull request. Make sure to read the [CONTRIBUTING.md](https://github.com/PLN-team/pyPLNmodels/blob/main/CONTRIBUTING.md) for the contribution guidelines. We will soon release a public roadmap to guide further development.\n",
    "\n",
    "## ⚡️ Citations\n",
    "\n",
    "If you use **pyPLNmodels**, please cite the following references:\n",
    "- B. Batardiere, J.Kwon, J.Chiquet: *pyPLNmodels: A Python package to analyze multivariate high-dimensional count data.* [pdf](https://joss.theoj.org/papers/10.21105/joss.06969)\n",
    "- J. Chiquet, M. Mariadassou and S. Robin: *Variational inference for probabilistic Poisson PCA, The Annals of Applied Statistics, 12: 2674–2698, 2018.* [pdf](http://dx.doi.org/10.1214/18%2DAOAS1177)\n",
    "- B. Batardiere, J.Chiquet, M.Mariadassou: *Zero-inflation in the Multivariate Poisson Lognormal Family.* [pdf](https://arxiv.org/abs/2405.14711)\n",
    "- B. Batardiere, J.Chiquet, M.Mariadassou: *Evaluating Parameter Uncertainty in the Poisson Lognormal Model with Corrected Variational Estimators.* [pdf](https://arxiv.org/abs/2411.08524)\n",
    "- J. Chiquet, M. Mariadassou, S. Robin: *The Poisson-Lognormal Model as a Versatile Framework for the Joint Analysis of Species Abundances.* [pdf](https://www.frontiersin.org/journals/ecology-and-evolution/articles/10.3389/fevo.2021.588292/full)\n",
    "- J. Chiquet, S. Robin, M. Mariadassou: *Variational Inference for sparse network reconstruction from count data* [pdf](https://proceedings.mlr.press/v97/chiquet19a.html)\n"
   ]
  }
 ],
 "metadata": {
  "kernelspec": {
   "display_name": "Python 3 (ipykernel)",
   "language": "python",
   "name": "python3"
  },
  "language_info": {
   "codemirror_mode": {
    "name": "ipython",
    "version": 3
   },
   "file_extension": ".py",
   "mimetype": "text/x-python",
   "name": "python",
   "nbconvert_exporter": "python",
   "pygments_lexer": "ipython3",
   "version": "3.10.12"
  }
 },
 "nbformat": 4,
 "nbformat_minor": 5
}
